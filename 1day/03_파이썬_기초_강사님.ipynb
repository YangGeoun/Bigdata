{
 "cells": [
  {
   "cell_type": "code",
   "execution_count": 8,
   "id": "8a470cdf-2710-4d8d-8b03-6d15a5460e6f",
   "metadata": {},
   "outputs": [
    {
     "name": "stdout",
     "output_type": "stream",
     "text": [
      "hello python....^^\n"
     ]
    }
   ],
   "source": [
    "### 화면에 출력해줘....컴퓨터에게 요청(명령)하기위한 언어로 작성\n",
    "print(\"hello python....^^\")\n",
    "\n",
    "# 샾을 주석이라고 합니다. (설명을 넣을 때 사용, 실행되지 않아요)\n",
    "# <실행방법 3가지>\n",
    "# - [Ctrl + Enter]\n",
    "# - [Alt + Enter]\n",
    "# - [Shift + Enter] : 가장 많이 사용하는 실행 단축키"
   ]
  },
  {
   "cell_type": "markdown",
   "id": "4d5f29b9-7de8-4d00-92b8-ad80f0e23d85",
   "metadata": {},
   "source": [
    "# 제목 넣기...."
   ]
  },
  {
   "cell_type": "markdown",
   "id": "2ec8e98c-9b27-424d-807b-d4c801c1aed2",
   "metadata": {},
   "source": [
    "## 샾2개 제목"
   ]
  },
  {
   "cell_type": "markdown",
   "id": "049d04fc-4b3e-41b7-9042-f26753fcdbf4",
   "metadata": {},
   "source": [
    "### 샵 3개...\n",
    "#### 샵 4개....\n",
    "##### 샵 5개.....\n",
    "- 샵의 갯에 따라서 글자 폰트의 사이즈가 변경 됩니다.\n",
    "- html을 알고계신 분들은 h1~h5 태그와 같다고 보시면 됩니다."
   ]
  },
  {
   "cell_type": "markdown",
   "id": "2492c928-6020-4269-acfd-8e6d9dc2eef8",
   "metadata": {},
   "source": [
    "### 변수 정의하기"
   ]
  },
  {
   "cell_type": "code",
   "execution_count": 10,
   "id": "2e329e6f-353e-4994-b7ac-60a331c876c8",
   "metadata": {},
   "outputs": [],
   "source": [
    "a = 32"
   ]
  },
  {
   "cell_type": "code",
   "execution_count": 11,
   "id": "3e2be2f0-25e9-4f93-9ec4-f35e44cdc226",
   "metadata": {},
   "outputs": [
    {
     "name": "stdout",
     "output_type": "stream",
     "text": [
      "32\n"
     ]
    }
   ],
   "source": [
    "print(a)"
   ]
  },
  {
   "cell_type": "code",
   "execution_count": 12,
   "id": "6a96691c-bf07-4a83-a10d-f72bf3cc85e4",
   "metadata": {},
   "outputs": [],
   "source": [
    "### 정수형 타입(int type)\n",
    "a = 40"
   ]
  },
  {
   "cell_type": "code",
   "execution_count": 13,
   "id": "5e4f0eab-e0f9-4360-859f-85a2d3393fd3",
   "metadata": {},
   "outputs": [
    {
     "name": "stdout",
     "output_type": "stream",
     "text": [
      "40\n"
     ]
    }
   ],
   "source": [
    "print(a)"
   ]
  },
  {
   "cell_type": "code",
   "execution_count": 14,
   "id": "6943ecc6-4074-4ef0-b41c-6b66a53c9c98",
   "metadata": {},
   "outputs": [
    {
     "data": {
      "text/plain": [
       "1.2"
      ]
     },
     "execution_count": 14,
     "metadata": {},
     "output_type": "execute_result"
    }
   ],
   "source": [
    "### 실수형 타입 (float type)\n",
    "a = 1.2\n",
    "a"
   ]
  },
  {
   "cell_type": "code",
   "execution_count": 15,
   "id": "d216ece3-cd3e-46bd-ba8b-420dfdef9be7",
   "metadata": {},
   "outputs": [
    {
     "data": {
      "text/plain": [
       "'문자열 타입 str 입니다'"
      ]
     },
     "execution_count": 15,
     "metadata": {},
     "output_type": "execute_result"
    }
   ],
   "source": [
    "### 문자열 타입(str type)\n",
    "a = \"문자열 타입 str 입니다\"\n",
    "a"
   ]
  },
  {
   "cell_type": "code",
   "execution_count": null,
   "id": "9aa2d987-ed82-446f-8f06-ce993a59fdc1",
   "metadata": {},
   "outputs": [],
   "source": [
    "### bool 타입\n",
    "a = True\n",
    "a = False"
   ]
  },
  {
   "cell_type": "code",
   "execution_count": 23,
   "id": "a327607f-14f8-4170-b314-d84e79dfcb3f",
   "metadata": {},
   "outputs": [
    {
     "data": {
      "text/plain": [
       "([1, 2, 1.1, 2.22, '리스트 타입'], [2, 3, [1, 2, 1.1, 2.22, '리스트 타입']])"
      ]
     },
     "execution_count": 23,
     "metadata": {},
     "output_type": "execute_result"
    }
   ],
   "source": [
    "### 여러개의 값들을 관리하는 타입\n",
    "# - 리스트(List) 타입 : 다양한 타입들을 콤마로 구분해서 관리할 수 있음\n",
    "#    -- 대괄호로 묶어서 관리합니다. 묶음 자체를 메모리 주소로 관리합니다.\n",
    "#    -- 리스트 안에 리스트를 넣을수도 있습니다.(다양한 타입을 넣을 수 있기 때문에)\n",
    "a = [1, 2, 1.1, 2.22, \"리스트 타입\"]\n",
    "b = [2, 3, a]\n",
    "a, b"
   ]
  },
  {
   "cell_type": "code",
   "execution_count": 28,
   "id": "1b1a592c-15c4-432a-8a91-4d2100e6b23d",
   "metadata": {},
   "outputs": [
    {
     "data": {
      "text/plain": [
       "(1.1, 1, '리스트 타입')"
      ]
     },
     "execution_count": 28,
     "metadata": {},
     "output_type": "execute_result"
    }
   ],
   "source": [
    "a[2], a[0], a[4]"
   ]
  },
  {
   "cell_type": "code",
   "execution_count": 30,
   "id": "53f93ed2-d22c-4d49-8844-dbe638f79346",
   "metadata": {},
   "outputs": [
    {
     "data": {
      "text/plain": [
       "[5, 2, 1.1, 2.22, '리스트 타입']"
      ]
     },
     "execution_count": 30,
     "metadata": {},
     "output_type": "execute_result"
    }
   ],
   "source": [
    "a[0] = 5\n",
    "a"
   ]
  },
  {
   "cell_type": "code",
   "execution_count": 31,
   "id": "983e3084-8600-467e-ba69-0a520c543f3e",
   "metadata": {},
   "outputs": [
    {
     "data": {
      "text/plain": [
       "[2, 3, [5, 2, 1.1, 2.22, '리스트 타입']]"
      ]
     },
     "execution_count": 31,
     "metadata": {},
     "output_type": "execute_result"
    }
   ],
   "source": [
    "b"
   ]
  },
  {
   "cell_type": "code",
   "execution_count": 34,
   "id": "fc32027a-6b4d-4e87-a3ae-482835b5a674",
   "metadata": {},
   "outputs": [
    {
     "data": {
      "text/plain": [
       "([5, 2, 1.1, 2.22, '리스트 타입'], '리스트 타입')"
      ]
     },
     "execution_count": 34,
     "metadata": {},
     "output_type": "execute_result"
    }
   ],
   "source": [
    "b[2], b[2][4]"
   ]
  },
  {
   "cell_type": "code",
   "execution_count": 37,
   "id": "528199b5-9a0a-46c7-a2ed-f39580e1d1d4",
   "metadata": {},
   "outputs": [
    {
     "name": "stdout",
     "output_type": "stream",
     "text": [
      "1\n",
      "3\n",
      "5\n",
      "7\n",
      "9\n"
     ]
    }
   ],
   "source": [
    "### 반복문...여러번 반복하면서 수행해야 하는 경우에 사용\n",
    "# - 반복문 : for문 이라고 칭합니다.\n",
    "# - 작성 방법 : for 임의변수 in 반복범위(=반복패턴) :\n",
    "# - range() 범위를 만들어 내는 기능(함수)\n",
    "#   -- range(시작값, 끝값-1, 반복하면서 증가할 값)\n",
    "#      --- 0부터 1씩 증가하면서 9까지 반복 하겠다는 의미\n",
    "# - range(0, 10, 1)의 결과값은 --> [1, 2, 3, 4, 5, 6, 7, 8, 9]\n",
    "# - for문의 반복은 리스트 안에 있는 인덱스 번호의 공간 갯수 만큼 반복함\n",
    "# - 1번째 반복은 -> 리스트에서 0번째 인덱스의 값을 추출하여 -> i 변수에 넣어 줍니다.\n",
    "for i in range(1, 10, 2) :\n",
    "    print(i)"
   ]
  },
  {
   "cell_type": "code",
   "execution_count": 46,
   "id": "98cef0bf-5f87-43a1-8b5c-82a20079574a",
   "metadata": {},
   "outputs": [
    {
     "name": "stdout",
     "output_type": "stream",
     "text": [
      "5\n",
      "2\n",
      "1.1\n",
      "2.22\n",
      "리스트 타입\n",
      "[5, 2, 1.1, 2.22, '리스트 타입'] [2, 3, [5, 2, 1.1, 2.22, '리스트 타입']]\n"
     ]
    }
   ],
   "source": [
    "for i in a :\n",
    "    print(i)\n",
    "\n",
    "print(a, b)"
   ]
  },
  {
   "cell_type": "code",
   "execution_count": 49,
   "id": "8ac44724-1b66-41dd-a00a-768ba5e8d609",
   "metadata": {},
   "outputs": [
    {
     "data": {
      "text/plain": [
       "{'name': ['홍길동', '이순신', '김유신'],\n",
       " 'age': [30, 40, 50],\n",
       " 'addr': ['서울', '대전', '대구']}"
      ]
     },
     "execution_count": 49,
     "metadata": {},
     "output_type": "execute_result"
    }
   ],
   "source": [
    "name = [\"홍길동\", \"이순신\", \"김유신\"]\n",
    "age  = [30, 40, 50]\n",
    "addr = [\"서울\", \"대전\", \"대구\"]\n",
    "name, age, addr\n",
    "### key와 value로 관리하는 타입(여러개의 데이터를 저장할 수 있는 공간)\n",
    "# -> 딕셔너리(dict) 타입 : 중괄호로 메모리를 관리 {key : value, key1 : value1....}\n",
    "# -> 딕셔너리 안에 value 값으로 딕션너리 또는 일반변수 형태를 사용할 수 있음\n",
    "a_dict = {\"name\" : name, \"age\" : age, \"addr\" : addr}\n",
    "a_dict"
   ]
  },
  {
   "cell_type": "code",
   "execution_count": 52,
   "id": "1faf18ef-f42e-49da-9483-787c61efcc98",
   "metadata": {},
   "outputs": [
    {
     "data": {
      "text/plain": [
       "(['홍길동', '이순신', '김유신'], '김유신')"
      ]
     },
     "execution_count": 52,
     "metadata": {},
     "output_type": "execute_result"
    }
   ],
   "source": [
    "a_dict[\"name\"], a_dict[\"name\"][2]"
   ]
  },
  {
   "cell_type": "code",
   "execution_count": null,
   "id": "04fbd3ba-7633-4dfd-b6e3-e3ed10cda2a5",
   "metadata": {},
   "outputs": [],
   "source": [
    "\"\"\"\n",
    "<변수 타입 정의>\n",
    " 1. 하나의 값만 저장할 수 있는 일반변수\n",
    "  * 정수 타입(소숫점이 없음) : int\n",
    "  * 실수 타입(소숫점이 있음) : float\n",
    "  * 문자열 타입 : str\n",
    "  * 참(True or 1)/거짓(False or 0) 타입 : bool\n",
    "\n",
    " 2. 여러개의 값을 저장할 수 있는 변수\n",
    "  *\n",
    "\"\"\""
   ]
  },
  {
   "cell_type": "code",
   "execution_count": null,
   "id": "95f324c1-07c1-498b-a3df-fd5dda91d337",
   "metadata": {},
   "outputs": [],
   "source": []
  },
  {
   "cell_type": "code",
   "execution_count": null,
   "id": "f6593818-fd9b-48a8-a42a-e76e037bd160",
   "metadata": {},
   "outputs": [],
   "source": []
  },
  {
   "cell_type": "code",
   "execution_count": null,
   "id": "0fc2e84d-8e14-4c7f-b2d5-9e2dbb08a220",
   "metadata": {},
   "outputs": [],
   "source": []
  }
 ],
 "metadata": {
  "kernelspec": {
   "display_name": "dg_env_all_kernel",
   "language": "python",
   "name": "dg_env_all"
  },
  "language_info": {
   "codemirror_mode": {
    "name": "ipython",
    "version": 3
   },
   "file_extension": ".py",
   "mimetype": "text/x-python",
   "name": "python",
   "nbconvert_exporter": "python",
   "pygments_lexer": "ipython3",
   "version": "3.9.21"
  }
 },
 "nbformat": 4,
 "nbformat_minor": 5
}
