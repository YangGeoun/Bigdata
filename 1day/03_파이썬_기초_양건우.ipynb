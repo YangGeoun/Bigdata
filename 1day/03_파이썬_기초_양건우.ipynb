{
 "cells": [
  {
   "cell_type": "code",
   "execution_count": 4,
   "id": "b76b3105-7820-4996-96ef-820cff643903",
   "metadata": {},
   "outputs": [
    {
     "name": "stdout",
     "output_type": "stream",
     "text": [
      "hello world\n"
     ]
    }
   ],
   "source": [
    "print(\"hello world\")"
   ]
  },
  {
   "cell_type": "markdown",
   "id": "8a4b29ec-7dc5-4c33-b373-a74477bdb48e",
   "metadata": {},
   "source": [
    "<h3><셀 실행방법 3가지></h3>\n",
    "<p>- [Ctrl + Enter] : </p>\n",
    "<p>- [Alt + Enter] : </p>\n",
    "<p>- [Shift + Enter] : </p>\n",
    "\n",
    "<h3><셀 삭제 > DD</h3>"
   ]
  },
  {
   "cell_type": "code",
   "execution_count": 11,
   "id": "fc965d93-4901-4731-885e-cc69d2b03853",
   "metadata": {},
   "outputs": [
    {
     "data": {
      "text/plain": [
       "str"
      ]
     },
     "execution_count": 11,
     "metadata": {},
     "output_type": "execute_result"
    }
   ],
   "source": [
    "a  = \"adasd\"\n",
    "\n",
    "type(a)"
   ]
  },
  {
   "cell_type": "code",
   "execution_count": 50,
   "id": "f3c2e544-b0da-40fa-94c5-f947834d48b2",
   "metadata": {},
   "outputs": [
    {
     "name": "stdout",
     "output_type": "stream",
     "text": [
      "name : 이순신, age : 10, addr : 대구\n"
     ]
    }
   ],
   "source": [
    "a = [1, 2, 3, 4, 123]\n",
    "\n",
    "\" \".join(map(str, range(1, 11)))\n",
    "\n",
    "list(map( lambda x : x + 1 , a ))\n",
    "\n",
    "name = [\"이순신\", \"홍길동\", \"김유신\"]\n",
    "age = [10, 20, 30]\n",
    "addr = [\"대구\", \"부산\", \"서울\"]\n",
    "\n",
    "a = { \"name\" : name, \"age\" : age, \"addr\" : addr}\n",
    "\n",
    "class Person:\n",
    "    def __init__(self, name, age, addr):\n",
    "        self.name = name\n",
    "        self.age = age\n",
    "        self.addr = addr\n",
    "\n",
    "    def __str__(self):\n",
    "        return f\"name : {self.name}, age : {self.age}, addr : {self.addr}\"\n",
    "\n",
    "    \n",
    "person_list = []\n",
    "person_list.append(Person(\"이순신\", 10, \"대구\"))\n",
    "person_list.append(Person(\"홍길동\", 20, \"부산\"))\n",
    "person_list.append(Person(\"김유신\", 30, \"서울\"))\n",
    "print(person_list[0])"
   ]
  }
 ],
 "metadata": {
  "kernelspec": {
   "display_name": "dg_env_all_kernel",
   "language": "python",
   "name": "dg_env_all"
  },
  "language_info": {
   "codemirror_mode": {
    "name": "ipython",
    "version": 3
   },
   "file_extension": ".py",
   "mimetype": "text/x-python",
   "name": "python",
   "nbconvert_exporter": "python",
   "pygments_lexer": "ipython3",
   "version": "3.9.21"
  }
 },
 "nbformat": 4,
 "nbformat_minor": 5
}
