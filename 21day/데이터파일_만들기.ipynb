{
 "cells": [
  {
   "cell_type": "code",
   "execution_count": 1,
   "id": "9349dab0-bd53-43e8-be57-7d510d0d4afa",
   "metadata": {},
   "outputs": [],
   "source": [
    "import pandas as pd\n",
    "\n",
    "df = pd.read_csv(\"./data/labeled_data.csv\")\n",
    "cn7 = df[(df[\"PART_NAME\"] == \"CN7 W/S SIDE MLD'G RH\") |(df[\"PART_NAME\"] == \"CN7 W/S SIDE MLD'G LH\")]\n",
    "cn7 = df.drop(columns=[\"_id\", \"TimeStamp\",\"PART_FACT_PLAN_DATE\", \"Reason\", \"PART_FACT_SERIAL\", \"PART_NAME\",\n",
    "               \"EQUIP_NAME\", \"EQUIP_CD\", \"Switch_Over_Position\", \"Mold_Temperature_1\",\"Mold_Temperature_2\",\"Mold_Temperature_5\",\n",
    "                \"Mold_Temperature_6\", \"Mold_Temperature_7\",\"Mold_Temperature_8\",\"Mold_Temperature_9\",\"Mold_Temperature_10\",\n",
    "               \"Mold_Temperature_11\",\"Mold_Temperature_12\",\"Barrel_Temperature_7\"])"
   ]
  },
  {
   "cell_type": "code",
   "execution_count": 2,
   "id": "f5687d66-f9aa-431a-b42e-4be279b23e4a",
   "metadata": {},
   "outputs": [
    {
     "name": "stderr",
     "output_type": "stream",
     "text": [
      "C:\\Users\\Admin\\AppData\\Local\\Temp\\ipykernel_16000\\1133887326.py:1: FutureWarning: Downcasting behavior in `replace` is deprecated and will be removed in a future version. To retain the old behavior, explicitly call `result.infer_objects(copy=False)`. To opt-in to the future behavior, set `pd.set_option('future.no_silent_downcasting', True)`\n",
      "  cn7[\"PassOrFail\"] = cn7[\"PassOrFail\"].replace('Y',0).replace('N',1)\n"
     ]
    }
   ],
   "source": [
    "cn7[\"PassOrFail\"] = cn7[\"PassOrFail\"].replace('Y',0).replace('N',1)"
   ]
  },
  {
   "cell_type": "code",
   "execution_count": 3,
   "id": "57cb6ac5-0a80-46fa-a7f3-25c0ef92592e",
   "metadata": {},
   "outputs": [],
   "source": [
    "### Clamp_Open_Position에서 눈에띄게 낮은 값들 제거\n",
    "cn7 = cn7[cn7[\"Clamp_Open_Position\"]>=200]"
   ]
  },
  {
   "cell_type": "code",
   "execution_count": 4,
   "id": "a0475cc9-7ab4-42b2-9e2e-a1f166dc73f9",
   "metadata": {},
   "outputs": [],
   "source": [
    "def remove_outliers(df, column):\n",
    "    # 1사분위수(Q1)와 3사분위수(Q3) 계산\n",
    "    Q1 = df[column].quantile(0.25)\n",
    "    Q3 = df[column].quantile(0.75)\n",
    "    \n",
    "    # IQR 계산\n",
    "    IQR = Q3 - Q1\n",
    "    \n",
    "    # 이상치 범위 설정\n",
    "    lower_bound = Q1 - 1.5 * IQR\n",
    "    upper_bound = Q3 + 1.5 * IQR\n",
    "    \n",
    "    # 이상치 제거\n",
    "    filtered_df = df[(df[column] >= lower_bound) & (df[column] <= upper_bound)]\n",
    "    \n",
    "    return filtered_df"
   ]
  },
  {
   "cell_type": "code",
   "execution_count": 5,
   "id": "fc09a526-d26a-426d-83ab-f090916f6111",
   "metadata": {},
   "outputs": [],
   "source": [
    "cn7_pass = cn7[cn7[\"PassOrFail\"] == 0]\n",
    "cn7_fail = cn7[cn7[\"PassOrFail\"] == 1]\n",
    "cn7_pass_removed = cn7_pass.copy()\n",
    "cn7_pass_removed = remove_outliers(cn7_pass_removed, 'Injection_Time')\n",
    "cn7_pass_removed = remove_outliers(cn7_pass_removed, 'Plasticizing_Time')\n",
    "cn7_pass_removed = remove_outliers(cn7_pass_removed, 'Cycle_Time')\n",
    "cn7_pass_removed = remove_outliers(cn7_pass_removed, 'Max_Injection_Speed')\n",
    "cn7_pass_removed = remove_outliers(cn7_pass_removed, 'Mold_Temperature_3')\n",
    "\n",
    "cn7_removed = pd.concat([cn7_pass_removed, cn7_fail], ignore_index=True)"
   ]
  },
  {
   "cell_type": "code",
   "execution_count": 6,
   "id": "b12d1148-32ab-4a6b-b0a0-01f9ca8e7d6b",
   "metadata": {},
   "outputs": [],
   "source": [
    "from sklearn.model_selection import train_test_split\n",
    "from imblearn.over_sampling import SMOTE\n",
    "\n",
    "y = cn7_removed[\"PassOrFail\"]\n",
    "X = cn7_removed.drop(columns=[\"PassOrFail\"])\n",
    "\n",
    "# 테스트 데이터 분리\n",
    "X_train, X_test, y_train, y_test = train_test_split(X, y, test_size=0.3)\n",
    "\n",
    "X_test_with_target = X_test.copy()\n",
    "X_test_with_target[\"PassOrFail\"] = y_test\n",
    "X_test_with_target.to_csv(\"./cn7_test.csv\", index=False)\n",
    "\n",
    "# X_train, y_train 합치기\n",
    "Xy_train = X_train.copy()\n",
    "Xy_train[\"PassOrFail\"] = y_train\n",
    "\n",
    "# Average_Screw_RPM 기준으로 up만 추출하기\n",
    "Xy_train = Xy_train[Xy_train[\"Average_Screw_RPM\"] > 250]\n",
    "\n",
    "# X_train, y_train 분리\n",
    "X_train = Xy_train.drop(columns=[\"PassOrFail\"])\n",
    "y_train = Xy_train[\"PassOrFail\"]\n",
    "\n",
    "# 데이터 증강\n",
    "smote = SMOTE(random_state=42)\n",
    "X_resampled, y_resampled = smote.fit_resample(X_train, y_train)\n",
    "\n",
    "X_resampled_with_target = X_resampled.copy()\n",
    "X_resampled_with_target[\"PassOrFail\"] = y_resampled\n",
    "X_resampled_with_target.to_csv(\"./cn7_resampled.csv\", index=False)\n"
   ]
  },
  {
   "cell_type": "code",
   "execution_count": 7,
   "id": "a15fdb2c-e5d3-4130-a9c6-d430b2aa073d",
   "metadata": {},
   "outputs": [
    {
     "name": "stdout",
     "output_type": "stream",
     "text": [
      "<class 'pandas.core.frame.DataFrame'>\n",
      "RangeIndex: 1972 entries, 0 to 1971\n",
      "Data columns (total 25 columns):\n",
      " #   Column                    Non-Null Count  Dtype  \n",
      "---  ------                    --------------  -----  \n",
      " 0   Injection_Time            1972 non-null   float64\n",
      " 1   Filling_Time              1972 non-null   float64\n",
      " 2   Plasticizing_Time         1972 non-null   float64\n",
      " 3   Cycle_Time                1972 non-null   float64\n",
      " 4   Clamp_Close_Time          1972 non-null   float64\n",
      " 5   Cushion_Position          1972 non-null   float64\n",
      " 6   Plasticizing_Position     1972 non-null   float64\n",
      " 7   Clamp_Open_Position       1972 non-null   float64\n",
      " 8   Max_Injection_Speed       1972 non-null   float64\n",
      " 9   Max_Screw_RPM             1972 non-null   float64\n",
      " 10  Average_Screw_RPM         1972 non-null   float64\n",
      " 11  Max_Injection_Pressure    1972 non-null   float64\n",
      " 12  Max_Switch_Over_Pressure  1972 non-null   float64\n",
      " 13  Max_Back_Pressure         1972 non-null   float64\n",
      " 14  Average_Back_Pressure     1972 non-null   float64\n",
      " 15  Barrel_Temperature_1      1972 non-null   float64\n",
      " 16  Barrel_Temperature_2      1972 non-null   float64\n",
      " 17  Barrel_Temperature_3      1972 non-null   float64\n",
      " 18  Barrel_Temperature_4      1972 non-null   float64\n",
      " 19  Barrel_Temperature_5      1972 non-null   float64\n",
      " 20  Barrel_Temperature_6      1972 non-null   float64\n",
      " 21  Hopper_Temperature        1972 non-null   float64\n",
      " 22  Mold_Temperature_3        1972 non-null   float64\n",
      " 23  Mold_Temperature_4        1972 non-null   float64\n",
      " 24  PassOrFail                1972 non-null   int64  \n",
      "dtypes: float64(24), int64(1)\n",
      "memory usage: 385.3 KB\n",
      "PassOrFail\n",
      "0    1662\n",
      "1      24\n",
      "Name: count, dtype: int64\n"
     ]
    },
    {
     "data": {
      "text/plain": [
       "PassOrFail\n",
       "0    1957\n",
       "1      15\n",
       "Name: count, dtype: int64"
      ]
     },
     "execution_count": 7,
     "metadata": {},
     "output_type": "execute_result"
    }
   ],
   "source": [
    "re = pd.read_csv(\"./cn7_test.csv\")\n",
    "re.info()\n",
    "print(Xy_train[\"PassOrFail\"].value_counts())\n",
    "X_test_with_target[\"PassOrFail\"].value_counts()"
   ]
  },
  {
   "cell_type": "code",
   "execution_count": null,
   "id": "3f604d73-552a-4ece-bc77-0503783dc23d",
   "metadata": {},
   "outputs": [],
   "source": []
  },
  {
   "cell_type": "code",
   "execution_count": null,
   "id": "4365f251-262a-4980-ab98-094a67692eeb",
   "metadata": {},
   "outputs": [],
   "source": []
  }
 ],
 "metadata": {
  "kernelspec": {
   "display_name": "dg_env_dl_kernel",
   "language": "python",
   "name": "dg_env_dl"
  },
  "language_info": {
   "codemirror_mode": {
    "name": "ipython",
    "version": 3
   },
   "file_extension": ".py",
   "mimetype": "text/x-python",
   "name": "python",
   "nbconvert_exporter": "python",
   "pygments_lexer": "ipython3",
   "version": "3.9.15"
  }
 },
 "nbformat": 4,
 "nbformat_minor": 5
}
