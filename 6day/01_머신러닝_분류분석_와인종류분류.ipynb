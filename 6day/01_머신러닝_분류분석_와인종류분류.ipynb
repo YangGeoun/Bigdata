{
 "cells": [
  {
   "cell_type": "code",
   "execution_count": 1,
   "id": "47d84b6a-e86e-4ef8-a309-f6d9b32bdec7",
   "metadata": {},
   "outputs": [
    {
     "data": {
      "text/plain": [
       "'\\n<분류 모델>\\n - 앙상블 모델들을 주로 사용\\n - 랜덤포레스트, 엑스트라트리, 그레디언트부스팅, 히스트그레디언트부스팅, XGBoosting, 이외 다수\\n - 앙상블 모델의 대표 모델은 랜덤포레스트 모델\\n - 훈련시 램덤포레스트 모델 훈련 후 나머지 모델 훈련...\\n - 훈련 후 -> 편가하여 비교 후 -> 최종 분류 모델 선정\\n - 평가 함수 : 정확도, 정밀도, 재현율, F1-Score \\n - 선정 우선순위 : F1-Score > 재현율 이중 정확도 확인하여 선정\\n'"
      ]
     },
     "execution_count": 1,
     "metadata": {},
     "output_type": "execute_result"
    }
   ],
   "source": [
    "\"\"\"\n",
    "<분류 모델>\n",
    " - 앙상블 모델들을 주로 사용\n",
    " - 랜덤포레스트, 엑스트라트리, 그레디언트부스팅, 히스트그레디언트부스팅, XGBoosting, 이외 다수\n",
    " - 앙상블 모델의 대표 모델은 랜덤포레스트 모델\n",
    " - 훈련시 램덤포레스트 모델 훈련 후 나머지 모델 훈련...\n",
    " - 훈련 후 -> 편가하여 비교 후 -> 최종 분류 모델 선정\n",
    " - 평가 함수 : 정확도, 정밀도, 재현율, F1-Score \n",
    " - 선정 우선순위 : F1-Score > 재현율 이중 정확도 확인하여 선정\n",
    "\"\"\""
   ]
  },
  {
   "cell_type": "code",
   "execution_count": 2,
   "id": "c978af8c-8acc-44fb-b523-5c66992ffcbf",
   "metadata": {},
   "outputs": [],
   "source": [
    "import pandas as pd"
   ]
  },
  {
   "cell_type": "code",
   "execution_count": 3,
   "id": "18eb9f9a-6146-46c0-870b-d3806825e38f",
   "metadata": {},
   "outputs": [
    {
     "name": "stdout",
     "output_type": "stream",
     "text": [
      "<class 'pandas.core.frame.DataFrame'>\n",
      "RangeIndex: 6497 entries, 0 to 6496\n",
      "Data columns (total 4 columns):\n",
      " #   Column   Non-Null Count  Dtype  \n",
      "---  ------   --------------  -----  \n",
      " 0   alcohol  6497 non-null   float64\n",
      " 1   sugar    6497 non-null   float64\n",
      " 2   pH       6497 non-null   float64\n",
      " 3   class    6497 non-null   float64\n",
      "dtypes: float64(4)\n",
      "memory usage: 203.2 KB\n"
     ]
    },
    {
     "data": {
      "text/html": [
       "<div>\n",
       "<style scoped>\n",
       "    .dataframe tbody tr th:only-of-type {\n",
       "        vertical-align: middle;\n",
       "    }\n",
       "\n",
       "    .dataframe tbody tr th {\n",
       "        vertical-align: top;\n",
       "    }\n",
       "\n",
       "    .dataframe thead th {\n",
       "        text-align: right;\n",
       "    }\n",
       "</style>\n",
       "<table border=\"1\" class=\"dataframe\">\n",
       "  <thead>\n",
       "    <tr style=\"text-align: right;\">\n",
       "      <th></th>\n",
       "      <th>alcohol</th>\n",
       "      <th>sugar</th>\n",
       "      <th>pH</th>\n",
       "      <th>class</th>\n",
       "    </tr>\n",
       "  </thead>\n",
       "  <tbody>\n",
       "    <tr>\n",
       "      <th>count</th>\n",
       "      <td>6497.000000</td>\n",
       "      <td>6497.000000</td>\n",
       "      <td>6497.000000</td>\n",
       "      <td>6497.000000</td>\n",
       "    </tr>\n",
       "    <tr>\n",
       "      <th>mean</th>\n",
       "      <td>10.491801</td>\n",
       "      <td>5.443235</td>\n",
       "      <td>3.218501</td>\n",
       "      <td>0.753886</td>\n",
       "    </tr>\n",
       "    <tr>\n",
       "      <th>std</th>\n",
       "      <td>1.192712</td>\n",
       "      <td>4.757804</td>\n",
       "      <td>0.160787</td>\n",
       "      <td>0.430779</td>\n",
       "    </tr>\n",
       "    <tr>\n",
       "      <th>min</th>\n",
       "      <td>8.000000</td>\n",
       "      <td>0.600000</td>\n",
       "      <td>2.720000</td>\n",
       "      <td>0.000000</td>\n",
       "    </tr>\n",
       "    <tr>\n",
       "      <th>25%</th>\n",
       "      <td>9.500000</td>\n",
       "      <td>1.800000</td>\n",
       "      <td>3.110000</td>\n",
       "      <td>1.000000</td>\n",
       "    </tr>\n",
       "    <tr>\n",
       "      <th>50%</th>\n",
       "      <td>10.300000</td>\n",
       "      <td>3.000000</td>\n",
       "      <td>3.210000</td>\n",
       "      <td>1.000000</td>\n",
       "    </tr>\n",
       "    <tr>\n",
       "      <th>75%</th>\n",
       "      <td>11.300000</td>\n",
       "      <td>8.100000</td>\n",
       "      <td>3.320000</td>\n",
       "      <td>1.000000</td>\n",
       "    </tr>\n",
       "    <tr>\n",
       "      <th>max</th>\n",
       "      <td>14.900000</td>\n",
       "      <td>65.800000</td>\n",
       "      <td>4.010000</td>\n",
       "      <td>1.000000</td>\n",
       "    </tr>\n",
       "  </tbody>\n",
       "</table>\n",
       "</div>"
      ],
      "text/plain": [
       "           alcohol        sugar           pH        class\n",
       "count  6497.000000  6497.000000  6497.000000  6497.000000\n",
       "mean     10.491801     5.443235     3.218501     0.753886\n",
       "std       1.192712     4.757804     0.160787     0.430779\n",
       "min       8.000000     0.600000     2.720000     0.000000\n",
       "25%       9.500000     1.800000     3.110000     1.000000\n",
       "50%      10.300000     3.000000     3.210000     1.000000\n",
       "75%      11.300000     8.100000     3.320000     1.000000\n",
       "max      14.900000    65.800000     4.010000     1.000000"
      ]
     },
     "execution_count": 3,
     "metadata": {},
     "output_type": "execute_result"
    }
   ],
   "source": [
    "wine = pd.read_csv(\"./data/08_wine.csv\")\n",
    "wine.info()\n",
    "wine.describe()"
   ]
  },
  {
   "cell_type": "code",
   "execution_count": 4,
   "id": "a7029e16-0d04-432b-bc8f-65bd164f3556",
   "metadata": {},
   "outputs": [],
   "source": [
    "import matplotlib.pyplot as plt"
   ]
  },
  {
   "cell_type": "code",
   "execution_count": 5,
   "id": "4cbb4321-4b34-4052-9a2b-32e8f17982de",
   "metadata": {},
   "outputs": [
    {
     "name": "stdout",
     "output_type": "stream",
     "text": [
      "(6497, 3) (6497,)\n"
     ]
    }
   ],
   "source": [
    "# data = wine.iloc[:, :3]\n",
    "data = wine[[\"alcohol\", \"sugar\", \"pH\"]].to_numpy()\n",
    "target = wine[\"class\"]\n",
    "print(data.shape, target.shape)"
   ]
  },
  {
   "cell_type": "code",
   "execution_count": 6,
   "id": "adb05173-1adf-4e85-b2f8-618015990e2f",
   "metadata": {},
   "outputs": [],
   "source": [
    "from scipy.stats import pearsonr"
   ]
  },
  {
   "cell_type": "code",
   "execution_count": 7,
   "id": "030040f1-bb37-4628-a20f-cc9c90873c00",
   "metadata": {},
   "outputs": [],
   "source": [
    "# for col_name in data.columns:\n",
    "#     tmp = pearsonr(data[col_name], target)\n",
    "#     print(col_name)\n",
    "#     print(f\"상관계수 계수값 : {tmp[0]:.3f}\")\n",
    "#     print(f\"      p-value : {tmp[1]:.3f}\")\n",
    "#     print(\"-------------------------\")"
   ]
  },
  {
   "cell_type": "code",
   "execution_count": 8,
   "id": "b3747e2c-5856-44ea-bb60-79c1e6917db6",
   "metadata": {},
   "outputs": [],
   "source": [
    "from sklearn.model_selection import train_test_split"
   ]
  },
  {
   "cell_type": "code",
   "execution_count": 9,
   "id": "2696b15a-ad2d-4e8e-9677-442514858d0e",
   "metadata": {},
   "outputs": [],
   "source": [
    "train_input, test_input, train_target, test_target = train_test_split(data, target,  test_size=0.2, random_state=42)"
   ]
  },
  {
   "cell_type": "code",
   "execution_count": 10,
   "id": "f3ed1eb4-3cb4-4199-b25b-bdd549a2c0be",
   "metadata": {},
   "outputs": [
    {
     "name": "stdout",
     "output_type": "stream",
     "text": [
      "(5197, 3) (1300, 3) (5197,) (1300,)\n"
     ]
    }
   ],
   "source": [
    "print(train_input.shape, test_input.shape, train_target.shape, test_target.shape)"
   ]
  },
  {
   "cell_type": "code",
   "execution_count": 11,
   "id": "f65c9321-0493-4458-ac55-73ac73009f19",
   "metadata": {},
   "outputs": [
    {
     "data": {
      "text/plain": [
       "'\\n<데이터 스케일링>\\n - 특성들간의 서로다른 단위를 일정한 수준으로 맞추는 작업\\n - 수치형 변수들에 대해서만 적용이 됨\\n - 스케일링 3가지 방법(일반적으로 정규화라는 이름으로 아래 3가지 사용하기도 함)\\n  * 정규화 : StandardScaler(회귀 및 분류 모두 사용가능), RobustScaler(회귀 및 분류 모두 사용가능)\\n  * 표준화 : MinMaxScaler (회귀에서 사용)\\n - 훈련 시에 스케일링 방법에 따라 독립변수를 각각 구성하여 훈현에 적용 후 정확도 비교 하기도 함...\\n'"
      ]
     },
     "execution_count": 11,
     "metadata": {},
     "output_type": "execute_result"
    }
   ],
   "source": [
    "\"\"\"\n",
    "<데이터 스케일링>\n",
    " - 특성들간의 서로다른 단위를 일정한 수준으로 맞추는 작업\n",
    " - 수치형 변수들에 대해서만 적용이 됨\n",
    " - 스케일링 3가지 방법(일반적으로 정규화라는 이름으로 아래 3가지 사용하기도 함)\n",
    "  * 정규화 : StandardScaler(회귀 및 분류 모두 사용가능), RobustScaler(회귀 및 분류 모두 사용가능)\n",
    "  * 표준화 : MinMaxScaler (회귀에서 사용)\n",
    " - 훈련 시에 스케일링 방법에 따라 독립변수를 각각 구성하여 훈현에 적용 후 정확도 비교 하기도 함...\n",
    "\"\"\""
   ]
  },
  {
   "cell_type": "code",
   "execution_count": 12,
   "id": "100476c9-d30f-44dd-b736-9c5aa243bd87",
   "metadata": {},
   "outputs": [],
   "source": [
    "from sklearn.ensemble import RandomForestClassifier, ExtraTreesClassifier, GradientBoostingClassifier, HistGradientBoostingClassifier\n",
    "from xgboost import XGBClassifier\n",
    "from sklearn.preprocessing import StandardScaler, MinMaxScaler,RobustScaler"
   ]
  },
  {
   "cell_type": "code",
   "execution_count": 13,
   "id": "edb0fc97-3feb-4dd6-bed0-efa8a5213b09",
   "metadata": {},
   "outputs": [],
   "source": [
    "scaler = StandardScaler()\n",
    "scaler.fit(train_input)\n",
    "train_std_scaled = scaler.transform(train_input)\n",
    "test_std_scaled = scaler.transform(test_input)\n",
    "\n",
    "scaler = MinMaxScaler()\n",
    "scaler.fit(train_input)\n",
    "train_mm_scaled = scaler.transform(train_input)\n",
    "test_mm_scaled = scaler.transform(test_input)\n",
    "\n",
    "scaler = RobustScaler()\n",
    "scaler.fit(train_input)\n",
    "train_rs_scaled = scaler.transform(train_input)\n",
    "test_rs_scaled = scaler.transform(test_input)"
   ]
  },
  {
   "cell_type": "code",
   "execution_count": 14,
   "id": "1a9feaaa-6db0-452e-8d3d-6b43e21f7606",
   "metadata": {},
   "outputs": [
    {
     "data": {
      "text/plain": [
       "(0.996921300750433, 0.8892307692307693, 0.10769053151966368)"
      ]
     },
     "execution_count": 14,
     "metadata": {},
     "output_type": "execute_result"
    }
   ],
   "source": [
    "rm_cla = RandomForestClassifier(n_jobs=-1, random_state=42)\n",
    "rm_cla.fit(train_std_scaled, train_target)\n",
    "train_score = rm_cla.score(train_std_scaled, train_target)\n",
    "test_score = rm_cla.score(test_std_scaled, test_target)\n",
    "# 과대적합이 조금 발생하고 있음( train_score - test_score 의 값이 10% 이상이다 )\n",
    "train_score, test_score, train_score - test_score\n"
   ]
  },
  {
   "cell_type": "code",
   "execution_count": 15,
   "id": "3ed499cd-f389-45de-b1bd-4286d043e906",
   "metadata": {},
   "outputs": [],
   "source": [
    "# rm_cla = RandomForestClassifier(n_jobs=-1, random_state=42)\n",
    "# rm_cla.fit(train__scaled, train_target)\n",
    "# train_score = rm_cla.score(train_mm_scaled, train_target)\n",
    "# test_score = rm_cla.score(test_mm_scaled, test_target)\n",
    "# # 과대적합이 조금 발생하고 있음( train_score - test_score 의 값이 10% 이상이다 )\n",
    "# train_score, test_score, train_score - test_score\n"
   ]
  },
  {
   "cell_type": "code",
   "execution_count": 16,
   "id": "40829ced-b1b9-415b-8cc1-30ca68940480",
   "metadata": {},
   "outputs": [],
   "source": [
    "# rf = RandomForestClassifier(n_jobs=-1, random_state=42)\n",
    "# rf.fit(train_rs_scaled, train_target)\n",
    "# train_score = rf.score(train_rs_scaled, train_target)\n",
    "# test_score = rf.score(test_rs_scaled, test_target)\n",
    "# # 과대적합이 조금 발생하고 있음( train_score - test_score 의 값이 10% 이상이다 )\n",
    "# train_score, test_score, train_score - test_score\n"
   ]
  },
  {
   "cell_type": "code",
   "execution_count": 17,
   "id": "00530a08-2315-4601-a2c4-9a9c1d105888",
   "metadata": {},
   "outputs": [
    {
     "name": "stdout",
     "output_type": "stream",
     "text": [
      "[1. 0. 1. 1. 1. 1. 1. 1. 0. 1.]\n",
      "[1.0, 0.0, 1.0, 1.0, 1.0, 0.0, 1.0, 1.0, 0.0, 1.0]\n"
     ]
    }
   ],
   "source": [
    "rf = rm_cla\n",
    "\n",
    "test_pred = rf.predict(test_std_scaled[:10])\n",
    "print(test_pred)\n",
    "print(list(test_target[:10]))"
   ]
  },
  {
   "cell_type": "code",
   "execution_count": 18,
   "id": "02a506ed-b4d3-463a-9956-23b770db9ecc",
   "metadata": {},
   "outputs": [],
   "source": [
    "# 평가 시각화를 위해 사용하는 라이브러리\n",
    "import matplotlib.pyplot as plt\n",
    "import seaborn as sns\n",
    "import numpy as np\n",
    "from sklearn.metrics import confusion_matrix, ConfusionMatrixDisplay\n",
    "\n",
    "# 한글처리\n",
    "plt.rc(\"font\", family=\"Malgun Gothic\")\n",
    "# 마이너스 기호 표시\n",
    "plt.rcParams[\"axes.unicode_minus\"] = True\n",
    "\n",
    "# 평가 라이브러리            (정확도,         정밀도,           재현율,        f1_score)\n",
    "from sklearn.metrics import accuracy_score, precision_score, recall_score, f1_score "
   ]
  },
  {
   "cell_type": "code",
   "execution_count": 19,
   "id": "ece06285-7734-4a38-8dea-a7829fe0fbf0",
   "metadata": {},
   "outputs": [],
   "source": [
    "# 범주 확인하기\n",
    "# 오차행렬도 : 훈련이 잘 되었는지 확인하는 그래프\n",
    "# - 분류를 얼마나 잘했는지\n",
    "# - 분류 중 방생한 오차가 어떻게 나타났는지 확인 가능\n",
    "# - 오차행렬도를 그리기 위해서는 오차평가 매트릭스 표를 먼저 생성해야함\n",
    "cm = confusion_matrix(test_target[:10], test_pred, labels=rf.classes_)"
   ]
  },
  {
   "cell_type": "code",
   "execution_count": 20,
   "id": "04e93c49-d5c8-445a-b7da-1684f9a3a382",
   "metadata": {},
   "outputs": [
    {
     "data": {
      "text/plain": [
       "<sklearn.metrics._plot.confusion_matrix.ConfusionMatrixDisplay at 0x2d26c32cd60>"
      ]
     },
     "execution_count": 20,
     "metadata": {},
     "output_type": "execute_result"
    },
    {
     "data": {
      "image/png": "[encoded data removed]",
      "text/plain": [
       "<Figure size 640x480 with 2 Axes>"
      ]
     },
     "metadata": {},
     "output_type": "display_data"
    }
   ],
   "source": [
    "# 오차 행렬도 그리기\n",
    "disp = ConfusionMatrixDisplay(confusion_matrix=cm, display_labels=rf.classes_)\n",
    "disp.plot()"
   ]
  },
  {
   "cell_type": "code",
   "execution_count": 21,
   "id": "05247ac1-4ca5-4f44-a6fb-74410f36a1e4",
   "metadata": {},
   "outputs": [
    {
     "data": {
      "text/plain": [
       "0.9"
      ]
     },
     "execution_count": 21,
     "metadata": {},
     "output_type": "execute_result"
    }
   ],
   "source": [
    "# 정확도 model.score() 와 동일\n",
    "accuracy_score(test_target[:10], test_pred)"
   ]
  },
  {
   "cell_type": "code",
   "execution_count": 22,
   "id": "b556a93e-e847-45ca-825e-c440c5e52794",
   "metadata": {},
   "outputs": [
    {
     "data": {
      "text/plain": [
       "0.875"
      ]
     },
     "execution_count": 22,
     "metadata": {},
     "output_type": "execute_result"
    }
   ],
   "source": [
    "# 정밀도 \n",
    "precision_score(test_target[:10], test_pred)"
   ]
  },
  {
   "cell_type": "code",
   "execution_count": 23,
   "id": "d2b6f8c9-3ed1-4b1b-8c12-0ed1284c1a1f",
   "metadata": {},
   "outputs": [
    {
     "data": {
      "text/plain": [
       "1.0"
      ]
     },
     "execution_count": 23,
     "metadata": {},
     "output_type": "execute_result"
    }
   ],
   "source": [
    "# 재현율\n",
    "recall_score(test_target[:10], test_pred)"
   ]
  },
  {
   "cell_type": "code",
   "execution_count": 24,
   "id": "5ae30346-b1fc-48fd-ac7b-d9b60f9cef31",
   "metadata": {},
   "outputs": [
    {
     "data": {
      "text/plain": [
       "0.9333333333333333"
      ]
     },
     "execution_count": 24,
     "metadata": {},
     "output_type": "execute_result"
    }
   ],
   "source": [
    "# f1_score\n",
    "f1_score(test_target[:10], test_pred)"
   ]
  },
  {
   "cell_type": "code",
   "execution_count": 25,
   "id": "58c80ad1-5c17-4e85-b253-525ee092cfca",
   "metadata": {},
   "outputs": [
    {
     "data": {
      "text/plain": [
       "'\\n<정확도(accuracy)>\\n - 올바르게 예측된 데이터의 수를, 전체 데이터의 수로 나눈 값\\n - 예측이 실제값과 얼마나 정확한가를 의미함\\n - 산술식 : (TP + TN) / (TP + TN + FP + FN)\\n \\n<정밀도(precision)>\\n - 모델이 True(1)로 예측한 데이터 중 실제로  True(1)로 맞춘 데이터\\n - 산술식 : TP / (TP + FP)\\n \\n<재현율(recall)>\\n - 실제로 True(1)로 데이터를 True(1)로 인식한 데이터\\n - 위험한 오류(부정오류)로 인식한 데이터도 모두 포함\\n - 산술식 : TP / (TP + FN)\\n - 모델 선정에 깊은 관여를 함\\n\\n<f1_score>\\n - 정밀도와 재현율을 조합하여 하나의 통계치로 반환한 값\\n - 정밀도와 재현율의 조화 평균\\n - 값이 높을수록, 성능이 높은 모델이라고 판단할 수 있음(최종 모델 선정 기준이 됨)\\n - 산술식 : 2 * (정밀도 * 재현율) / (정밀도  + 재현율)\\n\\n[최종 모델 선정 방법]\\n - 과소 및 과대적합 확인\\n - 정확도,  정밀도, 재현율, f1_score 모두 1차 확인\\n - f1_score가 가장 높은 모델 선정\\n   (선정 시 재현율 다시한번 확인)\\n - f1_score가 동일한 모델이면, 재현율이 높은 모델 순으로 선정\\n - 재현율, f1_score 값이 가장 높은 모델 가장 BEST한 모델\\n'"
      ]
     },
     "execution_count": 25,
     "metadata": {},
     "output_type": "execute_result"
    }
   ],
   "source": [
    "\"\"\"\n",
    "<정확도(accuracy)>\n",
    " - 올바르게 예측된 데이터의 수를, 전체 데이터의 수로 나눈 값\n",
    " - 예측이 실제값과 얼마나 정확한가를 의미함\n",
    " - 산술식 : (TP + TN) / (TP + TN + FP + FN)\n",
    " \n",
    "<정밀도(precision)>\n",
    " - 모델이 True(1)로 예측한 데이터 중 실제로  True(1)로 맞춘 데이터\n",
    " - 산술식 : TP / (TP + FP)\n",
    " \n",
    "<재현율(recall)>\n",
    " - 실제로 True(1)로 데이터를 True(1)로 인식한 데이터\n",
    " - 위험한 오류(부정오류)로 인식한 데이터도 모두 포함\n",
    " - 산술식 : TP / (TP + FN)\n",
    " - 모델 선정에 깊은 관여를 함\n",
    "\n",
    "<f1_score>\n",
    " - 정밀도와 재현율을 조합하여 하나의 통계치로 반환한 값\n",
    " - 정밀도와 재현율의 조화 평균\n",
    " - 값이 높을수록, 성능이 높은 모델이라고 판단할 수 있음(최종 모델 선정 기준이 됨)\n",
    " - 산술식 : 2 * (정밀도 * 재현율) / (정밀도  + 재현율)\n",
    "\n",
    "[최종 모델 선정 방법]\n",
    " - 과소 및 과대적합 확인\n",
    " - 정확도,  정밀도, 재현율, f1_score 모두 1차 확인\n",
    " - f1_score가 가장 높은 모델 선정\n",
    "   (선정 시 재현율 다시한번 확인)\n",
    " - f1_score가 동일한 모델이면, 재현율이 높은 모델 순으로 선정\n",
    " - 재현율, f1_score 값이 가장 높은 모델 가장 BEST한 모델\n",
    "\"\"\""
   ]
  },
  {
   "cell_type": "code",
   "execution_count": 26,
   "id": "c062597a-140e-496a-80df-099dd46a33e7",
   "metadata": {},
   "outputs": [],
   "source": [
    "test_pred = rf.predict(test_std_scaled)"
   ]
  },
  {
   "cell_type": "code",
   "execution_count": 27,
   "id": "59705536-7453-435c-8b2a-d221ef2ee752",
   "metadata": {},
   "outputs": [
    {
     "data": {
      "text/plain": [
       "array([[266,  75],\n",
       "       [ 69, 890]])"
      ]
     },
     "execution_count": 27,
     "metadata": {},
     "output_type": "execute_result"
    }
   ],
   "source": [
    "cm = confusion_matrix(test_target, test_pred, labels=rf.classes_)\n",
    "cm"
   ]
  },
  {
   "cell_type": "code",
   "execution_count": 28,
   "id": "fc006d3b-0bce-4262-86ae-0765e01db428",
   "metadata": {},
   "outputs": [
    {
     "data": {
      "text/plain": [
       "<sklearn.metrics._plot.confusion_matrix.ConfusionMatrixDisplay at 0x2d26fa8ae50>"
      ]
     },
     "execution_count": 28,
     "metadata": {},
     "output_type": "execute_result"
    },
    {
     "data": {
      "image/png": "[encoded data removed]",
      "text/plain": [
       "<Figure size 640x480 with 2 Axes>"
      ]
     },
     "metadata": {},
     "output_type": "display_data"
    }
   ],
   "source": [
    "disp = ConfusionMatrixDisplay(cm, display_labels=rf.classes_)\n",
    "disp.plot()"
   ]
  },
  {
   "cell_type": "code",
   "execution_count": 29,
   "id": "8e448363-8025-43aa-b581-997a4c5f39f1",
   "metadata": {},
   "outputs": [
    {
     "name": "stdout",
     "output_type": "stream",
     "text": [
      "정확도 : 0.8892307692307693\n",
      "정밀도 : 0.9222797927461139\n",
      "재현율 : 0.9280500521376434\n",
      "f1_score : 0.9251559251559252\n"
     ]
    }
   ],
   "source": [
    "# 정확도 model.score() 와 동일\n",
    "acs = accuracy_score(test_target, test_pred)\n",
    "# 정밀도 \n",
    "ps = precision_score(test_target, test_pred)\n",
    "# 재현율\n",
    "rs = recall_score(test_target, test_pred)\n",
    "# f1_score\n",
    "f1s = f1_score(test_target, test_pred)\n",
    "\n",
    "print(f\"정확도 : {acs}\")\n",
    "print(f\"정밀도 : {ps}\")\n",
    "print(f\"재현율 : {rs}\")\n",
    "print(f\"f1_score : {f1s}\")"
   ]
  },
  {
   "cell_type": "markdown",
   "id": "c44b2697-cf1c-41bf-8aa0-8b3f03985c4b",
   "metadata": {},
   "source": [
    "# 각 모델에 대해서 하이퍼파라미터 튜닝"
   ]
  },
  {
   "cell_type": "code",
   "execution_count": 30,
   "id": "bab40358-a45c-4df1-a185-53155ffd44e1",
   "metadata": {},
   "outputs": [
    {
     "data": {
      "text/html": [
       "<style>#sk-container-id-1 {\n",
       "  /* Definition of color scheme common for light and dark mode */\n",
       "  --sklearn-color-text: #000;\n",
       "  --sklearn-color-text-muted: #666;\n",
       "  --sklearn-color-line: gray;\n",
       "  /* Definition of color scheme for unfitted estimators */\n",
       "  --sklearn-color-unfitted-level-0: #fff5e6;\n",
       "  --sklearn-color-unfitted-level-1: #f6e4d2;\n",
       "  --sklearn-color-unfitted-level-2: #ffe0b3;\n",
       "  --sklearn-color-unfitted-level-3: chocolate;\n",
       "  /* Definition of color scheme for fitted estimators */\n",
       "  --sklearn-color-fitted-level-0: #f0f8ff;\n",
       "  --sklearn-color-fitted-level-1: #d4ebff;\n",
       "  --sklearn-color-fitted-level-2: #b3dbfd;\n",
       "  --sklearn-color-fitted-level-3: cornflowerblue;\n",
       "\n",
       "  /* Specific color for light theme */\n",
       "  --sklearn-color-text-on-default-background: var(--sg-text-color, var(--theme-code-foreground, var(--jp-content-font-color1, black)));\n",
       "  --sklearn-color-background: var(--sg-background-color, var(--theme-background, var(--jp-layout-color0, white)));\n",
       "  --sklearn-color-border-box: var(--sg-text-color, var(--theme-code-foreground, var(--jp-content-font-color1, black)));\n",
       "  --sklearn-color-icon: #696969;\n",
       "\n",
       "  @media (prefers-color-scheme: dark) {\n",
       "    /* Redefinition of color scheme for dark theme */\n",
       "    --sklearn-color-text-on-default-background: var(--sg-text-color, var(--theme-code-foreground, var(--jp-content-font-color1, white)));\n",
       "    --sklearn-color-background: var(--sg-background-color, var(--theme-background, var(--jp-layout-color0, #111)));\n",
       "    --sklearn-color-border-box: var(--sg-text-color, var(--theme-code-foreground, var(--jp-content-font-color1, white)));\n",
       "    --sklearn-color-icon: #878787;\n",
       "  }\n",
       "}\n",
       "\n",
       "#sk-container-id-1 {\n",
       "  color: var(--sklearn-color-text);\n",
       "}\n",
       "\n",
       "#sk-container-id-1 pre {\n",
       "  padding: 0;\n",
       "}\n",
       "\n",
       "#sk-container-id-1 input.sk-hidden--visually {\n",
       "  border: 0;\n",
       "  clip: rect(1px 1px 1px 1px);\n",
       "  clip: rect(1px, 1px, 1px, 1px);\n",
       "  height: 1px;\n",
       "  margin: -1px;\n",
       "  overflow: hidden;\n",
       "  padding: 0;\n",
       "  position: absolute;\n",
       "  width: 1px;\n",
       "}\n",
       "\n",
       "#sk-container-id-1 div.sk-dashed-wrapped {\n",
       "  border: 1px dashed var(--sklearn-color-line);\n",
       "  margin: 0 0.4em 0.5em 0.4em;\n",
       "  box-sizing: border-box;\n",
       "  padding-bottom: 0.4em;\n",
       "  background-color: var(--sklearn-color-background);\n",
       "}\n",
       "\n",
       "#sk-container-id-1 div.sk-container {\n",
       "  /* jupyter's `normalize.less` sets `[hidden] { display: none; }`\n",
       "     but bootstrap.min.css set `[hidden] { display: none !important; }`\n",
       "     so we also need the `!important` here to be able to override the\n",
       "     default hidden behavior on the sphinx rendered scikit-learn.org.\n",
       "     See: https://github.com/scikit-learn/scikit-learn/issues/21755 */\n",
       "  display: inline-block !important;\n",
       "  position: relative;\n",
       "}\n",
       "\n",
       "#sk-container-id-1 div.sk-text-repr-fallback {\n",
       "  display: none;\n",
       "}\n",
       "\n",
       "div.sk-parallel-item,\n",
       "div.sk-serial,\n",
       "div.sk-item {\n",
       "  /* draw centered vertical line to link estimators */\n",
       "  background-image: linear-gradient(var(--sklearn-color-text-on-default-background), var(--sklearn-color-text-on-default-background));\n",
       "  background-size: 2px 100%;\n",
       "  background-repeat: no-repeat;\n",
       "  background-position: center center;\n",
       "}\n",
       "\n",
       "/* Parallel-specific style estimator block */\n",
       "\n",
       "#sk-container-id-1 div.sk-parallel-item::after {\n",
       "  content: \"\";\n",
       "  width: 100%;\n",
       "  border-bottom: 2px solid var(--sklearn-color-text-on-default-background);\n",
       "  flex-grow: 1;\n",
       "}\n",
       "\n",
       "#sk-container-id-1 div.sk-parallel {\n",
       "  display: flex;\n",
       "  align-items: stretch;\n",
       "  justify-content: center;\n",
       "  background-color: var(--sklearn-color-background);\n",
       "  position: relative;\n",
       "}\n",
       "\n",
       "#sk-container-id-1 div.sk-parallel-item {\n",
       "  display: flex;\n",
       "  flex-direction: column;\n",
       "}\n",
       "\n",
       "#sk-container-id-1 div.sk-parallel-item:first-child::after {\n",
       "  align-self: flex-end;\n",
       "  width: 50%;\n",
       "}\n",
       "\n",
       "#sk-container-id-1 div.sk-parallel-item:last-child::after {\n",
       "  align-self: flex-start;\n",
       "  width: 50%;\n",
       "}\n",
       "\n",
       "#sk-container-id-1 div.sk-parallel-item:only-child::after {\n",
       "  width: 0;\n",
       "}\n",
       "\n",
       "/* Serial-specific style estimator block */\n",
       "\n",
       "#sk-container-id-1 div.sk-serial {\n",
       "  display: flex;\n",
       "  flex-direction: column;\n",
       "  align-items: center;\n",
       "  background-color: var(--sklearn-color-background);\n",
       "  padding-right: 1em;\n",
       "  padding-left: 1em;\n",
       "}\n",
       "\n",
       "\n",
       "/* Toggleable style: style used for estimator/Pipeline/ColumnTransformer box that is\n",
       "clickable and can be expanded/collapsed.\n",
       "- Pipeline and ColumnTransformer use this feature and define the default style\n",
       "- Estimators will overwrite some part of the style using the `sk-estimator` class\n",
       "*/\n",
       "\n",
       "/* Pipeline and ColumnTransformer style (default) */\n",
       "\n",
       "#sk-container-id-1 div.sk-toggleable {\n",
       "  /* Default theme specific background. It is overwritten whether we have a\n",
       "  specific estimator or a Pipeline/ColumnTransformer */\n",
       "  background-color: var(--sklearn-color-background);\n",
       "}\n",
       "\n",
       "/* Toggleable label */\n",
       "#sk-container-id-1 label.sk-toggleable__label {\n",
       "  cursor: pointer;\n",
       "  display: flex;\n",
       "  width: 100%;\n",
       "  margin-bottom: 0;\n",
       "  padding: 0.5em;\n",
       "  box-sizing: border-box;\n",
       "  text-align: center;\n",
       "  align-items: start;\n",
       "  justify-content: space-between;\n",
       "  gap: 0.5em;\n",
       "}\n",
       "\n",
       "#sk-container-id-1 label.sk-toggleable__label .caption {\n",
       "  font-size: 0.6rem;\n",
       "  font-weight: lighter;\n",
       "  color: var(--sklearn-color-text-muted);\n",
       "}\n",
       "\n",
       "#sk-container-id-1 label.sk-toggleable__label-arrow:before {\n",
       "  /* Arrow on the left of the label */\n",
       "  content: \"▸\";\n",
       "  float: left;\n",
       "  margin-right: 0.25em;\n",
       "  color: var(--sklearn-color-icon);\n",
       "}\n",
       "\n",
       "#sk-container-id-1 label.sk-toggleable__label-arrow:hover:before {\n",
       "  color: var(--sklearn-color-text);\n",
       "}\n",
       "\n",
       "/* Toggleable content - dropdown */\n",
       "\n",
       "#sk-container-id-1 div.sk-toggleable__content {\n",
       "  max-height: 0;\n",
       "  max-width: 0;\n",
       "  overflow: hidden;\n",
       "  text-align: left;\n",
       "  /* unfitted */\n",
       "  background-color: var(--sklearn-color-unfitted-level-0);\n",
       "}\n",
       "\n",
       "#sk-container-id-1 div.sk-toggleable__content.fitted {\n",
       "  /* fitted */\n",
       "  background-color: var(--sklearn-color-fitted-level-0);\n",
       "}\n",
       "\n",
       "#sk-container-id-1 div.sk-toggleable__content pre {\n",
       "  margin: 0.2em;\n",
       "  border-radius: 0.25em;\n",
       "  color: var(--sklearn-color-text);\n",
       "  /* unfitted */\n",
       "  background-color: var(--sklearn-color-unfitted-level-0);\n",
       "}\n",
       "\n",
       "#sk-container-id-1 div.sk-toggleable__content.fitted pre {\n",
       "  /* unfitted */\n",
       "  background-color: var(--sklearn-color-fitted-level-0);\n",
       "}\n",
       "\n",
       "#sk-container-id-1 input.sk-toggleable__control:checked~div.sk-toggleable__content {\n",
       "  /* Expand drop-down */\n",
       "  max-height: 200px;\n",
       "  max-width: 100%;\n",
       "  overflow: auto;\n",
       "}\n",
       "\n",
       "#sk-container-id-1 input.sk-toggleable__control:checked~label.sk-toggleable__label-arrow:before {\n",
       "  content: \"▾\";\n",
       "}\n",
       "\n",
       "/* Pipeline/ColumnTransformer-specific style */\n",
       "\n",
       "#sk-container-id-1 div.sk-label input.sk-toggleable__control:checked~label.sk-toggleable__label {\n",
       "  color: var(--sklearn-color-text);\n",
       "  background-color: var(--sklearn-color-unfitted-level-2);\n",
       "}\n",
       "\n",
       "#sk-container-id-1 div.sk-label.fitted input.sk-toggleable__control:checked~label.sk-toggleable__label {\n",
       "  background-color: var(--sklearn-color-fitted-level-2);\n",
       "}\n",
       "\n",
       "/* Estimator-specific style */\n",
       "\n",
       "/* Colorize estimator box */\n",
       "#sk-container-id-1 div.sk-estimator input.sk-toggleable__control:checked~label.sk-toggleable__label {\n",
       "  /* unfitted */\n",
       "  background-color: var(--sklearn-color-unfitted-level-2);\n",
       "}\n",
       "\n",
       "#sk-container-id-1 div.sk-estimator.fitted input.sk-toggleable__control:checked~label.sk-toggleable__label {\n",
       "  /* fitted */\n",
       "  background-color: var(--sklearn-color-fitted-level-2);\n",
       "}\n",
       "\n",
       "#sk-container-id-1 div.sk-label label.sk-toggleable__label,\n",
       "#sk-container-id-1 div.sk-label label {\n",
       "  /* The background is the default theme color */\n",
       "  color: var(--sklearn-color-text-on-default-background);\n",
       "}\n",
       "\n",
       "/* On hover, darken the color of the background */\n",
       "#sk-container-id-1 div.sk-label:hover label.sk-toggleable__label {\n",
       "  color: var(--sklearn-color-text);\n",
       "  background-color: var(--sklearn-color-unfitted-level-2);\n",
       "}\n",
       "\n",
       "/* Label box, darken color on hover, fitted */\n",
       "#sk-container-id-1 div.sk-label.fitted:hover label.sk-toggleable__label.fitted {\n",
       "  color: var(--sklearn-color-text);\n",
       "  background-color: var(--sklearn-color-fitted-level-2);\n",
       "}\n",
       "\n",
       "/* Estimator label */\n",
       "\n",
       "#sk-container-id-1 div.sk-label label {\n",
       "  font-family: monospace;\n",
       "  font-weight: bold;\n",
       "  display: inline-block;\n",
       "  line-height: 1.2em;\n",
       "}\n",
       "\n",
       "#sk-container-id-1 div.sk-label-container {\n",
       "  text-align: center;\n",
       "}\n",
       "\n",
       "/* Estimator-specific */\n",
       "#sk-container-id-1 div.sk-estimator {\n",
       "  font-family: monospace;\n",
       "  border: 1px dotted var(--sklearn-color-border-box);\n",
       "  border-radius: 0.25em;\n",
       "  box-sizing: border-box;\n",
       "  margin-bottom: 0.5em;\n",
       "  /* unfitted */\n",
       "  background-color: var(--sklearn-color-unfitted-level-0);\n",
       "}\n",
       "\n",
       "#sk-container-id-1 div.sk-estimator.fitted {\n",
       "  /* fitted */\n",
       "  background-color: var(--sklearn-color-fitted-level-0);\n",
       "}\n",
       "\n",
       "/* on hover */\n",
       "#sk-container-id-1 div.sk-estimator:hover {\n",
       "  /* unfitted */\n",
       "  background-color: var(--sklearn-color-unfitted-level-2);\n",
       "}\n",
       "\n",
       "#sk-container-id-1 div.sk-estimator.fitted:hover {\n",
       "  /* fitted */\n",
       "  background-color: var(--sklearn-color-fitted-level-2);\n",
       "}\n",
       "\n",
       "/* Specification for estimator info (e.g. \"i\" and \"?\") */\n",
       "\n",
       "/* Common style for \"i\" and \"?\" */\n",
       "\n",
       ".sk-estimator-doc-link,\n",
       "a:link.sk-estimator-doc-link,\n",
       "a:visited.sk-estimator-doc-link {\n",
       "  float: right;\n",
       "  font-size: smaller;\n",
       "  line-height: 1em;\n",
       "  font-family: monospace;\n",
       "  background-color: var(--sklearn-color-background);\n",
       "  border-radius: 1em;\n",
       "  height: 1em;\n",
       "  width: 1em;\n",
       "  text-decoration: none !important;\n",
       "  margin-left: 0.5em;\n",
       "  text-align: center;\n",
       "  /* unfitted */\n",
       "  border: var(--sklearn-color-unfitted-level-1) 1pt solid;\n",
       "  color: var(--sklearn-color-unfitted-level-1);\n",
       "}\n",
       "\n",
       ".sk-estimator-doc-link.fitted,\n",
       "a:link.sk-estimator-doc-link.fitted,\n",
       "a:visited.sk-estimator-doc-link.fitted {\n",
       "  /* fitted */\n",
       "  border: var(--sklearn-color-fitted-level-1) 1pt solid;\n",
       "  color: var(--sklearn-color-fitted-level-1);\n",
       "}\n",
       "\n",
       "/* On hover */\n",
       "div.sk-estimator:hover .sk-estimator-doc-link:hover,\n",
       ".sk-estimator-doc-link:hover,\n",
       "div.sk-label-container:hover .sk-estimator-doc-link:hover,\n",
       ".sk-estimator-doc-link:hover {\n",
       "  /* unfitted */\n",
       "  background-color: var(--sklearn-color-unfitted-level-3);\n",
       "  color: var(--sklearn-color-background);\n",
       "  text-decoration: none;\n",
       "}\n",
       "\n",
       "div.sk-estimator.fitted:hover .sk-estimator-doc-link.fitted:hover,\n",
       ".sk-estimator-doc-link.fitted:hover,\n",
       "div.sk-label-container:hover .sk-estimator-doc-link.fitted:hover,\n",
       ".sk-estimator-doc-link.fitted:hover {\n",
       "  /* fitted */\n",
       "  background-color: var(--sklearn-color-fitted-level-3);\n",
       "  color: var(--sklearn-color-background);\n",
       "  text-decoration: none;\n",
       "}\n",
       "\n",
       "/* Span, style for the box shown on hovering the info icon */\n",
       ".sk-estimator-doc-link span {\n",
       "  display: none;\n",
       "  z-index: 9999;\n",
       "  position: relative;\n",
       "  font-weight: normal;\n",
       "  right: .2ex;\n",
       "  padding: .5ex;\n",
       "  margin: .5ex;\n",
       "  width: min-content;\n",
       "  min-width: 20ex;\n",
       "  max-width: 50ex;\n",
       "  color: var(--sklearn-color-text);\n",
       "  box-shadow: 2pt 2pt 4pt #999;\n",
       "  /* unfitted */\n",
       "  background: var(--sklearn-color-unfitted-level-0);\n",
       "  border: .5pt solid var(--sklearn-color-unfitted-level-3);\n",
       "}\n",
       "\n",
       ".sk-estimator-doc-link.fitted span {\n",
       "  /* fitted */\n",
       "  background: var(--sklearn-color-fitted-level-0);\n",
       "  border: var(--sklearn-color-fitted-level-3);\n",
       "}\n",
       "\n",
       ".sk-estimator-doc-link:hover span {\n",
       "  display: block;\n",
       "}\n",
       "\n",
       "/* \"?\"-specific style due to the `<a>` HTML tag */\n",
       "\n",
       "#sk-container-id-1 a.estimator_doc_link {\n",
       "  float: right;\n",
       "  font-size: 1rem;\n",
       "  line-height: 1em;\n",
       "  font-family: monospace;\n",
       "  background-color: var(--sklearn-color-background);\n",
       "  border-radius: 1rem;\n",
       "  height: 1rem;\n",
       "  width: 1rem;\n",
       "  text-decoration: none;\n",
       "  /* unfitted */\n",
       "  color: var(--sklearn-color-unfitted-level-1);\n",
       "  border: var(--sklearn-color-unfitted-level-1) 1pt solid;\n",
       "}\n",
       "\n",
       "#sk-container-id-1 a.estimator_doc_link.fitted {\n",
       "  /* fitted */\n",
       "  border: var(--sklearn-color-fitted-level-1) 1pt solid;\n",
       "  color: var(--sklearn-color-fitted-level-1);\n",
       "}\n",
       "\n",
       "/* On hover */\n",
       "#sk-container-id-1 a.estimator_doc_link:hover {\n",
       "  /* unfitted */\n",
       "  background-color: var(--sklearn-color-unfitted-level-3);\n",
       "  color: var(--sklearn-color-background);\n",
       "  text-decoration: none;\n",
       "}\n",
       "\n",
       "#sk-container-id-1 a.estimator_doc_link.fitted:hover {\n",
       "  /* fitted */\n",
       "  background-color: var(--sklearn-color-fitted-level-3);\n",
       "}\n",
       "</style><div id=\"sk-container-id-1\" class=\"sk-top-container\"><div class=\"sk-text-repr-fallback\"><pre>RandomForestClassifier(n_estimators=10, n_jobs=-1, random_state=42)</pre><b>In a Jupyter environment, please rerun this cell to show the HTML representation or trust the notebook. <br />On GitHub, the HTML representation is unable to render, please try loading this page with nbviewer.org.</b></div><div class=\"sk-container\" hidden><div class=\"sk-item\"><div class=\"sk-estimator  sk-toggleable\"><input class=\"sk-toggleable__control sk-hidden--visually\" id=\"sk-estimator-id-1\" type=\"checkbox\" checked><label for=\"sk-estimator-id-1\" class=\"sk-toggleable__label  sk-toggleable__label-arrow\"><div><div>RandomForestClassifier</div></div><div><a class=\"sk-estimator-doc-link \" rel=\"noreferrer\" target=\"_blank\" href=\"https://scikit-learn.org/1.6/modules/generated/sklearn.ensemble.RandomForestClassifier.html\">?<span>Documentation for RandomForestClassifier</span></a><span class=\"sk-estimator-doc-link \">i<span>Not fitted</span></span></div></label><div class=\"sk-toggleable__content \"><pre>RandomForestClassifier(n_estimators=10, n_jobs=-1, random_state=42)</pre></div> </div></div></div></div>"
      ],
      "text/plain": [
       "RandomForestClassifier(n_estimators=10, n_jobs=-1, random_state=42)"
      ]
     },
     "execution_count": 30,
     "metadata": {},
     "output_type": "execute_result"
    }
   ],
   "source": [
    "# 랜덤포레스트 모델\n",
    "# - 트리의 갯수(n_estimators) : 10개\n",
    "# - 사용할 CPU zhdj rot tn(n_jobs) : 전부\n",
    "# - 모델이 내부적으로 패턴을 찾는 랜덤규칙(random_state) : 42\n",
    "\n",
    "# 위 하이퍼파라미터 및 모델 설정값들을 이용해서 모델 생성\n",
    "rm = RandomForestClassifier(n_estimators=10, n_jobs=-1, random_state=42)\n",
    "rm"
   ]
  },
  {
   "cell_type": "code",
   "execution_count": null,
   "id": "bf253911-b60b-4bf6-b38a-7c1277d898cb",
   "metadata": {},
   "outputs": [],
   "source": []
  },
  {
   "cell_type": "code",
   "execution_count": 39,
   "id": "137d1f84-01bd-4d5e-8d0d-3d5686312694",
   "metadata": {},
   "outputs": [
    {
     "name": "stdout",
     "output_type": "stream",
     "text": [
      "train 테이터\n",
      "정확도 : 0.8753846153846154\n",
      "정밀도 : 0.994667343829355\n",
      "재현율 : 0.9944148260979944\n",
      "f1_score : 0.9945410689348737\n",
      "----------------------\n",
      "정확도 : 0.8753846153846154\n",
      "정밀도 : 0.9252934898612594\n",
      "재현율 : 0.9040667361835245\n",
      "f1_score : 0.9145569620253164\n",
      "----------------------\n",
      "0.11634138038217312\n"
     ]
    }
   ],
   "source": [
    "rm = RandomForestClassifier(n_estimators=10, n_jobs=-1, random_state=42)\n",
    "\n",
    "### 훈련시키기\n",
    "rm.fit(train_std_scaled, train_target)\n",
    "### 훈련 정확도 확인\n",
    "rm.score(train_std_scaled, train_target)\n",
    "\n",
    "train_pred = rm.predict(train_std_scaled)\n",
    "### 테스트 정확도 확인\n",
    "\n",
    "# 정확도 model.score() 와 동일\n",
    "train_acs = accuracy_score(train_target, train_pred)\n",
    "# 정밀도 \n",
    "ps = precision_score(train_target, train_pred)\n",
    "# 재현율\n",
    "rs = recall_score(train_target, train_pred)\n",
    "# f1_score\n",
    "f1s = f1_score(train_target, train_pred)\n",
    "print(\"train 테이터\")\n",
    "print(f\"정확도 : {acs}\")\n",
    "print(f\"정밀도 : {ps}\")\n",
    "print(f\"재현율 : {rs}\")\n",
    "print(f\"f1_score : {f1s}\")\n",
    "print(\"----------------------\")\n",
    "### 훈련 및 테스트 정확도 출력\n",
    "test_pred = rm.predict(test_std_scaled)\n",
    "# 정확도 model.score() 와 동일\n",
    "acs = accuracy_score(test_target, test_pred)\n",
    "# 정밀도 \n",
    "ps = precision_score(test_target, test_pred)\n",
    "# 재현율\n",
    "rs = recall_score(test_target, test_pred)\n",
    "# f1_score\n",
    "f1s = f1_score(test_target, test_pred)\n",
    "\n",
    "print(f\"정확도 : {acs}\")\n",
    "print(f\"정밀도 : {ps}\")\n",
    "print(f\"재현율 : {rs}\")\n",
    "print(f\"f1_score : {f1s}\")\n",
    "\n",
    "print(\"----------------------\")\n",
    "print(train_acs - acs)"
   ]
  },
  {
   "cell_type": "code",
   "execution_count": 41,
   "id": "2c7a7650-c40d-4bc9-a598-1a66218e4631",
   "metadata": {},
   "outputs": [
    {
     "name": "stdout",
     "output_type": "stream",
     "text": [
      "train 테이터\n",
      "정확도 : 0.9834519915335771\n",
      "정밀도 : 0.9875980764363452\n",
      "재현율 : 0.9906067529829906\n",
      "f1_score : 0.9891001267427123\n",
      "----------------------\n",
      "정확도 : 0.8723076923076923\n",
      "정밀도 : 0.910880829015544\n",
      "재현율 : 0.9165797705943691\n",
      "f1_score : 0.9137214137214137\n",
      "----------------------\n",
      "0.11114429922588476\n"
     ]
    }
   ],
   "source": [
    "rm = RandomForestClassifier(n_estimators=5, n_jobs=-1, random_state=42)\n",
    "\n",
    "### 훈련시키기\n",
    "rm.fit(train_std_scaled, train_target)\n",
    "### 훈련 정확도 확인\n",
    "rm.score(train_std_scaled, train_target)\n",
    "\n",
    "train_pred = rm.predict(train_std_scaled)\n",
    "### 테스트 정확도 확인\n",
    "\n",
    "# 정확도 model.score() 와 동일\n",
    "train_acs = accuracy_score(train_target, train_pred)\n",
    "# 정밀도 \n",
    "ps = precision_score(train_target, train_pred)\n",
    "# 재현율\n",
    "rs = recall_score(train_target, train_pred)\n",
    "# f1_score\n",
    "f1s = f1_score(train_target, train_pred)\n",
    "print(\"train 테이터\")\n",
    "print(f\"정확도 : {train_acs}\")\n",
    "print(f\"정밀도 : {ps}\")\n",
    "print(f\"재현율 : {rs}\")\n",
    "print(f\"f1_score : {f1s}\")\n",
    "print(\"----------------------\")\n",
    "### 훈련 및 테스트 정확도 출력\n",
    "test_pred = rm.predict(test_std_scaled)\n",
    "# 정확도 model.score() 와 동일\n",
    "acs = accuracy_score(test_target, test_pred)\n",
    "# 정밀도 \n",
    "ps = precision_score(test_target, test_pred)\n",
    "# 재현율\n",
    "rs = recall_score(test_target, test_pred)\n",
    "# f1_score\n",
    "f1s = f1_score(test_target, test_pred)\n",
    "\n",
    "print(f\"정확도 : {acs}\")\n",
    "print(f\"정밀도 : {ps}\")\n",
    "print(f\"재현율 : {rs}\")\n",
    "print(f\"f1_score : {f1s}\")\n",
    "\n",
    "print(\"----------------------\")\n",
    "print(train_acs - acs)"
   ]
  },
  {
   "cell_type": "code",
   "execution_count": 42,
   "id": "c2629dad-9c1d-42f4-af74-8761f53ccc4f",
   "metadata": {},
   "outputs": [
    {
     "name": "stdout",
     "output_type": "stream",
     "text": [
      "train 테이터\n",
      "정확도 : 0.9742158937848759\n",
      "정밀도 : 0.9800656068634872\n",
      "재현율 : 0.986037065244986\n",
      "f1_score : 0.9830422677803088\n",
      "----------------------\n",
      "정확도 : 0.8707692307692307\n",
      "정밀도 : 0.9031600407747197\n",
      "재현율 : 0.9238790406673618\n",
      "f1_score : 0.9134020618556701\n",
      "----------------------\n",
      "0.1034466630156452\n"
     ]
    }
   ],
   "source": [
    "rm = RandomForestClassifier(n_estimators=3, n_jobs=-1, random_state=42)\n",
    "\n",
    "### 훈련시키기\n",
    "rm.fit(train_std_scaled, train_target)\n",
    "### 훈련 정확도 확인\n",
    "rm.score(train_std_scaled, train_target)\n",
    "\n",
    "train_pred = rm.predict(train_std_scaled)\n",
    "### 테스트 정확도 확인\n",
    "\n",
    "# 정확도 model.score() 와 동일\n",
    "train_acs = accuracy_score(train_target, train_pred)\n",
    "# 정밀도 \n",
    "ps = precision_score(train_target, train_pred)\n",
    "# 재현율\n",
    "rs = recall_score(train_target, train_pred)\n",
    "# f1_score\n",
    "f1s = f1_score(train_target, train_pred)\n",
    "print(\"train 테이터\")\n",
    "print(f\"정확도 : {train_acs}\")\n",
    "print(f\"정밀도 : {ps}\")\n",
    "print(f\"재현율 : {rs}\")\n",
    "print(f\"f1_score : {f1s}\")\n",
    "print(\"----------------------\")\n",
    "### 훈련 및 테스트 정확도 출력\n",
    "test_pred = rm.predict(test_std_scaled)\n",
    "# 정확도 model.score() 와 동일\n",
    "acs = accuracy_score(test_target, test_pred)\n",
    "# 정밀도 \n",
    "ps = precision_score(test_target, test_pred)\n",
    "# 재현율\n",
    "rs = recall_score(test_target, test_pred)\n",
    "# f1_score\n",
    "f1s = f1_score(test_target, test_pred)\n",
    "\n",
    "print(f\"정확도 : {acs}\")\n",
    "print(f\"정밀도 : {ps}\")\n",
    "print(f\"재현율 : {rs}\")\n",
    "print(f\"f1_score : {f1s}\")\n",
    "\n",
    "print(\"----------------------\")\n",
    "print(train_acs - acs)"
   ]
  },
  {
   "cell_type": "markdown",
   "id": "229eb655-d2ec-4c11-89e8-e1fa3a178660",
   "metadata": {},
   "source": [
    "# 엑스트라트리(ExtraTree) 모델\n",
    "- 랜덤포레스트와 유사\n",
    "- 디폴트로 트리 100개 사용\n",
    "- 계산속도가 랜덤포레스트보다 빠름"
   ]
  },
  {
   "cell_type": "code",
   "execution_count": 46,
   "id": "cbe74917-b59a-439b-a936-ae887bb1470f",
   "metadata": {},
   "outputs": [
    {
     "name": "stdout",
     "output_type": "stream",
     "text": [
      "0.11076745459658677\n"
     ]
    }
   ],
   "source": [
    "### 모델 생성\n",
    "et = ExtraTreesClassifier(n_jobs=-1, random_state=42)\n",
    "\n",
    "### 훈련시키기\n",
    "et.fit(train_std_scaled, train_target)\n",
    "\n",
    "### 훈련 및테스트 정확도 확인\n",
    "train_pred = et.predict(train_std_scaled)\n",
    "test_pred = et.predict(test_std_scaled)\n",
    "\n",
    "train_acs = accuracy_score(train_target, train_pred)\n",
    "test_acs = accuracy_score(test_target, test_pred)\n",
    "\n",
    "print(train_acs - test_acs)"
   ]
  },
  {
   "cell_type": "code",
   "execution_count": null,
   "id": "a23d9633-3d82-4dda-8a78-bb0a78096102",
   "metadata": {},
   "outputs": [],
   "source": [
    "### 모델 생성\n",
    "et = ExtraTreesClassifier(n_jobs=-1, random_state=42)\n",
    "\n",
    "### 훈련시키기\n",
    "et.fit(train_std_scaled, train_target)\n",
    "\n",
    "### 훈련 및테스트 정확도 확인\n",
    "train_pred = et.predict(train_std_scaled)\n",
    "test_pred = et.predict(test_std_scaled)\n",
    "\n",
    "train_acs = accuracy_score(train_target, train_pred)\n",
    "test_acs = accuracy_score(test_target, test_pred)\n",
    "\n",
    "print(train_acs - test_acs)"
   ]
  },
  {
   "cell_type": "markdown",
   "id": "37d252c6-328c-4be5-a9f4-907099fc3bd8",
   "metadata": {},
   "source": [
    "# 그레디언트부스트(Gradient boosting) 모델\n",
    "- 기존 훈련 모델들의 성능이 좋지 않을 때 주로 사용하는 모델\n",
    "- 랜덤포레스트 및 엑스트라트리보다 속도가 느림\n",
    "- 트리 기본값 : 100\n",
    "- *일반화*에 강한 모델"
   ]
  },
  {
   "cell_type": "code",
   "execution_count": 49,
   "id": "4d9a13fc-51db-4d40-a365-66e67ee8292c",
   "metadata": {},
   "outputs": [
    {
     "name": "stdout",
     "output_type": "stream",
     "text": [
      "0.8880123147969983\n",
      "0.021089237873921363\n"
     ]
    }
   ],
   "source": [
    "### 모델 생성\n",
    "gb = GradientBoostingClassifier(random_state=42)\n",
    "\n",
    "### 훈련시키기\n",
    "gb.fit(train_std_scaled, train_target)\n",
    "\n",
    "### 훈련 및테스트 정확도 확인\n",
    "train_pred = gb.predict(train_std_scaled)\n",
    "test_pred = gb.predict(test_std_scaled)\n",
    "\n",
    "train_acs = accuracy_score(train_target, train_pred)\n",
    "test_acs = accuracy_score(test_target, test_pred)\n",
    "\n",
    "print(train_acs)\n",
    "print(train_acs - test_acs)"
   ]
  },
  {
   "cell_type": "markdown",
   "id": "9ebea168-42f0-4da5-afe2-31791f076b62",
   "metadata": {},
   "source": [
    "# 히스트그레디언트부스트(HistGradient boosting) 모델\n",
    "- 정확한 명칭 : 히스토그램 기반 그레디언트 부스팅 (Histogram Gradient boosting)\n",
    "- 앙상블에서 가장 인기있는 모델\n",
    "- 그레디언트부스트 의 속도를 개선한 모델\n",
    "- 하이퍼파라미터 튜일을 하지 않아도 성능이 좋은 모델로 평가하고 있음"
   ]
  },
  {
   "cell_type": "code",
   "execution_count": 51,
   "id": "6ba3836d-3296-4e5d-988c-ccc1bbbe1c71",
   "metadata": {},
   "outputs": [
    {
     "name": "stdout",
     "output_type": "stream",
     "text": [
      "0.924956705791803\n",
      "0.8723076923076923\n",
      "0.05264901348411066\n"
     ]
    }
   ],
   "source": [
    "### 모델 생성\n",
    "hgb = HistGradientBoostingClassifier(random_state=42)\n",
    "\n",
    "### 훈련시키기\n",
    "hgb.fit(train_std_scaled, train_target)\n",
    "\n",
    "### 훈련 및테스트 정확도 확인\n",
    "train_pred = hgb.predict(train_std_scaled)\n",
    "test_pred = hgb.predict(test_std_scaled)\n",
    "\n",
    "train_acs = accuracy_score(train_target, train_pred)\n",
    "test_acs = accuracy_score(test_target, test_pred)\n",
    "\n",
    "print(train_acs)\n",
    "print(test_acs)\n",
    "print(train_acs - test_acs)"
   ]
  },
  {
   "cell_type": "code",
   "execution_count": 57,
   "id": "9c59abf4-e065-40ee-88aa-7f5219eaa3a2",
   "metadata": {},
   "outputs": [
    {
     "name": "stdout",
     "output_type": "stream",
     "text": [
      "정확도 : 0.8723076923076923\n",
      "정밀도 : 0.9178082191780822\n",
      "재현율 : 0.908237747653806\n",
      "f1_score : 0.9129979035639413\n"
     ]
    },
    {
     "data": {
      "text/plain": [
       "<sklearn.metrics._plot.confusion_matrix.ConfusionMatrixDisplay at 0x2d2731edb20>"
      ]
     },
     "execution_count": 57,
     "metadata": {},
     "output_type": "execute_result"
    },
    {
     "data": {
      "image/png": "[encoded data removed]",
      "text/plain": [
       "<Figure size 640x480 with 2 Axes>"
      ]
     },
     "metadata": {},
     "output_type": "display_data"
    }
   ],
   "source": [
    "acs = accuracy_score(test_target, test_pred)\n",
    "# 정밀도 \n",
    "ps = precision_score(test_target, test_pred)\n",
    "# 재현율\n",
    "rs = recall_score(test_target, test_pred)\n",
    "# f1_score\n",
    "f1s = f1_score(test_target, test_pred)\n",
    "\n",
    "print(f\"정확도 : {acs}\")\n",
    "print(f\"정밀도 : {ps}\")\n",
    "print(f\"재현율 : {rs}\")\n",
    "print(f\"f1_score : {f1s}\")\n",
    "\n",
    "cm = confusion_matrix(test_target, test_pred, labels=hgb.classes_)\n",
    "disp = ConfusionMatrixDisplay(cm, display_labels=hgb.classes_)\n",
    "disp.plot()"
   ]
  },
  {
   "cell_type": "markdown",
   "id": "e8ed6ea6-25b7-4108-b33a-1e43a33c23a6",
   "metadata": {},
   "source": [
    "<해석>\n",
    " - HGB 모델의 훈련 모델은 0.92 아상의 매우 높은 정확도를 나타내고 있으며,\n",
    " - 재현율 0.91, f1-score 0.91의 매우 높은 평가 지표를 나타내고 있음\n",
    " - 따라서, 와인분류를 위해 HGB모델을 활용하는데 문제가 없을 것으로 판단함"
   ]
  },
  {
   "cell_type": "markdown",
   "id": "8aae31a2-666c-4116-b1de-f69a3e9d3d8f",
   "metadata": {},
   "source": [
    "# 엑스지비(XGB) 모델\n",
    "- HGB 모델과 유사한 성능을 나타냄\n",
    "- sklearn 패키지에 포함되어 있지 않음"
   ]
  },
  {
   "cell_type": "code",
   "execution_count": 59,
   "id": "546aa77b-85d5-4d65-ac28-65e37bf6156c",
   "metadata": {},
   "outputs": [],
   "source": [
    "from xgboost import XGBClassifier\n",
    "from sklearn import set_config\n",
    "set_config(display=\"text\")"
   ]
  },
  {
   "cell_type": "code",
   "execution_count": 61,
   "id": "5dba03e8-2e53-4bcb-9ce4-bf0a3486ce64",
   "metadata": {},
   "outputs": [
    {
     "data": {
      "text/plain": [
       "XGBClassifier(base_score=None, booster=None, callbacks=None,\n",
       "              colsample_bylevel=None, colsample_bynode=None,\n",
       "              colsample_bytree=None, device=None, early_stopping_rounds=None,\n",
       "              enable_categorical=False, eval_metric=None, feature_types=None,\n",
       "              gamma=None, grow_policy=None, importance_type=None,\n",
       "              interaction_constraints=None, learning_rate=None, max_bin=None,\n",
       "              max_cat_threshold=None, max_cat_to_onehot=None,\n",
       "              max_delta_step=None, max_depth=None, max_leaves=None,\n",
       "              min_child_weight=None, missing=nan, monotone_constraints=None,\n",
       "              multi_strategy=None, n_estimators=None, n_jobs=None,\n",
       "              num_parallel_tree=None, random_state=42, ...)"
      ]
     },
     "execution_count": 61,
     "metadata": {},
     "output_type": "execute_result"
    }
   ],
   "source": [
    "xgb = XGBClassifier(random_state = 42)\n",
    "xgb"
   ]
  },
  {
   "cell_type": "code",
   "execution_count": 62,
   "id": "e2182287-6781-4aa8-a847-7f13ac190aaa",
   "metadata": {},
   "outputs": [
    {
     "name": "stdout",
     "output_type": "stream",
     "text": [
      "0.9513180681162209\n",
      "0.88\n",
      "0.07131806811622088\n"
     ]
    }
   ],
   "source": [
    "### 훈련시키기\n",
    "xgb.fit(train_std_scaled, train_target)\n",
    "\n",
    "### 훈련 및테스트 정확도 확인\n",
    "train_pred = xgb.predict(train_std_scaled)\n",
    "test_pred = xgb.predict(test_std_scaled)\n",
    "\n",
    "train_acs = accuracy_score(train_target, train_pred)\n",
    "test_acs = accuracy_score(test_target, test_pred)\n",
    "\n",
    "print(train_acs)\n",
    "print(test_acs)\n",
    "print(train_acs - test_acs)"
   ]
  },
  {
   "cell_type": "code",
   "execution_count": 66,
   "id": "2fa9c41e-20e7-47c9-aa11-104cf4e97b99",
   "metadata": {},
   "outputs": [
    {
     "name": "stdout",
     "output_type": "stream",
     "text": [
      "정확도 : 0.88\n",
      "정밀도 : 0.9204188481675393\n",
      "재현율 : 0.9165797705943691\n",
      "f1_score : 0.9184952978056427\n"
     ]
    },
    {
     "data": {
      "text/plain": [
       "<sklearn.metrics._plot.confusion_matrix.ConfusionMatrixDisplay at 0x2d272d61bb0>"
      ]
     },
     "execution_count": 66,
     "metadata": {},
     "output_type": "execute_result"
    },
    {
     "data": {
      "image/png": "[encoded data removed]",
      "text/plain": [
       "<Figure size 640x480 with 2 Axes>"
      ]
     },
     "metadata": {},
     "output_type": "display_data"
    }
   ],
   "source": [
    "acs = accuracy_score(test_target, test_pred)\n",
    "# 정밀도 \n",
    "ps = precision_score(test_target, test_pred)\n",
    "# 재현율\n",
    "rs = recall_score(test_target, test_pred)\n",
    "# f1_score\n",
    "f1s = f1_score(test_target, test_pred)\n",
    "\n",
    "print(f\"정확도 : {acs}\")\n",
    "print(f\"정밀도 : {ps}\")\n",
    "print(f\"재현율 : {rs}\")\n",
    "print(f\"f1_score : {f1s}\")\n",
    "\n",
    "cm = confusion_matrix(test_target, test_pred, labels=xgb.classes_)\n",
    "disp = ConfusionMatrixDisplay(cm, display_labels=xgb.classes_)\n",
    "disp.plot()"
   ]
  },
  {
   "cell_type": "markdown",
   "id": "f0af9b94-d7af-474a-b03f-18f2bcabbadd",
   "metadata": {},
   "source": [
    "# 전체 모델에 대한 결과를 데이터프레임의 행렬 표로 만들기\n",
    "- 데이터프레임 변수명 : df\n",
    "- 사용 모델 5 개 : rm, et, gb, hgb, xgb 모델 사용하여 아래 컬럼에 대한 결과값 추출\n",
    "- 컬럼명 : 모델명, 훈련정확도, 예측정확도, 정밀도, 재현율, f1-score, 훈련-예측\n",
    "- 함수 이용하기 : 함수명은 getResult()"
   ]
  },
  {
   "cell_type": "code",
   "execution_count": 97,
   "id": "d3bbfe19-f460-480b-8265-da119e4ba392",
   "metadata": {},
   "outputs": [],
   "source": [
    "rm = RandomForestClassifier(random_state=42)\n",
    "et = ExtraTreesClassifier(random_state=42)\n",
    "gb = GradientBoostingClassifier(random_state=42)\n",
    "hgb = HistGradientBoostingClassifier(random_state=42)\n",
    "xgb = XGBClassifier(random_state=42)\n",
    "\n",
    "model_list = [rm, et, gb, hgb, xgb]"
   ]
  },
  {
   "cell_type": "code",
   "execution_count": null,
   "id": "eda6d7bc-24c7-44b5-a210-aeb00fc7ea5e",
   "metadata": {},
   "outputs": [],
   "source": []
  },
  {
   "cell_type": "code",
   "execution_count": 85,
   "id": "fa473bfe-e8e9-4e98-9c0d-18a5c0484d08",
   "metadata": {},
   "outputs": [
    {
     "data": {
      "text/html": [
       "<div>\n",
       "<style scoped>\n",
       "    .dataframe tbody tr th:only-of-type {\n",
       "        vertical-align: middle;\n",
       "    }\n",
       "\n",
       "    .dataframe tbody tr th {\n",
       "        vertical-align: top;\n",
       "    }\n",
       "\n",
       "    .dataframe thead th {\n",
       "        text-align: right;\n",
       "    }\n",
       "</style>\n",
       "<table border=\"1\" class=\"dataframe\">\n",
       "  <thead>\n",
       "    <tr style=\"text-align: right;\">\n",
       "      <th></th>\n",
       "      <th>모델명</th>\n",
       "      <th>훈련정확도</th>\n",
       "      <th>예측정확도</th>\n",
       "      <th>정밀도</th>\n",
       "      <th>재현율</th>\n",
       "      <th>f1-score</th>\n",
       "      <th>훈련-예측</th>\n",
       "    </tr>\n",
       "  </thead>\n",
       "  <tbody>\n",
       "    <tr>\n",
       "      <th>0</th>\n",
       "      <td>XGBClassifier</td>\n",
       "      <td>0.951318</td>\n",
       "      <td>0.88</td>\n",
       "      <td>0.920419</td>\n",
       "      <td>0.91658</td>\n",
       "      <td>0.918495</td>\n",
       "      <td>0.071318</td>\n",
       "    </tr>\n",
       "  </tbody>\n",
       "</table>\n",
       "</div>"
      ],
      "text/plain": [
       "             모델명     훈련정확도  예측정확도       정밀도      재현율  f1-score     훈련-예측\n",
       "0  XGBClassifier  0.951318   0.88  0.920419  0.91658  0.918495  0.071318"
      ]
     },
     "execution_count": 85,
     "metadata": {},
     "output_type": "execute_result"
    }
   ],
   "source": [
    "\n",
    "### 훈련시키기\n",
    "xgb.fit(train_std_scaled, train_target)\n",
    "\n",
    "### 훈련 및테스트 정확도 확인\n",
    "train_pred = xgb.predict(train_std_scaled)\n",
    "test_pred = xgb.predict(test_std_scaled)\n",
    "\n",
    "train_acs = accuracy_score(train_target, train_pred)\n",
    "test_acs = accuracy_score(test_target, test_pred)\n",
    "\n",
    "ac = accuracy_score(test_target, test_pred)\n",
    "# 정밀도 \n",
    "ps = precision_score(test_target, test_pred)\n",
    "# 재현율\n",
    "rs = recall_score(test_target, test_pred)\n",
    "# f1_score\n",
    "f1s = f1_score(test_target, test_pred)\n",
    "\n",
    "ac_diff = train_acs - test_acs\n",
    "\n",
    "\n",
    "df_tmp = pd.DataFrame(columns=['모델명', '훈련정확도','예측정확도','정밀도','재현율','f1-score','훈련-예측'])\n",
    "df_tmp.loc[0] = [xgb.__class__.__name__, train_acs, test_acs, ps, rs, f1s, ac_diff]\n",
    "# df_tmp = pd.DataFrame()\n",
    "# df_tmp[\"모델명\"] = xgb.__class__.__name__\n",
    "# df_tmp[\"훈련정확도\"] = train_acs\n",
    "# df_tmp[\"예측정확도\"] = test_acs\n",
    "# df_tmp[\"정밀도\"] = ps\n",
    "# df_tmp[\"재현율\"] = rs\n",
    "# df_tmp[\"f1-score\"] = f1s\n",
    "# df_tmp[\"훈련-예측\"] = ac_diff\n",
    "# print(xgb.__class__.__name__)\n",
    "# print(train_acs, test_acs, ps, rs, f1s, ac_diff)\n",
    "\n",
    "\n",
    "\n",
    "# df_tmp[\"모델명\"] = xgb.__class__.__name__\n",
    "df_tmp"
   ]
  },
  {
   "cell_type": "code",
   "execution_count": 98,
   "id": "5e483c03-c62e-49fd-a829-b2eabdf5d9ed",
   "metadata": {},
   "outputs": [
    {
     "data": {
      "text/html": [
       "<div>\n",
       "<style scoped>\n",
       "    .dataframe tbody tr th:only-of-type {\n",
       "        vertical-align: middle;\n",
       "    }\n",
       "\n",
       "    .dataframe tbody tr th {\n",
       "        vertical-align: top;\n",
       "    }\n",
       "\n",
       "    .dataframe thead th {\n",
       "        text-align: right;\n",
       "    }\n",
       "</style>\n",
       "<table border=\"1\" class=\"dataframe\">\n",
       "  <thead>\n",
       "    <tr style=\"text-align: right;\">\n",
       "      <th></th>\n",
       "      <th>모델명</th>\n",
       "      <th>훈련정확도</th>\n",
       "      <th>예측정확도</th>\n",
       "      <th>정밀도</th>\n",
       "      <th>재현율</th>\n",
       "      <th>f1-score</th>\n",
       "      <th>훈련-예측</th>\n",
       "    </tr>\n",
       "  </thead>\n",
       "  <tbody>\n",
       "    <tr>\n",
       "      <th>0</th>\n",
       "      <td>RandomForestClassifier</td>\n",
       "      <td>0.996921</td>\n",
       "      <td>0.889231</td>\n",
       "      <td>0.922280</td>\n",
       "      <td>0.928050</td>\n",
       "      <td>0.925156</td>\n",
       "      <td>0.107691</td>\n",
       "    </tr>\n",
       "    <tr>\n",
       "      <th>1</th>\n",
       "      <td>ExtraTreesClassifier</td>\n",
       "      <td>0.996921</td>\n",
       "      <td>0.886154</td>\n",
       "      <td>0.915897</td>\n",
       "      <td>0.931178</td>\n",
       "      <td>0.923475</td>\n",
       "      <td>0.110767</td>\n",
       "    </tr>\n",
       "    <tr>\n",
       "      <th>2</th>\n",
       "      <td>GradientBoostingClassifier</td>\n",
       "      <td>0.888012</td>\n",
       "      <td>0.866923</td>\n",
       "      <td>0.905155</td>\n",
       "      <td>0.915537</td>\n",
       "      <td>0.910316</td>\n",
       "      <td>0.021089</td>\n",
       "    </tr>\n",
       "    <tr>\n",
       "      <th>3</th>\n",
       "      <td>HistGradientBoostingClassifier</td>\n",
       "      <td>0.924957</td>\n",
       "      <td>0.872308</td>\n",
       "      <td>0.917808</td>\n",
       "      <td>0.908238</td>\n",
       "      <td>0.912998</td>\n",
       "      <td>0.052649</td>\n",
       "    </tr>\n",
       "    <tr>\n",
       "      <th>4</th>\n",
       "      <td>XGBClassifier</td>\n",
       "      <td>0.951318</td>\n",
       "      <td>0.880000</td>\n",
       "      <td>0.920419</td>\n",
       "      <td>0.916580</td>\n",
       "      <td>0.918495</td>\n",
       "      <td>0.071318</td>\n",
       "    </tr>\n",
       "  </tbody>\n",
       "</table>\n",
       "</div>"
      ],
      "text/plain": [
       "                              모델명     훈련정확도     예측정확도       정밀도       재현율  \\\n",
       "0          RandomForestClassifier  0.996921  0.889231  0.922280  0.928050   \n",
       "1            ExtraTreesClassifier  0.996921  0.886154  0.915897  0.931178   \n",
       "2      GradientBoostingClassifier  0.888012  0.866923  0.905155  0.915537   \n",
       "3  HistGradientBoostingClassifier  0.924957  0.872308  0.917808  0.908238   \n",
       "4                   XGBClassifier  0.951318  0.880000  0.920419  0.916580   \n",
       "\n",
       "   f1-score     훈련-예측  \n",
       "0  0.925156  0.107691  \n",
       "1  0.923475  0.110767  \n",
       "2  0.910316  0.021089  \n",
       "3  0.912998  0.052649  \n",
       "4  0.918495  0.071318  "
      ]
     },
     "execution_count": 98,
     "metadata": {},
     "output_type": "execute_result"
    }
   ],
   "source": [
    "df = pd.DataFrame(columns=['모델명', '훈련정확도','예측정확도','정밀도','재현율','f1-score','훈련-예측'])\n",
    "\n",
    "def getResult(model):\n",
    "    model.fit(train_std_scaled, train_target)\n",
    "\n",
    "    ### 훈련 및테스트 정확도 확인\n",
    "    train_pred = model.predict(train_std_scaled)\n",
    "    test_pred = model.predict(test_std_scaled)\n",
    "    \n",
    "    train_acs = accuracy_score(train_target, train_pred)\n",
    "    test_acs = accuracy_score(test_target, test_pred)\n",
    "    \n",
    "    ac = accuracy_score(test_target, test_pred)\n",
    "    # 정밀도 \n",
    "    ps = precision_score(test_target, test_pred)\n",
    "    # 재현율\n",
    "    rs = recall_score(test_target, test_pred)\n",
    "    # f1_score\n",
    "    f1s = f1_score(test_target, test_pred)\n",
    "    \n",
    "    ac_diff = train_acs - test_acs\n",
    "\n",
    "    return [model.__class__.__name__, train_acs, test_acs, ps, rs, f1s, ac_diff]\n",
    "\n",
    "for i in range(len(model_list)):\n",
    "    name, train_acs, test_acs, ps, rs, f1s, ac_diff = getResult(model_list[i])\n",
    "    df. = [name, train_acs, test_acs, ps, rs, f1s, ac_diff]\n",
    "    \n",
    "df\n"
   ]
  },
  {
   "cell_type": "code",
   "execution_count": 91,
   "id": "a09105c6-5f37-4770-972f-8f7cce303def",
   "metadata": {},
   "outputs": [
    {
     "data": {
      "text/html": [
       "<div>\n",
       "<style scoped>\n",
       "    .dataframe tbody tr th:only-of-type {\n",
       "        vertical-align: middle;\n",
       "    }\n",
       "\n",
       "    .dataframe tbody tr th {\n",
       "        vertical-align: top;\n",
       "    }\n",
       "\n",
       "    .dataframe thead th {\n",
       "        text-align: right;\n",
       "    }\n",
       "</style>\n",
       "<table border=\"1\" class=\"dataframe\">\n",
       "  <thead>\n",
       "    <tr style=\"text-align: right;\">\n",
       "      <th></th>\n",
       "      <th>모델명</th>\n",
       "      <th>훈련정확도</th>\n",
       "      <th>예측정확도</th>\n",
       "      <th>정밀도</th>\n",
       "      <th>재현율</th>\n",
       "      <th>f1-score</th>\n",
       "      <th>훈련-예측</th>\n",
       "    </tr>\n",
       "  </thead>\n",
       "  <tbody>\n",
       "    <tr>\n",
       "      <th>0</th>\n",
       "      <td>RandomForestClassifier</td>\n",
       "      <td>0.996921</td>\n",
       "      <td>0.886923</td>\n",
       "      <td>0.920290</td>\n",
       "      <td>0.927007</td>\n",
       "      <td>0.923636</td>\n",
       "      <td>0.109998</td>\n",
       "    </tr>\n",
       "    <tr>\n",
       "      <th>1</th>\n",
       "      <td>ExtraTreesClassifier</td>\n",
       "      <td>0.996921</td>\n",
       "      <td>0.880769</td>\n",
       "      <td>0.912731</td>\n",
       "      <td>0.927007</td>\n",
       "      <td>0.919814</td>\n",
       "      <td>0.116152</td>\n",
       "    </tr>\n",
       "    <tr>\n",
       "      <th>2</th>\n",
       "      <td>GradientBoostingClassifier</td>\n",
       "      <td>0.888012</td>\n",
       "      <td>0.866923</td>\n",
       "      <td>0.905155</td>\n",
       "      <td>0.915537</td>\n",
       "      <td>0.910316</td>\n",
       "      <td>0.021089</td>\n",
       "    </tr>\n",
       "    <tr>\n",
       "      <th>3</th>\n",
       "      <td>HistGradientBoostingClassifier</td>\n",
       "      <td>0.924957</td>\n",
       "      <td>0.872308</td>\n",
       "      <td>0.917808</td>\n",
       "      <td>0.908238</td>\n",
       "      <td>0.912998</td>\n",
       "      <td>0.052649</td>\n",
       "    </tr>\n",
       "    <tr>\n",
       "      <th>4</th>\n",
       "      <td>XGBClassifier</td>\n",
       "      <td>0.951318</td>\n",
       "      <td>0.880000</td>\n",
       "      <td>0.920419</td>\n",
       "      <td>0.916580</td>\n",
       "      <td>0.918495</td>\n",
       "      <td>0.071318</td>\n",
       "    </tr>\n",
       "  </tbody>\n",
       "</table>\n",
       "</div>"
      ],
      "text/plain": [
       "                              모델명     훈련정확도     예측정확도       정밀도       재현율  \\\n",
       "0          RandomForestClassifier  0.996921  0.886923  0.920290  0.927007   \n",
       "1            ExtraTreesClassifier  0.996921  0.880769  0.912731  0.927007   \n",
       "2      GradientBoostingClassifier  0.888012  0.866923  0.905155  0.915537   \n",
       "3  HistGradientBoostingClassifier  0.924957  0.872308  0.917808  0.908238   \n",
       "4                   XGBClassifier  0.951318  0.880000  0.920419  0.916580   \n",
       "\n",
       "   f1-score     훈련-예측  \n",
       "0  0.923636  0.109998  \n",
       "1  0.919814  0.116152  \n",
       "2  0.910316  0.021089  \n",
       "3  0.912998  0.052649  \n",
       "4  0.918495  0.071318  "
      ]
     },
     "execution_count": 91,
     "metadata": {},
     "output_type": "execute_result"
    }
   ],
   "source": [
    "df"
   ]
  },
  {
   "cell_type": "code",
   "execution_count": 92,
   "id": "231b3b56-00b6-48f8-a2c7-349af7d20914",
   "metadata": {},
   "outputs": [],
   "source": [
    "df"
   ]
  },
  {
   "cell_type": "code",
   "execution_count": 94,
   "id": "b780c16c-4939-4fea-956b-b100fed56b4e",
   "metadata": {},
   "outputs": [
    {
     "data": {
      "text/html": [
       "<div>\n",
       "<style scoped>\n",
       "    .dataframe tbody tr th:only-of-type {\n",
       "        vertical-align: middle;\n",
       "    }\n",
       "\n",
       "    .dataframe tbody tr th {\n",
       "        vertical-align: top;\n",
       "    }\n",
       "\n",
       "    .dataframe thead th {\n",
       "        text-align: right;\n",
       "    }\n",
       "</style>\n",
       "<table border=\"1\" class=\"dataframe\">\n",
       "  <thead>\n",
       "    <tr style=\"text-align: right;\">\n",
       "      <th></th>\n",
       "      <th>모델명</th>\n",
       "      <th>훈련정확도</th>\n",
       "      <th>예측정확도</th>\n",
       "      <th>정밀도</th>\n",
       "      <th>재현율</th>\n",
       "      <th>f1-score</th>\n",
       "      <th>훈련-예측</th>\n",
       "    </tr>\n",
       "  </thead>\n",
       "  <tbody>\n",
       "  </tbody>\n",
       "</table>\n",
       "</div>"
      ],
      "text/plain": [
       "Empty DataFrame\n",
       "Columns: [모델명, 훈련정확도, 예측정확도, 정밀도, 재현율, f1-score, 훈련-예측]\n",
       "Index: []"
      ]
     },
     "execution_count": 94,
     "metadata": {},
     "output_type": "execute_result"
    }
   ],
   "source": [
    "df"
   ]
  },
  {
   "cell_type": "code",
   "execution_count": 95,
   "id": "64dda92e-4c0a-41dd-8e33-51ef5e159f71",
   "metadata": {},
   "outputs": [
    {
     "data": {
      "text/html": [
       "<div>\n",
       "<style scoped>\n",
       "    .dataframe tbody tr th:only-of-type {\n",
       "        vertical-align: middle;\n",
       "    }\n",
       "\n",
       "    .dataframe tbody tr th {\n",
       "        vertical-align: top;\n",
       "    }\n",
       "\n",
       "    .dataframe thead th {\n",
       "        text-align: right;\n",
       "    }\n",
       "</style>\n",
       "<table border=\"1\" class=\"dataframe\">\n",
       "  <thead>\n",
       "    <tr style=\"text-align: right;\">\n",
       "      <th></th>\n",
       "      <th>모델명</th>\n",
       "      <th>훈련정확도</th>\n",
       "      <th>예측정확도</th>\n",
       "      <th>정밀도</th>\n",
       "      <th>재현율</th>\n",
       "      <th>f1-score</th>\n",
       "      <th>훈련-예측</th>\n",
       "    </tr>\n",
       "  </thead>\n",
       "  <tbody>\n",
       "    <tr>\n",
       "      <th>0</th>\n",
       "      <td>1</td>\n",
       "      <td>2</td>\n",
       "      <td>3</td>\n",
       "      <td>4</td>\n",
       "      <td>5</td>\n",
       "      <td>6</td>\n",
       "      <td>7</td>\n",
       "    </tr>\n",
       "  </tbody>\n",
       "</table>\n",
       "</div>"
      ],
      "text/plain": [
       "   모델명  훈련정확도  예측정확도  정밀도  재현율  f1-score  훈련-예측\n",
       "0    1      2      3    4    5         6      7"
      ]
     },
     "execution_count": 95,
     "metadata": {},
     "output_type": "execute_result"
    }
   ],
   "source": [
    "df.loc[0] = [1,2,3,4,5,6,7]\n",
    "df"
   ]
  },
  {
   "cell_type": "code",
   "execution_count": null,
   "id": "30ac7fb9-eb49-46a6-a2eb-b24a730b33ed",
   "metadata": {},
   "outputs": [],
   "source": [
    "df.fi"
   ]
  }
 ],
 "metadata": {
  "kernelspec": {
   "display_name": "dg_env_all_kernel",
   "language": "python",
   "name": "dg_env_all"
  },
  "language_info": {
   "codemirror_mode": {
    "name": "ipython",
    "version": 3
   },
   "file_extension": ".py",
   "mimetype": "text/x-python",
   "name": "python",
   "nbconvert_exporter": "python",
   "pygments_lexer": "ipython3",
   "version": "3.9.21"
  }
 },
 "nbformat": 4,
 "nbformat_minor": 5
}
