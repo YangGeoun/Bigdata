{
 "cells": [
  {
   "cell_type": "code",
   "execution_count": 1,
   "id": "4fd78677-44ba-4786-a510-e1a7486f9f50",
   "metadata": {},
   "outputs": [
    {
     "data": {
      "text/plain": [
       "'\\n<분류 모델>\\n - 앙상블 모델들을 주로 사용합니다.\\n - 랜덤포레스트, 엑스트라트리, 그레디언트부스팅, 히스트그레디언트부스팅, XGBooting, 이외 다수\\n - 앙상블 모델의 대표 모델은 랜덤포레스트 모델입니다.\\n - 훈련시 랜덤포레스트 모델 훈련 후 나머지 모델 훈련...\\n - 훈련 후 -> 과적합여부 확인 > 평가하여 비교 후 -> 최종 분류 모델 선정\\n - 평가 함수 : 정확도, 정밀도, 재현율, F1-Score\\n - 선정 우선순위 : F1-Score > 재현율 이 중에 정확도 확인하여 선정\\n'"
      ]
     },
     "execution_count": 1,
     "metadata": {},
     "output_type": "execute_result"
    }
   ],
   "source": [
    "\"\"\"\n",
    "<분류 모델>\n",
    " - 앙상블 모델들을 주로 사용합니다.\n",
    " - 랜덤포레스트, 엑스트라트리, 그레디언트부스팅, 히스트그레디언트부스팅, XGBooting, 이외 다수\n",
    " - 앙상블 모델의 대표 모델은 랜덤포레스트 모델입니다.\n",
    " - 훈련시 랜덤포레스트 모델 훈련 후 나머지 모델 훈련...\n",
    " - 훈련 후 -> 과적합여부 확인 > 평가하여 비교 후 -> 최종 분류 모델 선정\n",
    " - 평가 함수 : 정확도, 정밀도, 재현율, F1-Score\n",
    " - 선정 우선순위 : F1-Score > 재현율 이 중에 정확도 확인하여 선정\n",
    "\"\"\""
   ]
  },
  {
   "cell_type": "markdown",
   "id": "f9a43d4a-cb9c-4a4c-be60-2810e0894295",
   "metadata": {},
   "source": [
    "### 와인 데이터셋 불러들이기"
   ]
  },
  {
   "cell_type": "code",
   "execution_count": 2,
   "id": "a7bafe22-4ef3-4c43-a907-20e7c991cd12",
   "metadata": {},
   "outputs": [],
   "source": [
    "### 사용할 데이터프레임 변수명 : wine\n",
    "import pandas as pd"
   ]
  },
  {
   "cell_type": "code",
   "execution_count": 3,
   "id": "5323fcf9-8c76-4264-9f86-aea7b6e30166",
   "metadata": {},
   "outputs": [
    {
     "name": "stdout",
     "output_type": "stream",
     "text": [
      "<class 'pandas.core.frame.DataFrame'>\n",
      "RangeIndex: 6497 entries, 0 to 6496\n",
      "Data columns (total 4 columns):\n",
      " #   Column   Non-Null Count  Dtype  \n",
      "---  ------   --------------  -----  \n",
      " 0   alcohol  6497 non-null   float64\n",
      " 1   sugar    6497 non-null   float64\n",
      " 2   pH       6497 non-null   float64\n",
      " 3   class    6497 non-null   float64\n",
      "dtypes: float64(4)\n",
      "memory usage: 203.2 KB\n"
     ]
    },
    {
     "data": {
      "text/html": [
       "<div>\n",
       "<style scoped>\n",
       "    .dataframe tbody tr th:only-of-type {\n",
       "        vertical-align: middle;\n",
       "    }\n",
       "\n",
       "    .dataframe tbody tr th {\n",
       "        vertical-align: top;\n",
       "    }\n",
       "\n",
       "    .dataframe thead th {\n",
       "        text-align: right;\n",
       "    }\n",
       "</style>\n",
       "<table border=\"1\" class=\"dataframe\">\n",
       "  <thead>\n",
       "    <tr style=\"text-align: right;\">\n",
       "      <th></th>\n",
       "      <th>alcohol</th>\n",
       "      <th>sugar</th>\n",
       "      <th>pH</th>\n",
       "      <th>class</th>\n",
       "    </tr>\n",
       "  </thead>\n",
       "  <tbody>\n",
       "    <tr>\n",
       "      <th>6492</th>\n",
       "      <td>11.2</td>\n",
       "      <td>1.6</td>\n",
       "      <td>3.27</td>\n",
       "      <td>1.0</td>\n",
       "    </tr>\n",
       "    <tr>\n",
       "      <th>6493</th>\n",
       "      <td>9.6</td>\n",
       "      <td>8.0</td>\n",
       "      <td>3.15</td>\n",
       "      <td>1.0</td>\n",
       "    </tr>\n",
       "    <tr>\n",
       "      <th>6494</th>\n",
       "      <td>9.4</td>\n",
       "      <td>1.2</td>\n",
       "      <td>2.99</td>\n",
       "      <td>1.0</td>\n",
       "    </tr>\n",
       "    <tr>\n",
       "      <th>6495</th>\n",
       "      <td>12.8</td>\n",
       "      <td>1.1</td>\n",
       "      <td>3.34</td>\n",
       "      <td>1.0</td>\n",
       "    </tr>\n",
       "    <tr>\n",
       "      <th>6496</th>\n",
       "      <td>11.8</td>\n",
       "      <td>0.8</td>\n",
       "      <td>3.26</td>\n",
       "      <td>1.0</td>\n",
       "    </tr>\n",
       "  </tbody>\n",
       "</table>\n",
       "</div>"
      ],
      "text/plain": [
       "      alcohol  sugar    pH  class\n",
       "6492     11.2    1.6  3.27    1.0\n",
       "6493      9.6    8.0  3.15    1.0\n",
       "6494      9.4    1.2  2.99    1.0\n",
       "6495     12.8    1.1  3.34    1.0\n",
       "6496     11.8    0.8  3.26    1.0"
      ]
     },
     "execution_count": 3,
     "metadata": {},
     "output_type": "execute_result"
    }
   ],
   "source": [
    "file_path = \"./data/08_wine.csv\"\n",
    "wine = pd.read_csv(file_path)\n",
    "\n",
    "wine.info()\n",
    "wine.head(30)\n",
    "wine.tail()"
   ]
  },
  {
   "cell_type": "markdown",
   "id": "a23bb73e-2d45-4e31-bc90-3649db0d5a05",
   "metadata": {},
   "source": [
    "### 종속변수와 독립변수로 분리하기"
   ]
  },
  {
   "cell_type": "code",
   "execution_count": 4,
   "id": "4adb0ea4-2b44-47c6-a5b4-2c7310a605c6",
   "metadata": {},
   "outputs": [
    {
     "data": {
      "text/plain": [
       "((6497, 3), (6497,))"
      ]
     },
     "execution_count": 4,
     "metadata": {},
     "output_type": "execute_result"
    }
   ],
   "source": [
    "### 독립변수 변수명 : data\n",
    "### 종속변수 변수명 : target\n",
    "data = wine[[\"alcohol\", \"sugar\", \"pH\"]].to_numpy()\n",
    "target = wine[\"class\"].to_numpy()\n",
    "\n",
    "data.shape, target.shape"
   ]
  },
  {
   "cell_type": "markdown",
   "id": "14c2b1ee-26cb-4b0c-b6a2-ef24019009d5",
   "metadata": {},
   "source": [
    "### 훈련데이터와 테스트데이터로 분리하기\n",
    "- 훈련 : 테스트 = 8 : 2\n",
    "- 훈련 독립/종속 변수명   : train_input / train_target\n",
    "- 테스트 독립/종속 변수명 : test_input / test_target"
   ]
  },
  {
   "cell_type": "code",
   "execution_count": 5,
   "id": "0cbcdf9e-2e70-46aa-bd39-0d04bcd240c0",
   "metadata": {},
   "outputs": [],
   "source": [
    "from sklearn.model_selection import train_test_split"
   ]
  },
  {
   "cell_type": "code",
   "execution_count": 6,
   "id": "25b68ed2-ae07-4638-9165-491c280cfe26",
   "metadata": {},
   "outputs": [
    {
     "name": "stdout",
     "output_type": "stream",
     "text": [
      "(5197, 3) (5197,)\n",
      "(1300, 3) (1300,)\n"
     ]
    }
   ],
   "source": [
    "train_input, test_input, train_target, test_target = train_test_split(\n",
    "    data, target, test_size=0.2, random_state=42)\n",
    "\n",
    "print(train_input.shape, train_target.shape)\n",
    "print(test_input.shape, test_target.shape)"
   ]
  },
  {
   "cell_type": "markdown",
   "id": "a8697aef-14fc-43e2-9d18-9cbf96aeae9e",
   "metadata": {},
   "source": [
    "### 독립변수 스케일링 처리하기"
   ]
  },
  {
   "cell_type": "code",
   "execution_count": 7,
   "id": "56b63fd8-21b7-45d8-82e4-e3a008043ae4",
   "metadata": {},
   "outputs": [
    {
     "data": {
      "text/plain": [
       "'\\n<데이터 스케일링>\\n - 특성들 간의 서로다른 단위를 일정한 수준으로 맞추는 작업\\n   --> 훈련에 사용하는 데이터 전처리 작업에 속합니다.\\n   --> 무조건 데이터 스케일링을 하는 것은 아님 (강제사항은 아님)\\n   --> 원본 데이터로 모델 학습 후 정확도가 좋지 않은 경우 수행하면 됩니다.\\n   --> 정확도가 좋지 않은 경우 수행하기에 > 데이터 튜닝에 속하기도 합니다.\\n   \\n - 수치형 변수들에 대해서만 적용이 됩니다. (범주형 문자열은 해당 사항 없음)\\n - 스케일링 3가지 방법 (일반적으로 정규화라는 이름으로 아래 3가지 사용하기도 함)\\n  * 정규화 : StandardScaler(회귀 및 분류 모두 사용가능), RobustScaler(회귀 및 분류 모두 사용가능)\\n  * 표준화 : MinMaxScaler(회귀에서 사용)\\n\\n - 훈련 시에 스케일링 방법에 따라 독립변수를 각각 구성하여 훈련에 적용 후 정확도 비교 하기도 함...\\n'"
      ]
     },
     "execution_count": 7,
     "metadata": {},
     "output_type": "execute_result"
    }
   ],
   "source": [
    "\"\"\"\n",
    "<데이터 스케일링>\n",
    " - 특성들 간의 서로다른 단위를 일정한 수준으로 맞추는 작업\n",
    "   --> 훈련에 사용하는 데이터 전처리 작업에 속합니다.\n",
    "   --> 무조건 데이터 스케일링을 하는 것은 아님 (강제사항은 아님)\n",
    "   --> 원본 데이터로 모델 학습 후 정확도가 좋지 않은 경우 수행하면 됩니다.\n",
    "   --> 정확도가 좋지 않은 경우 수행하기에 > 데이터 튜닝에 속하기도 합니다.\n",
    "   \n",
    " - 수치형 변수들에 대해서만 적용이 됩니다. (범주형 문자열은 해당 사항 없음)\n",
    " - 스케일링 3가지 방법 (일반적으로 정규화라는 이름으로 아래 3가지 사용하기도 함)\n",
    "  * 정규화 : StandardScaler(회귀 및 분류 모두 사용가능), RobustScaler(회귀 및 분류 모두 사용가능)\n",
    "  * 표준화 : MinMaxScaler(회귀에서 사용)\n",
    "\n",
    " - 훈련 시에 스케일링 방법에 따라 독립변수를 각각 구성하여 훈련에 적용 후 정확도 비교 하기도 함...\n",
    "\"\"\""
   ]
  },
  {
   "cell_type": "markdown",
   "id": "6773d1ce-facc-40c7-ac92-2731b158b48f",
   "metadata": {},
   "source": [
    "### StandardScaler 사용해 보기"
   ]
  },
  {
   "cell_type": "code",
   "execution_count": 8,
   "id": "80960918-ff58-4534-b439-9a593998e044",
   "metadata": {},
   "outputs": [],
   "source": [
    "from sklearn.preprocessing import StandardScaler"
   ]
  },
  {
   "cell_type": "code",
   "execution_count": 9,
   "id": "7da1a28a-9fd5-4a3a-a35b-013ccec50fde",
   "metadata": {},
   "outputs": [
    {
     "data": {
      "text/plain": [
       "(array([[ 0.01376574,  0.4646116 , -0.16888369],\n",
       "        [ 1.60871671, -0.70299854,  0.26967864],\n",
       "        [ 1.10504798, -0.70299854,  1.20945505],\n",
       "        ...,\n",
       "        [-0.82568214,  0.0267578 ,  0.14437512],\n",
       "        [-0.82568214,  0.52716215, -0.23153545],\n",
       "        [-0.82568214, -0.57789745,  1.83597265]]),\n",
       " array([[ 1.44082714,  1.52797084,  0.26967864],\n",
       "        [-0.48990299, -0.68214836,  0.3323304 ],\n",
       "        [ 1.27293756,  0.40206106, -0.23153545],\n",
       "        ...,\n",
       "        [ 1.60871671, -0.76554908, -0.16888369],\n",
       "        [-0.90962693,  0.88161523,  0.52028568],\n",
       "        [-1.49724045,  2.09092573, -1.98578474]]))"
      ]
     },
     "execution_count": 9,
     "metadata": {},
     "output_type": "execute_result"
    }
   ],
   "source": [
    "### 클래스(변환기) 생성하기\n",
    "ss = StandardScaler()\n",
    "\n",
    "### 패턴 찾기(훈련시키기)\n",
    "ss.fit(train_input)\n",
    "\n",
    "### 변환 시키기\n",
    "train_std_scaler = ss.transform(train_input)\n",
    "test_std_scaler  = ss.transform(test_input)\n",
    "\n",
    "train_std_scaler, test_std_scaler"
   ]
  },
  {
   "cell_type": "markdown",
   "id": "d0fa0570-4b5f-4e60-b741-866ad73f7bb0",
   "metadata": {},
   "source": [
    "### MinMaxScaler 사용하기"
   ]
  },
  {
   "cell_type": "code",
   "execution_count": 10,
   "id": "2d320f84-623c-4fbf-9927-ca6191ed1ca7",
   "metadata": {},
   "outputs": [
    {
     "data": {
      "text/plain": [
       "(array([[0.40322581, 0.10889571, 0.35433071],\n",
       "        [0.70967742, 0.02300613, 0.40944882],\n",
       "        [0.61290323, 0.02300613, 0.52755906],\n",
       "        ...,\n",
       "        [0.24193548, 0.07668712, 0.39370079],\n",
       "        [0.24193548, 0.11349693, 0.34645669],\n",
       "        [0.24193548, 0.03220859, 0.60629921]]),\n",
       " array([[0.67741935, 0.18711656, 0.40944882],\n",
       "        [0.30645161, 0.02453988, 0.41732283],\n",
       "        [0.64516129, 0.10429448, 0.34645669],\n",
       "        ...,\n",
       "        [0.70967742, 0.01840491, 0.35433071],\n",
       "        [0.22580645, 0.13957055, 0.44094488],\n",
       "        [0.11290323, 0.22852761, 0.12598425]]))"
      ]
     },
     "execution_count": 10,
     "metadata": {},
     "output_type": "execute_result"
    }
   ],
   "source": [
    "from sklearn.preprocessing import MinMaxScaler\n",
    "\n",
    "### 클래스(변환기) 생성하기\n",
    "mm = MinMaxScaler()\n",
    "\n",
    "### 패턴 찾기(훈련시키기)\n",
    "mm.fit(train_input)\n",
    "\n",
    "### 변환 시키기\n",
    "train_mm_scaler = mm.transform(train_input)\n",
    "test_mm_scaler  = mm.transform(test_input)\n",
    "\n",
    "train_mm_scaler, test_mm_scaler"
   ]
  },
  {
   "cell_type": "markdown",
   "id": "147a6a8a-f6a5-4b6b-b831-bf409f631a6a",
   "metadata": {},
   "source": [
    "### RobustScaler 사용하기"
   ]
  },
  {
   "cell_type": "code",
   "execution_count": 11,
   "id": "06d476ac-8dc4-4ea0-996a-10f27594175f",
   "metadata": {},
   "outputs": [
    {
     "data": {
      "text/plain": [
       "(array([[ 0.11111111,  0.734375  , -0.0952381 ],\n",
       "        [ 1.16666667, -0.140625  ,  0.23809524],\n",
       "        [ 0.83333333, -0.140625  ,  0.95238095],\n",
       "        ...,\n",
       "        [-0.44444444,  0.40625   ,  0.14285714],\n",
       "        [-0.44444444,  0.78125   , -0.14285714],\n",
       "        [-0.44444444, -0.046875  ,  1.42857143]]),\n",
       " array([[ 1.05555556,  1.53125   ,  0.23809524],\n",
       "        [-0.22222222, -0.125     ,  0.28571429],\n",
       "        [ 0.94444444,  0.6875    , -0.14285714],\n",
       "        ...,\n",
       "        [ 1.16666667, -0.1875    , -0.0952381 ],\n",
       "        [-0.5       ,  1.046875  ,  0.42857143],\n",
       "        [-0.88888889,  1.953125  , -1.47619048]]))"
      ]
     },
     "execution_count": 11,
     "metadata": {},
     "output_type": "execute_result"
    }
   ],
   "source": [
    "from sklearn.preprocessing import RobustScaler\n",
    "\n",
    "### 클래스(변환기) 생성하기\n",
    "rs = RobustScaler()\n",
    "\n",
    "### 패턴 찾기(훈련시키기)\n",
    "rs.fit(train_input)\n",
    "\n",
    "### 변환 시키기\n",
    "train_rs_scaler = rs.transform(train_input)\n",
    "test_rs_scaler  = rs.transform(test_input)\n",
    "\n",
    "train_rs_scaler, test_rs_scaler"
   ]
  },
  {
   "cell_type": "markdown",
   "id": "eb222a00-11a3-4501-ba87-ab3c0e498501",
   "metadata": {},
   "source": [
    "### 랜덤포레스트 분류 모델로 훈련 시키기"
   ]
  },
  {
   "cell_type": "code",
   "execution_count": 12,
   "id": "8ede3b05-d209-42e2-a569-5970c62675d6",
   "metadata": {},
   "outputs": [
    {
     "data": {
      "text/plain": [
       "(0.996921300750433, 0.8892307692307693, 0.10769053151966368)"
      ]
     },
     "execution_count": 12,
     "metadata": {},
     "output_type": "execute_result"
    }
   ],
   "source": [
    "### 모델 라이브러리 불러들이기\n",
    "from sklearn.ensemble import RandomForestClassifier\n",
    "\n",
    "### 훈련모델(클래스) 생성하기\n",
    "rf = RandomForestClassifier(n_jobs=-1, random_state=42)\n",
    "rf\n",
    "\n",
    "### 모델 훈련 시키기\n",
    "rf.fit(train_std_scaler, train_target)\n",
    "\n",
    "### 과적합 여부 확인을 위하여 : 훈련 및 테스트 데이터로 정확도 확인하기\n",
    "train_score = rf.score(train_std_scaler, train_target)\n",
    "test_score  = rf.score(test_std_scaler, test_target)\n",
    "\n",
    "### 과대 적합(훈련이 테스트 정확도보다 너무 많이, 10%이상 높음)이 조금 발생하고 있음\n",
    "train_score, test_score, (train_score - test_score)"
   ]
  },
  {
   "cell_type": "code",
   "execution_count": 13,
   "id": "ea490757-e7cb-406f-bbf5-c5b3e9672bc3",
   "metadata": {},
   "outputs": [
    {
     "data": {
      "text/plain": [
       "(0.996921300750433, 0.8876923076923077, 0.10922899305812528)"
      ]
     },
     "execution_count": 13,
     "metadata": {},
     "output_type": "execute_result"
    }
   ],
   "source": [
    "### 모델 라이브러리 불러들이기\n",
    "from sklearn.ensemble import RandomForestClassifier\n",
    "\n",
    "### 훈련모델(클래스) 생성하기\n",
    "rf = RandomForestClassifier(n_jobs=-1, random_state=42)\n",
    "rf\n",
    "\n",
    "### 모델 훈련 시키기\n",
    "rf.fit(train_mm_scaler, train_target)\n",
    "\n",
    "### 과적합 여부 확인을 위하여 : 훈련 및 테스트 데이터로 정확도 확인하기\n",
    "train_score = rf.score(train_mm_scaler, train_target)\n",
    "test_score  = rf.score(test_mm_scaler, test_target)\n",
    "\n",
    "### 과대 적합(훈련이 테스트 정확도보다 너무 많이, 10%이상 높음)이 조금 발생하고 있음\n",
    "train_score, test_score, (train_score - test_score)"
   ]
  },
  {
   "cell_type": "code",
   "execution_count": 14,
   "id": "f23658f5-2742-44b2-b0c7-7914b6b3740c",
   "metadata": {},
   "outputs": [
    {
     "data": {
      "text/plain": [
       "(0.996921300750433, 0.8876923076923077, 0.10922899305812528)"
      ]
     },
     "execution_count": 14,
     "metadata": {},
     "output_type": "execute_result"
    }
   ],
   "source": [
    "### 모델 라이브러리 불러들이기\n",
    "from sklearn.ensemble import RandomForestClassifier\n",
    "\n",
    "### 훈련모델(클래스) 생성하기\n",
    "rf = RandomForestClassifier(n_jobs=-1, random_state=42)\n",
    "rf\n",
    "\n",
    "### 모델 훈련 시키기\n",
    "rf.fit(train_rs_scaler, train_target)\n",
    "\n",
    "### 과적합 여부 확인을 위하여 : 훈련 및 테스트 데이터로 정확도 확인하기\n",
    "train_score = rf.score(train_rs_scaler, train_target)\n",
    "test_score  = rf.score(test_rs_scaler, test_target)\n",
    "\n",
    "### 과대 적합(훈련이 테스트 정확도보다 너무 많이, 10%이상 높음)이 조금 발생하고 있음\n",
    "train_score, test_score, (train_score - test_score)"
   ]
  },
  {
   "cell_type": "code",
   "execution_count": 15,
   "id": "2d693227-de1d-4a52-87c4-9a39f82b9610",
   "metadata": {},
   "outputs": [],
   "source": [
    "### 위 3개 스케일링 방법 중 STD 데이터가 가장 좋은 결과를 나타내고 있음"
   ]
  },
  {
   "cell_type": "markdown",
   "id": "410d0323-16a4-4583-b359-7b27fd747a7d",
   "metadata": {},
   "source": [
    "### 예측(분류) 하기"
   ]
  },
  {
   "cell_type": "code",
   "execution_count": 16,
   "id": "83e7e300-878d-45f1-9b90-249b89e86e64",
   "metadata": {},
   "outputs": [
    {
     "data": {
      "text/plain": [
       "array([1., 1., 1., 1., 1., 1., 1., 1., 1., 1.])"
      ]
     },
     "execution_count": 16,
     "metadata": {},
     "output_type": "execute_result"
    }
   ],
   "source": [
    "y_pred = rf.predict(test_std_scaler[:10])\n",
    "### 10개 예측값\n",
    "y_pred"
   ]
  },
  {
   "cell_type": "code",
   "execution_count": 17,
   "id": "1906671e-0737-4333-869f-11441a9be7f0",
   "metadata": {},
   "outputs": [
    {
     "data": {
      "text/plain": [
       "array([1., 0., 1., 1., 1., 0., 1., 1., 0., 1.])"
      ]
     },
     "execution_count": 17,
     "metadata": {},
     "output_type": "execute_result"
    }
   ],
   "source": [
    "### 10개 정답(실제값)\n",
    "test_target[:10]"
   ]
  },
  {
   "cell_type": "markdown",
   "id": "03f24ab5-0ee4-4448-a5b4-89e35b230b5a",
   "metadata": {},
   "source": [
    "### 성능평가하기"
   ]
  },
  {
   "cell_type": "code",
   "execution_count": 18,
   "id": "09019c1b-c1db-4972-b2a0-b4ef689e464d",
   "metadata": {},
   "outputs": [],
   "source": [
    "### 평가를 위해 사용하는 라이브러리\n",
    "# 평가 때 사용할 시각화 라이브러리------------------------\n",
    "import matplotlib.pyplot as plt\n",
    "import seaborn as sns\n",
    "import numpy as np\n",
    "from sklearn.metrics import confusion_matrix\n",
    "from sklearn.metrics import ConfusionMatrixDisplay\n",
    "\n",
    "# 한글처리\n",
    "plt.rc(\"font\", family=\"Malgun Gothic\")\n",
    "\n",
    "# 마이너스 기호 표시\n",
    "plt.rcParams[\"axes.unicode_minus\"] = True\n",
    "\n",
    "### 평가 라이브러리\n",
    "# 정확도\n",
    "from sklearn.metrics import accuracy_score\n",
    "# 정밀도\n",
    "from sklearn.metrics import precision_score\n",
    "# 재현율\n",
    "from sklearn.metrics import recall_score\n",
    "# f1-score\n",
    "from sklearn.metrics import f1_score"
   ]
  },
  {
   "cell_type": "code",
   "execution_count": 19,
   "id": "29fce97d-e3a5-4ac5-b2c3-a99ab0bb23af",
   "metadata": {},
   "outputs": [
    {
     "data": {
      "text/plain": [
       "array([0., 1.])"
      ]
     },
     "execution_count": 19,
     "metadata": {},
     "output_type": "execute_result"
    }
   ],
   "source": [
    "### 범주 확인하기\n",
    "rf.classes_"
   ]
  },
  {
   "cell_type": "code",
   "execution_count": 20,
   "id": "f76cb99a-f765-46e1-b042-a01f52b64adc",
   "metadata": {},
   "outputs": [
    {
     "data": {
      "text/plain": [
       "array([[0, 3],\n",
       "       [0, 7]])"
      ]
     },
     "execution_count": 20,
     "metadata": {},
     "output_type": "execute_result"
    }
   ],
   "source": [
    "### 오차행열도 그리기\n",
    "# 오차행렬도 : 훈련이 잘 되었는지 확인하는 그래프\n",
    "#  - 분류를 얼마나 잘했는지,\n",
    "#  - 분류 중 발생한 오차가 어떻게 나타났는지 확이 가능합니다.\n",
    "#  - 오차행렬도를 그리기 위해서는 오차평가 매트릭스표를 먼저 생성해야함\n",
    "#  - labels : 종속변수의 범주값 정의\n",
    "cm = confusion_matrix(test_target[:10], y_pred, labels=rf.classes_)\n",
    "cm"
   ]
  },
  {
   "cell_type": "code",
   "execution_count": 21,
   "id": "fbe5ee3c-79a2-4b4a-a83e-ef05e5452a3d",
   "metadata": {},
   "outputs": [
    {
     "data": {
      "text/plain": [
       "<sklearn.metrics._plot.confusion_matrix.ConfusionMatrixDisplay at 0x19bf808eb80>"
      ]
     },
     "execution_count": 21,
     "metadata": {},
     "output_type": "execute_result"
    },
    {
     "data": {
      "image/png": "[encoded data removed]",
      "text/plain": [
       "<Figure size 640x480 with 2 Axes>"
      ]
     },
     "metadata": {},
     "output_type": "display_data"
    }
   ],
   "source": [
    "### 오차행렬도 그리기\n",
    "disp = ConfusionMatrixDisplay(confusion_matrix = cm,\n",
    "                               display_labels=rf.classes_)\n",
    "disp\n",
    "\n",
    "disp.plot()"
   ]
  },
  {
   "cell_type": "markdown",
   "id": "f298234c-ecd8-4248-b554-434e8ab76035",
   "metadata": {},
   "source": [
    "### 평가(평가지표) 추출하기"
   ]
  },
  {
   "cell_type": "code",
   "execution_count": 22,
   "id": "e6d980b1-b3fa-41f0-8451-b0701a659a88",
   "metadata": {},
   "outputs": [
    {
     "data": {
      "text/plain": [
       "0.7"
      ]
     },
     "execution_count": 22,
     "metadata": {},
     "output_type": "execute_result"
    }
   ],
   "source": [
    "### 정확도\n",
    "accuracy_score(test_target[:10], y_pred)"
   ]
  },
  {
   "cell_type": "code",
   "execution_count": 23,
   "id": "9b3971e0-5ba4-4476-8352-93e9ee5bc1f6",
   "metadata": {},
   "outputs": [
    {
     "data": {
      "text/plain": [
       "0.7"
      ]
     },
     "execution_count": 23,
     "metadata": {},
     "output_type": "execute_result"
    }
   ],
   "source": [
    "### 정밀도\n",
    "precision_score(test_target[:10], y_pred)"
   ]
  },
  {
   "cell_type": "code",
   "execution_count": 24,
   "id": "e76cce80-4e1f-4d0a-9a1d-a3754bed919a",
   "metadata": {},
   "outputs": [
    {
     "data": {
      "text/plain": [
       "1.0"
      ]
     },
     "execution_count": 24,
     "metadata": {},
     "output_type": "execute_result"
    }
   ],
   "source": [
    "### 재현율\n",
    "recall_score(test_target[:10], y_pred)"
   ]
  },
  {
   "cell_type": "code",
   "execution_count": 25,
   "id": "ee4d7050-4827-41d7-8e95-5e97ea76ed6c",
   "metadata": {},
   "outputs": [
    {
     "data": {
      "text/plain": [
       "0.8235294117647058"
      ]
     },
     "execution_count": 25,
     "metadata": {},
     "output_type": "execute_result"
    }
   ],
   "source": [
    "### f1-score\n",
    "f1_score(test_target[:10], y_pred)"
   ]
  },
  {
   "cell_type": "code",
   "execution_count": 26,
   "id": "3b5d7f4d-af78-4bba-9869-554415bb530f",
   "metadata": {},
   "outputs": [
    {
     "data": {
      "text/plain": [
       "'\\n<정확도(Accuracy)>\\n - 올바르게 예측된 데이터의 수를, 전체 데이터의 수로 나눈 값\\n - 예측이 실제값과 얼마나 정확한가를 의미함\\n - 산술식 = (TP + TN) / (TP + TN + FP + FN)\\n\\n<정밀도(Precision)>\\n - 모델이 True(1)로 예측한 데이터 중에 실제로 True(1)로 맞춘 데이터\\n - 산술식 = TP / (TP + FP)\\n\\n<재현율(Recall)>\\n - 실제로 True(1)인 데이터를 True라고 인식한 데이터 수\\n - 위험한 오류(부정오류)로 인식한 데이터도 모두 포함\\n - 산술식 = TP / (TP + FN)\\n - 모델 선정에 깊은 관여를 합니다.\\n\\n<F1-Score>\\n - 정밀도와 재현율을 조합하여 하나의 통계치를 반환한 값\\n - 정밀도와 재현율의 평균이라고 생각해도 됩니다.\\n - 값이 높을 수록, 성능이 높은 모델이라고 판단할 수 있음\\n   (최종 모델 선정 기준이 됨)\\n - 산술식 = (정밀도 * 재현율) / (정밀도 + 재현율)\\n\\n[최종 모델 선정 방법]\\n - 과소 및 과대적합 확인\\n - 정확도, 정밀도, 재현율, F1-Score 모두 1차 확인\\n - F1-Score가 가장 높은 모델 선정 \\n   (선정 시 재현율 다시한번 확인)\\n - F1-Score가 동일한 모델이면, 재현율이 높은 모델 순으로 결정\\n - 재현율, F1-Score 값이 모두 높은 모델이 가장 best한 모델임\\n'"
      ]
     },
     "execution_count": 26,
     "metadata": {},
     "output_type": "execute_result"
    }
   ],
   "source": [
    "\"\"\"\n",
    "<정확도(Accuracy)>\n",
    " - 올바르게 예측된 데이터의 수를, 전체 데이터의 수로 나눈 값\n",
    " - 예측이 실제값과 얼마나 정확한가를 의미함\n",
    " - 산술식 = (TP + TN) / (TP + TN + FP + FN)\n",
    "\n",
    "<정밀도(Precision)>\n",
    " - 모델이 True(1)로 예측한 데이터 중에 실제로 True(1)로 맞춘 데이터\n",
    " - 산술식 = TP / (TP + FP)\n",
    "\n",
    "<재현율(Recall)>\n",
    " - 실제로 True(1)인 데이터를 True라고 인식한 데이터 수\n",
    " - 위험한 오류(부정오류)로 인식한 데이터도 모두 포함\n",
    " - 산술식 = TP / (TP + FN)\n",
    " - 모델 선정에 깊은 관여를 합니다.\n",
    "\n",
    "<F1-Score>\n",
    " - 정밀도와 재현율을 조합하여 하나의 통계치를 반환한 값\n",
    " - 정밀도와 재현율의 평균이라고 생각해도 됩니다.\n",
    " - 값이 높을 수록, 성능이 높은 모델이라고 판단할 수 있음\n",
    "   (최종 모델 선정 기준이 됨)\n",
    " - 산술식 = (정밀도 * 재현율) / (정밀도 + 재현율)\n",
    "\n",
    "[최종 모델 선정 방법]\n",
    " - 과소 및 과대적합 확인\n",
    " - 정확도, 정밀도, 재현율, F1-Score 모두 1차 확인\n",
    " - F1-Score가 가장 높은 모델 선정 \n",
    "   (선정 시 재현율 다시한번 확인)\n",
    " - F1-Score가 동일한 모델이면, 재현율이 높은 모델 순으로 결정\n",
    " - 재현율, F1-Score 값이 모두 높은 모델이 가장 best한 모델임\n",
    "\"\"\""
   ]
  },
  {
   "cell_type": "markdown",
   "id": "054a9c15-affd-427e-8489-63df39b9a3ef",
   "metadata": {},
   "source": [
    "### 전체 테스트 데이터로 성능평가하기"
   ]
  },
  {
   "cell_type": "code",
   "execution_count": 27,
   "id": "adb11ba4-51b7-4b70-8fdb-769993d1eaad",
   "metadata": {},
   "outputs": [
    {
     "data": {
      "text/plain": [
       "(1300, 3)"
      ]
     },
     "execution_count": 27,
     "metadata": {},
     "output_type": "execute_result"
    }
   ],
   "source": [
    "test_std_scaler.shape"
   ]
  },
  {
   "cell_type": "code",
   "execution_count": 29,
   "id": "9c80ecd9-c06f-42ca-81ac-a4321b26a491",
   "metadata": {},
   "outputs": [
    {
     "name": "stdout",
     "output_type": "stream",
     "text": [
      "0.7123076923076923 0.7345629510825983 0.9551616266944735 0.8304623753399819\n"
     ]
    },
    {
     "data": {
      "image/png": "[encoded data removed]",
      "text/plain": [
       "<Figure size 640x480 with 2 Axes>"
      ]
     },
     "metadata": {},
     "output_type": "display_data"
    }
   ],
   "source": [
    "### 예측하기\n",
    "y_pred = rf.predict(test_std_scaler)\n",
    "y_pred.shape\n",
    "\n",
    "### 오차행열도 그리기\n",
    "cm = confusion_matrix(test_target, y_pred, labels=rf.classes_)\n",
    "\n",
    "### 오차행렬도 그리기\n",
    "disp = ConfusionMatrixDisplay(confusion_matrix = cm,\n",
    "                               display_labels=rf.classes_)\n",
    "disp.plot()\n",
    "\n",
    "### 정확도\n",
    "acc = accuracy_score(test_target, y_pred)\n",
    "\n",
    "### 정밀도\n",
    "pre = precision_score(test_target, y_pred)\n",
    "\n",
    "### 재현율\n",
    "rec = recall_score(test_target, y_pred)\n",
    "\n",
    "### f1-score\n",
    "f1 = f1_score(test_target, y_pred)\n",
    "\n",
    "print(acc, pre, rec, f1)"
   ]
  },
  {
   "cell_type": "markdown",
   "id": "98ca5ab8-dd07-45ab-8f3f-3caffdadba84",
   "metadata": {},
   "source": [
    "### 각각 모델에 대해서 하이퍼파라메터 튜닝하기"
   ]
  },
  {
   "cell_type": "markdown",
   "id": "196209a9-3bcc-4776-9494-7707f28e8fea",
   "metadata": {},
   "source": [
    "##### 랜덤포레스트 모델"
   ]
  },
  {
   "cell_type": "code",
   "execution_count": 33,
   "id": "904c12b7-4435-49e0-b86c-54587d14d71c",
   "metadata": {},
   "outputs": [
    {
     "data": {
      "text/plain": [
       "(0.9917259957667885, 0.8753846153846154, 0.11634138038217312)"
      ]
     },
     "execution_count": 33,
     "metadata": {},
     "output_type": "execute_result"
    }
   ],
   "source": [
    "### n_estimators : 램덤포레스트 모델에서 사용할 트리의 갯수 조정하기\n",
    "# - 트리의 갯수(n_estimators) : 10개\n",
    "# - 사용할 CPU 코어 갯수(n_jobs) : 모두\n",
    "# - 모델이 내부적으로 패턴을 찾는 랜덤규칙(random_state) : 42\n",
    "\n",
    "### 위 하이퍼파라메터 및 모델 설정값들을 이용해서 모델(클래스) 생성하기\n",
    "rf = RandomForestClassifier(n_estimators=10, n_jobs=-1, random_state=42)\n",
    "rf\n",
    "\n",
    "### 훈련시키기 (std 독립변수 데이터 사용)\n",
    "rf.fit(train_std_scaler, train_target)\n",
    "\n",
    "### 훈련 정확도 확인하기\n",
    "train_score = rf.score(train_std_scaler, train_target)\n",
    "\n",
    "### 테스트 정확도 확인하기\n",
    "test_score = rf.score(test_std_scaler, test_target)\n",
    "\n",
    "### 훈련 및 테스트 정확도 출력하기(과적합 여부 확인을 위해서....)\n",
    "train_score, test_score, train_score-test_score"
   ]
  },
  {
   "cell_type": "code",
   "execution_count": 34,
   "id": "0fdafdf8-a8cd-4cb4-92a8-db8311a67430",
   "metadata": {},
   "outputs": [
    {
     "data": {
      "text/plain": [
       "(0.9834519915335771, 0.8723076923076923, 0.11114429922588476)"
      ]
     },
     "execution_count": 34,
     "metadata": {},
     "output_type": "execute_result"
    }
   ],
   "source": [
    "### n_estimators : 램덤포레스트 모델에서 사용할 트리의 갯수 조정하기\n",
    "# - 트리의 갯수(n_estimators) : 5개\n",
    "# - 사용할 CPU 코어 갯수(n_jobs) : 모두\n",
    "# - 모델이 내부적으로 패턴을 찾는 랜덤규칙(random_state) : 42\n",
    "\n",
    "### 위 하이퍼파라메터 및 모델 설정값들을 이용해서 모델(클래스) 생성하기\n",
    "rf = RandomForestClassifier(n_estimators=5, n_jobs=-1, random_state=42)\n",
    "rf\n",
    "\n",
    "### 훈련시키기 (std 독립변수 데이터 사용)\n",
    "rf.fit(train_std_scaler, train_target)\n",
    "\n",
    "### 훈련 정확도 확인하기\n",
    "train_score = rf.score(train_std_scaler, train_target)\n",
    "\n",
    "### 테스트 정확도 확인하기\n",
    "test_score = rf.score(test_std_scaler, test_target)\n",
    "\n",
    "### 훈련 및 테스트 정확도 출력하기(과적합 여부 확인을 위해서....)\n",
    "train_score, test_score, train_score-test_score"
   ]
  },
  {
   "cell_type": "code",
   "execution_count": 35,
   "id": "b4ef59c3-4e7f-46cc-8b0b-e365238c1a0b",
   "metadata": {},
   "outputs": [
    {
     "data": {
      "text/plain": [
       "(0.9742158937848759, 0.8707692307692307, 0.1034466630156452)"
      ]
     },
     "execution_count": 35,
     "metadata": {},
     "output_type": "execute_result"
    }
   ],
   "source": [
    "### n_estimators : 램덤포레스트 모델에서 사용할 트리의 갯수 조정하기\n",
    "# - 트리의 갯수(n_estimators) : 3개\n",
    "# - 사용할 CPU 코어 갯수(n_jobs) : 모두\n",
    "# - 모델이 내부적으로 패턴을 찾는 랜덤규칙(random_state) : 42\n",
    "\n",
    "### 위 하이퍼파라메터 및 모델 설정값들을 이용해서 모델(클래스) 생성하기\n",
    "rf = RandomForestClassifier(n_estimators=3, n_jobs=-1, random_state=42)\n",
    "rf\n",
    "\n",
    "### 훈련시키기 (std 독립변수 데이터 사용)\n",
    "rf.fit(train_std_scaler, train_target)\n",
    "\n",
    "### 훈련 정확도 확인하기\n",
    "train_score = rf.score(train_std_scaler, train_target)\n",
    "\n",
    "### 테스트 정확도 확인하기\n",
    "test_score = rf.score(test_std_scaler, test_target)\n",
    "\n",
    "### 훈련 및 테스트 정확도 출력하기(과적합 여부 확인을 위해서....)\n",
    "train_score, test_score, train_score-test_score"
   ]
  },
  {
   "cell_type": "code",
   "execution_count": 38,
   "id": "a856c028-5c0a-444b-bebf-d0ff179af965",
   "metadata": {},
   "outputs": [
    {
     "data": {
      "text/plain": [
       "(0.996921300750433, 0.8892307692307693, 0.10769053151966368)"
      ]
     },
     "execution_count": 38,
     "metadata": {},
     "output_type": "execute_result"
    }
   ],
   "source": [
    "### n_estimators : 램덤포레스트 모델에서 사용할 트리의 갯수 조정하기\n",
    "# - 트리의 갯수(n_estimators) : 100개\n",
    "# - 사용할 CPU 코어 갯수(n_jobs) : 모두\n",
    "# - 모델이 내부적으로 패턴을 찾는 랜덤규칙(random_state) : 42\n",
    "\n",
    "### 위 하이퍼파라메터 및 모델 설정값들을 이용해서 모델(클래스) 생성하기\n",
    "rf = RandomForestClassifier(n_estimators=100, n_jobs=-1, random_state=42)\n",
    "rf\n",
    "\n",
    "### 훈련시키기 (std 독립변수 데이터 사용)\n",
    "rf.fit(train_std_scaler, train_target)\n",
    "\n",
    "### 훈련 정확도 확인하기\n",
    "train_score = rf.score(train_std_scaler, train_target)\n",
    "\n",
    "### 테스트 정확도 확인하기\n",
    "test_score = rf.score(test_std_scaler, test_target)\n",
    "\n",
    "### 훈련 및 테스트 정확도 출력하기(과적합 여부 확인을 위해서....)\n",
    "train_score, test_score, train_score-test_score"
   ]
  },
  {
   "cell_type": "code",
   "execution_count": 40,
   "id": "6c6870cc-7e2d-422d-a26d-135d0f2f2172",
   "metadata": {},
   "outputs": [
    {
     "data": {
      "text/plain": [
       "(0.996921300750433, 0.8853846153846154, 0.11153668536581751)"
      ]
     },
     "execution_count": 40,
     "metadata": {},
     "output_type": "execute_result"
    }
   ],
   "source": [
    "### n_estimators : 램덤포레스트 모델에서 사용할 트리의 갯수 조정하기\n",
    "# - 트리의 갯수(n_estimators) : 500개\n",
    "# - 사용할 CPU 코어 갯수(n_jobs) : 모두\n",
    "# - 모델이 내부적으로 패턴을 찾는 랜덤규칙(random_state) : 42\n",
    "\n",
    "### 위 하이퍼파라메터 및 모델 설정값들을 이용해서 모델(클래스) 생성하기\n",
    "rf = RandomForestClassifier(n_estimators=500, n_jobs=-1, random_state=42)\n",
    "rf\n",
    "\n",
    "### 훈련시키기 (std 독립변수 데이터 사용)\n",
    "rf.fit(train_std_scaler, train_target)\n",
    "\n",
    "### 훈련 정확도 확인하기\n",
    "train_score = rf.score(train_std_scaler, train_target)\n",
    "\n",
    "### 테스트 정확도 확인하기\n",
    "test_score = rf.score(test_std_scaler, test_target)\n",
    "\n",
    "### 훈련 및 테스트 정확도 출력하기(과적합 여부 확인을 위해서....)\n",
    "train_score, test_score, train_score-test_score"
   ]
  },
  {
   "cell_type": "markdown",
   "id": "f0480bca-1eef-457a-a2a8-c3ce9700197b",
   "metadata": {},
   "source": [
    "##### 엑스트라트리(ExtraTree) 모델"
   ]
  },
  {
   "cell_type": "code",
   "execution_count": null,
   "id": "411791b7-ecbf-44ac-8a84-7a752782a523",
   "metadata": {},
   "outputs": [],
   "source": [
    "\"\"\"\n",
    "- 램덤포레스트와 유사한 모델\n",
    "- 기본적(디폴트값)으로 100개의 트리를 사용\n",
    "- 계산속도가 랜덤포레스트보다 빠름\n",
    "\"\"\""
   ]
  },
  {
   "cell_type": "code",
   "execution_count": 41,
   "id": "a6f7ee4b-b157-4d27-abde-83da2288026b",
   "metadata": {},
   "outputs": [],
   "source": [
    "from sklearn.ensemble import ExtraTreesClassifier"
   ]
  },
  {
   "cell_type": "code",
   "execution_count": 44,
   "id": "2ecc01d5-f7d2-4983-8f86-17f52c4a9be8",
   "metadata": {},
   "outputs": [
    {
     "data": {
      "text/plain": [
       "(0.996921300750433, 0.8861538461538462, 0.11076745459658677)"
      ]
     },
     "execution_count": 44,
     "metadata": {},
     "output_type": "execute_result"
    }
   ],
   "source": [
    "### 훈련모델 생성하기\n",
    "# - 모델 변수명 : et\n",
    "#   -- 모델 설정값 : core 모두사용, 랜덤규칙 42\n",
    "et = ExtraTreesClassifier(n_jobs=-1, random_state=42)\n",
    "\n",
    "# - 훈련 시키기\n",
    "et.fit(train_std_scaler, train_target)\n",
    "\n",
    "# - 훈련 및 테스트 정확도 확인하기\n",
    "train_score = et.score(train_std_scaler, train_target)\n",
    "test_score  = et.score(test_std_scaler, test_target)\n",
    "\n",
    "# - 훈련 및 테스트 정확도 출력하기(과적합 여부 확인)\n",
    "train_score, test_score, train_score-test_score"
   ]
  },
  {
   "cell_type": "code",
   "execution_count": 47,
   "id": "29bc5338-e566-4a6a-af0c-7e49e7b52735",
   "metadata": {},
   "outputs": [
    {
     "data": {
      "text/plain": [
       "(0.996921300750433, 0.8823076923076923, 0.1146136084427406)"
      ]
     },
     "execution_count": 47,
     "metadata": {},
     "output_type": "execute_result"
    }
   ],
   "source": [
    "### 훈련모델 생성하기\n",
    "# - 모델 변수명 : et\n",
    "#   -- 모델 설정값 : core 모두사용, 랜덤규칙 42\n",
    "et = ExtraTreesClassifier(n_jobs=-1, random_state=42, n_estimators=500)\n",
    "\n",
    "# - 훈련 시키기\n",
    "et.fit(train_std_scaler, train_target)\n",
    "\n",
    "# - 훈련 및 테스트 정확도 확인하기\n",
    "train_score = et.score(train_std_scaler, train_target)\n",
    "test_score  = et.score(test_std_scaler, test_target)\n",
    "\n",
    "# - 훈련 및 테스트 정확도 출력하기(과적합 여부 확인)\n",
    "train_score, test_score, train_score-test_score"
   ]
  },
  {
   "cell_type": "markdown",
   "id": "accf7008-0fc4-4f61-83f0-f021b89252e8",
   "metadata": {},
   "source": [
    "##### 그레디언트 부스팅(Gradient Boosting) 모델"
   ]
  },
  {
   "cell_type": "code",
   "execution_count": null,
   "id": "f4d26fe5-b405-4e43-9f91-92daf52d2a03",
   "metadata": {},
   "outputs": [],
   "source": [
    "\"\"\"\n",
    " - 기존 훈련 모델들의 성능이 좋지 않을 때 주로 사용하는 모델\n",
    " - 랜덤포레스트 및 엑스트라트리 모델보다 속도가 느림\n",
    " - 트리는 기본값 100 사용\n",
    " - **일바화**에 강한 모델임\n",
    "\"\"\""
   ]
  },
  {
   "cell_type": "code",
   "execution_count": 48,
   "id": "cfa8f6f6-1ba5-41b6-9809-89a933240188",
   "metadata": {},
   "outputs": [],
   "source": [
    "from sklearn.ensemble import GradientBoostingClassifier"
   ]
  },
  {
   "cell_type": "code",
   "execution_count": 51,
   "id": "a623a97a-6896-469f-8edd-1e9bdbe16339",
   "metadata": {},
   "outputs": [
    {
     "data": {
      "text/plain": [
       "(0.8880123147969983, 0.8669230769230769, 0.021089237873921363)"
      ]
     },
     "execution_count": 51,
     "metadata": {},
     "output_type": "execute_result"
    }
   ],
   "source": [
    "### 훈련모델 생성하기\n",
    "# - 모델 변수명 : gb\n",
    "#   -- 모델 설정값 : 랜덤규칙 42\n",
    "gb = GradientBoostingClassifier(random_state=42)\n",
    "\n",
    "# - 훈련 시키기\n",
    "gb.fit(train_std_scaler, train_target)\n",
    "\n",
    "# - 훈련 및 테스트 정확도 확인하기\n",
    "train_score = gb.score(train_std_scaler, train_target)\n",
    "test_score  = gb.score(test_std_scaler, test_target)\n",
    "\n",
    "# - 훈련 및 테스트 정확도 출력하기(과적합 여부 확인)\n",
    "train_score, test_score, train_score-test_score"
   ]
  },
  {
   "cell_type": "markdown",
   "id": "fbec14b2-da23-41b6-a7eb-eba9046c456e",
   "metadata": {},
   "source": [
    "##### 히스트 그레디언트 부스팅 모델"
   ]
  },
  {
   "cell_type": "code",
   "execution_count": null,
   "id": "a41a20d9-3cb1-48cc-ae96-a1663142dd55",
   "metadata": {},
   "outputs": [],
   "source": [
    "\"\"\"\n",
    " - 정확한 명칭 : 히스토그램 기반 그레디언트 부스팅\n",
    "                (Histogram-base Gradient Boosting)\n",
    " - 앙상블 모델 중에 가장 인기있는 모델임\n",
    " - 그레디언트 부스팅 모델의 속도를 개선한 모델 (속도 빠름)\n",
    " - 하이퍼파라메터 튜닝을 하지 않아도 성능이 좋은 모델로 평가하고 있음\n",
    "\"\"\""
   ]
  },
  {
   "cell_type": "code",
   "execution_count": 52,
   "id": "23d75202-cd21-43d3-898f-1d6e3b8834fe",
   "metadata": {},
   "outputs": [],
   "source": [
    "from sklearn.ensemble import HistGradientBoostingClassifier"
   ]
  },
  {
   "cell_type": "code",
   "execution_count": 53,
   "id": "71986d6c-79bb-4f22-a0ae-918b045ac336",
   "metadata": {},
   "outputs": [
    {
     "data": {
      "text/plain": [
       "(0.924956705791803, 0.8723076923076923, 0.05264901348411066)"
      ]
     },
     "execution_count": 53,
     "metadata": {},
     "output_type": "execute_result"
    }
   ],
   "source": [
    "### 훈련모델 생성하기\n",
    "# - 모델 변수명 : hgb\n",
    "#   -- 모델 설정값 : 랜덤규칙 42\n",
    "hgb = HistGradientBoostingClassifier(random_state=42)\n",
    "\n",
    "# - 훈련 시키기\n",
    "hgb.fit(train_std_scaler, train_target)\n",
    "\n",
    "# - 훈련 및 테스트 정확도 확인하기\n",
    "train_score = hgb.score(train_std_scaler, train_target)\n",
    "test_score  = hgb.score(test_std_scaler, test_target)\n",
    "\n",
    "# - 훈련 및 테스트 정확도 출력하기(과적합 여부 확인)\n",
    "train_score, test_score, train_score-test_score"
   ]
  },
  {
   "cell_type": "code",
   "execution_count": 56,
   "id": "1926c690-3af1-426f-9617-40f5a0bba742",
   "metadata": {},
   "outputs": [
    {
     "data": {
      "text/plain": [
       "<sklearn.metrics._plot.confusion_matrix.ConfusionMatrixDisplay at 0x19bffbd1820>"
      ]
     },
     "execution_count": 56,
     "metadata": {},
     "output_type": "execute_result"
    },
    {
     "data": {
      "image/png": "[encoded data removed]",
      "text/plain": [
       "<Figure size 640x480 with 2 Axes>"
      ]
     },
     "metadata": {},
     "output_type": "display_data"
    }
   ],
   "source": [
    "### 테스트 전체 데이터로 예측 하기\n",
    "# - 예측결과 변수 : y_pred\n",
    "y_pred = hgb.predict(test_std_scaler)\n",
    "\n",
    "# - 오차행렬 매트릭스 표 -> 변수명 : cm\n",
    "cm = confusion_matrix(test_target, y_pred, labels=hgb.classes_)\n",
    "\n",
    "# - 오차행렬도 그리기 -> 변수명 : disp\n",
    "disp = ConfusionMatrixDisplay(confusion_matrix=cm, display_labels=hgb.classes_)\n",
    "disp.plot()"
   ]
  },
  {
   "cell_type": "code",
   "execution_count": 57,
   "id": "b0036345-164f-4aa9-b52b-114479a2ee8c",
   "metadata": {},
   "outputs": [
    {
     "data": {
      "text/plain": [
       "(0.8723076923076923, 0.9178082191780822, 0.908237747653806, 0.9129979035639413)"
      ]
     },
     "execution_count": 57,
     "metadata": {},
     "output_type": "execute_result"
    }
   ],
   "source": [
    "### 평가지표 확인하기\n",
    "# 정확도 -> 변수명 : acc\n",
    "acc = accuracy_score(test_target, y_pred)\n",
    "\n",
    "# 정밀도 -> 변수명 : pre\n",
    "pre = precision_score(test_target, y_pred)\n",
    "\n",
    "# 재현율 -> 변수명 : rec\n",
    "rec = recall_score(test_target, y_pred)\n",
    "\n",
    "# f1-score -> 변수명 : f1\n",
    "f1 = f1_score(test_target, y_pred)\n",
    "\n",
    "### 평가지표 모두 출력하기\n",
    "acc, pre, rec, f1"
   ]
  },
  {
   "cell_type": "code",
   "execution_count": null,
   "id": "8cd742df-3b2e-4d94-a259-4e61eb068a07",
   "metadata": {},
   "outputs": [],
   "source": [
    "\"\"\"\n",
    "(해석)\n",
    " - HGB 훈련 모델은 0.92 이상의 매우 높은 정확도를 나타내고 있으며,\n",
    " - 재현율 0.91, f1-score 0.91의 매우 높은 평가 지표를 나타내고 있음\n",
    " - 따라서, 와인분류를 위해 HGB 모델을 활용하는데 문제가 없을 것으로 판단함 \n",
    "\"\"\""
   ]
  },
  {
   "cell_type": "code",
   "execution_count": 58,
   "id": "a5cce1a3-990e-4632-a0f1-dd046b7a0788",
   "metadata": {},
   "outputs": [
    {
     "data": {
      "text/html": [
       "<style>#sk-container-id-4 {\n",
       "  /* Definition of color scheme common for light and dark mode */\n",
       "  --sklearn-color-text: #000;\n",
       "  --sklearn-color-text-muted: #666;\n",
       "  --sklearn-color-line: gray;\n",
       "  /* Definition of color scheme for unfitted estimators */\n",
       "  --sklearn-color-unfitted-level-0: #fff5e6;\n",
       "  --sklearn-color-unfitted-level-1: #f6e4d2;\n",
       "  --sklearn-color-unfitted-level-2: #ffe0b3;\n",
       "  --sklearn-color-unfitted-level-3: chocolate;\n",
       "  /* Definition of color scheme for fitted estimators */\n",
       "  --sklearn-color-fitted-level-0: #f0f8ff;\n",
       "  --sklearn-color-fitted-level-1: #d4ebff;\n",
       "  --sklearn-color-fitted-level-2: #b3dbfd;\n",
       "  --sklearn-color-fitted-level-3: cornflowerblue;\n",
       "\n",
       "  /* Specific color for light theme */\n",
       "  --sklearn-color-text-on-default-background: var(--sg-text-color, var(--theme-code-foreground, var(--jp-content-font-color1, black)));\n",
       "  --sklearn-color-background: var(--sg-background-color, var(--theme-background, var(--jp-layout-color0, white)));\n",
       "  --sklearn-color-border-box: var(--sg-text-color, var(--theme-code-foreground, var(--jp-content-font-color1, black)));\n",
       "  --sklearn-color-icon: #696969;\n",
       "\n",
       "  @media (prefers-color-scheme: dark) {\n",
       "    /* Redefinition of color scheme for dark theme */\n",
       "    --sklearn-color-text-on-default-background: var(--sg-text-color, var(--theme-code-foreground, var(--jp-content-font-color1, white)));\n",
       "    --sklearn-color-background: var(--sg-background-color, var(--theme-background, var(--jp-layout-color0, #111)));\n",
       "    --sklearn-color-border-box: var(--sg-text-color, var(--theme-code-foreground, var(--jp-content-font-color1, white)));\n",
       "    --sklearn-color-icon: #878787;\n",
       "  }\n",
       "}\n",
       "\n",
       "#sk-container-id-4 {\n",
       "  color: var(--sklearn-color-text);\n",
       "}\n",
       "\n",
       "#sk-container-id-4 pre {\n",
       "  padding: 0;\n",
       "}\n",
       "\n",
       "#sk-container-id-4 input.sk-hidden--visually {\n",
       "  border: 0;\n",
       "  clip: rect(1px 1px 1px 1px);\n",
       "  clip: rect(1px, 1px, 1px, 1px);\n",
       "  height: 1px;\n",
       "  margin: -1px;\n",
       "  overflow: hidden;\n",
       "  padding: 0;\n",
       "  position: absolute;\n",
       "  width: 1px;\n",
       "}\n",
       "\n",
       "#sk-container-id-4 div.sk-dashed-wrapped {\n",
       "  border: 1px dashed var(--sklearn-color-line);\n",
       "  margin: 0 0.4em 0.5em 0.4em;\n",
       "  box-sizing: border-box;\n",
       "  padding-bottom: 0.4em;\n",
       "  background-color: var(--sklearn-color-background);\n",
       "}\n",
       "\n",
       "#sk-container-id-4 div.sk-container {\n",
       "  /* jupyter's `normalize.less` sets `[hidden] { display: none; }`\n",
       "     but bootstrap.min.css set `[hidden] { display: none !important; }`\n",
       "     so we also need the `!important` here to be able to override the\n",
       "     default hidden behavior on the sphinx rendered scikit-learn.org.\n",
       "     See: https://github.com/scikit-learn/scikit-learn/issues/21755 */\n",
       "  display: inline-block !important;\n",
       "  position: relative;\n",
       "}\n",
       "\n",
       "#sk-container-id-4 div.sk-text-repr-fallback {\n",
       "  display: none;\n",
       "}\n",
       "\n",
       "div.sk-parallel-item,\n",
       "div.sk-serial,\n",
       "div.sk-item {\n",
       "  /* draw centered vertical line to link estimators */\n",
       "  background-image: linear-gradient(var(--sklearn-color-text-on-default-background), var(--sklearn-color-text-on-default-background));\n",
       "  background-size: 2px 100%;\n",
       "  background-repeat: no-repeat;\n",
       "  background-position: center center;\n",
       "}\n",
       "\n",
       "/* Parallel-specific style estimator block */\n",
       "\n",
       "#sk-container-id-4 div.sk-parallel-item::after {\n",
       "  content: \"\";\n",
       "  width: 100%;\n",
       "  border-bottom: 2px solid var(--sklearn-color-text-on-default-background);\n",
       "  flex-grow: 1;\n",
       "}\n",
       "\n",
       "#sk-container-id-4 div.sk-parallel {\n",
       "  display: flex;\n",
       "  align-items: stretch;\n",
       "  justify-content: center;\n",
       "  background-color: var(--sklearn-color-background);\n",
       "  position: relative;\n",
       "}\n",
       "\n",
       "#sk-container-id-4 div.sk-parallel-item {\n",
       "  display: flex;\n",
       "  flex-direction: column;\n",
       "}\n",
       "\n",
       "#sk-container-id-4 div.sk-parallel-item:first-child::after {\n",
       "  align-self: flex-end;\n",
       "  width: 50%;\n",
       "}\n",
       "\n",
       "#sk-container-id-4 div.sk-parallel-item:last-child::after {\n",
       "  align-self: flex-start;\n",
       "  width: 50%;\n",
       "}\n",
       "\n",
       "#sk-container-id-4 div.sk-parallel-item:only-child::after {\n",
       "  width: 0;\n",
       "}\n",
       "\n",
       "/* Serial-specific style estimator block */\n",
       "\n",
       "#sk-container-id-4 div.sk-serial {\n",
       "  display: flex;\n",
       "  flex-direction: column;\n",
       "  align-items: center;\n",
       "  background-color: var(--sklearn-color-background);\n",
       "  padding-right: 1em;\n",
       "  padding-left: 1em;\n",
       "}\n",
       "\n",
       "\n",
       "/* Toggleable style: style used for estimator/Pipeline/ColumnTransformer box that is\n",
       "clickable and can be expanded/collapsed.\n",
       "- Pipeline and ColumnTransformer use this feature and define the default style\n",
       "- Estimators will overwrite some part of the style using the `sk-estimator` class\n",
       "*/\n",
       "\n",
       "/* Pipeline and ColumnTransformer style (default) */\n",
       "\n",
       "#sk-container-id-4 div.sk-toggleable {\n",
       "  /* Default theme specific background. It is overwritten whether we have a\n",
       "  specific estimator or a Pipeline/ColumnTransformer */\n",
       "  background-color: var(--sklearn-color-background);\n",
       "}\n",
       "\n",
       "/* Toggleable label */\n",
       "#sk-container-id-4 label.sk-toggleable__label {\n",
       "  cursor: pointer;\n",
       "  display: flex;\n",
       "  width: 100%;\n",
       "  margin-bottom: 0;\n",
       "  padding: 0.5em;\n",
       "  box-sizing: border-box;\n",
       "  text-align: center;\n",
       "  align-items: start;\n",
       "  justify-content: space-between;\n",
       "  gap: 0.5em;\n",
       "}\n",
       "\n",
       "#sk-container-id-4 label.sk-toggleable__label .caption {\n",
       "  font-size: 0.6rem;\n",
       "  font-weight: lighter;\n",
       "  color: var(--sklearn-color-text-muted);\n",
       "}\n",
       "\n",
       "#sk-container-id-4 label.sk-toggleable__label-arrow:before {\n",
       "  /* Arrow on the left of the label */\n",
       "  content: \"▸\";\n",
       "  float: left;\n",
       "  margin-right: 0.25em;\n",
       "  color: var(--sklearn-color-icon);\n",
       "}\n",
       "\n",
       "#sk-container-id-4 label.sk-toggleable__label-arrow:hover:before {\n",
       "  color: var(--sklearn-color-text);\n",
       "}\n",
       "\n",
       "/* Toggleable content - dropdown */\n",
       "\n",
       "#sk-container-id-4 div.sk-toggleable__content {\n",
       "  max-height: 0;\n",
       "  max-width: 0;\n",
       "  overflow: hidden;\n",
       "  text-align: left;\n",
       "  /* unfitted */\n",
       "  background-color: var(--sklearn-color-unfitted-level-0);\n",
       "}\n",
       "\n",
       "#sk-container-id-4 div.sk-toggleable__content.fitted {\n",
       "  /* fitted */\n",
       "  background-color: var(--sklearn-color-fitted-level-0);\n",
       "}\n",
       "\n",
       "#sk-container-id-4 div.sk-toggleable__content pre {\n",
       "  margin: 0.2em;\n",
       "  border-radius: 0.25em;\n",
       "  color: var(--sklearn-color-text);\n",
       "  /* unfitted */\n",
       "  background-color: var(--sklearn-color-unfitted-level-0);\n",
       "}\n",
       "\n",
       "#sk-container-id-4 div.sk-toggleable__content.fitted pre {\n",
       "  /* unfitted */\n",
       "  background-color: var(--sklearn-color-fitted-level-0);\n",
       "}\n",
       "\n",
       "#sk-container-id-4 input.sk-toggleable__control:checked~div.sk-toggleable__content {\n",
       "  /* Expand drop-down */\n",
       "  max-height: 200px;\n",
       "  max-width: 100%;\n",
       "  overflow: auto;\n",
       "}\n",
       "\n",
       "#sk-container-id-4 input.sk-toggleable__control:checked~label.sk-toggleable__label-arrow:before {\n",
       "  content: \"▾\";\n",
       "}\n",
       "\n",
       "/* Pipeline/ColumnTransformer-specific style */\n",
       "\n",
       "#sk-container-id-4 div.sk-label input.sk-toggleable__control:checked~label.sk-toggleable__label {\n",
       "  color: var(--sklearn-color-text);\n",
       "  background-color: var(--sklearn-color-unfitted-level-2);\n",
       "}\n",
       "\n",
       "#sk-container-id-4 div.sk-label.fitted input.sk-toggleable__control:checked~label.sk-toggleable__label {\n",
       "  background-color: var(--sklearn-color-fitted-level-2);\n",
       "}\n",
       "\n",
       "/* Estimator-specific style */\n",
       "\n",
       "/* Colorize estimator box */\n",
       "#sk-container-id-4 div.sk-estimator input.sk-toggleable__control:checked~label.sk-toggleable__label {\n",
       "  /* unfitted */\n",
       "  background-color: var(--sklearn-color-unfitted-level-2);\n",
       "}\n",
       "\n",
       "#sk-container-id-4 div.sk-estimator.fitted input.sk-toggleable__control:checked~label.sk-toggleable__label {\n",
       "  /* fitted */\n",
       "  background-color: var(--sklearn-color-fitted-level-2);\n",
       "}\n",
       "\n",
       "#sk-container-id-4 div.sk-label label.sk-toggleable__label,\n",
       "#sk-container-id-4 div.sk-label label {\n",
       "  /* The background is the default theme color */\n",
       "  color: var(--sklearn-color-text-on-default-background);\n",
       "}\n",
       "\n",
       "/* On hover, darken the color of the background */\n",
       "#sk-container-id-4 div.sk-label:hover label.sk-toggleable__label {\n",
       "  color: var(--sklearn-color-text);\n",
       "  background-color: var(--sklearn-color-unfitted-level-2);\n",
       "}\n",
       "\n",
       "/* Label box, darken color on hover, fitted */\n",
       "#sk-container-id-4 div.sk-label.fitted:hover label.sk-toggleable__label.fitted {\n",
       "  color: var(--sklearn-color-text);\n",
       "  background-color: var(--sklearn-color-fitted-level-2);\n",
       "}\n",
       "\n",
       "/* Estimator label */\n",
       "\n",
       "#sk-container-id-4 div.sk-label label {\n",
       "  font-family: monospace;\n",
       "  font-weight: bold;\n",
       "  display: inline-block;\n",
       "  line-height: 1.2em;\n",
       "}\n",
       "\n",
       "#sk-container-id-4 div.sk-label-container {\n",
       "  text-align: center;\n",
       "}\n",
       "\n",
       "/* Estimator-specific */\n",
       "#sk-container-id-4 div.sk-estimator {\n",
       "  font-family: monospace;\n",
       "  border: 1px dotted var(--sklearn-color-border-box);\n",
       "  border-radius: 0.25em;\n",
       "  box-sizing: border-box;\n",
       "  margin-bottom: 0.5em;\n",
       "  /* unfitted */\n",
       "  background-color: var(--sklearn-color-unfitted-level-0);\n",
       "}\n",
       "\n",
       "#sk-container-id-4 div.sk-estimator.fitted {\n",
       "  /* fitted */\n",
       "  background-color: var(--sklearn-color-fitted-level-0);\n",
       "}\n",
       "\n",
       "/* on hover */\n",
       "#sk-container-id-4 div.sk-estimator:hover {\n",
       "  /* unfitted */\n",
       "  background-color: var(--sklearn-color-unfitted-level-2);\n",
       "}\n",
       "\n",
       "#sk-container-id-4 div.sk-estimator.fitted:hover {\n",
       "  /* fitted */\n",
       "  background-color: var(--sklearn-color-fitted-level-2);\n",
       "}\n",
       "\n",
       "/* Specification for estimator info (e.g. \"i\" and \"?\") */\n",
       "\n",
       "/* Common style for \"i\" and \"?\" */\n",
       "\n",
       ".sk-estimator-doc-link,\n",
       "a:link.sk-estimator-doc-link,\n",
       "a:visited.sk-estimator-doc-link {\n",
       "  float: right;\n",
       "  font-size: smaller;\n",
       "  line-height: 1em;\n",
       "  font-family: monospace;\n",
       "  background-color: var(--sklearn-color-background);\n",
       "  border-radius: 1em;\n",
       "  height: 1em;\n",
       "  width: 1em;\n",
       "  text-decoration: none !important;\n",
       "  margin-left: 0.5em;\n",
       "  text-align: center;\n",
       "  /* unfitted */\n",
       "  border: var(--sklearn-color-unfitted-level-1) 1pt solid;\n",
       "  color: var(--sklearn-color-unfitted-level-1);\n",
       "}\n",
       "\n",
       ".sk-estimator-doc-link.fitted,\n",
       "a:link.sk-estimator-doc-link.fitted,\n",
       "a:visited.sk-estimator-doc-link.fitted {\n",
       "  /* fitted */\n",
       "  border: var(--sklearn-color-fitted-level-1) 1pt solid;\n",
       "  color: var(--sklearn-color-fitted-level-1);\n",
       "}\n",
       "\n",
       "/* On hover */\n",
       "div.sk-estimator:hover .sk-estimator-doc-link:hover,\n",
       ".sk-estimator-doc-link:hover,\n",
       "div.sk-label-container:hover .sk-estimator-doc-link:hover,\n",
       ".sk-estimator-doc-link:hover {\n",
       "  /* unfitted */\n",
       "  background-color: var(--sklearn-color-unfitted-level-3);\n",
       "  color: var(--sklearn-color-background);\n",
       "  text-decoration: none;\n",
       "}\n",
       "\n",
       "div.sk-estimator.fitted:hover .sk-estimator-doc-link.fitted:hover,\n",
       ".sk-estimator-doc-link.fitted:hover,\n",
       "div.sk-label-container:hover .sk-estimator-doc-link.fitted:hover,\n",
       ".sk-estimator-doc-link.fitted:hover {\n",
       "  /* fitted */\n",
       "  background-color: var(--sklearn-color-fitted-level-3);\n",
       "  color: var(--sklearn-color-background);\n",
       "  text-decoration: none;\n",
       "}\n",
       "\n",
       "/* Span, style for the box shown on hovering the info icon */\n",
       ".sk-estimator-doc-link span {\n",
       "  display: none;\n",
       "  z-index: 9999;\n",
       "  position: relative;\n",
       "  font-weight: normal;\n",
       "  right: .2ex;\n",
       "  padding: .5ex;\n",
       "  margin: .5ex;\n",
       "  width: min-content;\n",
       "  min-width: 20ex;\n",
       "  max-width: 50ex;\n",
       "  color: var(--sklearn-color-text);\n",
       "  box-shadow: 2pt 2pt 4pt #999;\n",
       "  /* unfitted */\n",
       "  background: var(--sklearn-color-unfitted-level-0);\n",
       "  border: .5pt solid var(--sklearn-color-unfitted-level-3);\n",
       "}\n",
       "\n",
       ".sk-estimator-doc-link.fitted span {\n",
       "  /* fitted */\n",
       "  background: var(--sklearn-color-fitted-level-0);\n",
       "  border: var(--sklearn-color-fitted-level-3);\n",
       "}\n",
       "\n",
       ".sk-estimator-doc-link:hover span {\n",
       "  display: block;\n",
       "}\n",
       "\n",
       "/* \"?\"-specific style due to the `<a>` HTML tag */\n",
       "\n",
       "#sk-container-id-4 a.estimator_doc_link {\n",
       "  float: right;\n",
       "  font-size: 1rem;\n",
       "  line-height: 1em;\n",
       "  font-family: monospace;\n",
       "  background-color: var(--sklearn-color-background);\n",
       "  border-radius: 1rem;\n",
       "  height: 1rem;\n",
       "  width: 1rem;\n",
       "  text-decoration: none;\n",
       "  /* unfitted */\n",
       "  color: var(--sklearn-color-unfitted-level-1);\n",
       "  border: var(--sklearn-color-unfitted-level-1) 1pt solid;\n",
       "}\n",
       "\n",
       "#sk-container-id-4 a.estimator_doc_link.fitted {\n",
       "  /* fitted */\n",
       "  border: var(--sklearn-color-fitted-level-1) 1pt solid;\n",
       "  color: var(--sklearn-color-fitted-level-1);\n",
       "}\n",
       "\n",
       "/* On hover */\n",
       "#sk-container-id-4 a.estimator_doc_link:hover {\n",
       "  /* unfitted */\n",
       "  background-color: var(--sklearn-color-unfitted-level-3);\n",
       "  color: var(--sklearn-color-background);\n",
       "  text-decoration: none;\n",
       "}\n",
       "\n",
       "#sk-container-id-4 a.estimator_doc_link.fitted:hover {\n",
       "  /* fitted */\n",
       "  background-color: var(--sklearn-color-fitted-level-3);\n",
       "}\n",
       "</style><div id=\"sk-container-id-4\" class=\"sk-top-container\"><div class=\"sk-text-repr-fallback\"><pre>HistGradientBoostingClassifier(random_state=42)</pre><b>In a Jupyter environment, please rerun this cell to show the HTML representation or trust the notebook. <br />On GitHub, the HTML representation is unable to render, please try loading this page with nbviewer.org.</b></div><div class=\"sk-container\" hidden><div class=\"sk-item\"><div class=\"sk-estimator fitted sk-toggleable\"><input class=\"sk-toggleable__control sk-hidden--visually\" id=\"sk-estimator-id-4\" type=\"checkbox\" checked><label for=\"sk-estimator-id-4\" class=\"sk-toggleable__label fitted sk-toggleable__label-arrow\"><div><div>HistGradientBoostingClassifier</div></div><div><a class=\"sk-estimator-doc-link fitted\" rel=\"noreferrer\" target=\"_blank\" href=\"https://scikit-learn.org/1.6/modules/generated/sklearn.ensemble.HistGradientBoostingClassifier.html\">?<span>Documentation for HistGradientBoostingClassifier</span></a><span class=\"sk-estimator-doc-link fitted\">i<span>Fitted</span></span></div></label><div class=\"sk-toggleable__content fitted\"><pre>HistGradientBoostingClassifier(random_state=42)</pre></div> </div></div></div></div>"
      ],
      "text/plain": [
       "HistGradientBoostingClassifier(random_state=42)"
      ]
     },
     "execution_count": 58,
     "metadata": {},
     "output_type": "execute_result"
    }
   ],
   "source": [
    "hgb"
   ]
  },
  {
   "cell_type": "markdown",
   "id": "92e8e5b6-e88e-4cdc-8442-c6df943808d0",
   "metadata": {},
   "source": [
    "##### 엑스지비(XGB) 모델"
   ]
  },
  {
   "cell_type": "code",
   "execution_count": null,
   "id": "598b4ed4-246d-446a-96a4-4c18949b9a6b",
   "metadata": {},
   "outputs": [],
   "source": [
    "\"\"\"\n",
    " - HGB 모델과 유사한 성능을 나타냄\n",
    " - sklearn 패키지에 포함되어 있지 않음\n",
    "\"\"\""
   ]
  },
  {
   "cell_type": "code",
   "execution_count": 59,
   "id": "125c53d3-4492-4d78-9515-4cce0077dba2",
   "metadata": {},
   "outputs": [],
   "source": [
    "from xgboost import XGBClassifier\n",
    "\n",
    "from sklearn import set_config\n",
    "set_config(display=\"text\")"
   ]
  },
  {
   "cell_type": "code",
   "execution_count": 62,
   "id": "cd1724d9-1c86-4443-baba-53cfabe69543",
   "metadata": {},
   "outputs": [
    {
     "data": {
      "text/plain": [
       "(0.9513180681162209, 0.88, 0.07131806811622088)"
      ]
     },
     "execution_count": 62,
     "metadata": {},
     "output_type": "execute_result"
    }
   ],
   "source": [
    "### 모델(클래스) 생성하기\n",
    "xgb = XGBClassifier(random_state = 42)\n",
    "xgb\n",
    "\n",
    "### 훈련 시키기\n",
    "xgb.fit(train_std_scaler, train_target)\n",
    "\n",
    "# - 훈련 및 테스트 정확도 확인하기\n",
    "train_score = xgb.score(train_std_scaler, train_target)\n",
    "test_score  = xgb.score(test_std_scaler, test_target)\n",
    "\n",
    "# - 훈련 및 테스트 정확도 출력하기(과적합 여부 확인)\n",
    "train_score, test_score, train_score-test_score"
   ]
  },
  {
   "cell_type": "code",
   "execution_count": null,
   "id": "b59fb90e-ce93-4cb1-93c0-923a41f635e1",
   "metadata": {},
   "outputs": [],
   "source": [
    "\"\"\"\n",
    "GB  : (0.8880123147969983, 0.8669230769230769, 0.021089237873921363)\n",
    "HGB : (0.924956705791803,  0.8723076923076923, 0.05264901348411066)\n",
    "XGB : (0.9513180681162209, 0.88,               0.07131806811622088)\n",
    "\"\"\""
   ]
  },
  {
   "cell_type": "code",
   "execution_count": 64,
   "id": "7ea2fd8f-a49f-40b6-a5d0-2abf30eb33b1",
   "metadata": {},
   "outputs": [],
   "source": [
    "### 예측하기\n",
    "y_pred = xgb.predict(test_std_scaler)"
   ]
  },
  {
   "cell_type": "code",
   "execution_count": 66,
   "id": "9ed7849d-2412-4b1e-89b8-06faf1f1ee8a",
   "metadata": {},
   "outputs": [
    {
     "data": {
      "text/plain": [
       "<sklearn.metrics._plot.confusion_matrix.ConfusionMatrixDisplay at 0x19b91d510a0>"
      ]
     },
     "execution_count": 66,
     "metadata": {},
     "output_type": "execute_result"
    },
    {
     "data": {
      "image/png": "[encoded data removed]",
      "text/plain": [
       "<Figure size 640x480 with 2 Axes>"
      ]
     },
     "metadata": {},
     "output_type": "display_data"
    }
   ],
   "source": [
    "### 오차 매트릭스 표\n",
    "cm = confusion_matrix(test_target, y_pred, labels=xgb.classes_)\n",
    "\n",
    "### 혼동(오차)행렬도\n",
    "disp = ConfusionMatrixDisplay(confusion_matrix=cm, display_labels=xgb.classes_)\n",
    "disp.plot()"
   ]
  },
  {
   "cell_type": "code",
   "execution_count": 67,
   "id": "d2d14562-0650-42cd-ace9-584df08573aa",
   "metadata": {},
   "outputs": [
    {
     "data": {
      "text/plain": [
       "(0.88, 0.9204188481675393, 0.9165797705943691, 0.9184952978056427)"
      ]
     },
     "execution_count": 67,
     "metadata": {},
     "output_type": "execute_result"
    }
   ],
   "source": [
    "### 평가지표 확인하기\n",
    "# 정확도 -> 변수명 : acc\n",
    "acc = accuracy_score(test_target, y_pred)\n",
    "\n",
    "# 정밀도 -> 변수명 : pre\n",
    "pre = precision_score(test_target, y_pred)\n",
    "\n",
    "# 재현율 -> 변수명 : rec\n",
    "rec = recall_score(test_target, y_pred)\n",
    "\n",
    "# f1-score -> 변수명 : f1\n",
    "f1 = f1_score(test_target, y_pred)\n",
    "\n",
    "### 평가지표 모두 출력하기\n",
    "acc, pre, rec, f1"
   ]
  },
  {
   "cell_type": "code",
   "execution_count": null,
   "id": "da1105e0-da69-4d26-b0b6-78e269151056",
   "metadata": {},
   "outputs": [],
   "source": [
    "\"\"\"\n",
    "HGB : (0.8723076923076923, 0.9178082191780822, 0.908237747653806,  0.9129979035639413)\n",
    "XGB : (0.88,               0.9204188481675393, 0.9165797705943691, 0.9184952978056427)\n",
    "\"\"\""
   ]
  },
  {
   "cell_type": "markdown",
   "id": "bf7607a0-b2f3-4564-9ce5-63d424206401",
   "metadata": {},
   "source": [
    "### 전체 모델에 대한 결과를 데이터프레임의 행렬 표로 만들기"
   ]
  },
  {
   "cell_type": "code",
   "execution_count": null,
   "id": "a81f0b14-0e65-474a-ad54-ae6891044244",
   "metadata": {},
   "outputs": [],
   "source": [
    "\"\"\"\n",
    " - 데이터프레임 변수명 : df\n",
    " - 사용 모델 5개 : rf, et, gb, hgb, xgb 모델 사용하여 아래 컬럼에 대한 결과값 추출하여 행 추가하기\n",
    " - 컬럼명 : 모델명, 훈련정확도, 예측정확도, 정밀도, 재현율, f1-score, 훈련-예측\n",
    " - 각 모델은 설정값 랜덤규칙 42값만 사용하여 모델 생성\n",
    "\n",
    " - 함수 이용하기 : 함수명은 getResult\n",
    "\n",
    " <순서>\n",
    "  1. 위에서 각 모델별로 수행한 내용들을 기반으로 하나의 모델로 함수 정의해서 테스트 해보기...\n",
    "    -> 함수에서 컬럼명에 대한 값들을 모두 추출하여 반환(return) 하는 기능으로 처리\n",
    "  2. 모델을 리스트에 모두 넣어서 반복 테스트 해보기 -> 반복시 1번에서 정의한 함수 호출 -> 반환 결과 확인\n",
    "  3. 반복문에서 함수 호출 후 반환 결과를 데이터프레임에 넣는 처리 진행\n",
    "    -> 깨끗한 데이터프레임 생성(df)\n",
    "    -> 반환 받은 값들을 데이터프레임으로 만들어서, 깨끗한 데이터프레임에 추가(concat함수 사용)\n",
    "\"\"\""
   ]
  },
  {
   "cell_type": "code",
   "execution_count": 68,
   "id": "ef126790-741a-4f5b-958e-e7879f8e83e3",
   "metadata": {},
   "outputs": [],
   "source": [
    "### 1. 위에서 각 모델별로 수행한 내용들을 기반으로 하나의 모델로 함수 정의해서 테스트 해보기...\n",
    "#    -> 함수에서 컬럼명에 대한 값들을 모두 추출하여 반환(return) 하는 기능으로 처리\n",
    "def getResult(model) :\n",
    "    ### 모델 이름 추출하기\n",
    "    model_nm = model.__class__.__name__\n",
    "    \n",
    "    ### 훈련 시키기\n",
    "    model.fit(train_std_scaler, train_target)\n",
    "    \n",
    "    # - 훈련 및 테스트 정확도 확인하기\n",
    "    train_score = model.score(train_std_scaler, train_target)\n",
    "    test_score  = model.score(test_std_scaler, test_target)\n",
    "\n",
    "    ### 예측하기\n",
    "    y_pred = model.predict(test_std_scaler)\n",
    "\n",
    "    ### 평가지표 확인하기\n",
    "    # 정확도 -> 변수명 : acc\n",
    "    acc = accuracy_score(test_target, y_pred)\n",
    "    \n",
    "    # 정밀도 -> 변수명 : pre\n",
    "    pre = precision_score(test_target, y_pred)\n",
    "    \n",
    "    # 재현율 -> 변수명 : rec\n",
    "    rec = recall_score(test_target, y_pred)\n",
    "    \n",
    "    # f1-score -> 변수명 : f1\n",
    "    f1 = f1_score(test_target, y_pred)\n",
    "\n",
    "    return model_nm, train_score, test_score, pre, rec, f1, train_score-test_score"
   ]
  },
  {
   "cell_type": "code",
   "execution_count": 70,
   "id": "506996c2-f483-47cc-9957-b9c1088d55db",
   "metadata": {},
   "outputs": [
    {
     "data": {
      "text/plain": [
       "('RandomForestClassifier',\n",
       " 0.996921300750433,\n",
       " 0.8892307692307693,\n",
       " 0.9222797927461139,\n",
       " 0.9280500521376434,\n",
       " 0.9251559251559252,\n",
       " 0.10769053151966368)"
      ]
     },
     "execution_count": 70,
     "metadata": {},
     "output_type": "execute_result"
    }
   ],
   "source": [
    "### 모델 생성\n",
    "rf = RandomForestClassifier(random_state=42)\n",
    "\n",
    "### 함수 호출 테스트\n",
    "m_nm, train_s, test_s, pre, rec, f1, score_minus = getResult(model=rf)\n",
    "m_nm, train_s, test_s, pre, rec, f1, score_minus"
   ]
  },
  {
   "cell_type": "code",
   "execution_count": 77,
   "id": "fdc843b5-d681-43fd-816c-eaa1dd5945a3",
   "metadata": {},
   "outputs": [],
   "source": [
    "### 반복문으로 5개 모델 일괄 처리\n",
    "# 모델 5개 생성해서 리스트 변수에 넣기 -> 해당 리스트 변수로 반복 패턴 정의\n",
    "\n",
    "models = [RandomForestClassifier(random_state=42),\n",
    "          ExtraTreesClassifier(random_state=42),\n",
    "          GradientBoostingClassifier(random_state=42),\n",
    "          HistGradientBoostingClassifier(random_state=42),\n",
    "          XGBClassifier(random_state=42)]\n",
    "# models\n",
    "\n",
    "### 깨끗한 데이터프레임 정의(모델의 모든 반환값을 넣을 데이터프레임)\n",
    "df = pd.DataFrame()\n",
    "\n",
    "for model in models:\n",
    "    # print(model)\n",
    "    \n",
    "    ### 함수 호출 테스트\n",
    "    m_nm, train_s, test_s, pre, rec, f1, score_minus = getResult(model=model)\n",
    "    # print(m_nm, train_s, test_s, pre, rec, f1, score_minus)\n",
    "\n",
    "    ### 반환받은 결과값을 데이터프레임으로 만들기\n",
    "    df_temp = pd.DataFrame([[m_nm, train_s, test_s, pre, rec, f1, score_minus]],\n",
    "                             columns=[\"모델명\", \"훈련정확도\", \"예측정확도\", \n",
    "                                      \"정밀도\", \"재현율\", \"f1-score\", \"훈련-예측\"])\n",
    "    # print(df_temp)\n",
    "\n",
    "    ### df_temp 결과를 -> 깨끗한 데이터프레임(df)에 추가하기\n",
    "    # - ignore_index=True : 행을 추가할 때 마다 인덱스값을 자동 증가 시키기\n",
    "    df = pd.concat([df, df_temp], ignore_index=True)"
   ]
  },
  {
   "cell_type": "code",
   "execution_count": 78,
   "id": "8e7084cd-3cb6-485f-b4d7-07ca708bcaee",
   "metadata": {},
   "outputs": [
    {
     "data": {
      "text/html": [
       "<div>\n",
       "<style scoped>\n",
       "    .dataframe tbody tr th:only-of-type {\n",
       "        vertical-align: middle;\n",
       "    }\n",
       "\n",
       "    .dataframe tbody tr th {\n",
       "        vertical-align: top;\n",
       "    }\n",
       "\n",
       "    .dataframe thead th {\n",
       "        text-align: right;\n",
       "    }\n",
       "</style>\n",
       "<table border=\"1\" class=\"dataframe\">\n",
       "  <thead>\n",
       "    <tr style=\"text-align: right;\">\n",
       "      <th></th>\n",
       "      <th>모델명</th>\n",
       "      <th>훈련정확도</th>\n",
       "      <th>예측정확도</th>\n",
       "      <th>정밀도</th>\n",
       "      <th>재현율</th>\n",
       "      <th>f1-score</th>\n",
       "      <th>훈련-예측</th>\n",
       "    </tr>\n",
       "  </thead>\n",
       "  <tbody>\n",
       "    <tr>\n",
       "      <th>0</th>\n",
       "      <td>RandomForestClassifier</td>\n",
       "      <td>0.996921</td>\n",
       "      <td>0.889231</td>\n",
       "      <td>0.922280</td>\n",
       "      <td>0.928050</td>\n",
       "      <td>0.925156</td>\n",
       "      <td>0.107691</td>\n",
       "    </tr>\n",
       "    <tr>\n",
       "      <th>1</th>\n",
       "      <td>ExtraTreesClassifier</td>\n",
       "      <td>0.996921</td>\n",
       "      <td>0.886154</td>\n",
       "      <td>0.915897</td>\n",
       "      <td>0.931178</td>\n",
       "      <td>0.923475</td>\n",
       "      <td>0.110767</td>\n",
       "    </tr>\n",
       "    <tr>\n",
       "      <th>2</th>\n",
       "      <td>GradientBoostingClassifier</td>\n",
       "      <td>0.888012</td>\n",
       "      <td>0.866923</td>\n",
       "      <td>0.905155</td>\n",
       "      <td>0.915537</td>\n",
       "      <td>0.910316</td>\n",
       "      <td>0.021089</td>\n",
       "    </tr>\n",
       "    <tr>\n",
       "      <th>3</th>\n",
       "      <td>HistGradientBoostingClassifier</td>\n",
       "      <td>0.924957</td>\n",
       "      <td>0.872308</td>\n",
       "      <td>0.917808</td>\n",
       "      <td>0.908238</td>\n",
       "      <td>0.912998</td>\n",
       "      <td>0.052649</td>\n",
       "    </tr>\n",
       "    <tr>\n",
       "      <th>4</th>\n",
       "      <td>XGBClassifier</td>\n",
       "      <td>0.951318</td>\n",
       "      <td>0.880000</td>\n",
       "      <td>0.920419</td>\n",
       "      <td>0.916580</td>\n",
       "      <td>0.918495</td>\n",
       "      <td>0.071318</td>\n",
       "    </tr>\n",
       "  </tbody>\n",
       "</table>\n",
       "</div>"
      ],
      "text/plain": [
       "                              모델명     훈련정확도     예측정확도       정밀도       재현율  \\\n",
       "0          RandomForestClassifier  0.996921  0.889231  0.922280  0.928050   \n",
       "1            ExtraTreesClassifier  0.996921  0.886154  0.915897  0.931178   \n",
       "2      GradientBoostingClassifier  0.888012  0.866923  0.905155  0.915537   \n",
       "3  HistGradientBoostingClassifier  0.924957  0.872308  0.917808  0.908238   \n",
       "4                   XGBClassifier  0.951318  0.880000  0.920419  0.916580   \n",
       "\n",
       "   f1-score     훈련-예측  \n",
       "0  0.925156  0.107691  \n",
       "1  0.923475  0.110767  \n",
       "2  0.910316  0.021089  \n",
       "3  0.912998  0.052649  \n",
       "4  0.918495  0.071318  "
      ]
     },
     "execution_count": 78,
     "metadata": {},
     "output_type": "execute_result"
    }
   ],
   "source": [
    "df"
   ]
  },
  {
   "cell_type": "code",
   "execution_count": 81,
   "id": "250f6a19-639f-46fc-9dd4-ad3f7c40b5d9",
   "metadata": {},
   "outputs": [],
   "source": [
    "### 최종 결과물을 파일로 저장한 후 향후 사용\n",
    "save_path = \"./result_data/result_data.xlsx\"\n",
    "\n",
    "df.to_excel(save_path, index=False)"
   ]
  },
  {
   "cell_type": "code",
   "execution_count": 82,
   "id": "b2392318-5bb2-4a1d-89ba-e7430270dbfb",
   "metadata": {},
   "outputs": [],
   "source": [
    "### 최종 결과물을 파일로 저장한 후 향후 사용\n",
    "save_path = \"./result_data/result_data.html\"\n",
    "\n",
    "df.to_html(save_path, index=False)"
   ]
  },
  {
   "cell_type": "code",
   "execution_count": 83,
   "id": "f756b295-d0aa-46c4-a9a5-9c83de531d01",
   "metadata": {},
   "outputs": [],
   "source": [
    "### 최종 결과물을 파일로 저장한 후 향후 사용\n",
    "save_path = \"./result_data/result_data.json\"\n",
    "\n",
    "df.to_json(save_path, index=False)"
   ]
  },
  {
   "cell_type": "code",
   "execution_count": null,
   "id": "9ddf1df9-2cda-4d4e-b665-25b6698d7eff",
   "metadata": {},
   "outputs": [],
   "source": []
  }
 ],
 "metadata": {
  "kernelspec": {
   "display_name": "dg_env_all_kernel",
   "language": "python",
   "name": "dg_env_all"
  },
  "language_info": {
   "codemirror_mode": {
    "name": "ipython",
    "version": 3
   },
   "file_extension": ".py",
   "mimetype": "text/x-python",
   "name": "python",
   "nbconvert_exporter": "python",
   "pygments_lexer": "ipython3",
   "version": "3.9.21"
  }
 },
 "nbformat": 4,
 "nbformat_minor": 5
}
