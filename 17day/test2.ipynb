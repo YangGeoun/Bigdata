{
 "cells": [
  {
   "cell_type": "code",
   "execution_count": 12,
   "id": "c4a720f0-9e12-4585-92db-30def6e48ce9",
   "metadata": {},
   "outputs": [],
   "source": [
    "import pandas as pd\n",
    "import numpy as np\n",
    "from scipy.stats import spearmanr, pearsonr\n",
    "from tensorflow.keras.layers import Dense, Dropout\n",
    "from tensorflow.keras.models import Sequential\n",
    "from tensorflow.keras.optimizers import Adam\n",
    "from tensorflow.keras.callbacks import EarlyStopping\n",
    "import matplotlib.pyplot as plt\n",
    "import seaborn as sns\n",
    "from sklearn.preprocessing import MinMaxScaler"
   ]
  },
  {
   "cell_type": "code",
   "execution_count": 13,
   "id": "ae3eeaa5-c838-4706-a120-fbc2badad1ed",
   "metadata": {
    "scrolled": true
   },
   "outputs": [
    {
     "name": "stdout",
     "output_type": "stream",
     "text": [
      "<class 'pandas.core.frame.DataFrame'>\n",
      "RangeIndex: 7996 entries, 0 to 7995\n",
      "Data columns (total 45 columns):\n",
      " #   Column                    Non-Null Count  Dtype  \n",
      "---  ------                    --------------  -----  \n",
      " 0   _id                       7996 non-null   object \n",
      " 1   TimeStamp                 7996 non-null   object \n",
      " 2   PART_FACT_PLAN_DATE       7996 non-null   object \n",
      " 3   PART_FACT_SERIAL          7996 non-null   int64  \n",
      " 4   PART_NAME                 7996 non-null   object \n",
      " 5   EQUIP_CD                  7996 non-null   object \n",
      " 6   EQUIP_NAME                7996 non-null   object \n",
      " 7   PassOrFail                7996 non-null   object \n",
      " 8   Reason                    71 non-null     object \n",
      " 9   Injection_Time            7996 non-null   float64\n",
      " 10  Filling_Time              7996 non-null   float64\n",
      " 11  Plasticizing_Time         7996 non-null   float64\n",
      " 12  Cycle_Time                7996 non-null   float64\n",
      " 13  Clamp_Close_Time          7996 non-null   float64\n",
      " 14  Cushion_Position          7996 non-null   float64\n",
      " 15  Switch_Over_Position      7996 non-null   float64\n",
      " 16  Plasticizing_Position     7996 non-null   float64\n",
      " 17  Clamp_Open_Position       7996 non-null   float64\n",
      " 18  Max_Injection_Speed       7996 non-null   float64\n",
      " 19  Max_Screw_RPM             7996 non-null   float64\n",
      " 20  Average_Screw_RPM         7996 non-null   float64\n",
      " 21  Max_Injection_Pressure    7996 non-null   float64\n",
      " 22  Max_Switch_Over_Pressure  7996 non-null   float64\n",
      " 23  Max_Back_Pressure         7996 non-null   float64\n",
      " 24  Average_Back_Pressure     7996 non-null   float64\n",
      " 25  Barrel_Temperature_1      7996 non-null   float64\n",
      " 26  Barrel_Temperature_2      7996 non-null   float64\n",
      " 27  Barrel_Temperature_3      7996 non-null   float64\n",
      " 28  Barrel_Temperature_4      7996 non-null   float64\n",
      " 29  Barrel_Temperature_5      7996 non-null   float64\n",
      " 30  Barrel_Temperature_6      7996 non-null   float64\n",
      " 31  Barrel_Temperature_7      7996 non-null   float64\n",
      " 32  Hopper_Temperature        7996 non-null   float64\n",
      " 33  Mold_Temperature_1        7996 non-null   float64\n",
      " 34  Mold_Temperature_2        7996 non-null   float64\n",
      " 35  Mold_Temperature_3        7996 non-null   float64\n",
      " 36  Mold_Temperature_4        7996 non-null   float64\n",
      " 37  Mold_Temperature_5        7996 non-null   float64\n",
      " 38  Mold_Temperature_6        7996 non-null   float64\n",
      " 39  Mold_Temperature_7        7996 non-null   float64\n",
      " 40  Mold_Temperature_8        7996 non-null   float64\n",
      " 41  Mold_Temperature_9        7996 non-null   float64\n",
      " 42  Mold_Temperature_10       7996 non-null   float64\n",
      " 43  Mold_Temperature_11       7996 non-null   float64\n",
      " 44  Mold_Temperature_12       7996 non-null   float64\n",
      "dtypes: float64(36), int64(1), object(8)\n",
      "memory usage: 2.7+ MB\n"
     ]
    }
   ],
   "source": [
    "df = pd.read_csv(\"./data/labeled_data.csv\")\n",
    "df.info()"
   ]
  },
  {
   "cell_type": "code",
   "execution_count": 14,
   "id": "ee82719b-e235-455b-9678-bf6c9bfaa9fb",
   "metadata": {},
   "outputs": [],
   "source": [
    "def make_input(data, machine_name, product_name):\n",
    "    machine_ = data['EQUIP_NAME'] == machine_name\n",
    "    product_ = data['PART_NAME'] == product_name\n",
    "    data = data[machine_ & product_].copy()\n",
    "\n",
    "    data.drop(columns=[\"_id\", \"TimeStamp\",\"PART_FACT_PLAN_DATE\", \"Reason\", \"PART_FACT_SERIAL\",\n",
    "               \"PART_NAME\", \"EQUIP_NAME\", \"EQUIP_CD\",'Switch_Over_Position',\n",
    "               \"Mold_Temperature_1\",\"Mold_Temperature_2\",\"Mold_Temperature_5\",\"Mold_Temperature_6\",\n",
    "               \"Mold_Temperature_7\",\"Mold_Temperature_8\",\"Mold_Temperature_9\",\"Mold_Temperature_10\",\n",
    "               \"Mold_Temperature_11\",\"Mold_Temperature_12\",\"Barrel_Temperature_7\"], inplace=True)\n",
    "    return data"
   ]
  },
  {
   "cell_type": "code",
   "execution_count": 15,
   "id": "57b363ff-1a8f-490a-9f32-2d7242309a92",
   "metadata": {},
   "outputs": [],
   "source": [
    "machine_name = \"650톤-우진2호기\"\n",
    "product_name = [\"CN7 W/S SIDE MLD'G RH\", \"CN7 W/S SIDE MLD'G LH\",\n",
    "\"RG3 MOLD'G W/SHLD, LH\", \"RG3 MOLD'G W/SHLD, RH\"]\n",
    "\n",
    "cn7lh = make_input(df, machine_name, product_name[0])\n",
    "cn7rh = make_input(df, machine_name, product_name[1])\n",
    "rg3lh = make_input(df, machine_name, product_name[2])\n",
    "rg3rh = make_input(df, machine_name, product_name[3])\n",
    "\n",
    "cn7 = pd.concat([cn7lh, cn7rh], ignore_index=True)\n",
    "rg3 = pd.concat([rg3lh, rg3rh], ignore_index=True)"
   ]
  },
  {
   "cell_type": "code",
   "execution_count": 16,
   "id": "1e9715c5-6304-47f0-baf0-97e9247d2786",
   "metadata": {
    "scrolled": true
   },
   "outputs": [
    {
     "name": "stdout",
     "output_type": "stream",
     "text": [
      "<class 'pandas.core.frame.DataFrame'>\n",
      "RangeIndex: 6736 entries, 0 to 6735\n",
      "Data columns (total 25 columns):\n",
      " #   Column                    Non-Null Count  Dtype  \n",
      "---  ------                    --------------  -----  \n",
      " 0   PassOrFail                6736 non-null   object \n",
      " 1   Injection_Time            6736 non-null   float64\n",
      " 2   Filling_Time              6736 non-null   float64\n",
      " 3   Plasticizing_Time         6736 non-null   float64\n",
      " 4   Cycle_Time                6736 non-null   float64\n",
      " 5   Clamp_Close_Time          6736 non-null   float64\n",
      " 6   Cushion_Position          6736 non-null   float64\n",
      " 7   Plasticizing_Position     6736 non-null   float64\n",
      " 8   Clamp_Open_Position       6736 non-null   float64\n",
      " 9   Max_Injection_Speed       6736 non-null   float64\n",
      " 10  Max_Screw_RPM             6736 non-null   float64\n",
      " 11  Average_Screw_RPM         6736 non-null   float64\n",
      " 12  Max_Injection_Pressure    6736 non-null   float64\n",
      " 13  Max_Switch_Over_Pressure  6736 non-null   float64\n",
      " 14  Max_Back_Pressure         6736 non-null   float64\n",
      " 15  Average_Back_Pressure     6736 non-null   float64\n",
      " 16  Barrel_Temperature_1      6736 non-null   float64\n",
      " 17  Barrel_Temperature_2      6736 non-null   float64\n",
      " 18  Barrel_Temperature_3      6736 non-null   float64\n",
      " 19  Barrel_Temperature_4      6736 non-null   float64\n",
      " 20  Barrel_Temperature_5      6736 non-null   float64\n",
      " 21  Barrel_Temperature_6      6736 non-null   float64\n",
      " 22  Hopper_Temperature        6736 non-null   float64\n",
      " 23  Mold_Temperature_3        6736 non-null   float64\n",
      " 24  Mold_Temperature_4        6736 non-null   float64\n",
      "dtypes: float64(24), object(1)\n",
      "memory usage: 1.3+ MB\n"
     ]
    }
   ],
   "source": [
    "cn7.info()"
   ]
  },
  {
   "cell_type": "code",
   "execution_count": 17,
   "id": "ac78be05-592c-45de-9cb7-8e1342b6655f",
   "metadata": {
    "scrolled": true
   },
   "outputs": [
    {
     "name": "stderr",
     "output_type": "stream",
     "text": [
      "C:\\Users\\Admin\\AppData\\Local\\Temp\\ipykernel_15060\\3761223622.py:1: FutureWarning: Downcasting behavior in `replace` is deprecated and will be removed in a future version. To retain the old behavior, explicitly call `result.infer_objects(copy=False)`. To opt-in to the future behavior, set `pd.set_option('future.no_silent_downcasting', True)`\n",
      "  cn7[\"PassOrFail\"] = cn7[\"PassOrFail\"].replace('Y',1).replace('N',0)\n",
      "C:\\Users\\Admin\\AppData\\Local\\Temp\\ipykernel_15060\\3761223622.py:2: FutureWarning: Downcasting behavior in `replace` is deprecated and will be removed in a future version. To retain the old behavior, explicitly call `result.infer_objects(copy=False)`. To opt-in to the future behavior, set `pd.set_option('future.no_silent_downcasting', True)`\n",
      "  rg3[\"PassOrFail\"] = rg3[\"PassOrFail\"].replace('Y',1).replace('N',0)\n"
     ]
    }
   ],
   "source": [
    "cn7[\"PassOrFail\"] = cn7[\"PassOrFail\"].replace('Y',1).replace('N',0)\n",
    "rg3[\"PassOrFail\"] = rg3[\"PassOrFail\"].replace('Y',1).replace('N',0)"
   ]
  },
  {
   "cell_type": "code",
   "execution_count": 18,
   "id": "51623537-9f95-4ab6-a6f8-66d3205a78b5",
   "metadata": {},
   "outputs": [],
   "source": [
    "from sklearn.preprocessing import StandardScaler\n",
    "\n",
    "y = cn7[\"PassOrFail\"]\n",
    "X = cn7.drop(columns=[\"PassOrFail\"])\n",
    "X = StandardScaler().fit_transform(X)"
   ]
  },
  {
   "cell_type": "code",
   "execution_count": null,
   "id": "064176b8-e824-4a55-8ca6-469cd9cc4134",
   "metadata": {},
   "outputs": [],
   "source": [
    "from sklearn.model_selection import GridSearchCV\n",
    "from sklearn.metrics import precision_score, accuracy_score, recall_score, f1_score\n",
    "from sklearn.ensemble import RandomForestClassifier, ExtraTreesClassifier, HistGradientBoostingClassifier, GradientBoostingClassifier\n",
    "from xgboost import XGBClassifier\n",
    "\n",
    "rf = RandomForestClassifier(random_state=42)\n",
    "et = ExtraTreesClassifier(random_state=42)\n",
    "gb = GradientBoostingClassifier(random_state=42)\n",
    "hgb = HistGradientBoostingClassifier(random_state=42)\n",
    "xgb = XGBClassifier(random_state=42)\n",
    "\n",
    "model_list = [rf, et, gb, hgb, xgb]\n",
    "\n",
    "grid_df = pd.DataFrame()\n",
    "# GridSearchCV 이용해서 모든 모델 하이퍼파라미터 튜닝\n",
    "for model in model_list:\n",
    "    model_name = model.__class__.__name__\n",
    "    gridParams = dict()\n",
    "    if model_name ==\"XGBClassifier\" :\n",
    "        gridParams[\"n_estimators\"] = [20,50]\n",
    "        gridParams[\"max_depth\"] = [10,20]\n",
    "        gridParams[\"min_child_weight\"] = [1, 2,4]\n",
    "    elif model_name == \"HistGradientBoostingClassifier\" :\n",
    "        gridParams[\"max_iter\"] = [20, 50]\n",
    "        gridParams[\"max_depth\"] = [10, 50]\n",
    "        gridParams[\"min_samples_leaf\"] = [1,2,4]\n",
    "    else :\n",
    "        gridParams[\"n_estimators\"] = [20, 50]\n",
    "        gridParams[\"max_depth\"] = [10,20]\n",
    "        gridParams[\"min_samples_split\"] = [2,5,10]\n",
    "        gridParams[\"min_samples_leaf\"] = [1,2,4]\n",
    "\n",
    "    grid_search_model = GridSearchCV(model, gridParams, scoring='f1', cv=5, n_jobs=-1)\n",
    "    grid_search_model.fit(X, y)\n",
    "    model = grid_search_model.best_estimator_\n",
    "    pred = model.predict(X)\n",
    "    acc = accuracy_score(y, pred)\n",
    "    pre = precision_score(y, pred)\n",
    "    rec = recall_score(y, pred)\n",
    "    f1 = f1_score(y, pred)\n",
    "    df_temp = pd.DataFrame([[model_name,  acc, pre, rec, f1, str(grid_search_model.best_params_)]],\n",
    "                             columns=[\"모델명\", \"정확도\", \n",
    "                                      \"정밀도\", \"재현율\", \"f1-score\", \"파라미터\"])\n",
    "    grid_df = pd.concat([grid_df, df_temp], ignore_index=True)\n",
    "grid_df"
   ]
  },
  {
   "cell_type": "code",
   "execution_count": null,
   "id": "a9727646-16e9-4ed9-b796-6df225f490d2",
   "metadata": {},
   "outputs": [],
   "source": []
  },
  {
   "cell_type": "code",
   "execution_count": null,
   "id": "d97de605-dd9c-4ab9-9373-86ac64083cb2",
   "metadata": {},
   "outputs": [],
   "source": []
  }
 ],
 "metadata": {
  "kernelspec": {
   "display_name": "dg_env_dl_kernel",
   "language": "python",
   "name": "dg_env_dl"
  },
  "language_info": {
   "codemirror_mode": {
    "name": "ipython",
    "version": 3
   },
   "file_extension": ".py",
   "mimetype": "text/x-python",
   "name": "python",
   "nbconvert_exporter": "python",
   "pygments_lexer": "ipython3",
   "version": "3.9.15"
  }
 },
 "nbformat": 4,
 "nbformat_minor": 5
}
