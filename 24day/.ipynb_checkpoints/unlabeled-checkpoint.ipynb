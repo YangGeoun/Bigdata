{
 "cells": [
  {
   "cell_type": "code",
   "execution_count": 19,
   "id": "80b2077f-985f-4b2f-ba12-123edf46a7e7",
   "metadata": {},
   "outputs": [],
   "source": [
    "import pandas as pd"
   ]
  },
  {
   "cell_type": "code",
   "execution_count": 20,
   "id": "78e660a4-ce01-4b3f-9ff1-ac56646b9d31",
   "metadata": {},
   "outputs": [],
   "source": [
    "unlabeled = pd.read_csv(\"./data/unlabeled_data.csv\")\n",
    "labeled = pd.read_csv(\"./data/labeled_data.csv\")"
   ]
  },
  {
   "cell_type": "code",
   "execution_count": null,
   "id": "697d36df-c5a4-4343-8e61-afaf1cded69d",
   "metadata": {},
   "outputs": [],
   "source": []
  },
  {
   "cell_type": "code",
   "execution_count": 21,
   "id": "0b4fcf95-5548-49a1-a598-42075a7ba901",
   "metadata": {},
   "outputs": [
    {
     "data": {
      "text/plain": [
       "PART_NAME\n",
       "SP2 CVR ROOF RACK CTR, LH         118071\n",
       "SP2 CVR ROOF RACK CTR, RH         114977\n",
       "SP2 CAP-ROOF RACK(사출)              68342\n",
       "LX2 W/S SIDE MLD'G LH              40647\n",
       "CN7 W/S SIDE MLD'G RH              27885\n",
       "                                   ...  \n",
       "FRANGE SHELL(고성능사양)                   18\n",
       "FOR YP PAD LH                         10\n",
       "BR2 COVER-ROOF RACK,RH(사출)             7\n",
       "SK3 STANCHION-ROOF RACK RR, LH         1\n",
       "SK3 STANCHION-ROOF RACK FR, RH         1\n",
       "Name: count, Length: 81, dtype: int64"
      ]
     },
     "execution_count": 21,
     "metadata": {},
     "output_type": "execute_result"
    }
   ],
   "source": [
    "unlabeled[\"PART_NAME\"].value_counts()"
   ]
  },
  {
   "cell_type": "code",
   "execution_count": null,
   "id": "eae00141-4a6e-458e-a541-95037517d4ea",
   "metadata": {},
   "outputs": [],
   "source": []
  },
  {
   "cell_type": "code",
   "execution_count": 22,
   "id": "5403665a-f70f-4ef4-9d65-a2f1ec1a9cb0",
   "metadata": {},
   "outputs": [
    {
     "data": {
      "text/plain": [
       "array([\"CN7 W/S SIDE MLD'G RH\", \"CN7 W/S SIDE MLD'G LH\",\n",
       "       \"RG3 MOLD'G W/SHLD, LH\", \"RG3 MOLD'G W/SHLD, RH\",\n",
       "       'SP2 CVR ROOF RACK CTR, RH', \"JX1 W/S SIDE MLD'G RH\"], dtype=object)"
      ]
     },
     "execution_count": 22,
     "metadata": {},
     "output_type": "execute_result"
    }
   ],
   "source": [
    "labeled[\"PART_NAME\"].unique()"
   ]
  },
  {
   "cell_type": "code",
   "execution_count": 23,
   "id": "e39470d3-8957-4927-838b-798e039ba73c",
   "metadata": {
    "scrolled": true
   },
   "outputs": [
    {
     "data": {
      "text/plain": [
       "array(['SP2 CVR ROOF RACK CTR, RH', 'SP2 CVR ROOF RACK CTR, LH',\n",
       "       'BR2 COVER-ROOF RACK,LH(사출)', 'CD SIDE MOLDING LH',\n",
       "       'TM SIDE STEP TRIM LH', 'TM SIDE STEP TRIM RH',\n",
       "       'SIDE-RR BUMPER SINGLE', 'SK3 PAD-ROOF RACK, LH',\n",
       "       'SK3 SIDE RAIL-ROOF RACK, LH', 'SK3 SIDE RAIL-ROOF RACK, RH',\n",
       "       'FOR YP SIDE STEP TRIM LH(사출)', 'FOR YP SIDE STEP TRIM RH(사출)',\n",
       "       'JSN-CVR RR BPR UPR', 'SP2 PAD-ROOF RACK, LH',\n",
       "       'UM SIDE STEP TRIM RH', 'UM SIDE STEP TRIM LH',\n",
       "       'ON SIDE STEP PLATE, RH', 'SKID-FRT BUMPER',\n",
       "       'SP2 CAP-ROOF RACK(사출)', 'BR2 SIDE RAIL-ROOF RACK,LH',\n",
       "       'BR2 SIDE RAIL-ROOF RACK,RH', 'BR2 PAD-ROOF RACK,LH', 'X61G FRT',\n",
       "       'SP2 PAD-ROOF RACK, RH', 'CD SIDE MOLDING RH', 'X61G RR',\n",
       "       'PCV CAP SHELL(Gamma2-T)', 'SIDE-RR BUMPER DUAL',\n",
       "       'SK3 CAP-ROOF RACK(사출)', \"LX2 W/S SIDE MLD'G LH\",\n",
       "       'ON SIDE STEP PLATE, LH', \"CD S/B MOLD'G W/S SIDE LH\",\n",
       "       \"LX2 W/S SIDE MLD'G RH\", 'FLANGE SHELL(Gamma2-T)',\n",
       "       \"JX1 W/S SIDE MLD'G LH\", 'SP2 SIDE RAIL-ROOF RACK, RH',\n",
       "       'SP2 SIDE RAIL-ROOF RACK, LH', \"PD W/S SIDE MLD'G LH\",\n",
       "       \"PD W/S SIDE MLD'G RH\", 'LOWER SHELL(Gamma2-T)', 'FOR YP PAD RH',\n",
       "       \"CD S/B MOLD'G W/S SIDE RH\", 'BR2 COVER-ROOF RACK,RH(사출)',\n",
       "       'TL RH CAP', 'ON PAD-SIDE STEP (FRT,RR)', \"RG3 MOLD'G W/SHLD, LH\",\n",
       "       'SK3 PAD-ROOF RACK, RH', \"JX1 W/S SIDE MLD'G RH\",\n",
       "       \"CN7 W/S SIDE MLD'G RH\", \"RG3 MLD'G-RR GLS LWR CVR\",\n",
       "       \"RG3 MOLD'G W/SHLD, RH\", 'DM SIDE STEP TRIM LH',\n",
       "       \"CN7 W/S SIDE MLD'G LH\", 'RG3 STRIP-RR GLS LWR CVR',\n",
       "       'PDE SIDE MOLDING LH', 'PDE SIDE MOLDING RH',\n",
       "       \"BC3 MOLD'G W/SHLD, RH\", \"BC3 MOLD'G W/SHLD, LH\",\n",
       "       'UPPER SHELL(Gamma2-T)', 'IK PNL C/PAD MAIN LHD', 'DM AL CVR LH',\n",
       "       'DM SIDE STEP TRIM RH', 'QL SIDE STEP TRIM RH',\n",
       "       'QL SIDE STEP TRIM LH', 'FRT CAP LH(사출)', 'RR CAP LH(사출)',\n",
       "       'RR CAP RH(사출)', 'FRT CAP RH(사출)',\n",
       "       \"RG3 MLD'G-RR GLS LWR CVR ASS'Y\", 'IK PNL C/PAD MAIN RHD',\n",
       "       'TL SIDE STEP TRIM LH', 'TL SIDE STEP TRIM RH', 'FOR YP PAD LH',\n",
       "       'FRANGE SHELL(HEV사양)', 'FRANGE SHELL(고성능사양)',\n",
       "       'ON PAD-SIDE STEP (CTR)', 'UPPER SHELL (HEV사양)',\n",
       "       \"LX2 W/S SIDE MLD'G RH(RHD)\", 'SK3 STANCHION-ROOF RACK RR, LH',\n",
       "       'SK3 STANCHION-ROOF RACK FR, RH', \"LX2 W/S SIDE MLD'G LH(RHD)\"],\n",
       "      dtype=object)"
      ]
     },
     "execution_count": 23,
     "metadata": {},
     "output_type": "execute_result"
    }
   ],
   "source": [
    "unlabeled[\"PART_NAME\"].unique()"
   ]
  },
  {
   "cell_type": "code",
   "execution_count": 24,
   "id": "2e6026ad-5983-47e8-b6fd-241ca1104a61",
   "metadata": {},
   "outputs": [
    {
     "data": {
      "text/plain": [
       "array(['650톤-우진2호기', '550TON-도시바'], dtype=object)"
      ]
     },
     "execution_count": 24,
     "metadata": {},
     "output_type": "execute_result"
    }
   ],
   "source": [
    "unlabeled[(unlabeled[\"PART_NAME\"] == \"CN7 W/S SIDE MLD'G RH\")][\"EQUIP_NAME\"].unique()"
   ]
  },
  {
   "cell_type": "code",
   "execution_count": 26,
   "id": "cb6cb1f1-3482-44c5-9f25-9f616bfd96ca",
   "metadata": {},
   "outputs": [],
   "source": [
    "cn7_unlabeled = unlabeled[(unlabeled[\"PART_NAME\"] == \"CN7 W/S SIDE MLD'G RH\") | (unlabeled[\"PART_NAME\"] == \"CN7 W/S SIDE MLD'G LH\")]\n",
    "cn7_unlabeled = cn7_unlabeled[cn7_unlabeled[\"EQUIP_NAME\"] == \"650톤-우진2호기\"]\n",
    "cn7_labeled = labeled[(labeled[\"PART_NAME\"] == \"CN7 W/S SIDE MLD'G RH\") | (labeled[\"PART_NAME\"] == \"CN7 W/S SIDE MLD'G LH\")]"
   ]
  },
  {
   "cell_type": "code",
   "execution_count": 27,
   "id": "40cacb5d-e4a0-4d5a-bde3-58fadd4ff54e",
   "metadata": {},
   "outputs": [],
   "source": [
    "cn7_unlabeled = cn7_unlabeled.drop(columns=[\"_id\", \"TimeStamp\",\"PART_FACT_PLAN_DATE\", \"PART_FACT_SERIAL\",\n",
    "                        \"EQUIP_NAME\", \"EQUIP_CD\", \"Clamp_Open_Position\",\"Unnamed: 0\", \"PART_NAME\", \"PART_NO\",\n",
    "                        \"Mold_Temperature_1\",\"Mold_Temperature_2\",\"Mold_Temperature_5\",\"Mold_Temperature_6\",\n",
    "                        \"Mold_Temperature_7\",\"Mold_Temperature_8\",\"Mold_Temperature_9\",\"Mold_Temperature_10\",\n",
    "                        \"Mold_Temperature_11\",\"Mold_Temperature_12\",\"Barrel_Temperature_7\",\"Switch_Over_Position\"])\n",
    "cn7_labeled = cn7_labeled.drop(columns=[\"_id\", \"TimeStamp\",\"PART_FACT_PLAN_DATE\", \"PART_FACT_SERIAL\",\n",
    "                        \"EQUIP_NAME\", \"EQUIP_CD\", \"Clamp_Open_Position\", \"PART_NAME\", \"PassOrFail\", \"Reason\",\n",
    "                        \"Mold_Temperature_1\",\"Mold_Temperature_2\",\"Mold_Temperature_5\",\"Mold_Temperature_6\",\n",
    "                        \"Mold_Temperature_7\",\"Mold_Temperature_8\",\"Mold_Temperature_9\",\"Mold_Temperature_10\",\n",
    "                        \"Mold_Temperature_11\",\"Mold_Temperature_12\",\"Barrel_Temperature_7\",\"Switch_Over_Position\"])"
   ]
  },
  {
   "cell_type": "code",
   "execution_count": 28,
   "id": "9223d4b5-1122-41d4-b787-5861d0c8f658",
   "metadata": {},
   "outputs": [
    {
     "name": "stdout",
     "output_type": "stream",
     "text": [
      "<class 'pandas.core.frame.DataFrame'>\n",
      "Index: 6736 entries, 0 to 7995\n",
      "Data columns (total 23 columns):\n",
      " #   Column                    Non-Null Count  Dtype  \n",
      "---  ------                    --------------  -----  \n",
      " 0   Injection_Time            6736 non-null   float64\n",
      " 1   Filling_Time              6736 non-null   float64\n",
      " 2   Plasticizing_Time         6736 non-null   float64\n",
      " 3   Cycle_Time                6736 non-null   float64\n",
      " 4   Clamp_Close_Time          6736 non-null   float64\n",
      " 5   Cushion_Position          6736 non-null   float64\n",
      " 6   Plasticizing_Position     6736 non-null   float64\n",
      " 7   Max_Injection_Speed       6736 non-null   float64\n",
      " 8   Max_Screw_RPM             6736 non-null   float64\n",
      " 9   Average_Screw_RPM         6736 non-null   float64\n",
      " 10  Max_Injection_Pressure    6736 non-null   float64\n",
      " 11  Max_Switch_Over_Pressure  6736 non-null   float64\n",
      " 12  Max_Back_Pressure         6736 non-null   float64\n",
      " 13  Average_Back_Pressure     6736 non-null   float64\n",
      " 14  Barrel_Temperature_1      6736 non-null   float64\n",
      " 15  Barrel_Temperature_2      6736 non-null   float64\n",
      " 16  Barrel_Temperature_3      6736 non-null   float64\n",
      " 17  Barrel_Temperature_4      6736 non-null   float64\n",
      " 18  Barrel_Temperature_5      6736 non-null   float64\n",
      " 19  Barrel_Temperature_6      6736 non-null   float64\n",
      " 20  Hopper_Temperature        6736 non-null   float64\n",
      " 21  Mold_Temperature_3        6736 non-null   float64\n",
      " 22  Mold_Temperature_4        6736 non-null   float64\n",
      "dtypes: float64(23)\n",
      "memory usage: 1.2 MB\n"
     ]
    }
   ],
   "source": [
    "cn7_labeled.info()"
   ]
  },
  {
   "cell_type": "code",
   "execution_count": 29,
   "id": "f6b2dc82-e173-4bd7-a688-7efe6c92e418",
   "metadata": {},
   "outputs": [
    {
     "ename": "KeyError",
     "evalue": "'PART_NAME'",
     "output_type": "error",
     "traceback": [
      "\u001b[1;31m---------------------------------------------------------------------------\u001b[0m",
      "\u001b[1;31mKeyError\u001b[0m                                  Traceback (most recent call last)",
      "File \u001b[1;32m~\\anaconda3\\envs\\dg_env_dl\\lib\\site-packages\\pandas\\core\\indexes\\base.py:3805\u001b[0m, in \u001b[0;36mIndex.get_loc\u001b[1;34m(self, key)\u001b[0m\n\u001b[0;32m   3804\u001b[0m \u001b[38;5;28;01mtry\u001b[39;00m:\n\u001b[1;32m-> 3805\u001b[0m     \u001b[38;5;28;01mreturn\u001b[39;00m \u001b[38;5;28;43mself\u001b[39;49m\u001b[38;5;241;43m.\u001b[39;49m\u001b[43m_engine\u001b[49m\u001b[38;5;241;43m.\u001b[39;49m\u001b[43mget_loc\u001b[49m\u001b[43m(\u001b[49m\u001b[43mcasted_key\u001b[49m\u001b[43m)\u001b[49m\n\u001b[0;32m   3806\u001b[0m \u001b[38;5;28;01mexcept\u001b[39;00m \u001b[38;5;167;01mKeyError\u001b[39;00m \u001b[38;5;28;01mas\u001b[39;00m err:\n",
      "File \u001b[1;32mindex.pyx:167\u001b[0m, in \u001b[0;36mpandas._libs.index.IndexEngine.get_loc\u001b[1;34m()\u001b[0m\n",
      "File \u001b[1;32mindex.pyx:196\u001b[0m, in \u001b[0;36mpandas._libs.index.IndexEngine.get_loc\u001b[1;34m()\u001b[0m\n",
      "File \u001b[1;32mpandas\\\\_libs\\\\hashtable_class_helper.pxi:7081\u001b[0m, in \u001b[0;36mpandas._libs.hashtable.PyObjectHashTable.get_item\u001b[1;34m()\u001b[0m\n",
      "File \u001b[1;32mpandas\\\\_libs\\\\hashtable_class_helper.pxi:7089\u001b[0m, in \u001b[0;36mpandas._libs.hashtable.PyObjectHashTable.get_item\u001b[1;34m()\u001b[0m\n",
      "\u001b[1;31mKeyError\u001b[0m: 'PART_NAME'",
      "\nThe above exception was the direct cause of the following exception:\n",
      "\u001b[1;31mKeyError\u001b[0m                                  Traceback (most recent call last)",
      "Cell \u001b[1;32mIn[29], line 1\u001b[0m\n\u001b[1;32m----> 1\u001b[0m \u001b[43mcn7_unlabeled\u001b[49m\u001b[43m[\u001b[49m\u001b[38;5;124;43m\"\u001b[39;49m\u001b[38;5;124;43mPART_NAME\u001b[39;49m\u001b[38;5;124;43m\"\u001b[39;49m\u001b[43m]\u001b[49m\u001b[38;5;241m.\u001b[39munique()\n",
      "File \u001b[1;32m~\\anaconda3\\envs\\dg_env_dl\\lib\\site-packages\\pandas\\core\\frame.py:4102\u001b[0m, in \u001b[0;36mDataFrame.__getitem__\u001b[1;34m(self, key)\u001b[0m\n\u001b[0;32m   4100\u001b[0m \u001b[38;5;28;01mif\u001b[39;00m \u001b[38;5;28mself\u001b[39m\u001b[38;5;241m.\u001b[39mcolumns\u001b[38;5;241m.\u001b[39mnlevels \u001b[38;5;241m>\u001b[39m \u001b[38;5;241m1\u001b[39m:\n\u001b[0;32m   4101\u001b[0m     \u001b[38;5;28;01mreturn\u001b[39;00m \u001b[38;5;28mself\u001b[39m\u001b[38;5;241m.\u001b[39m_getitem_multilevel(key)\n\u001b[1;32m-> 4102\u001b[0m indexer \u001b[38;5;241m=\u001b[39m \u001b[38;5;28;43mself\u001b[39;49m\u001b[38;5;241;43m.\u001b[39;49m\u001b[43mcolumns\u001b[49m\u001b[38;5;241;43m.\u001b[39;49m\u001b[43mget_loc\u001b[49m\u001b[43m(\u001b[49m\u001b[43mkey\u001b[49m\u001b[43m)\u001b[49m\n\u001b[0;32m   4103\u001b[0m \u001b[38;5;28;01mif\u001b[39;00m is_integer(indexer):\n\u001b[0;32m   4104\u001b[0m     indexer \u001b[38;5;241m=\u001b[39m [indexer]\n",
      "File \u001b[1;32m~\\anaconda3\\envs\\dg_env_dl\\lib\\site-packages\\pandas\\core\\indexes\\base.py:3812\u001b[0m, in \u001b[0;36mIndex.get_loc\u001b[1;34m(self, key)\u001b[0m\n\u001b[0;32m   3807\u001b[0m     \u001b[38;5;28;01mif\u001b[39;00m \u001b[38;5;28misinstance\u001b[39m(casted_key, \u001b[38;5;28mslice\u001b[39m) \u001b[38;5;129;01mor\u001b[39;00m (\n\u001b[0;32m   3808\u001b[0m         \u001b[38;5;28misinstance\u001b[39m(casted_key, abc\u001b[38;5;241m.\u001b[39mIterable)\n\u001b[0;32m   3809\u001b[0m         \u001b[38;5;129;01mand\u001b[39;00m \u001b[38;5;28many\u001b[39m(\u001b[38;5;28misinstance\u001b[39m(x, \u001b[38;5;28mslice\u001b[39m) \u001b[38;5;28;01mfor\u001b[39;00m x \u001b[38;5;129;01min\u001b[39;00m casted_key)\n\u001b[0;32m   3810\u001b[0m     ):\n\u001b[0;32m   3811\u001b[0m         \u001b[38;5;28;01mraise\u001b[39;00m InvalidIndexError(key)\n\u001b[1;32m-> 3812\u001b[0m     \u001b[38;5;28;01mraise\u001b[39;00m \u001b[38;5;167;01mKeyError\u001b[39;00m(key) \u001b[38;5;28;01mfrom\u001b[39;00m \u001b[38;5;21;01merr\u001b[39;00m\n\u001b[0;32m   3813\u001b[0m \u001b[38;5;28;01mexcept\u001b[39;00m \u001b[38;5;167;01mTypeError\u001b[39;00m:\n\u001b[0;32m   3814\u001b[0m     \u001b[38;5;66;03m# If we have a listlike key, _check_indexing_error will raise\u001b[39;00m\n\u001b[0;32m   3815\u001b[0m     \u001b[38;5;66;03m#  InvalidIndexError. Otherwise we fall through and re-raise\u001b[39;00m\n\u001b[0;32m   3816\u001b[0m     \u001b[38;5;66;03m#  the TypeError.\u001b[39;00m\n\u001b[0;32m   3817\u001b[0m     \u001b[38;5;28mself\u001b[39m\u001b[38;5;241m.\u001b[39m_check_indexing_error(key)\n",
      "\u001b[1;31mKeyError\u001b[0m: 'PART_NAME'"
     ]
    }
   ],
   "source": [
    "cn7_unlabeled[\"PART_NAME\"].unique()"
   ]
  },
  {
   "cell_type": "code",
   "execution_count": 30,
   "id": "e2638002-aad2-40e7-9fb0-558ceebfa726",
   "metadata": {},
   "outputs": [
    {
     "name": "stdout",
     "output_type": "stream",
     "text": [
      "<class 'pandas.core.frame.DataFrame'>\n",
      "Index: 35239 entries, 114610 to 777220\n",
      "Data columns (total 24 columns):\n",
      " #   Column                    Non-Null Count  Dtype  \n",
      "---  ------                    --------------  -----  \n",
      " 0   ERR_FACT_QTY              35239 non-null  int64  \n",
      " 1   Injection_Time            35239 non-null  float64\n",
      " 2   Filling_Time              35239 non-null  float64\n",
      " 3   Plasticizing_Time         35239 non-null  float64\n",
      " 4   Cycle_Time                35239 non-null  float64\n",
      " 5   Clamp_Close_Time          35239 non-null  float64\n",
      " 6   Cushion_Position          35239 non-null  float64\n",
      " 7   Plasticizing_Position     35239 non-null  float64\n",
      " 8   Max_Injection_Speed       35239 non-null  float64\n",
      " 9   Max_Screw_RPM             35239 non-null  float64\n",
      " 10  Average_Screw_RPM         35239 non-null  float64\n",
      " 11  Max_Injection_Pressure    35239 non-null  float64\n",
      " 12  Max_Switch_Over_Pressure  35239 non-null  float64\n",
      " 13  Max_Back_Pressure         35239 non-null  float64\n",
      " 14  Average_Back_Pressure     35239 non-null  float64\n",
      " 15  Barrel_Temperature_1      35239 non-null  float64\n",
      " 16  Barrel_Temperature_2      35239 non-null  float64\n",
      " 17  Barrel_Temperature_3      35239 non-null  float64\n",
      " 18  Barrel_Temperature_4      35239 non-null  float64\n",
      " 19  Barrel_Temperature_5      35239 non-null  float64\n",
      " 20  Barrel_Temperature_6      35239 non-null  float64\n",
      " 21  Hopper_Temperature        35239 non-null  float64\n",
      " 22  Mold_Temperature_3        35239 non-null  float64\n",
      " 23  Mold_Temperature_4        35239 non-null  float64\n",
      "dtypes: float64(23), int64(1)\n",
      "memory usage: 6.7 MB\n"
     ]
    }
   ],
   "source": [
    "cn7_unlabeled.info()"
   ]
  },
  {
   "cell_type": "code",
   "execution_count": 43,
   "id": "5bf9b9fe-5dd9-455c-9d06-60883a3887c8",
   "metadata": {},
   "outputs": [
    {
     "data": {
      "text/plain": [
       "22.66179517012401"
      ]
     },
     "execution_count": 43,
     "metadata": {},
     "output_type": "execute_result"
    }
   ],
   "source": [
    "cn7_unlabeled[\"ERR_FACT_QTY\"].mean()"
   ]
  },
  {
   "cell_type": "code",
   "execution_count": 11,
   "id": "2f9e2d88-cee4-4dbb-94fc-7a11c2cd9d5c",
   "metadata": {
    "scrolled": true
   },
   "outputs": [
    {
     "data": {
      "text/plain": [
       "ERR_FACT_QTY\n",
       "12     6629\n",
       "0      4774\n",
       "2      4698\n",
       "13     3693\n",
       "10     2671\n",
       "130    2275\n",
       "6      2158\n",
       "1      1856\n",
       "34     1801\n",
       "14     1624\n",
       "9      1515\n",
       "29     1450\n",
       "76     1448\n",
       "22     1438\n",
       "36     1437\n",
       "5      1246\n",
       "16     1203\n",
       "17     1202\n",
       "123    1200\n",
       "27     1183\n",
       "77     1178\n",
       "43     1166\n",
       "154    1065\n",
       "3       759\n",
       "80      751\n",
       "89      683\n",
       "8       398\n",
       "67      371\n",
       "25      217\n",
       "50      163\n",
       "7       107\n",
       "142      27\n",
       "4        16\n",
       "44       16\n",
       "15       15\n",
       "61       15\n",
       "31       12\n",
       "96       12\n",
       "75        9\n",
       "97        9\n",
       "118       8\n",
       "119       8\n",
       "321       8\n",
       "24        7\n",
       "21        7\n",
       "11        7\n",
       "26        6\n",
       "120       4\n",
       "188       1\n",
       "23        1\n",
       "Name: count, dtype: int64"
      ]
     },
     "execution_count": 11,
     "metadata": {},
     "output_type": "execute_result"
    }
   ],
   "source": [
    "cn7_unlabeled[\"ERR_FACT_QTY\"].value_counts()"
   ]
  },
  {
   "cell_type": "code",
   "execution_count": 54,
   "id": "064dae19-23c9-4ff4-95e9-bd9d132a8e9d",
   "metadata": {},
   "outputs": [],
   "source": [
    "tmp = cn7_unlabeled[(cn7_unlabeled[\"Cycle_Time\"] > 59) & (cn7_unlabeled[\"Cycle_Time\"] < 60)]"
   ]
  },
  {
   "cell_type": "code",
   "execution_count": 55,
   "id": "bad5a8e5-5e4c-473d-bf2d-fac3ca844673",
   "metadata": {},
   "outputs": [
    {
     "data": {
      "text/plain": [
       "((8555, 23), (3667, 23), (8555,), (3667,))"
      ]
     },
     "execution_count": 55,
     "metadata": {},
     "output_type": "execute_result"
    }
   ],
   "source": [
    "from sklearn.model_selection import train_test_split\n",
    "X = tmp.drop(columns=[\"ERR_FACT_QTY\"])\n",
    "y = tmp[\"ERR_FACT_QTY\"]\n",
    "X_train, X_test, y_train, y_test = train_test_split(X, y, test_size=0.3, random_state=42)\n",
    "X_train.shape, X_test.shape, y_train.shape, y_test.shape"
   ]
  },
  {
   "cell_type": "code",
   "execution_count": 56,
   "id": "978ea76a-0561-4748-807e-5d9b7e5a5ff8",
   "metadata": {},
   "outputs": [],
   "source": [
    "X_train, X_val, y_train, y_val = train_test_split(X_train,y_train, test_size=0.3, random_state=42)"
   ]
  },
  {
   "cell_type": "code",
   "execution_count": 57,
   "id": "ec3de7d6-c823-4b35-a169-3872e97f57f3",
   "metadata": {},
   "outputs": [],
   "source": [
    "from sklearn.preprocessing import StandardScaler\n",
    "ss = StandardScaler()\n",
    "ss.fit(X_train)\n",
    "X_train_scaled = ss.transform(X_train)\n",
    "X_val_scaled = ss.transform(X_val)\n",
    "X_test_scaled = ss.transform(X_test)"
   ]
  },
  {
   "cell_type": "code",
   "execution_count": 58,
   "id": "61c65ca5-6b0e-4aa6-9362-cd83c4891ca8",
   "metadata": {},
   "outputs": [
    {
     "name": "stdout",
     "output_type": "stream",
     "text": [
      "7.237233531266598 83.99042057134163 0.4862059118523525\n",
      "회귀계수: [ 1.93793594e+01 -1.32301395e+00 -1.17425446e+00 -2.38491176e-01\n",
      "  1.52062226e+00 -1.86382647e+00 -6.91432678e+01 -2.07651588e+00\n",
      "  1.18735327e+00  4.85781219e+01  5.04719694e-01  4.34936850e+00\n",
      " -1.10008952e+01  5.27718148e+00  4.09016155e-01 -1.30185720e-01\n",
      " -1.12268765e+00  1.82752680e+00 -2.03212014e-02 -3.11442816e-01\n",
      " -3.99356831e-01 -1.77149908e+01  2.06631807e+01]\n",
      "절편: 13.387775551100608\n"
     ]
    }
   ],
   "source": [
    "from sklearn.linear_model import LinearRegression\n",
    "from sklearn.metrics import r2_score, mean_absolute_error, mean_squared_error\n",
    "\n",
    "model = LinearRegression()\n",
    "model.fit(X_train_scaled, y_train)\n",
    "val_pred = model.predict(X_val_scaled)\n",
    "r2 = r2_score(y_val, val_pred)\n",
    "mae = mean_absolute_error(y_val, val_pred)\n",
    "mse = mean_squared_error(y_val, val_pred)\n",
    "print(mae, mse, r2)\n",
    "\n",
    "\n",
    "# 각 독립변수의 계수와 절편 확인\n",
    "print(\"회귀계수:\", model.coef_)    # 각 독립변수에 대한 계수 출력\n",
    "print(\"절편:\", model.intercept_)   # 상수항(절편) 출력"
   ]
  },
  {
   "cell_type": "code",
   "execution_count": null,
   "id": "77a5633c-e4b1-4658-90d6-1a2f2020373e",
   "metadata": {},
   "outputs": [],
   "source": []
  },
  {
   "cell_type": "code",
   "execution_count": 59,
   "id": "181a136d-7682-46c8-a191-d34c67970119",
   "metadata": {},
   "outputs": [
    {
     "data": {
      "text/html": [
       "<div>\n",
       "<style scoped>\n",
       "    .dataframe tbody tr th:only-of-type {\n",
       "        vertical-align: middle;\n",
       "    }\n",
       "\n",
       "    .dataframe tbody tr th {\n",
       "        vertical-align: top;\n",
       "    }\n",
       "\n",
       "    .dataframe thead th {\n",
       "        text-align: right;\n",
       "    }\n",
       "</style>\n",
       "<table border=\"1\" class=\"dataframe\">\n",
       "  <thead>\n",
       "    <tr style=\"text-align: right;\">\n",
       "      <th></th>\n",
       "      <th>독립변수</th>\n",
       "      <th>회귀계수</th>\n",
       "      <th>제곱</th>\n",
       "    </tr>\n",
       "  </thead>\n",
       "  <tbody>\n",
       "    <tr>\n",
       "      <th>6</th>\n",
       "      <td>Plasticizing_Position</td>\n",
       "      <td>-69.143268</td>\n",
       "      <td>4780.791478</td>\n",
       "    </tr>\n",
       "    <tr>\n",
       "      <th>9</th>\n",
       "      <td>Average_Screw_RPM</td>\n",
       "      <td>48.578122</td>\n",
       "      <td>2359.833930</td>\n",
       "    </tr>\n",
       "    <tr>\n",
       "      <th>22</th>\n",
       "      <td>Mold_Temperature_4</td>\n",
       "      <td>20.663181</td>\n",
       "      <td>426.967038</td>\n",
       "    </tr>\n",
       "    <tr>\n",
       "      <th>0</th>\n",
       "      <td>Injection_Time</td>\n",
       "      <td>19.379359</td>\n",
       "      <td>375.559570</td>\n",
       "    </tr>\n",
       "    <tr>\n",
       "      <th>21</th>\n",
       "      <td>Mold_Temperature_3</td>\n",
       "      <td>-17.714991</td>\n",
       "      <td>313.820898</td>\n",
       "    </tr>\n",
       "    <tr>\n",
       "      <th>12</th>\n",
       "      <td>Max_Back_Pressure</td>\n",
       "      <td>-11.000895</td>\n",
       "      <td>121.019694</td>\n",
       "    </tr>\n",
       "    <tr>\n",
       "      <th>13</th>\n",
       "      <td>Average_Back_Pressure</td>\n",
       "      <td>5.277181</td>\n",
       "      <td>27.848644</td>\n",
       "    </tr>\n",
       "    <tr>\n",
       "      <th>11</th>\n",
       "      <td>Max_Switch_Over_Pressure</td>\n",
       "      <td>4.349368</td>\n",
       "      <td>18.917006</td>\n",
       "    </tr>\n",
       "    <tr>\n",
       "      <th>7</th>\n",
       "      <td>Max_Injection_Speed</td>\n",
       "      <td>-2.076516</td>\n",
       "      <td>4.311918</td>\n",
       "    </tr>\n",
       "    <tr>\n",
       "      <th>5</th>\n",
       "      <td>Cushion_Position</td>\n",
       "      <td>-1.863826</td>\n",
       "      <td>3.473849</td>\n",
       "    </tr>\n",
       "    <tr>\n",
       "      <th>17</th>\n",
       "      <td>Barrel_Temperature_4</td>\n",
       "      <td>1.827527</td>\n",
       "      <td>3.339854</td>\n",
       "    </tr>\n",
       "    <tr>\n",
       "      <th>4</th>\n",
       "      <td>Clamp_Close_Time</td>\n",
       "      <td>1.520622</td>\n",
       "      <td>2.312292</td>\n",
       "    </tr>\n",
       "    <tr>\n",
       "      <th>1</th>\n",
       "      <td>Filling_Time</td>\n",
       "      <td>-1.323014</td>\n",
       "      <td>1.750366</td>\n",
       "    </tr>\n",
       "    <tr>\n",
       "      <th>8</th>\n",
       "      <td>Max_Screw_RPM</td>\n",
       "      <td>1.187353</td>\n",
       "      <td>1.409808</td>\n",
       "    </tr>\n",
       "    <tr>\n",
       "      <th>2</th>\n",
       "      <td>Plasticizing_Time</td>\n",
       "      <td>-1.174254</td>\n",
       "      <td>1.378874</td>\n",
       "    </tr>\n",
       "    <tr>\n",
       "      <th>16</th>\n",
       "      <td>Barrel_Temperature_3</td>\n",
       "      <td>-1.122688</td>\n",
       "      <td>1.260428</td>\n",
       "    </tr>\n",
       "    <tr>\n",
       "      <th>10</th>\n",
       "      <td>Max_Injection_Pressure</td>\n",
       "      <td>0.504720</td>\n",
       "      <td>0.254742</td>\n",
       "    </tr>\n",
       "    <tr>\n",
       "      <th>14</th>\n",
       "      <td>Barrel_Temperature_1</td>\n",
       "      <td>0.409016</td>\n",
       "      <td>0.167294</td>\n",
       "    </tr>\n",
       "    <tr>\n",
       "      <th>20</th>\n",
       "      <td>Hopper_Temperature</td>\n",
       "      <td>-0.399357</td>\n",
       "      <td>0.159486</td>\n",
       "    </tr>\n",
       "    <tr>\n",
       "      <th>19</th>\n",
       "      <td>Barrel_Temperature_6</td>\n",
       "      <td>-0.311443</td>\n",
       "      <td>0.096997</td>\n",
       "    </tr>\n",
       "    <tr>\n",
       "      <th>3</th>\n",
       "      <td>Cycle_Time</td>\n",
       "      <td>-0.238491</td>\n",
       "      <td>0.056878</td>\n",
       "    </tr>\n",
       "    <tr>\n",
       "      <th>15</th>\n",
       "      <td>Barrel_Temperature_2</td>\n",
       "      <td>-0.130186</td>\n",
       "      <td>0.016948</td>\n",
       "    </tr>\n",
       "    <tr>\n",
       "      <th>18</th>\n",
       "      <td>Barrel_Temperature_5</td>\n",
       "      <td>-0.020321</td>\n",
       "      <td>0.000413</td>\n",
       "    </tr>\n",
       "  </tbody>\n",
       "</table>\n",
       "</div>"
      ],
      "text/plain": [
       "                        독립변수       회귀계수           제곱\n",
       "6      Plasticizing_Position -69.143268  4780.791478\n",
       "9          Average_Screw_RPM  48.578122  2359.833930\n",
       "22        Mold_Temperature_4  20.663181   426.967038\n",
       "0             Injection_Time  19.379359   375.559570\n",
       "21        Mold_Temperature_3 -17.714991   313.820898\n",
       "12         Max_Back_Pressure -11.000895   121.019694\n",
       "13     Average_Back_Pressure   5.277181    27.848644\n",
       "11  Max_Switch_Over_Pressure   4.349368    18.917006\n",
       "7        Max_Injection_Speed  -2.076516     4.311918\n",
       "5           Cushion_Position  -1.863826     3.473849\n",
       "17      Barrel_Temperature_4   1.827527     3.339854\n",
       "4           Clamp_Close_Time   1.520622     2.312292\n",
       "1               Filling_Time  -1.323014     1.750366\n",
       "8              Max_Screw_RPM   1.187353     1.409808\n",
       "2          Plasticizing_Time  -1.174254     1.378874\n",
       "16      Barrel_Temperature_3  -1.122688     1.260428\n",
       "10    Max_Injection_Pressure   0.504720     0.254742\n",
       "14      Barrel_Temperature_1   0.409016     0.167294\n",
       "20        Hopper_Temperature  -0.399357     0.159486\n",
       "19      Barrel_Temperature_6  -0.311443     0.096997\n",
       "3                 Cycle_Time  -0.238491     0.056878\n",
       "15      Barrel_Temperature_2  -0.130186     0.016948\n",
       "18      Barrel_Temperature_5  -0.020321     0.000413"
      ]
     },
     "execution_count": 59,
     "metadata": {},
     "output_type": "execute_result"
    }
   ],
   "source": [
    "\n",
    "# 모델 학습 후 회귀계수 획득 (이미 model.fit()을 수행했다고 가정)\n",
    "coefficients = model.coef_\n",
    "\n",
    "# 독립변수와 회귀계수로 DataFrame 생성\n",
    "df_coeff = pd.DataFrame({'독립변수': X.columns, '회귀계수': coefficients, \"제곱\" : coefficients * coefficients})\n",
    "\n",
    "# 회귀계수를 기준으로 내림차순 정렬 (가장 큰 영향력부터 보고자 할 때)\n",
    "df_coeff_sorted = df_coeff.sort_values(by='제곱', ascending=False)\n",
    "\n",
    "df_coeff_sorted"
   ]
  },
  {
   "cell_type": "code",
   "execution_count": 60,
   "id": "d19b3fdb-8d0f-403a-ade8-3fccd4fa30d0",
   "metadata": {},
   "outputs": [
    {
     "name": "stdout",
     "output_type": "stream",
     "text": [
      "모델 성능 비교:\n",
      "              Model        R2       MAE         MSE\n",
      "0  LinearRegression  0.486206  7.237234   83.990421\n",
      "1             Ridge  0.495012  7.228543   82.550910\n",
      "2             Lasso  0.450948  7.550498   89.754059\n",
      "3      DecisionTree  0.141774  8.412349  140.294994\n",
      "4      RandomForest  0.447757  7.390114   90.275634\n",
      "5               SVR  0.421965  6.664038   94.491956\n",
      "6       GBRegressor  0.650389  6.003335   57.151246\n",
      "7      HGBRegressor  0.573911  6.474848   69.653124\n",
      "8      XGBRegressor  0.410049  7.460074   96.439841\n",
      "\n",
      "최종 선정된 모델 (R2 기준):\n",
      "Model    GBRegressor\n",
      "R2          0.650389\n",
      "MAE         6.003335\n",
      "MSE        57.151246\n",
      "Name: 6, dtype: object\n"
     ]
    }
   ],
   "source": [
    "import numpy as np\n",
    "import pandas as pd\n",
    "from sklearn.linear_model import LinearRegression, Ridge, Lasso\n",
    "from sklearn.tree import DecisionTreeRegressor\n",
    "from sklearn.ensemble import RandomForestRegressor, GradientBoostingRegressor, HistGradientBoostingRegressor\n",
    "from xgboost import XGBRegressor\n",
    "from sklearn.svm import SVR\n",
    "from sklearn.metrics import r2_score, mean_absolute_error, mean_squared_error\n",
    "\n",
    "# 여러 회귀 모델을 딕셔너리에 저장합니다.\n",
    "models = {\n",
    "    \"LinearRegression\": LinearRegression(),\n",
    "    \"Ridge\": Ridge(alpha=1.0),\n",
    "    \"Lasso\": Lasso(alpha=0.1),\n",
    "    \"DecisionTree\": DecisionTreeRegressor(random_state=42),\n",
    "    \"RandomForest\": RandomForestRegressor(n_estimators=100, random_state=42),\n",
    "    \"SVR\": SVR(),\n",
    "    \"GBRegressor\": GradientBoostingRegressor(),\n",
    "    \"HGBRegressor\": HistGradientBoostingRegressor(),\n",
    "    \"XGBRegressor\": XGBRegressor(),\n",
    "}\n",
    "\n",
    "results = []  # 평가 결과를 저장할 리스트\n",
    "\n",
    "# 각 모델에 대해 학습 및 예측, 평가 지표 계산을 진행합니다.\n",
    "for model_name, model in models.items():\n",
    "    model.fit(X_train_scaled, y_train)\n",
    "    y_pred = model.predict(X_val_scaled)\n",
    "    \n",
    "    r2 = r2_score(y_val, y_pred)\n",
    "    mae = mean_absolute_error(y_val, y_pred)\n",
    "    mse = mean_squared_error(y_val, y_pred)\n",
    "    \n",
    "    results.append({\n",
    "        \"Model\": model_name,\n",
    "        \"R2\": r2,\n",
    "        \"MAE\": mae,\n",
    "        \"MSE\": mse\n",
    "    })\n",
    "\n",
    "# 결과를 데이터프레임으로 정리하여 출력합니다.\n",
    "results_df = pd.DataFrame(results)\n",
    "print(\"모델 성능 비교:\")\n",
    "print(results_df)\n",
    "\n",
    "# 예를 들어, R² 지표가 가장 높은 모델을 선택하는 방법 (높을수록 설명력이 좋음)\n",
    "best_model_row = results_df.loc[results_df[\"R2\"].idxmax()]\n",
    "print(\"\\n최종 선정된 모델 (R2 기준):\")\n",
    "print(best_model_row)\n"
   ]
  },
  {
   "cell_type": "code",
   "execution_count": null,
   "id": "cf4bfcd1-90eb-4998-886a-1febdbe2d586",
   "metadata": {},
   "outputs": [],
   "source": [
    "temp = "
   ]
  },
  {
   "cell_type": "code",
   "execution_count": 62,
   "id": "b37a4b01-94a6-446b-b2a2-4a61b2b6d0b5",
   "metadata": {},
   "outputs": [
    {
     "data": {
      "text/plain": [
       "ERR_FACT_QTY\n",
       "1     1840\n",
       "6     1442\n",
       "29    1440\n",
       "0     1435\n",
       "22    1430\n",
       "36    1429\n",
       "16    1196\n",
       "5     1182\n",
       "2      418\n",
       "10     370\n",
       "44      16\n",
       "61      15\n",
       "7        8\n",
       "11       1\n",
       "Name: count, dtype: int64"
      ]
     },
     "execution_count": 62,
     "metadata": {},
     "output_type": "execute_result"
    }
   ],
   "source": [
    "tmp[\"ERR_FACT_QTY\"].value_counts()"
   ]
  },
  {
   "cell_type": "code",
   "execution_count": null,
   "id": "ac502980-fbf2-48b5-aa33-b27d5cc644a3",
   "metadata": {},
   "outputs": [],
   "source": [
    "import matplotlib.pyplot as plt\n",
    "\n",
    "# 필요한 데이터 프레임 복사\n",
    "tmp = tmp.copy()\n",
    "tmp[\"Reason\"].value_counts()\n",
    "\n",
    "# 인덱스 섞기 (불량이 끝에 몰려있어 보기 힘들었음)\n",
    "tmp = tmp.sample(frac=1, random_state=42).reset_index(drop=True)\n",
    "\n",
    "# 독립 변수와 종속 변수 분\n",
    "y = tmp[\"Reason\"]\n",
    "X = tmp.drop(columns=[\"Reason\"])\n",
    "\n",
    "# 그래프 설정\n",
    "fig, axes = plt.subplots(nrows=7, ncols=4, figsize=(15, 30))\n",
    "axes = axes.flatten()\n",
    "fig.suptitle(\"Distribution of Independent Variables by PassOrFail\", fontsize=16)\n",
    "\n",
    "# 독립 변수별 산점도 생성\n",
    "for i, column in enumerate(X.columns):\n",
    "    ax = axes[i]\n",
    "    ax.scatter(X.index[y == 0], X[column][y == 0], label=\"Pass\", color=\"black\", alpha=0.6, s=10)\n",
    "    ax.scatter(X.index[y == 1], X[column][y == 1], label=\"Fail\", color=\"red\", alpha=1, s=10)\n",
    "    ax.scatter(X.index[y == 2], X[column][y == 2], label=\"Fail\", color=\"blue\", alpha=1, s=10)\n",
    "    ax.scatter(X.index[y == 3], X[column][y == 3], label=\"Fail\", color=\"yellow\", alpha=1, s=10)\n",
    "    ax.set_title(column)\n",
    "    ax.set_xlabel(\"Index\")\n",
    "    ax.set_ylabel(\"Value\")\n",
    "\n",
    "# 빈 그래프 제거\n",
    "for j in range(len(X.columns), len(axes)):\n",
    "    fig.delaxes(axes[j])\n",
    "\n",
    "plt.tight_layout(rect=[0, 0, 1, 0.95])\n",
    "plt.show()"
   ]
  }
 ],
 "metadata": {
  "kernelspec": {
   "display_name": "dg_env_dl_kernel",
   "language": "python",
   "name": "dg_env_dl"
  },
  "language_info": {
   "codemirror_mode": {
    "name": "ipython",
    "version": 3
   },
   "file_extension": ".py",
   "mimetype": "text/x-python",
   "name": "python",
   "nbconvert_exporter": "python",
   "pygments_lexer": "ipython3",
   "version": "3.9.15"
  }
 },
 "nbformat": 4,
 "nbformat_minor": 5
}
