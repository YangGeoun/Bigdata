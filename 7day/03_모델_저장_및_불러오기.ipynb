{
 "cells": [
  {
   "cell_type": "code",
   "execution_count": 2,
   "id": "72a77c27-5f7e-4d55-96d3-039dd582b3cc",
   "metadata": {},
   "outputs": [],
   "source": [
    "import pandas as pd"
   ]
  },
  {
   "cell_type": "code",
   "execution_count": 4,
   "id": "bb4f43aa-e3e3-41c5-9437-c760aacc1ac0",
   "metadata": {},
   "outputs": [
    {
     "name": "stdout",
     "output_type": "stream",
     "text": [
      "<class 'pandas.core.frame.DataFrame'>\n",
      "RangeIndex: 6497 entries, 0 to 6496\n",
      "Data columns (total 4 columns):\n",
      " #   Column   Non-Null Count  Dtype  \n",
      "---  ------   --------------  -----  \n",
      " 0   alcohol  6497 non-null   float64\n",
      " 1   sugar    6497 non-null   float64\n",
      " 2   pH       6497 non-null   float64\n",
      " 3   class    6497 non-null   float64\n",
      "dtypes: float64(4)\n",
      "memory usage: 203.2 KB\n",
      "(6497, 3) (6497,)\n"
     ]
    }
   ],
   "source": [
    "wine = pd.read_csv(\"./data/08_wine.csv\")\n",
    "wine.info()\n",
    "wine.describe()\n",
    "# data = wine.iloc[:, :3]\n",
    "data = wine[[\"alcohol\", \"sugar\", \"pH\"]].to_numpy()\n",
    "target = wine[\"class\"]\n",
    "print(data.shape, target.shape)"
   ]
  },
  {
   "cell_type": "code",
   "execution_count": 6,
   "id": "eee9ddd3-f2c0-4015-9eb5-d5774562b1f9",
   "metadata": {},
   "outputs": [],
   "source": [
    "from sklearn.model_selection import train_test_split\n",
    "train_input, test_input, train_target, test_target = train_test_split(data, target,  test_size=0.2, random_state=42)"
   ]
  },
  {
   "cell_type": "code",
   "execution_count": 7,
   "id": "675d6af4-aaea-43fc-a126-e09680bfc2b4",
   "metadata": {},
   "outputs": [],
   "source": [
    "from sklearn.preprocessing import StandardScaler, MinMaxScaler,RobustScaler\n",
    "scaler = StandardScaler()\n",
    "scaler.fit(train_input)\n",
    "train_std_scaled = scaler.transform(train_input)\n",
    "test_std_scaled = scaler.transform(test_input)"
   ]
  },
  {
   "cell_type": "code",
   "execution_count": 13,
   "id": "74cfd753-fe54-4253-aa77-791a9538f7d8",
   "metadata": {},
   "outputs": [
    {
     "data": {
      "text/plain": [
       "(0.996921300750433, 0.8892307692307693, 0.10769053151966368)"
      ]
     },
     "execution_count": 13,
     "metadata": {},
     "output_type": "execute_result"
    }
   ],
   "source": [
    "from sklearn.ensemble import RandomForestClassifier\n",
    "rf = RandomForestClassifier(n_jobs=-1, random_state=42)\n",
    "rf.fit(train_std_scaled, train_target)\n",
    "train_score = rf.score(train_std_scaled, train_target)\n",
    "test_score = rf.score(test_std_scaled, test_target)\n",
    "# 과대적합이 조금 발생하고 있음( train_score - test_score 의 값이 10% 이상이다 )\n",
    "train_score, test_score, train_score - test_score\n"
   ]
  },
  {
   "cell_type": "markdown",
   "id": "0be6afaa-1bfb-451e-bd0a-f194f1c434f1",
   "metadata": {
    "jupyter": {
     "source_hidden": true
    }
   },
   "source": [
    "# 모델 저장 및 불러오는 2가지 방식\n",
    "- joblib 방식 \n",
    "- pickle 방식"
   ]
  },
  {
   "cell_type": "code",
   "execution_count": 15,
   "id": "49b706a2-7f58-4518-b4a5-2803b65fc87e",
   "metadata": {},
   "outputs": [],
   "source": [
    "import joblib"
   ]
  },
  {
   "cell_type": "code",
   "execution_count": 16,
   "id": "b8d696e2-9bb1-44c9-85a1-e563a6ae7f3f",
   "metadata": {},
   "outputs": [
    {
     "data": {
      "text/plain": [
       "['./model/rf_model.pkl']"
      ]
     },
     "execution_count": 16,
     "metadata": {},
     "output_type": "execute_result"
    }
   ],
   "source": [
    "save_path = \"./model/rf_model.pkl\"\n",
    "joblib.dump(rf, save_path)"
   ]
  },
  {
   "cell_type": "code",
   "execution_count": 18,
   "id": "2d3673ea-ad40-4a99-aebd-ee8e989c55ac",
   "metadata": {},
   "outputs": [],
   "source": [
    "rf_model = joblib.load(save_path)"
   ]
  },
  {
   "cell_type": "code",
   "execution_count": 21,
   "id": "544686a6-a951-4588-94df-01479ab6f842",
   "metadata": {},
   "outputs": [
    {
     "name": "stdout",
     "output_type": "stream",
     "text": [
      "화이트와인입니다.\n"
     ]
    }
   ],
   "source": [
    "a = 12.5\n",
    "s = 11.3\n",
    "p = 3.11\n",
    "\n",
    "result = rf_model.predict([[a, s, p]])\n",
    "\n",
    "if result:\n",
    "    print(\"레드와인입니다.\")\n",
    "else:\n",
    "    print(\"화이트와인입니다.\")"
   ]
  },
  {
   "cell_type": "code",
   "execution_count": 22,
   "id": "39b19281-e45d-41fe-ba6b-9035ca7c518f",
   "metadata": {},
   "outputs": [],
   "source": [
    "import pickle\n",
    "\n",
    "save_path = \"./model/rf_model.pickle\"\n",
    "with open(save_path, \"wb\") as fw:\n",
    "    pickle.dump(rf, fw)"
   ]
  },
  {
   "cell_type": "code",
   "execution_count": null,
   "id": "eb9b24c1-a517-4793-a5f8-0419f37d43d9",
   "metadata": {},
   "outputs": [],
   "source": []
  }
 ],
 "metadata": {
  "kernelspec": {
   "display_name": "dg_env_all_kernel",
   "language": "python",
   "name": "dg_env_all"
  },
  "language_info": {
   "codemirror_mode": {
    "name": "ipython",
    "version": 3
   },
   "file_extension": ".py",
   "mimetype": "text/x-python",
   "name": "python",
   "nbconvert_exporter": "python",
   "pygments_lexer": "ipython3",
   "version": "3.9.21"
  }
 },
 "nbformat": 4,
 "nbformat_minor": 5
}
