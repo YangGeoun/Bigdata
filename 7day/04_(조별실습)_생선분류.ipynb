{
 "cells": [
  {
   "cell_type": "code",
   "execution_count": 1,
   "id": "28db23e7-0b39-4370-960e-4072c33d3c2b",
   "metadata": {},
   "outputs": [],
   "source": [
    "import pandas as pd"
   ]
  },
  {
   "cell_type": "code",
   "execution_count": 2,
   "id": "6d9623b0-2b17-4dac-9ce8-7bc7abc09982",
   "metadata": {},
   "outputs": [
    {
     "name": "stdout",
     "output_type": "stream",
     "text": [
      "<class 'pandas.core.frame.DataFrame'>\n",
      "RangeIndex: 159 entries, 0 to 158\n",
      "Data columns (total 6 columns):\n",
      " #   Column    Non-Null Count  Dtype  \n",
      "---  ------    --------------  -----  \n",
      " 0   Species   159 non-null    object \n",
      " 1   Weight    159 non-null    float64\n",
      " 2   Length    159 non-null    float64\n",
      " 3   Diagonal  159 non-null    float64\n",
      " 4   Height    159 non-null    float64\n",
      " 5   Width     159 non-null    float64\n",
      "dtypes: float64(5), object(1)\n",
      "memory usage: 7.6+ KB\n"
     ]
    },
    {
     "data": {
      "text/html": [
       "<div>\n",
       "<style scoped>\n",
       "    .dataframe tbody tr th:only-of-type {\n",
       "        vertical-align: middle;\n",
       "    }\n",
       "\n",
       "    .dataframe tbody tr th {\n",
       "        vertical-align: top;\n",
       "    }\n",
       "\n",
       "    .dataframe thead th {\n",
       "        text-align: right;\n",
       "    }\n",
       "</style>\n",
       "<table border=\"1\" class=\"dataframe\">\n",
       "  <thead>\n",
       "    <tr style=\"text-align: right;\">\n",
       "      <th></th>\n",
       "      <th>Weight</th>\n",
       "      <th>Length</th>\n",
       "      <th>Diagonal</th>\n",
       "      <th>Height</th>\n",
       "      <th>Width</th>\n",
       "    </tr>\n",
       "  </thead>\n",
       "  <tbody>\n",
       "    <tr>\n",
       "      <th>count</th>\n",
       "      <td>159.000000</td>\n",
       "      <td>159.000000</td>\n",
       "      <td>159.000000</td>\n",
       "      <td>159.000000</td>\n",
       "      <td>159.000000</td>\n",
       "    </tr>\n",
       "    <tr>\n",
       "      <th>mean</th>\n",
       "      <td>398.326415</td>\n",
       "      <td>28.415723</td>\n",
       "      <td>31.227044</td>\n",
       "      <td>8.970994</td>\n",
       "      <td>4.417486</td>\n",
       "    </tr>\n",
       "    <tr>\n",
       "      <th>std</th>\n",
       "      <td>357.978317</td>\n",
       "      <td>10.716328</td>\n",
       "      <td>11.610246</td>\n",
       "      <td>4.286208</td>\n",
       "      <td>1.685804</td>\n",
       "    </tr>\n",
       "    <tr>\n",
       "      <th>min</th>\n",
       "      <td>0.000000</td>\n",
       "      <td>8.400000</td>\n",
       "      <td>8.800000</td>\n",
       "      <td>1.728400</td>\n",
       "      <td>1.047600</td>\n",
       "    </tr>\n",
       "    <tr>\n",
       "      <th>25%</th>\n",
       "      <td>120.000000</td>\n",
       "      <td>21.000000</td>\n",
       "      <td>23.150000</td>\n",
       "      <td>5.944800</td>\n",
       "      <td>3.385650</td>\n",
       "    </tr>\n",
       "    <tr>\n",
       "      <th>50%</th>\n",
       "      <td>273.000000</td>\n",
       "      <td>27.300000</td>\n",
       "      <td>29.400000</td>\n",
       "      <td>7.786000</td>\n",
       "      <td>4.248500</td>\n",
       "    </tr>\n",
       "    <tr>\n",
       "      <th>75%</th>\n",
       "      <td>650.000000</td>\n",
       "      <td>35.500000</td>\n",
       "      <td>39.650000</td>\n",
       "      <td>12.365900</td>\n",
       "      <td>5.584500</td>\n",
       "    </tr>\n",
       "    <tr>\n",
       "      <th>max</th>\n",
       "      <td>1650.000000</td>\n",
       "      <td>63.400000</td>\n",
       "      <td>68.000000</td>\n",
       "      <td>18.957000</td>\n",
       "      <td>8.142000</td>\n",
       "    </tr>\n",
       "  </tbody>\n",
       "</table>\n",
       "</div>"
      ],
      "text/plain": [
       "            Weight      Length    Diagonal      Height       Width\n",
       "count   159.000000  159.000000  159.000000  159.000000  159.000000\n",
       "mean    398.326415   28.415723   31.227044    8.970994    4.417486\n",
       "std     357.978317   10.716328   11.610246    4.286208    1.685804\n",
       "min       0.000000    8.400000    8.800000    1.728400    1.047600\n",
       "25%     120.000000   21.000000   23.150000    5.944800    3.385650\n",
       "50%     273.000000   27.300000   29.400000    7.786000    4.248500\n",
       "75%     650.000000   35.500000   39.650000   12.365900    5.584500\n",
       "max    1650.000000   63.400000   68.000000   18.957000    8.142000"
      ]
     },
     "execution_count": 2,
     "metadata": {},
     "output_type": "execute_result"
    }
   ],
   "source": [
    "fish = pd.read_csv(\"./data/05_생선_분류_데이터셋.csv\")\n",
    "fish.info()\n",
    "fish.describe()"
   ]
  },
  {
   "cell_type": "code",
   "execution_count": 3,
   "id": "96763e2c-78d4-41bc-a0d6-b2b8d655732d",
   "metadata": {
    "scrolled": true
   },
   "outputs": [
    {
     "data": {
      "text/plain": [
       "<Axes: >"
      ]
     },
     "execution_count": 3,
     "metadata": {},
     "output_type": "execute_result"
    },
    {
     "data": {
      "image/png": "[encoded data removed]",
      "text/plain": [
       "<Figure size 640x480 with 1 Axes>"
      ]
     },
     "metadata": {},
     "output_type": "display_data"
    }
   ],
   "source": [
    "tmp = fish[[\"Species\", \"Length\", \"Diagonal\", \"Height\", \"Width\"]].copy()\n",
    "tmp.boxplot()"
   ]
  },
  {
   "cell_type": "code",
   "execution_count": 4,
   "id": "5b2a3afd-92be-4ea2-898d-262d768739bc",
   "metadata": {},
   "outputs": [
    {
     "data": {
      "text/plain": [
       "Species\n",
       "Perch        56\n",
       "Bream        35\n",
       "Roach        20\n",
       "Pike         17\n",
       "Smelt        14\n",
       "Parkki       11\n",
       "Whitefish     6\n",
       "Name: count, dtype: int64"
      ]
     },
     "execution_count": 4,
     "metadata": {},
     "output_type": "execute_result"
    }
   ],
   "source": [
    "fish[\"Species\"].value_counts()"
   ]
  },
  {
   "cell_type": "code",
   "execution_count": 5,
   "id": "305f7071-8d41-411b-962b-e0fd762b3577",
   "metadata": {},
   "outputs": [
    {
     "data": {
      "text/plain": [
       "Species\n",
       "0    56\n",
       "1    35\n",
       "2    20\n",
       "3    17\n",
       "4    14\n",
       "5    11\n",
       "6     6\n",
       "Name: count, dtype: int64"
      ]
     },
     "execution_count": 5,
     "metadata": {},
     "output_type": "execute_result"
    }
   ],
   "source": [
    "species_dic = {\n",
    "    \"Perch\" : 0, \n",
    "    \"Bream\" : 1, \n",
    "    \"Roach\" : 2, \n",
    "    \"Pike\" : 3, \n",
    "    \"Smelt\" : 4, \n",
    "    \"Parkki\" : 5, \n",
    "    \"Whitefish\" : 6, \n",
    "}\n",
    "fish[\"Species\"] = fish[\"Species\"].map(species_dic)\n",
    "fish[\"Species\"].value_counts()"
   ]
  },
  {
   "cell_type": "code",
   "execution_count": 6,
   "id": "0d50d03a-11b5-41e3-bf9c-5aa8de24a3bb",
   "metadata": {
    "scrolled": true
   },
   "outputs": [
    {
     "data": {
      "text/plain": [
       "((159, 5), (159,))"
      ]
     },
     "execution_count": 6,
     "metadata": {},
     "output_type": "execute_result"
    }
   ],
   "source": [
    "X = fish.iloc[:,1:]\n",
    "y = fish[\"Species\"]\n",
    "X.shape, y.shape"
   ]
  },
  {
   "cell_type": "code",
   "execution_count": 7,
   "id": "78b7ff56-d669-4b09-ac84-a579d0834cfb",
   "metadata": {},
   "outputs": [
    {
     "name": "stdout",
     "output_type": "stream",
     "text": [
      "변수명         : Weight\n",
      "상관계수 계수값 : -0.171\n",
      "      p-value : 0.031\n",
      "-------------------------\n",
      "변수명         : Length\n",
      "상관계수 계수값 : -0.157\n",
      "      p-value : 0.048\n",
      "-------------------------\n",
      "변수명         : Diagonal\n",
      "상관계수 계수값 : -0.115\n",
      "      p-value : 0.149\n",
      "-------------------------\n",
      "변수명         : Height\n",
      "상관계수 계수값 : -0.109\n",
      "      p-value : 0.173\n",
      "-------------------------\n",
      "변수명         : Width\n",
      "상관계수 계수값 : -0.277\n",
      "      p-value : 0.000\n",
      "-------------------------\n"
     ]
    }
   ],
   "source": [
    "from scipy.stats import spearmanr\n",
    "    \n",
    "for col_name in X.columns:\n",
    "    tmp = spearmanr(X[col_name], y)\n",
    "    print(f\"변수명         : {col_name}\")\n",
    "    print(f\"상관계수 계수값 : {tmp[0]:.3f}\")\n",
    "    print(f\"      p-value : {tmp[1]:.3f}\")\n",
    "    print(\"-------------------------\")"
   ]
  },
  {
   "cell_type": "code",
   "execution_count": 8,
   "id": "79004553-9794-410d-881f-d4236f132a9b",
   "metadata": {},
   "outputs": [],
   "source": [
    "from sklearn.preprocessing import StandardScaler\n",
    "from sklearn.model_selection import train_test_split\n",
    "from sklearn.metrics import accuracy_score, precision_score, recall_score, f1_score\n",
    "from sklearn.ensemble import RandomForestClassifier, ExtraTreesClassifier, HistGradientBoostingClassifier, GradientBoostingClassifier\n",
    "from xgboost import XGBClassifier"
   ]
  },
  {
   "cell_type": "code",
   "execution_count": 9,
   "id": "7e0e5059-1c79-45c1-90e2-4e9bb28de70f",
   "metadata": {},
   "outputs": [],
   "source": [
    "# X = X[[\"Weight\", \"Length\", \"Width\"]].to_numpy()\n",
    "X_train, X_test, y_train, y_test = train_test_split(X, y, test_size=0.2, random_state=42)"
   ]
  },
  {
   "cell_type": "code",
   "execution_count": 10,
   "id": "02d67b38-5ac4-40af-8210-c3cfdb50ae66",
   "metadata": {},
   "outputs": [],
   "source": [
    "ss = StandardScaler()\n",
    "ss.fit(X_train)\n",
    "X_train_scaled = ss.transform(X_train)\n",
    "X_test_scaled = ss.transform(X_test)"
   ]
  },
  {
   "cell_type": "code",
   "execution_count": 11,
   "id": "f1db128e-5964-4c5e-92da-d477f90a589c",
   "metadata": {},
   "outputs": [],
   "source": [
    "rf = RandomForestClassifier(random_state=42)\n",
    "et = ExtraTreesClassifier(random_state=42)\n",
    "gb = GradientBoostingClassifier(random_state=42)\n",
    "hgb = HistGradientBoostingClassifier(random_state=42)\n",
    "xgb = XGBClassifier(random_state=42)\n",
    "\n",
    "model_list = [rf, et, gb, hgb, xgb]"
   ]
  },
  {
   "cell_type": "code",
   "execution_count": 12,
   "id": "7aac9118-f509-4510-bd24-8bfde05c6076",
   "metadata": {},
   "outputs": [
    {
     "name": "stdout",
     "output_type": "stream",
     "text": [
      "RandomForestClassifier\n",
      "0.6825396825396826\n",
      "1.0 0.8125 0.1875\n",
      "ExtraTreesClassifier\n",
      "0.8253968253968254\n",
      "1.0 0.84375 0.15625\n",
      "GradientBoostingClassifier\n",
      "0.8095238095238094\n",
      "1.0 0.8125 0.1875\n",
      "HistGradientBoostingClassifier\n",
      "0.7936507936507936\n",
      "0.9448818897637795 0.78125 0.16363188976377951\n",
      "XGBClassifier\n",
      "0.619047619047619\n",
      "1.0 0.75 0.25\n"
     ]
    }
   ],
   "source": [
    "for model in model_list:\n",
    "    model_name = model.__class__.__name__\n",
    "    model.fit(X_train_scaled, y_train)\n",
    "    train_pred = model.predict(X_train_scaled)\n",
    "    test_pred = model.predict(X_test_scaled)\n",
    "    train_acc = model.score(X_train_scaled, y_train)\n",
    "    test_acc = model.score(X_test_scaled, y_test)\n",
    "    print(model_name)\n",
    "    print(recall_score(y_test, test_pred, average=\"macro\"))\n",
    "    print(train_acc, test_acc, train_acc - test_acc)"
   ]
  },
  {
   "cell_type": "code",
   "execution_count": 13,
   "id": "44f5018f-8e5a-46f2-8034-617cb9e9049d",
   "metadata": {},
   "outputs": [
    {
     "data": {
      "text/plain": [
       "'\\n문자열 그대로 했을때\\nRandomForestClassifier\\n1.0 0.775 0.22499999999999998\\nExtraTreesClassifier\\n1.0 0.825 0.17500000000000004\\nGradientBoostingClassifier\\n1.0 0.775 0.22499999999999998\\nHistGradientBoostingClassifier\\n0.9495798319327731 0.725 0.2245798319327731\\n'"
      ]
     },
     "execution_count": 13,
     "metadata": {},
     "output_type": "execute_result"
    }
   ],
   "source": [
    "\"\"\"\n",
    "문자열 그대로 했을때\n",
    "RandomForestClassifier\n",
    "1.0 0.775 0.22499999999999998\n",
    "ExtraTreesClassifier\n",
    "1.0 0.825 0.17500000000000004\n",
    "GradientBoostingClassifier\n",
    "1.0 0.775 0.22499999999999998\n",
    "HistGradientBoostingClassifier\n",
    "0.9495798319327731 0.725 0.2245798319327731\n",
    "\"\"\""
   ]
  },
  {
   "cell_type": "code",
   "execution_count": 14,
   "id": "f94296d2-199a-4a00-a776-d5b1bede8c5d",
   "metadata": {},
   "outputs": [
    {
     "data": {
      "text/plain": [
       "'\\n문자열 숫자로 바꾸고 했을때\\nRandomForestClassifier\\n1.0 0.775 0.22499999999999998\\nExtraTreesClassifier\\n1.0 0.825 0.17500000000000004\\nGradientBoostingClassifier\\n1.0 0.775 0.22499999999999998\\nHistGradientBoostingClassifier\\n0.9495798319327731 0.725 0.2245798319327731\\nXGBClassifier\\n1.0 0.775 0.22499999999999998\\n'"
      ]
     },
     "execution_count": 14,
     "metadata": {},
     "output_type": "execute_result"
    }
   ],
   "source": [
    "\"\"\"\n",
    "문자열 숫자로 바꾸고 했을때\n",
    "RandomForestClassifier\n",
    "1.0 0.775 0.22499999999999998\n",
    "ExtraTreesClassifier\n",
    "1.0 0.825 0.17500000000000004\n",
    "GradientBoostingClassifier\n",
    "1.0 0.775 0.22499999999999998\n",
    "HistGradientBoostingClassifier\n",
    "0.9495798319327731 0.725 0.2245798319327731\n",
    "XGBClassifier\n",
    "1.0 0.775 0.22499999999999998\n",
    "\"\"\""
   ]
  },
  {
   "cell_type": "code",
   "execution_count": 15,
   "id": "7c1b63aa-9a53-4861-83b5-f8fd1fed941d",
   "metadata": {},
   "outputs": [
    {
     "data": {
      "text/plain": [
       "'\\n문자열 숫자로 바꾸고\\np-value 가 0.05 보다 큰 변수 제거 했을때\\nRandomForestClassifier\\n1.0 0.65 0.35\\nExtraTreesClassifier\\n1.0 0.725 0.275\\nGradientBoostingClassifier\\n1.0 0.7 0.30000000000000004\\nHistGradientBoostingClassifier\\n0.8907563025210085 0.625 0.26575630252100846\\nXGBClassifier\\n1.0 0.75 0.25\\n'"
      ]
     },
     "execution_count": 15,
     "metadata": {},
     "output_type": "execute_result"
    }
   ],
   "source": [
    "\"\"\"\n",
    "문자열 숫자로 바꾸고\n",
    "p-value 가 0.05 보다 큰 변수 제거 했을때\n",
    "RandomForestClassifier\n",
    "1.0 0.65 0.35\n",
    "ExtraTreesClassifier\n",
    "1.0 0.725 0.275\n",
    "GradientBoostingClassifier\n",
    "1.0 0.7 0.30000000000000004\n",
    "HistGradientBoostingClassifier\n",
    "0.8907563025210085 0.625 0.26575630252100846\n",
    "XGBClassifier\n",
    "1.0 0.75 0.25\n",
    "\"\"\""
   ]
  },
  {
   "cell_type": "code",
   "execution_count": 16,
   "id": "d3ed8933",
   "metadata": {},
   "outputs": [],
   "source": [
    "from sklearn.model_selection import GridSearchCV"
   ]
  },
  {
   "cell_type": "code",
   "execution_count": 17,
   "id": "3a563f51-2bda-403e-b3d3-3533eee89e5f",
   "metadata": {},
   "outputs": [],
   "source": [
    "# 트리의 갯수 범위 지정\n",
    "n_estimators_list = list(range(20, 201, 20))\n",
    "\n",
    "# 트리가 밑으로 뻗어 나가는 최대 깊이 지정 (None은 깊이 제한을 주지 않겠다는 의미. 즉, 훈련이 진행될 때까지 계속해서 깊게 파고 내려감)\n",
    "max_depth_list = [None, 3,5, 7, 10]\n",
    "\n",
    "eta_list = [0.1, 0.2, 0.3, 0.4, 0.5, 0.6]\n",
    "\n",
    "min_samples_split_list = [2,3,4,5]"
   ]
  },
  {
   "cell_type": "code",
   "execution_count": 18,
   "id": "02b3ff95-313d-4138-8651-f9ef46e0a573",
   "metadata": {},
   "outputs": [
    {
     "name": "stdout",
     "output_type": "stream",
     "text": [
      "20 0 2\n",
      "1.0 0.8125 0.1875\n",
      "-----------------------------------------\n",
      "20 0 4\n",
      "1.0 0.84375 0.15625\n",
      "-----------------------------------------\n",
      "20 0 5\n",
      "0.9921259842519685 0.84375 0.14837598425196852\n",
      "-----------------------------------------\n",
      "20 0 3\n",
      "0.7244094488188977 0.8125 -0.08809055118110232\n",
      "-----------------------------------------\n",
      "20 0 4\n",
      "0.6929133858267716 0.8125 -0.11958661417322836\n",
      "-----------------------------------------\n"
     ]
    }
   ],
   "source": [
    "max_n_est = 0\n",
    "max_max_depth = 0\n",
    "min_diff = 1\n",
    "\n",
    "for n_estimators in n_estimators_list:\n",
    "    for max_depth in max_depth_list:\n",
    "        for min_samples_split in min_samples_split_list:\n",
    "            model = ExtraTreesClassifier(n_estimators=n_estimators, max_depth=max_depth, min_samples_split=min_samples_split)\n",
    "            model_name = model.__class__.__name__\n",
    "            model.fit(X_train_scaled, y_train)\n",
    "            train_pred = model.predict(X_train_scaled)\n",
    "            test_pred = model.predict(X_test_scaled)\n",
    "            train_acc = model.score(X_train_scaled, y_train)\n",
    "            test_acc = model.score(X_test_scaled, y_test)\n",
    "            diff = train_acc - test_acc\n",
    "            if (min_diff > diff and test_acc > 0.8):\n",
    "                min_diff = diff\n",
    "                max_n_est = n_estimators\n",
    "                max_max_depthth = max_depth\n",
    "                print(n_estimators, max_max_depth, min_samples_split)\n",
    "                print(train_acc, test_acc, train_acc - test_acc)\n",
    "                print(\"-----------------------------------------\")"
   ]
  },
  {
   "cell_type": "code",
   "execution_count": 19,
   "id": "e4459894-3c6f-4ab0-9d85-08896ba0b244",
   "metadata": {},
   "outputs": [
    {
     "data": {
      "text/plain": [
       "(-0.11958661417322836, 20)"
      ]
     },
     "execution_count": 19,
     "metadata": {},
     "output_type": "execute_result"
    }
   ],
   "source": [
    "min_diff, max_n_est"
   ]
  },
  {
   "cell_type": "code",
   "execution_count": 20,
   "id": "615f7570-9065-471d-9f03-d8501cd131ae",
   "metadata": {},
   "outputs": [
    {
     "name": "stdout",
     "output_type": "stream",
     "text": [
      "ExtraTreesClassifier\n",
      "0.6666666666666666\n",
      "0.8582677165354331 0.84375 0.0145177165354331\n"
     ]
    }
   ],
   "source": [
    "model = ExtraTreesClassifier(n_estimators=60, max_depth=5)\n",
    "model_name = model.__class__.__name__\n",
    "model.fit(X_train_scaled, y_train)\n",
    "train_pred = model.predict(X_train_scaled)\n",
    "test_pred = model.predict(X_test_scaled)\n",
    "train_acc = model.score(X_train_scaled, y_train)\n",
    "test_acc = model.score(X_test_scaled, y_test)\n",
    "print(model_name)\n",
    "print(recall_score(y_test, test_pred, average=\"macro\"))\n",
    "print(train_acc, test_acc, train_acc - test_acc)"
   ]
  },
  {
   "cell_type": "code",
   "execution_count": 21,
   "id": "1593ecc5-9c6d-4cf5-9f30-a3ed1d879753",
   "metadata": {},
   "outputs": [
    {
     "ename": "NameError",
     "evalue": "name 'p' is not defined",
     "output_type": "error",
     "traceback": [
      "\u001b[1;31m---------------------------------------------------------------------------\u001b[0m",
      "\u001b[1;31mNameError\u001b[0m                                 Traceback (most recent call last)",
      "Cell \u001b[1;32mIn[21], line 1\u001b[0m\n\u001b[1;32m----> 1\u001b[0m \u001b[43mp\u001b[49m\u001b[38;5;241m.\u001b[39mplot(data[\u001b[38;5;124m'\u001b[39m\u001b[38;5;124mUsage_kWh\u001b[39m\u001b[38;5;124m'\u001b[39m]\u001b[38;5;241m.\u001b[39msort_values()\u001b[38;5;241m.\u001b[39mreset_index(drop\u001b[38;5;241m=\u001b[39m\u001b[38;5;28;01mTrue\u001b[39;00m), marker\u001b[38;5;241m=\u001b[39m\u001b[38;5;124m'\u001b[39m\u001b[38;5;124mo\u001b[39m\u001b[38;5;124m'\u001b[39m, linestyle\u001b[38;5;241m=\u001b[39m\u001b[38;5;124m'\u001b[39m\u001b[38;5;124m-\u001b[39m\u001b[38;5;124m'\u001b[39m)\n",
      "\u001b[1;31mNameError\u001b[0m: name 'p' is not defined"
     ]
    }
   ],
   "source": [
    "p.plot(data['Usage_kWh'].sort_values().reset_index(drop=True), marker='o', linestyle='-')"
   ]
  },
  {
   "cell_type": "code",
   "execution_count": null,
   "id": "9ec2e6c1-ca87-4dcd-a367-e2a801a3073f",
   "metadata": {},
   "outputs": [],
   "source": []
  }
 ],
 "metadata": {
  "kernelspec": {
   "display_name": "env_one_kernel",
   "language": "python",
   "name": "env_one"
  },
  "language_info": {
   "codemirror_mode": {
    "name": "ipython",
    "version": 3
   },
   "file_extension": ".py",
   "mimetype": "text/x-python",
   "name": "python",
   "nbconvert_exporter": "python",
   "pygments_lexer": "ipython3",
   "version": "3.9.21"
  }
 },
 "nbformat": 4,
 "nbformat_minor": 5
}
