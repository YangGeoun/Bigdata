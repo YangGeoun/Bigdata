{
 "cells": [
  {
   "cell_type": "markdown",
   "id": "bc35bd71-54fc-4311-9b98-6ed60ed71af5",
   "metadata": {},
   "source": [
    "# 머신러닝순서\n",
    "1. 데이터 불러오기\n",
    "2. 종속변수 숫자로 변경\n",
    "3. 독립변수, 종속변수 나누기\n",
    "4. 훈련, 테스트 데이터 나누기\n",
    "5. 스케일링 (정규화)\n",
    "6. 모델 생성\n",
    "7. 모델 평가"
   ]
  },
  {
   "cell_type": "markdown",
   "id": "402f4828-c4c1-417e-bfa5-b32795356412",
   "metadata": {},
   "source": [
    "# 데이터 불러오기"
   ]
  },
  {
   "cell_type": "code",
   "execution_count": 1,
   "id": "da27ab1b-48d4-44a7-9d62-64bd795e13cf",
   "metadata": {},
   "outputs": [
    {
     "name": "stdout",
     "output_type": "stream",
     "text": [
      "<class 'pandas.core.frame.DataFrame'>\n",
      "RangeIndex: 159 entries, 0 to 158\n",
      "Data columns (total 6 columns):\n",
      " #   Column    Non-Null Count  Dtype  \n",
      "---  ------    --------------  -----  \n",
      " 0   Species   159 non-null    object \n",
      " 1   Weight    159 non-null    float64\n",
      " 2   Length    159 non-null    float64\n",
      " 3   Diagonal  159 non-null    float64\n",
      " 4   Height    159 non-null    float64\n",
      " 5   Width     159 non-null    float64\n",
      "dtypes: float64(5), object(1)\n",
      "memory usage: 7.6+ KB\n"
     ]
    },
    {
     "data": {
      "text/html": [
       "<div>\n",
       "<style scoped>\n",
       "    .dataframe tbody tr th:only-of-type {\n",
       "        vertical-align: middle;\n",
       "    }\n",
       "\n",
       "    .dataframe tbody tr th {\n",
       "        vertical-align: top;\n",
       "    }\n",
       "\n",
       "    .dataframe thead th {\n",
       "        text-align: right;\n",
       "    }\n",
       "</style>\n",
       "<table border=\"1\" class=\"dataframe\">\n",
       "  <thead>\n",
       "    <tr style=\"text-align: right;\">\n",
       "      <th></th>\n",
       "      <th>Weight</th>\n",
       "      <th>Length</th>\n",
       "      <th>Diagonal</th>\n",
       "      <th>Height</th>\n",
       "      <th>Width</th>\n",
       "    </tr>\n",
       "  </thead>\n",
       "  <tbody>\n",
       "    <tr>\n",
       "      <th>count</th>\n",
       "      <td>159.000000</td>\n",
       "      <td>159.000000</td>\n",
       "      <td>159.000000</td>\n",
       "      <td>159.000000</td>\n",
       "      <td>159.000000</td>\n",
       "    </tr>\n",
       "    <tr>\n",
       "      <th>mean</th>\n",
       "      <td>398.326415</td>\n",
       "      <td>28.415723</td>\n",
       "      <td>31.227044</td>\n",
       "      <td>8.970994</td>\n",
       "      <td>4.417486</td>\n",
       "    </tr>\n",
       "    <tr>\n",
       "      <th>std</th>\n",
       "      <td>357.978317</td>\n",
       "      <td>10.716328</td>\n",
       "      <td>11.610246</td>\n",
       "      <td>4.286208</td>\n",
       "      <td>1.685804</td>\n",
       "    </tr>\n",
       "    <tr>\n",
       "      <th>min</th>\n",
       "      <td>0.000000</td>\n",
       "      <td>8.400000</td>\n",
       "      <td>8.800000</td>\n",
       "      <td>1.728400</td>\n",
       "      <td>1.047600</td>\n",
       "    </tr>\n",
       "    <tr>\n",
       "      <th>25%</th>\n",
       "      <td>120.000000</td>\n",
       "      <td>21.000000</td>\n",
       "      <td>23.150000</td>\n",
       "      <td>5.944800</td>\n",
       "      <td>3.385650</td>\n",
       "    </tr>\n",
       "    <tr>\n",
       "      <th>50%</th>\n",
       "      <td>273.000000</td>\n",
       "      <td>27.300000</td>\n",
       "      <td>29.400000</td>\n",
       "      <td>7.786000</td>\n",
       "      <td>4.248500</td>\n",
       "    </tr>\n",
       "    <tr>\n",
       "      <th>75%</th>\n",
       "      <td>650.000000</td>\n",
       "      <td>35.500000</td>\n",
       "      <td>39.650000</td>\n",
       "      <td>12.365900</td>\n",
       "      <td>5.584500</td>\n",
       "    </tr>\n",
       "    <tr>\n",
       "      <th>max</th>\n",
       "      <td>1650.000000</td>\n",
       "      <td>63.400000</td>\n",
       "      <td>68.000000</td>\n",
       "      <td>18.957000</td>\n",
       "      <td>8.142000</td>\n",
       "    </tr>\n",
       "  </tbody>\n",
       "</table>\n",
       "</div>"
      ],
      "text/plain": [
       "            Weight      Length    Diagonal      Height       Width\n",
       "count   159.000000  159.000000  159.000000  159.000000  159.000000\n",
       "mean    398.326415   28.415723   31.227044    8.970994    4.417486\n",
       "std     357.978317   10.716328   11.610246    4.286208    1.685804\n",
       "min       0.000000    8.400000    8.800000    1.728400    1.047600\n",
       "25%     120.000000   21.000000   23.150000    5.944800    3.385650\n",
       "50%     273.000000   27.300000   29.400000    7.786000    4.248500\n",
       "75%     650.000000   35.500000   39.650000   12.365900    5.584500\n",
       "max    1650.000000   63.400000   68.000000   18.957000    8.142000"
      ]
     },
     "execution_count": 1,
     "metadata": {},
     "output_type": "execute_result"
    }
   ],
   "source": [
    "import pandas as pd\n",
    "fish = pd.read_csv(\"./data/05_생선_분류_데이터셋.csv\")\n",
    "fish.info()\n",
    "fish.describe()"
   ]
  },
  {
   "cell_type": "markdown",
   "id": "da2afa4d-bb5d-4228-8801-d0f44811e62e",
   "metadata": {},
   "source": [
    "# 종속변수 숫자로 변경"
   ]
  },
  {
   "cell_type": "code",
   "execution_count": 2,
   "id": "ef450846-276d-4216-80b7-96e41113d8a7",
   "metadata": {},
   "outputs": [
    {
     "data": {
      "text/plain": [
       "Species\n",
       "0    56\n",
       "1    35\n",
       "2    20\n",
       "3    17\n",
       "4    14\n",
       "5    11\n",
       "6     6\n",
       "Name: count, dtype: int64"
      ]
     },
     "execution_count": 2,
     "metadata": {},
     "output_type": "execute_result"
    }
   ],
   "source": [
    "species_dic = {\n",
    "    \"Perch\" : 0, \n",
    "    \"Bream\" : 1, \n",
    "    \"Roach\" : 2, \n",
    "    \"Pike\" : 3, \n",
    "    \"Smelt\" : 4, \n",
    "    \"Parkki\" : 5, \n",
    "    \"Whitefish\" : 6, \n",
    "}\n",
    "fish[\"Species\"] = fish[\"Species\"].map(species_dic)\n",
    "fish[\"Species\"].value_counts()"
   ]
  },
  {
   "cell_type": "markdown",
   "id": "be2b7433-739f-4b14-9aa4-13f4013db709",
   "metadata": {},
   "source": [
    "# 독립변수, 종속변수 나누기"
   ]
  },
  {
   "cell_type": "code",
   "execution_count": 3,
   "id": "d4e67053-b252-44ec-b5ef-f17d99a755cd",
   "metadata": {},
   "outputs": [
    {
     "data": {
      "text/plain": [
       "((159, 5), (159,))"
      ]
     },
     "execution_count": 3,
     "metadata": {},
     "output_type": "execute_result"
    }
   ],
   "source": [
    "# 위 아래 편한거 1개 쓰기 \n",
    "X = fish.iloc[:,1:]\n",
    "y = fish[\"Species\"]\n",
    "X.shape, y.shape\n",
    "\n",
    "X = fish[[\"Weight\", \"Length\", \"Diagonal\", \"Height\", \"Width\"]]     # [] 가 2중으로 되어있음 2차원 행렬이라서\n",
    "y = fish[\"Species\"]\n",
    "X.shape, y.shape"
   ]
  },
  {
   "cell_type": "markdown",
   "id": "11ac0fc4-c4f0-4eae-870b-ef3632fd2b8e",
   "metadata": {},
   "source": [
    "# 훈련, 테스트 데이터 나누기"
   ]
  },
  {
   "cell_type": "code",
   "execution_count": 4,
   "id": "9469d3a1-6b90-4e7c-96ef-6c63c257ab41",
   "metadata": {},
   "outputs": [],
   "source": [
    "from sklearn.model_selection import train_test_split\n",
    "X_train, X_test, y_train, y_test = train_test_split(X, y, test_size=0.2, random_state=42)"
   ]
  },
  {
   "cell_type": "markdown",
   "id": "b1bfc2c8-eadc-4204-becc-0988b8fb49b9",
   "metadata": {},
   "source": [
    "# 스케일링 (정규화)"
   ]
  },
  {
   "cell_type": "code",
   "execution_count": 5,
   "id": "5ff4b50e-c054-4a01-ae75-b2a86c9727f9",
   "metadata": {},
   "outputs": [],
   "source": [
    "from sklearn.preprocessing import StandardScaler\n",
    "ss = StandardScaler()\n",
    "ss.fit(X_train)\n",
    "X_train_scaled = ss.transform(X_train)\n",
    "X_test_scaled = ss.transform(X_test)"
   ]
  },
  {
   "cell_type": "markdown",
   "id": "7836bdf3-7ba4-4a3e-8989-a625c9a6c962",
   "metadata": {},
   "source": [
    "# 모델 생성"
   ]
  },
  {
   "cell_type": "code",
   "execution_count": 6,
   "id": "370a5499-5a86-4666-9de5-e75cfefb0890",
   "metadata": {},
   "outputs": [],
   "source": [
    "from sklearn.ensemble import RandomForestClassifier, ExtraTreesClassifier, HistGradientBoostingClassifier, GradientBoostingClassifier\n",
    "from xgboost import XGBClassifier\n",
    "rf = RandomForestClassifier(random_state=42)\n",
    "et = ExtraTreesClassifier(random_state=42)\n",
    "gb = GradientBoostingClassifier(random_state=42)\n",
    "hgb = HistGradientBoostingClassifier(random_state=42)\n",
    "xgb = XGBClassifier(random_state=42)\n",
    "\n",
    "model_list = [rf, et, gb, hgb, xgb]"
   ]
  },
  {
   "cell_type": "markdown",
   "id": "82da3439-5251-4e7f-a738-a367bf90d3b4",
   "metadata": {},
   "source": [
    "# 훈련 평가"
   ]
  },
  {
   "cell_type": "code",
   "execution_count": 14,
   "id": "3a5dc52a-6539-46c1-a5d6-c3e759a053bc",
   "metadata": {},
   "outputs": [
    {
     "name": "stdout",
     "output_type": "stream",
     "text": [
      "RandomForestClassifier\n",
      "1.0 0.8125 0.1875\n",
      "0.8125 0.8125 0.8125 0.8125\n",
      "-----------------------------------------\n",
      "ExtraTreesClassifier\n",
      "1.0 0.84375 0.15625\n",
      "0.84375 0.84375 0.84375 0.84375\n",
      "-----------------------------------------\n",
      "GradientBoostingClassifier\n",
      "1.0 0.8125 0.1875\n",
      "0.8125 0.8125 0.8125 0.8125\n",
      "-----------------------------------------\n",
      "HistGradientBoostingClassifier\n",
      "0.9448818897637795 0.78125 0.16363188976377951\n",
      "0.78125 0.78125 0.78125 0.78125\n",
      "-----------------------------------------\n",
      "XGBClassifier\n",
      "1.0 0.75 0.25\n",
      "0.75 0.75 0.75 0.75\n",
      "-----------------------------------------\n"
     ]
    }
   ],
   "source": [
    "from sklearn.metrics import accuracy_score, precision_score, recall_score, f1_score\n",
    "\n",
    "for model in model_list:\n",
    "    model_name = model.__class__.__name__\n",
    "    model.fit(X_train_scaled, y_train)\n",
    "    train_pred = model.predict(X_train_scaled)\n",
    "    test_pred = model.predict(X_test_scaled)\n",
    "    train_acc = model.score(X_train_scaled, y_train)\n",
    "    test_acc = model.score(X_test_scaled, y_test)\n",
    "    pre = precision_score(y_test, test_pred, average=\"micro\")\n",
    "    rec = recall_score(y_test, test_pred, average=\"micro\")\n",
    "    f1 = f1_score(y_test, test_pred, average=\"micro\")\n",
    "    print(model_name)\n",
    "    print(train_acc, test_acc, train_acc - test_acc)\n",
    "    print(test_acc, pre, rec, f1)\n",
    "    print(\"-----------------------------------------\")"
   ]
  },
  {
   "cell_type": "code",
   "execution_count": 8,
   "id": "2184e852-470f-4ce5-a5f4-bd116c7dc3e4",
   "metadata": {},
   "outputs": [],
   "source": [
    "X_train, X_test, y_train, y_test = train_test_split(X, y, test_size=0.2, random_state=42)"
   ]
  },
  {
   "cell_type": "code",
   "execution_count": 9,
   "id": "cfa20a84-5487-4cfc-8349-b8a1310fba85",
   "metadata": {},
   "outputs": [],
   "source": [
    "X_train, X_test, y_train, y_test = train_test_split(X, y, test_size=0.2, random_state=42)"
   ]
  },
  {
   "cell_type": "code",
   "execution_count": 10,
   "id": "c021eb65-0780-4229-ac1b-394a4fe0291f",
   "metadata": {},
   "outputs": [],
   "source": [
    "X_train, X_test, y_train, y_test = train_test_split(X, y, test_size=0.2, random_state=42)"
   ]
  }
 ],
 "metadata": {
  "kernelspec": {
   "display_name": "dg_env_all_kernel",
   "language": "python",
   "name": "dg_env_all"
  },
  "language_info": {
   "codemirror_mode": {
    "name": "ipython",
    "version": 3
   },
   "file_extension": ".py",
   "mimetype": "text/x-python",
   "name": "python",
   "nbconvert_exporter": "python",
   "pygments_lexer": "ipython3",
   "version": "3.9.21"
  }
 },
 "nbformat": 4,
 "nbformat_minor": 5
}
