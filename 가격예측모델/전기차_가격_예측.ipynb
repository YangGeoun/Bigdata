{
 "cells": [
  {
   "cell_type": "code",
   "execution_count": 96,
   "id": "4be7570a-564d-43f9-a156-06c90b56135d",
   "metadata": {},
   "outputs": [],
   "source": [
    "import pandas as pd"
   ]
  },
  {
   "cell_type": "code",
   "execution_count": 97,
   "id": "19f33749-4de0-429f-8c64-0aab13db5f81",
   "metadata": {},
   "outputs": [],
   "source": [
    "### 시각화를 위한 라이브러리\n",
    "# - 파이썬 시각화에서 가장 기본적인 시각화 라이브러리\n",
    "import matplotlib.pyplot as plt\n",
    "\n",
    "### 한글처리\n",
    "from matplotlib import font_manager, rc\n",
    "\n",
    "### 운영체제 확인 라이브러리\n",
    "import platform\n",
    "\n",
    "### 시각화 시 마이너스(-, 음수) 기호 깨짐 방지\n",
    "plt.rcParams[\"axes.unicode_minus\"] = False\n",
    "\n",
    "### OS별 한글처리\n",
    "# - 윈도우 운영체게\n",
    "if platform.system() == \"Windows\" :\n",
    "    # path = \"c:/Windows/Fonts/malgun.ttf\"\n",
    "    # font_name = font_manager.FontProperties(fname=path).get_name()\n",
    "    # rc(\"font\", family = font_name)\n",
    "    \n",
    "    ### 또는 아래처럼 한줄로도 가능 (아래 한글처리를 주로 사용합니다.)\n",
    "    plt.rc(\"font\", family = \"Malgun Gothic\")\n",
    "\n",
    "# - Mac 운영체제\n",
    "elif platform.system() == \"Darwin\" :\n",
    "    rc(\"font\", family = \"AppleGothic\")\n",
    "    \n",
    "else :\n",
    "    print(\"넌 누구?\")"
   ]
  },
  {
   "cell_type": "code",
   "execution_count": 98,
   "id": "17bd9d79-50c5-4171-bf01-6ce0645c3122",
   "metadata": {},
   "outputs": [],
   "source": [
    "df = pd.read_csv(\"./data/train.csv\")\n",
    "df_test = pd.read_csv(\"./data/test.csv\")"
   ]
  },
  {
   "cell_type": "code",
   "execution_count": 99,
   "id": "e8054b8e-eb25-4a44-bdeb-dc1f71e2ac93",
   "metadata": {},
   "outputs": [
    {
     "name": "stdout",
     "output_type": "stream",
     "text": [
      "<class 'pandas.core.frame.DataFrame'>\n",
      "RangeIndex: 7497 entries, 0 to 7496\n",
      "Data columns (total 11 columns):\n",
      " #   Column    Non-Null Count  Dtype  \n",
      "---  ------    --------------  -----  \n",
      " 0   ID        7497 non-null   object \n",
      " 1   제조사       7497 non-null   object \n",
      " 2   모델        7497 non-null   object \n",
      " 3   차량상태      7497 non-null   object \n",
      " 4   배터리용량     4786 non-null   float64\n",
      " 5   구동방식      7497 non-null   object \n",
      " 6   주행거리(km)  7497 non-null   int64  \n",
      " 7   보증기간(년)   7497 non-null   int64  \n",
      " 8   사고이력      7497 non-null   object \n",
      " 9   연식(년)     7497 non-null   int64  \n",
      " 10  가격(백만원)   7497 non-null   float64\n",
      "dtypes: float64(2), int64(3), object(6)\n",
      "memory usage: 644.4+ KB\n"
     ]
    },
    {
     "data": {
      "text/html": [
       "<div>\n",
       "<style scoped>\n",
       "    .dataframe tbody tr th:only-of-type {\n",
       "        vertical-align: middle;\n",
       "    }\n",
       "\n",
       "    .dataframe tbody tr th {\n",
       "        vertical-align: top;\n",
       "    }\n",
       "\n",
       "    .dataframe thead th {\n",
       "        text-align: right;\n",
       "    }\n",
       "</style>\n",
       "<table border=\"1\" class=\"dataframe\">\n",
       "  <thead>\n",
       "    <tr style=\"text-align: right;\">\n",
       "      <th></th>\n",
       "      <th>배터리용량</th>\n",
       "      <th>주행거리(km)</th>\n",
       "      <th>보증기간(년)</th>\n",
       "      <th>연식(년)</th>\n",
       "      <th>가격(백만원)</th>\n",
       "    </tr>\n",
       "  </thead>\n",
       "  <tbody>\n",
       "    <tr>\n",
       "      <th>count</th>\n",
       "      <td>4786.000000</td>\n",
       "      <td>7497.000000</td>\n",
       "      <td>7497.000000</td>\n",
       "      <td>7497.000000</td>\n",
       "      <td>7497.000000</td>\n",
       "    </tr>\n",
       "    <tr>\n",
       "      <th>mean</th>\n",
       "      <td>69.397187</td>\n",
       "      <td>44287.979458</td>\n",
       "      <td>4.960918</td>\n",
       "      <td>0.222489</td>\n",
       "      <td>62.331949</td>\n",
       "    </tr>\n",
       "    <tr>\n",
       "      <th>std</th>\n",
       "      <td>15.283635</td>\n",
       "      <td>55204.064386</td>\n",
       "      <td>3.155342</td>\n",
       "      <td>0.569232</td>\n",
       "      <td>36.646759</td>\n",
       "    </tr>\n",
       "    <tr>\n",
       "      <th>min</th>\n",
       "      <td>46.000000</td>\n",
       "      <td>3.000000</td>\n",
       "      <td>0.000000</td>\n",
       "      <td>0.000000</td>\n",
       "      <td>9.000000</td>\n",
       "    </tr>\n",
       "    <tr>\n",
       "      <th>25%</th>\n",
       "      <td>56.359000</td>\n",
       "      <td>5465.000000</td>\n",
       "      <td>2.000000</td>\n",
       "      <td>0.000000</td>\n",
       "      <td>34.390000</td>\n",
       "    </tr>\n",
       "    <tr>\n",
       "      <th>50%</th>\n",
       "      <td>68.125000</td>\n",
       "      <td>17331.000000</td>\n",
       "      <td>5.000000</td>\n",
       "      <td>0.000000</td>\n",
       "      <td>56.000000</td>\n",
       "    </tr>\n",
       "    <tr>\n",
       "      <th>75%</th>\n",
       "      <td>78.227000</td>\n",
       "      <td>61252.000000</td>\n",
       "      <td>8.000000</td>\n",
       "      <td>0.000000</td>\n",
       "      <td>80.050000</td>\n",
       "    </tr>\n",
       "    <tr>\n",
       "      <th>max</th>\n",
       "      <td>99.800000</td>\n",
       "      <td>199827.000000</td>\n",
       "      <td>10.000000</td>\n",
       "      <td>2.000000</td>\n",
       "      <td>161.090000</td>\n",
       "    </tr>\n",
       "  </tbody>\n",
       "</table>\n",
       "</div>"
      ],
      "text/plain": [
       "             배터리용량       주행거리(km)      보증기간(년)        연식(년)      가격(백만원)\n",
       "count  4786.000000    7497.000000  7497.000000  7497.000000  7497.000000\n",
       "mean     69.397187   44287.979458     4.960918     0.222489    62.331949\n",
       "std      15.283635   55204.064386     3.155342     0.569232    36.646759\n",
       "min      46.000000       3.000000     0.000000     0.000000     9.000000\n",
       "25%      56.359000    5465.000000     2.000000     0.000000    34.390000\n",
       "50%      68.125000   17331.000000     5.000000     0.000000    56.000000\n",
       "75%      78.227000   61252.000000     8.000000     0.000000    80.050000\n",
       "max      99.800000  199827.000000    10.000000     2.000000   161.090000"
      ]
     },
     "execution_count": 99,
     "metadata": {},
     "output_type": "execute_result"
    }
   ],
   "source": [
    "df.info()\n",
    "df.describe()"
   ]
  },
  {
   "cell_type": "code",
   "execution_count": 100,
   "id": "db0e8d8c-fb67-4a0a-a587-f5bb1f596aaa",
   "metadata": {},
   "outputs": [
    {
     "data": {
      "image/png": "[encoded data removed]",
      "text/plain": [
       "<Figure size 640x480 with 1 Axes>"
      ]
     },
     "metadata": {},
     "output_type": "display_data"
    }
   ],
   "source": [
    "df.boxplot()\n",
    "plt.show()"
   ]
  },
  {
   "cell_type": "code",
   "execution_count": 101,
   "id": "31006723-c668-4af9-9a88-f46acf757669",
   "metadata": {},
   "outputs": [
    {
     "data": {
      "image/png": "[encoded data removed]",
      "text/plain": [
       "<Figure size 640x480 with 1 Axes>"
      ]
     },
     "metadata": {},
     "output_type": "display_data"
    }
   ],
   "source": [
    "df[[\"연식(년)\", '가격(백만원)']].boxplot()\n",
    "plt.show()"
   ]
  },
  {
   "cell_type": "code",
   "execution_count": 102,
   "id": "c00b623b-8fb3-46e4-b54d-009f17ff5ed6",
   "metadata": {},
   "outputs": [
    {
     "data": {
      "text/plain": [
       "array(['TayGTS'], dtype=object)"
      ]
     },
     "execution_count": 102,
     "metadata": {},
     "output_type": "execute_result"
    }
   ],
   "source": [
    "df[df['가격(백만원)'] > 140][\"모델\"].unique()"
   ]
  },
  {
   "cell_type": "code",
   "execution_count": 103,
   "id": "9d7ff948-79f6-482d-a5a6-c1c921c4b26d",
   "metadata": {
    "scrolled": true
   },
   "outputs": [
    {
     "data": {
      "text/plain": [
       "array([159.66, 151.  , 160.73, 160.16, 159.71, 160.08, 155.97, 151.11,\n",
       "       156.5 , 151.04, 160.09, 156.19, 155.98, 160.06, 160.19, 151.  ,\n",
       "       151.07, 160.84, 155.8 , 159.61, 156.29, 160.41, 160.15, 160.69,\n",
       "       156.31, 160.82, 160.12, 155.8 , 160.15, 160.22, 160.56, 160.6 ,\n",
       "       159.62, 159.6 , 160.61, 159.  , 160.05, 160.24, 159.53, 160.05,\n",
       "       159.26, 159.6 , 160.  , 160.79, 160.82, 151.21, 155.97, 160.42,\n",
       "       151.06, 151.89, 151.43, 160.  , 151.11, 151.  , 155.8 , 159.71,\n",
       "       159.26, 159.48, 160.52, 160.  , 160.95, 159.62, 151.11, 159.55,\n",
       "       159.44, 160.  , 159.88, 151.68, 160.  , 151.19, 151.06, 155.87,\n",
       "       151.88, 160.09, 159.3 , 160.  , 160.6 , 156.38, 160.75, 156.95,\n",
       "       160.  , 160.38, 160.27, 160.  , 160.11, 160.  , 155.88, 160.99,\n",
       "       160.  , 151.91, 159.73, 160.12, 160.44, 160.01, 151.03, 160.  ,\n",
       "       160.31, 151.02, 159.28, 159.  , 160.  , 160.36, 160.18, 160.04,\n",
       "       159.13, 159.32, 159.01, 160.  , 155.93, 159.12, 160.44, 159.9 ,\n",
       "       160.  , 155.99, 156.77, 159.1 , 159.19, 160.  , 155.97, 156.19,\n",
       "       160.  , 160.35, 155.8 , 160.17, 159.5 , 160.78, 159.74, 160.  ,\n",
       "       160.28, 159.9 , 156.1 , 160.11, 159.11, 159.42, 156.42, 155.8 ,\n",
       "       151.41, 160.  , 159.26, 159.26, 160.96, 160.02, 159.89, 160.17,\n",
       "       160.  , 155.86, 159.6 , 160.17, 151.26, 160.27, 160.  , 160.02,\n",
       "       159.05, 160.  , 160.06, 160.24, 160.09, 160.09, 160.09, 159.73,\n",
       "       160.  , 151.98, 159.26, 160.56, 160.04, 151.03, 160.  , 160.  ,\n",
       "       160.13, 151.05, 159.01, 160.75, 159.03, 155.87, 155.8 , 156.24,\n",
       "       155.8 , 160.  , 159.33, 159.29, 160.44, 151.  , 160.05, 159.11,\n",
       "       155.8 , 160.21, 160.12, 160.94, 151.3 , 160.48, 156.2 , 151.07,\n",
       "       160.09, 160.  , 151.11, 151.  , 160.  , 160.12, 159.16, 156.15,\n",
       "       159.78, 155.82, 151.3 , 160.  , 160.05, 159.72, 160.  , 159.12,\n",
       "       159.09, 159.05, 160.07, 151.47, 159.05, 160.03, 159.61, 160.  ,\n",
       "       161.09, 151.01, 160.16, 159.62, 160.08, 155.84, 159.87, 159.17,\n",
       "       160.49, 159.32, 160.57, 151.08, 160.91, 160.  , 159.  , 160.51,\n",
       "       159.99, 160.14, 160.  , 160.86, 160.43, 155.88, 160.48, 160.06,\n",
       "       160.  , 160.  , 160.  , 155.95, 159.07, 160.56, 160.83, 159.08,\n",
       "       155.84, 160.  , 160.  , 160.05, 160.96, 159.09, 156.53, 155.88,\n",
       "       156.18, 160.59, 159.64, 160.72, 160.  , 160.84, 156.59, 159.03,\n",
       "       160.05, 155.8 , 156.14, 155.84, 160.  , 159.6 , 160.05, 160.34,\n",
       "       160.87, 156.25, 159.03, 159.25, 159.86, 160.02, 160.37, 160.06,\n",
       "       155.93, 151.03, 160.02, 156.18, 160.  , 151.93, 160.06, 160.14,\n",
       "       160.  , 159.07, 159.75, 160.44, 160.03, 155.88, 160.62, 160.87,\n",
       "       160.62, 160.  , 151.06, 156.37, 160.  , 151.17, 155.8 , 160.03,\n",
       "       155.8 , 151.  , 160.03, 160.55, 156.74, 160.69, 160.  , 160.16,\n",
       "       152.02, 159.28, 159.  , 160.8 , 160.08, 160.44, 159.68, 160.06,\n",
       "       160.16, 156.57, 151.04, 160.22, 159.01, 160.  , 160.99, 160.11,\n",
       "       155.96, 159.12, 159.09, 160.46, 159.69, 160.65, 160.09, 160.61,\n",
       "       159.  , 151.07, 160.09, 151.67, 159.31, 159.75, 160.  , 159.29,\n",
       "       159.  , 156.61, 151.78, 159.74, 160.14, 160.05, 160.  , 156.22,\n",
       "       156.08, 160.07, 159.  , 159.08, 160.78, 160.62, 159.08, 160.08,\n",
       "       160.4 , 151.51, 160.84, 155.86, 151.01, 160.05, 160.  , 151.01,\n",
       "       160.24, 160.04, 160.16, 159.48, 161.01, 156.47, 155.8 ])"
      ]
     },
     "execution_count": 103,
     "metadata": {},
     "output_type": "execute_result"
    }
   ],
   "source": [
    "df[df['모델'] == 'TayGTS']['가격(백만원)'].values"
   ]
  },
  {
   "cell_type": "code",
   "execution_count": 104,
   "id": "8b6f47b9-d826-407d-a5a6-220622495681",
   "metadata": {},
   "outputs": [
    {
     "data": {
      "text/plain": [
       "Index(['ID', '제조사', '모델', '차량상태', '배터리용량', '구동방식', '주행거리(km)', '보증기간(년)',\n",
       "       '사고이력', '연식(년)', '가격(백만원)'],\n",
       "      dtype='object')"
      ]
     },
     "execution_count": 104,
     "metadata": {},
     "output_type": "execute_result"
    }
   ],
   "source": [
    "df.columns"
   ]
  },
  {
   "cell_type": "code",
   "execution_count": 105,
   "id": "ebe814be-62a1-458f-8376-1eec6397dc7e",
   "metadata": {},
   "outputs": [
    {
     "name": "stdout",
     "output_type": "stream",
     "text": [
      "['TRAIN_0000' 'TRAIN_0001' 'TRAIN_0002' 'TRAIN_0003' 'TRAIN_0004'\n",
      " 'TRAIN_0005' 'TRAIN_0006' 'TRAIN_0007' 'TRAIN_0008' 'TRAIN_0009']\n",
      "['P사' 'K사' 'A사' 'B사' 'H사' 'T사' 'V사']\n",
      "['TayGTS' 'Niro' 'eT' 'RSeTGT' 'i5' 'ION6' 'MS' 'MY' 'Q4eT' 'ID4']\n",
      "['Nearly New' 'Brand New' 'Pre-Owned']\n",
      "[86.077 56.    91.2      nan 61.018 58.162 78.227 58.982 68.125 76.093]\n",
      "['AWD' 'FWD' 'RWD']\n",
      "[ 13642  10199   2361  21683 178205 103100  19395  30583   2226   3683]\n",
      "[ 0  6  7  3  1  5  8 10  2  4]\n",
      "['No' 'Yes']\n",
      "[2 0 1]\n",
      "[159.66  28.01  66.27  99.16  62.02  37.02  83.42  99.66  74.06  59.66]\n"
     ]
    }
   ],
   "source": [
    "for col in df.columns:\n",
    "    print(df[col].unique()[:10])"
   ]
  },
  {
   "cell_type": "code",
   "execution_count": 106,
   "id": "6ffa88a0-dc2b-4887-8187-80320dd0a68d",
   "metadata": {},
   "outputs": [],
   "source": [
    "df.loc[df['사고이력'] == 'Yes', '사고이력'] = 1\n",
    "df.loc[df['사고이력'] == 'No', '사고이력'] = 0\n",
    "df[\"사고이력\"] = df[\"사고이력\"].astype(int)\n",
    "df_test.loc[df_test['사고이력'] == 'Yes', '사고이력'] = 1\n",
    "df_test.loc[df_test['사고이력'] == 'No', '사고이력'] = 0\n",
    "df_test[\"사고이력\"] = df_test[\"사고이력\"].astype(int)"
   ]
  },
  {
   "cell_type": "code",
   "execution_count": 107,
   "id": "7094a557-9102-4e2a-9305-b29b83a11224",
   "metadata": {},
   "outputs": [],
   "source": [
    "df[\"사고이력\"] = df[\"사고이력\"].astype(int)"
   ]
  },
  {
   "cell_type": "code",
   "execution_count": 108,
   "id": "0d9aba36-8918-45e0-b18e-5eb405e44ee5",
   "metadata": {},
   "outputs": [],
   "source": [
    "df.loc[df['차량상태'] == 'Brand New', '차량상태'] = 0\n",
    "df.loc[df['차량상태'] == 'Nearly New', '차량상태'] = 1\n",
    "df.loc[df['차량상태'] == 'Pre-Owned', '차량상태'] = 2\n",
    "df[\"차량상태\"] = df[\"차량상태\"].astype(int)\n",
    "df_test.loc[df_test['차량상태'] == 'Brand New', '차량상태'] = 0\n",
    "df_test.loc[df_test['차량상태'] == 'Nearly New', '차량상태'] = 1\n",
    "df_test.loc[df_test['차량상태'] == 'Pre-Owned', '차량상태'] = 2\n",
    "df_test[\"차량상태\"] = df_test[\"차량상태\"].astype(int)"
   ]
  },
  {
   "cell_type": "code",
   "execution_count": 109,
   "id": "3c6d21f0-9296-48bb-8fbf-b11555eee195",
   "metadata": {},
   "outputs": [],
   "source": [
    "df.loc[df['구동방식'] == 'AWD', '구동방식'] = 0\n",
    "df.loc[df['구동방식'] == 'RWD', '구동방식'] = 1\n",
    "df.loc[df['구동방식'] == 'FWD', '구동방식'] = 2\n",
    "df[\"구동방식\"] = df[\"구동방식\"].astype(int)\n",
    "df_test.loc[df_test['구동방식'] == 'AWD', '구동방식'] = 0\n",
    "df_test.loc[df_test['구동방식'] == 'RWD', '구동방식'] = 1\n",
    "df_test.loc[df_test['구동방식'] == 'FWD', '구동방식'] = 2\n",
    "df_test[\"구동방식\"] = df_test[\"구동방식\"].astype(int)"
   ]
  },
  {
   "cell_type": "code",
   "execution_count": 110,
   "id": "715f3136-5d2f-46ea-a4c5-900598445fdf",
   "metadata": {},
   "outputs": [
    {
     "name": "stdout",
     "output_type": "stream",
     "text": [
      "<class 'pandas.core.frame.DataFrame'>\n",
      "RangeIndex: 7497 entries, 0 to 7496\n",
      "Data columns (total 11 columns):\n",
      " #   Column    Non-Null Count  Dtype  \n",
      "---  ------    --------------  -----  \n",
      " 0   ID        7497 non-null   object \n",
      " 1   제조사       7497 non-null   object \n",
      " 2   모델        7497 non-null   object \n",
      " 3   차량상태      7497 non-null   int32  \n",
      " 4   배터리용량     4786 non-null   float64\n",
      " 5   구동방식      7497 non-null   int32  \n",
      " 6   주행거리(km)  7497 non-null   int64  \n",
      " 7   보증기간(년)   7497 non-null   int64  \n",
      " 8   사고이력      7497 non-null   int32  \n",
      " 9   연식(년)     7497 non-null   int64  \n",
      " 10  가격(백만원)   7497 non-null   float64\n",
      "dtypes: float64(2), int32(3), int64(3), object(3)\n",
      "memory usage: 556.5+ KB\n"
     ]
    }
   ],
   "source": [
    "df.info()"
   ]
  },
  {
   "cell_type": "code",
   "execution_count": 111,
   "id": "01170c5d-9762-46fd-9fe5-5acf21b7b72b",
   "metadata": {},
   "outputs": [
    {
     "name": "stdout",
     "output_type": "stream",
     "text": [
      "<class 'pandas.core.frame.DataFrame'>\n",
      "RangeIndex: 7497 entries, 0 to 7496\n",
      "Data columns (total 9 columns):\n",
      " #   Column    Non-Null Count  Dtype  \n",
      "---  ------    --------------  -----  \n",
      " 0   모델        7497 non-null   object \n",
      " 1   차량상태      7497 non-null   int32  \n",
      " 2   배터리용량     4786 non-null   float64\n",
      " 3   구동방식      7497 non-null   int32  \n",
      " 4   주행거리(km)  7497 non-null   int64  \n",
      " 5   보증기간(년)   7497 non-null   int64  \n",
      " 6   사고이력      7497 non-null   int32  \n",
      " 7   연식(년)     7497 non-null   int64  \n",
      " 8   가격(백만원)   7497 non-null   float64\n",
      "dtypes: float64(2), int32(3), int64(3), object(1)\n",
      "memory usage: 439.4+ KB\n"
     ]
    }
   ],
   "source": [
    "df.drop(columns=[\"ID\", \"제조사\"], inplace=True)\n",
    "df_test.drop(columns=[\"ID\", \"제조사\"], inplace=True)\n",
    "df.info()"
   ]
  },
  {
   "cell_type": "code",
   "execution_count": 112,
   "id": "460b47c2-9911-4d70-9063-99bc791df38a",
   "metadata": {},
   "outputs": [
    {
     "data": {
      "text/plain": [
       "array([   nan, 78.227, 90.   ])"
      ]
     },
     "execution_count": 112,
     "metadata": {},
     "output_type": "execute_result"
    }
   ],
   "source": [
    "df[(df[\"모델\"] == \"RSeTGT\")][\"배터리용량\"].unique()"
   ]
  },
  {
   "cell_type": "code",
   "execution_count": 113,
   "id": "7fbeb8fb-301e-44de-9aba-fdabc1d3992d",
   "metadata": {},
   "outputs": [
    {
     "data": {
      "text/plain": [
       "array([90., nan])"
      ]
     },
     "execution_count": 113,
     "metadata": {},
     "output_type": "execute_result"
    }
   ],
   "source": [
    "df[(df[\"모델\"] == \"RSeTGT\") & (df[\"보증기간(년)\"] > 7)][\"배터리용량\"].unique()"
   ]
  },
  {
   "cell_type": "code",
   "execution_count": 114,
   "id": "a695bd40-f2a4-44e8-8144-76b09e5cff99",
   "metadata": {},
   "outputs": [
    {
     "data": {
      "text/plain": [
       "array([   nan, 78.227])"
      ]
     },
     "execution_count": 114,
     "metadata": {},
     "output_type": "execute_result"
    }
   ],
   "source": [
    "df[(df[\"모델\"] == \"RSeTGT\") & (df[\"보증기간(년)\"] < 7)][\"배터리용량\"].unique()"
   ]
  },
  {
   "cell_type": "code",
   "execution_count": 116,
   "id": "a8dc65a2-f093-4e5b-8523-b7ee3606d734",
   "metadata": {},
   "outputs": [
    {
     "name": "stdout",
     "output_type": "stream",
     "text": [
      "[86.077 64.683    nan 76.156 93.4   73.11  67.378 70.185 90.    82.634\n",
      " 79.329]\n",
      "[56.    58.982    nan 56.623 46.    50.096 48.093 90.    46.169]\n",
      "[91.2   77.46  80.688 95.    65.791 74.362    nan 68.532 84.05  71.388\n",
      " 87.552]\n",
      "[   nan 78.227 90.   ]\n",
      "[61.018    nan 56.234 58.577 71.841 66.208 63.56  74.834 68.967 90.   ]\n",
      "[58.162    nan 65.739 71.332 53.602 90.    60.585 55.836 68.479 63.11 ]\n",
      "[   nan 99.8   88.474 96.    72.139 69.253 78.276 75.145 84.935 92.16\n",
      " 81.537]\n",
      "[   nan 58.707 69.12  90.    63.701 54.104 51.94  61.153 56.359 66.355]\n",
      "[   nan 56.788 72.548 59.154 66.861 69.646 75.571 61.619 90.    64.186]\n",
      "[   nan 68.125 70.963 65.4   53.325 90.    57.861 55.547 60.272 62.784]\n",
      "[76.093    nan 90.   ]\n",
      "[56.    46.169 58.982 50.096    nan 48.093 46.    56.623 90.   ]\n",
      "[nan 90.]\n",
      "[   nan 96.    72.139 99.8   69.253 75.145 81.537 88.474 92.16  78.276]\n",
      "[88.08 75.87 52.78 48.27 58.77 83.08   nan 75.64 52.06 79.6  58.35 69.38\n",
      " 75.5  57.63 46.13 52.3  58.36 47.84 66.14 68.92 72.   68.47 86.68 46.42\n",
      " 75.02 52.75 65.6  65.4  52.26 59.85 49.28 54.1  58.26 65.21 62.1  59.92\n",
      " 46.21 55.98 66.27 63.89 52.18 70.46 85.96 47.89 61.58 48.13 63.74 52.73\n",
      " 60.95 55.87 46.15 76.64 60.54 64.41 66.24 51.22 56.07 62.4  69.15 55.68\n",
      " 62.81 52.46 47.74 58.5  58.11 59.7  48.54 49.22 68.66 57.88 64.88 46.26\n",
      " 63.4  58.88 60.8  63.99 79.85 85.63 83.48 67.28 74.2  86.02 63.19 51.5\n",
      " 46.93 57.83 46.34 54.74 61.17 78.11 74.52 47.96 72.58 58.29 70.63 62.78\n",
      " 74.82 60.15 64.42 66.85 59.64 66.2  76.74 46.09 56.41 49.97 72.96 67.17]\n",
      "[nan 90.]\n",
      "[   nan 68.488 90.   ]\n",
      "[   nan 61.153 58.707 66.355 63.701 69.12  90.    56.359 54.104 51.94 ]\n",
      "[56. nan 46. 90.]\n",
      "[58.162    nan 90.    53.602 63.11  71.332 65.739 55.836 68.479 60.585]\n",
      "[   nan 67.268 54.849 59.515 64.578 90.    70.071 57.134 72.991 61.994]\n"
     ]
    }
   ],
   "source": [
    "for model in df[\"모델\"].unique():\n",
    "    print(df[(df[\"모델\"] == model)][\"배터리용량\"].unique())"
   ]
  },
  {
   "cell_type": "code",
   "execution_count": 53,
   "id": "9d9c30ae-e92b-46c7-b94c-226d7a09c08d",
   "metadata": {
    "scrolled": true
   },
   "outputs": [],
   "source": [
    "for model in df[\"모델\"].unique():\n",
    "    sum = 0\n",
    "    count = 0\n",
    "    for capacity in df[(df[\"모델\"] == model)][\"배터리용량\"]:\n",
    "        if (capacity> 0):\n",
    "            sum += capacity\n",
    "            count += 1\n",
    "    avg = sum / count\n",
    "    print(avg)\n",
    "    df.loc[(df['모델'] == model) & (df['배터리용량'].isna()), '배터리용량'] = avg\n",
    "\n",
    "# for model in df_test[\"모델\"].unique():\n",
    "#     sum = 0\n",
    "#     count = 0\n",
    "#     for capacity in df_test[(df_test[\"모델\"] == model)][\"배터리용량\"]:\n",
    "#         if (capacity> 0):\n",
    "#             sum += capacity\n",
    "#             count += 1\n",
    "#     avg = sum / count\n",
    "#     print(avg)\n",
    "#     df_test.loc[(df_test['모델'] == model) & (df_test['배터리용량'].isna()), '배터리용량'] = avg"
   ]
  },
  {
   "cell_type": "code",
   "execution_count": null,
   "id": "f3341116-9d37-47d0-93b7-44a5061c1dd7",
   "metadata": {},
   "outputs": [],
   "source": [
    "X = df.loc[조건,컬럼명]\n",
    "y = df[\"종속변수명\"]\n",
    "\n"
   ]
  },
  {
   "cell_type": "code",
   "execution_count": 54,
   "id": "b4d01afc-56da-466c-8ebd-2e53c3091579",
   "metadata": {},
   "outputs": [
    {
     "name": "stdout",
     "output_type": "stream",
     "text": [
      "<class 'pandas.core.frame.DataFrame'>\n",
      "RangeIndex: 7497 entries, 0 to 7496\n",
      "Data columns (total 9 columns):\n",
      " #   Column    Non-Null Count  Dtype  \n",
      "---  ------    --------------  -----  \n",
      " 0   모델        7497 non-null   object \n",
      " 1   차량상태      7497 non-null   int32  \n",
      " 2   배터리용량     4786 non-null   float64\n",
      " 3   구동방식      7497 non-null   int32  \n",
      " 4   주행거리(km)  7497 non-null   int64  \n",
      " 5   보증기간(년)   7497 non-null   int64  \n",
      " 6   사고이력      7497 non-null   int32  \n",
      " 7   연식(년)     7497 non-null   int64  \n",
      " 8   가격(백만원)   7497 non-null   float64\n",
      "dtypes: float64(2), int32(3), int64(3), object(1)\n",
      "memory usage: 439.4+ KB\n"
     ]
    }
   ],
   "source": [
    "df.info()"
   ]
  },
  {
   "cell_type": "code",
   "execution_count": 55,
   "id": "e6dc19e8-7a77-452f-a49b-6959446a755d",
   "metadata": {
    "scrolled": true
   },
   "outputs": [
    {
     "name": "stdout",
     "output_type": "stream",
     "text": [
      "<class 'pandas.core.frame.DataFrame'>\n",
      "RangeIndex: 7497 entries, 0 to 7496\n",
      "Data columns (total 29 columns):\n",
      " #   Column     Non-Null Count  Dtype  \n",
      "---  ------     --------------  -----  \n",
      " 0   차량상태       7497 non-null   int32  \n",
      " 1   배터리용량      4786 non-null   float64\n",
      " 2   구동방식       7497 non-null   int32  \n",
      " 3   주행거리(km)   7497 non-null   int64  \n",
      " 4   보증기간(년)    7497 non-null   int64  \n",
      " 5   사고이력       7497 non-null   int32  \n",
      " 6   연식(년)      7497 non-null   int64  \n",
      " 7   가격(백만원)    7497 non-null   float64\n",
      " 8   모델_EV6     7497 non-null   bool   \n",
      " 9   모델_ID4     7497 non-null   bool   \n",
      " 10  모델_ION5    7497 non-null   bool   \n",
      " 11  모델_ION6    7497 non-null   bool   \n",
      " 12  모델_IONIQ   7497 non-null   bool   \n",
      " 13  모델_KNE     7497 non-null   bool   \n",
      " 14  모델_M3      7497 non-null   bool   \n",
      " 15  모델_MS      7497 non-null   bool   \n",
      " 16  모델_MX      7497 non-null   bool   \n",
      " 17  모델_MY      7497 non-null   bool   \n",
      " 18  모델_Niro    7497 non-null   bool   \n",
      " 19  모델_Q4eT    7497 non-null   bool   \n",
      " 20  모델_RSeTGT  7497 non-null   bool   \n",
      " 21  모델_Soul    7497 non-null   bool   \n",
      " 22  모델_Tay     7497 non-null   bool   \n",
      " 23  모델_TayCT   7497 non-null   bool   \n",
      " 24  모델_TayGTS  7497 non-null   bool   \n",
      " 25  모델_eT      7497 non-null   bool   \n",
      " 26  모델_i3      7497 non-null   bool   \n",
      " 27  모델_i5      7497 non-null   bool   \n",
      " 28  모델_iX      7497 non-null   bool   \n",
      "dtypes: bool(21), float64(2), int32(3), int64(3)\n",
      "memory usage: 534.6 KB\n"
     ]
    }
   ],
   "source": [
    "df_encoded = pd.get_dummies(df, columns=['모델'], prefix='모델')\n",
    "df_encoded.info()\n",
    "df_test_encoded = pd.get_dummies(df_test, columns=['모델'], prefix='모델')"
   ]
  },
  {
   "cell_type": "code",
   "execution_count": 56,
   "id": "539c847f-8760-4cb0-8167-ed1b92cf8a89",
   "metadata": {},
   "outputs": [],
   "source": [
    "df_num = df.copy()"
   ]
  },
  {
   "cell_type": "code",
   "execution_count": 57,
   "id": "9aa1d3ed-28ad-40d1-8e8d-a0655f5e225d",
   "metadata": {},
   "outputs": [],
   "source": [
    "model_list = df_num[\"모델\"].unique()\n",
    "for i in range(len(model_list)):\n",
    "    df_num.loc[df_num['모델'] == model_list[i], '모델'] = i\n",
    "df_num[\"모델\"] = df_num[\"모델\"].astype(int)"
   ]
  },
  {
   "cell_type": "code",
   "execution_count": 58,
   "id": "cae8d6d9-7357-4896-946d-aa0edf0b5778",
   "metadata": {},
   "outputs": [
    {
     "data": {
      "image/png": "[encoded data removed]",
      "text/plain": [
       "<Figure size 2500x2500 with 2 Axes>"
      ]
     },
     "metadata": {},
     "output_type": "display_data"
    }
   ],
   "source": [
    "import seaborn as sns\n",
    "plt.subplots(figsize=(25,25))\n",
    "sns.heatmap(data = df_num.corr(), linewidths=0.1, annot=True, fmt='.2f', cmap='Blues')\n",
    "plt.show()"
   ]
  },
  {
   "cell_type": "code",
   "execution_count": 59,
   "id": "ca5481e1-d68b-42f6-a05a-53ff47edc997",
   "metadata": {},
   "outputs": [
    {
     "data": {
      "text/plain": [
       "((7497, 8), (7497,))"
      ]
     },
     "execution_count": 59,
     "metadata": {},
     "output_type": "execute_result"
    }
   ],
   "source": [
    "from scipy.stats import spearmanr, pearsonr\n",
    "\n",
    "y = df_num[\"가격(백만원)\"]\n",
    "X = df_num.iloc[:,:-1]\n",
    "X.shape, y.shape"
   ]
  },
  {
   "cell_type": "code",
   "execution_count": 60,
   "id": "05999615-80b9-45c2-b8b6-df7c410883f1",
   "metadata": {
    "scrolled": true
   },
   "outputs": [
    {
     "name": "stdout",
     "output_type": "stream",
     "text": [
      "pearsonr\n",
      "독립변수(모델)와 종속변수의 상관관계 계수는 -0.293이고, \n",
      "    p-value의 값은 0.000 입니다.\n",
      "        \n",
      "spearmanr\n",
      "독립변수(모델)와 종속변수의 상관관계 계수는 -0.280이고, \n",
      "    p-value의 값은 0.000 입니다.\n",
      "        \n",
      "pearsonr\n",
      "독립변수(차량상태)와 종속변수의 상관관계 계수는 -0.065이고, \n",
      "    p-value의 값은 0.000 입니다.\n",
      "        \n",
      "spearmanr\n",
      "독립변수(차량상태)와 종속변수의 상관관계 계수는 -0.119이고, \n",
      "    p-value의 값은 0.000 입니다.\n",
      "        \n"
     ]
    },
    {
     "ename": "ValueError",
     "evalue": "array must not contain infs or NaNs",
     "output_type": "error",
     "traceback": [
      "\u001b[1;31m---------------------------------------------------------------------------\u001b[0m",
      "\u001b[1;31mValueError\u001b[0m                                Traceback (most recent call last)",
      "Cell \u001b[1;32mIn[60], line 2\u001b[0m\n\u001b[0;32m      1\u001b[0m \u001b[38;5;28;01mfor\u001b[39;00m col \u001b[38;5;129;01min\u001b[39;00m X\u001b[38;5;241m.\u001b[39mcolumns:\n\u001b[1;32m----> 2\u001b[0m         s, p \u001b[38;5;241m=\u001b[39m \u001b[43mpearsonr\u001b[49m\u001b[43m(\u001b[49m\u001b[43mX\u001b[49m\u001b[43m[\u001b[49m\u001b[43mcol\u001b[49m\u001b[43m]\u001b[49m\u001b[43m,\u001b[49m\u001b[43m \u001b[49m\u001b[43my\u001b[49m\u001b[43m)\u001b[49m\n\u001b[0;32m      3\u001b[0m         msg \u001b[38;5;241m=\u001b[39m \u001b[38;5;124mf\u001b[39m\u001b[38;5;124m\"\"\"\u001b[39m\u001b[38;5;124m독립변수(\u001b[39m\u001b[38;5;132;01m{\u001b[39;00mcol\u001b[38;5;132;01m}\u001b[39;00m\u001b[38;5;124m)와 종속변수의 상관관계 계수는 \u001b[39m\u001b[38;5;132;01m{\u001b[39;00ms\u001b[38;5;132;01m:\u001b[39;00m\u001b[38;5;124m.3f\u001b[39m\u001b[38;5;132;01m}\u001b[39;00m\u001b[38;5;124m이고, \u001b[39m\n\u001b[0;32m      4\u001b[0m \u001b[38;5;124m    p-value의 값은 \u001b[39m\u001b[38;5;132;01m{\u001b[39;00mp\u001b[38;5;132;01m:\u001b[39;00m\u001b[38;5;124m.3f\u001b[39m\u001b[38;5;132;01m}\u001b[39;00m\u001b[38;5;124m 입니다.\u001b[39m\n\u001b[0;32m      5\u001b[0m \u001b[38;5;124m        \u001b[39m\u001b[38;5;124m\"\"\"\u001b[39m\n\u001b[0;32m      6\u001b[0m         \u001b[38;5;28mprint\u001b[39m(\u001b[38;5;124m\"\u001b[39m\u001b[38;5;124mpearsonr\u001b[39m\u001b[38;5;124m\"\u001b[39m)\n",
      "File \u001b[1;32m~\\anaconda3\\envs\\dg_env_dl\\lib\\site-packages\\scipy\\stats\\_stats_py.py:4793\u001b[0m, in \u001b[0;36mpearsonr\u001b[1;34m(x, y, alternative, method)\u001b[0m\n\u001b[0;32m   4788\u001b[0m ym \u001b[38;5;241m=\u001b[39m y\u001b[38;5;241m.\u001b[39mastype(dtype) \u001b[38;5;241m-\u001b[39m ymean\n\u001b[0;32m   4790\u001b[0m \u001b[38;5;66;03m# Unlike np.linalg.norm or the expression sqrt((xm*xm).sum()),\u001b[39;00m\n\u001b[0;32m   4791\u001b[0m \u001b[38;5;66;03m# scipy.linalg.norm(xm) does not overflow if xm is, for example,\u001b[39;00m\n\u001b[0;32m   4792\u001b[0m \u001b[38;5;66;03m# [-5e210, 5e210, 3e200, -3e200]\u001b[39;00m\n\u001b[1;32m-> 4793\u001b[0m normxm \u001b[38;5;241m=\u001b[39m \u001b[43mlinalg\u001b[49m\u001b[38;5;241;43m.\u001b[39;49m\u001b[43mnorm\u001b[49m\u001b[43m(\u001b[49m\u001b[43mxm\u001b[49m\u001b[43m)\u001b[49m\n\u001b[0;32m   4794\u001b[0m normym \u001b[38;5;241m=\u001b[39m linalg\u001b[38;5;241m.\u001b[39mnorm(ym)\n\u001b[0;32m   4796\u001b[0m threshold \u001b[38;5;241m=\u001b[39m \u001b[38;5;241m1e-13\u001b[39m\n",
      "File \u001b[1;32m~\\anaconda3\\envs\\dg_env_dl\\lib\\site-packages\\scipy\\linalg\\_misc.py:146\u001b[0m, in \u001b[0;36mnorm\u001b[1;34m(a, ord, axis, keepdims, check_finite)\u001b[0m\n\u001b[0;32m    144\u001b[0m \u001b[38;5;66;03m# Differs from numpy only in non-finite handling and the use of blas.\u001b[39;00m\n\u001b[0;32m    145\u001b[0m \u001b[38;5;28;01mif\u001b[39;00m check_finite:\n\u001b[1;32m--> 146\u001b[0m     a \u001b[38;5;241m=\u001b[39m \u001b[43mnp\u001b[49m\u001b[38;5;241;43m.\u001b[39;49m\u001b[43masarray_chkfinite\u001b[49m\u001b[43m(\u001b[49m\u001b[43ma\u001b[49m\u001b[43m)\u001b[49m\n\u001b[0;32m    147\u001b[0m \u001b[38;5;28;01melse\u001b[39;00m:\n\u001b[0;32m    148\u001b[0m     a \u001b[38;5;241m=\u001b[39m np\u001b[38;5;241m.\u001b[39masarray(a)\n",
      "File \u001b[1;32m~\\anaconda3\\envs\\dg_env_dl\\lib\\site-packages\\numpy\\lib\\function_base.py:630\u001b[0m, in \u001b[0;36masarray_chkfinite\u001b[1;34m(a, dtype, order)\u001b[0m\n\u001b[0;32m    628\u001b[0m a \u001b[38;5;241m=\u001b[39m asarray(a, dtype\u001b[38;5;241m=\u001b[39mdtype, order\u001b[38;5;241m=\u001b[39morder)\n\u001b[0;32m    629\u001b[0m \u001b[38;5;28;01mif\u001b[39;00m a\u001b[38;5;241m.\u001b[39mdtype\u001b[38;5;241m.\u001b[39mchar \u001b[38;5;129;01min\u001b[39;00m typecodes[\u001b[38;5;124m'\u001b[39m\u001b[38;5;124mAllFloat\u001b[39m\u001b[38;5;124m'\u001b[39m] \u001b[38;5;129;01mand\u001b[39;00m \u001b[38;5;129;01mnot\u001b[39;00m np\u001b[38;5;241m.\u001b[39misfinite(a)\u001b[38;5;241m.\u001b[39mall():\n\u001b[1;32m--> 630\u001b[0m     \u001b[38;5;28;01mraise\u001b[39;00m \u001b[38;5;167;01mValueError\u001b[39;00m(\n\u001b[0;32m    631\u001b[0m         \u001b[38;5;124m\"\u001b[39m\u001b[38;5;124marray must not contain infs or NaNs\u001b[39m\u001b[38;5;124m\"\u001b[39m)\n\u001b[0;32m    632\u001b[0m \u001b[38;5;28;01mreturn\u001b[39;00m a\n",
      "\u001b[1;31mValueError\u001b[0m: array must not contain infs or NaNs"
     ]
    }
   ],
   "source": [
    "for col in X.columns:\n",
    "        s, p = pearsonr(X[col], y)\n",
    "        msg = f\"\"\"독립변수({col})와 종속변수의 상관관계 계수는 {s:.3f}이고, \n",
    "    p-value의 값은 {p:.3f} 입니다.\n",
    "        \"\"\"\n",
    "        print(\"pearsonr\")\n",
    "        print(msg)\n",
    "        s, p = spearmanr(X[col], y)\n",
    "        msg = f\"\"\"독립변수({col})와 종속변수의 상관관계 계수는 {s:.3f}이고, \n",
    "    p-value의 값은 {p:.3f} 입니다.\n",
    "        \"\"\"\n",
    "        print(\"spearmanr\")\n",
    "    \n",
    "        print(msg)"
   ]
  },
  {
   "cell_type": "code",
   "execution_count": 61,
   "id": "6803bece-1f78-47fb-b232-516932ca22e2",
   "metadata": {},
   "outputs": [
    {
     "name": "stdout",
     "output_type": "stream",
     "text": [
      "<class 'pandas.core.frame.DataFrame'>\n",
      "RangeIndex: 7497 entries, 0 to 7496\n",
      "Data columns (total 28 columns):\n",
      " #   Column     Non-Null Count  Dtype  \n",
      "---  ------     --------------  -----  \n",
      " 0   차량상태       7497 non-null   int32  \n",
      " 1   배터리용량      4786 non-null   float64\n",
      " 2   구동방식       7497 non-null   int32  \n",
      " 3   주행거리(km)   7497 non-null   int64  \n",
      " 4   보증기간(년)    7497 non-null   int64  \n",
      " 5   연식(년)      7497 non-null   int64  \n",
      " 6   가격(백만원)    7497 non-null   float64\n",
      " 7   모델_EV6     7497 non-null   bool   \n",
      " 8   모델_ID4     7497 non-null   bool   \n",
      " 9   모델_ION5    7497 non-null   bool   \n",
      " 10  모델_ION6    7497 non-null   bool   \n",
      " 11  모델_IONIQ   7497 non-null   bool   \n",
      " 12  모델_KNE     7497 non-null   bool   \n",
      " 13  모델_M3      7497 non-null   bool   \n",
      " 14  모델_MS      7497 non-null   bool   \n",
      " 15  모델_MX      7497 non-null   bool   \n",
      " 16  모델_MY      7497 non-null   bool   \n",
      " 17  모델_Niro    7497 non-null   bool   \n",
      " 18  모델_Q4eT    7497 non-null   bool   \n",
      " 19  모델_RSeTGT  7497 non-null   bool   \n",
      " 20  모델_Soul    7497 non-null   bool   \n",
      " 21  모델_Tay     7497 non-null   bool   \n",
      " 22  모델_TayCT   7497 non-null   bool   \n",
      " 23  모델_TayGTS  7497 non-null   bool   \n",
      " 24  모델_eT      7497 non-null   bool   \n",
      " 25  모델_i3      7497 non-null   bool   \n",
      " 26  모델_i5      7497 non-null   bool   \n",
      " 27  모델_iX      7497 non-null   bool   \n",
      "dtypes: bool(21), float64(2), int32(2), int64(3)\n",
      "memory usage: 505.3 KB\n"
     ]
    }
   ],
   "source": [
    "df_encoded.drop(columns=[\"사고이력\"], inplace=True)\n",
    "df_test_encoded.drop(columns=[\"사고이력\"], inplace=True)\n",
    "df_encoded.info()"
   ]
  },
  {
   "cell_type": "code",
   "execution_count": 62,
   "id": "47f95e6b-6f00-4ae4-8fe1-735afcf97248",
   "metadata": {},
   "outputs": [
    {
     "name": "stdout",
     "output_type": "stream",
     "text": [
      "<class 'pandas.core.frame.DataFrame'>\n",
      "RangeIndex: 846 entries, 0 to 845\n",
      "Data columns (total 27 columns):\n",
      " #   Column     Non-Null Count  Dtype  \n",
      "---  ------     --------------  -----  \n",
      " 0   차량상태       846 non-null    int32  \n",
      " 1   배터리용량      542 non-null    float64\n",
      " 2   구동방식       846 non-null    int32  \n",
      " 3   주행거리(km)   846 non-null    int64  \n",
      " 4   보증기간(년)    846 non-null    int64  \n",
      " 5   연식(년)      846 non-null    int64  \n",
      " 6   모델_EV6     846 non-null    bool   \n",
      " 7   모델_ID4     846 non-null    bool   \n",
      " 8   모델_ION5    846 non-null    bool   \n",
      " 9   모델_ION6    846 non-null    bool   \n",
      " 10  모델_IONIQ   846 non-null    bool   \n",
      " 11  모델_KNE     846 non-null    bool   \n",
      " 12  모델_M3      846 non-null    bool   \n",
      " 13  모델_MS      846 non-null    bool   \n",
      " 14  모델_MX      846 non-null    bool   \n",
      " 15  모델_MY      846 non-null    bool   \n",
      " 16  모델_Niro    846 non-null    bool   \n",
      " 17  모델_Q4eT    846 non-null    bool   \n",
      " 18  모델_RSeTGT  846 non-null    bool   \n",
      " 19  모델_Soul    846 non-null    bool   \n",
      " 20  모델_Tay     846 non-null    bool   \n",
      " 21  모델_TayCT   846 non-null    bool   \n",
      " 22  모델_TayGTS  846 non-null    bool   \n",
      " 23  모델_eT      846 non-null    bool   \n",
      " 24  모델_i3      846 non-null    bool   \n",
      " 25  모델_i5      846 non-null    bool   \n",
      " 26  모델_iX      846 non-null    bool   \n",
      "dtypes: bool(21), float64(1), int32(2), int64(3)\n",
      "memory usage: 50.5 KB\n"
     ]
    }
   ],
   "source": [
    "df_test_encoded.info()"
   ]
  },
  {
   "cell_type": "code",
   "execution_count": 71,
   "id": "2d0ed930-387d-4fda-b1c8-e906c61030ab",
   "metadata": {},
   "outputs": [],
   "source": [
    "from sklearn.impute import KNNImputer\n",
    "\n",
    "# KNNImputer 초기화\n",
    "imputer = KNNImputer(n_neighbors=5)\n",
    "\n",
    "# df_encoded에 대해 결측값 채우기\n",
    "df_encoded = pd.DataFrame(imputer.fit_transform(df_encoded), columns=df_encoded.columns)\n",
    "\n",
    "# df_test_encoded에 대해 결측값 채우기\n",
    "df_test_encoded = pd.DataFrame(imputer.fit_transform(df_test_encoded), columns=df_test_encoded.columns)"
   ]
  },
  {
   "cell_type": "code",
   "execution_count": 72,
   "id": "c1735c81-2927-43d8-b200-1b5ea4cbb840",
   "metadata": {},
   "outputs": [
    {
     "data": {
      "text/html": [
       "<div>\n",
       "<style scoped>\n",
       "    .dataframe tbody tr th:only-of-type {\n",
       "        vertical-align: middle;\n",
       "    }\n",
       "\n",
       "    .dataframe tbody tr th {\n",
       "        vertical-align: top;\n",
       "    }\n",
       "\n",
       "    .dataframe thead th {\n",
       "        text-align: right;\n",
       "    }\n",
       "</style>\n",
       "<table border=\"1\" class=\"dataframe\">\n",
       "  <thead>\n",
       "    <tr style=\"text-align: right;\">\n",
       "      <th></th>\n",
       "      <th>차량상태</th>\n",
       "      <th>배터리용량</th>\n",
       "      <th>구동방식</th>\n",
       "      <th>주행거리(km)</th>\n",
       "      <th>보증기간(년)</th>\n",
       "      <th>연식(년)</th>\n",
       "      <th>가격(백만원)</th>\n",
       "      <th>모델_EV6</th>\n",
       "      <th>모델_ID4</th>\n",
       "      <th>모델_ION5</th>\n",
       "      <th>...</th>\n",
       "      <th>모델_Q4eT</th>\n",
       "      <th>모델_RSeTGT</th>\n",
       "      <th>모델_Soul</th>\n",
       "      <th>모델_Tay</th>\n",
       "      <th>모델_TayCT</th>\n",
       "      <th>모델_TayGTS</th>\n",
       "      <th>모델_eT</th>\n",
       "      <th>모델_i3</th>\n",
       "      <th>모델_i5</th>\n",
       "      <th>모델_iX</th>\n",
       "    </tr>\n",
       "  </thead>\n",
       "  <tbody>\n",
       "    <tr>\n",
       "      <th>0</th>\n",
       "      <td>1.0</td>\n",
       "      <td>86.077</td>\n",
       "      <td>0.0</td>\n",
       "      <td>13642.0</td>\n",
       "      <td>0.0</td>\n",
       "      <td>2.0</td>\n",
       "      <td>159.66</td>\n",
       "      <td>0.0</td>\n",
       "      <td>0.0</td>\n",
       "      <td>0.0</td>\n",
       "      <td>...</td>\n",
       "      <td>0.0</td>\n",
       "      <td>0.0</td>\n",
       "      <td>0.0</td>\n",
       "      <td>0.0</td>\n",
       "      <td>0.0</td>\n",
       "      <td>1.0</td>\n",
       "      <td>0.0</td>\n",
       "      <td>0.0</td>\n",
       "      <td>0.0</td>\n",
       "      <td>0.0</td>\n",
       "    </tr>\n",
       "    <tr>\n",
       "      <th>1</th>\n",
       "      <td>1.0</td>\n",
       "      <td>56.000</td>\n",
       "      <td>2.0</td>\n",
       "      <td>10199.0</td>\n",
       "      <td>6.0</td>\n",
       "      <td>0.0</td>\n",
       "      <td>28.01</td>\n",
       "      <td>0.0</td>\n",
       "      <td>0.0</td>\n",
       "      <td>0.0</td>\n",
       "      <td>...</td>\n",
       "      <td>0.0</td>\n",
       "      <td>0.0</td>\n",
       "      <td>0.0</td>\n",
       "      <td>0.0</td>\n",
       "      <td>0.0</td>\n",
       "      <td>0.0</td>\n",
       "      <td>0.0</td>\n",
       "      <td>0.0</td>\n",
       "      <td>0.0</td>\n",
       "      <td>0.0</td>\n",
       "    </tr>\n",
       "    <tr>\n",
       "      <th>2</th>\n",
       "      <td>0.0</td>\n",
       "      <td>91.200</td>\n",
       "      <td>0.0</td>\n",
       "      <td>2361.0</td>\n",
       "      <td>7.0</td>\n",
       "      <td>0.0</td>\n",
       "      <td>66.27</td>\n",
       "      <td>0.0</td>\n",
       "      <td>0.0</td>\n",
       "      <td>0.0</td>\n",
       "      <td>...</td>\n",
       "      <td>0.0</td>\n",
       "      <td>0.0</td>\n",
       "      <td>0.0</td>\n",
       "      <td>0.0</td>\n",
       "      <td>0.0</td>\n",
       "      <td>0.0</td>\n",
       "      <td>1.0</td>\n",
       "      <td>0.0</td>\n",
       "      <td>0.0</td>\n",
       "      <td>0.0</td>\n",
       "    </tr>\n",
       "    <tr>\n",
       "      <th>3</th>\n",
       "      <td>1.0</td>\n",
       "      <td>66.410</td>\n",
       "      <td>0.0</td>\n",
       "      <td>21683.0</td>\n",
       "      <td>3.0</td>\n",
       "      <td>0.0</td>\n",
       "      <td>99.16</td>\n",
       "      <td>0.0</td>\n",
       "      <td>0.0</td>\n",
       "      <td>0.0</td>\n",
       "      <td>...</td>\n",
       "      <td>0.0</td>\n",
       "      <td>1.0</td>\n",
       "      <td>0.0</td>\n",
       "      <td>0.0</td>\n",
       "      <td>0.0</td>\n",
       "      <td>0.0</td>\n",
       "      <td>0.0</td>\n",
       "      <td>0.0</td>\n",
       "      <td>0.0</td>\n",
       "      <td>0.0</td>\n",
       "    </tr>\n",
       "    <tr>\n",
       "      <th>4</th>\n",
       "      <td>2.0</td>\n",
       "      <td>61.018</td>\n",
       "      <td>0.0</td>\n",
       "      <td>178205.0</td>\n",
       "      <td>1.0</td>\n",
       "      <td>0.0</td>\n",
       "      <td>62.02</td>\n",
       "      <td>0.0</td>\n",
       "      <td>0.0</td>\n",
       "      <td>0.0</td>\n",
       "      <td>...</td>\n",
       "      <td>0.0</td>\n",
       "      <td>0.0</td>\n",
       "      <td>0.0</td>\n",
       "      <td>0.0</td>\n",
       "      <td>0.0</td>\n",
       "      <td>0.0</td>\n",
       "      <td>0.0</td>\n",
       "      <td>0.0</td>\n",
       "      <td>1.0</td>\n",
       "      <td>0.0</td>\n",
       "    </tr>\n",
       "    <tr>\n",
       "      <th>...</th>\n",
       "      <td>...</td>\n",
       "      <td>...</td>\n",
       "      <td>...</td>\n",
       "      <td>...</td>\n",
       "      <td>...</td>\n",
       "      <td>...</td>\n",
       "      <td>...</td>\n",
       "      <td>...</td>\n",
       "      <td>...</td>\n",
       "      <td>...</td>\n",
       "      <td>...</td>\n",
       "      <td>...</td>\n",
       "      <td>...</td>\n",
       "      <td>...</td>\n",
       "      <td>...</td>\n",
       "      <td>...</td>\n",
       "      <td>...</td>\n",
       "      <td>...</td>\n",
       "      <td>...</td>\n",
       "      <td>...</td>\n",
       "      <td>...</td>\n",
       "    </tr>\n",
       "    <tr>\n",
       "      <th>7492</th>\n",
       "      <td>0.0</td>\n",
       "      <td>91.000</td>\n",
       "      <td>0.0</td>\n",
       "      <td>3773.0</td>\n",
       "      <td>10.0</td>\n",
       "      <td>0.0</td>\n",
       "      <td>35.95</td>\n",
       "      <td>0.0</td>\n",
       "      <td>0.0</td>\n",
       "      <td>1.0</td>\n",
       "      <td>...</td>\n",
       "      <td>0.0</td>\n",
       "      <td>0.0</td>\n",
       "      <td>0.0</td>\n",
       "      <td>0.0</td>\n",
       "      <td>0.0</td>\n",
       "      <td>0.0</td>\n",
       "      <td>0.0</td>\n",
       "      <td>0.0</td>\n",
       "      <td>0.0</td>\n",
       "      <td>0.0</td>\n",
       "    </tr>\n",
       "    <tr>\n",
       "      <th>7493</th>\n",
       "      <td>2.0</td>\n",
       "      <td>46.000</td>\n",
       "      <td>1.0</td>\n",
       "      <td>135411.0</td>\n",
       "      <td>2.0</td>\n",
       "      <td>0.0</td>\n",
       "      <td>23.40</td>\n",
       "      <td>0.0</td>\n",
       "      <td>0.0</td>\n",
       "      <td>0.0</td>\n",
       "      <td>...</td>\n",
       "      <td>0.0</td>\n",
       "      <td>0.0</td>\n",
       "      <td>0.0</td>\n",
       "      <td>0.0</td>\n",
       "      <td>0.0</td>\n",
       "      <td>0.0</td>\n",
       "      <td>0.0</td>\n",
       "      <td>1.0</td>\n",
       "      <td>0.0</td>\n",
       "      <td>0.0</td>\n",
       "    </tr>\n",
       "    <tr>\n",
       "      <th>7494</th>\n",
       "      <td>0.0</td>\n",
       "      <td>92.200</td>\n",
       "      <td>0.0</td>\n",
       "      <td>1363.0</td>\n",
       "      <td>2.0</td>\n",
       "      <td>0.0</td>\n",
       "      <td>120.00</td>\n",
       "      <td>0.0</td>\n",
       "      <td>0.0</td>\n",
       "      <td>0.0</td>\n",
       "      <td>...</td>\n",
       "      <td>0.0</td>\n",
       "      <td>0.0</td>\n",
       "      <td>0.0</td>\n",
       "      <td>0.0</td>\n",
       "      <td>1.0</td>\n",
       "      <td>0.0</td>\n",
       "      <td>0.0</td>\n",
       "      <td>0.0</td>\n",
       "      <td>0.0</td>\n",
       "      <td>0.0</td>\n",
       "    </tr>\n",
       "    <tr>\n",
       "      <th>7495</th>\n",
       "      <td>1.0</td>\n",
       "      <td>56.000</td>\n",
       "      <td>1.0</td>\n",
       "      <td>39445.0</td>\n",
       "      <td>6.0</td>\n",
       "      <td>2.0</td>\n",
       "      <td>24.00</td>\n",
       "      <td>0.0</td>\n",
       "      <td>0.0</td>\n",
       "      <td>0.0</td>\n",
       "      <td>...</td>\n",
       "      <td>0.0</td>\n",
       "      <td>0.0</td>\n",
       "      <td>0.0</td>\n",
       "      <td>0.0</td>\n",
       "      <td>0.0</td>\n",
       "      <td>0.0</td>\n",
       "      <td>0.0</td>\n",
       "      <td>1.0</td>\n",
       "      <td>0.0</td>\n",
       "      <td>0.0</td>\n",
       "    </tr>\n",
       "    <tr>\n",
       "      <th>7496</th>\n",
       "      <td>2.0</td>\n",
       "      <td>51.940</td>\n",
       "      <td>0.0</td>\n",
       "      <td>80215.0</td>\n",
       "      <td>0.0</td>\n",
       "      <td>0.0</td>\n",
       "      <td>74.06</td>\n",
       "      <td>0.0</td>\n",
       "      <td>0.0</td>\n",
       "      <td>0.0</td>\n",
       "      <td>...</td>\n",
       "      <td>0.0</td>\n",
       "      <td>0.0</td>\n",
       "      <td>0.0</td>\n",
       "      <td>0.0</td>\n",
       "      <td>0.0</td>\n",
       "      <td>0.0</td>\n",
       "      <td>0.0</td>\n",
       "      <td>0.0</td>\n",
       "      <td>0.0</td>\n",
       "      <td>0.0</td>\n",
       "    </tr>\n",
       "  </tbody>\n",
       "</table>\n",
       "<p>7497 rows × 28 columns</p>\n",
       "</div>"
      ],
      "text/plain": [
       "      차량상태   배터리용량  구동방식  주행거리(km)  보증기간(년)  연식(년)  가격(백만원)  모델_EV6  모델_ID4  \\\n",
       "0      1.0  86.077   0.0   13642.0      0.0    2.0   159.66     0.0     0.0   \n",
       "1      1.0  56.000   2.0   10199.0      6.0    0.0    28.01     0.0     0.0   \n",
       "2      0.0  91.200   0.0    2361.0      7.0    0.0    66.27     0.0     0.0   \n",
       "3      1.0  66.410   0.0   21683.0      3.0    0.0    99.16     0.0     0.0   \n",
       "4      2.0  61.018   0.0  178205.0      1.0    0.0    62.02     0.0     0.0   \n",
       "...    ...     ...   ...       ...      ...    ...      ...     ...     ...   \n",
       "7492   0.0  91.000   0.0    3773.0     10.0    0.0    35.95     0.0     0.0   \n",
       "7493   2.0  46.000   1.0  135411.0      2.0    0.0    23.40     0.0     0.0   \n",
       "7494   0.0  92.200   0.0    1363.0      2.0    0.0   120.00     0.0     0.0   \n",
       "7495   1.0  56.000   1.0   39445.0      6.0    2.0    24.00     0.0     0.0   \n",
       "7496   2.0  51.940   0.0   80215.0      0.0    0.0    74.06     0.0     0.0   \n",
       "\n",
       "      모델_ION5  ...  모델_Q4eT  모델_RSeTGT  모델_Soul  모델_Tay  모델_TayCT  모델_TayGTS  \\\n",
       "0         0.0  ...      0.0        0.0      0.0     0.0       0.0        1.0   \n",
       "1         0.0  ...      0.0        0.0      0.0     0.0       0.0        0.0   \n",
       "2         0.0  ...      0.0        0.0      0.0     0.0       0.0        0.0   \n",
       "3         0.0  ...      0.0        1.0      0.0     0.0       0.0        0.0   \n",
       "4         0.0  ...      0.0        0.0      0.0     0.0       0.0        0.0   \n",
       "...       ...  ...      ...        ...      ...     ...       ...        ...   \n",
       "7492      1.0  ...      0.0        0.0      0.0     0.0       0.0        0.0   \n",
       "7493      0.0  ...      0.0        0.0      0.0     0.0       0.0        0.0   \n",
       "7494      0.0  ...      0.0        0.0      0.0     0.0       1.0        0.0   \n",
       "7495      0.0  ...      0.0        0.0      0.0     0.0       0.0        0.0   \n",
       "7496      0.0  ...      0.0        0.0      0.0     0.0       0.0        0.0   \n",
       "\n",
       "      모델_eT  모델_i3  모델_i5  모델_iX  \n",
       "0       0.0    0.0    0.0    0.0  \n",
       "1       0.0    0.0    0.0    0.0  \n",
       "2       1.0    0.0    0.0    0.0  \n",
       "3       0.0    0.0    0.0    0.0  \n",
       "4       0.0    0.0    1.0    0.0  \n",
       "...     ...    ...    ...    ...  \n",
       "7492    0.0    0.0    0.0    0.0  \n",
       "7493    0.0    1.0    0.0    0.0  \n",
       "7494    0.0    0.0    0.0    0.0  \n",
       "7495    0.0    1.0    0.0    0.0  \n",
       "7496    0.0    0.0    0.0    0.0  \n",
       "\n",
       "[7497 rows x 28 columns]"
      ]
     },
     "execution_count": 72,
     "metadata": {},
     "output_type": "execute_result"
    }
   ],
   "source": [
    "df_encoded"
   ]
  },
  {
   "cell_type": "code",
   "execution_count": 73,
   "id": "3a9a69e2-fed4-4132-afe1-c184caf63ded",
   "metadata": {},
   "outputs": [],
   "source": [
    "from sklearn.model_selection import train_test_split\n",
    "\n",
    "from scipy.stats import spearmanr, pearsonr\n",
    "\n",
    "y = df_encoded[\"가격(백만원)\"]\n",
    "X = df_encoded.drop(columns=[\"가격(백만원)\"])\n",
    "\n",
    "# X_train, X_val, y_train, y_val = train_test_split(X, y, test_size=0.2)\n",
    "# X_train.shape, X_val.shape, y_train.shape, y_val.shape\n",
    "X_train = X\n",
    "y_train = y"
   ]
  },
  {
   "cell_type": "code",
   "execution_count": 74,
   "id": "dab98fb4-2607-4959-b18d-03ddb79e993d",
   "metadata": {},
   "outputs": [],
   "source": [
    "from sklearn.preprocessing import StandardScaler\n",
    "ss = StandardScaler()\n",
    "ss.fit(X_train)\n",
    "X_train_scaled = ss.transform(X_train)\n",
    "# X_val_scaled = ss.transform(X_val)\n",
    "X_test_scaled = ss.transform(df_test_encoded)"
   ]
  },
  {
   "cell_type": "code",
   "execution_count": 75,
   "id": "bdd26933-5aec-4dca-9e1f-bb1e3c878ff8",
   "metadata": {},
   "outputs": [],
   "source": [
    "from xgboost import XGBRegressor\n",
    "from sklearn.linear_model import LinearRegression, Ridge, Lasso\n",
    "from sklearn.ensemble import RandomForestRegressor, GradientBoostingRegressor, HistGradientBoostingRegressor\n",
    "\n",
    "\n",
    "lr = LinearRegression()\n",
    "ri = Ridge(random_state=42)\n",
    "la = Lasso(random_state=42)\n",
    "rf = RandomForestRegressor(random_state=42)\n",
    "gb = GradientBoostingRegressor(random_state=42)\n",
    "hgb = HistGradientBoostingRegressor(random_state=42)\n",
    "xgb = XGBRegressor(random_state=42)\n",
    "\n",
    "model_list = [lr, ri, la, rf, gb, hgb, xgb]"
   ]
  },
  {
   "cell_type": "code",
   "execution_count": 76,
   "id": "16402d5c-645a-4b14-b6ed-5e4e2b827d83",
   "metadata": {},
   "outputs": [
    {
     "ename": "NameError",
     "evalue": "name 'X_val_scaled' is not defined",
     "output_type": "error",
     "traceback": [
      "\u001b[1;31m---------------------------------------------------------------------------\u001b[0m",
      "\u001b[1;31mNameError\u001b[0m                                 Traceback (most recent call last)",
      "Cell \u001b[1;32mIn[76], line 10\u001b[0m\n\u001b[0;32m      8\u001b[0m model\u001b[38;5;241m.\u001b[39mfit(X_train_scaled, y_train)\n\u001b[0;32m      9\u001b[0m train_pred \u001b[38;5;241m=\u001b[39m model\u001b[38;5;241m.\u001b[39mpredict(X_train_scaled)\n\u001b[1;32m---> 10\u001b[0m val_pred \u001b[38;5;241m=\u001b[39m model\u001b[38;5;241m.\u001b[39mpredict(\u001b[43mX_val_scaled\u001b[49m)\n\u001b[0;32m     11\u001b[0m train_acc \u001b[38;5;241m=\u001b[39m model\u001b[38;5;241m.\u001b[39mscore(X_train_scaled, y_train)\n\u001b[0;32m     12\u001b[0m val_acc \u001b[38;5;241m=\u001b[39m model\u001b[38;5;241m.\u001b[39mscore(X_val_scaled, y_val)\n",
      "\u001b[1;31mNameError\u001b[0m: name 'X_val_scaled' is not defined"
     ]
    }
   ],
   "source": [
    "from sklearn.metrics import mean_absolute_error, mean_squared_error, r2_score\n",
    "\n",
    "df = pd.DataFrame()\n",
    "\n",
    "# 모델 한번 반복문 돌려보기\n",
    "for model in model_list:\n",
    "    model_name = model.__class__.__name__\n",
    "    model.fit(X_train_scaled, y_train)\n",
    "    train_pred = model.predict(X_train_scaled)\n",
    "    val_pred = model.predict(X_val_scaled)\n",
    "    train_acc = model.score(X_train_scaled, y_train)\n",
    "    val_acc = model.score(X_val_scaled, y_val)\n",
    "    mae = mean_absolute_error(y_val, val_pred)\n",
    "    mse = mean_squared_error(y_val, val_pred)\n",
    "    diff = train_acc - val_acc\n",
    "    df_temp = pd.DataFrame([[model_name, train_acc, val_acc, mae, mse, diff]],\n",
    "                         columns=[\"모델명\", \"train_r2\", \"val_r2\",\"mae\", \"mse\", \"훈련-예측\"])\n",
    "    df = pd.concat([df, df_temp], ignore_index=True)\n",
    "    \n"
   ]
  },
  {
   "cell_type": "code",
   "execution_count": 77,
   "id": "99808cf3-9208-4103-9999-272901fa270f",
   "metadata": {},
   "outputs": [],
   "source": [
    "param_grids = {\n",
    "    \"LinearRegression\": {},  # LinearRegression은 기본적으로 하이퍼파라미터 튜닝이 필요 없음\n",
    "    \"Ridge\": {\n",
    "        \"alpha\": [0.1, 1.0, 10.0],  # 정규화 강도\n",
    "    },\n",
    "    \"Lasso\": {\n",
    "        \"alpha\": [0.01, 0.1, 1.0],  # 정규화 강도\n",
    "    },\n",
    "    \"RandomForestRegressor\": {\n",
    "        \"n_estimators\": [20, 50],\n",
    "        \"max_depth\": [10, 20],\n",
    "        \"min_samples_split\": [2, 5, 10],\n",
    "        \"min_samples_leaf\": [1, 2, 4],\n",
    "    },\n",
    "    \"GradientBoostingRegressor\": {\n",
    "        \"n_estimators\": [20, 50],\n",
    "        \"max_depth\": [10, 20],\n",
    "        \"min_samples_split\": [2, 5, 10],\n",
    "        \"min_samples_leaf\": [1, 2, 4],\n",
    "    },\n",
    "    \"HistGradientBoostingRegressor\": {\n",
    "        \"max_iter\": [20, 50],\n",
    "        \"max_depth\": [10, 50],\n",
    "        \"min_samples_leaf\": [1, 2, 4],\n",
    "    },\n",
    "    \"XGBRegressor\": {\n",
    "        \"n_estimators\": [20, 50],\n",
    "        \"max_depth\": [10, 20],\n",
    "        \"min_child_weight\": [1, 2, 4],\n",
    "    }\n",
    "}\n",
    "\n",
    "# 모델 리스트와 이름 매핑\n",
    "model_list = [\n",
    "    (\"LinearRegression\", LinearRegression()),\n",
    "    (\"Ridge\", Ridge(random_state=42)),\n",
    "    (\"Lasso\", Lasso(random_state=42)),\n",
    "    (\"RandomForestRegressor\", RandomForestRegressor(random_state=42)),\n",
    "    (\"GradientBoostingRegressor\", GradientBoostingRegressor(random_state=42)),\n",
    "    (\"HistGradientBoostingRegressor\", HistGradientBoostingRegressor(random_state=42)),\n",
    "    (\"XGBRegressor\", XGBRegressor(random_state=42))\n",
    "]"
   ]
  },
  {
   "cell_type": "code",
   "execution_count": 86,
   "id": "460b9b21-9731-4cb7-9661-5d64c833fdac",
   "metadata": {},
   "outputs": [],
   "source": [
    "from sklearn.model_selection import GridSearchCV\n",
    "\n",
    "df_grid = pd.DataFrame()\n",
    "\n",
    "for model_name, model in model_list:\n",
    "    if model_name in param_grids:\n",
    "        grid_params = param_grids[model_name]\n",
    "        model_name = model.__class__.__name__\n",
    "        grid_search_model = GridSearchCV(model, param_grid=grid_params, scoring=\"r2\", cv=5, n_jobs=-1)\n",
    "        grid_search_model.fit(X_train_scaled, y_train)\n",
    "        model = grid_search_model.best_estimator_\n",
    "        train_pred = model.predict(X_train_scaled)\n",
    "        r2 = r2_score(y_train, train_pred)\n",
    "        mae = mean_absolute_error(y_train, train_pred)\n",
    "        mse = mean_squared_error(y_train, train_pred)\n",
    "        df_temp = pd.DataFrame([[model_name, r2, mae, mse]],\n",
    "                             columns=[\"모델명\", \"r2\",\"mae\", \"mse\"])\n",
    "        df_grid = pd.concat([df_grid, df_temp], ignore_index=True)"
   ]
  },
  {
   "cell_type": "code",
   "execution_count": 87,
   "id": "85442e3d-69f5-4fd7-8099-7ad58cc33ba3",
   "metadata": {},
   "outputs": [
    {
     "data": {
      "text/html": [
       "<div>\n",
       "<style scoped>\n",
       "    .dataframe tbody tr th:only-of-type {\n",
       "        vertical-align: middle;\n",
       "    }\n",
       "\n",
       "    .dataframe tbody tr th {\n",
       "        vertical-align: top;\n",
       "    }\n",
       "\n",
       "    .dataframe thead th {\n",
       "        text-align: right;\n",
       "    }\n",
       "</style>\n",
       "<table border=\"1\" class=\"dataframe\">\n",
       "  <thead>\n",
       "    <tr style=\"text-align: right;\">\n",
       "      <th></th>\n",
       "      <th>모델명</th>\n",
       "      <th>r2</th>\n",
       "      <th>mae</th>\n",
       "      <th>mse</th>\n",
       "    </tr>\n",
       "  </thead>\n",
       "  <tbody>\n",
       "    <tr>\n",
       "      <th>0</th>\n",
       "      <td>LinearRegression</td>\n",
       "      <td>0.989353</td>\n",
       "      <td>2.873262</td>\n",
       "      <td>14.296273</td>\n",
       "    </tr>\n",
       "    <tr>\n",
       "      <th>1</th>\n",
       "      <td>Ridge</td>\n",
       "      <td>0.989353</td>\n",
       "      <td>2.872714</td>\n",
       "      <td>14.296250</td>\n",
       "    </tr>\n",
       "    <tr>\n",
       "      <th>2</th>\n",
       "      <td>Lasso</td>\n",
       "      <td>0.989343</td>\n",
       "      <td>2.875646</td>\n",
       "      <td>14.310775</td>\n",
       "    </tr>\n",
       "    <tr>\n",
       "      <th>3</th>\n",
       "      <td>RandomForestRegressor</td>\n",
       "      <td>0.998855</td>\n",
       "      <td>0.691048</td>\n",
       "      <td>1.537709</td>\n",
       "    </tr>\n",
       "    <tr>\n",
       "      <th>4</th>\n",
       "      <td>GradientBoostingRegressor</td>\n",
       "      <td>0.999912</td>\n",
       "      <td>0.258504</td>\n",
       "      <td>0.118131</td>\n",
       "    </tr>\n",
       "    <tr>\n",
       "      <th>5</th>\n",
       "      <td>HistGradientBoostingRegressor</td>\n",
       "      <td>0.998681</td>\n",
       "      <td>0.854537</td>\n",
       "      <td>1.771308</td>\n",
       "    </tr>\n",
       "    <tr>\n",
       "      <th>6</th>\n",
       "      <td>XGBRegressor</td>\n",
       "      <td>0.999201</td>\n",
       "      <td>0.612981</td>\n",
       "      <td>1.072388</td>\n",
       "    </tr>\n",
       "  </tbody>\n",
       "</table>\n",
       "</div>"
      ],
      "text/plain": [
       "                             모델명        r2       mae        mse\n",
       "0               LinearRegression  0.989353  2.873262  14.296273\n",
       "1                          Ridge  0.989353  2.872714  14.296250\n",
       "2                          Lasso  0.989343  2.875646  14.310775\n",
       "3          RandomForestRegressor  0.998855  0.691048   1.537709\n",
       "4      GradientBoostingRegressor  0.999912  0.258504   0.118131\n",
       "5  HistGradientBoostingRegressor  0.998681  0.854537   1.771308\n",
       "6                   XGBRegressor  0.999201  0.612981   1.072388"
      ]
     },
     "execution_count": 87,
     "metadata": {},
     "output_type": "execute_result"
    }
   ],
   "source": [
    "df_grid"
   ]
  },
  {
   "cell_type": "code",
   "execution_count": 88,
   "id": "26821865-e136-4064-9323-ba903b056474",
   "metadata": {},
   "outputs": [],
   "source": [
    "grid_params = {\"n_estimators\": [20, 50],\n",
    "                \"max_depth\": [10, 20],\n",
    "                \"min_samples_split\": [2, 5, 10],\n",
    "                \"min_samples_leaf\": [1, 2, 4],}\n",
    "grid_search_model = GridSearchCV(GradientBoostingRegressor(), param_grid=grid_params, scoring=\"r2\", cv=5, n_jobs=-1)\n",
    "grid_search_model.fit(X_train_scaled, y_train)\n",
    "model = grid_search_model.best_estimator_"
   ]
  },
  {
   "cell_type": "code",
   "execution_count": null,
   "id": "3d31c774-8207-4421-9945-70ce2a0dd7f4",
   "metadata": {},
   "outputs": [],
   "source": []
  },
  {
   "cell_type": "code",
   "execution_count": null,
   "id": "e99d224f-5ea4-425e-aa63-9dbb510cac0e",
   "metadata": {},
   "outputs": [],
   "source": [
    "k"
   ]
  },
  {
   "cell_type": "code",
   "execution_count": null,
   "id": "5c05ea08-14cd-491d-a321-b032a41f4426",
   "metadata": {},
   "outputs": [],
   "source": []
  },
  {
   "cell_type": "code",
   "execution_count": null,
   "id": "e5bfbbc6-0c5d-410c-830b-a06e87963e77",
   "metadata": {},
   "outputs": [],
   "source": []
  },
  {
   "cell_type": "code",
   "execution_count": null,
   "id": "4fef482f-813b-473d-bfc5-76dca484b8c8",
   "metadata": {},
   "outputs": [],
   "source": []
  },
  {
   "cell_type": "code",
   "execution_count": null,
   "id": "68f5d4a0-fab5-4bdb-a785-c3deb55e35d7",
   "metadata": {},
   "outputs": [],
   "source": []
  },
  {
   "cell_type": "code",
   "execution_count": 92,
   "id": "e4fda288-46af-46d4-bf30-a34646f6c102",
   "metadata": {},
   "outputs": [],
   "source": [
    "test_pred = model.predict(X_test_scaled)"
   ]
  },
  {
   "cell_type": "code",
   "execution_count": 93,
   "id": "8f667a64-8058-4f73-86c6-57b0dd864b5c",
   "metadata": {},
   "outputs": [],
   "source": [
    "df = pd.DataFrame()\n",
    "for i in range(len(test_pred)):\n",
    "    name = f\"TEST_{i:03}\"\n",
    "    df_temp = pd.DataFrame([[name, test_pred[i]]],\n",
    "                         columns=[\"ID\",\"가격(백만원)\"])\n",
    "    df = pd.concat([df, df_temp], ignore_index=True)"
   ]
  },
  {
   "cell_type": "code",
   "execution_count": 94,
   "id": "e4e4a807-69e9-487d-b97a-48fe1819c97f",
   "metadata": {},
   "outputs": [],
   "source": [
    "df.to_csv(\"./submit.csv\", index=False)"
   ]
  },
  {
   "cell_type": "code",
   "execution_count": null,
   "id": "c34acab6-b407-476c-8c85-e1dcfaa827fd",
   "metadata": {},
   "outputs": [],
   "source": []
  },
  {
   "cell_type": "code",
   "execution_count": null,
   "id": "d985b9c0-d707-4efb-984c-7ee863d27f4f",
   "metadata": {},
   "outputs": [],
   "source": []
  }
 ],
 "metadata": {
  "kernelspec": {
   "display_name": "dg_env_dl_kernel",
   "language": "python",
   "name": "dg_env_dl"
  },
  "language_info": {
   "codemirror_mode": {
    "name": "ipython",
    "version": 3
   },
   "file_extension": ".py",
   "mimetype": "text/x-python",
   "name": "python",
   "nbconvert_exporter": "python",
   "pygments_lexer": "ipython3",
   "version": "3.9.15"
  }
 },
 "nbformat": 4,
 "nbformat_minor": 5
}
