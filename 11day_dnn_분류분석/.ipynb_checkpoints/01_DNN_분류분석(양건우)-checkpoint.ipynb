{
 "cells": [
  {
   "cell_type": "code",
   "execution_count": 1,
   "id": "68457640-b949-43e3-8ec1-42c69165ce29",
   "metadata": {},
   "outputs": [
    {
     "data": {
      "text/plain": [
       "'\\n1. 데이터 읽어오기\\n2. 전처리 및 가공\\n3. DNN 모델 생성\\n4. 콜백함수 정의\\n5. 훈련\\n6. 예측\\n7. 성능검증(분류 평가)\\n'"
      ]
     },
     "execution_count": 1,
     "metadata": {},
     "output_type": "execute_result"
    }
   ],
   "source": [
    "\"\"\"\n",
    "1. 데이터 읽어오기\n",
    "2. 전처리 및 가공\n",
    "3. DNN 모델 생성\n",
    "4. 콜백함수 정의\n",
    "5. 훈련\n",
    "6. 예측\n",
    "7. 성능검증(분류 평가)\n",
    "\"\"\""
   ]
  },
  {
   "cell_type": "code",
   "execution_count": 2,
   "id": "fcd81978-271d-4f85-b521-75ed87f3c344",
   "metadata": {},
   "outputs": [],
   "source": [
    "# 텐서플로우 프레임워크\n",
    "import tensorflow as tf\n",
    "\n",
    "# 케라스(딥러닝 모델) 라이브러리\n",
    "from tensorflow import keras\n",
    "\n",
    "# 시각화 라이브러리\n",
    "import matplotlib.pyplot as plt\n",
    "\n",
    "# 넘파이\n",
    "import numpy as np\n",
    "\n",
    "# 데이터 분류 라이브러리\n",
    "from sklearn.model_selection import train_test_split\n",
    "\n",
    "import pandas as pd\n",
    "\n",
    "# 딥러닝 랜덤규칙 정의(모든 사람이 정확하게 일치하지는 않음)\n",
    "tf.keras.utils.set_random_seed(42)\n",
    "tf.config.experimental.enable_op_determinism()"
   ]
  },
  {
   "cell_type": "code",
   "execution_count": 3,
   "id": "fc5fec16-86fe-4d45-bfd8-36360343904b",
   "metadata": {},
   "outputs": [
    {
     "name": "stdout",
     "output_type": "stream",
     "text": [
      "<class 'pandas.core.frame.DataFrame'>\n",
      "RangeIndex: 6497 entries, 0 to 6496\n",
      "Data columns (total 4 columns):\n",
      " #   Column   Non-Null Count  Dtype  \n",
      "---  ------   --------------  -----  \n",
      " 0   alcohol  6497 non-null   float64\n",
      " 1   sugar    6497 non-null   float64\n",
      " 2   pH       6497 non-null   float64\n",
      " 3   class    6497 non-null   float64\n",
      "dtypes: float64(4)\n",
      "memory usage: 203.2 KB\n"
     ]
    },
    {
     "data": {
      "text/html": [
       "<div>\n",
       "<style scoped>\n",
       "    .dataframe tbody tr th:only-of-type {\n",
       "        vertical-align: middle;\n",
       "    }\n",
       "\n",
       "    .dataframe tbody tr th {\n",
       "        vertical-align: top;\n",
       "    }\n",
       "\n",
       "    .dataframe thead th {\n",
       "        text-align: right;\n",
       "    }\n",
       "</style>\n",
       "<table border=\"1\" class=\"dataframe\">\n",
       "  <thead>\n",
       "    <tr style=\"text-align: right;\">\n",
       "      <th></th>\n",
       "      <th>alcohol</th>\n",
       "      <th>sugar</th>\n",
       "      <th>pH</th>\n",
       "      <th>class</th>\n",
       "    </tr>\n",
       "  </thead>\n",
       "  <tbody>\n",
       "    <tr>\n",
       "      <th>count</th>\n",
       "      <td>6497.000000</td>\n",
       "      <td>6497.000000</td>\n",
       "      <td>6497.000000</td>\n",
       "      <td>6497.000000</td>\n",
       "    </tr>\n",
       "    <tr>\n",
       "      <th>mean</th>\n",
       "      <td>10.491801</td>\n",
       "      <td>5.443235</td>\n",
       "      <td>3.218501</td>\n",
       "      <td>0.753886</td>\n",
       "    </tr>\n",
       "    <tr>\n",
       "      <th>std</th>\n",
       "      <td>1.192712</td>\n",
       "      <td>4.757804</td>\n",
       "      <td>0.160787</td>\n",
       "      <td>0.430779</td>\n",
       "    </tr>\n",
       "    <tr>\n",
       "      <th>min</th>\n",
       "      <td>8.000000</td>\n",
       "      <td>0.600000</td>\n",
       "      <td>2.720000</td>\n",
       "      <td>0.000000</td>\n",
       "    </tr>\n",
       "    <tr>\n",
       "      <th>25%</th>\n",
       "      <td>9.500000</td>\n",
       "      <td>1.800000</td>\n",
       "      <td>3.110000</td>\n",
       "      <td>1.000000</td>\n",
       "    </tr>\n",
       "    <tr>\n",
       "      <th>50%</th>\n",
       "      <td>10.300000</td>\n",
       "      <td>3.000000</td>\n",
       "      <td>3.210000</td>\n",
       "      <td>1.000000</td>\n",
       "    </tr>\n",
       "    <tr>\n",
       "      <th>75%</th>\n",
       "      <td>11.300000</td>\n",
       "      <td>8.100000</td>\n",
       "      <td>3.320000</td>\n",
       "      <td>1.000000</td>\n",
       "    </tr>\n",
       "    <tr>\n",
       "      <th>max</th>\n",
       "      <td>14.900000</td>\n",
       "      <td>65.800000</td>\n",
       "      <td>4.010000</td>\n",
       "      <td>1.000000</td>\n",
       "    </tr>\n",
       "  </tbody>\n",
       "</table>\n",
       "</div>"
      ],
      "text/plain": [
       "           alcohol        sugar           pH        class\n",
       "count  6497.000000  6497.000000  6497.000000  6497.000000\n",
       "mean     10.491801     5.443235     3.218501     0.753886\n",
       "std       1.192712     4.757804     0.160787     0.430779\n",
       "min       8.000000     0.600000     2.720000     0.000000\n",
       "25%       9.500000     1.800000     3.110000     1.000000\n",
       "50%      10.300000     3.000000     3.210000     1.000000\n",
       "75%      11.300000     8.100000     3.320000     1.000000\n",
       "max      14.900000    65.800000     4.010000     1.000000"
      ]
     },
     "execution_count": 3,
     "metadata": {},
     "output_type": "execute_result"
    }
   ],
   "source": [
    "df = pd.read_csv(\"./data/08_wine.csv\")\n",
    "df.info()\n",
    "df.describe()"
   ]
  },
  {
   "cell_type": "code",
   "execution_count": 4,
   "id": "6a72b7fe-f4f7-494d-870c-bcdcae4e9518",
   "metadata": {},
   "outputs": [],
   "source": [
    "def remove_outliers(df):\n",
    "    Q1 = df.quantile(0.25)\n",
    "    Q3 = df.quantile(0.75)\n",
    "    IQR = Q3 - Q1\n",
    "    lower_bound = Q1 - 1.5 * IQR\n",
    "    upper_bound = Q3 + 1.5 * IQR\n",
    "    return df[~((df < lower_bound) | (df > upper_bound)).any(axis=1)]\n",
    "\n",
    "df_drop = remove_outliers(df)\n"
   ]
  },
  {
   "cell_type": "code",
   "execution_count": 5,
   "id": "21aec59e-6c1d-40ab-b7a9-e743e219e06e",
   "metadata": {},
   "outputs": [
    {
     "name": "stdout",
     "output_type": "stream",
     "text": [
      "<class 'pandas.core.frame.DataFrame'>\n",
      "Index: 4739 entries, 1600 to 6496\n",
      "Data columns (total 4 columns):\n",
      " #   Column   Non-Null Count  Dtype  \n",
      "---  ------   --------------  -----  \n",
      " 0   alcohol  4739 non-null   float64\n",
      " 1   sugar    4739 non-null   float64\n",
      " 2   pH       4739 non-null   float64\n",
      " 3   class    4739 non-null   float64\n",
      "dtypes: float64(4)\n",
      "memory usage: 185.1 KB\n"
     ]
    }
   ],
   "source": [
    "df_drop.info()   # 이상치 제거한 데이터가 마지막 정확도가 낮아 사용하지 않을 것이다."
   ]
  },
  {
   "cell_type": "code",
   "execution_count": 6,
   "id": "cf2ead09-2901-4d05-af62-a1af2087bb3c",
   "metadata": {},
   "outputs": [
    {
     "data": {
      "text/plain": [
       "((6497, 3), (6497,))"
      ]
     },
     "execution_count": 6,
     "metadata": {},
     "output_type": "execute_result"
    }
   ],
   "source": [
    "# 드랍한 데이터가 아닌 전체 데이터를 사용\n",
    "X = df.iloc[:,:3]\n",
    "y = df[\"class\"]\n",
    "X.shape, y.shape"
   ]
  },
  {
   "cell_type": "code",
   "execution_count": 7,
   "id": "bb53e1d8-bdd4-4e6d-a50a-ff80dabb4712",
   "metadata": {},
   "outputs": [
    {
     "data": {
      "text/plain": [
       "((5197, 3), (1300, 3), (5197,), (1300,))"
      ]
     },
     "execution_count": 7,
     "metadata": {},
     "output_type": "execute_result"
    }
   ],
   "source": [
    "X_train, X_test, y_train, y_test = train_test_split(X, y, test_size=0.2, random_state=42)\n",
    "X_train.shape, X_test.shape, y_train.shape, y_test.shape"
   ]
  },
  {
   "cell_type": "code",
   "execution_count": 8,
   "id": "224b6041-577e-4e76-b347-3ac154f2db87",
   "metadata": {},
   "outputs": [],
   "source": [
    "from sklearn.preprocessing import StandardScaler\n",
    "ss = StandardScaler()\n",
    "ss.fit(X_train)\n",
    "X_train_scaled = ss.transform(X_train)\n",
    "X_test_scaled = ss.transform(X_test)"
   ]
  },
  {
   "cell_type": "code",
   "execution_count": 9,
   "id": "a2d62ff9-0b6c-4bd8-8f3c-ce02135efe74",
   "metadata": {},
   "outputs": [],
   "source": [
    "# 다중분류 하듯이 마지막 출력 활성화 함수를 'softmax'를 사용하고 units을 2로 하여 이진분류를 구현할 것이다.\n",
    "model = keras.Sequential()\n",
    "\n",
    "model.add(\n",
    "    keras.layers.Dense(\n",
    "        units=64,\n",
    "        activation=\"relu\",\n",
    "        input_shape=(3, )\n",
    "    )\n",
    ")\n",
    "model.add(\n",
    "    keras.layers.Dense(\n",
    "        units=32,\n",
    "        activation=\"relu\"\n",
    "    )\n",
    ")\n",
    "model.add(\n",
    "    keras.layers.Dense(\n",
    "        units=2,\n",
    "        activation=\"softmax\"\n",
    "    )\n",
    ")"
   ]
  },
  {
   "cell_type": "code",
   "execution_count": 10,
   "id": "dbeb5489-27f1-49d1-adb8-1c0094d03ef8",
   "metadata": {},
   "outputs": [],
   "source": [
    "model.compile(\n",
    "    optimizer=\"adam\",\n",
    "    loss=\"sparse_categorical_crossentropy\",\n",
    "    metrics=\"accuracy\",\n",
    ")"
   ]
  },
  {
   "cell_type": "code",
   "execution_count": 11,
   "id": "ba1619de-ac0a-44c7-bb1c-af046577fb60",
   "metadata": {
    "scrolled": true
   },
   "outputs": [
    {
     "name": "stdout",
     "output_type": "stream",
     "text": [
      "Epoch 1/1000\n",
      "163/163 [==============================] - 3s 7ms/step - loss: 0.4486 - accuracy: 0.7910 - val_loss: 0.4143 - val_accuracy: 0.8077\n",
      "Epoch 2/1000\n",
      "163/163 [==============================] - 1s 4ms/step - loss: 0.3917 - accuracy: 0.8107 - val_loss: 0.4057 - val_accuracy: 0.8108\n",
      "Epoch 3/1000\n",
      "163/163 [==============================] - 1s 4ms/step - loss: 0.3824 - accuracy: 0.8139 - val_loss: 0.4002 - val_accuracy: 0.8146\n",
      "Epoch 4/1000\n",
      "163/163 [==============================] - 1s 4ms/step - loss: 0.3754 - accuracy: 0.8211 - val_loss: 0.3968 - val_accuracy: 0.8185\n",
      "Epoch 5/1000\n",
      "163/163 [==============================] - 1s 4ms/step - loss: 0.3665 - accuracy: 0.8312 - val_loss: 0.3907 - val_accuracy: 0.8254\n",
      "Epoch 6/1000\n",
      "163/163 [==============================] - 1s 4ms/step - loss: 0.3533 - accuracy: 0.8445 - val_loss: 0.3794 - val_accuracy: 0.8377\n",
      "Epoch 7/1000\n",
      "163/163 [==============================] - 1s 4ms/step - loss: 0.3453 - accuracy: 0.8472 - val_loss: 0.3665 - val_accuracy: 0.8446\n",
      "Epoch 8/1000\n",
      "163/163 [==============================] - 1s 4ms/step - loss: 0.3333 - accuracy: 0.8566 - val_loss: 0.3606 - val_accuracy: 0.8485\n",
      "Epoch 9/1000\n",
      "163/163 [==============================] - 1s 4ms/step - loss: 0.3222 - accuracy: 0.8620 - val_loss: 0.3496 - val_accuracy: 0.8515\n",
      "Epoch 10/1000\n",
      "163/163 [==============================] - 1s 4ms/step - loss: 0.3130 - accuracy: 0.8649 - val_loss: 0.3383 - val_accuracy: 0.8554\n",
      "Epoch 11/1000\n",
      "163/163 [==============================] - 1s 4ms/step - loss: 0.3071 - accuracy: 0.8699 - val_loss: 0.3344 - val_accuracy: 0.8623\n",
      "Epoch 12/1000\n",
      "163/163 [==============================] - 1s 4ms/step - loss: 0.3045 - accuracy: 0.8674 - val_loss: 0.3299 - val_accuracy: 0.8646\n",
      "Epoch 13/1000\n",
      "163/163 [==============================] - 1s 4ms/step - loss: 0.3015 - accuracy: 0.8707 - val_loss: 0.3285 - val_accuracy: 0.8631\n",
      "Epoch 14/1000\n",
      "163/163 [==============================] - 1s 4ms/step - loss: 0.2984 - accuracy: 0.8659 - val_loss: 0.3290 - val_accuracy: 0.8585\n",
      "Epoch 15/1000\n",
      "163/163 [==============================] - 1s 4ms/step - loss: 0.2945 - accuracy: 0.8701 - val_loss: 0.3225 - val_accuracy: 0.8708\n",
      "Epoch 16/1000\n",
      "163/163 [==============================] - 1s 4ms/step - loss: 0.2918 - accuracy: 0.8701 - val_loss: 0.3217 - val_accuracy: 0.8700\n",
      "Epoch 17/1000\n",
      "163/163 [==============================] - 1s 4ms/step - loss: 0.2924 - accuracy: 0.8688 - val_loss: 0.3220 - val_accuracy: 0.8638\n",
      "Epoch 18/1000\n",
      "163/163 [==============================] - 1s 4ms/step - loss: 0.2923 - accuracy: 0.8705 - val_loss: 0.3253 - val_accuracy: 0.8677\n"
     ]
    }
   ],
   "source": [
    "# 콜백 함수(ModelCheckpoint) 생성\n",
    "checkpoint_cb = keras.callbacks.ModelCheckpoint(\n",
    "    \"./model/best_model.h5\",\n",
    ")\n",
    "early_stopping_cb = keras.callbacks.EarlyStopping(\n",
    "    patience=2,\n",
    "    restore_best_weights=True\n",
    ")\n",
    "history = model.fit(X_train_scaled, y_train, epochs=1000,\n",
    "                    validation_data=(X_test_scaled, y_test),\n",
    "                    callbacks=[checkpoint_cb, early_stopping_cb])"
   ]
  },
  {
   "cell_type": "code",
   "execution_count": 12,
   "id": "fa213b5e-2a23-4258-9509-527d2e71c282",
   "metadata": {},
   "outputs": [],
   "source": [
    "best_model = keras.models.load_model(\"./model/best_model.h5\")"
   ]
  },
  {
   "cell_type": "code",
   "execution_count": 13,
   "id": "3eb444c9-2cc0-498c-89c7-d4df8c4402f7",
   "metadata": {},
   "outputs": [
    {
     "data": {
      "text/plain": [
       "array([[6.1899624e-03, 9.9381000e-01],\n",
       "       [8.9671046e-01, 1.0328958e-01],\n",
       "       [3.5052862e-02, 9.6494716e-01],\n",
       "       ...,\n",
       "       [1.6855541e-01, 8.3144456e-01],\n",
       "       [2.0775985e-02, 9.7922403e-01],\n",
       "       [2.4668965e-04, 9.9975330e-01]], dtype=float32)"
      ]
     },
     "execution_count": 13,
     "metadata": {},
     "output_type": "execute_result"
    }
   ],
   "source": [
    "# [6.1899624e-03, 9.9381000e-01] 각 요소가 0일 확률, 1일 확률의 리스트로 되어있음\n",
    "# 이를 0 or 1 로 만들어 주어야 한다.\n",
    "test_pred = best_model.predict(X_test_scaled)\n",
    "test_pred"
   ]
  },
  {
   "cell_type": "code",
   "execution_count": 14,
   "id": "ef1bbbec-d5f5-4e72-a9bb-46daec4b4f5f",
   "metadata": {
    "scrolled": true
   },
   "outputs": [
    {
     "name": "stdout",
     "output_type": "stream",
     "text": [
      "[1, 0, 1, 1, 1, 0, 1, 1, 0, 1, 1, 1, 1, 0, 0, 1, 0, 1, 1, 1, 1, 1, 1, 1, 1, 1, 1, 1, 0, 0, 0, 1, 0, 0, 0, 1, 0, 0, 1, 1, 1, 0, 1, 1, 0, 0, 1, 1, 1, 1]\n"
     ]
    }
   ],
   "source": [
    "# 각각의 요소에 np.argmax() 를 해주어 다시 이를 test_pred에 넣어준다.\n",
    "tmp = list(map(lambda x : np.argmax(x), test_pred))\n",
    "print(tmp[:50])\n",
    "test_pred = tmp"
   ]
  },
  {
   "cell_type": "code",
   "execution_count": 15,
   "id": "60254896-ca20-42d7-98d4-7b80e7faf84c",
   "metadata": {},
   "outputs": [
    {
     "data": {
      "text/plain": [
       "array([[260,  81],\n",
       "       [ 91, 868]], dtype=int64)"
      ]
     },
     "execution_count": 15,
     "metadata": {},
     "output_type": "execute_result"
    }
   ],
   "source": [
    "from sklearn.metrics import confusion_matrix\n",
    "from sklearn.metrics import ConfusionMatrixDisplay\n",
    "\n",
    "cm = confusion_matrix(y_test, test_pred)\n",
    "cm\n"
   ]
  },
  {
   "cell_type": "code",
   "execution_count": 16,
   "id": "8055448b-751c-42ea-b29a-b162c2125880",
   "metadata": {},
   "outputs": [
    {
     "data": {
      "text/plain": [
       "<sklearn.metrics._plot.confusion_matrix.ConfusionMatrixDisplay at 0x1a43cf3bc70>"
      ]
     },
     "execution_count": 16,
     "metadata": {},
     "output_type": "execute_result"
    },
    {
     "data": {
      "image/png": "[encoded data removed]",
      "text/plain": [
       "<Figure size 640x480 with 2 Axes>"
      ]
     },
     "metadata": {},
     "output_type": "display_data"
    }
   ],
   "source": [
    "disp = ConfusionMatrixDisplay(confusion_matrix = cm)\n",
    "\n",
    "disp.plot()"
   ]
  },
  {
   "cell_type": "code",
   "execution_count": 17,
   "id": "1b77b0f3-23b9-40b3-b87b-b49d7afc7859",
   "metadata": {},
   "outputs": [
    {
     "data": {
      "text/plain": [
       "(0.8676923076923077, 0.9146469968387777, 0.9051094890510949, 0.909853249475891)"
      ]
     },
     "execution_count": 17,
     "metadata": {},
     "output_type": "execute_result"
    }
   ],
   "source": [
    "from sklearn.metrics import accuracy_score\n",
    "from sklearn.metrics import precision_score\n",
    "from sklearn.metrics import recall_score\n",
    "from sklearn.metrics import f1_score\n",
    "\n",
    "acc = accuracy_score(y_test, test_pred)\n",
    "pre = precision_score(y_test, test_pred)\n",
    "rec = recall_score(y_test, test_pred)\n",
    "f1 = f1_score(y_test, test_pred)\n",
    "\n",
    "acc, pre, rec, f1"
   ]
  },
  {
   "cell_type": "code",
   "execution_count": 18,
   "id": "246d4b07-2a05-48ef-9822-cbfa697fc9c6",
   "metadata": {},
   "outputs": [],
   "source": [
    "# 정확도 0.87, f1_score 0.909853249475891 \n",
    "# 다중분류 방법으로 출력 갯수를 2로 만드는 것으로 \n",
    "# 이진분류를 구현할 수 있는 것으로 보인다."
   ]
  },
  {
   "cell_type": "code",
   "execution_count": null,
   "id": "15fd1e22-3f76-479b-9ef6-a304955e4565",
   "metadata": {},
   "outputs": [],
   "source": []
  },
  {
   "cell_type": "code",
   "execution_count": null,
   "id": "a35ab0f2-8980-48f2-8d56-a14e473f32dc",
   "metadata": {},
   "outputs": [],
   "source": []
  },
  {
   "cell_type": "code",
   "execution_count": 19,
   "id": "d8749f0d-5380-4061-ae35-ddc93f83ded6",
   "metadata": {},
   "outputs": [],
   "source": [
    "# 이번엔 정석적인 방법으로 2진 분류를 구현해보자.\n",
    "model = keras.Sequential()\n",
    "\n",
    "model.add(\n",
    "    keras.layers.Dense(\n",
    "        units=64,\n",
    "        activation=\"relu\",\n",
    "        input_shape=(3, )\n",
    "    )\n",
    ")\n",
    "model.add(\n",
    "    keras.layers.Dense(\n",
    "        units=32,\n",
    "        activation=\"relu\"\n",
    "    )\n",
    ")\n",
    "model.add(\n",
    "    keras.layers.Dense(\n",
    "        units=1,                  # 출력 1개\n",
    "        activation=\"sigmoid\"      # 활성화함수로 sigmoid\n",
    "    )\n",
    ")"
   ]
  },
  {
   "cell_type": "code",
   "execution_count": 20,
   "id": "2940cbb6-d78d-435a-af22-65f3a4ef2868",
   "metadata": {},
   "outputs": [],
   "source": [
    "model.compile(\n",
    "    optimizer=\"adam\",\n",
    "    loss=\"binary_crossentropy\",\n",
    "    metrics=\"accuracy\",\n",
    ")"
   ]
  },
  {
   "cell_type": "code",
   "execution_count": 21,
   "id": "c2a299b0-7ba2-4f19-a770-c515a69b94bb",
   "metadata": {
    "scrolled": true
   },
   "outputs": [
    {
     "name": "stdout",
     "output_type": "stream",
     "text": [
      "Epoch 1/1000\n",
      "163/163 [==============================] - 2s 6ms/step - loss: 0.4453 - accuracy: 0.7924 - val_loss: 0.4151 - val_accuracy: 0.8077\n",
      "Epoch 2/1000\n",
      "163/163 [==============================] - 1s 4ms/step - loss: 0.3918 - accuracy: 0.8182 - val_loss: 0.4065 - val_accuracy: 0.8100\n",
      "Epoch 3/1000\n",
      "163/163 [==============================] - 1s 4ms/step - loss: 0.3844 - accuracy: 0.8193 - val_loss: 0.4023 - val_accuracy: 0.8162\n",
      "Epoch 4/1000\n",
      "163/163 [==============================] - 1s 4ms/step - loss: 0.3798 - accuracy: 0.8218 - val_loss: 0.3988 - val_accuracy: 0.8177\n",
      "Epoch 5/1000\n",
      "163/163 [==============================] - 1s 4ms/step - loss: 0.3751 - accuracy: 0.8228 - val_loss: 0.4004 - val_accuracy: 0.8192\n",
      "Epoch 6/1000\n",
      "163/163 [==============================] - 1s 4ms/step - loss: 0.3679 - accuracy: 0.8276 - val_loss: 0.3928 - val_accuracy: 0.8185\n",
      "Epoch 7/1000\n",
      "163/163 [==============================] - 1s 4ms/step - loss: 0.3644 - accuracy: 0.8305 - val_loss: 0.3839 - val_accuracy: 0.8362\n",
      "Epoch 8/1000\n",
      "163/163 [==============================] - 1s 4ms/step - loss: 0.3572 - accuracy: 0.8397 - val_loss: 0.3837 - val_accuracy: 0.8392\n",
      "Epoch 9/1000\n",
      "163/163 [==============================] - 1s 4ms/step - loss: 0.3494 - accuracy: 0.8482 - val_loss: 0.3717 - val_accuracy: 0.8392\n",
      "Epoch 10/1000\n",
      "163/163 [==============================] - 1s 4ms/step - loss: 0.3388 - accuracy: 0.8543 - val_loss: 0.3614 - val_accuracy: 0.8462\n",
      "Epoch 11/1000\n",
      "163/163 [==============================] - 1s 4ms/step - loss: 0.3298 - accuracy: 0.8580 - val_loss: 0.3538 - val_accuracy: 0.8554\n",
      "Epoch 12/1000\n",
      "163/163 [==============================] - 1s 4ms/step - loss: 0.3224 - accuracy: 0.8628 - val_loss: 0.3450 - val_accuracy: 0.8608\n",
      "Epoch 13/1000\n",
      "163/163 [==============================] - 1s 4ms/step - loss: 0.3153 - accuracy: 0.8651 - val_loss: 0.3415 - val_accuracy: 0.8554\n",
      "Epoch 14/1000\n",
      "163/163 [==============================] - 1s 4ms/step - loss: 0.3094 - accuracy: 0.8645 - val_loss: 0.3351 - val_accuracy: 0.8608\n",
      "Epoch 15/1000\n",
      "163/163 [==============================] - 1s 4ms/step - loss: 0.3030 - accuracy: 0.8668 - val_loss: 0.3309 - val_accuracy: 0.8662\n",
      "Epoch 16/1000\n",
      "163/163 [==============================] - 1s 4ms/step - loss: 0.2986 - accuracy: 0.8693 - val_loss: 0.3284 - val_accuracy: 0.8646\n",
      "Epoch 17/1000\n",
      "163/163 [==============================] - 1s 3ms/step - loss: 0.2977 - accuracy: 0.8703 - val_loss: 0.3252 - val_accuracy: 0.8662\n",
      "Epoch 18/1000\n",
      "163/163 [==============================] - 1s 3ms/step - loss: 0.2961 - accuracy: 0.8701 - val_loss: 0.3287 - val_accuracy: 0.8654\n",
      "Epoch 19/1000\n",
      "163/163 [==============================] - 1s 4ms/step - loss: 0.2932 - accuracy: 0.8701 - val_loss: 0.3269 - val_accuracy: 0.8623\n"
     ]
    }
   ],
   "source": [
    "# 콜백 함수(ModelCheckpoint) 생성\n",
    "checkpoint_cb = keras.callbacks.ModelCheckpoint(\n",
    "    \"./model/best_model.h5\",\n",
    ")\n",
    "early_stopping_cb = keras.callbacks.EarlyStopping(\n",
    "    patience=2,\n",
    "    restore_best_weights=True\n",
    ")\n",
    "history = model.fit(X_train_scaled, y_train, epochs=1000,\n",
    "                    validation_data=(X_test_scaled, y_test),\n",
    "                    callbacks=[checkpoint_cb, early_stopping_cb])"
   ]
  },
  {
   "cell_type": "code",
   "execution_count": 22,
   "id": "a4373283-d5b8-4277-853b-2fb66c418915",
   "metadata": {
    "scrolled": true
   },
   "outputs": [
    {
     "data": {
      "text/plain": [
       "array([[0.99133176],\n",
       "       [0.1419985 ],\n",
       "       [0.95820385],\n",
       "       ...,\n",
       "       [0.8338312 ],\n",
       "       [0.97797173],\n",
       "       [0.9996924 ]], dtype=float32)"
      ]
     },
     "execution_count": 22,
     "metadata": {},
     "output_type": "execute_result"
    }
   ],
   "source": [
    "best_model = keras.models.load_model(\"./model/best_model.h5\")\n",
    "test_pred = best_model.predict(X_test_scaled)\n",
    "test_pred\n",
    "# [0.99025655] 출력이 길이가 1인 리스트에 0에 가까우면 0, 1에 가까우면 1 인 것으로 보인다."
   ]
  },
  {
   "cell_type": "code",
   "execution_count": 23,
   "id": "480a1dd7-7e18-4e58-a5c0-263258affb28",
   "metadata": {},
   "outputs": [
    {
     "data": {
      "text/plain": [
       "array([0.99133176], dtype=float32)"
      ]
     },
     "execution_count": 23,
     "metadata": {},
     "output_type": "execute_result"
    }
   ],
   "source": [
    "test_pred[0]"
   ]
  },
  {
   "cell_type": "code",
   "execution_count": 24,
   "id": "893c6701-9d2f-487c-9055-1b7906aad4b2",
   "metadata": {
    "scrolled": true
   },
   "outputs": [
    {
     "name": "stdout",
     "output_type": "stream",
     "text": [
      "[1, 0, 1, 1, 1, 0, 1, 1, 0, 1, 1, 1, 1, 0, 0, 1, 0, 1, 1, 1, 1, 1, 1, 1, 1, 1, 1, 1, 0, 0, 0, 1, 0, 0, 0, 1, 0, 0, 1, 1, 1, 0, 1, 1, 0, 0, 1, 1, 1, 1]\n"
     ]
    }
   ],
   "source": [
    "# 이를 0 또는 1로 만들어주기 위해 round() 반올림 함수를 각 요소에 적용해준다.\n",
    "tmp = list(map(lambda x : round(x[0]), test_pred))\n",
    "print(tmp[:50])\n",
    "test_pred = tmp"
   ]
  },
  {
   "cell_type": "code",
   "execution_count": 25,
   "id": "58139bfb-fc4d-4a46-9b68-c50547e145b3",
   "metadata": {},
   "outputs": [
    {
     "data": {
      "text/plain": [
       "array([[253,  88],\n",
       "       [ 91, 868]], dtype=int64)"
      ]
     },
     "execution_count": 25,
     "metadata": {},
     "output_type": "execute_result"
    }
   ],
   "source": [
    "from sklearn.metrics import confusion_matrix\n",
    "from sklearn.metrics import ConfusionMatrixDisplay\n",
    "\n",
    "cm = confusion_matrix(y_test, test_pred)\n",
    "cm\n"
   ]
  },
  {
   "cell_type": "code",
   "execution_count": 26,
   "id": "6829cc87-2db7-4cff-a699-ab910203b10f",
   "metadata": {},
   "outputs": [
    {
     "data": {
      "text/plain": [
       "<sklearn.metrics._plot.confusion_matrix.ConfusionMatrixDisplay at 0x1a43eade6a0>"
      ]
     },
     "execution_count": 26,
     "metadata": {},
     "output_type": "execute_result"
    },
    {
     "data": {
      "image/png": "[encoded data removed]",
      "text/plain": [
       "<Figure size 640x480 with 2 Axes>"
      ]
     },
     "metadata": {},
     "output_type": "display_data"
    }
   ],
   "source": [
    "disp = ConfusionMatrixDisplay(confusion_matrix = cm)\n",
    "\n",
    "disp.plot()"
   ]
  },
  {
   "cell_type": "code",
   "execution_count": 27,
   "id": "d9d4cee3-de0f-4808-b7b1-32216599b972",
   "metadata": {},
   "outputs": [
    {
     "data": {
      "text/plain": [
       "(0.8623076923076923,\n",
       " 0.9079497907949791,\n",
       " 0.9051094890510949,\n",
       " 0.9065274151436031)"
      ]
     },
     "execution_count": 27,
     "metadata": {},
     "output_type": "execute_result"
    }
   ],
   "source": [
    "from sklearn.metrics import accuracy_score\n",
    "from sklearn.metrics import precision_score\n",
    "from sklearn.metrics import recall_score\n",
    "from sklearn.metrics import f1_score\n",
    "\n",
    "acc = accuracy_score(y_test, test_pred)\n",
    "pre = precision_score(y_test, test_pred)\n",
    "rec = recall_score(y_test, test_pred)\n",
    "f1 = f1_score(y_test, test_pred)\n",
    "\n",
    "\n",
    "\n",
    "acc, pre, rec, f1"
   ]
  },
  {
   "cell_type": "code",
   "execution_count": 28,
   "id": "fb74184a-4223-4895-acd1-4ce930d2e8b7",
   "metadata": {},
   "outputs": [],
   "source": [
    "train_pred = model.predict(X_train_scaled)\n",
    "tmp = list(map(lambda x : round(x[0]), train_pred))\n",
    "tmp\n",
    "train_pred = tmp"
   ]
  },
  {
   "cell_type": "code",
   "execution_count": 29,
   "id": "398ee747-5617-4f0e-afc9-2ec38f62eb00",
   "metadata": {},
   "outputs": [],
   "source": [
    "train_acc = accuracy_score(y_train, train_pred)"
   ]
  },
  {
   "cell_type": "code",
   "execution_count": 30,
   "id": "0f62e44e-6e21-4284-b631-a5f5b5f29e74",
   "metadata": {},
   "outputs": [
    {
     "data": {
      "text/plain": [
       "(0.8710794689243795, 0.8623076923076923, 0.008771776616687155)"
      ]
     },
     "execution_count": 30,
     "metadata": {},
     "output_type": "execute_result"
    }
   ],
   "source": [
    "train_acc, acc, train_acc - acc"
   ]
  },
  {
   "cell_type": "code",
   "execution_count": 31,
   "id": "bcc10044-6bae-4826-ba32-69da282758fe",
   "metadata": {},
   "outputs": [],
   "source": [
    "# softmax를 사용한 결과와 크게 다르지 않아보이고\n",
    "# 테스트 정확도 > 0.85 과 f1_score > 90로 모델의 성능은 좋은 것으로 보인다.\n",
    "# 그리고 테스트 정확도와 훈련 정확도의 차이가 0.01로 일반화도 매우 잘 된 모델이다."
   ]
  }
 ],
 "metadata": {
  "kernelspec": {
   "display_name": "dg_env_dl_kernel",
   "language": "python",
   "name": "dg_env_dl"
  },
  "language_info": {
   "codemirror_mode": {
    "name": "ipython",
    "version": 3
   },
   "file_extension": ".py",
   "mimetype": "text/x-python",
   "name": "python",
   "nbconvert_exporter": "python",
   "pygments_lexer": "ipython3",
   "version": "3.9.15"
  }
 },
 "nbformat": 4,
 "nbformat_minor": 5
}
