{
 "cells": [
  {
   "cell_type": "code",
   "execution_count": 1,
   "id": "24df48d0-2d3c-4cd3-8409-46a4aef1f26a",
   "metadata": {},
   "outputs": [],
   "source": [
    "import pandas as pd\n",
    "import numpy as np\n",
    "from scipy.stats import spearmanr, pearsonr\n",
    "from tensorflow.keras.layers import Dense, Dropout\n",
    "from tensorflow.keras.models import Sequential\n",
    "from tensorflow.keras.optimizers import Adam\n",
    "from tensorflow.keras.callbacks import EarlyStopping\n",
    "import matplotlib.pyplot as plt\n",
    "import seaborn as sns\n",
    "from sklearn.preprocessing import MinMaxScaler"
   ]
  },
  {
   "cell_type": "code",
   "execution_count": 2,
   "id": "d09435f9-f66d-46de-a560-616002191e32",
   "metadata": {},
   "outputs": [],
   "source": [
    "### 시각화를 위한 라이브러리\n",
    "# - 파이썬 시각화에서 가장 기본적인 시각화 라이브러리\n",
    "import matplotlib.pyplot as plt\n",
    "\n",
    "### 한글처리\n",
    "from matplotlib import font_manager, rc\n",
    "\n",
    "\n",
    "### 운영체제 확인 라이브러리\n",
    "import platform\n",
    "\n",
    "### 시각화 시 마이너스(-, 음수) 기호 깨짐 방지\n",
    "plt.rcParams[\"axes.unicode_minus\"] = False\n",
    "\n",
    "### OS별 한글처리\n",
    "# - 윈도우 운영체게\n",
    "if platform.system() == \"Windows\" :\n",
    "    # path = \"c:/Windows/Fonts/malgun.ttf\"\n",
    "    # font_name = font_manager.FontProperties(fname=path).get_name()\n",
    "    # rc(\"font\", family = font_name)\n",
    "    \n",
    "    ### 또는 아래처럼 한줄로도 가능 (아래 한글처리를 주로 사용합니다.)\n",
    "    plt.rc(\"font\", family = \"Malgun Gothic\")\n",
    "\n",
    "# - Mac 운영체제\n",
    "elif platform.system() == \"Darwin\" :\n",
    "    rc(\"font\", family = \"AppleGothic\")\n",
    "    \n",
    "else :\n",
    "    print(\"넌 누구?\")"
   ]
  },
  {
   "cell_type": "markdown",
   "id": "322ca37b-a406-40eb-b1f1-dabeb5c7460f",
   "metadata": {},
   "source": [
    "### 데이터 불러오기 및 전처리"
   ]
  },
  {
   "cell_type": "code",
   "execution_count": 3,
   "id": "c6827792-04b4-4695-b156-dbe707c7f20c",
   "metadata": {},
   "outputs": [],
   "source": [
    "labeled = pd.read_csv('./data/labeled_data.csv')"
   ]
  },
  {
   "cell_type": "code",
   "execution_count": 4,
   "id": "1e926abd-fc84-468d-ad01-f03b219b9703",
   "metadata": {},
   "outputs": [],
   "source": [
    "labeled_cn7 = labeled[(labeled[\"PART_NAME\"] == \"CN7 W/S SIDE MLD'G RH\") |(labeled[\"PART_NAME\"] == \"CN7 W/S SIDE MLD'G LH\")]"
   ]
  },
  {
   "cell_type": "code",
   "execution_count": 5,
   "id": "379a3b44-3c30-441e-830f-1f78ac6079d1",
   "metadata": {},
   "outputs": [],
   "source": [
    "labeled_cn7 = labeled_cn7.drop(columns=[\"_id\", \"TimeStamp\",\"PART_FACT_PLAN_DATE\", \"Reason\", \"PART_FACT_SERIAL\", \"PART_NAME\",\n",
    "               \"EQUIP_NAME\", \"EQUIP_CD\", \"Switch_Over_Position\", \"Mold_Temperature_1\",\"Mold_Temperature_2\",\"Mold_Temperature_5\",\n",
    "                \"Mold_Temperature_6\", \"Mold_Temperature_7\",\"Mold_Temperature_8\",\"Mold_Temperature_9\",\"Mold_Temperature_10\",\n",
    "               \"Mold_Temperature_11\",\"Mold_Temperature_12\",\"Barrel_Temperature_7\"])"
   ]
  },
  {
   "cell_type": "code",
   "execution_count": 6,
   "id": "c832488c-57f1-4d41-8b93-fc6bf24582bb",
   "metadata": {},
   "outputs": [
    {
     "name": "stderr",
     "output_type": "stream",
     "text": [
      "C:\\Users\\Admin\\AppData\\Local\\Temp\\ipykernel_5708\\3829480872.py:1: FutureWarning: Downcasting behavior in `replace` is deprecated and will be removed in a future version. To retain the old behavior, explicitly call `result.infer_objects(copy=False)`. To opt-in to the future behavior, set `pd.set_option('future.no_silent_downcasting', True)`\n",
      "  labeled_cn7[\"PassOrFail\"] = labeled_cn7[\"PassOrFail\"].replace('Y',1).replace('N',0)\n"
     ]
    }
   ],
   "source": [
    "labeled_cn7[\"PassOrFail\"] = labeled_cn7[\"PassOrFail\"].replace('Y',1).replace('N',0)"
   ]
  },
  {
   "cell_type": "code",
   "execution_count": 7,
   "id": "633f61c2-dcf3-4010-b679-e80ae81d8311",
   "metadata": {},
   "outputs": [],
   "source": [
    "### Clamp_Open_Position에서 눈에띄게 낮은 값들 제거\n",
    "cn7 = labeled_cn7[labeled_cn7[\"Clamp_Open_Position\"]>=200] \n",
    "cn7 = cn7.drop(columns=[\"Clamp_Open_Position\"])"
   ]
  },
  {
   "cell_type": "code",
   "execution_count": 8,
   "id": "35952e70-1852-4e09-8ef5-8ac2d09774ed",
   "metadata": {},
   "outputs": [],
   "source": [
    "def remove_outliers(df, column):\n",
    "    # 1사분위수(Q1)와 3사분위수(Q3) 계산\n",
    "    Q1 = df[column].quantile(0.25)\n",
    "    Q3 = df[column].quantile(0.75)\n",
    "    \n",
    "    # IQR 계산\n",
    "    IQR = Q3 - Q1\n",
    "    \n",
    "    # 이상치 범위 설정\n",
    "    lower_bound = Q1 - 1.5 * IQR\n",
    "    upper_bound = Q3 + 1.5 * IQR\n",
    "    \n",
    "    # 이상치 제거\n",
    "    filtered_df = df[(df[column] >= lower_bound) & (df[column] <= upper_bound)]\n",
    "    \n",
    "    return filtered_df"
   ]
  },
  {
   "cell_type": "code",
   "execution_count": 9,
   "id": "aba2a6e1-575f-4b0e-8cb5-11309f7c721c",
   "metadata": {},
   "outputs": [
    {
     "name": "stdout",
     "output_type": "stream",
     "text": [
      "CN7의 양품 개수: 6661\n",
      "CN7의 불량 개수: 39\n"
     ]
    }
   ],
   "source": [
    "cn7_Y = cn7[cn7[\"PassOrFail\"]==1].copy()\n",
    "print(\"CN7의 양품 개수:\", len(cn7_Y))\n",
    "cn7_N = cn7[cn7[\"PassOrFail\"]==0].copy()\n",
    "print(\"CN7의 불량 개수:\", len(cn7_N))"
   ]
  },
  {
   "cell_type": "code",
   "execution_count": 10,
   "id": "643ee7c4-01e3-4566-bdd8-01e38f838087",
   "metadata": {},
   "outputs": [
    {
     "name": "stdout",
     "output_type": "stream",
     "text": [
      "<class 'pandas.core.frame.DataFrame'>\n",
      "Index: 6597 entries, 0 to 7995\n",
      "Data columns (total 24 columns):\n",
      " #   Column                    Non-Null Count  Dtype  \n",
      "---  ------                    --------------  -----  \n",
      " 0   PassOrFail                6597 non-null   int64  \n",
      " 1   Injection_Time            6597 non-null   float64\n",
      " 2   Filling_Time              6597 non-null   float64\n",
      " 3   Plasticizing_Time         6597 non-null   float64\n",
      " 4   Cycle_Time                6597 non-null   float64\n",
      " 5   Clamp_Close_Time          6597 non-null   float64\n",
      " 6   Cushion_Position          6597 non-null   float64\n",
      " 7   Plasticizing_Position     6597 non-null   float64\n",
      " 8   Max_Injection_Speed       6597 non-null   float64\n",
      " 9   Max_Screw_RPM             6597 non-null   float64\n",
      " 10  Average_Screw_RPM         6597 non-null   float64\n",
      " 11  Max_Injection_Pressure    6597 non-null   float64\n",
      " 12  Max_Switch_Over_Pressure  6597 non-null   float64\n",
      " 13  Max_Back_Pressure         6597 non-null   float64\n",
      " 14  Average_Back_Pressure     6597 non-null   float64\n",
      " 15  Barrel_Temperature_1      6597 non-null   float64\n",
      " 16  Barrel_Temperature_2      6597 non-null   float64\n",
      " 17  Barrel_Temperature_3      6597 non-null   float64\n",
      " 18  Barrel_Temperature_4      6597 non-null   float64\n",
      " 19  Barrel_Temperature_5      6597 non-null   float64\n",
      " 20  Barrel_Temperature_6      6597 non-null   float64\n",
      " 21  Hopper_Temperature        6597 non-null   float64\n",
      " 22  Mold_Temperature_3        6597 non-null   float64\n",
      " 23  Mold_Temperature_4        6597 non-null   float64\n",
      "dtypes: float64(23), int64(1)\n",
      "memory usage: 1.3 MB\n"
     ]
    }
   ],
   "source": [
    "tmp1 = cn7_Y.copy()\n",
    "tmp1 = remove_outliers(tmp1, \"Injection_Time\")\n",
    "tmp1 = remove_outliers(tmp1, \"Plasticizing_Time\")\n",
    "tmp1 = remove_outliers(tmp1, \"Cycle_Time\")\n",
    "cn7_pass_removed = tmp1.copy()\n",
    "cn7_pass_removed.info()"
   ]
  },
  {
   "cell_type": "code",
   "execution_count": 11,
   "id": "718f3e74-7a78-4f8e-941d-1b93a5caa860",
   "metadata": {},
   "outputs": [
    {
     "data": {
      "text/plain": [
       "PassOrFail\n",
       "1    6597\n",
       "0      39\n",
       "Name: count, dtype: int64"
      ]
     },
     "execution_count": 11,
     "metadata": {},
     "output_type": "execute_result"
    }
   ],
   "source": [
    "cn7_removed = pd.concat([cn7_pass_removed, cn7_N], ignore_index=True)\n",
    "cn7_removed[\"PassOrFail\"].value_counts()"
   ]
  },
  {
   "cell_type": "code",
   "execution_count": 12,
   "id": "672d526d-3b8d-4085-bb9b-1f988fccd165",
   "metadata": {},
   "outputs": [],
   "source": [
    "variable_names = [\n",
    "    \"PassOrFail\",\n",
    "    \"Injection_Time\",\n",
    "    \"Cycle_Time\",\n",
    "    \"Clamp_Close_Time\",\n",
    "    \"Cushion_Position\",\n",
    "    \"Plasticizing_Position\",\n",
    "    \"Average_Screw_RPM\",\n",
    "    \"Max_Switch_Over_Pressure\",\n",
    "    \"Barrel_Temperature_3\",\n",
    "    \"Barrel_Temperature_5\",\n",
    "    \"Barrel_Temperature_6\",\n",
    "    \"Hopper_Temperature\"\n",
    "]\n",
    "cn7_removed = cn7_removed[variable_names]"
   ]
  },
  {
   "cell_type": "code",
   "execution_count": 13,
   "id": "e8f54646-215b-46c0-83f5-716a69a4de1c",
   "metadata": {},
   "outputs": [],
   "source": [
    "import numpy as np\n",
    "import pandas as pd\n",
    "from sklearn.model_selection import train_test_split\n",
    "from sklearn.preprocessing import StandardScaler\n",
    "from sklearn.ensemble import IsolationForest\n",
    "from sklearn.svm import OneClassSVM\n",
    "from sklearn.cluster import DBSCAN\n",
    "from sklearn.neighbors import LocalOutlierFactor\n",
    "from sklearn.metrics import classification_report, confusion_matrix\n",
    "\n",
    "# 독립변수와 종속변수 분리 \n",
    "y = cn7_removed[\"PassOrFail\"]\n",
    "X = cn7_removed.drop(columns=[\"PassOrFail\"])"
   ]
  },
  {
   "cell_type": "markdown",
   "id": "25372d30-4875-4ad6-aef5-f7e1da262b16",
   "metadata": {},
   "source": [
    "# 이상탐지를 위한 데이터 분리"
   ]
  },
  {
   "cell_type": "code",
   "execution_count": 75,
   "id": "13664960-1d81-4140-b961-f1412e92d809",
   "metadata": {},
   "outputs": [],
   "source": [
    "# 테스트 데이터 분리\n",
    "X_train, X_test, y_train, y_test  = train_test_split(X, y, test_size=0.3, random_state=42)\n",
    "\n",
    "# 이상탐지를 위한 검증 데이터 분리\n",
    "X_train, X_val, y_train, y_val  = train_test_split(X_train, y_train, test_size=0.3, random_state=42)"
   ]
  },
  {
   "cell_type": "markdown",
   "id": "98b6214d-73d8-437f-9ebd-8bee9ac51734",
   "metadata": {},
   "source": [
    "# 분류 모델을 위한 데이터 분리 및 증강"
   ]
  },
  {
   "cell_type": "code",
   "execution_count": 80,
   "id": "989a76aa-37b0-4fe4-b786-32e872d51762",
   "metadata": {},
   "outputs": [],
   "source": [
    "# X_train, y_train 합치기\n",
    "Xy_train = X_train.copy()\n",
    "Xy_train[\"PassOrFail\"] = y_train\n",
    "\n",
    "cn7_removed_negative = Xy_train[Xy_train[\"PassOrFail\"] == 0]\n",
    "cn7_removed_positive = Xy_train[Xy_train[\"PassOrFail\"] == 1]\n",
    "before_cn7_removed_positive_count = len(cn7_removed_positive)"
   ]
  },
  {
   "cell_type": "code",
   "execution_count": 81,
   "id": "26ebde52-f623-45fd-9d35-597947df8689",
   "metadata": {},
   "outputs": [
    {
     "name": "stdout",
     "output_type": "stream",
     "text": [
      "증강 후 양품 데이터 개수: 3234\n",
      "증강 후 불량 데이터 개수: 2263\n",
      "증강 후\n",
      "(5497, 11) (5497,)\n",
      "====================================\n"
     ]
    }
   ],
   "source": [
    "from sklearn.utils import resample\n",
    "\n",
    "# 목표 불량 데이터 개수 (양품 데이터의 70% 수준으로 설정)\n",
    "target_defective_count = int(before_cn7_removed_positive_count * 0.7)\n",
    "\n",
    "# 랜덤 오버샘플링 수행 (불량 데이터를 증강)\n",
    "oversampled_negative_data = resample(\n",
    "    cn7_removed_negative,\n",
    "    replace=True,\n",
    "    n_samples=target_defective_count,  # 목표 불량 데이터 개수로 증강\n",
    "    random_state=42\n",
    ")\n",
    "\n",
    "# 증강된 불량 데이터와 기존 양품 데이터를 병합\n",
    "oversampled_data = pd.concat([cn7_removed_positive, oversampled_negative_data])\n",
    "\n",
    "# 증강 후 데이터 분리\n",
    "X_resampled = oversampled_data.drop(columns=[\"PassOrFail\"])\n",
    "y_resampled = oversampled_data[\"PassOrFail\"]\n",
    "# 증강 후 클래스 분포 확인\n",
    "augmented_defective_count = len(oversampled_negative_data)\n",
    "augmented_non_defective_count = len(cn7_removed_positive)\n",
    "\n",
    "print(f\"증강 후 양품 데이터 개수: {augmented_non_defective_count}\")\n",
    "print(f\"증강 후 불량 데이터 개수: {augmented_defective_count}\")\n",
    "\n",
    "\n",
    "print(\"증강 후\")\n",
    "print(X_resampled.shape, y_resampled.shape)\n",
    "print(\"====================================\")\n",
    "\n",
    "# 검증 데이터 분리\n",
    "X_train, X_val, y_train, y_val = train_test_split(X_resampled, y_resampled, test_size=0.3, random_state=42)\n"
   ]
  },
  {
   "cell_type": "code",
   "execution_count": null,
   "id": "e9556cef-7fa2-4a41-bcd0-07bc174e2e4f",
   "metadata": {},
   "outputs": [],
   "source": []
  },
  {
   "cell_type": "markdown",
   "id": "28a91902-a1f2-43df-a7d8-908ec51dde82",
   "metadata": {},
   "source": [
    "###  Local Outlier Factor"
   ]
  },
  {
   "cell_type": "code",
   "execution_count": 61,
   "id": "1b6dd2f2-486f-4070-b195-36b72b57248a",
   "metadata": {
    "scrolled": true
   },
   "outputs": [
    {
     "data": {
      "text/plain": [
       "array([[  10,    6],\n",
       "       [  18, 1957]], dtype=int64)"
      ]
     },
     "execution_count": 61,
     "metadata": {},
     "output_type": "execute_result"
    }
   ],
   "source": [
    "import numpy as np\n",
    "import pandas as pd\n",
    "from sklearn.model_selection import train_test_split\n",
    "from sklearn.preprocessing import StandardScaler\n",
    "from sklearn.ensemble import IsolationForest\n",
    "from sklearn.svm import OneClassSVM\n",
    "from sklearn.cluster import DBSCAN\n",
    "from sklearn.neighbors import LocalOutlierFactor\n",
    "from sklearn.metrics import accuracy_score, precision_score, recall_score, f1_score, confusion_matrix\n",
    "\n",
    "# 독립변수 종속변수 분리 \n",
    "y = cn7_removed[\"PassOrFail\"]\n",
    "X = cn7_removed.drop(columns=[\"PassOrFail\"])\n",
    "\n",
    "# 테스트 데이터 분리\n",
    "X_train, X_test, y_train, y_test  = train_test_split(X, y, test_size=0.3, random_state=42)\n",
    "\n",
    "# 검증 데이터 분리\n",
    "X_train, X_val, y_train, y_val  = train_test_split(X_train, y_train, test_size=0.3, random_state=42)\n",
    "\n",
    "# 데이터 정규화\n",
    "ss=StandardScaler()\n",
    "ss.fit(X_train)\n",
    "X_train_scaled = ss.transform(X_train)\n",
    "X_val_scaled = ss.transform(X_val)\n",
    "X_test_scaled=ss.transform(X_test)\n",
    "\n",
    "# --- 이상탐지 모델 정의 ---\n",
    "model = LocalOutlierFactor(n_neighbors=26, novelty=True, contamination='auto')\n",
    "\n",
    "\n",
    "model.fit(X_train_scaled)\n",
    "y_pred = model.predict(X_test_scaled)\n",
    "# Isolation Forest, One-Class SVM, Local Outlier Factor는 정상: 1, 이상: -1 반환\n",
    "y_pred_converted = [1 if label == 1 else 0 for label in y_pred]\n",
    "\n",
    "# 평가 지표 계산\n",
    "train_acc = accuracy_score(y_test, y_pred_converted)\n",
    "val_acc = train_acc\n",
    "pre = precision_score(y_test, y_pred_converted)\n",
    "rec = recall_score(y_test, y_pred_converted)\n",
    "f1  = f1_score(y_test, y_pred_converted)\n",
    "cm = confusion_matrix(y_test, y_pred_converted)\n",
    "TN, FP, FN, TP = cm[0, 0], cm[0, 1], cm[1, 0], cm[1, 1]\n",
    "\n",
    "# 이상탐지 모델은 비지도이므로 훈련/검증 정확도, 훈련-검증 항목은 해당 없음\n",
    "train_acc = np.nan\n",
    "val_acc = np.nan\n",
    "train_val_diff = np.nan\n",
    "# 파라미터는 그대로 비워둠\n",
    "params = \"\"\n",
    "\n",
    "# 결과를 데이터프레임에 추가\n",
    "temp_df = pd.DataFrame([[model_name, train_acc, val_acc, pre, rec, f1, train_val_diff, TN, FP, FN, TP, params]],\n",
    "                       columns=[\"모델명\", \"훈련_정확도\", \"검증_정확도\", \"정밀도\", \"재현율\",\n",
    "                                \"f1-score\", \"훈련-검증\", \"TN\", \"FP\", \"FN\", \"TP\", \"파라미터\"])\n",
    "grid_df = pd.concat([grid_df, temp_df], ignore_index=True)"
   ]
  },
  {
   "cell_type": "markdown",
   "id": "b32fcd0f-e7c9-4612-b797-bc9ee89547d2",
   "metadata": {},
   "source": [
    "### 오토인코더"
   ]
  },
  {
   "cell_type": "code",
   "execution_count": 17,
   "id": "591b821c-b3f9-4bd4-be56-299967eae64a",
   "metadata": {
    "scrolled": true
   },
   "outputs": [
    {
     "name": "stdout",
     "output_type": "stream",
     "text": [
      "Epoch 1/50\n",
      "117/117 [==============================] - 1s 2ms/step - loss: 1.1589 - val_loss: 1.0389\n",
      "Epoch 2/50\n",
      "117/117 [==============================] - 0s 1ms/step - loss: 0.9805 - val_loss: 0.8917\n",
      "Epoch 3/50\n",
      "117/117 [==============================] - 0s 1ms/step - loss: 0.8755 - val_loss: 0.8202\n",
      "Epoch 4/50\n",
      "117/117 [==============================] - 0s 1ms/step - loss: 0.8202 - val_loss: 0.7774\n",
      "Epoch 5/50\n",
      "117/117 [==============================] - 0s 1ms/step - loss: 0.7821 - val_loss: 0.7456\n",
      "Epoch 6/50\n",
      "117/117 [==============================] - 0s 1ms/step - loss: 0.7533 - val_loss: 0.7202\n",
      "Epoch 7/50\n",
      "117/117 [==============================] - 0s 1ms/step - loss: 0.7330 - val_loss: 0.7046\n",
      "Epoch 8/50\n",
      "117/117 [==============================] - 0s 1ms/step - loss: 0.7194 - val_loss: 0.6932\n",
      "Epoch 9/50\n",
      "117/117 [==============================] - 0s 1ms/step - loss: 0.7093 - val_loss: 0.6843\n",
      "Epoch 10/50\n",
      "117/117 [==============================] - 0s 1ms/step - loss: 0.6992 - val_loss: 0.6775\n",
      "Epoch 11/50\n",
      "117/117 [==============================] - 0s 1ms/step - loss: 0.6916 - val_loss: 0.6721\n",
      "Epoch 12/50\n",
      "117/117 [==============================] - 0s 1ms/step - loss: 0.6865 - val_loss: 0.6675\n",
      "Epoch 13/50\n",
      "117/117 [==============================] - 0s 1ms/step - loss: 0.6824 - val_loss: 0.6636\n",
      "Epoch 14/50\n",
      "117/117 [==============================] - 0s 1ms/step - loss: 0.6787 - val_loss: 0.6600\n",
      "Epoch 15/50\n",
      "117/117 [==============================] - 0s 1ms/step - loss: 0.6754 - val_loss: 0.6568\n",
      "Epoch 16/50\n",
      "117/117 [==============================] - 0s 1ms/step - loss: 0.6725 - val_loss: 0.6538\n",
      "Epoch 17/50\n",
      "117/117 [==============================] - 0s 1ms/step - loss: 0.6698 - val_loss: 0.6512\n",
      "Epoch 18/50\n",
      "117/117 [==============================] - 0s 1ms/step - loss: 0.6674 - val_loss: 0.6489\n",
      "Epoch 19/50\n",
      "117/117 [==============================] - 0s 1ms/step - loss: 0.6652 - val_loss: 0.6468\n",
      "Epoch 20/50\n",
      "117/117 [==============================] - 0s 3ms/step - loss: 0.6633 - val_loss: 0.6451\n",
      "Epoch 21/50\n",
      "117/117 [==============================] - 0s 1ms/step - loss: 0.6617 - val_loss: 0.6435\n",
      "Epoch 22/50\n",
      "117/117 [==============================] - 0s 1ms/step - loss: 0.6603 - val_loss: 0.6422\n",
      "Epoch 23/50\n",
      "117/117 [==============================] - 0s 1ms/step - loss: 0.6590 - val_loss: 0.6411\n",
      "Epoch 24/50\n",
      "117/117 [==============================] - 0s 1ms/step - loss: 0.6579 - val_loss: 0.6401\n",
      "Epoch 25/50\n",
      "117/117 [==============================] - 0s 1ms/step - loss: 0.6570 - val_loss: 0.6392\n",
      "Epoch 26/50\n",
      "117/117 [==============================] - 0s 1ms/step - loss: 0.6562 - val_loss: 0.6384\n",
      "Epoch 27/50\n",
      "117/117 [==============================] - 0s 1ms/step - loss: 0.6554 - val_loss: 0.6378\n",
      "Epoch 28/50\n",
      "117/117 [==============================] - 0s 1ms/step - loss: 0.6547 - val_loss: 0.6371\n",
      "Epoch 29/50\n",
      "117/117 [==============================] - 0s 1ms/step - loss: 0.6541 - val_loss: 0.6366\n",
      "Epoch 30/50\n",
      "117/117 [==============================] - 0s 1ms/step - loss: 0.6536 - val_loss: 0.6361\n",
      "Epoch 31/50\n",
      "117/117 [==============================] - 0s 1ms/step - loss: 0.6531 - val_loss: 0.6356\n",
      "Epoch 32/50\n",
      "117/117 [==============================] - 0s 1ms/step - loss: 0.6527 - val_loss: 0.6351\n",
      "Epoch 33/50\n",
      "117/117 [==============================] - 0s 1ms/step - loss: 0.6523 - val_loss: 0.6348\n",
      "Epoch 34/50\n",
      "117/117 [==============================] - 0s 1ms/step - loss: 0.6519 - val_loss: 0.6344\n",
      "Epoch 35/50\n",
      "117/117 [==============================] - 0s 1ms/step - loss: 0.6516 - val_loss: 0.6342\n",
      "Epoch 36/50\n",
      "117/117 [==============================] - 0s 1ms/step - loss: 0.6513 - val_loss: 0.6338\n",
      "Epoch 37/50\n",
      "117/117 [==============================] - 0s 1ms/step - loss: 0.6510 - val_loss: 0.6336\n",
      "Epoch 38/50\n",
      "117/117 [==============================] - 0s 1ms/step - loss: 0.6507 - val_loss: 0.6333\n",
      "Epoch 39/50\n",
      "117/117 [==============================] - 0s 1ms/step - loss: 0.6504 - val_loss: 0.6330\n",
      "Epoch 40/50\n",
      "117/117 [==============================] - 0s 1ms/step - loss: 0.6502 - val_loss: 0.6328\n",
      "Epoch 41/50\n",
      "117/117 [==============================] - 0s 1ms/step - loss: 0.6500 - val_loss: 0.6326\n",
      "Epoch 42/50\n",
      "117/117 [==============================] - 0s 1ms/step - loss: 0.6498 - val_loss: 0.6323\n",
      "Epoch 43/50\n",
      "117/117 [==============================] - 0s 1ms/step - loss: 0.6496 - val_loss: 0.6321\n",
      "Epoch 44/50\n",
      "117/117 [==============================] - 0s 1ms/step - loss: 0.6494 - val_loss: 0.6319\n",
      "Epoch 45/50\n",
      "117/117 [==============================] - 0s 1ms/step - loss: 0.6492 - val_loss: 0.6318\n",
      "Epoch 46/50\n",
      "117/117 [==============================] - 0s 1ms/step - loss: 0.6490 - val_loss: 0.6316\n",
      "Epoch 47/50\n",
      "117/117 [==============================] - 0s 1ms/step - loss: 0.6488 - val_loss: 0.6314\n",
      "Epoch 48/50\n",
      "117/117 [==============================] - 0s 1ms/step - loss: 0.6486 - val_loss: 0.6312\n",
      "Epoch 49/50\n",
      "117/117 [==============================] - 0s 1ms/step - loss: 0.6484 - val_loss: 0.6307\n",
      "Epoch 50/50\n",
      "117/117 [==============================] - 0s 1ms/step - loss: 0.6481 - val_loss: 0.6305\n",
      "이상치 판별 기준 (재구성 오차): 1.1743484142827134\n",
      "Classification Report:\n",
      "              precision    recall  f1-score   support\n",
      "\n",
      "           0       0.28      0.69      0.40        16\n",
      "           1       1.00      0.99      0.99      1975\n",
      "\n",
      "    accuracy                           0.98      1991\n",
      "   macro avg       0.64      0.84      0.70      1991\n",
      "weighted avg       0.99      0.98      0.99      1991\n",
      "\n",
      "혼돈 행렬:\n",
      "          Predicted 0  Predicted 1\n",
      "Actual 0           11            5\n",
      "Actual 1           28         1947\n"
     ]
    }
   ],
   "source": [
    "from tensorflow.keras.models import Model\n",
    "from tensorflow.keras.layers import Input, Dense\n",
    "from tensorflow.keras.optimizers import Adam\n",
    "# --- 오토인코더 모델 정의 ---\n",
    "input_dim = X_train_scaled.shape[1]  # 특성 차원\n",
    "encoding_dim = 14  # 압축할 차원 수 (원하는 값으로 조정 가능)\n",
    "\n",
    "# 입력층 정의\n",
    "input_layer = Input(shape=(input_dim,))\n",
    "# 인코딩 층 (은닉층)\n",
    "encoded = Dense(encoding_dim, activation='relu')(input_layer)\n",
    "# 디코딩 층 (출력층)\n",
    "decoded = Dense(input_dim, activation='sigmoid')(encoded)\n",
    "\n",
    "# 오토인코더 모델 생성 및 컴파일\n",
    "autoencoder = Model(inputs=input_layer, outputs=decoded)\n",
    "autoencoder.compile(optimizer=Adam(), loss='mean_squared_error')\n",
    "\n",
    "# --- 오토인코더 모델 학습 ---\n",
    "autoencoder.fit(X_train_scaled, X_train_scaled,\n",
    "                epochs=50,\n",
    "                batch_size=32,\n",
    "                validation_split=0.2)\n",
    "\n",
    "# --- 재구성 오차 계산을 통한 이상치 탐지 ---\n",
    "# 테스트 데이터에 대한 재구성\n",
    "X_test_pred = autoencoder.predict(X_test_scaled)\n",
    "# 각 샘플별 재구성 오차(평균 제곱 오차) 계산\n",
    "reconstruction_error = np.mean(np.square(X_test_scaled - X_test_pred), axis=1)\n",
    "\n",
    "# 95% 분위수를 기준으로 이상치 판별 임계값 산출\n",
    "threshold = np.percentile(reconstruction_error, 98)\n",
    "print(\"이상치 판별 기준 (재구성 오차):\", threshold)\n",
    "\n",
    "# 재구성 오차가 임계값보다 큰 경우 이상치(불량)로 판단: 0 (불량), 그렇지 않으면 1 (정상)\n",
    "y_pred = np.where(reconstruction_error > threshold, 0, 1)\n",
    "\n",
    "# --- 평가 지표 출력 ---\n",
    "print(\"Classification Report:\")\n",
    "print(classification_report(y_test, y_pred))\n",
    "cm = confusion_matrix(y_test, y_pred)\n",
    "cm_df = pd.DataFrame(cm, index=[\"Actual 0\", \"Actual 1\"], columns=[\"Predicted 0\", \"Predicted 1\"])\n",
    "print(\"혼돈 행렬:\")\n",
    "print(cm_df)"
   ]
  },
  {
   "cell_type": "code",
   "execution_count": 74,
   "id": "95538e0b-aa31-427b-9557-8eb01d628224",
   "metadata": {},
   "outputs": [
    {
     "name": "stdout",
     "output_type": "stream",
     "text": [
      "이상치 판별 기준 (재구성 오차): 3.18314520647948\n",
      "Classification Report:\n",
      "              precision    recall  f1-score   support\n",
      "\n",
      "           0       1.00      0.62      0.77        16\n",
      "           1       1.00      1.00      1.00      1975\n",
      "\n",
      "    accuracy                           1.00      1991\n",
      "   macro avg       1.00      0.81      0.88      1991\n",
      "weighted avg       1.00      1.00      1.00      1991\n",
      "\n",
      "혼돈 행렬:\n",
      "          Predicted 0  Predicted 1\n",
      "Actual 0           10            6\n",
      "Actual 1            0         1975\n"
     ]
    }
   ],
   "source": [
    "threshold = np.percentile(reconstruction_error, 99.5)\n",
    "print(\"이상치 판별 기준 (재구성 오차):\", threshold)\n",
    "\n",
    "# 재구성 오차가 임계값보다 큰 경우 이상치(불량)로 판단: 0 (불량), 그렇지 않으면 1 (정상)\n",
    "y_pred = np.where(reconstruction_error > threshold, 0, 1)\n",
    "\n",
    "# --- 평가 지표 출력 ---\n",
    "print(\"Classification Report:\")\n",
    "print(classification_report(y_test, y_pred))\n",
    "cm = confusion_matrix(y_test, y_pred)\n",
    "cm_df = pd.DataFrame(cm, index=[\"Actual 0\", \"Actual 1\"], columns=[\"Predicted 0\", \"Predicted 1\"])\n",
    "print(\"혼돈 행렬:\")\n",
    "print(cm_df)"
   ]
  },
  {
   "cell_type": "code",
   "execution_count": null,
   "id": "766dd86b-c647-489d-a890-06223259cce5",
   "metadata": {},
   "outputs": [],
   "source": []
  },
  {
   "cell_type": "markdown",
   "id": "79aa7a29-528c-4faf-bcf5-3ceafcaae21a",
   "metadata": {},
   "source": [
    "### 분류딥러닝"
   ]
  },
  {
   "cell_type": "code",
   "execution_count": 19,
   "id": "04577c06-031f-4bda-ac70-f271977bffe4",
   "metadata": {},
   "outputs": [],
   "source": [
    "from sklearn.model_selection import train_test_split\n",
    "from imblearn.over_sampling import SMOTE\n",
    "from sklearn.preprocessing import StandardScaler"
   ]
  },
  {
   "cell_type": "code",
   "execution_count": 20,
   "id": "398c7f85-df12-45ae-9014-1af26c74de19",
   "metadata": {},
   "outputs": [],
   "source": [
    "X_train, X_test, y_train, y_test = train_test_split(X, y, test_size=0.3, random_state=42)\n",
    "\n",
    "Xy_train = X_train.copy()\n",
    "Xy_train[\"PassOrFail\"] = y_train\n",
    "\n",
    "Xy_train = Xy_train[Xy_train[\"Average_Screw_RPM\"] > 250]\n",
    "\n",
    "X_train = Xy_train.drop(columns=[\"PassOrFail\"])\n",
    "y_train = Xy_train[\"PassOrFail\"]\n",
    "\n",
    "smote = SMOTE()\n",
    "X_resampled, y_resampled = smote.fit_resample(X_train, y_train)\n",
    "\n",
    "X_train, X_val, y_train, y_val = train_test_split(X_resampled, y_resampled, test_size=0.3, random_state=42)\n",
    "\n",
    "ss = StandardScaler()\n",
    "ss.fit(X_train)\n",
    "\n",
    "X_train_scaled = ss.transform(X_train)\n",
    "X_val_scaled = ss.transform(X_val)\n",
    "X_test_scaled = ss.transform(X_test)"
   ]
  },
  {
   "cell_type": "code",
   "execution_count": 21,
   "id": "fc622f76-b9ba-4635-bad1-1b07d16aa479",
   "metadata": {},
   "outputs": [
    {
     "name": "stdout",
     "output_type": "stream",
     "text": [
      "              precision    recall  f1-score   support\n",
      "\n",
      "           0       0.83      0.62      0.71        16\n",
      "           1       1.00      1.00      1.00      1975\n",
      "\n",
      "    accuracy                           1.00      1991\n",
      "   macro avg       0.92      0.81      0.86      1991\n",
      "weighted avg       1.00      1.00      1.00      1991\n",
      "\n"
     ]
    }
   ],
   "source": [
    "from sklearn.ensemble import GradientBoostingClassifier\n",
    "model = GradientBoostingClassifier(max_depth=20, min_samples_leaf=1, min_samples_split=10, n_estimators=20)\n",
    "model.fit(X_train_scaled, y_train)\n",
    "from sklearn.metrics import classification_report\n",
    "\n",
    "# 테스트 데이터로 예측\n",
    "y_pred = model.predict(X_test_scaled)\n",
    "\n",
    "# 성능 평가 (정확도, 재현율, F1-score 등 포함)\n",
    "print(classification_report(y_test, y_pred))\n"
   ]
  },
  {
   "cell_type": "code",
   "execution_count": 22,
   "id": "f7b310d7-5b63-4271-b6ed-6ee496fbb292",
   "metadata": {
    "scrolled": true
   },
   "outputs": [
    {
     "name": "stdout",
     "output_type": "stream",
     "text": [
      "Epoch 1/100\n",
      "74/74 [==============================] - 1s 5ms/step - loss: 0.3826 - accuracy: 0.8583 - f1_m: 0.8609 - recall_m: 0.8665 - val_loss: 0.1578 - val_accuracy: 0.9474 - val_f1_m: 0.9459 - val_recall_m: 0.9007\n",
      "Epoch 2/100\n",
      "74/74 [==============================] - 0s 2ms/step - loss: 0.1607 - accuracy: 0.9557 - f1_m: 0.9535 - recall_m: 0.9217 - val_loss: 0.0974 - val_accuracy: 0.9663 - val_f1_m: 0.9652 - val_recall_m: 0.9355\n",
      "Epoch 3/100\n",
      "74/74 [==============================] - 0s 2ms/step - loss: 0.1100 - accuracy: 0.9694 - f1_m: 0.9659 - recall_m: 0.9406 - val_loss: 0.0767 - val_accuracy: 0.9752 - val_f1_m: 0.9751 - val_recall_m: 0.9529\n",
      "Epoch 4/100\n",
      "74/74 [==============================] - 0s 2ms/step - loss: 0.0979 - accuracy: 0.9732 - f1_m: 0.9720 - recall_m: 0.9518 - val_loss: 0.0686 - val_accuracy: 0.9782 - val_f1_m: 0.9783 - val_recall_m: 0.9586\n",
      "Epoch 5/100\n",
      "74/74 [==============================] - 0s 2ms/step - loss: 0.0832 - accuracy: 0.9800 - f1_m: 0.9792 - recall_m: 0.9621 - val_loss: 0.0613 - val_accuracy: 0.9792 - val_f1_m: 0.9794 - val_recall_m: 0.9606\n",
      "Epoch 6/100\n",
      "74/74 [==============================] - 0s 2ms/step - loss: 0.0629 - accuracy: 0.9830 - f1_m: 0.9811 - recall_m: 0.9686 - val_loss: 0.0586 - val_accuracy: 0.9831 - val_f1_m: 0.9830 - val_recall_m: 0.9675\n",
      "Epoch 7/100\n",
      "74/74 [==============================] - 0s 2ms/step - loss: 0.0640 - accuracy: 0.9826 - f1_m: 0.9819 - recall_m: 0.9665 - val_loss: 0.0491 - val_accuracy: 0.9851 - val_f1_m: 0.9851 - val_recall_m: 0.9715\n",
      "Epoch 8/100\n",
      "74/74 [==============================] - 0s 2ms/step - loss: 0.0602 - accuracy: 0.9864 - f1_m: 0.9852 - recall_m: 0.9723 - val_loss: 0.0510 - val_accuracy: 0.9821 - val_f1_m: 0.9821 - val_recall_m: 0.9659\n",
      "Epoch 9/100\n",
      "74/74 [==============================] - 0s 2ms/step - loss: 0.0578 - accuracy: 0.9855 - f1_m: 0.9855 - recall_m: 0.9738 - val_loss: 0.0452 - val_accuracy: 0.9841 - val_f1_m: 0.9841 - val_recall_m: 0.9696\n",
      "Epoch 10/100\n",
      "74/74 [==============================] - 0s 2ms/step - loss: 0.0517 - accuracy: 0.9864 - f1_m: 0.9854 - recall_m: 0.9739 - val_loss: 0.0428 - val_accuracy: 0.9861 - val_f1_m: 0.9861 - val_recall_m: 0.9733\n",
      "Epoch 11/100\n",
      "74/74 [==============================] - 0s 2ms/step - loss: 0.0451 - accuracy: 0.9885 - f1_m: 0.9872 - recall_m: 0.9765 - val_loss: 0.0430 - val_accuracy: 0.9861 - val_f1_m: 0.9861 - val_recall_m: 0.9733\n",
      "Epoch 12/100\n",
      "74/74 [==============================] - 0s 2ms/step - loss: 0.0441 - accuracy: 0.9851 - f1_m: 0.9844 - recall_m: 0.9733 - val_loss: 0.0395 - val_accuracy: 0.9881 - val_f1_m: 0.9885 - val_recall_m: 0.9780\n",
      "Epoch 13/100\n",
      "74/74 [==============================] - 0s 5ms/step - loss: 0.0369 - accuracy: 0.9881 - f1_m: 0.9874 - recall_m: 0.9786 - val_loss: 0.0437 - val_accuracy: 0.9871 - val_f1_m: 0.9875 - val_recall_m: 0.9761\n",
      "Epoch 14/100\n",
      "74/74 [==============================] - 0s 2ms/step - loss: 0.0391 - accuracy: 0.9889 - f1_m: 0.9885 - recall_m: 0.9789 - val_loss: 0.0395 - val_accuracy: 0.9881 - val_f1_m: 0.9885 - val_recall_m: 0.9780\n",
      "Epoch 15/100\n",
      "74/74 [==============================] - 0s 2ms/step - loss: 0.0322 - accuracy: 0.9902 - f1_m: 0.9898 - recall_m: 0.9820 - val_loss: 0.0367 - val_accuracy: 0.9881 - val_f1_m: 0.9885 - val_recall_m: 0.9780\n",
      "Epoch 16/100\n",
      "74/74 [==============================] - 0s 2ms/step - loss: 0.0337 - accuracy: 0.9902 - f1_m: 0.9897 - recall_m: 0.9809 - val_loss: 0.0320 - val_accuracy: 0.9901 - val_f1_m: 0.9906 - val_recall_m: 0.9821\n",
      "Epoch 17/100\n",
      "74/74 [==============================] - 0s 2ms/step - loss: 0.0359 - accuracy: 0.9894 - f1_m: 0.9892 - recall_m: 0.9830 - val_loss: 0.0388 - val_accuracy: 0.9891 - val_f1_m: 0.9894 - val_recall_m: 0.9798\n",
      "Epoch 18/100\n",
      "74/74 [==============================] - 0s 2ms/step - loss: 0.0299 - accuracy: 0.9919 - f1_m: 0.9912 - recall_m: 0.9846 - val_loss: 0.0343 - val_accuracy: 0.9891 - val_f1_m: 0.9894 - val_recall_m: 0.9799\n",
      "Epoch 19/100\n",
      "74/74 [==============================] - 0s 2ms/step - loss: 0.0315 - accuracy: 0.9919 - f1_m: 0.9916 - recall_m: 0.9855 - val_loss: 0.0338 - val_accuracy: 0.9901 - val_f1_m: 0.9906 - val_recall_m: 0.9821\n",
      "Epoch 20/100\n",
      "74/74 [==============================] - 0s 2ms/step - loss: 0.0307 - accuracy: 0.9919 - f1_m: 0.9914 - recall_m: 0.9853 - val_loss: 0.0337 - val_accuracy: 0.9901 - val_f1_m: 0.9906 - val_recall_m: 0.9821\n",
      "Epoch 21/100\n",
      "74/74 [==============================] - 0s 2ms/step - loss: 0.0252 - accuracy: 0.9936 - f1_m: 0.9935 - recall_m: 0.9883 - val_loss: 0.0304 - val_accuracy: 0.9901 - val_f1_m: 0.9906 - val_recall_m: 0.9821\n",
      "Epoch 22/100\n",
      "74/74 [==============================] - 0s 2ms/step - loss: 0.0251 - accuracy: 0.9928 - f1_m: 0.9919 - recall_m: 0.9846 - val_loss: 0.0345 - val_accuracy: 0.9901 - val_f1_m: 0.9906 - val_recall_m: 0.9821\n",
      "Epoch 23/100\n",
      "74/74 [==============================] - 0s 2ms/step - loss: 0.0309 - accuracy: 0.9894 - f1_m: 0.9889 - recall_m: 0.9844 - val_loss: 0.0302 - val_accuracy: 0.9911 - val_f1_m: 0.9916 - val_recall_m: 0.9838\n",
      "Epoch 24/100\n",
      "74/74 [==============================] - 0s 2ms/step - loss: 0.0250 - accuracy: 0.9936 - f1_m: 0.9930 - recall_m: 0.9873 - val_loss: 0.0333 - val_accuracy: 0.9901 - val_f1_m: 0.9906 - val_recall_m: 0.9821\n",
      "Epoch 25/100\n",
      "74/74 [==============================] - 0s 2ms/step - loss: 0.0224 - accuracy: 0.9936 - f1_m: 0.9936 - recall_m: 0.9877 - val_loss: 0.0291 - val_accuracy: 0.9921 - val_f1_m: 0.9924 - val_recall_m: 0.9856\n",
      "Epoch 26/100\n",
      "74/74 [==============================] - 0s 2ms/step - loss: 0.0221 - accuracy: 0.9940 - f1_m: 0.9932 - recall_m: 0.9879 - val_loss: 0.0283 - val_accuracy: 0.9921 - val_f1_m: 0.9924 - val_recall_m: 0.9856\n",
      "Epoch 27/100\n",
      "74/74 [==============================] - 0s 2ms/step - loss: 0.0240 - accuracy: 0.9932 - f1_m: 0.9934 - recall_m: 0.9891 - val_loss: 0.0266 - val_accuracy: 0.9931 - val_f1_m: 0.9935 - val_recall_m: 0.9874\n",
      "Epoch 28/100\n",
      "74/74 [==============================] - 0s 2ms/step - loss: 0.0177 - accuracy: 0.9949 - f1_m: 0.9947 - recall_m: 0.9907 - val_loss: 0.0263 - val_accuracy: 0.9931 - val_f1_m: 0.9935 - val_recall_m: 0.9874\n",
      "Epoch 29/100\n",
      "74/74 [==============================] - 0s 2ms/step - loss: 0.0219 - accuracy: 0.9957 - f1_m: 0.9955 - recall_m: 0.9922 - val_loss: 0.0275 - val_accuracy: 0.9921 - val_f1_m: 0.9924 - val_recall_m: 0.9856\n",
      "Epoch 30/100\n",
      "74/74 [==============================] - 0s 2ms/step - loss: 0.0220 - accuracy: 0.9949 - f1_m: 0.9943 - recall_m: 0.9890 - val_loss: 0.0250 - val_accuracy: 0.9921 - val_f1_m: 0.9924 - val_recall_m: 0.9856\n",
      "Epoch 31/100\n",
      "74/74 [==============================] - 0s 2ms/step - loss: 0.0190 - accuracy: 0.9953 - f1_m: 0.9952 - recall_m: 0.9916 - val_loss: 0.0267 - val_accuracy: 0.9921 - val_f1_m: 0.9924 - val_recall_m: 0.9856\n",
      "Epoch 32/100\n",
      "74/74 [==============================] - 0s 2ms/step - loss: 0.0175 - accuracy: 0.9949 - f1_m: 0.9949 - recall_m: 0.9902 - val_loss: 0.0267 - val_accuracy: 0.9921 - val_f1_m: 0.9924 - val_recall_m: 0.9856\n",
      "Epoch 33/100\n",
      "74/74 [==============================] - 0s 2ms/step - loss: 0.0186 - accuracy: 0.9949 - f1_m: 0.9953 - recall_m: 0.9909 - val_loss: 0.0241 - val_accuracy: 0.9940 - val_f1_m: 0.9944 - val_recall_m: 0.9893\n",
      "Epoch 34/100\n",
      "74/74 [==============================] - 0s 2ms/step - loss: 0.0225 - accuracy: 0.9932 - f1_m: 0.9914 - recall_m: 0.9851 - val_loss: 0.0289 - val_accuracy: 0.9921 - val_f1_m: 0.9924 - val_recall_m: 0.9856\n",
      "Epoch 35/100\n",
      "74/74 [==============================] - 0s 2ms/step - loss: 0.0143 - accuracy: 0.9970 - f1_m: 0.9970 - recall_m: 0.9942 - val_loss: 0.0258 - val_accuracy: 0.9940 - val_f1_m: 0.9944 - val_recall_m: 0.9893\n",
      "Epoch 36/100\n",
      "74/74 [==============================] - 0s 2ms/step - loss: 0.0157 - accuracy: 0.9949 - f1_m: 0.9944 - recall_m: 0.9891 - val_loss: 0.0252 - val_accuracy: 0.9940 - val_f1_m: 0.9945 - val_recall_m: 0.9894\n",
      "Epoch 37/100\n",
      "74/74 [==============================] - 0s 2ms/step - loss: 0.0141 - accuracy: 0.9966 - f1_m: 0.9967 - recall_m: 0.9945 - val_loss: 0.0285 - val_accuracy: 0.9921 - val_f1_m: 0.9924 - val_recall_m: 0.9856\n",
      "Epoch 38/100\n",
      "74/74 [==============================] - 0s 2ms/step - loss: 0.0162 - accuracy: 0.9953 - f1_m: 0.9952 - recall_m: 0.9913 - val_loss: 0.0242 - val_accuracy: 0.9950 - val_f1_m: 0.9955 - val_recall_m: 0.9912\n",
      "63/63 [==============================] - 0s 1ms/step - loss: 22.8335 - accuracy: 0.9910 - f1_m: 0.9954 - recall_m: 0.9936\n",
      "Test Accuracy: 0.99\n",
      "Test F1 Score: 1.00\n",
      "Test Recall: 0.99\n"
     ]
    }
   ],
   "source": [
    "from tensorflow.keras.models import Sequential\n",
    "from tensorflow.keras.layers import Dense, Dropout\n",
    "from tensorflow.keras.callbacks import EarlyStopping\n",
    "import tensorflow.keras.backend as K\n",
    "\n",
    "# F1-score와 Recall 정의\n",
    "def recall_m(y_true, y_pred):\n",
    "    true_positives = K.sum(K.round(K.clip(y_true * y_pred, 0, 1)))\n",
    "    possible_positives = K.sum(K.round(K.clip(y_true, 0, 1)))\n",
    "    recall = true_positives / (possible_positives + K.epsilon())\n",
    "    return recall\n",
    "\n",
    "def precision_m(y_true, y_pred):\n",
    "    true_positives = K.sum(K.round(K.clip(y_true * y_pred, 0, 1)))\n",
    "    predicted_positives = K.sum(K.round(K.clip(y_pred, 0, 1)))\n",
    "    precision = true_positives / (predicted_positives + K.epsilon())\n",
    "    return precision\n",
    "\n",
    "def f1_m(y_true, y_pred):\n",
    "    precision = precision_m(y_true, y_pred)\n",
    "    recall = recall_m(y_true, y_pred)\n",
    "    return 2 * ((precision * recall) / (precision + recall + K.epsilon()))\n",
    "\n",
    "# 딥러닝 모델 구성\n",
    "model_dl = Sequential()\n",
    "model_dl.add(Dense(128, input_dim=X_train_scaled.shape[1], activation='relu'))\n",
    "model_dl.add(Dropout(0.5))\n",
    "model_dl.add(Dense(64, activation='relu'))\n",
    "model_dl.add(Dropout(0.5))\n",
    "model_dl.add(Dense(1, activation='sigmoid'))  # 이진 분류\n",
    "\n",
    "# 컴파일\n",
    "model_dl.compile(\n",
    "    loss='binary_crossentropy',\n",
    "    optimizer='adam',\n",
    "    metrics=['accuracy', f1_m, recall_m]\n",
    ")\n",
    "\n",
    "# EarlyStopping 설정\n",
    "early_stop = EarlyStopping(monitor='val_loss', patience=5, restore_best_weights=True)\n",
    "\n",
    "# 학습\n",
    "history = model_dl.fit(\n",
    "    X_train_scaled,\n",
    "    y_train,\n",
    "    validation_data=(X_val_scaled, y_val),\n",
    "    epochs=100,\n",
    "    batch_size=32,\n",
    "    callbacks=[early_stop],\n",
    "    verbose=1\n",
    ")\n",
    "\n",
    "# 테스트 데이터 평가\n",
    "loss, accuracy, f1_score, recall = model_dl.evaluate(X_test_scaled, y_test)\n",
    "print(f\"Test Accuracy: {accuracy:.2f}\")\n",
    "print(f\"Test F1 Score: {f1_score:.2f}\")\n",
    "print(f\"Test Recall: {recall:.2f}\")\n"
   ]
  },
  {
   "cell_type": "code",
   "execution_count": 23,
   "id": "7f47718f-9b3d-4ec9-b777-b927e74d3b78",
   "metadata": {},
   "outputs": [
    {
     "data": {
      "text/plain": [
       "array([[1.       ],\n",
       "       [1.       ],\n",
       "       [1.       ],\n",
       "       ...,\n",
       "       [0.9999788],\n",
       "       [1.       ],\n",
       "       [1.       ]], dtype=float32)"
      ]
     },
     "execution_count": 23,
     "metadata": {},
     "output_type": "execute_result"
    }
   ],
   "source": [
    "test_pred = model_dl.predict(X_test_scaled)\n",
    "test_pred"
   ]
  },
  {
   "cell_type": "code",
   "execution_count": 24,
   "id": "b11e400e-18fc-45e6-986f-f90afeabc068",
   "metadata": {},
   "outputs": [],
   "source": [
    "list=[]\n",
    "for i in test_pred :\n",
    "    if i[0] > 0.999 : \n",
    "        list.append(1)\n",
    "    else : \n",
    "        list.append(0)"
   ]
  },
  {
   "cell_type": "code",
   "execution_count": 25,
   "id": "5792db80-74f5-4cbe-8572-d7e743b427a2",
   "metadata": {},
   "outputs": [
    {
     "data": {
      "text/plain": [
       "(0.9854344550477148,\n",
       " 0.9873417721518988,\n",
       " 0.9979529170931423,\n",
       " 0.9926189870195978)"
      ]
     },
     "execution_count": 25,
     "metadata": {},
     "output_type": "execute_result"
    }
   ],
   "source": [
    "from sklearn.metrics import accuracy_score, precision_score, recall_score, f1_score\n",
    "test_acc = accuracy_score(list, y_test)\n",
    "test_pre = precision_score(list, y_test)\n",
    "test_rec = recall_score(list, y_test)\n",
    "test_f1 = f1_score(list, y_test)\n",
    "test_acc,test_pre,test_rec,test_f1"
   ]
  },
  {
   "cell_type": "code",
   "execution_count": 26,
   "id": "b42dc229-6afc-4f59-8614-78a5ec6218ac",
   "metadata": {},
   "outputs": [
    {
     "data": {
      "text/plain": [
       "array([[  12,   25],\n",
       "       [   4, 1950]], dtype=int64)"
      ]
     },
     "execution_count": 26,
     "metadata": {},
     "output_type": "execute_result"
    }
   ],
   "source": [
    "from sklearn.metrics import confusion_matrix\n",
    "\n",
    "cm = confusion_matrix(list, y_test)\n",
    "cm"
   ]
  },
  {
   "cell_type": "code",
   "execution_count": 27,
   "id": "cc282d8d-6e2e-4650-aaba-fa6dd094fbb3",
   "metadata": {},
   "outputs": [
    {
     "name": "stdout",
     "output_type": "stream",
     "text": [
      "              precision    recall  f1-score   support\n",
      "\n",
      "           0       0.46      0.69      0.55        16\n",
      "           1       1.00      0.99      1.00      1975\n",
      "\n",
      "    accuracy                           0.99      1991\n",
      "   macro avg       0.73      0.84      0.77      1991\n",
      "weighted avg       0.99      0.99      0.99      1991\n",
      "\n"
     ]
    },
    {
     "data": {
      "text/plain": [
       "array([[  11,    5],\n",
       "       [  13, 1962]], dtype=int64)"
      ]
     },
     "execution_count": 27,
     "metadata": {},
     "output_type": "execute_result"
    }
   ],
   "source": [
    "y_pred_dl = (model_dl.predict(X_test_scaled) > 0.5).astype(int)\n",
    "\n",
    "# 성능 평가 (재현율, F1-score 등)\n",
    "print(classification_report(y_test, y_pred_dl))\n",
    "\n",
    "# Confusion Matrix 계산 및 시각화\n",
    "cm_dl = confusion_matrix(y_test, y_pred_dl)\n",
    "cm_dl"
   ]
  },
  {
   "cell_type": "code",
   "execution_count": 28,
   "id": "a06bd7a0-1358-47eb-a329-50b681f4c243",
   "metadata": {},
   "outputs": [
    {
     "name": "stdout",
     "output_type": "stream",
     "text": [
      "              precision    recall  f1-score   support\n",
      "\n",
      "           0       0.42      0.69      0.52        16\n",
      "           1       1.00      0.99      0.99      1975\n",
      "\n",
      "    accuracy                           0.99      1991\n",
      "   macro avg       0.71      0.84      0.76      1991\n",
      "weighted avg       0.99      0.99      0.99      1991\n",
      "\n"
     ]
    },
    {
     "data": {
      "text/plain": [
       "array([[  11,    5],\n",
       "       [  13, 1962]], dtype=int64)"
      ]
     },
     "execution_count": 28,
     "metadata": {},
     "output_type": "execute_result"
    }
   ],
   "source": [
    "threshold = 0.6\n",
    "y_pred_adjusted = (model_dl.predict(X_test_scaled) > threshold).astype(int)\n",
    "print(classification_report(y_test, y_pred_adjusted))\n",
    "cm_dl = confusion_matrix(y_test, y_pred_dl)\n",
    "cm_dl"
   ]
  },
  {
   "cell_type": "code",
   "execution_count": 29,
   "id": "a08fe03c-bcd1-47c9-a3e4-e07d9854909d",
   "metadata": {},
   "outputs": [
    {
     "name": "stdout",
     "output_type": "stream",
     "text": [
      "ROC-AUC Score - Gradient Boosting: 0.84\n",
      "ROC-AUC Score - Deep Learning: 0.90\n"
     ]
    }
   ],
   "source": [
    "from sklearn.metrics import roc_auc_score\n",
    "\n",
    "auc_gb = roc_auc_score(y_test, model.predict_proba(X_test_scaled)[:,1])\n",
    "auc_dl = roc_auc_score(y_test, model_dl.predict(X_test_scaled))\n",
    "print(f\"ROC-AUC Score - Gradient Boosting: {auc_gb:.2f}\")\n",
    "print(f\"ROC-AUC Score - Deep Learning: {auc_dl:.2f}\")\n"
   ]
  },
  {
   "cell_type": "code",
   "execution_count": 30,
   "id": "252c2102-cd6e-4ec9-bff9-0d449fbc5d65",
   "metadata": {},
   "outputs": [
    {
     "name": "stderr",
     "output_type": "stream",
     "text": [
      "C:\\Users\\Admin\\AppData\\Local\\Temp\\ipykernel_5708\\3110067124.py:17: UserWarning: color is redundantly defined by the 'color' keyword argument and the fmt string \"k--\" (-> color='k'). The keyword argument will take precedence.\n",
      "  plt.plot([0, 1], [0, 1], 'k--', label=\"랜덤 추측\", color='red')  # Random guess line\n"
     ]
    },
    {
     "data": {
      "image/png": "[encoded data removed]",
      "text/plain": [
       "<Figure size 800x600 with 1 Axes>"
      ]
     },
     "metadata": {},
     "output_type": "display_data"
    }
   ],
   "source": [
    "from sklearn.metrics import roc_auc_score, roc_curve\n",
    "import matplotlib.pyplot as plt\n",
    "\n",
    "# Gradient Boosting ROC Curve\n",
    "fpr_gb, tpr_gb, _ = roc_curve(y_test, model.predict_proba(X_test_scaled)[:, 1])\n",
    "auc_gb = roc_auc_score(y_test, model.predict_proba(X_test_scaled)[:, 1])\n",
    "\n",
    "# Deep Learning ROC Curve\n",
    "y_pred_prob_dl = model_dl.predict(X_test_scaled).flatten()  # Flatten to ensure correct shape\n",
    "fpr_dl, tpr_dl, _ = roc_curve(y_test, y_pred_prob_dl)\n",
    "auc_dl = roc_auc_score(y_test, y_pred_prob_dl)\n",
    "\n",
    "# Plot ROC Curves\n",
    "plt.figure(figsize=(8, 6))\n",
    "plt.plot(fpr_gb, tpr_gb, label=f\"Gradient Boosting (AUC = {auc_gb:.2f})\", color='blue')\n",
    "plt.plot(fpr_dl, tpr_dl, label=f\"Deep Learning (AUC = {auc_dl:.2f})\", color='green')\n",
    "plt.plot([0, 1], [0, 1], 'k--', label=\"랜덤 추측\", color='red')  # Random guess line\n",
    "plt.xlabel(\"거짓 양성 비율 (FPR)\")\n",
    "plt.ylabel(\"참 양성 비율 (TPR)\")\n",
    "plt.title(\"ROC 곡선 비교\")\n",
    "plt.legend(loc=\"lower right\")\n",
    "plt.grid()\n",
    "plt.show()\n"
   ]
  },
  {
   "cell_type": "code",
   "execution_count": 31,
   "id": "64ed512b-14d5-410a-b62b-1a0cb03057e7",
   "metadata": {},
   "outputs": [],
   "source": [
    "# ROC Curve에서 모델이 무작위로 추측하는 경우의 기준선을 나타냄\n",
    "# ROC Curve가 이 선 위에 있을수록 모델의 성능이 랜덤 추측보다 우수하다는 것을 나타냄\n",
    "# 만약 ROC Curve가 이 선 아래에 있다면, 모델이 양성과 음성을 완전히 잘못 예측하고 있다는 뜻\n",
    "\n",
    "# 빨간 점선은 랜덤 추측(Random Guess)의 기준선입니다.\n",
    "\n",
    "# AUC 값이 이 선에 가까울수록 모델의 성능이 낮습니다."
   ]
  },
  {
   "cell_type": "code",
   "execution_count": 32,
   "id": "b9e7d91d-9cba-4d89-b155-64ab52278eae",
   "metadata": {},
   "outputs": [
    {
     "name": "stdout",
     "output_type": "stream",
     "text": [
      "Predicted probabilities:\n",
      " [[1.       ]\n",
      " [1.       ]\n",
      " [1.       ]\n",
      " [1.       ]\n",
      " [1.       ]\n",
      " [1.       ]\n",
      " [1.       ]\n",
      " [1.       ]\n",
      " [0.9997537]\n",
      " [1.       ]]\n"
     ]
    }
   ],
   "source": [
    "# 테스트 데이터에 대한 확률값 예측\n",
    "y_pred_prob = model_dl.predict(X_test_scaled)\n",
    "\n",
    "# 확률값 출력 (상위 10개)\n",
    "print(\"Predicted probabilities:\\n\", y_pred_prob[:10])\n"
   ]
  },
  {
   "cell_type": "code",
   "execution_count": 33,
   "id": "7801b165-c1c5-48b8-9d63-69ed31ccf1b2",
   "metadata": {},
   "outputs": [
    {
     "name": "stdout",
     "output_type": "stream",
     "text": [
      "Binary predictions:\n",
      " [[1]\n",
      " [1]\n",
      " [1]\n",
      " [1]\n",
      " [1]\n",
      " [1]\n",
      " [1]\n",
      " [1]\n",
      " [1]\n",
      " [1]]\n"
     ]
    }
   ],
   "source": [
    "# 임계값 설정 (예: 0.5)\n",
    "threshold = 0.5\n",
    "\n",
    "# 확률값을 이진 분류 결과로 변환\n",
    "y_pred_binary = (y_pred_prob >= threshold).astype(int)\n",
    "\n",
    "# 상위 10개의 예측 결과 출력\n",
    "print(\"Binary predictions:\\n\", y_pred_binary[:10])\n"
   ]
  },
  {
   "cell_type": "code",
   "execution_count": 34,
   "id": "1dc2a1ef-28d5-4c04-9f8a-aea4ec529603",
   "metadata": {},
   "outputs": [
    {
     "name": "stdout",
     "output_type": "stream",
     "text": [
      "              precision    recall  f1-score   support\n",
      "\n",
      "           0       0.46      0.69      0.55        16\n",
      "           1       1.00      0.99      1.00      1975\n",
      "\n",
      "    accuracy                           0.99      1991\n",
      "   macro avg       0.73      0.84      0.77      1991\n",
      "weighted avg       0.99      0.99      0.99      1991\n",
      "\n"
     ]
    },
    {
     "data": {
      "image/png": "[encoded data removed]",
      "text/plain": [
       "<Figure size 600x400 with 2 Axes>"
      ]
     },
     "metadata": {},
     "output_type": "display_data"
    }
   ],
   "source": [
    "from sklearn.metrics import classification_report, confusion_matrix\n",
    "\n",
    "# 성능 평가 (Precision, Recall, F1-score 등)\n",
    "print(classification_report(y_test, y_pred_binary))\n",
    "\n",
    "# Confusion Matrix 계산 및 시각화\n",
    "cm = confusion_matrix(y_test, y_pred_binary)\n",
    "plt.figure(figsize=(6,4))\n",
    "sns.heatmap(cm, annot=True, fmt='d', cmap='Blues', xticklabels=['Fail', 'Pass'], yticklabels=['Fail', 'Pass'])\n",
    "plt.xlabel('Predicted')\n",
    "plt.ylabel('Actual')\n",
    "plt.title('Confusion Matrix')\n",
    "plt.show()\n"
   ]
  },
  {
   "cell_type": "code",
   "execution_count": 35,
   "id": "a6704c50-d28b-43f8-bc2c-def96fc991f0",
   "metadata": {},
   "outputs": [
    {
     "name": "stdout",
     "output_type": "stream",
     "text": [
      "Threshold: 0.3\n",
      "              precision    recall  f1-score   support\n",
      "\n",
      "           0       0.52      0.69      0.59        16\n",
      "           1       1.00      0.99      1.00      1975\n",
      "\n",
      "    accuracy                           0.99      1991\n",
      "   macro avg       0.76      0.84      0.80      1991\n",
      "weighted avg       0.99      0.99      0.99      1991\n",
      "\n",
      "Threshold: 0.5\n",
      "              precision    recall  f1-score   support\n",
      "\n",
      "           0       0.46      0.69      0.55        16\n",
      "           1       1.00      0.99      1.00      1975\n",
      "\n",
      "    accuracy                           0.99      1991\n",
      "   macro avg       0.73      0.84      0.77      1991\n",
      "weighted avg       0.99      0.99      0.99      1991\n",
      "\n",
      "Threshold: 0.7\n",
      "              precision    recall  f1-score   support\n",
      "\n",
      "           0       0.42      0.69      0.52        16\n",
      "           1       1.00      0.99      0.99      1975\n",
      "\n",
      "    accuracy                           0.99      1991\n",
      "   macro avg       0.71      0.84      0.76      1991\n",
      "weighted avg       0.99      0.99      0.99      1991\n",
      "\n"
     ]
    }
   ],
   "source": [
    "# 다양한 임계값에 따른 Precision, Recall 확인\n",
    "thresholds = [0.3, 0.5, 0.7]\n",
    "for t in thresholds:\n",
    "    y_pred_binary = (y_pred_prob >= t).astype(int)\n",
    "    print(f\"Threshold: {t}\")\n",
    "    print(classification_report(y_test, y_pred_binary))\n"
   ]
  },
  {
   "cell_type": "markdown",
   "id": "02c31f6a-22cf-48c9-858a-75967007976f",
   "metadata": {},
   "source": [
    "### 트리모델"
   ]
  },
  {
   "cell_type": "code",
   "execution_count": 36,
   "id": "e21a4f4e-01cd-4960-9dfa-91677c1623e4",
   "metadata": {},
   "outputs": [
    {
     "data": {
      "text/html": [
       "<div>\n",
       "<style scoped>\n",
       "    .dataframe tbody tr th:only-of-type {\n",
       "        vertical-align: middle;\n",
       "    }\n",
       "\n",
       "    .dataframe tbody tr th {\n",
       "        vertical-align: top;\n",
       "    }\n",
       "\n",
       "    .dataframe thead th {\n",
       "        text-align: right;\n",
       "    }\n",
       "</style>\n",
       "<table border=\"1\" class=\"dataframe\">\n",
       "  <thead>\n",
       "    <tr style=\"text-align: right;\">\n",
       "      <th></th>\n",
       "      <th>모델명</th>\n",
       "      <th>훈련_정확도</th>\n",
       "      <th>검증_정확도</th>\n",
       "      <th>정밀도</th>\n",
       "      <th>재현율</th>\n",
       "      <th>f1-score</th>\n",
       "      <th>훈련-검증</th>\n",
       "      <th>TN</th>\n",
       "      <th>FP</th>\n",
       "      <th>FN</th>\n",
       "      <th>TP</th>\n",
       "      <th>파라미터</th>\n",
       "    </tr>\n",
       "  </thead>\n",
       "  <tbody>\n",
       "    <tr>\n",
       "      <th>0</th>\n",
       "      <td>Isolation Forest</td>\n",
       "      <td>NaN</td>\n",
       "      <td>NaN</td>\n",
       "      <td>0.998843</td>\n",
       "      <td>0.874430</td>\n",
       "      <td>0.932505</td>\n",
       "      <td>NaN</td>\n",
       "      <td>14</td>\n",
       "      <td>2</td>\n",
       "      <td>248</td>\n",
       "      <td>1727</td>\n",
       "      <td></td>\n",
       "    </tr>\n",
       "    <tr>\n",
       "      <th>1</th>\n",
       "      <td>One-Class SVM</td>\n",
       "      <td>NaN</td>\n",
       "      <td>NaN</td>\n",
       "      <td>0.998969</td>\n",
       "      <td>0.490633</td>\n",
       "      <td>0.658065</td>\n",
       "      <td>NaN</td>\n",
       "      <td>15</td>\n",
       "      <td>1</td>\n",
       "      <td>1006</td>\n",
       "      <td>969</td>\n",
       "      <td></td>\n",
       "    </tr>\n",
       "    <tr>\n",
       "      <th>2</th>\n",
       "      <td>DBSCAN</td>\n",
       "      <td>NaN</td>\n",
       "      <td>NaN</td>\n",
       "      <td>1.000000</td>\n",
       "      <td>0.007595</td>\n",
       "      <td>0.015075</td>\n",
       "      <td>NaN</td>\n",
       "      <td>16</td>\n",
       "      <td>0</td>\n",
       "      <td>1960</td>\n",
       "      <td>15</td>\n",
       "      <td></td>\n",
       "    </tr>\n",
       "    <tr>\n",
       "      <th>3</th>\n",
       "      <td>Local Outlier Factor</td>\n",
       "      <td>NaN</td>\n",
       "      <td>NaN</td>\n",
       "      <td>0.996918</td>\n",
       "      <td>0.982785</td>\n",
       "      <td>0.989801</td>\n",
       "      <td>NaN</td>\n",
       "      <td>10</td>\n",
       "      <td>6</td>\n",
       "      <td>34</td>\n",
       "      <td>1941</td>\n",
       "      <td></td>\n",
       "    </tr>\n",
       "    <tr>\n",
       "      <th>4</th>\n",
       "      <td>RandomForestClassifier</td>\n",
       "      <td>0.997477</td>\n",
       "      <td>0.996078</td>\n",
       "      <td>0.998131</td>\n",
       "      <td>0.994413</td>\n",
       "      <td>0.996269</td>\n",
       "      <td>0.001398</td>\n",
       "      <td>7</td>\n",
       "      <td>3</td>\n",
       "      <td>1</td>\n",
       "      <td>1980</td>\n",
       "      <td>{'max_depth': 20, 'min_samples_leaf': 2, 'min_...</td>\n",
       "    </tr>\n",
       "    <tr>\n",
       "      <th>5</th>\n",
       "      <td>ExtraTreesClassifier</td>\n",
       "      <td>0.998318</td>\n",
       "      <td>0.994118</td>\n",
       "      <td>1.000000</td>\n",
       "      <td>0.988827</td>\n",
       "      <td>0.994382</td>\n",
       "      <td>0.004200</td>\n",
       "      <td>7</td>\n",
       "      <td>3</td>\n",
       "      <td>3</td>\n",
       "      <td>1978</td>\n",
       "      <td>{'max_depth': 20, 'min_samples_leaf': 1, 'min_...</td>\n",
       "    </tr>\n",
       "    <tr>\n",
       "      <th>6</th>\n",
       "      <td>GradientBoostingClassifier</td>\n",
       "      <td>0.998318</td>\n",
       "      <td>0.992157</td>\n",
       "      <td>1.000000</td>\n",
       "      <td>0.985102</td>\n",
       "      <td>0.992495</td>\n",
       "      <td>0.006161</td>\n",
       "      <td>7</td>\n",
       "      <td>3</td>\n",
       "      <td>5</td>\n",
       "      <td>1976</td>\n",
       "      <td>{'max_depth': 10, 'min_samples_leaf': 2, 'min_...</td>\n",
       "    </tr>\n",
       "    <tr>\n",
       "      <th>7</th>\n",
       "      <td>HistGradientBoostingClassifier</td>\n",
       "      <td>0.998318</td>\n",
       "      <td>0.991176</td>\n",
       "      <td>1.000000</td>\n",
       "      <td>0.983240</td>\n",
       "      <td>0.991549</td>\n",
       "      <td>0.007141</td>\n",
       "      <td>7</td>\n",
       "      <td>3</td>\n",
       "      <td>6</td>\n",
       "      <td>1975</td>\n",
       "      <td>{'max_depth': 10, 'max_iter': 50, 'min_samples...</td>\n",
       "    </tr>\n",
       "    <tr>\n",
       "      <th>8</th>\n",
       "      <td>XGBClassifier</td>\n",
       "      <td>0.998318</td>\n",
       "      <td>0.995098</td>\n",
       "      <td>1.000000</td>\n",
       "      <td>0.990689</td>\n",
       "      <td>0.995323</td>\n",
       "      <td>0.003220</td>\n",
       "      <td>6</td>\n",
       "      <td>4</td>\n",
       "      <td>1</td>\n",
       "      <td>1980</td>\n",
       "      <td>{'max_depth': 20, 'min_child_weight': 1, 'n_es...</td>\n",
       "    </tr>\n",
       "  </tbody>\n",
       "</table>\n",
       "</div>"
      ],
      "text/plain": [
       "                              모델명    훈련_정확도    검증_정확도       정밀도       재현율  \\\n",
       "0                Isolation Forest       NaN       NaN  0.998843  0.874430   \n",
       "1                   One-Class SVM       NaN       NaN  0.998969  0.490633   \n",
       "2                          DBSCAN       NaN       NaN  1.000000  0.007595   \n",
       "3            Local Outlier Factor       NaN       NaN  0.996918  0.982785   \n",
       "4          RandomForestClassifier  0.997477  0.996078  0.998131  0.994413   \n",
       "5            ExtraTreesClassifier  0.998318  0.994118  1.000000  0.988827   \n",
       "6      GradientBoostingClassifier  0.998318  0.992157  1.000000  0.985102   \n",
       "7  HistGradientBoostingClassifier  0.998318  0.991176  1.000000  0.983240   \n",
       "8                   XGBClassifier  0.998318  0.995098  1.000000  0.990689   \n",
       "\n",
       "   f1-score     훈련-검증  TN FP    FN    TP  \\\n",
       "0  0.932505       NaN  14  2   248  1727   \n",
       "1  0.658065       NaN  15  1  1006   969   \n",
       "2  0.015075       NaN  16  0  1960    15   \n",
       "3  0.989801       NaN  10  6    34  1941   \n",
       "4  0.996269  0.001398   7  3     1  1980   \n",
       "5  0.994382  0.004200   7  3     3  1978   \n",
       "6  0.992495  0.006161   7  3     5  1976   \n",
       "7  0.991549  0.007141   7  3     6  1975   \n",
       "8  0.995323  0.003220   6  4     1  1980   \n",
       "\n",
       "                                                파라미터  \n",
       "0                                                     \n",
       "1                                                     \n",
       "2                                                     \n",
       "3                                                     \n",
       "4  {'max_depth': 20, 'min_samples_leaf': 2, 'min_...  \n",
       "5  {'max_depth': 20, 'min_samples_leaf': 1, 'min_...  \n",
       "6  {'max_depth': 10, 'min_samples_leaf': 2, 'min_...  \n",
       "7  {'max_depth': 10, 'max_iter': 50, 'min_samples...  \n",
       "8  {'max_depth': 20, 'min_child_weight': 1, 'n_es...  "
      ]
     },
     "execution_count": 36,
     "metadata": {},
     "output_type": "execute_result"
    }
   ],
   "source": [
    "from imblearn.over_sampling import SMOTE\n",
    "from sklearn.model_selection import train_test_split\n",
    "from sklearn.preprocessing import StandardScaler\n",
    "\n",
    "from sklearn.model_selection import GridSearchCV\n",
    "from sklearn.metrics import precision_score, accuracy_score, recall_score, f1_score, confusion_matrix\n",
    "from sklearn.ensemble import RandomForestClassifier, ExtraTreesClassifier, HistGradientBoostingClassifier, GradientBoostingClassifier\n",
    "from xgboost import XGBClassifier\n",
    "\n",
    "X_train, X_test, y_train, y_test = train_test_split(X, y, test_size=0.3, random_state=43)\n",
    "\n",
    "\n",
    "# X_train, y_train 합치기\n",
    "Xy_train = X_train.copy()\n",
    "Xy_train[\"PassOrFail\"] = y_train\n",
    "\n",
    "# Average_Screw_RPM 기준으로 up만 추출하기\n",
    "Xy_train = Xy_train[Xy_train[\"Average_Screw_RPM\"]>250]\n",
    "\n",
    "# X_train, y_train 분리\n",
    "X_train = Xy_train.drop(columns=[\"PassOrFail\"])\n",
    "y_train = Xy_train[\"PassOrFail\"]\n",
    "\n",
    "# 데이터 증강\n",
    "smote = SMOTE(random_state=42)\n",
    "X_resampled, y_resampled = smote.fit_resample(X_train, y_train)\n",
    "\n",
    "# 검증 데이터 분리\n",
    "X_train, X_val, y_train, y_val  = train_test_split(X_resampled, y_resampled, test_size=0.3, random_state=42)\n",
    "\n",
    "# 데이터 정규화\n",
    "ss=StandardScaler()\n",
    "ss.fit(X_train)\n",
    "X_train_scaled = ss.transform(X_train)\n",
    "X_val_scaled = ss.transform(X_val)\n",
    "X_test_scaled=ss.transform(X_test)\n",
    "\n",
    "# 모델 생성\n",
    "rf = RandomForestClassifier(random_state=42)\n",
    "et = ExtraTreesClassifier(random_state=42)\n",
    "gb = GradientBoostingClassifier(random_state=42)\n",
    "hgb = HistGradientBoostingClassifier(random_state=42)\n",
    "xgb = XGBClassifier(random_state=42)\n",
    "model_list = [rf, et, gb, hgb, xgb]\n",
    "\n",
    "# GridSearchCV 이용해서 모든 모델 하이퍼파라미터 튜닝\n",
    "for model in model_list:\n",
    "    model_name = model.__class__.__name__\n",
    "    gridParams = dict()\n",
    "    if model_name ==\"XGBClassifier\" :\n",
    "        gridParams[\"n_estimators\"] = [20,50]\n",
    "        gridParams[\"max_depth\"] = [10,20]\n",
    "        gridParams[\"min_child_weight\"] = [1, 2,4]\n",
    "    elif model_name == \"HistGradientBoostingClassifier\" :\n",
    "        gridParams[\"max_iter\"] = [20, 50]\n",
    "        gridParams[\"max_depth\"] = [10, 50]\n",
    "        gridParams[\"min_samples_leaf\"] = [1,2,4]\n",
    "    else :\n",
    "        gridParams[\"n_estimators\"] = [20, 50]\n",
    "        gridParams[\"max_depth\"] = [10,20]\n",
    "        gridParams[\"min_samples_split\"] = [2,5,10]\n",
    "        gridParams[\"min_samples_leaf\"] = [1,2,4]\n",
    "\n",
    "    grid_search_model = GridSearchCV(model, gridParams, scoring='f1', cv=5, n_jobs=-1)\n",
    "    grid_search_model.fit(X_train_scaled, y_train)\n",
    "    model = grid_search_model.best_estimator_\n",
    "    train_pred = model.predict(X_train_scaled)\n",
    "    val_pred = model.predict(X_val_scaled)\n",
    "    \n",
    "    train_acc = accuracy_score(y_train, train_pred)\n",
    "    val_acc = accuracy_score(y_val, val_pred)\n",
    "    \n",
    "    pre = precision_score(y_val, val_pred)\n",
    "    rec = recall_score(y_val, val_pred)\n",
    "    f1 = f1_score(y_val, val_pred)\n",
    "    \n",
    "    pred = model.predict(X_test_scaled)\n",
    "    cm = confusion_matrix(y_test, pred)\n",
    "    TN = cm[0, 0]  # True Negative\n",
    "    FP = cm[0, 1]  # False Positive\n",
    "    FN = cm[1, 0]  # False Negative\n",
    "    TP = cm[1, 1]  # True Positive\n",
    "    \n",
    "    df_temp = pd.DataFrame([[model_name,  train_acc, val_acc, pre, rec, f1, train_acc-val_acc, TN, FP, FN, TP, str(grid_search_model.best_params_)]],\n",
    "                             columns=[\"모델명\", \"훈련_정확도\", \"검증_정확도\", \"정밀도\", \"재현율\", \"f1-score\", \"훈련-검증\", \"TN\", \"FP\", \"FN\", \"TP\", \"파라미터\"])\n",
    "\n",
    "    grid_df = pd.concat([grid_df, df_temp], ignore_index=True)\n",
    "grid_df"
   ]
  },
  {
   "cell_type": "code",
   "execution_count": null,
   "id": "a3018b31-db8f-4ee2-9348-a5c9e9823eef",
   "metadata": {},
   "outputs": [],
   "source": []
  },
  {
   "cell_type": "code",
   "execution_count": null,
   "id": "1a2404c2-3b36-4930-8ae4-5e4a72dc2a4d",
   "metadata": {},
   "outputs": [],
   "source": []
  },
  {
   "cell_type": "code",
   "execution_count": null,
   "id": "7f7c387c-45c8-4953-9161-86586d7967be",
   "metadata": {},
   "outputs": [],
   "source": []
  }
 ],
 "metadata": {
  "kernelspec": {
   "display_name": "dg_env_dl_kernel",
   "language": "python",
   "name": "dg_env_dl"
  },
  "language_info": {
   "codemirror_mode": {
    "name": "ipython",
    "version": 3
   },
   "file_extension": ".py",
   "mimetype": "text/x-python",
   "name": "python",
   "nbconvert_exporter": "python",
   "pygments_lexer": "ipython3",
   "version": "3.9.15"
  }
 },
 "nbformat": 4,
 "nbformat_minor": 5
}
