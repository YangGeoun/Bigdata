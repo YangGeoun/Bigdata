{
 "cells": [
  {
   "cell_type": "code",
   "execution_count": null,
   "id": "f177e59e-d2b6-499f-b4a9-f24964485399",
   "metadata": {},
   "outputs": [],
   "source": [
    "import pandas as pd\n",
    "import numpy as np\n",
    "from scipy.stats import spearmanr, pearsonr\n",
    "from tensorflow.keras.layers import Dense, Dropout\n",
    "from tensorflow.keras.models import Sequential\n",
    "from tensorflow.keras.optimizers import Adam\n",
    "from tensorflow.keras.callbacks import EarlyStopping\n",
    "import matplotlib.pyplot as plt\n",
    "import seaborn as sns\n",
    "from sklearn.preprocessing import MinMaxScaler"
   ]
  },
  {
   "cell_type": "code",
   "execution_count": null,
   "id": "45136f6e-9c6e-42e6-87a2-b9f66ba92f05",
   "metadata": {},
   "outputs": [],
   "source": [
    "### 시각화를 위한 라이브러리\n",
    "# - 파이썬 시각화에서 가장 기본적인 시각화 라이브러리\n",
    "import matplotlib.pyplot as plt\n",
    "\n",
    "### 한글처리\n",
    "from matplotlib import font_manager, rc\n",
    "\n",
    "### 운영체제 확인 라이브러리\n",
    "import platform\n",
    "\n",
    "### 시각화 시 마이너스(-, 음수) 기호 깨짐 방지\n",
    "plt.rcParams[\"axes.unicode_minus\"] = False\n",
    "\n",
    "### OS별 한글처리\n",
    "# - 윈도우 운영체게\n",
    "if platform.system() == \"Windows\" :\n",
    "    # path = \"c:/Windows/Fonts/malgun.ttf\"\n",
    "    # font_name = font_manager.FontProperties(fname=path).get_name()\n",
    "    # rc(\"font\", family = font_name)\n",
    "    \n",
    "    ### 또는 아래처럼 한줄로도 가능 (아래 한글처리를 주로 사용합니다.)\n",
    "    plt.rc(\"font\", family = \"Malgun Gothic\")\n",
    "\n",
    "# - Mac 운영체제\n",
    "elif platform.system() == \"Darwin\" :\n",
    "    rc(\"font\", family = \"AppleGothic\")\n",
    "    \n",
    "else :\n",
    "    print(\"넌 누구?\")"
   ]
  },
  {
   "cell_type": "code",
   "execution_count": null,
   "id": "37e396f4-80df-44d6-b9d5-e2e0e1de402f",
   "metadata": {},
   "outputs": [],
   "source": [
    "def remove_outliers(df, column):\n",
    "    # 1사분위수(Q1)와 3사분위수(Q3) 계산\n",
    "    Q1 = df[column].quantile(0.25)\n",
    "    Q3 = df[column].quantile(0.75)\n",
    "    \n",
    "    # IQR 계산\n",
    "    IQR = Q3 - Q1\n",
    "    \n",
    "    # 이상치 범위 설정\n",
    "    lower_bound = Q1 - 1.5 * IQR\n",
    "    upper_bound = Q3 + 1.5 * IQR\n",
    "    \n",
    "    # 이상치 제거\n",
    "    filtered_df = df[(df[column] >= lower_bound) & (df[column] <= upper_bound)]\n",
    "    \n",
    "    return filtered_df\n",
    "\n",
    "\n"
   ]
  },
  {
   "cell_type": "code",
   "execution_count": null,
   "id": "f1849290-d9c9-4b53-b0ae-ab50b01729fe",
   "metadata": {},
   "outputs": [],
   "source": [
    "for cn"
   ]
  }
 ],
 "metadata": {
  "kernelspec": {
   "display_name": "dg_env_dl_kernel",
   "language": "python",
   "name": "dg_env_dl"
  },
  "language_info": {
   "codemirror_mode": {
    "name": "ipython",
    "version": 3
   },
   "file_extension": ".py",
   "mimetype": "text/x-python",
   "name": "python",
   "nbconvert_exporter": "python",
   "pygments_lexer": "ipython3",
   "version": "3.9.15"
  }
 },
 "nbformat": 4,
 "nbformat_minor": 5
}
