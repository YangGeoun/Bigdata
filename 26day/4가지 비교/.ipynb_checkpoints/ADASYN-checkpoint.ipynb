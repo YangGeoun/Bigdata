{
 "cells": [
  {
   "cell_type": "code",
   "execution_count": 1,
   "id": "d8038a2c-4087-4334-ab38-a856f512458a",
   "metadata": {},
   "outputs": [],
   "source": [
    "import pandas as pd\n",
    "### 시각화를 위한 라이브러리\n",
    "# - 파이썬 시각화에서 가장 기본적인 시각화 라이브러리\n",
    "import matplotlib.pyplot as plt\n",
    "\n",
    "### 한글처리\n",
    "from matplotlib import font_manager, rc\n",
    "\n",
    "### 운영체제 확인 라이브러리\n",
    "import platform\n",
    "\n",
    "### 시각화 시 마이너스(-, 음수) 기호 깨짐 방지\n",
    "plt.rcParams[\"axes.unicode_minus\"] = False\n",
    "\n",
    "### OS별 한글처리\n",
    "# - 윈도우 운영체게\n",
    "if platform.system() == \"Windows\" :\n",
    "    # path = \"c:/Windows/Fonts/malgun.ttf\"\n",
    "    # font_name = font_manager.FontProperties(fname=path).get_name()\n",
    "    # rc(\"font\", family = font_name)\n",
    "    \n",
    "    ### 또는 아래처럼 한줄로도 가능 (아래 한글처리를 주로 사용합니다.)\n",
    "    plt.rc(\"font\", family = \"Malgun Gothic\")\n",
    "\n",
    "# - Mac 운영체제\n",
    "elif platform.system() == \"Darwin\" :\n",
    "    rc(\"font\", family = \"AppleGothic\")\n",
    "    \n",
    "else :\n",
    "    print(\"넌 누구?\")"
   ]
  },
  {
   "cell_type": "code",
   "execution_count": 2,
   "id": "84ddd307-9b43-40a6-a81a-c8171c24fe4e",
   "metadata": {},
   "outputs": [
    {
     "name": "stderr",
     "output_type": "stream",
     "text": [
      "C:\\Users\\Admin\\AppData\\Local\\Temp\\ipykernel_6280\\3887624601.py:9: FutureWarning: Downcasting behavior in `replace` is deprecated and will be removed in a future version. To retain the old behavior, explicitly call `result.infer_objects(copy=False)`. To opt-in to the future behavior, set `pd.set_option('future.no_silent_downcasting', True)`\n",
      "  cn7 = cn7.replace(\"Y\", 1).replace(\"N\", 0)\n"
     ]
    }
   ],
   "source": [
    "cn7 = pd.read_csv(\"./data/labeled_data.csv\")\n",
    "cn7 = cn7.drop(columns=[\"_id\", \"TimeStamp\",\"PART_FACT_PLAN_DATE\", \"PART_FACT_SERIAL\",\n",
    "                        \"EQUIP_NAME\", \"EQUIP_CD\", \"Reason\", \"Clamp_Open_Position\",\n",
    "                        \"Mold_Temperature_1\",\"Mold_Temperature_2\",\"Mold_Temperature_5\",\"Mold_Temperature_6\",\n",
    "                        \"Mold_Temperature_7\",\"Mold_Temperature_8\",\"Mold_Temperature_9\",\"Mold_Temperature_10\",\n",
    "                        \"Mold_Temperature_11\",\"Mold_Temperature_12\",\"Barrel_Temperature_7\",\"Switch_Over_Position\"])\n",
    "cn7 = cn7[(cn7[\"PART_NAME\"] ==\"CN7 W/S SIDE MLD'G RH\") | (cn7[\"PART_NAME\"] ==\"CN7 W/S SIDE MLD'G LH\")]\n",
    "cn7 = cn7.drop(columns=[\"PART_NAME\"])\n",
    "cn7 = cn7.replace(\"Y\", 1).replace(\"N\", 0)"
   ]
  },
  {
   "cell_type": "code",
   "execution_count": 3,
   "id": "1bd93e22-31cc-45f7-b341-f04496f9d518",
   "metadata": {},
   "outputs": [],
   "source": [
    "cn7_twelve = cn7.iloc[:,[0,1,4,5,6,7,10,12,17,19,20,21]]"
   ]
  },
  {
   "cell_type": "code",
   "execution_count": 4,
   "id": "e38c5f67-680a-4874-972c-09f4d8295115",
   "metadata": {},
   "outputs": [],
   "source": [
    "def remove_outliers(df, column):\n",
    "    # 1사분위수(Q1)와 3사분위수(Q3) 계산\n",
    "    Q1 = df[column].quantile(0.25)\n",
    "    Q3 = df[column].quantile(0.75)\n",
    "    \n",
    "    # IQR 계산\n",
    "    IQR = Q3 - Q1\n",
    "    \n",
    "    # 이상치 범위 설정\n",
    "    lower_bound = Q1 - 1.5 * IQR\n",
    "    upper_bound = Q3 + 1.5 * IQR\n",
    "    \n",
    "    # 이상치 제거\n",
    "    filtered_df = df[(df[column] >= lower_bound) & (df[column] <= upper_bound)]\n",
    "    \n",
    "    return filtered_df"
   ]
  },
  {
   "cell_type": "code",
   "execution_count": 5,
   "id": "34690be1-e8e2-454e-989e-8ffa1181d7c2",
   "metadata": {},
   "outputs": [],
   "source": [
    "cn7_pass = cn7_twelve[cn7_twelve[\"PassOrFail\"] == 1]\n",
    "cn7_fail = cn7_twelve[cn7_twelve[\"PassOrFail\"] == 0]\n",
    "cn7_pass_removed = cn7_pass.copy()\n",
    "cn7_pass_removed = remove_outliers(cn7_pass_removed, 'Injection_Time')\n",
    "cn7_pass_removed = remove_outliers(cn7_pass_removed, 'Cycle_Time')\n",
    "cn7_removed = pd.concat([cn7_pass_removed, cn7_fail], ignore_index=True)\n"
   ]
  },
  {
   "cell_type": "code",
   "execution_count": 6,
   "id": "5282fcf2-2099-468a-b179-faa0df773807",
   "metadata": {},
   "outputs": [],
   "source": [
    "# cn7_removed"
   ]
  },
  {
   "cell_type": "code",
   "execution_count": 7,
   "id": "d93145c3-9914-451f-b01f-b8847e1aba57",
   "metadata": {},
   "outputs": [
    {
     "name": "stdout",
     "output_type": "stream",
     "text": [
      "원본 데이터 클래스 분포:\n",
      "PassOrFail\n",
      "1    6603\n",
      "0      39\n",
      "Name: count, dtype: int64\n",
      "\n",
      "증강된 데이터 클래스 분포:\n",
      "PassOrFail\n",
      "0    6608\n",
      "1    6603\n",
      "Name: count, dtype: int64\n"
     ]
    }
   ],
   "source": [
    "import pandas as pd\n",
    "from imblearn.over_sampling import ADASYN\n",
    "\n",
    "\n",
    "# Step 2: 특성과 타겟 분리\n",
    "X = cn7_removed.drop(columns=['PassOrFail'])  # 특성 데이터\n",
    "y = cn7_removed['PassOrFail']                # 타겟 변수\n",
    "\n",
    "# Step 3: ADASYN을 사용하여 불량 데이터 증강\n",
    "adasyn = ADASYN(random_state=42)\n",
    "X_resampled, y_resampled = adasyn.fit_resample(X, y)\n",
    "\n",
    "# Step 4: 증강된 데이터를 새로운 DataFrame으로 생성\n",
    "adasyn_data = pd.concat([pd.DataFrame(X_resampled, columns=X.columns), \n",
    "                            pd.DataFrame(y_resampled, columns=['PassOrFail'])], axis=1)\n",
    "\n",
    "# Step 5: 결과 확인\n",
    "print(\"원본 데이터 클래스 분포:\")\n",
    "print(cn7_removed['PassOrFail'].value_counts())\n",
    "\n",
    "print(\"\\n증강된 데이터 클래스 분포:\")\n",
    "print(adasyn_data['PassOrFail'].value_counts())\n"
   ]
  },
  {
   "cell_type": "markdown",
   "id": "2776b931-2947-4a9f-adb4-17a2e2321454",
   "metadata": {},
   "source": [
    "### 스피어만, 피어슨 상관계수 확인"
   ]
  },
  {
   "cell_type": "code",
   "execution_count": 8,
   "id": "77fbc50b-ef60-42d2-8d5f-cf64c8983be1",
   "metadata": {},
   "outputs": [],
   "source": [
    "from scipy.stats import spearmanr, pearsonr\n",
    "\n",
    "X = adasyn_data.drop(columns=[\"PassOrFail\"])\n",
    "y = adasyn_data[\"PassOrFail\"]"
   ]
  },
  {
   "cell_type": "code",
   "execution_count": 9,
   "id": "b44d5ca7-c581-43f6-89e1-370f0dd7d90d",
   "metadata": {},
   "outputs": [],
   "source": [
    "x_columns_nm = X.columns"
   ]
  },
  {
   "cell_type": "code",
   "execution_count": 10,
   "id": "43cdbe3a-e7eb-4f05-840e-3b5379f86ac8",
   "metadata": {
    "scrolled": true
   },
   "outputs": [
    {
     "name": "stdout",
     "output_type": "stream",
     "text": [
      "Injection_Time\n",
      "SignificanceResult(statistic=-0.04299771420250463, pvalue=7.656010267446224e-07)\n",
      "PearsonRResult(statistic=-0.16585762257810338, pvalue=4.090024491220779e-82)\n",
      "============================================================================\n",
      "Cycle_Time\n",
      "SignificanceResult(statistic=-0.009916422172696945, pvalue=0.25440924336762266)\n",
      "PearsonRResult(statistic=-0.05586462302767589, pvalue=1.3148815413097649e-10)\n",
      "============================================================================\n",
      "Clamp_Close_Time\n",
      "SignificanceResult(statistic=-0.5899837377495023, pvalue=0.0)\n",
      "PearsonRResult(statistic=-0.5771020250512969, pvalue=0.0)\n",
      "============================================================================\n",
      "Cushion_Position\n",
      "SignificanceResult(statistic=0.6000422298996912, pvalue=0.0)\n",
      "PearsonRResult(statistic=0.5727847797515396, pvalue=0.0)\n",
      "============================================================================\n",
      "Plasticizing_Position\n",
      "SignificanceResult(statistic=-0.7692722687612361, pvalue=0.0)\n",
      "PearsonRResult(statistic=-0.7648464369928637, pvalue=0.0)\n",
      "============================================================================\n",
      "Average_Screw_RPM\n",
      "SignificanceResult(statistic=-0.5741087582163362, pvalue=0.0)\n",
      "PearsonRResult(statistic=-0.629805193925196, pvalue=0.0)\n",
      "============================================================================\n",
      "Max_Switch_Over_Pressure\n",
      "SignificanceResult(statistic=-0.30715056832798265, pvalue=1.3358144203804276e-286)\n",
      "PearsonRResult(statistic=-0.3292069144470406, pvalue=0.0)\n",
      "============================================================================\n",
      "Barrel_Temperature_3\n",
      "SignificanceResult(statistic=-0.2433353809774189, pvalue=2.403435958060852e-177)\n",
      "PearsonRResult(statistic=-0.20711030589487311, pvalue=5.930708853552211e-128)\n",
      "============================================================================\n",
      "Barrel_Temperature_5\n",
      "SignificanceResult(statistic=-0.13809722659513401, pvalue=2.9542799316133526e-57)\n",
      "PearsonRResult(statistic=-0.09169338335531346, pvalue=4.546667905151585e-26)\n",
      "============================================================================\n",
      "Barrel_Temperature_6\n",
      "SignificanceResult(statistic=0.10477148526882127, pvalue=1.441340072021273e-33)\n",
      "PearsonRResult(statistic=0.14255482139916847, pvalue=6.256414396237309e-61)\n",
      "============================================================================\n",
      "Hopper_Temperature\n",
      "SignificanceResult(statistic=0.03531468711893812, pvalue=4.9089308897868185e-05)\n",
      "PearsonRResult(statistic=0.03378946634518362, pvalue=0.0001025520976369519)\n",
      "============================================================================\n"
     ]
    }
   ],
   "source": [
    "for i in x_columns_nm :\n",
    "    print(i)\n",
    "    print(spearmanr(X[i], y))\n",
    "    print(pearsonr(X[i], y))\n",
    "    print(\"============================================================================\")"
   ]
  },
  {
   "cell_type": "markdown",
   "id": "97b4f43c-7979-4ffd-a639-480d33902dda",
   "metadata": {},
   "source": [
    "### ADASYN 증강 방법으로 훈련,검증,테스트"
   ]
  },
  {
   "cell_type": "code",
   "execution_count": null,
   "id": "5fd6c3a7-aaec-400e-a0f5-9720a2f0e0b2",
   "metadata": {},
   "outputs": [
    {
     "name": "stdout",
     "output_type": "stream",
     "text": [
      "증강 전\n",
      "(4649, 11) (4649,)\n",
      "====================================\n",
      " Average_Screw_RPM 기준으로 up만 추출 한 후 \n",
      "(1710, 11) (1710,)\n",
      "====================================\n",
      "증강 후\n",
      "(3374, 11) (3374,)\n",
      "====================================\n",
      "증강 후 검증데이터로 분리\n",
      "(2361, 11) (2361,)\n",
      "(1993, 11) (1993,)\n",
      "(1013, 11) (1013,)\n"
     ]
    }
   ],
   "source": [
    "from imblearn.over_sampling import ADASYN\n",
    "from sklearn.model_selection import train_test_split\n",
    "from sklearn.preprocessing import StandardScaler\n",
    "\n",
    "from sklearn.model_selection import GridSearchCV\n",
    "from sklearn.metrics import precision_score, accuracy_score, recall_score, f1_score, confusion_matrix\n",
    "from sklearn.ensemble import RandomForestClassifier, ExtraTreesClassifier, HistGradientBoostingClassifier, GradientBoostingClassifier\n",
    "from xgboost import XGBClassifier\n",
    "\n",
    "grid_df = pd.DataFrame()\n",
    "\n",
    "# 독립변수 종속변수 분리 \n",
    "y = cn7_removed[\"PassOrFail\"]\n",
    "X = cn7_removed.drop(columns=[\"PassOrFail\"])\n",
    "\n",
    "# 테스트 데이터 분리\n",
    "\n",
    "# 테스트 데이터 분리\n",
    "X_train, X_test, y_train, y_test  = train_test_split(X, y, test_size=0.3, random_state=42)\n",
    "\n",
    "print(\"증강 전\")\n",
    "print(X_train.shape, y_train.shape)\n",
    "print(\"====================================\")\n",
    "\n",
    "# X_train, y_train 합치기\n",
    "Xy_train = X_train.copy()\n",
    "Xy_train[\"PassOrFail\"] = y_train\n",
    "\n",
    "# Average_Screw_RPM 기준으로 up만 추출하기\n",
    "Xy_train = Xy_train[Xy_train[\"Average_Screw_RPM\"]>250]\n",
    "\n",
    "# X_train, y_train 분리\n",
    "X_train = Xy_train.drop(columns=[\"PassOrFail\"])\n",
    "y_train = Xy_train[\"PassOrFail\"]\n",
    "\n",
    "print(\" Average_Screw_RPM 기준으로 up만 추출 한 후 \")\n",
    "print(X_train.shape, y_train.shape)\n",
    "print(\"====================================\")\n",
    "\n",
    "# 데이터 증강\n",
    "adasyn = ADASYN(random_state=42)\n",
    "X_resampled, y_resampled = adasyn.fit_resample(X_train, y_train)\n",
    "\n",
    "print(\"증강 후\")\n",
    "print(X_resampled.shape, y_resampled.shape)\n",
    "print(\"====================================\")\n",
    "\n",
    "# 검증 데이터 분리\n",
    "X_train, X_val, y_train, y_val  = train_test_split(X_resampled, y_resampled, test_size=0.3, random_state=42)\n",
    "\n",
    "print(\"증강 후 검증데이터로 분리\")\n",
    "print(X_train.shape, y_train.shape)\n",
    "print(X_test.shape, y_test.shape)\n",
    "print(X_val.shape, y_val.shape)\n",
    "\n",
    "# 데이터 정규화\n",
    "ss=StandardScaler()\n",
    "ss.fit(X_train)\n",
    "X_train_scaled = ss.transform(X_train)\n",
    "X_val_scaled = ss.transform(X_val)\n",
    "X_test_scaled=ss.transform(X_test)\n",
    "\n",
    "# 모델 생성\n",
    "rf = RandomForestClassifier(random_state=42)\n",
    "et = ExtraTreesClassifier(random_state=42)\n",
    "gb = GradientBoostingClassifier(random_state=42)\n",
    "hgb = HistGradientBoostingClassifier(random_state=42)\n",
    "xgb = XGBClassifier(random_state=42)\n",
    "model_list = [rf, et, gb, hgb, xgb]\n",
    "\n",
    "# GridSearchCV 이용해서 모든 모델 하이퍼파라미터 튜닝\n",
    "for model in model_list:\n",
    "    model_name = model.__class__.__name__\n",
    "    gridParams = dict()\n",
    "    if model_name ==\"XGBClassifier\" :\n",
    "        gridParams[\"n_estimators\"] = [20,50]\n",
    "        gridParams[\"max_depth\"] = [10,20]\n",
    "        gridParams[\"min_child_weight\"] = [1, 2,4]\n",
    "    elif model_name == \"HistGradientBoostingClassifier\" :\n",
    "        gridParams[\"max_iter\"] = [20, 50]\n",
    "        gridParams[\"max_depth\"] = [10, 50]\n",
    "        gridParams[\"min_samples_leaf\"] = [1,2,4]\n",
    "    else :\n",
    "        gridParams[\"n_estimators\"] = [20, 50]\n",
    "        gridParams[\"max_depth\"] = [10,20]\n",
    "        gridParams[\"min_samples_split\"] = [2,5,10]\n",
    "        gridParams[\"min_samples_leaf\"] = [1,2,4]\n",
    "\n",
    "    grid_search_model = GridSearchCV(model, gridParams, scoring='f1', cv=5, n_jobs=-1)\n",
    "    grid_search_model.fit(X_train_scaled, y_train)\n",
    "    model = grid_search_model.best_estimator_\n",
    "    train_pred = model.predict(X_train_scaled)\n",
    "    val_pred = model.predict(X_val_scaled)\n",
    "    \n",
    "    train_acc = accuracy_score(y_train, train_pred)\n",
    "    val_acc = accuracy_score(y_val, val_pred)\n",
    "    \n",
    "    pre = precision_score(y_val, val_pred)\n",
    "    rec = recall_score(y_val, val_pred)\n",
    "    f1 = f1_score(y_val, val_pred)\n",
    "    \n",
    "    pred = model.predict(X_test_scaled)\n",
    "    cm = confusion_matrix(y_test, pred)\n",
    "    TN = cm[0, 0]  # True Negative\n",
    "    FP = cm[0, 1]  # False Positive\n",
    "    FN = cm[1, 0]  # False Negative\n",
    "    TP = cm[1, 1]  # True Positive\n",
    "    \n",
    "    df_temp = pd.DataFrame([[model_name,  train_acc, val_acc, pre, rec, f1, train_acc-val_acc, TN, FP, FN, TP, str(grid_search_model.best_params_)]],\n",
    "                             columns=[\"모델명\", \"훈련_정확도\", \"검증_정확도\", \"정밀도\", \"재현율\", \"f1-score\", \"훈련-검증\", \"TN\", \"FP\", \"FN\", \"TP\", \"파라미터\"])\n",
    "\n",
    "    grid_df = pd.concat([grid_df, df_temp], ignore_index=True)\n",
    "    \n",
    "grid_df"
   ]
  },
  {
   "cell_type": "code",
   "execution_count": null,
   "id": "6343bf96-e3d1-40cc-ac28-0b4825ad0d47",
   "metadata": {},
   "outputs": [],
   "source": [
    "from sklearn.metrics import confusion_matrix\n",
    "cm = confusion_matrix(y_val, val_pred)\n",
    "cm"
   ]
  },
  {
   "cell_type": "code",
   "execution_count": null,
   "id": "44a06ba2-955e-4e44-b69e-7bb3243bedf2",
   "metadata": {},
   "outputs": [],
   "source": [
    "test_pred = model.predict(X_test_scaled)\n",
    "\n",
    "test_acc = accuracy_score(y_test, test_pred)\n",
    "test_pre = precision_score(y_test, test_pred)\n",
    "test_rec = recall_score(y_test, test_pred)\n",
    "test_f1 = f1_score(y_test, test_pred)\n",
    "\n",
    "print(f\"테스트 정확도: {test_acc}\")\n",
    "print(f\"테스트 정밀도: {test_pre}\")\n",
    "print(f\"테스트 재현율: {test_rec}\")\n",
    "print(f\"테스트 f1-score: {test_f1}\")"
   ]
  },
  {
   "cell_type": "code",
   "execution_count": null,
   "id": "1c24df55-e0ce-4eec-9586-ca86f0f1d74d",
   "metadata": {},
   "outputs": [],
   "source": [
    "from sklearn.metrics import confusion_matrix\n",
    "cm = confusion_matrix(y_test, test_pred)\n",
    "cm"
   ]
  },
  {
   "cell_type": "code",
   "execution_count": null,
   "id": "e59133d4-1f68-4b55-ab38-c459352363f8",
   "metadata": {},
   "outputs": [],
   "source": [
    "tmp_re = X_resampled.copy()\n",
    "tmp_re[\"PassOrFail\"] = y_resampled\n",
    "\n",
    "# tmp_re와 y_resampled의 인덱스를 재설정\n",
    "tmp_re.reset_index(drop=True, inplace=True)\n",
    "y_resampled.reset_index(drop=True, inplace=True)\n",
    "\n",
    "# 그래프 설정\n",
    "fig, axes = plt.subplots(nrows=5, ncols=5, figsize=(20, 15))\n",
    "axes = axes.flatten()\n",
    "fig.suptitle(\"ADASYN 진행한 후 불량, 양품 분포\", fontsize=25)\n",
    "\n",
    "# 독립 변수별 산점도 생성\n",
    "for i, column in enumerate(X.columns):\n",
    "    ax = axes[i]\n",
    "    ax.scatter(tmp_re.index[y_resampled == 1], tmp_re[column][y_resampled == 1], label=\"Pass\", color=\"blue\", alpha=0.6, s=10)\n",
    "    ax.scatter(tmp_re.index[y_resampled == 0], tmp_re[column][y_resampled == 0], label=\"Fail\", color=\"red\", alpha=0.6, s=10)\n",
    "    ax.set_title(column)\n",
    "    ax.set_xlabel(\"Index\")\n",
    "    ax.set_ylabel(\"Value\")\n",
    "    ax.legend()\n",
    "\n",
    "# 빈 그래프 제거\n",
    "for j in range(len(X.columns), len(axes)):\n",
    "    fig.delaxes(axes[j])\n",
    "\n",
    "plt.tight_layout(rect=[0, 0, 1, 0.95])\n",
    "plt.savefig(\"ADASYN증강, 독립변수 11개.png\", dpi=300)\n",
    "plt.show()"
   ]
  }
 ],
 "metadata": {
  "kernelspec": {
   "display_name": "dg_env_dl_kernel",
   "language": "python",
   "name": "dg_env_dl"
  },
  "language_info": {
   "codemirror_mode": {
    "name": "ipython",
    "version": 3
   },
   "file_extension": ".py",
   "mimetype": "text/x-python",
   "name": "python",
   "nbconvert_exporter": "python",
   "pygments_lexer": "ipython3",
   "version": "3.9.15"
  }
 },
 "nbformat": 4,
 "nbformat_minor": 5
}
