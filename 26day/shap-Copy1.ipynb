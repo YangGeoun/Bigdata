{
 "cells": [
  {
   "cell_type": "code",
   "execution_count": 1,
   "id": "24df48d0-2d3c-4cd3-8409-46a4aef1f26a",
   "metadata": {},
   "outputs": [],
   "source": [
    "import pandas as pd\n",
    "import numpy as np\n",
    "from scipy.stats import spearmanr, pearsonr\n",
    "from tensorflow.keras.layers import Dense, Dropout\n",
    "from tensorflow.keras.models import Sequential\n",
    "from tensorflow.keras.optimizers import Adam\n",
    "from tensorflow.keras.callbacks import EarlyStopping\n",
    "import matplotlib.pyplot as plt\n",
    "import seaborn as sns\n",
    "from sklearn.preprocessing import MinMaxScaler"
   ]
  },
  {
   "cell_type": "code",
   "execution_count": 2,
   "id": "d09435f9-f66d-46de-a560-616002191e32",
   "metadata": {},
   "outputs": [],
   "source": [
    "### 시각화를 위한 라이브러리\n",
    "# - 파이썬 시각화에서 가장 기본적인 시각화 라이브러리\n",
    "import matplotlib.pyplot as plt\n",
    "\n",
    "### 한글처리\n",
    "from matplotlib import font_manager, rc\n",
    "\n",
    "\n",
    "### 운영체제 확인 라이브러리\n",
    "import platform\n",
    "\n",
    "### 시각화 시 마이너스(-, 음수) 기호 깨짐 방지\n",
    "plt.rcParams[\"axes.unicode_minus\"] = False\n",
    "\n",
    "### OS별 한글처리\n",
    "# - 윈도우 운영체게\n",
    "if platform.system() == \"Windows\" :\n",
    "    # path = \"c:/Windows/Fonts/malgun.ttf\"\n",
    "    # font_name = font_manager.FontProperties(fname=path).get_name()\n",
    "    # rc(\"font\", family = font_name)\n",
    "    \n",
    "    ### 또는 아래처럼 한줄로도 가능 (아래 한글처리를 주로 사용합니다.)\n",
    "    plt.rc(\"font\", family = \"Malgun Gothic\")\n",
    "\n",
    "# - Mac 운영체제\n",
    "elif platform.system() == \"Darwin\" :\n",
    "    rc(\"font\", family = \"AppleGothic\")\n",
    "    \n",
    "else :\n",
    "    print(\"넌 누구?\")"
   ]
  },
  {
   "cell_type": "markdown",
   "id": "322ca37b-a406-40eb-b1f1-dabeb5c7460f",
   "metadata": {},
   "source": [
    "### 데이터 불러오기 및 전처리"
   ]
  },
  {
   "cell_type": "code",
   "execution_count": 3,
   "id": "c6827792-04b4-4695-b156-dbe707c7f20c",
   "metadata": {},
   "outputs": [],
   "source": [
    "labeled = pd.read_csv('./data/labeled_data.csv')"
   ]
  },
  {
   "cell_type": "code",
   "execution_count": 4,
   "id": "1e926abd-fc84-468d-ad01-f03b219b9703",
   "metadata": {},
   "outputs": [],
   "source": [
    "labeled_cn7 = labeled[(labeled[\"PART_NAME\"] == \"CN7 W/S SIDE MLD'G RH\") |(labeled[\"PART_NAME\"] == \"CN7 W/S SIDE MLD'G LH\")]"
   ]
  },
  {
   "cell_type": "code",
   "execution_count": 5,
   "id": "379a3b44-3c30-441e-830f-1f78ac6079d1",
   "metadata": {},
   "outputs": [],
   "source": [
    "labeled_cn7 = labeled_cn7.drop(columns=[\"_id\", \"TimeStamp\",\"PART_FACT_PLAN_DATE\", \"Reason\", \"PART_FACT_SERIAL\", \"PART_NAME\",\n",
    "               \"EQUIP_NAME\", \"EQUIP_CD\", \"Switch_Over_Position\", \"Mold_Temperature_1\",\"Mold_Temperature_2\",\"Mold_Temperature_5\",\n",
    "                \"Mold_Temperature_6\", \"Mold_Temperature_7\",\"Mold_Temperature_8\",\"Mold_Temperature_9\",\"Mold_Temperature_10\",\n",
    "               \"Mold_Temperature_11\",\"Mold_Temperature_12\",\"Barrel_Temperature_7\"])"
   ]
  },
  {
   "cell_type": "code",
   "execution_count": 6,
   "id": "c832488c-57f1-4d41-8b93-fc6bf24582bb",
   "metadata": {},
   "outputs": [
    {
     "name": "stderr",
     "output_type": "stream",
     "text": [
      "C:\\Users\\Admin\\AppData\\Local\\Temp\\ipykernel_27660\\3829480872.py:1: FutureWarning: Downcasting behavior in `replace` is deprecated and will be removed in a future version. To retain the old behavior, explicitly call `result.infer_objects(copy=False)`. To opt-in to the future behavior, set `pd.set_option('future.no_silent_downcasting', True)`\n",
      "  labeled_cn7[\"PassOrFail\"] = labeled_cn7[\"PassOrFail\"].replace('Y',1).replace('N',0)\n"
     ]
    }
   ],
   "source": [
    "labeled_cn7[\"PassOrFail\"] = labeled_cn7[\"PassOrFail\"].replace('Y',1).replace('N',0)"
   ]
  },
  {
   "cell_type": "code",
   "execution_count": 12,
   "id": "2c616a71-2e58-458d-bcc1-25fcdfb33bfe",
   "metadata": {},
   "outputs": [
    {
     "data": {
      "text/plain": [
       "PassOrFail\n",
       "1    6697\n",
       "0      39\n",
       "Name: count, dtype: int64"
      ]
     },
     "execution_count": 12,
     "metadata": {},
     "output_type": "execute_result"
    }
   ],
   "source": [
    "labeled_cn7[\"PassOrFail\"].value_counts()"
   ]
  },
  {
   "cell_type": "code",
   "execution_count": 11,
   "id": "9dc0a9ee-6c84-4023-8627-43a5482503be",
   "metadata": {},
   "outputs": [
    {
     "data": {
      "text/plain": [
       "PassOrFail\n",
       "1    2890\n",
       "Name: count, dtype: int64"
      ]
     },
     "execution_count": 11,
     "metadata": {},
     "output_type": "execute_result"
    }
   ],
   "source": [
    "def remove_outliers(df, column):\n",
    "    # 1사분위수(Q1)와 3사분위수(Q3) 계산\n",
    "    Q1 = df[column].quantile(0.25)\n",
    "    Q3 = df[column].quantile(0.75)\n",
    "    \n",
    "    # IQR 계산\n",
    "    IQR = Q3 - Q1\n",
    "    \n",
    "    # 이상치 범위 설정\n",
    "    lower_bound = Q1 - 1.5 * IQR\n",
    "    upper_bound = Q3 + 1.5 * IQR\n",
    "    \n",
    "    # 이상치 제거\n",
    "    filtered_df = df[(df[column] >= lower_bound) & (df[column] <= upper_bound)]\n",
    "    \n",
    "    return filtered_df\n",
    "\n",
    "tmp = labeled_cn7.copy()\n",
    "\n",
    "for col in tmp.columns:\n",
    "    tmp = remove_outliers(tmp, col)\n",
    "\n",
    "\n",
    "tmp[\"PassOrFail\"].value_counts()"
   ]
  },
  {
   "cell_type": "code",
   "execution_count": 14,
   "id": "e1466a1b-a03c-47d2-b34c-3053e0299c60",
   "metadata": {},
   "outputs": [
    {
     "name": "stdout",
     "output_type": "stream",
     "text": [
      "CN7의 양품 개수: 6697\n",
      "CN7의 불량 개수: 39\n"
     ]
    }
   ],
   "source": [
    "cn7_Y = labeled_cn7[labeled_cn7[\"PassOrFail\"]==1].copy()\n",
    "print(\"CN7의 양품 개수:\", len(cn7_Y))\n",
    "cn7_N = labeled_cn7[labeled_cn7[\"PassOrFail\"]==0].copy()\n",
    "print(\"CN7의 불량 개수:\", len(cn7_N))"
   ]
  },
  {
   "cell_type": "code",
   "execution_count": 15,
   "id": "7cc4f26b-8b98-4fe4-92a2-f58fdcad47ea",
   "metadata": {},
   "outputs": [],
   "source": [
    "cn7_pass_removed = cn7_Y.copy()\n",
    "for col in tmp.columns:\n",
    "    cn7_pass_removed = remove_outliers(cn7_pass_removed, col)"
   ]
  },
  {
   "cell_type": "code",
   "execution_count": 17,
   "id": "71d2b93b-0378-4e86-a84e-b977f2d5098a",
   "metadata": {},
   "outputs": [
    {
     "data": {
      "text/plain": [
       "PassOrFail\n",
       "1    2890\n",
       "0      39\n",
       "Name: count, dtype: int64"
      ]
     },
     "execution_count": 17,
     "metadata": {},
     "output_type": "execute_result"
    }
   ],
   "source": [
    "tmp_removed = pd.concat([cn7_pass_removed, cn7_N], ignore_index=True)\n",
    "tmp_removed[\"PassOrFail\"].value_counts()"
   ]
  },
  {
   "cell_type": "code",
   "execution_count": 18,
   "id": "2f6c6115-3fe7-4d25-af3a-d77c3334b3c2",
   "metadata": {},
   "outputs": [],
   "source": [
    "tmp = pd.concat([cn7_pass_removed, cn7_N], ignore_index=True)"
   ]
  },
  {
   "cell_type": "code",
   "execution_count": null,
   "id": "66948a4a-54df-4061-b501-10a90921d953",
   "metadata": {},
   "outputs": [],
   "source": []
  },
  {
   "cell_type": "code",
   "execution_count": null,
   "id": "d5cd4c4a-96a0-4895-9eb3-169ebfc54731",
   "metadata": {},
   "outputs": [],
   "source": []
  },
  {
   "cell_type": "code",
   "execution_count": null,
   "id": "d99528f5-7985-481d-ae2a-82e28238e711",
   "metadata": {},
   "outputs": [],
   "source": []
  },
  {
   "cell_type": "code",
   "execution_count": null,
   "id": "32ebf0bd-457d-4a5f-afef-950611c078c9",
   "metadata": {},
   "outputs": [],
   "source": []
  }
 ],
 "metadata": {
  "kernelspec": {
   "display_name": "dg_env_dl_kernel",
   "language": "python",
   "name": "dg_env_dl"
  },
  "language_info": {
   "codemirror_mode": {
    "name": "ipython",
    "version": 3
   },
   "file_extension": ".py",
   "mimetype": "text/x-python",
   "name": "python",
   "nbconvert_exporter": "python",
   "pygments_lexer": "ipython3",
   "version": "3.9.15"
  }
 },
 "nbformat": 4,
 "nbformat_minor": 5
}
