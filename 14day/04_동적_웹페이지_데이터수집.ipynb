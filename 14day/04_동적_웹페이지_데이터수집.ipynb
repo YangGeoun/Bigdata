{
 "cells": [
  {
   "cell_type": "code",
   "execution_count": 1,
   "id": "dac21d19-04ce-4241-bfe6-8ed5175c0eaa",
   "metadata": {},
   "outputs": [
    {
     "data": {
      "text/plain": [
       "'\\n<영화 데이터 수집>\\n - 수집처 : 메가박스\\n - 수집URL : https://www.megabox.co.kr/movie\\n - 수집 위치 : 영화 > 전체영화 > 박스오피스\\n - 수집 데이터 (10개 영화정보만 수집..)\\n    : 영화정보 데이터프레임\\n      컬럼명 -> 영화제목, 실관람평점, 예매순위, 예매율, 누적관객수\\n    : 영화별 개별관련평 데이터프레임\\n      컬럼명 -> 영화제목, 개별관람평, 개별평내용, 긍정(6점이상)/부정(6점미만)\\n - 중복해서 사용되는 기능들은 class 또는 함수(def)로 정의하여 사용하셔도 됩니다.\\n - 주피터 노트북 새로 생성...\\n'"
      ]
     },
     "execution_count": 1,
     "metadata": {},
     "output_type": "execute_result"
    }
   ],
   "source": [
    "\"\"\"\n",
    "<영화 데이터 수집>\n",
    " - 수집처 : 메가박스\n",
    " - 수집URL : https://www.megabox.co.kr/movie\n",
    " - 수집 위치 : 영화 > 전체영화 > 박스오피스\n",
    " - 수집 데이터 (10개 영화정보만 수집..)\n",
    "    : 영화정보 데이터프레임\n",
    "      컬럼명 -> 영화제목, 실관람평점, 예매순위, 예매율, 누적관객수\n",
    "    : 영화별 개별관련평 데이터프레임\n",
    "      컬럼명 -> 영화제목, 개별관람평, 개별평내용, 긍정(6점이상)/부정(6점미만)\n",
    " - 중복해서 사용되는 기능들은 class 또는 함수(def)로 정의하여 사용하셔도 됩니다.\n",
    " - 주피터 노트북 새로 생성...\n",
    "\"\"\"\n"
   ]
  },
  {
   "cell_type": "code",
   "execution_count": 2,
   "id": "92878138-62e0-4bc7-b63c-5ce75910e6cc",
   "metadata": {},
   "outputs": [],
   "source": [
    "import requests\n",
    "from selenium import webdriver\n",
    "from selenium.webdriver.common.by import By\n",
    "from bs4 import BeautifulSoup\n",
    "import pandas as pd\n",
    "import time"
   ]
  },
  {
   "cell_type": "code",
   "execution_count": 3,
   "id": "0e3906ed-345c-4c31-ba0d-58b7869177cc",
   "metadata": {
    "scrolled": true
   },
   "outputs": [],
   "source": [
    "driver = webdriver.Chrome()\n",
    "driver.get(\"https://www.megabox.co.kr/movie\")\n",
    "time.sleep(1)\n",
    "a_tag_list = driver.find_elements(By.CSS_SELECTOR, \"div.movie-list-info\")\n"
   ]
  },
  {
   "cell_type": "code",
   "execution_count": 4,
   "id": "4125b8c9-4436-43c8-9cc0-77619466455b",
   "metadata": {},
   "outputs": [
    {
     "data": {
      "text/plain": [
       "20"
      ]
     },
     "execution_count": 4,
     "metadata": {},
     "output_type": "execute_result"
    }
   ],
   "source": [
    "len(a_tag_list)"
   ]
  },
  {
   "cell_type": "code",
   "execution_count": 5,
   "id": "a9ca4a68-18dd-4978-8938-49dc9ae99148",
   "metadata": {},
   "outputs": [
    {
     "name": "stdout",
     "output_type": "stream",
     "text": [
      "4만큼 클릭\n"
     ]
    }
   ],
   "source": [
    "cnt = 0\n",
    "while(True):\n",
    "    try:\n",
    "        time.sleep(1)\n",
    "        driver.find_element(By.ID, \"btnAddMovie\").click()\n",
    "        cnt += 1\n",
    "    except:\n",
    "        break\n",
    "print(f\"{cnt}만큼 클릭\")"
   ]
  },
  {
   "cell_type": "code",
   "execution_count": 6,
   "id": "c51814b4-05de-4bce-9d73-3683a40759fd",
   "metadata": {
    "scrolled": true
   },
   "outputs": [
    {
     "data": {
      "text/plain": [
       "4"
      ]
     },
     "execution_count": 6,
     "metadata": {},
     "output_type": "execute_result"
    }
   ],
   "source": []
  },
  {
   "cell_type": "code",
   "execution_count": null,
   "id": "90ad3593-d91c-4381-9cd2-2811c745a991",
   "metadata": {},
   "outputs": [],
   "source": [
    "\"\"\"\n",
    "<영화 데이터 수집>\n",
    "      컬럼명 -> 영화제목, 실관람평점, 예매순위, 예매율, 누적관객수\n",
    "\"\"\"\n"
   ]
  },
  {
   "cell_type": "code",
   "execution_count": 35,
   "id": "a527f8a5-dfe7-4a29-8373-d6b0838a8679",
   "metadata": {},
   "outputs": [],
   "source": [
    "driver = webdriver.Chrome()\n",
    "driver.get(\"https://www.megabox.co.kr/movie\")\n",
    "time.sleep(1)\n",
    "a_tag_list = driver.find_elements(By.CSS_SELECTOR, \"div.movie-list-info\")\n",
    "a_tag_list[0].click()"
   ]
  },
  {
   "cell_type": "code",
   "execution_count": 36,
   "id": "96db516c-24fe-4dae-9584-533581d7bda8",
   "metadata": {},
   "outputs": [
    {
     "data": {
      "text/plain": [
       "'하얼빈'"
      ]
     },
     "execution_count": 36,
     "metadata": {},
     "output_type": "execute_result"
    }
   ],
   "source": [
    "title = driver.find_element(By.CSS_SELECTOR, \".title\").text\n",
    "title"
   ]
  },
  {
   "cell_type": "code",
   "execution_count": 37,
   "id": "1be5264e-d74f-4d4f-8afd-672f74623322",
   "metadata": {},
   "outputs": [
    {
     "data": {
      "text/plain": [
       "'8.7'"
      ]
     },
     "execution_count": 37,
     "metadata": {},
     "output_type": "execute_result"
    }
   ],
   "source": [
    "score = driver.find_element(By.CSS_SELECTOR, \".score\").find_element(By.CSS_SELECTOR, \".before\").text\n",
    "score"
   ]
  },
  {
   "cell_type": "code",
   "execution_count": 53,
   "id": "b5a6eefd-9314-48a3-aad2-ee579214b8cc",
   "metadata": {},
   "outputs": [
    {
     "data": {
      "text/plain": [
       "'1위 (20.3%)'"
      ]
     },
     "execution_count": 53,
     "metadata": {},
     "output_type": "execute_result"
    }
   ],
   "source": [
    "rate = driver.find_element(By.CSS_SELECTOR, \".rate\").find_element(By.CSS_SELECTOR, \".cont\").text\n",
    "rate"
   ]
  },
  {
   "cell_type": "raw",
   "id": "46703926-2c0e-4124-983d-19169c73c1c5",
   "metadata": {},
   "source": [
    "audience  = driver.find_element(By.CSS_SELECTOR, \".audience \").find_element(By.CSS_SELECTOR, \".cont\").text\n",
    "audience"
   ]
  },
  {
   "cell_type": "code",
   "execution_count": 48,
   "id": "595ad1c9-4a47-4ebb-969c-3026c9319cf6",
   "metadata": {},
   "outputs": [],
   "source": [
    "driver.quit()"
   ]
  },
  {
   "cell_type": "code",
   "execution_count": 51,
   "id": "a98bd420-1b8e-476d-8985-1e9ed67953b0",
   "metadata": {},
   "outputs": [
    {
     "name": "stdout",
     "output_type": "stream",
     "text": [
      "1\n",
      "영화제목 : 하얼빈\n",
      "실관람평점 : 8.7\n",
      "예매순위 : 1위\n",
      "예매율 : 20.3%\n",
      "누적관객수 : 3,826,320 명\n",
      "========================================\n",
      "2\n",
      "영화제목 : 보고타: 마지막 기회의 땅\n",
      "실관람평점 : 7.7\n",
      "예매순위 : 2위\n",
      "예매율 : 13%\n",
      "누적관객수 : 355,668 명\n",
      "========================================\n",
      "3\n",
      "영화제목 : 동화지만 청불입니다\n",
      "실관람평점 : 7.5\n",
      "예매순위 : 3위\n",
      "예매율 : 10.3%\n",
      "누적관객수 : 21,785 명\n",
      "========================================\n",
      "4\n",
      "영화제목 : 코넬의 상자\n",
      "실관람평점 : 6\n",
      "예매순위 : 4위\n",
      "예매율 : 10%\n",
      "누적관객수 : 843 명\n",
      "========================================\n",
      "5\n",
      "영화제목 : 러브레터 [30주년 에디션]\n",
      "실관람평점 : 9.4\n",
      "예매순위 : 5위\n",
      "예매율 : 7.8%\n",
      "누적관객수 : 192,218 명\n",
      "========================================\n",
      "6\n",
      "영화제목 : 페라리\n",
      "실관람평점 : 7.7\n",
      "예매순위 : 6위\n",
      "예매율 : 5.5%\n",
      "누적관객수 : 11,097 명\n",
      "========================================\n",
      "7\n",
      "영화제목 : 데드데드 데몬즈 디디디디 디스트럭션: 파트1\n",
      "실관람평점 : 7.8\n",
      "예매순위 : 7위\n",
      "예매율 : 3.7%\n",
      "누적관객수 : 7,025 명\n",
      "========================================\n",
      "8\n",
      "영화제목 : 위키드\n",
      "실관람평점 : 9.1\n",
      "예매순위 : 8위\n",
      "예매율 : 3%\n",
      "누적관객수 : 2,132,351 명\n",
      "========================================\n",
      "9\n",
      "영화제목 : 뽀로로 극장판 바닷속 대모험\n",
      "실관람평점 : 9.6\n",
      "예매순위 : 9위\n",
      "예매율 : 2.5%\n",
      "누적관객수 : 215,081 명\n",
      "========================================\n",
      "10\n",
      "영화제목 : 소방관\n",
      "실관람평점 : 8.8\n",
      "예매순위 : 10위\n",
      "예매율 : 2.4%\n",
      "누적관객수 : 3,600,120 명\n",
      "========================================\n"
     ]
    }
   ],
   "source": [
    "driver = webdriver.Chrome()\n",
    "driver.get(\"https://www.megabox.co.kr/movie\")\n",
    "time.sleep(0.5) # 페이지 변경마다 로딩 기다림\n",
    "a_tag_list = driver.find_elements(By.CSS_SELECTOR, \"div.movie-list-info\")\n",
    "for i in range(10):\n",
    "    a_tag_list[i].click()\n",
    "    time.sleep(0.5) # 페이지 변경마다 로딩 기다림\n",
    "    title = driver.find_element(By.CSS_SELECTOR, \".title\").text\n",
    "    score = driver.find_element(By.CSS_SELECTOR, \".score\").find_element(By.CSS_SELECTOR, \".before\").text\n",
    "    rate = driver.find_element(By.CSS_SELECTOR, \".rate\").find_element(By.CSS_SELECTOR, \".cont\").text\n",
    "    rank, rate = rate.split()    #   \"1위 (20.3%)\" 를 스페이스를 기준으로 둘로 나누기\n",
    "    rate = rate[1:-1] # 소괄호 제거 (20.3%)  -> 20.3%\n",
    "    audience  = driver.find_element(By.CSS_SELECTOR, \".audience \").find_element(By.CSS_SELECTOR, \".cont\").text\n",
    "    print(i + 1)\n",
    "    print(f\"영화제목 : {title}\")\n",
    "    print(f\"실관람평점 : {score}\")\n",
    "    print(f\"예매순위 : {rank}\")\n",
    "    print(f\"예매율 : {rate}\")\n",
    "    print(f\"누적관객수 : {audience}\")\n",
    "    print(\"========================================\")\n",
    "    driver.back()   # 이전 페이지로 이동\n",
    "    time.sleep(0.5) # 페이지 변경마다 로딩 기다림\n"
   ]
  },
  {
   "cell_type": "code",
   "execution_count": null,
   "id": "bc3e407c-d610-457a-af3e-c8869b5041bb",
   "metadata": {},
   "outputs": [],
   "source": []
  }
 ],
 "metadata": {
  "kernelspec": {
   "display_name": "env_one_kernel",
   "language": "python",
   "name": "env_one"
  },
  "language_info": {
   "codemirror_mode": {
    "name": "ipython",
    "version": 3
   },
   "file_extension": ".py",
   "mimetype": "text/x-python",
   "name": "python",
   "nbconvert_exporter": "python",
   "pygments_lexer": "ipython3",
   "version": "3.9.21"
  }
 },
 "nbformat": 4,
 "nbformat_minor": 5
}
