{
 "cells": [
  {
   "cell_type": "code",
   "execution_count": 1,
   "id": "a008e085-4b16-4489-b4ba-31addc941f57",
   "metadata": {},
   "outputs": [],
   "source": [
    "import requests\n",
    "from bs4 import BeautifulSoup"
   ]
  },
  {
   "cell_type": "code",
   "execution_count": 4,
   "id": "8469bfed-01e9-4276-b9e6-f1fbae73f0a2",
   "metadata": {},
   "outputs": [],
   "source": [
    "res = requests.get(\"https://news.naver.com/section/100\")"
   ]
  },
  {
   "cell_type": "code",
   "execution_count": 9,
   "id": "9f2026f5-4b72-441b-824a-f24fe50828ad",
   "metadata": {},
   "outputs": [],
   "source": [
    "bs = BeautifulSoup(res.text)"
   ]
  },
  {
   "cell_type": "code",
   "execution_count": 11,
   "id": "6b6fff6b-e532-4a8a-84f5-80258d3a1c8e",
   "metadata": {},
   "outputs": [
    {
     "data": {
      "text/plain": [
       "['절대 찍고 싶지 않은 대선 후보 1위 이재명…2·3위는?',\n",
       " '“김상욱, 당론 안 따를거면 당 나가라” 권성동 ‘탈당 압박’ 논란',\n",
       " '윤건영 “경호처, 위아래 온도차…MZ경호관들 부글부글”',\n",
       " '우원식, 상설특검 후보 추천 의뢰 않는 최상목에 권한쟁의 심판',\n",
       " '이재명 “박정훈 무죄…외압 몸통 밝힐 것”',\n",
       " '‘내란 특검법’·‘김 여사 특검법’ 국회 재표결 부결',\n",
       " '고민정 \"권성동의 동료의원 겁박, 오히려 덧났다\"',\n",
       " \"여야, '국정협의회' 명칭 합의…의제는 못 정해\",\n",
       " '박찬대 \"내란 특검법에 \\'외환죄\\' 추가…北 군사공격 유도했다\"',\n",
       " '27일 임시공휴일 지정, 반기는 여행·유통업계',\n",
       " '최민희, 박정훈 대령 \\'무죄\\' 판결에 \"윤석열, 김건희 얼마 못 버티겠어요!\"',\n",
       " '윤 대통령 \"떡국 먹고 가\" 관저에 모인 국힘 44인은 거절…왜?',\n",
       " '\\'청와대 동료\\' 의원들, 경호처 공무원 향해 \"석열산성 벗어나 달라\"',\n",
       " '윤상현 \"잘났던 못났던 우리가 尹 영입…그래서 끝까지 책임지고 지키겠다는 것\"',\n",
       " \"'계엄당' 본색?…윤석열은 아직도 '당원'인데, 김상욱엔 '탈당' 요구\",\n",
       " '\"시빗거리 다 없앴다\"…野6당, \\'대법원장 추천\\' 내란 특검법 재발의',\n",
       " '\"채상병 억울함 없게\" 박정훈 대령 \\'전부 무죄\\'…국방부 \"판결 존중\"',\n",
       " '\"\\'이첩 보류\\' 명령 없었으니 \\'이첩 중단\\' 명령은 부당\"',\n",
       " '김상욱 “탈당 안 할 것…보수 가치 훼손한 尹대통령 제명해야”',\n",
       " '국민 10명 중 6명 “헌재가 尹 탄핵 인용해야”…‘기각’은 3명[NBS]',\n",
       " '‘김상욱 탈당 압박’ 논란에 진화 나선 與 “의견 억압 안 해”',\n",
       " '박지원 \"\\'얼쩡남\\' 경호관에 \\'핵가방\\', 尹이 아직도 군 통수?..당장 최상목에 넘겨야\"[여의도초대석]',\n",
       " '고민정, \\'김상욱에 탈당 권유\\' 권성동에 \"삼류 조폭만도 못 해…너무 화가 나\"',\n",
       " '국힘 지지율 6%p 오른 32%…민주 4%p차 추격[NBS]',\n",
       " '박정훈 \"정의로운 결과…채상병과 약속지키기 위해 혼신의 노력\"(종합)',\n",
       " '\"제왕적 대통령제, 극단적 정쟁만 유발…분권형 개헌해야\"',\n",
       " '관저 몰려간 국힘 44인, “떡국 먹고 가” 尹제안은 거절…왜',\n",
       " \"이 와중에 이탈표 줄어든 '김건희 특검법', 與 철통 방어 이유는 명태균?\",\n",
       " '군 병력, 영장집행 대치 참여 안한다…경호처 \"매뉴얼상 경비 임무만\"',\n",
       " \"[뉴스1 PICK]해병대원 순직 사고 박정훈 대령 '항명' 무죄\",\n",
       " \"박정훈 무죄…'이첩 보류' 명령 없었고 '이첩 중단' 명령은 부당\",\n",
       " '\"박 대령, 항명한 것 아니다\" 군사법원 \\'무죄\\' 이유 보니‥',\n",
       " '\"대통령으로 절대 뽑고 싶지 않아\"…이재명 42.1%, 홍준표 16.8%',\n",
       " '\"여당 발의라 해도 믿을 수준... 권성동, 내란특검 수용해라\"',\n",
       " '박지원, 경호처에 \"내란 수괴는 여러분들을 물리적 충돌도구로 삼으려고 할 뿐\"',\n",
       " '與김상욱 \"당에 남을 것\"…지도부 \"여기서 정치할 필요 있나\"',\n",
       " \"[시사정각] '도피설' 쏟아지자 모습 드러낸 윤?... 각 진영 '세 결집' 뚜렷\",\n",
       " '올해 대선 치른다면 `민주당 후보 찍겠다` 41%… 국힘 후보는 29%',\n",
       " '조국 \"구치소서 尹 만남 기대했는데…영장 무시하는 미친 폭군\"',\n",
       " '군 \\'윤 대통령 체포 저지에 병력 동원 불가\\' 입장에 경호처 \"잘 알겠다\"',\n",
       " '공수처 흔드는 오세훈 \"윤 대통령이 원인 제공 맞지만...\"',\n",
       " '[속보] \"尹 탄핵 인용해야\" 62%·기각 33%…\"尹 탄핵대응 잘못해\" 65%[NBS]',\n",
       " '환경장관 \"계엄, 대단히 부적절…崔대행, 필요한 일 할 것\"',\n",
       " \"야6당, '제3자 추천' 내란 특검 재발의… 이르면 14일 처리\",\n",
       " \"여야, '내란 특검법' 수정안에 머리 맞댈까…'수사 범위'가 쟁점\",\n",
       " '야6당, \\'대법원장 추천\\' 내란 특검 재발의…\"사실상 한동훈 방식\"']"
      ]
     },
     "execution_count": 11,
     "metadata": {},
     "output_type": "execute_result"
    }
   ],
   "source": [
    "list(map(lambda x : x.text , bs.select(\".sa_text_strong\")))"
   ]
  },
  {
   "cell_type": "code",
   "execution_count": 26,
   "id": "d4ac0136-7a59-49c9-a015-08d7abb34817",
   "metadata": {},
   "outputs": [],
   "source": [
    "from selenium import webdriver\n",
    "from selenium.webdriver.common.by import By\n",
    "import requests\n",
    "import time"
   ]
  },
  {
   "cell_type": "code",
   "execution_count": null,
   "id": "ca6cadfa-1270-4296-b8bc-82f63bba5df5",
   "metadata": {},
   "outputs": [],
   "source": []
  },
  {
   "cell_type": "code",
   "execution_count": 58,
   "id": "fc41262b-2fa4-4694-9e81-a3eaa803648b",
   "metadata": {},
   "outputs": [],
   "source": [
    "driver = webdriver.Chrome() \n",
    "\n",
    "#크롬 드라이버에 url 주소 넣고 실행\n",
    "driver.get('https://www.melon.com/chart/index.htm')\n",
    "\n",
    "driver.page_source\n",
    "\n",
    "bs = BeautifulSoup(driver.page_source)\n",
    "\n",
    "driver.close()"
   ]
  },
  {
   "cell_type": "code",
   "execution_count": 103,
   "id": "b13a39c2-a1e0-4b5b-b2ab-2e6444cc02c9",
   "metadata": {
    "scrolled": true
   },
   "outputs": [],
   "source": [
    "tr_tag_list = bs.select(\"tr\")[1:]"
   ]
  },
  {
   "cell_type": "code",
   "execution_count": 94,
   "id": "54cbe67f-6c15-4c84-b2da-23e91033fe49",
   "metadata": {
    "scrolled": true
   },
   "outputs": [],
   "source": [
    "title_a_tag_list = bs.select(\"td:nth-child(6) > div > div > div.ellipsis.rank01 > span > a\")\n",
    "singer_a_tag_list = bs.select(\"td:nth-child(6) > div > div > div.ellipsis.rank02 > a\")"
   ]
  },
  {
   "cell_type": "code",
   "execution_count": 105,
   "id": "be963805-4040-452f-ab1f-fc2c50565530",
   "metadata": {},
   "outputs": [
    {
     "name": "stdout",
     "output_type": "stream",
     "text": [
      "[곡제목] : HOME SWEET HOME (feat. 태양, 대성) / [가수명] : G-DRAGON\n",
      "[곡제목] : APT. / [가수명] : 로제 (ROSÉ)\n",
      "[곡제목] : Whiplash / [가수명] : aespa\n",
      "[곡제목] : 나는 반딧불 / [가수명] : 황가람\n",
      "[곡제목] : toxic till the end / [가수명] : 로제 (ROSÉ)\n",
      "[곡제목] : HAPPY / [가수명] : DAY6 (데이식스)\n",
      "[곡제목] : POWER / [가수명] : G-DRAGON\n",
      "[곡제목] : 너와의 모든 지금 / [가수명] : 재쓰비 (JAESSBEE)\n",
      "[곡제목] : Drowning / [가수명] : WOODZ\n",
      "[곡제목] : 내게 사랑이 뭐냐고 물어본다면 / [가수명] : 로이킴\n",
      "[곡제목] : UP (KARINA Solo) / [가수명] : aespa\n",
      "[곡제목] : Welcome to the Show / [가수명] : DAY6 (데이식스)\n",
      "[곡제목] : 내 이름 맑음 / [가수명] : QWER\n",
      "[곡제목] : 소나기 / [가수명] : 이클립스 (ECLIPSE)\n",
      "[곡제목] : Supernova / [가수명] : aespa\n",
      "[곡제목] : 한 페이지가 될 수 있게 / [가수명] : DAY6 (데이식스)\n",
      "[곡제목] : 오늘만 I LOVE YOU / [가수명] : BOYNEXTDOOR\n",
      "[곡제목] : 천상연 / [가수명] : 이창섭\n",
      "[곡제목] : 사랑은 늘 도망가 / [가수명] : 임영웅\n",
      "[곡제목] : 슬픈 초대장 / [가수명] : 순순희(지환)\n",
      "[곡제목] : 어떻게 이별까지 사랑하겠어, 널 사랑하는 거지 / [가수명] : AKMU (악뮤)\n",
      "[곡제목] : Mantra / [가수명] : 제니 (JENNIE)\n",
      "[곡제목] : WAY 4 LUV / [가수명] : PLAVE\n",
      "[곡제목] : 고민중독 / [가수명] : QWER\n",
      "[곡제목] : 우리들의 블루스 / [가수명] : 임영웅\n",
      "[곡제목] : Love wins all / [가수명] : 아이유\n",
      "[곡제목] : Pump Up The Volume! / [가수명] : PLAVE\n",
      "[곡제목] : 예뻤어 / [가수명] : DAY6 (데이식스)\n",
      "[곡제목] : 온기 / [가수명] : 임영웅\n",
      "[곡제목] : How Sweet / [가수명] : NewJeans\n",
      "[곡제목] : DRIP / [가수명] : BABYMONSTER\n",
      "[곡제목] : 첫 눈 / [가수명] : EXO\n",
      "[곡제목] : Home / [가수명] : 임영웅\n",
      "[곡제목] : 첫 만남은 계획대로 되지 않아 / [가수명] : TWS (투어스)\n",
      "[곡제목] : 모래 알갱이 / [가수명] : 임영웅\n",
      "[곡제목] : 너의 모든 순간 / [가수명] : 성시경\n",
      "[곡제목] : 나는 아픈 건 딱 질색이니까 / [가수명] : (여자)아이들\n",
      "[곡제목] : Supersonic / [가수명] : 프로미스나인\n",
      "[곡제목] : 다시 만날 수 있을까 / [가수명] : 임영웅\n",
      "[곡제목] : 우리 영화 / [가수명] : PLAVE\n",
      "[곡제목] : 그대만 있다면 (여름날 우리 X 너드커넥션 (Nerd Connection)) / [가수명] : 너드커넥션 (Nerd Connection)\n",
      "[곡제목] : 이제 나만 믿어요 / [가수명] : 임영웅\n",
      "[곡제목] : 미안해 미워해 사랑해 / [가수명] : Crush\n",
      "[곡제목] : Love 119 / [가수명] : RIIZE\n",
      "[곡제목] : Small girl (feat. 도경수(D.O.)) / [가수명] : 이영지\n",
      "[곡제목] : 청바지 / [가수명] : 부석순 (SEVENTEEN)\n",
      "[곡제목] : From / [가수명] : PLAVE\n",
      "[곡제목] : Do or Die / [가수명] : 임영웅\n",
      "[곡제목] : 비의 랩소디 / [가수명] : 임재현\n",
      "[곡제목] : Magnetic / [가수명] : 아일릿(ILLIT)\n",
      "[곡제목] : number one girl / [가수명] : 로제 (ROSÉ)\n",
      "[곡제목] : Ditto / [가수명] : NewJeans\n",
      "[곡제목] : 에피소드 / [가수명] : 이무진\n",
      "[곡제목] : 무지개 / [가수명] : 임영웅\n",
      "[곡제목] : London Boy / [가수명] : 임영웅\n",
      "[곡제목] : Polaroid / [가수명] : 임영웅\n",
      "[곡제목] : 헤어지자 말해요 / [가수명] : 박재정\n",
      "[곡제목] : Watch Me Woo! / [가수명] : PLAVE\n",
      "[곡제목] : 눈이 오잖아(Feat.헤이즈) / [가수명] : 이무진\n",
      "[곡제목] : Igloo / [가수명] : KISS OF LIFE\n",
      "[곡제목] : 모든 날, 모든 순간 (Every day, Every Moment) / [가수명] : 폴킴\n",
      "[곡제목] : Armageddon / [가수명] : aespa\n",
      "[곡제목] : 녹아내려요 / [가수명] : DAY6 (데이식스)\n",
      "[곡제목] : I AM / [가수명] : IVE (아이브)\n",
      "[곡제목] : 인사 / [가수명] : 범진\n",
      "[곡제목] : 인생찬가 / [가수명] : 임영웅\n",
      "[곡제목] : Boom Boom Bass / [가수명] : RIIZE\n",
      "[곡제목] : 다정히 내 이름을 부르면 / [가수명] : 경서예지\n",
      "[곡제목] : 클락션 (Klaxon) / [가수명] : (여자)아이들\n",
      "[곡제목] : 청춘만화 / [가수명] : 이무진\n",
      "[곡제목] : 주저하는 연인들을 위해 / [가수명] : 잔나비\n",
      "[곡제목] : Hype Boy / [가수명] : NewJeans\n",
      "[곡제목] : 버추얼 아이돌 / [가수명] : PLAVE\n",
      "[곡제목] : Hug / [가수명] : RIIZE\n",
      "[곡제목] : Seven (feat. Latto) - Clean Ver. / [가수명] : 정국\n",
      "[곡제목] : Supernatural / [가수명] : NewJeans\n",
      "[곡제목] : Sticky / [가수명] : KISS OF LIFE\n",
      "[곡제목] : 해야 (HEYA) / [가수명] : IVE (아이브)\n",
      "[곡제목] : Merry PLLIstmas / [가수명] : PLAVE\n",
      "[곡제목] : 사랑인가 봐 / [가수명] : 멜로망스\n",
      "[곡제목] : 살기 위해서 / [가수명] : 순순희\n",
      "[곡제목] : 무제(無題) (Untitled, 2014) / [가수명] : G-DRAGON\n",
      "[곡제목] : 청혼하지 않을 이유를 못 찾았어 / [가수명] : 이무진\n",
      "[곡제목] : 연애편지 / [가수명] : 임영웅\n",
      "[곡제목] : SPOT! (feat. JENNIE) / [가수명] : 지코 (ZICO)\n",
      "[곡제목] : To. X / [가수명] : 태연 (TAEYEON)\n",
      "[곡제목] : 사건의 지평선 / [가수명] : 윤하 (YOUNHA)\n",
      "[곡제목] : 취중고백 / [가수명] : 김민석\n",
      "[곡제목] : 보금자리 / [가수명] : 임영웅\n",
      "[곡제목] : Bubble Gum / [가수명] : NewJeans\n",
      "[곡제목] : Congratulations / [가수명] : DAY6 (데이식스)\n",
      "[곡제목] : Drama / [가수명] : aespa\n",
      "[곡제목] : 사막에서 꽃을 피우듯 / [가수명] : 우디 (Woody)\n",
      "[곡제목] : 봄날 / [가수명] : 방탄소년단\n",
      "[곡제목] : Cherish (My Love) / [가수명] : 아일릿(ILLIT)\n",
      "[곡제목] : 네모네모 / [가수명] : YENA (최예나)\n",
      "[곡제목] : Dynamite / [가수명] : 방탄소년단\n",
      "[곡제목] : 파이팅 해야지 (Feat. 이영지) / [가수명] : 부석순 (SEVENTEEN)\n",
      "[곡제목] : Happy Alone / [가수명] : 부석순 (SEVENTEEN)\n",
      "[곡제목] : 눈사람 / [가수명] : 정승환\n"
     ]
    }
   ],
   "source": [
    "for tr_tag in tr_tag_list:\n",
    "    title = tr_tag.select_one(\"td:nth-child(6) > div > div > div.ellipsis.rank01 > span > a\").text\n",
    "    singer = tr_tag.select_one(\"td:nth-child(6) > div > div > div.ellipsis.rank02 > a\").text\n",
    "    print(f\"[곡제목] : {title} / [가수명] : {singer}\")"
   ]
  },
  {
   "cell_type": "code",
   "execution_count": null,
   "id": "2ce790c6-aace-4303-8e97-488354d4dac1",
   "metadata": {},
   "outputs": [],
   "source": []
  }
 ],
 "metadata": {
  "kernelspec": {
   "display_name": "env_one_kernel",
   "language": "python",
   "name": "env_one"
  },
  "language_info": {
   "codemirror_mode": {
    "name": "ipython",
    "version": 3
   },
   "file_extension": ".py",
   "mimetype": "text/x-python",
   "name": "python",
   "nbconvert_exporter": "python",
   "pygments_lexer": "ipython3",
   "version": "3.9.21"
  }
 },
 "nbformat": 4,
 "nbformat_minor": 5
}
