{
 "cells": [
  {
   "cell_type": "code",
   "execution_count": null,
   "id": "23c2d795-d12e-464b-8c66-aa3a662d6e3f",
   "metadata": {},
   "outputs": [],
   "source": [
    "\"\"\"\n",
    "<파일 기반 데이터 수집>\n",
    " - 데이터 수집 방법 : 일반적으로 다운로드 방식을 통해 수집됨\n",
    " - 데이터 제공 기관 : 공공기관, 국책기관, 기업 등(기업의 경우 유료가 많음)\n",
    " - 파일 포멧에 따라 읽어 들이는 함수가 다름 : 사용 라이브러리는 판다스(pandas), 이외 기타\n",
    " - 보통 사용되는 파일 포맷 : csv, txt, xlsx, json\n",
    " - csv 및 txt : read_csv(), to_csv()\n",
    " - xlsx       : read_excel(), to_excel()\n",
    " - json       : read_json(), to_json() -> 딕셔너리 형태 데이터\n",
    "\"\"\""
   ]
  },
  {
   "cell_type": "code",
   "execution_count": 1,
   "id": "60251e55-0d8f-449e-8b2f-e1922febaa9c",
   "metadata": {},
   "outputs": [],
   "source": [
    "### 행렬을 관리하는 데이터프레임 처리 라이브러리\n",
    "import pandas as pd"
   ]
  },
  {
   "cell_type": "markdown",
   "id": "ad6f5e75-be78-4868-b00e-8d0095ba0671",
   "metadata": {},
   "source": [
    "### csv 및 txt"
   ]
  },
  {
   "cell_type": "code",
   "execution_count": 3,
   "id": "9791fd6c-59c9-4bb6-a697-5e21acb4575c",
   "metadata": {},
   "outputs": [
    {
     "data": {
      "text/html": [
       "<div>\n",
       "<style scoped>\n",
       "    .dataframe tbody tr th:only-of-type {\n",
       "        vertical-align: middle;\n",
       "    }\n",
       "\n",
       "    .dataframe tbody tr th {\n",
       "        vertical-align: top;\n",
       "    }\n",
       "\n",
       "    .dataframe thead th {\n",
       "        text-align: right;\n",
       "    }\n",
       "</style>\n",
       "<table border=\"1\" class=\"dataframe\">\n",
       "  <thead>\n",
       "    <tr style=\"text-align: right;\">\n",
       "      <th></th>\n",
       "      <th>자전거번호</th>\n",
       "      <th>대여일시</th>\n",
       "      <th>대여소번호</th>\n",
       "      <th>대여소명</th>\n",
       "      <th>대여거치대</th>\n",
       "      <th>반납일시</th>\n",
       "      <th>반납대여소번호</th>\n",
       "      <th>반납대여소명</th>\n",
       "      <th>반납거치대</th>\n",
       "      <th>이용시간</th>\n",
       "      <th>이용거리</th>\n",
       "    </tr>\n",
       "  </thead>\n",
       "  <tbody>\n",
       "    <tr>\n",
       "      <th>0</th>\n",
       "      <td>SPB-23220</td>\n",
       "      <td>2019-11-01 8:48</td>\n",
       "      <td>646</td>\n",
       "      <td>장한평역 1번출구 (국민은행앞)</td>\n",
       "      <td>3.0</td>\n",
       "      <td>2019-11-01 9:01</td>\n",
       "      <td>3</td>\n",
       "      <td>중랑센터</td>\n",
       "      <td>7.0</td>\n",
       "      <td>12.0</td>\n",
       "      <td>1100.0</td>\n",
       "    </tr>\n",
       "  </tbody>\n",
       "</table>\n",
       "</div>"
      ],
      "text/plain": [
       "       자전거번호             대여일시  대여소번호               대여소명  대여거치대  \\\n",
       "0  SPB-23220  2019-11-01 8:48    646  장한평역 1번출구 (국민은행앞)    3.0   \n",
       "\n",
       "              반납일시  반납대여소번호 반납대여소명  반납거치대  이용시간    이용거리  \n",
       "0  2019-11-01 9:01        3   중랑센터    7.0  12.0  1100.0  "
      ]
     },
     "execution_count": 3,
     "metadata": {},
     "output_type": "execute_result"
    }
   ],
   "source": [
    "### 수집된 파일명 : bicycle.csv\n",
    "# 변수명 df1 으로 읽어 들이기\n",
    "file_path = \"./data/bicycle.csv\"\n",
    "df1 = pd.read_csv(file_path, encoding=\"euc-kr\")\n",
    "df1.head(1)"
   ]
  },
  {
   "cell_type": "code",
   "execution_count": 5,
   "id": "e598a293-7181-4d40-adef-38bfdd06028b",
   "metadata": {},
   "outputs": [],
   "source": [
    "### csv 포멧으로 저장하기\n",
    "# 파일명 : bicycle_save.csv\n",
    "save_path = \"./data/bicycle_save.csv\"\n",
    "df1.to_csv(save_path, index=False)"
   ]
  },
  {
   "cell_type": "code",
   "execution_count": 6,
   "id": "4d0c45d5-4db4-4f92-80e1-0994848ea6f4",
   "metadata": {},
   "outputs": [],
   "source": [
    "### excel 포멧으로 저장하기\n",
    "# 파일명 : bicycle_save.xlsx\n",
    "save_path = \"./data/bicycle_save.xlsx\"\n",
    "df1.to_excel(save_path, index=False)"
   ]
  },
  {
   "cell_type": "code",
   "execution_count": 7,
   "id": "9d4d8736-f989-40ff-a257-131e69a5ca5c",
   "metadata": {},
   "outputs": [],
   "source": [
    "### json 포멧으로 저장하기\n",
    "# 파일명 : bicycle_save.json\n",
    "save_path = \"./data/bicycle_save.json\"\n",
    "df1.to_json(save_path, index=False)"
   ]
  },
  {
   "cell_type": "code",
   "execution_count": null,
   "id": "a1f01c53-cd0a-4e30-901b-0a818e19d034",
   "metadata": {},
   "outputs": [],
   "source": []
  },
  {
   "cell_type": "code",
   "execution_count": null,
   "id": "6f1e45c5-c955-4398-b6ef-c2199d054193",
   "metadata": {},
   "outputs": [],
   "source": []
  },
  {
   "cell_type": "code",
   "execution_count": null,
   "id": "4bf20dab-f9cb-411b-824a-bdb68b2cb28b",
   "metadata": {},
   "outputs": [],
   "source": []
  },
  {
   "cell_type": "code",
   "execution_count": null,
   "id": "10a87883-10b8-4d0f-87c1-d7bd5aefe0f7",
   "metadata": {},
   "outputs": [],
   "source": []
  },
  {
   "cell_type": "code",
   "execution_count": null,
   "id": "20dda73d-b4b7-4c98-bab1-49e3814348cd",
   "metadata": {},
   "outputs": [],
   "source": []
  },
  {
   "cell_type": "code",
   "execution_count": null,
   "id": "f760f707-d47f-4586-aa48-33dea02fd7fe",
   "metadata": {},
   "outputs": [],
   "source": []
  }
 ],
 "metadata": {
  "kernelspec": {
   "display_name": "dg_env_gpu_kernel",
   "language": "python",
   "name": "dg_env_gpu"
  },
  "language_info": {
   "codemirror_mode": {
    "name": "ipython",
    "version": 3
   },
   "file_extension": ".py",
   "mimetype": "text/x-python",
   "name": "python",
   "nbconvert_exporter": "python",
   "pygments_lexer": "ipython3",
   "version": "3.9.21"
  }
 },
 "nbformat": 4,
 "nbformat_minor": 5
}
