{
 "cells": [
  {
   "cell_type": "code",
   "execution_count": 1,
   "id": "dac21d19-04ce-4241-bfe6-8ed5175c0eaa",
   "metadata": {},
   "outputs": [
    {
     "data": {
      "text/plain": [
       "'\\n<영화 데이터 수집>\\n - 수집처 : 메가박스\\n - 수집URL : https://www.megabox.co.kr/movie\\n - 수집 위치 : 영화 > 전체영화 > 박스오피스\\n - 수집 데이터 (10개 영화정보만 수집..)\\n    : 영화정보 데이터프레임\\n      컬럼명 -> 영화제목, 실관람평점, 예매순위, 예매율, 누적관객수\\n    : 영화별 개별관련평 데이터프레임\\n      컬럼명 -> 영화제목, 개별관람평, 개별평내용, 긍정(6점이상)/부정(6점미만)\\n - 중복해서 사용되는 기능들은 class 또는 함수(def)로 정의하여 사용하셔도 됩니다.\\n - 주피터 노트북 새로 생성...\\n'"
      ]
     },
     "execution_count": 1,
     "metadata": {},
     "output_type": "execute_result"
    }
   ],
   "source": [
    "\"\"\"\n",
    "<영화 데이터 수집>\n",
    " - 수집처 : 메가박스\n",
    " - 수집URL : https://www.megabox.co.kr/movie\n",
    " - 수집 위치 : 영화 > 전체영화 > 박스오피스\n",
    " - 수집 데이터 (10개 영화정보만 수집..)\n",
    "    : 영화정보 데이터프레임\n",
    "      컬럼명 -> 영화제목, 실관람평점, 예매순위, 예매율, 누적관객수\n",
    "    : 영화별 개별관련평 데이터프레임\n",
    "      컬럼명 -> 영화제목, 개별관람평, 개별평내용, 긍정(6점이상)/부정(6점미만)\n",
    " - 중복해서 사용되는 기능들은 class 또는 함수(def)로 정의하여 사용하셔도 됩니다.\n",
    " - 주피터 노트북 새로 생성...\n",
    "\"\"\"\n"
   ]
  },
  {
   "cell_type": "code",
   "execution_count": 2,
   "id": "92878138-62e0-4bc7-b63c-5ce75910e6cc",
   "metadata": {},
   "outputs": [],
   "source": [
    "import requests\n",
    "from selenium import webdriver\n",
    "from selenium.webdriver.common.by import By\n",
    "from bs4 import BeautifulSoup\n",
    "import pandas as pd\n",
    "import time"
   ]
  },
  {
   "cell_type": "code",
   "execution_count": 3,
   "id": "0e3906ed-345c-4c31-ba0d-58b7869177cc",
   "metadata": {
    "scrolled": true
   },
   "outputs": [],
   "source": [
    "driver = webdriver.Chrome()\n",
    "driver.get(\"https://www.megabox.co.kr/movie\")\n",
    "time.sleep(1)\n",
    "a_tag_list = driver.find_elements(By.CSS_SELECTOR, \"div.movie-list-info\")\n"
   ]
  },
  {
   "cell_type": "code",
   "execution_count": 4,
   "id": "4125b8c9-4436-43c8-9cc0-77619466455b",
   "metadata": {},
   "outputs": [
    {
     "data": {
      "text/plain": [
       "20"
      ]
     },
     "execution_count": 4,
     "metadata": {},
     "output_type": "execute_result"
    }
   ],
   "source": [
    "len(a_tag_list)"
   ]
  },
  {
   "cell_type": "code",
   "execution_count": 5,
   "id": "a9ca4a68-18dd-4978-8938-49dc9ae99148",
   "metadata": {},
   "outputs": [
    {
     "name": "stdout",
     "output_type": "stream",
     "text": [
      "4만큼 클릭\n"
     ]
    }
   ],
   "source": [
    "cnt = 0\n",
    "while(True):\n",
    "    try:\n",
    "        time.sleep(1)\n",
    "        driver.find_element(By.ID, \"btnAddMovie\").click()\n",
    "        cnt += 1\n",
    "    except:\n",
    "        break\n",
    "print(f\"{cnt}만큼 클릭\")"
   ]
  },
  {
   "cell_type": "code",
   "execution_count": 6,
   "id": "c51814b4-05de-4bce-9d73-3683a40759fd",
   "metadata": {
    "scrolled": true
   },
   "outputs": [
    {
     "data": {
      "text/plain": [
       "4"
      ]
     },
     "execution_count": 6,
     "metadata": {},
     "output_type": "execute_result"
    }
   ],
   "source": []
  },
  {
   "cell_type": "code",
   "execution_count": null,
   "id": "90ad3593-d91c-4381-9cd2-2811c745a991",
   "metadata": {},
   "outputs": [],
   "source": [
    "\"\"\"\n",
    "<영화 데이터 수집>\n",
    "      컬럼명 -> 영화제목, 실관람평점, 예매순위, 예매율, 누적관객수\n",
    "\"\"\"\n"
   ]
  },
  {
   "cell_type": "code",
   "execution_count": 7,
   "id": "a527f8a5-dfe7-4a29-8373-d6b0838a8679",
   "metadata": {},
   "outputs": [],
   "source": [
    "driver = webdriver.Chrome()\n",
    "driver.get(\"https://www.megabox.co.kr/movie\")\n",
    "time.sleep(1)\n",
    "a_tag_list = driver.find_elements(By.CSS_SELECTOR, \"div.movie-list-info\")\n",
    "a_tag_list[0].click()"
   ]
  },
  {
   "cell_type": "code",
   "execution_count": 12,
   "id": "96db516c-24fe-4dae-9584-533581d7bda8",
   "metadata": {},
   "outputs": [
    {
     "data": {
      "text/plain": [
       "'하얼빈'"
      ]
     },
     "execution_count": 12,
     "metadata": {},
     "output_type": "execute_result"
    }
   ],
   "source": [
    "title = driver.find_element(By.CLASS_NAME, \"title\").text\n",
    "title"
   ]
  },
  {
   "cell_type": "code",
   "execution_count": 24,
   "id": "1be5264e-d74f-4d4f-8afd-672f74623322",
   "metadata": {},
   "outputs": [
    {
     "data": {
      "text/plain": [
       "'8.7'"
      ]
     },
     "execution_count": 24,
     "metadata": {},
     "output_type": "execute_result"
    }
   ],
   "source": [
    "score = driver.find_element(By.CLASS_NAME, \"score\").find_element(By.CLASS_NAME, \"before\").text\n",
    "score"
   ]
  },
  {
   "cell_type": "code",
   "execution_count": 33,
   "id": "b5a6eefd-9314-48a3-aad2-ee579214b8cc",
   "metadata": {},
   "outputs": [
    {
     "data": {
      "text/plain": [
       "('1위', '(21%)')"
      ]
     },
     "execution_count": 33,
     "metadata": {},
     "output_type": "execute_result"
    }
   ],
   "source": [
    "rate = driver.find_element(By.CLASS_NAME, \"rate\").find_element(By.CLASS_NAME, \"cont\").text\n",
    "order, rate = rate.split()\n",
    "order, rate"
   ]
  },
  {
   "cell_type": "code",
   "execution_count": 31,
   "id": "c41c9cff-945e-4338-badf-79cd33dd38ac",
   "metadata": {},
   "outputs": [
    {
     "data": {
      "text/plain": [
       "'3,826,320 명'"
      ]
     },
     "execution_count": 31,
     "metadata": {},
     "output_type": "execute_result"
    }
   ],
   "source": [
    "\n",
    "audience  = driver.find_element(By.CLASS_NAME, \"audience \").find_element(By.CLASS_NAME, \"cont\").text\n",
    "audience"
   ]
  },
  {
   "cell_type": "code",
   "execution_count": null,
   "id": "a98bd420-1b8e-476d-8985-1e9ed67953b0",
   "metadata": {},
   "outputs": [],
   "source": []
  }
 ],
 "metadata": {
  "kernelspec": {
   "display_name": "env_one_kernel",
   "language": "python",
   "name": "env_one"
  },
  "language_info": {
   "codemirror_mode": {
    "name": "ipython",
    "version": 3
   },
   "file_extension": ".py",
   "mimetype": "text/x-python",
   "name": "python",
   "nbconvert_exporter": "python",
   "pygments_lexer": "ipython3",
   "version": "3.9.21"
  }
 },
 "nbformat": 4,
 "nbformat_minor": 5
}
