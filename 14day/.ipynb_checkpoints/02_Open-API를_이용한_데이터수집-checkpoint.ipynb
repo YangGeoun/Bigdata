{
 "cells": [
  {
   "cell_type": "code",
   "execution_count": 1,
   "id": "e4225897-7a7b-4768-ae1d-500513ee2bf9",
   "metadata": {},
   "outputs": [
    {
     "data": {
      "text/plain": [
       "'\\n<Open-API>\\n - 데이터를 제공하는 곳에서 데이터를 웹 기반의 시스템을 통해 제공하기 위한 방법\\n - 라이브러리 : request 라이브러리 사용\\n - 데이터 제공처 : 주로 공공기관에서 무료로 제공하고 있음(유료도 있음)\\n - 수집하기 위한 일부 프로그래밍을 작성해야 합니다. \\n - Open-API 방식은 데이터를 제공받기 위한 인증키(API-Key)를 발급받아서 인증된 사용자만 데이터를 제공함\\n\\n<\"한국공항공사 전국공항 주차장 혼잡도\" 데이터 수집하기>\\n - http://www.data.go.kr\\n - 회원로그인(소셜로그인 가능)\\n - 검색어 : 한국공항공사 전국공항 주차장 혼잡도\\n - [활용신청] : 활용 신청시 개인정보 작성\\n             : 활용 목적 -> \"학술/연구\"로...\\n\\n- 인증키\\n  : U1PvCspLab%2BwSUDRHuNwq6wxQnNngRv27tCUcvoEniqqlCOKsAPKkwrozQwI7amVp8AwWlQeLtVJvI6rgQCneA%3D%3D\\n'"
      ]
     },
     "execution_count": 1,
     "metadata": {},
     "output_type": "execute_result"
    }
   ],
   "source": [
    "\"\"\"\n",
    "<Open-API>\n",
    " - 데이터를 제공하는 곳에서 데이터를 웹 기반의 시스템을 통해 제공하기 위한 방법\n",
    " - 라이브러리 : request 라이브러리 사용\n",
    " - 데이터 제공처 : 주로 공공기관에서 무료로 제공하고 있음(유료도 있음)\n",
    " - 수집하기 위한 일부 프로그래밍을 작성해야 합니다. \n",
    " - Open-API 방식은 데이터를 제공받기 위한 인증키(API-Key)를 발급받아서 인증된 사용자만 데이터를 제공함\n",
    "\n",
    "<\"한국공항공사 전국공항 주차장 혼잡도\" 데이터 수집하기>\n",
    " - http://www.data.go.kr\n",
    " - 회원로그인(소셜로그인 가능)\n",
    " - 검색어 : 한국공항공사 전국공항 주차장 혼잡도\n",
    " - [활용신청] : 활용 신청시 개인정보 작성\n",
    "             : 활용 목적 -> \"학술/연구\"로...\n",
    "\n",
    "- 인증키\n",
    "  : U1PvCspLab%2BwSUDRHuNwq6wxQnNngRv27tCUcvoEniqqlCOKsAPKkwrozQwI7amVp8AwWlQeLtVJvI6rgQCneA%3D%3D\n",
    "\"\"\""
   ]
  },
  {
   "cell_type": "markdown",
   "id": "07dcd5ae-7d0b-42b6-b33f-84e5d3aeb142",
   "metadata": {},
   "source": [
    "### 라이브러리 정의"
   ]
  },
  {
   "cell_type": "code",
   "execution_count": 2,
   "id": "f7df84dd-5cd3-4de2-b140-c34183bbe19b",
   "metadata": {},
   "outputs": [],
   "source": [
    "### 데이터 관리\n",
    "import pandas as pd\n",
    "\n",
    "### API 요청(request) 및 응답(response) 처리 라이브러리\n",
    "import requests\n",
    "\n",
    "### 응답 받은 XML(HTML) 문서 처리 라이브러리\n",
    "from bs4 import BeautifulSoup\n",
    "\n",
    "### 응답 받은 XML(HTML) 문서 내에 접근하기 위한 포멧으로 변경하는 라이브러리\n",
    "from openpyxl.workbook import Workbook"
   ]
  },
  {
   "cell_type": "markdown",
   "id": "85bf096b-6881-4065-8cd7-9f8289d39559",
   "metadata": {},
   "source": [
    "### 요청(request) : 사용자(우리)가 -> 공항공사 서버에 요청"
   ]
  },
  {
   "cell_type": "code",
   "execution_count": 3,
   "id": "b2fe5e12-25aa-401e-b73e-b304081c639e",
   "metadata": {},
   "outputs": [
    {
     "data": {
      "text/plain": [
       "'PVdeh44WlF%2BHj6bGzfI2BXUldlea7Ggo%2FjjXvhbHCMNNFotchb2byGTopt4uAFS07RQzqmeU3M2Y8HcMmlYW9w%3D%3D'"
      ]
     },
     "execution_count": 3,
     "metadata": {},
     "output_type": "execute_result"
    }
   ],
   "source": [
    "### API 인증키\n",
    "api_key = \"PVdeh44WlF%2BHj6bGzfI2BXUldlea7Ggo%2FjjXvhbHCMNNFotchb2byGTopt4uAFS07RQzqmeU3M2Y8HcMmlYW9w%3D%3D\"\n",
    "api_key"
   ]
  },
  {
   "cell_type": "code",
   "execution_count": 4,
   "id": "2690e929-6e87-4c3b-8ca8-f75305127c3f",
   "metadata": {},
   "outputs": [
    {
     "data": {
      "text/plain": [
       "['GMP', 'PUS', 'CJU', 'TAE', 'KWJ', 'RSU', 'USN', 'KUV', 'WJU', 'CJJ']"
      ]
     },
     "execution_count": 4,
     "metadata": {},
     "output_type": "execute_result"
    }
   ],
   "source": [
    "### 요청 시 사용할 공항 코드 정의 - 리스트로 정의\n",
    "schAirportCode_list = [\"GMP\", \"PUS\", \"CJU\", \"TAE\", \"KWJ\", \"RSU\", \"USN\", \"KUV\", \"WJU\", \"CJJ\"]\n",
    "schAirportCode_list"
   ]
  },
  {
   "cell_type": "code",
   "execution_count": 5,
   "id": "d028b24d-21e0-4323-9ca8-b98299322722",
   "metadata": {},
   "outputs": [
    {
     "data": {
      "text/plain": [
       "(10, 1)"
      ]
     },
     "execution_count": 5,
     "metadata": {},
     "output_type": "execute_result"
    }
   ],
   "source": [
    "### 요청 시 사용할 한페이지 갯수 및 페이지 번호 정의\n",
    "# - 한페이지 갯수(고정)\n",
    "numOfRows=10\n",
    "\n",
    "# 페이지 번호(고정)\n",
    "pageNo=1\n",
    "\n",
    "numOfRows, pageNo"
   ]
  },
  {
   "cell_type": "code",
   "execution_count": 40,
   "id": "91f26f94-1913-478d-bc61-f154f18c2544",
   "metadata": {},
   "outputs": [
    {
     "data": {
      "text/plain": [
       "'http://openapi.airport.co.kr/service/rest/AirportParkingCongestion/airportParkingCongestionRT?schAirportCode=GMP&serviceKey=PVdeh44WlF%2BHj6bGzfI2BXUldlea7Ggo%2FjjXvhbHCMNNFotchb2byGTopt4uAFS07RQzqmeU3M2Y8HcMmlYW9w%3D%3D&numOfRows=10&pageNo=1'"
      ]
     },
     "execution_count": 40,
     "metadata": {},
     "output_type": "execute_result"
    }
   ],
   "source": [
    "### 요청에 사용할 URL 정의하기\n",
    "api_url = \"http://openapi.airport.co.kr/service/rest/AirportParkingCongestion/airportParkingCongestionRT\"\n",
    "api_url += f\"?schAirportCode={schAirportCode_list[0]}\"\n",
    "api_url += f\"&serviceKey={api_key}&numOfRows={numOfRows}&pageNo={pageNo}\"\n",
    "\n",
    "api_url"
   ]
  },
  {
   "cell_type": "markdown",
   "id": "c8fad692-c058-413d-aae1-b2617fcb220b",
   "metadata": {},
   "source": [
    "### 요청(request) 하기"
   ]
  },
  {
   "cell_type": "code",
   "execution_count": 41,
   "id": "dbaad632-871f-4e05-9194-14a88ababb24",
   "metadata": {},
   "outputs": [
    {
     "data": {
      "text/plain": [
       "<Response [200]>"
      ]
     },
     "execution_count": 41,
     "metadata": {},
     "output_type": "execute_result"
    }
   ],
   "source": [
    "rs_data = requests.get(api_url)\n",
    "rs_data"
   ]
  },
  {
   "cell_type": "code",
   "execution_count": 42,
   "id": "810216af-4265-481c-a7ce-15e188bfbadc",
   "metadata": {},
   "outputs": [
    {
     "data": {
      "text/plain": [
       "'<?xml version=\"1.0\" encoding=\"UTF-8\" standalone=\"yes\"?><response><header><resultCode>00</resultCode><resultMsg>NORMAL SERVICE.</resultMsg></header><body><items><item><airportEng>GIMPO INTERNATIONAL AIRPORT</airportEng><airportKor>김포국제공항</airportKor><parkingAirportCodeName>국내선 제1주차장</parkingAirportCodeName><parkingCongestion>원활</parkingCongestion><parkingCongestionDegree>72.84%</parkingCongestionDegree><parkingOccupiedSpace>1660</parkingOccupiedSpace><parkingTotalSpace>2279</parkingTotalSpace><sysGetdate>2025-01-09</sysGetdate><sysGettime>13:28:02</sysGettime></item><item><airportEng>GIMPO INTERNATIONAL AIRPORT</airportEng><airportKor>김포국제공항</airportKor><parkingAirportCodeName>국내선 제2주차장</parkingAirportCodeName><parkingCongestion>원활</parkingCongestion><parkingCongestionDegree>61.57%</parkingCongestionDegree><parkingOccupiedSpace>1067</parkingOccupiedSpace><parkingTotalSpace>1733</parkingTotalSpace><sysGetdate>2025-01-09</sysGetdate><sysGettime>13:28:02</sysGettime></item><item><airportEng>GIMPO INTERNATIONAL AIRPORT</airportEng><airportKor>김포국제공항</airportKor><parkingAirportCodeName>국제선 주차빌딩</parkingAirportCodeName><parkingCongestion>원활</parkingCongestion><parkingCongestionDegree>73.72%</parkingCongestionDegree><parkingOccupiedSpace>418</parkingOccupiedSpace><parkingTotalSpace>567</parkingTotalSpace><sysGetdate>2025-01-09</sysGetdate><sysGettime>13:28:02</sysGettime></item><item><airportEng>GIMPO INTERNATIONAL AIRPORT</airportEng><airportKor>김포국제공항</airportKor><parkingAirportCodeName>국제선 지하</parkingAirportCodeName><parkingCongestion>원활</parkingCongestion><parkingCongestionDegree>84.64%</parkingCongestionDegree><parkingOccupiedSpace>507</parkingOccupiedSpace><parkingTotalSpace>599</parkingTotalSpace><sysGetdate>2025-01-09</sysGetdate><sysGettime>13:28:02</sysGettime></item><item><airportEng>GIMPO INTERNATIONAL AIRPORT</airportEng><airportKor>김포국제공항</airportKor><parkingAirportCodeName>화물청사</parkingAirportCodeName><parkingCongestion>만차</parkingCongestion><parkingCongestionDegree>100%</parkingCongestionDegree><parkingOccupiedSpace>737</parkingOccupiedSpace><parkingTotalSpace>737</parkingTotalSpace><sysGetdate>2025-01-09</sysGetdate><sysGettime>13:28:02</sysGettime></item></items><numOfRows>10</numOfRows><pageNo>1</pageNo><totalCount>5</totalCount></body></response>'"
      ]
     },
     "execution_count": 42,
     "metadata": {},
     "output_type": "execute_result"
    }
   ],
   "source": [
    "\n",
    "rs_data.text"
   ]
  },
  {
   "cell_type": "code",
   "execution_count": 43,
   "id": "12903e54-81bc-473f-ab94-7f484da91e58",
   "metadata": {
    "scrolled": true
   },
   "outputs": [],
   "source": [
    "rs_xml = BeautifulSoup(rs_data.text, 'xml')"
   ]
  },
  {
   "cell_type": "code",
   "execution_count": 34,
   "id": "1c9c58f4-3c26-4500-8dae-6cdb144ab76e",
   "metadata": {},
   "outputs": [
    {
     "data": {
      "text/plain": [
       "'김포국제공항'"
      ]
     },
     "execution_count": 34,
     "metadata": {},
     "output_type": "execute_result"
    }
   ],
   "source": [
    "rs_xml.find(\"airportKor\").text"
   ]
  },
  {
   "cell_type": "code",
   "execution_count": 36,
   "id": "1a48ec5b-b939-4f35-a5a7-052c1ef3a509",
   "metadata": {},
   "outputs": [
    {
     "data": {
      "text/plain": [
       "'김포국제공항'"
      ]
     },
     "execution_count": 36,
     "metadata": {},
     "output_type": "execute_result"
    }
   ],
   "source": [
    "rs_xml.find_all(\"airportKor\")[1].text"
   ]
  },
  {
   "cell_type": "code",
   "execution_count": 37,
   "id": "6dacd1c6-0f5b-43e8-939d-65da1ff2939d",
   "metadata": {},
   "outputs": [
    {
     "data": {
      "text/plain": [
       "'국내선 제1주차장'"
      ]
     },
     "execution_count": 37,
     "metadata": {},
     "output_type": "execute_result"
    }
   ],
   "source": [
    "rs_xml.find(\"parkingAirportCodeName\").text"
   ]
  },
  {
   "cell_type": "code",
   "execution_count": 38,
   "id": "b1c61b36-4e30-448c-90e4-bfdb50ad7f98",
   "metadata": {},
   "outputs": [
    {
     "data": {
      "text/plain": [
       "'72.75%'"
      ]
     },
     "execution_count": 38,
     "metadata": {},
     "output_type": "execute_result"
    }
   ],
   "source": [
    "rs_xml.find(\"parkingCongestionDegree\").text"
   ]
  },
  {
   "cell_type": "code",
   "execution_count": 44,
   "id": "7da1e2df-4b50-4406-869f-7ab35d13ba79",
   "metadata": {},
   "outputs": [
    {
     "data": {
      "text/plain": [
       "'13:28:02'"
      ]
     },
     "execution_count": 44,
     "metadata": {},
     "output_type": "execute_result"
    }
   ],
   "source": [
    "rs_xml.find(\"sysGettime\").text"
   ]
  },
  {
   "cell_type": "code",
   "execution_count": null,
   "id": "f3f41b35-f2e4-4ec5-bdf2-003aa9c2c96d",
   "metadata": {},
   "outputs": [],
   "source": []
  }
 ],
 "metadata": {
  "kernelspec": {
   "display_name": "env_one_kernel",
   "language": "python",
   "name": "env_one"
  },
  "language_info": {
   "codemirror_mode": {
    "name": "ipython",
    "version": 3
   },
   "file_extension": ".py",
   "mimetype": "text/x-python",
   "name": "python",
   "nbconvert_exporter": "python",
   "pygments_lexer": "ipython3",
   "version": "3.9.21"
  }
 },
 "nbformat": 4,
 "nbformat_minor": 5
}
