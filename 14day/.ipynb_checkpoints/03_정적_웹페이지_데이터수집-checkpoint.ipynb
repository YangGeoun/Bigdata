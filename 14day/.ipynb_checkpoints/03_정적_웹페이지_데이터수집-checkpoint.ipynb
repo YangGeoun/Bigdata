{
 "cells": [
  {
   "cell_type": "code",
   "execution_count": 1,
   "id": "a008e085-4b16-4489-b4ba-31addc941f57",
   "metadata": {},
   "outputs": [],
   "source": [
    "import requests\n",
    "from bs4 import BeautifulSoup"
   ]
  },
  {
   "cell_type": "code",
   "execution_count": 4,
   "id": "8469bfed-01e9-4276-b9e6-f1fbae73f0a2",
   "metadata": {},
   "outputs": [],
   "source": [
    "res = requests.get(\"https://news.naver.com/section/100\")"
   ]
  },
  {
   "cell_type": "code",
   "execution_count": 9,
   "id": "9f2026f5-4b72-441b-824a-f24fe50828ad",
   "metadata": {},
   "outputs": [],
   "source": [
    "bs = BeautifulSoup(res.text)"
   ]
  },
  {
   "cell_type": "code",
   "execution_count": 11,
   "id": "6b6fff6b-e532-4a8a-84f5-80258d3a1c8e",
   "metadata": {},
   "outputs": [
    {
     "data": {
      "text/plain": [
       "['절대 찍고 싶지 않은 대선 후보 1위 이재명…2·3위는?',\n",
       " '“김상욱, 당론 안 따를거면 당 나가라” 권성동 ‘탈당 압박’ 논란',\n",
       " '윤건영 “경호처, 위아래 온도차…MZ경호관들 부글부글”',\n",
       " '우원식, 상설특검 후보 추천 의뢰 않는 최상목에 권한쟁의 심판',\n",
       " '이재명 “박정훈 무죄…외압 몸통 밝힐 것”',\n",
       " '‘내란 특검법’·‘김 여사 특검법’ 국회 재표결 부결',\n",
       " '고민정 \"권성동의 동료의원 겁박, 오히려 덧났다\"',\n",
       " \"여야, '국정협의회' 명칭 합의…의제는 못 정해\",\n",
       " '박찬대 \"내란 특검법에 \\'외환죄\\' 추가…北 군사공격 유도했다\"',\n",
       " '27일 임시공휴일 지정, 반기는 여행·유통업계',\n",
       " '최민희, 박정훈 대령 \\'무죄\\' 판결에 \"윤석열, 김건희 얼마 못 버티겠어요!\"',\n",
       " '윤 대통령 \"떡국 먹고 가\" 관저에 모인 국힘 44인은 거절…왜?',\n",
       " '\\'청와대 동료\\' 의원들, 경호처 공무원 향해 \"석열산성 벗어나 달라\"',\n",
       " '윤상현 \"잘났던 못났던 우리가 尹 영입…그래서 끝까지 책임지고 지키겠다는 것\"',\n",
       " \"'계엄당' 본색?…윤석열은 아직도 '당원'인데, 김상욱엔 '탈당' 요구\",\n",
       " '\"시빗거리 다 없앴다\"…野6당, \\'대법원장 추천\\' 내란 특검법 재발의',\n",
       " '\"채상병 억울함 없게\" 박정훈 대령 \\'전부 무죄\\'…국방부 \"판결 존중\"',\n",
       " '\"\\'이첩 보류\\' 명령 없었으니 \\'이첩 중단\\' 명령은 부당\"',\n",
       " '김상욱 “탈당 안 할 것…보수 가치 훼손한 尹대통령 제명해야”',\n",
       " '국민 10명 중 6명 “헌재가 尹 탄핵 인용해야”…‘기각’은 3명[NBS]',\n",
       " '‘김상욱 탈당 압박’ 논란에 진화 나선 與 “의견 억압 안 해”',\n",
       " '박지원 \"\\'얼쩡남\\' 경호관에 \\'핵가방\\', 尹이 아직도 군 통수?..당장 최상목에 넘겨야\"[여의도초대석]',\n",
       " '고민정, \\'김상욱에 탈당 권유\\' 권성동에 \"삼류 조폭만도 못 해…너무 화가 나\"',\n",
       " '국힘 지지율 6%p 오른 32%…민주 4%p차 추격[NBS]',\n",
       " '박정훈 \"정의로운 결과…채상병과 약속지키기 위해 혼신의 노력\"(종합)',\n",
       " '\"제왕적 대통령제, 극단적 정쟁만 유발…분권형 개헌해야\"',\n",
       " '관저 몰려간 국힘 44인, “떡국 먹고 가” 尹제안은 거절…왜',\n",
       " \"이 와중에 이탈표 줄어든 '김건희 특검법', 與 철통 방어 이유는 명태균?\",\n",
       " '군 병력, 영장집행 대치 참여 안한다…경호처 \"매뉴얼상 경비 임무만\"',\n",
       " \"[뉴스1 PICK]해병대원 순직 사고 박정훈 대령 '항명' 무죄\",\n",
       " \"박정훈 무죄…'이첩 보류' 명령 없었고 '이첩 중단' 명령은 부당\",\n",
       " '\"박 대령, 항명한 것 아니다\" 군사법원 \\'무죄\\' 이유 보니‥',\n",
       " '\"대통령으로 절대 뽑고 싶지 않아\"…이재명 42.1%, 홍준표 16.8%',\n",
       " '\"여당 발의라 해도 믿을 수준... 권성동, 내란특검 수용해라\"',\n",
       " '박지원, 경호처에 \"내란 수괴는 여러분들을 물리적 충돌도구로 삼으려고 할 뿐\"',\n",
       " '與김상욱 \"당에 남을 것\"…지도부 \"여기서 정치할 필요 있나\"',\n",
       " \"[시사정각] '도피설' 쏟아지자 모습 드러낸 윤?... 각 진영 '세 결집' 뚜렷\",\n",
       " '올해 대선 치른다면 `민주당 후보 찍겠다` 41%… 국힘 후보는 29%',\n",
       " '조국 \"구치소서 尹 만남 기대했는데…영장 무시하는 미친 폭군\"',\n",
       " '군 \\'윤 대통령 체포 저지에 병력 동원 불가\\' 입장에 경호처 \"잘 알겠다\"',\n",
       " '공수처 흔드는 오세훈 \"윤 대통령이 원인 제공 맞지만...\"',\n",
       " '[속보] \"尹 탄핵 인용해야\" 62%·기각 33%…\"尹 탄핵대응 잘못해\" 65%[NBS]',\n",
       " '환경장관 \"계엄, 대단히 부적절…崔대행, 필요한 일 할 것\"',\n",
       " \"야6당, '제3자 추천' 내란 특검 재발의… 이르면 14일 처리\",\n",
       " \"여야, '내란 특검법' 수정안에 머리 맞댈까…'수사 범위'가 쟁점\",\n",
       " '야6당, \\'대법원장 추천\\' 내란 특검 재발의…\"사실상 한동훈 방식\"']"
      ]
     },
     "execution_count": 11,
     "metadata": {},
     "output_type": "execute_result"
    }
   ],
   "source": [
    "list(map(lambda x : x.text , bs.select(\".sa_text_strong\")))"
   ]
  },
  {
   "cell_type": "code",
   "execution_count": 26,
   "id": "d4ac0136-7a59-49c9-a015-08d7abb34817",
   "metadata": {},
   "outputs": [],
   "source": [
    "from selenium import webdriver\n",
    "from selenium.webdriver.common.by import By\n",
    "import requests\n",
    "import time"
   ]
  },
  {
   "cell_type": "code",
   "execution_count": null,
   "id": "ca6cadfa-1270-4296-b8bc-82f63bba5df5",
   "metadata": {},
   "outputs": [],
   "source": []
  },
  {
   "cell_type": "code",
   "execution_count": 53,
   "id": "fc41262b-2fa4-4694-9e81-a3eaa803648b",
   "metadata": {},
   "outputs": [
    {
     "ename": "AttributeError",
     "evalue": "'NoneType' object has no attribute 'text'",
     "output_type": "error",
     "traceback": [
      "\u001b[1;31m---------------------------------------------------------------------------\u001b[0m",
      "\u001b[1;31mAttributeError\u001b[0m                            Traceback (most recent call last)",
      "Cell \u001b[1;32mIn[53], line 5\u001b[0m\n\u001b[0;32m      3\u001b[0m \u001b[38;5;66;03m#크롬 드라이버에 url 주소 넣고 실행\u001b[39;00m\n\u001b[0;32m      4\u001b[0m res \u001b[38;5;241m=\u001b[39m driver\u001b[38;5;241m.\u001b[39mget(\u001b[38;5;124m'\u001b[39m\u001b[38;5;124mhttps://www.melon.com/chart/index.htm\u001b[39m\u001b[38;5;124m'\u001b[39m)\n\u001b[1;32m----> 5\u001b[0m bs \u001b[38;5;241m=\u001b[39m BeautifulSoup(\u001b[43mres\u001b[49m\u001b[38;5;241;43m.\u001b[39;49m\u001b[43mtext\u001b[49m, \u001b[38;5;124m'\u001b[39m\u001b[38;5;124mhtml.parser\u001b[39m\u001b[38;5;124m'\u001b[39m)\n\u001b[0;32m      7\u001b[0m line \u001b[38;5;241m=\u001b[39m bs\u001b[38;5;241m.\u001b[39mselect(\u001b[38;5;124m\"\u001b[39m\u001b[38;5;124m.lst50\u001b[39m\u001b[38;5;124m\"\u001b[39m)\n",
      "\u001b[1;31mAttributeError\u001b[0m: 'NoneType' object has no attribute 'text'"
     ]
    }
   ],
   "source": [
    "driver = webdriver.Chrome() \n",
    "\n",
    "#크롬 드라이버에 url 주소 넣고 실행\n",
    "res = driver.get('https://www.melon.com/chart/index.htm')\n",
    "bs = BeautifulSoup(res.text, 'html.parser')\n",
    "\n",
    "line = bs.select(\".lst50\")\n",
    "\n",
    "driver.close()\n",
    "\n"
   ]
  },
  {
   "cell_type": "code",
   "execution_count": null,
   "id": "b13a39c2-a1e0-4b5b-b2ab-2e6444cc02c9",
   "metadata": {},
   "outputs": [],
   "source": [
    "res"
   ]
  },
  {
   "cell_type": "code",
   "execution_count": 33,
   "id": "eeea950b-d3e4-4001-bfe5-51ec76f713d8",
   "metadata": {},
   "outputs": [
    {
     "ename": "InvalidSessionIdException",
     "evalue": "Message: invalid session id\nStacktrace:\n\tGetHandleVerifier [0x00007FF67B9980D5+2992373]\n\t(No symbol) [0x00007FF67B62BFD0]\n\t(No symbol) [0x00007FF67B4C5739]\n\t(No symbol) [0x00007FF67B509A84]\n\t(No symbol) [0x00007FF67B53F219]\n\t(No symbol) [0x00007FF67B539BE0]\n\t(No symbol) [0x00007FF67B538CC3]\n\t(No symbol) [0x00007FF67B493675]\n\tGetHandleVerifier [0x00007FF67B9F6A2D+3379789]\n\tGetHandleVerifier [0x00007FF67BA0C32D+3468109]\n\tGetHandleVerifier [0x00007FF67BA00043+3418211]\n\tGetHandleVerifier [0x00007FF67B78C78B+847787]\n\t(No symbol) [0x00007FF67B63757F]\n\t(No symbol) [0x00007FF67B49201E]\n\tGetHandleVerifier [0x00007FF67BA6F298+3873464]\n\tBaseThreadInitThunk [0x00007FFF48B47374+20]\n\tRtlUserThreadStart [0x00007FFF496DCC91+33]\n",
     "output_type": "error",
     "traceback": [
      "\u001b[1;31m---------------------------------------------------------------------------\u001b[0m",
      "\u001b[1;31mInvalidSessionIdException\u001b[0m                 Traceback (most recent call last)",
      "Cell \u001b[1;32mIn[33], line 2\u001b[0m\n\u001b[0;32m      1\u001b[0m \u001b[38;5;28;01mfor\u001b[39;00m el \u001b[38;5;129;01min\u001b[39;00m line:\n\u001b[1;32m----> 2\u001b[0m     \u001b[43mel\u001b[49m\u001b[38;5;241;43m.\u001b[39;49m\u001b[43mtext\u001b[49m\n",
      "File \u001b[1;32m~\\anaconda3\\envs\\env_one\\lib\\site-packages\\selenium\\webdriver\\remote\\webelement.py:90\u001b[0m, in \u001b[0;36mWebElement.text\u001b[1;34m(self)\u001b[0m\n\u001b[0;32m     87\u001b[0m \u001b[38;5;129m@property\u001b[39m\n\u001b[0;32m     88\u001b[0m \u001b[38;5;28;01mdef\u001b[39;00m \u001b[38;5;21mtext\u001b[39m(\u001b[38;5;28mself\u001b[39m) \u001b[38;5;241m-\u001b[39m\u001b[38;5;241m>\u001b[39m \u001b[38;5;28mstr\u001b[39m:\n\u001b[0;32m     89\u001b[0m \u001b[38;5;250m    \u001b[39m\u001b[38;5;124;03m\"\"\"The text of the element.\"\"\"\u001b[39;00m\n\u001b[1;32m---> 90\u001b[0m     \u001b[38;5;28;01mreturn\u001b[39;00m \u001b[38;5;28;43mself\u001b[39;49m\u001b[38;5;241;43m.\u001b[39;49m\u001b[43m_execute\u001b[49m\u001b[43m(\u001b[49m\u001b[43mCommand\u001b[49m\u001b[38;5;241;43m.\u001b[39;49m\u001b[43mGET_ELEMENT_TEXT\u001b[49m\u001b[43m)\u001b[49m[\u001b[38;5;124m\"\u001b[39m\u001b[38;5;124mvalue\u001b[39m\u001b[38;5;124m\"\u001b[39m]\n",
      "File \u001b[1;32m~\\anaconda3\\envs\\env_one\\lib\\site-packages\\selenium\\webdriver\\remote\\webelement.py:395\u001b[0m, in \u001b[0;36mWebElement._execute\u001b[1;34m(self, command, params)\u001b[0m\n\u001b[0;32m    393\u001b[0m     params \u001b[38;5;241m=\u001b[39m {}\n\u001b[0;32m    394\u001b[0m params[\u001b[38;5;124m\"\u001b[39m\u001b[38;5;124mid\u001b[39m\u001b[38;5;124m\"\u001b[39m] \u001b[38;5;241m=\u001b[39m \u001b[38;5;28mself\u001b[39m\u001b[38;5;241m.\u001b[39m_id\n\u001b[1;32m--> 395\u001b[0m \u001b[38;5;28;01mreturn\u001b[39;00m \u001b[38;5;28;43mself\u001b[39;49m\u001b[38;5;241;43m.\u001b[39;49m\u001b[43m_parent\u001b[49m\u001b[38;5;241;43m.\u001b[39;49m\u001b[43mexecute\u001b[49m\u001b[43m(\u001b[49m\u001b[43mcommand\u001b[49m\u001b[43m,\u001b[49m\u001b[43m \u001b[49m\u001b[43mparams\u001b[49m\u001b[43m)\u001b[49m\n",
      "File \u001b[1;32m~\\anaconda3\\envs\\env_one\\lib\\site-packages\\selenium\\webdriver\\remote\\webdriver.py:384\u001b[0m, in \u001b[0;36mWebDriver.execute\u001b[1;34m(self, driver_command, params)\u001b[0m\n\u001b[0;32m    382\u001b[0m response \u001b[38;5;241m=\u001b[39m \u001b[38;5;28mself\u001b[39m\u001b[38;5;241m.\u001b[39mcommand_executor\u001b[38;5;241m.\u001b[39mexecute(driver_command, params)\n\u001b[0;32m    383\u001b[0m \u001b[38;5;28;01mif\u001b[39;00m response:\n\u001b[1;32m--> 384\u001b[0m     \u001b[38;5;28;43mself\u001b[39;49m\u001b[38;5;241;43m.\u001b[39;49m\u001b[43merror_handler\u001b[49m\u001b[38;5;241;43m.\u001b[39;49m\u001b[43mcheck_response\u001b[49m\u001b[43m(\u001b[49m\u001b[43mresponse\u001b[49m\u001b[43m)\u001b[49m\n\u001b[0;32m    385\u001b[0m     response[\u001b[38;5;124m\"\u001b[39m\u001b[38;5;124mvalue\u001b[39m\u001b[38;5;124m\"\u001b[39m] \u001b[38;5;241m=\u001b[39m \u001b[38;5;28mself\u001b[39m\u001b[38;5;241m.\u001b[39m_unwrap_value(response\u001b[38;5;241m.\u001b[39mget(\u001b[38;5;124m\"\u001b[39m\u001b[38;5;124mvalue\u001b[39m\u001b[38;5;124m\"\u001b[39m, \u001b[38;5;28;01mNone\u001b[39;00m))\n\u001b[0;32m    386\u001b[0m     \u001b[38;5;28;01mreturn\u001b[39;00m response\n",
      "File \u001b[1;32m~\\anaconda3\\envs\\env_one\\lib\\site-packages\\selenium\\webdriver\\remote\\errorhandler.py:232\u001b[0m, in \u001b[0;36mErrorHandler.check_response\u001b[1;34m(self, response)\u001b[0m\n\u001b[0;32m    230\u001b[0m         alert_text \u001b[38;5;241m=\u001b[39m value[\u001b[38;5;124m\"\u001b[39m\u001b[38;5;124malert\u001b[39m\u001b[38;5;124m\"\u001b[39m]\u001b[38;5;241m.\u001b[39mget(\u001b[38;5;124m\"\u001b[39m\u001b[38;5;124mtext\u001b[39m\u001b[38;5;124m\"\u001b[39m)\n\u001b[0;32m    231\u001b[0m     \u001b[38;5;28;01mraise\u001b[39;00m exception_class(message, screen, stacktrace, alert_text)  \u001b[38;5;66;03m# type: ignore[call-arg]  # mypy is not smart enough here\u001b[39;00m\n\u001b[1;32m--> 232\u001b[0m \u001b[38;5;28;01mraise\u001b[39;00m exception_class(message, screen, stacktrace)\n",
      "\u001b[1;31mInvalidSessionIdException\u001b[0m: Message: invalid session id\nStacktrace:\n\tGetHandleVerifier [0x00007FF67B9980D5+2992373]\n\t(No symbol) [0x00007FF67B62BFD0]\n\t(No symbol) [0x00007FF67B4C5739]\n\t(No symbol) [0x00007FF67B509A84]\n\t(No symbol) [0x00007FF67B53F219]\n\t(No symbol) [0x00007FF67B539BE0]\n\t(No symbol) [0x00007FF67B538CC3]\n\t(No symbol) [0x00007FF67B493675]\n\tGetHandleVerifier [0x00007FF67B9F6A2D+3379789]\n\tGetHandleVerifier [0x00007FF67BA0C32D+3468109]\n\tGetHandleVerifier [0x00007FF67BA00043+3418211]\n\tGetHandleVerifier [0x00007FF67B78C78B+847787]\n\t(No symbol) [0x00007FF67B63757F]\n\t(No symbol) [0x00007FF67B49201E]\n\tGetHandleVerifier [0x00007FF67BA6F298+3873464]\n\tBaseThreadInitThunk [0x00007FFF48B47374+20]\n\tRtlUserThreadStart [0x00007FFF496DCC91+33]\n"
     ]
    }
   ],
   "source": [
    "for el in line:\n",
    "    el.find_element(By.CSS_SELECTOR, \".td\")"
   ]
  },
  {
   "cell_type": "code",
   "execution_count": null,
   "id": "54cbe67f-6c15-4c84-b2da-23e91033fe49",
   "metadata": {},
   "outputs": [],
   "source": []
  }
 ],
 "metadata": {
  "kernelspec": {
   "display_name": "env_one_kernel",
   "language": "python",
   "name": "env_one"
  },
  "language_info": {
   "codemirror_mode": {
    "name": "ipython",
    "version": 3
   },
   "file_extension": ".py",
   "mimetype": "text/x-python",
   "name": "python",
   "nbconvert_exporter": "python",
   "pygments_lexer": "ipython3",
   "version": "3.9.21"
  }
 },
 "nbformat": 4,
 "nbformat_minor": 5
}
