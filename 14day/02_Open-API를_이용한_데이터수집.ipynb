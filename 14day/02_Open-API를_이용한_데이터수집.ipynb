{
 "cells": [
  {
   "cell_type": "code",
   "execution_count": 1,
   "id": "e4225897-7a7b-4768-ae1d-500513ee2bf9",
   "metadata": {},
   "outputs": [
    {
     "data": {
      "text/plain": [
       "'\\n<Open-API>\\n - 데이터를 제공하는 곳에서 데이터를 웹 기반의 시스템을 통해 제공하기 위한 방법\\n - 라이브러리 : request 라이브러리 사용\\n - 데이터 제공처 : 주로 공공기관에서 무료로 제공하고 있음(유료도 있음)\\n - 수집하기 위한 일부 프로그래밍을 작성해야 합니다. \\n - Open-API 방식은 데이터를 제공받기 위한 인증키(API-Key)를 발급받아서 인증된 사용자만 데이터를 제공함\\n\\n<\"한국공항공사 전국공항 주차장 혼잡도\" 데이터 수집하기>\\n - http://www.data.go.kr\\n - 회원로그인(소셜로그인 가능)\\n - 검색어 : 한국공항공사 전국공항 주차장 혼잡도\\n - [활용신청] : 활용 신청시 개인정보 작성\\n             : 활용 목적 -> \"학술/연구\"로...\\n\\n- 인증키\\n  : U1PvCspLab%2BwSUDRHuNwq6wxQnNngRv27tCUcvoEniqqlCOKsAPKkwrozQwI7amVp8AwWlQeLtVJvI6rgQCneA%3D%3D\\n'"
      ]
     },
     "execution_count": 1,
     "metadata": {},
     "output_type": "execute_result"
    }
   ],
   "source": [
    "\"\"\"\n",
    "<Open-API>\n",
    " - 데이터를 제공하는 곳에서 데이터를 웹 기반의 시스템을 통해 제공하기 위한 방법\n",
    " - 라이브러리 : request 라이브러리 사용\n",
    " - 데이터 제공처 : 주로 공공기관에서 무료로 제공하고 있음(유료도 있음)\n",
    " - 수집하기 위한 일부 프로그래밍을 작성해야 합니다. \n",
    " - Open-API 방식은 데이터를 제공받기 위한 인증키(API-Key)를 발급받아서 인증된 사용자만 데이터를 제공함\n",
    "\n",
    "<\"한국공항공사 전국공항 주차장 혼잡도\" 데이터 수집하기>\n",
    " - http://www.data.go.kr\n",
    " - 회원로그인(소셜로그인 가능)\n",
    " - 검색어 : 한국공항공사 전국공항 주차장 혼잡도\n",
    " - [활용신청] : 활용 신청시 개인정보 작성\n",
    "             : 활용 목적 -> \"학술/연구\"로...\n",
    "\n",
    "- 인증키\n",
    "  : U1PvCspLab%2BwSUDRHuNwq6wxQnNngRv27tCUcvoEniqqlCOKsAPKkwrozQwI7amVp8AwWlQeLtVJvI6rgQCneA%3D%3D\n",
    "\"\"\""
   ]
  },
  {
   "cell_type": "markdown",
   "id": "07dcd5ae-7d0b-42b6-b33f-84e5d3aeb142",
   "metadata": {},
   "source": [
    "### 라이브러리 정의"
   ]
  },
  {
   "cell_type": "code",
   "execution_count": 2,
   "id": "f7df84dd-5cd3-4de2-b140-c34183bbe19b",
   "metadata": {},
   "outputs": [],
   "source": [
    "### 데이터 관리\n",
    "import pandas as pd\n",
    "\n",
    "### API 요청(request) 및 응답(response) 처리 라이브러리\n",
    "import requests\n",
    "\n",
    "### 응답 받은 XML(HTML) 문서 처리 라이브러리\n",
    "from bs4 import BeautifulSoup\n",
    "\n",
    "### 응답 받은 XML(HTML) 문서 내에 접근하기 위한 포멧으로 변경하는 라이브러리\n",
    "from openpyxl.workbook import Workbook"
   ]
  },
  {
   "cell_type": "markdown",
   "id": "85bf096b-6881-4065-8cd7-9f8289d39559",
   "metadata": {},
   "source": [
    "### 요청(request) : 사용자(우리)가 -> 공항공사 서버에 요청"
   ]
  },
  {
   "cell_type": "code",
   "execution_count": 3,
   "id": "b2fe5e12-25aa-401e-b73e-b304081c639e",
   "metadata": {},
   "outputs": [
    {
     "data": {
      "text/plain": [
       "'PVdeh44WlF%2BHj6bGzfI2BXUldlea7Ggo%2FjjXvhbHCMNNFotchb2byGTopt4uAFS07RQzqmeU3M2Y8HcMmlYW9w%3D%3D'"
      ]
     },
     "execution_count": 3,
     "metadata": {},
     "output_type": "execute_result"
    }
   ],
   "source": [
    "### API 인증키\n",
    "api_key = \"PVdeh44WlF%2BHj6bGzfI2BXUldlea7Ggo%2FjjXvhbHCMNNFotchb2byGTopt4uAFS07RQzqmeU3M2Y8HcMmlYW9w%3D%3D\"\n",
    "api_key"
   ]
  },
  {
   "cell_type": "code",
   "execution_count": 4,
   "id": "2690e929-6e87-4c3b-8ca8-f75305127c3f",
   "metadata": {},
   "outputs": [
    {
     "data": {
      "text/plain": [
       "['GMP', 'PUS', 'CJU', 'TAE', 'KWJ', 'RSU', 'USN', 'KUV', 'WJU', 'CJJ']"
      ]
     },
     "execution_count": 4,
     "metadata": {},
     "output_type": "execute_result"
    }
   ],
   "source": [
    "### 요청 시 사용할 공항 코드 정의 - 리스트로 정의\n",
    "schAirportCode_list = [\"GMP\", \"PUS\", \"CJU\", \"TAE\", \"KWJ\", \"RSU\", \"USN\", \"KUV\", \"WJU\", \"CJJ\"]\n",
    "schAirportCode_list"
   ]
  },
  {
   "cell_type": "code",
   "execution_count": 5,
   "id": "d028b24d-21e0-4323-9ca8-b98299322722",
   "metadata": {},
   "outputs": [
    {
     "data": {
      "text/plain": [
       "(10, 1)"
      ]
     },
     "execution_count": 5,
     "metadata": {},
     "output_type": "execute_result"
    }
   ],
   "source": [
    "### 요청 시 사용할 한페이지 갯수 및 페이지 번호 정의\n",
    "# - 한페이지 갯수(고정)\n",
    "numOfRows=10\n",
    "\n",
    "# 페이지 번호(고정)\n",
    "pageNo=1\n",
    "\n",
    "numOfRows, pageNo"
   ]
  },
  {
   "cell_type": "code",
   "execution_count": 40,
   "id": "91f26f94-1913-478d-bc61-f154f18c2544",
   "metadata": {},
   "outputs": [
    {
     "data": {
      "text/plain": [
       "'http://openapi.airport.co.kr/service/rest/AirportParkingCongestion/airportParkingCongestionRT?schAirportCode=GMP&serviceKey=PVdeh44WlF%2BHj6bGzfI2BXUldlea7Ggo%2FjjXvhbHCMNNFotchb2byGTopt4uAFS07RQzqmeU3M2Y8HcMmlYW9w%3D%3D&numOfRows=10&pageNo=1'"
      ]
     },
     "execution_count": 40,
     "metadata": {},
     "output_type": "execute_result"
    }
   ],
   "source": [
    "### 요청에 사용할 URL 정의하기\n",
    "api_url = \"http://openapi.airport.co.kr/service/rest/AirportParkingCongestion/airportParkingCongestionRT\"\n",
    "api_url += f\"?schAirportCode={schAirportCode_list[0]}\"\n",
    "api_url += f\"&serviceKey={api_key}&numOfRows={numOfRows}&pageNo={pageNo}\"\n",
    "\n",
    "api_url"
   ]
  },
  {
   "cell_type": "markdown",
   "id": "c8fad692-c058-413d-aae1-b2617fcb220b",
   "metadata": {},
   "source": [
    "### 요청(request) 하기"
   ]
  },
  {
   "cell_type": "code",
   "execution_count": 41,
   "id": "dbaad632-871f-4e05-9194-14a88ababb24",
   "metadata": {},
   "outputs": [
    {
     "data": {
      "text/plain": [
       "<Response [200]>"
      ]
     },
     "execution_count": 41,
     "metadata": {},
     "output_type": "execute_result"
    }
   ],
   "source": [
    "rs_data = requests.get(api_url)\n",
    "rs_data"
   ]
  },
  {
   "cell_type": "code",
   "execution_count": 42,
   "id": "810216af-4265-481c-a7ce-15e188bfbadc",
   "metadata": {},
   "outputs": [
    {
     "data": {
      "text/plain": [
       "'<?xml version=\"1.0\" encoding=\"UTF-8\" standalone=\"yes\"?><response><header><resultCode>00</resultCode><resultMsg>NORMAL SERVICE.</resultMsg></header><body><items><item><airportEng>GIMPO INTERNATIONAL AIRPORT</airportEng><airportKor>김포국제공항</airportKor><parkingAirportCodeName>국내선 제1주차장</parkingAirportCodeName><parkingCongestion>원활</parkingCongestion><parkingCongestionDegree>72.84%</parkingCongestionDegree><parkingOccupiedSpace>1660</parkingOccupiedSpace><parkingTotalSpace>2279</parkingTotalSpace><sysGetdate>2025-01-09</sysGetdate><sysGettime>13:28:02</sysGettime></item><item><airportEng>GIMPO INTERNATIONAL AIRPORT</airportEng><airportKor>김포국제공항</airportKor><parkingAirportCodeName>국내선 제2주차장</parkingAirportCodeName><parkingCongestion>원활</parkingCongestion><parkingCongestionDegree>61.57%</parkingCongestionDegree><parkingOccupiedSpace>1067</parkingOccupiedSpace><parkingTotalSpace>1733</parkingTotalSpace><sysGetdate>2025-01-09</sysGetdate><sysGettime>13:28:02</sysGettime></item><item><airportEng>GIMPO INTERNATIONAL AIRPORT</airportEng><airportKor>김포국제공항</airportKor><parkingAirportCodeName>국제선 주차빌딩</parkingAirportCodeName><parkingCongestion>원활</parkingCongestion><parkingCongestionDegree>73.72%</parkingCongestionDegree><parkingOccupiedSpace>418</parkingOccupiedSpace><parkingTotalSpace>567</parkingTotalSpace><sysGetdate>2025-01-09</sysGetdate><sysGettime>13:28:02</sysGettime></item><item><airportEng>GIMPO INTERNATIONAL AIRPORT</airportEng><airportKor>김포국제공항</airportKor><parkingAirportCodeName>국제선 지하</parkingAirportCodeName><parkingCongestion>원활</parkingCongestion><parkingCongestionDegree>84.64%</parkingCongestionDegree><parkingOccupiedSpace>507</parkingOccupiedSpace><parkingTotalSpace>599</parkingTotalSpace><sysGetdate>2025-01-09</sysGetdate><sysGettime>13:28:02</sysGettime></item><item><airportEng>GIMPO INTERNATIONAL AIRPORT</airportEng><airportKor>김포국제공항</airportKor><parkingAirportCodeName>화물청사</parkingAirportCodeName><parkingCongestion>만차</parkingCongestion><parkingCongestionDegree>100%</parkingCongestionDegree><parkingOccupiedSpace>737</parkingOccupiedSpace><parkingTotalSpace>737</parkingTotalSpace><sysGetdate>2025-01-09</sysGetdate><sysGettime>13:28:02</sysGettime></item></items><numOfRows>10</numOfRows><pageNo>1</pageNo><totalCount>5</totalCount></body></response>'"
      ]
     },
     "execution_count": 42,
     "metadata": {},
     "output_type": "execute_result"
    }
   ],
   "source": [
    "ne\n",
    "rs_data.text"
   ]
  },
  {
   "cell_type": "code",
   "execution_count": 43,
   "id": "12903e54-81bc-473f-ab94-7f484da91e58",
   "metadata": {
    "scrolled": true
   },
   "outputs": [],
   "source": [
    "rs_xml = BeautifulSoup(rs_data.text, 'xml')"
   ]
  },
  {
   "cell_type": "code",
   "execution_count": 34,
   "id": "1c9c58f4-3c26-4500-8dae-6cdb144ab76e",
   "metadata": {},
   "outputs": [
    {
     "data": {
      "text/plain": [
       "'김포국제공항'"
      ]
     },
     "execution_count": 34,
     "metadata": {},
     "output_type": "execute_result"
    }
   ],
   "source": [
    "rs_xml.find(\"airportKor\").text"
   ]
  },
  {
   "cell_type": "code",
   "execution_count": 36,
   "id": "1a48ec5b-b939-4f35-a5a7-052c1ef3a509",
   "metadata": {},
   "outputs": [
    {
     "data": {
      "text/plain": [
       "'김포국제공항'"
      ]
     },
     "execution_count": 36,
     "metadata": {},
     "output_type": "execute_result"
    }
   ],
   "source": [
    "rs_xml.find_all(\"airportKor\")[1].text"
   ]
  },
  {
   "cell_type": "code",
   "execution_count": 37,
   "id": "6dacd1c6-0f5b-43e8-939d-65da1ff2939d",
   "metadata": {},
   "outputs": [
    {
     "data": {
      "text/plain": [
       "'국내선 제1주차장'"
      ]
     },
     "execution_count": 37,
     "metadata": {},
     "output_type": "execute_result"
    }
   ],
   "source": [
    "rs_xml.find(\"parkingAirportCodeName\").text"
   ]
  },
  {
   "cell_type": "code",
   "execution_count": 38,
   "id": "b1c61b36-4e30-448c-90e4-bfdb50ad7f98",
   "metadata": {},
   "outputs": [
    {
     "data": {
      "text/plain": [
       "'72.75%'"
      ]
     },
     "execution_count": 38,
     "metadata": {},
     "output_type": "execute_result"
    }
   ],
   "source": [
    "rs_xml.find(\"parkingCongestionDegree\").tex"
   ]
  },
  {
   "cell_type": "code",
   "execution_count": 44,
   "id": "7da1e2df-4b50-4406-869f-7ab35d13ba79",
   "metadata": {},
   "outputs": [
    {
     "data": {
      "text/plain": [
       "'13:28:02'"
      ]
     },
     "execution_count": 44,
     "metadata": {},
     "output_type": "execute_result"
    }
   ],
   "source": [
    "rs_xml.find(\"sysGettime\").text"
   ]
  },
  {
   "cell_type": "code",
   "execution_count": 64,
   "id": "f3f41b35-f2e4-4ec5-bdf2-003aa9c2c96d",
   "metadata": {},
   "outputs": [],
   "source": [
    "def get_airport_parking_info(airport_name):\n",
    "    api_url = \"http://openapi.airport.co.kr/service/rest/AirportParkingCongestion/airportParkingCongestionRT\"\n",
    "    api_url += f\"?schAirportCode={airport_name}\"\n",
    "    api_url += f\"&serviceKey={api_key}&numOfRows={numOfRows}&pageNo={pageNo}\"\n",
    "    rs_data = requests.get(api_url)\n",
    "    rs_xml = BeautifulSoup(rs_data.text, 'xml')\n",
    "    airport_name = rs_xml.find(\"airportKor\").text\n",
    "    time = rs_xml.find(\"sysGetdate\").text + \" \" + rs_xml.find(\"sysGettime\").text\n",
    "    parking_name = rs_xml.find_all(\"parkingAirportCodeName\")\n",
    "    congestion = rs_xml.find_all(\"parkingCongestion\")\n",
    "    congestion_degree = rs_xml.find_all(\"parkingCongestionDegree\")\n",
    "    num_of_total = rs_xml.find_all(\"parkingTotalSpace\")\n",
    "    num_of_occupied = rs_xml.find_all(\"parkingOccupiedSpace\")\n",
    "    return airport_name, time, parking_name, congestion, congestion_degree, num_of_total, num_of_occupied"
   ]
  },
  {
   "cell_type": "code",
   "execution_count": 65,
   "id": "b60050bb-2417-4f71-8958-d398f9fcd647",
   "metadata": {},
   "outputs": [
    {
     "data": {
      "text/plain": [
       "('제주국제공항',\n",
       " '2025-01-09 13:43:02',\n",
       " [<parkingAirportCodeName>P1주차장</parkingAirportCodeName>,\n",
       "  <parkingAirportCodeName>P2장기주차장</parkingAirportCodeName>,\n",
       "  <parkingAirportCodeName>화물주차장</parkingAirportCodeName>],\n",
       " [<parkingCongestion>원활</parkingCongestion>,\n",
       "  <parkingCongestion>원활</parkingCongestion>,\n",
       "  <parkingCongestion>만차</parkingCongestion>],\n",
       " [<parkingCongestionDegree>85.26%</parkingCongestionDegree>,\n",
       "  <parkingCongestionDegree>67.83%</parkingCongestionDegree>,\n",
       "  <parkingCongestionDegree>100%</parkingCongestionDegree>],\n",
       " [<parkingTotalSpace>1744</parkingTotalSpace>,\n",
       "  <parkingTotalSpace>488</parkingTotalSpace>,\n",
       "  <parkingTotalSpace>732</parkingTotalSpace>],\n",
       " [<parkingOccupiedSpace>1487</parkingOccupiedSpace>,\n",
       "  <parkingOccupiedSpace>331</parkingOccupiedSpace>,\n",
       "  <parkingOccupiedSpace>732</parkingOccupiedSpace>])"
      ]
     },
     "execution_count": 65,
     "metadata": {},
     "output_type": "execute_result"
    }
   ],
   "source": [
    "get_airport_parking_info(schAirportCode_list[2])"
   ]
  },
  {
   "cell_type": "code",
   "execution_count": 85,
   "id": "564c7f07-28a1-4b72-9784-971c626e91be",
   "metadata": {},
   "outputs": [
    {
     "name": "stdout",
     "output_type": "stream",
     "text": [
      "[공항명] 김포국제공항\n",
      "[기준년월일시분초] 2025-01-09 14:13:03\n",
      "-----------------------------------------------\n",
      "[주차장명] 국내선 제1주차장\n",
      "[혼잡도(혼잡율)] 원활(73.5%)\n",
      "[주차가능대수] 604\n",
      "-----------------------------------------------\n",
      "[주차장명] 국내선 제2주차장\n",
      "[혼잡도(혼잡율)] 원활(59.9%)\n",
      "[주차가능대수] 695\n",
      "-----------------------------------------------\n",
      "[주차장명] 국제선 주차빌딩\n",
      "[혼잡도(혼잡율)] 원활(76.54%)\n",
      "[주차가능대수] 133\n",
      "-----------------------------------------------\n",
      "[주차장명] 국제선 지하\n",
      "[혼잡도(혼잡율)] 원활(89.15%)\n",
      "[주차가능대수] 65\n",
      "-----------------------------------------------\n",
      "[주차장명] 화물청사\n",
      "[혼잡도(혼잡율)] 만차(100%)\n",
      "[주차가능대수] 0\n",
      "==============================================\n",
      "[공항명] 김해국제공항\n",
      "[기준년월일시분초] 2025-01-09 14:13:03\n",
      "-----------------------------------------------\n",
      "[주차장명] P1(임시)\n",
      "[혼잡도(혼잡율)] 만차(100%)\n",
      "[주차가능대수] 0\n",
      "-----------------------------------------------\n",
      "[주차장명] P3 여객(화물)\n",
      "[혼잡도(혼잡율)] 만차(100%)\n",
      "[주차가능대수] 0\n",
      "-----------------------------------------------\n",
      "[주차장명] 여객주차장(P1+P2)\n",
      "[혼잡도(혼잡율)] 만차(100%)\n",
      "[주차가능대수] 0\n",
      "==============================================\n",
      "[공항명] 제주국제공항\n",
      "[기준년월일시분초] 2025-01-09 14:13:03\n",
      "-----------------------------------------------\n",
      "[주차장명] P1주차장\n",
      "[혼잡도(혼잡율)] 원활(87.61%)\n",
      "[주차가능대수] 216\n",
      "-----------------------------------------------\n",
      "[주차장명] P2장기주차장\n",
      "[혼잡도(혼잡율)] 원활(67.83%)\n",
      "[주차가능대수] 157\n",
      "-----------------------------------------------\n",
      "[주차장명] 화물주차장\n",
      "[혼잡도(혼잡율)] 만차(100%)\n",
      "[주차가능대수] 0\n",
      "==============================================\n",
      "[공항명] 대구국제공항\n",
      "[기준년월일시분초] 2025-01-09 14:13:03\n",
      "-----------------------------------------------\n",
      "[주차장명] 여객주차장\n",
      "[혼잡도(혼잡율)] 원활(85.3%)\n",
      "[주차가능대수] 200\n",
      "-----------------------------------------------\n",
      "[주차장명] 화물주차장\n",
      "[혼잡도(혼잡율)] 만차(100%)\n",
      "[주차가능대수] 0\n",
      "==============================================\n",
      "[공항명] 광주공항\n",
      "[기준년월일시분초] 2025-01-09 14:13:03\n",
      "-----------------------------------------------\n",
      "[주차장명] 여객주차장(제1+제2)\n",
      "[혼잡도(혼잡율)] 원활(73.71%)\n",
      "[주차가능대수] 290\n",
      "==============================================\n",
      "[공항명] 여수공항\n",
      "[기준년월일시분초] 2025-01-09 14:13:03\n",
      "-----------------------------------------------\n",
      "[주차장명] 여객주차장\n",
      "[혼잡도(혼잡율)] 원활(44.6%)\n",
      "[주차가능대수] 472\n",
      "==============================================\n",
      "[공항명] 울산공항\n",
      "[기준년월일시분초] 2025-01-09 14:13:03\n",
      "-----------------------------------------------\n",
      "[주차장명] 여객주차장\n",
      "[혼잡도(혼잡율)] 원활(51.98%)\n",
      "[주차가능대수] 218\n",
      "==============================================\n",
      "[공항명] 군산공항\n",
      "[기준년월일시분초] 2025-01-09 14:13:03\n",
      "-----------------------------------------------\n",
      "[주차장명] 여객주차장\n",
      "[혼잡도(혼잡율)] 원활(19.7%)\n",
      "[주차가능대수] 375\n",
      "==============================================\n",
      "[공항명] 원주공항\n",
      "[기준년월일시분초] 2025-01-09 14:13:03\n",
      "-----------------------------------------------\n",
      "[주차장명] 여객주차장\n",
      "[혼잡도(혼잡율)] 원활(79.86%)\n",
      "[주차가능대수] 28\n",
      "==============================================\n",
      "[공항명] 청주국제공항\n",
      "[기준년월일시분초] 2025-01-09 14:13:03\n",
      "-----------------------------------------------\n",
      "[주차장명] 여객 제1주차장\n",
      "[혼잡도(혼잡율)] 만차(100%)\n",
      "[주차가능대수] 0\n",
      "-----------------------------------------------\n",
      "[주차장명] 여객 제2주차장\n",
      "[혼잡도(혼잡율)] 원활(68.36%)\n",
      "[주차가능대수] 536\n",
      "-----------------------------------------------\n",
      "[주차장명] 여객 제3주차장\n",
      "[혼잡도(혼잡율)] 원활(57.72%)\n",
      "[주차가능대수] 211\n",
      "-----------------------------------------------\n",
      "[주차장명] 여객 제4주차장\n",
      "[혼잡도(혼잡율)] 원활(29.37%)\n",
      "[주차가능대수] 327\n",
      "==============================================\n"
     ]
    }
   ],
   "source": [
    "for el in schAirportCode_list:\n",
    "    airport_name, time, parking_name, congestion, congestion_degree, num_of_total, num_of_occupied = get_airport_parking_info(el)\n",
    "    print(f\"[공항명] {airport_name}\")\n",
    "    print(f\"[기준년월일시분초] {time}\")\n",
    "    for i in range(len(parking_name)):\n",
    "        print(\"-----------------------------------------------\")\n",
    "        print(f\"[주차장명] {parking_name[i].text}\")\n",
    "        print(f\"[혼잡도(혼잡율)] {congestion[i].text}({congestion_degree[i].text})\")\n",
    "        num_of_empty = int(num_of_total[i].text) - int(num_of_occupied[i].text)\n",
    "        print(f\"[주차가능대수] {num_of_empty}\")\n",
    "        \n",
    "    print(\"==============================================\")"
   ]
  },
  {
   "cell_type": "code",
   "execution_count": 83,
   "id": "4bad1d3c-609c-412e-beb5-a4a7c3c59e6d",
   "metadata": {},
   "outputs": [
    {
     "name": "stdout",
     "output_type": "stream",
     "text": [
      "주차장 여객 제1주차장\n"
     ]
    }
   ],
   "source": [
    "\n",
    "print(f\"주차장 {parking_name[0].text}\")"
   ]
  },
  {
   "cell_type": "code",
   "execution_count": null,
   "id": "c529a717-434a-41eb-8494-cdae5892a7f6",
   "metadata": {},
   "outputs": [],
   "source": []
  }
 ],
 "metadata": {
  "kernelspec": {
   "display_name": "env_one_kernel",
   "language": "python",
   "name": "env_one"
  },
  "language_info": {
   "codemirror_mode": {
    "name": "ipython",
    "version": 3
   },
   "file_extension": ".py",
   "mimetype": "text/x-python",
   "name": "python",
   "nbconvert_exporter": "python",
   "pygments_lexer": "ipython3",
   "version": "3.9.21"
  }
 },
 "nbformat": 4,
 "nbformat_minor": 5
}
