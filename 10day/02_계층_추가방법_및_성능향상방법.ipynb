{
 "cells": [
  {
   "cell_type": "code",
   "execution_count": 1,
   "id": "70496c51-1522-45d6-a986-da521b42a91c",
   "metadata": {},
   "outputs": [],
   "source": [
    "# 텐서플로우 프레임워크\n",
    "import tensorflow as tf\n",
    "\n",
    "# 케라스(딥러닝 모델) 라이브러리\n",
    "from tensorflow import keras\n",
    "\n",
    "# 시각화 라이브러리\n",
    "import matplotlib.pyplot as plt\n",
    "\n",
    "# 넘파이\n",
    "import numpy as np\n",
    "\n",
    "# 데이터 분류 라이브러리\n",
    "from sklearn.model_selection import train_test_split\n",
    "\n",
    "# 딥러닝 랜덤규칙 정의(모든 사람이 정확하게 일치하지는 않음)\n",
    "tf.keras.utils.set_random_seed(42)\n",
    "tf.config.experimental.enable_op_determinism()"
   ]
  },
  {
   "cell_type": "code",
   "execution_count": 2,
   "id": "1f6951bb-f812-4be9-8f95-56a5e44de022",
   "metadata": {},
   "outputs": [],
   "source": [
    "# 데이터 불러오기 (X_train, y_train, X_test, y_test)\n",
    "(X_train, y_train), (X_test, y_test) = keras.datasets.fashion_mnist.load_data()"
   ]
  },
  {
   "cell_type": "code",
   "execution_count": 3,
   "id": "8a57c8b4-b047-4c8b-859b-b872872984aa",
   "metadata": {},
   "outputs": [
    {
     "data": {
      "text/plain": [
       "((60000, 28, 28), (10000, 28, 28))"
      ]
     },
     "execution_count": 3,
     "metadata": {},
     "output_type": "execute_result"
    }
   ],
   "source": [
    "X_train_scaled = X_train / 255.0\n",
    "X_test_scaled = X_test / 255.0\n",
    "X_train_scaled.shape, X_test_scaled.shape"
   ]
  },
  {
   "cell_type": "code",
   "execution_count": 4,
   "id": "848cd4c2-0ca1-4ded-95a2-e31496bde18a",
   "metadata": {},
   "outputs": [],
   "source": [
    "# - reshape() : 차원 변경 reshape(행, 열), -1은 행 전체를 의미\n",
    "X_train_scaled_2d = X_train_scaled.reshape(-1, 28*28)\n",
    "X_test_scaled_2d = X_test_scaled.reshape(-1, 28*28)"
   ]
  },
  {
   "cell_type": "code",
   "execution_count": 5,
   "id": "c4f334cd-3b76-42bb-a2da-871a86448f8c",
   "metadata": {},
   "outputs": [],
   "source": [
    "X_train_scaled_2d, X_val_scaled_2d, y_train, y_val  = train_test_split(X_train_scaled_2d, y_train, random_state=42, test_size=0.2)"
   ]
  },
  {
   "cell_type": "markdown",
   "id": "39bf756c-85fb-4144-a658-0a6ae5a0210b",
   "metadata": {},
   "source": [
    "# 계층 추가하는 3가지 방법"
   ]
  },
  {
   "cell_type": "markdown",
   "id": "41927eea-ebbf-406c-a55b-46c361a2367a",
   "metadata": {},
   "source": [
    "#### 1. 계층을 먼저 만들고, 신경망 모델 생성 시 추가하는 방법\n"
   ]
  },
  {
   "cell_type": "code",
   "execution_count": 6,
   "id": "bed7cd7d-ccd4-4576-9f4c-62de26063d87",
   "metadata": {},
   "outputs": [],
   "source": [
    "# 입력 계층 생성하기\n",
    "# - 출력갯수 : 100개\n",
    "# - 활성화함수 : sigmoid\n",
    "# - 입력갯수 : 784개\n",
    "# - 계층 변수명 : dense1"
   ]
  },
  {
   "cell_type": "code",
   "execution_count": 7,
   "id": "21bb2768-6f0c-4b89-82a8-8de3e121bfce",
   "metadata": {},
   "outputs": [],
   "source": [
    "dense1 = keras.layers.Dense(\n",
    "    units=100,\n",
    "    activation=\"sigmoid\",\n",
    "    input_shape=(784, )\n",
    ")"
   ]
  },
  {
   "cell_type": "code",
   "execution_count": 8,
   "id": "19f839c6-2800-457c-b7ba-32125ac097d0",
   "metadata": {},
   "outputs": [],
   "source": [
    "# 출력 계층 생성하기\n",
    "# - 출력갯수 : 10개\n",
    "# - 활성화함수 : softmax\n",
    "# - 입력갯수 : 100개\n",
    "# - 계층 변수명 : dense2"
   ]
  },
  {
   "cell_type": "code",
   "execution_count": 9,
   "id": "42b657cf-1949-453b-9e8e-b51ce4af504d",
   "metadata": {},
   "outputs": [],
   "source": [
    "dense2 = keras.layers.Dense(\n",
    "    units=10,\n",
    "    activation=\"softmax\"\n",
    ")"
   ]
  },
  {
   "cell_type": "code",
   "execution_count": 10,
   "id": "f08aa70f-3d3c-4097-96b0-4f34530c0807",
   "metadata": {},
   "outputs": [
    {
     "data": {
      "text/plain": [
       "<keras.engine.sequential.Sequential at 0x199709b7c10>"
      ]
     },
     "execution_count": 10,
     "metadata": {},
     "output_type": "execute_result"
    }
   ],
   "source": [
    "model = keras.Sequential([dense1, dense2])\n",
    "model"
   ]
  },
  {
   "cell_type": "code",
   "execution_count": 11,
   "id": "ffe9914a-7ccf-4e1a-b7e7-61ebdec2d1f4",
   "metadata": {},
   "outputs": [
    {
     "name": "stdout",
     "output_type": "stream",
     "text": [
      "Model: \"sequential\"\n",
      "_________________________________________________________________\n",
      " Layer (type)                Output Shape              Param #   \n",
      "=================================================================\n",
      " dense (Dense)               (None, 100)               78500     \n",
      "                                                                 \n",
      " dense_1 (Dense)             (None, 10)                1010      \n",
      "                                                                 \n",
      "=================================================================\n",
      "Total params: 79,510\n",
      "Trainable params: 79,510\n",
      "Non-trainable params: 0\n",
      "_________________________________________________________________\n"
     ]
    }
   ],
   "source": [
    "model.summary()"
   ]
  },
  {
   "cell_type": "markdown",
   "id": "b09c0efa-46c4-42aa-b72f-d303bac0f083",
   "metadata": {},
   "source": [
    "#### 2. 모델 생성과 동시에 계층 생성하는 방식"
   ]
  },
  {
   "cell_type": "code",
   "execution_count": 12,
   "id": "bc2cb4b6-02fc-49e8-b6c6-b490188708e5",
   "metadata": {},
   "outputs": [],
   "source": [
    "model2 = keras.Sequential([\n",
    "    # 입력계층 생성\n",
    "    keras.layers.Dense(\n",
    "        units=100,\n",
    "        activation=\"sigmoid\",\n",
    "        input_shape=(784, ),\n",
    "        name=\"Input_Layer\"   # 레이어 이름 정의\n",
    "    ),\n",
    "    \n",
    "    # 출력계층 생성\n",
    "    keras.layers.Dense(\n",
    "        units=10,\n",
    "        activation=\"softmax\",\n",
    "        name=\"Output_Layer\"\n",
    "    )\n",
    "], name=\"Model2\") # 모델 이름 정의"
   ]
  },
  {
   "cell_type": "code",
   "execution_count": 13,
   "id": "77e510bc-e486-473e-8f7b-e12c61e0f2d3",
   "metadata": {},
   "outputs": [
    {
     "name": "stdout",
     "output_type": "stream",
     "text": [
      "Model: \"Model2\"\n",
      "_________________________________________________________________\n",
      " Layer (type)                Output Shape              Param #   \n",
      "=================================================================\n",
      " Input_Layer (Dense)         (None, 100)               78500     \n",
      "                                                                 \n",
      " Output_Layer (Dense)        (None, 10)                1010      \n",
      "                                                                 \n",
      "=================================================================\n",
      "Total params: 79,510\n",
      "Trainable params: 79,510\n",
      "Non-trainable params: 0\n",
      "_________________________________________________________________\n"
     ]
    }
   ],
   "source": [
    "model2.summary()"
   ]
  },
  {
   "cell_type": "markdown",
   "id": "d1b771ea-5dbd-4c11-a8a6-a5909dfd09b4",
   "metadata": {},
   "source": [
    "#### 3. 모델 생성 후, 계층 추가(add)하는 방식(가장 많이 사용하는 방식)"
   ]
  },
  {
   "cell_type": "code",
   "execution_count": 14,
   "id": "716fe0de-9077-40f4-bc92-0f5d07ab7caf",
   "metadata": {},
   "outputs": [],
   "source": [
    "# 모델 생성\n",
    "model3 = keras.Sequential()"
   ]
  },
  {
   "cell_type": "code",
   "execution_count": 15,
   "id": "fea1c41e-87ed-484a-b1ba-ade629e8745d",
   "metadata": {},
   "outputs": [],
   "source": [
    "# 입력계층(Input layer) 추가\n",
    "model3.add(\n",
    "    keras.layers.Dense(\n",
    "        units=100,\n",
    "        activation=\"sigmoid\",\n",
    "        input_shape=(784, ),\n",
    "        name=\"Input_Layer\"\n",
    "    )\n",
    ")"
   ]
  },
  {
   "cell_type": "code",
   "execution_count": 16,
   "id": "00da8866-3baa-432f-ba32-f69a74b4cd01",
   "metadata": {},
   "outputs": [],
   "source": [
    "# 출력계층(output layer) 추가\n",
    "model3.add(\n",
    "    keras.layers.Dense(\n",
    "        units=10,\n",
    "        activation=\"softmax\",\n",
    "        name=\"Output_Layer\"\n",
    "    )\n",
    ")"
   ]
  },
  {
   "cell_type": "code",
   "execution_count": 17,
   "id": "aaa2761a-63c3-48ce-b9bf-e7f46167b6d4",
   "metadata": {},
   "outputs": [
    {
     "name": "stdout",
     "output_type": "stream",
     "text": [
      "Model: \"sequential_1\"\n",
      "_________________________________________________________________\n",
      " Layer (type)                Output Shape              Param #   \n",
      "=================================================================\n",
      " Input_Layer (Dense)         (None, 100)               78500     \n",
      "                                                                 \n",
      " Output_Layer (Dense)        (None, 10)                1010      \n",
      "                                                                 \n",
      "=================================================================\n",
      "Total params: 79,510\n",
      "Trainable params: 79,510\n",
      "Non-trainable params: 0\n",
      "_________________________________________________________________\n"
     ]
    }
   ],
   "source": [
    "model3.summary()"
   ]
  },
  {
   "cell_type": "code",
   "execution_count": 18,
   "id": "b99a1408-d6bd-4dd5-9547-872b2e4c4b79",
   "metadata": {},
   "outputs": [],
   "source": [
    "# 모델 환경 설정\n",
    "model.compile(\n",
    "    loss=\"sparse_categorical_crossentropy\",\n",
    "    metrics=\"accuracy\"\n",
    ")\n",
    "model2.compile(\n",
    "    loss=\"sparse_categorical_crossentropy\",\n",
    "    metrics=\"accuracy\"\n",
    ")\n",
    "model3.compile(\n",
    "    loss=\"sparse_categorical_crossentropy\",\n",
    "    metrics=\"accuracy\"\n",
    ")"
   ]
  },
  {
   "cell_type": "code",
   "execution_count": 19,
   "id": "84456e33-391c-4e9e-9ac3-920606b11de5",
   "metadata": {
    "scrolled": true
   },
   "outputs": [
    {
     "name": "stdout",
     "output_type": "stream",
     "text": [
      "Epoch 1/50\n",
      "1500/1500 [==============================] - 4s 2ms/step - loss: 0.5628 - accuracy: 0.8073\n",
      "Epoch 2/50\n",
      "1500/1500 [==============================] - 3s 2ms/step - loss: 0.4075 - accuracy: 0.8522\n",
      "Epoch 3/50\n",
      "1500/1500 [==============================] - 3s 2ms/step - loss: 0.3741 - accuracy: 0.8652\n",
      "Epoch 4/50\n",
      "1500/1500 [==============================] - 3s 2ms/step - loss: 0.3509 - accuracy: 0.8732\n",
      "Epoch 5/50\n",
      "1500/1500 [==============================] - 3s 2ms/step - loss: 0.3335 - accuracy: 0.8784\n",
      "Epoch 6/50\n",
      "1500/1500 [==============================] - 3s 2ms/step - loss: 0.3219 - accuracy: 0.8846\n",
      "Epoch 7/50\n",
      "1500/1500 [==============================] - 3s 2ms/step - loss: 0.3095 - accuracy: 0.8870\n",
      "Epoch 8/50\n",
      "1500/1500 [==============================] - 3s 2ms/step - loss: 0.2994 - accuracy: 0.8901\n",
      "Epoch 9/50\n",
      "1500/1500 [==============================] - 3s 2ms/step - loss: 0.2888 - accuracy: 0.8949\n",
      "Epoch 10/50\n",
      "1500/1500 [==============================] - 3s 2ms/step - loss: 0.2810 - accuracy: 0.8988\n",
      "Epoch 11/50\n",
      "1500/1500 [==============================] - 3s 2ms/step - loss: 0.2742 - accuracy: 0.8995\n",
      "Epoch 12/50\n",
      "1500/1500 [==============================] - 3s 2ms/step - loss: 0.2670 - accuracy: 0.9028\n",
      "Epoch 13/50\n",
      "1500/1500 [==============================] - 3s 2ms/step - loss: 0.2608 - accuracy: 0.9048\n",
      "Epoch 14/50\n",
      "1500/1500 [==============================] - 3s 2ms/step - loss: 0.2543 - accuracy: 0.9075\n",
      "Epoch 15/50\n",
      "1500/1500 [==============================] - 3s 2ms/step - loss: 0.2485 - accuracy: 0.9097\n",
      "Epoch 16/50\n",
      "1500/1500 [==============================] - 3s 2ms/step - loss: 0.2439 - accuracy: 0.9114\n",
      "Epoch 17/50\n",
      "1500/1500 [==============================] - 3s 2ms/step - loss: 0.2381 - accuracy: 0.9135\n",
      "Epoch 18/50\n",
      "1500/1500 [==============================] - 3s 2ms/step - loss: 0.2348 - accuracy: 0.9165\n",
      "Epoch 19/50\n",
      "1500/1500 [==============================] - 3s 2ms/step - loss: 0.2298 - accuracy: 0.9175\n",
      "Epoch 20/50\n",
      "1500/1500 [==============================] - 3s 2ms/step - loss: 0.2260 - accuracy: 0.9179\n",
      "Epoch 21/50\n",
      "1500/1500 [==============================] - 3s 2ms/step - loss: 0.2214 - accuracy: 0.9196\n",
      "Epoch 22/50\n",
      "1500/1500 [==============================] - 3s 2ms/step - loss: 0.2164 - accuracy: 0.9215\n",
      "Epoch 23/50\n",
      "1500/1500 [==============================] - 3s 2ms/step - loss: 0.2129 - accuracy: 0.9229\n",
      "Epoch 24/50\n",
      "1500/1500 [==============================] - 3s 2ms/step - loss: 0.2099 - accuracy: 0.9238\n",
      "Epoch 25/50\n",
      "1500/1500 [==============================] - 3s 2ms/step - loss: 0.2064 - accuracy: 0.9254\n",
      "Epoch 26/50\n",
      "1500/1500 [==============================] - 3s 2ms/step - loss: 0.2026 - accuracy: 0.9269\n",
      "Epoch 27/50\n",
      "1500/1500 [==============================] - 3s 2ms/step - loss: 0.1995 - accuracy: 0.9279\n",
      "Epoch 28/50\n",
      "1500/1500 [==============================] - 3s 2ms/step - loss: 0.1961 - accuracy: 0.9296\n",
      "Epoch 29/50\n",
      "1500/1500 [==============================] - 5s 3ms/step - loss: 0.1931 - accuracy: 0.9319\n",
      "Epoch 30/50\n",
      "1500/1500 [==============================] - 4s 2ms/step - loss: 0.1892 - accuracy: 0.9324\n",
      "Epoch 31/50\n",
      "1500/1500 [==============================] - 5s 3ms/step - loss: 0.1858 - accuracy: 0.9336\n",
      "Epoch 32/50\n",
      "1500/1500 [==============================] - 3s 2ms/step - loss: 0.1832 - accuracy: 0.9339\n",
      "Epoch 33/50\n",
      "1500/1500 [==============================] - 3s 2ms/step - loss: 0.1792 - accuracy: 0.9365\n",
      "Epoch 34/50\n",
      "1500/1500 [==============================] - 3s 2ms/step - loss: 0.1776 - accuracy: 0.9361\n",
      "Epoch 35/50\n",
      "1500/1500 [==============================] - 3s 2ms/step - loss: 0.1750 - accuracy: 0.9370\n",
      "Epoch 36/50\n",
      "1500/1500 [==============================] - 3s 2ms/step - loss: 0.1714 - accuracy: 0.9385\n",
      "Epoch 37/50\n",
      "1500/1500 [==============================] - 3s 2ms/step - loss: 0.1684 - accuracy: 0.9401\n",
      "Epoch 38/50\n",
      "1500/1500 [==============================] - 3s 2ms/step - loss: 0.1667 - accuracy: 0.9403\n",
      "Epoch 39/50\n",
      "1500/1500 [==============================] - 3s 2ms/step - loss: 0.1636 - accuracy: 0.9423\n",
      "Epoch 40/50\n",
      "1500/1500 [==============================] - 3s 2ms/step - loss: 0.1617 - accuracy: 0.9419\n",
      "Epoch 41/50\n",
      "1500/1500 [==============================] - 3s 2ms/step - loss: 0.1592 - accuracy: 0.9436\n",
      "Epoch 42/50\n",
      "1500/1500 [==============================] - 3s 2ms/step - loss: 0.1562 - accuracy: 0.9444\n",
      "Epoch 43/50\n",
      "1500/1500 [==============================] - 3s 2ms/step - loss: 0.1550 - accuracy: 0.9456\n",
      "Epoch 44/50\n",
      "1500/1500 [==============================] - 3s 2ms/step - loss: 0.1519 - accuracy: 0.9454\n",
      "Epoch 45/50\n",
      "1500/1500 [==============================] - 3s 2ms/step - loss: 0.1501 - accuracy: 0.9465\n",
      "Epoch 46/50\n",
      "1500/1500 [==============================] - 3s 2ms/step - loss: 0.1476 - accuracy: 0.9486\n",
      "Epoch 47/50\n",
      "1500/1500 [==============================] - 4s 3ms/step - loss: 0.1461 - accuracy: 0.9484\n",
      "Epoch 48/50\n",
      "1500/1500 [==============================] - 3s 2ms/step - loss: 0.1424 - accuracy: 0.9502\n",
      "Epoch 49/50\n",
      "1500/1500 [==============================] - 3s 2ms/step - loss: 0.1419 - accuracy: 0.9496\n",
      "Epoch 50/50\n",
      "1500/1500 [==============================] - 3s 2ms/step - loss: 0.1384 - accuracy: 0.9511\n"
     ]
    },
    {
     "data": {
      "text/plain": [
       "<keras.callbacks.History at 0x1997e534df0>"
      ]
     },
     "execution_count": 19,
     "metadata": {},
     "output_type": "execute_result"
    }
   ],
   "source": [
    "model3.fit(X_train_scaled_2d, y_train, epochs=50)"
   ]
  },
  {
   "cell_type": "code",
   "execution_count": 20,
   "id": "5ce73a13-8f6e-4b7e-ad98-c8651b47eab4",
   "metadata": {},
   "outputs": [
    {
     "name": "stdout",
     "output_type": "stream",
     "text": [
      "1500/1500 [==============================] - 3s 2ms/step - loss: 0.1291 - accuracy: 0.9541\n"
     ]
    },
    {
     "data": {
      "text/plain": [
       "[0.12910765409469604, 0.9540625214576721]"
      ]
     },
     "execution_count": 20,
     "metadata": {},
     "output_type": "execute_result"
    }
   ],
   "source": [
    "model3.evaluate(X_train_scaled_2d, y_train)"
   ]
  },
  {
   "cell_type": "code",
   "execution_count": 21,
   "id": "0ca464f2-ad25-4553-ad30-05dffd334d3b",
   "metadata": {},
   "outputs": [
    {
     "name": "stdout",
     "output_type": "stream",
     "text": [
      "375/375 [==============================] - 1s 1ms/step - loss: 0.3884 - accuracy: 0.8894\n"
     ]
    },
    {
     "data": {
      "text/plain": [
       "[0.3884243071079254, 0.8894166946411133]"
      ]
     },
     "execution_count": 21,
     "metadata": {},
     "output_type": "execute_result"
    }
   ],
   "source": [
    "model3.evaluate(X_val_scaled_2d, y_val)"
   ]
  },
  {
   "cell_type": "code",
   "execution_count": 22,
   "id": "da1aa7c3-69c1-4075-8b13-a28e64e180d4",
   "metadata": {
    "scrolled": true
   },
   "outputs": [
    {
     "name": "stdout",
     "output_type": "stream",
     "text": [
      "313/313 [==============================] - 1s 2ms/step - loss: 0.4308 - accuracy: 0.8780\n"
     ]
    },
    {
     "data": {
      "text/plain": [
       "[0.4307788610458374, 0.878000020980835]"
      ]
     },
     "execution_count": 22,
     "metadata": {},
     "output_type": "execute_result"
    }
   ],
   "source": [
    "model3.evaluate(X_test_scaled_2d, y_test)"
   ]
  },
  {
   "cell_type": "markdown",
   "id": "8ddc5674-e1e9-421b-bf42-c55f1931f95e",
   "metadata": {},
   "source": [
    "# 성능 향상하기"
   ]
  },
  {
   "cell_type": "code",
   "execution_count": 23,
   "id": "19b4de59-c794-4cab-8dd6-f779d07577a1",
   "metadata": {},
   "outputs": [
    {
     "data": {
      "text/plain": [
       "'\\n<성능 향상 방버>\\n - 데이터 양 증가시키기\\n - 하이퍼파라미터 튜닝\\n - 레이러 계층 추가 또는 제거\\n'"
      ]
     },
     "execution_count": 23,
     "metadata": {},
     "output_type": "execute_result"
    }
   ],
   "source": [
    "\"\"\"\n",
    "<성능 향상 방버>\n",
    " - 데이터 양 증가시키기\n",
    " - 하이퍼파라미터 튜닝\n",
    " - 레이러 계층 추가 또는 제거\n",
    "\"\"\""
   ]
  },
  {
   "cell_type": "markdown",
   "id": "b938b123-d960-4ce8-8095-596578917d9c",
   "metadata": {},
   "source": [
    "# 성능향상을 위한 은닉계층 추가"
   ]
  },
  {
   "cell_type": "code",
   "execution_count": 48,
   "id": "2aaeb75d-594b-42b6-b686-8a16da735dc3",
   "metadata": {},
   "outputs": [
    {
     "data": {
      "text/plain": [
       "<keras.engine.sequential.Sequential at 0x199692d12b0>"
      ]
     },
     "execution_count": 48,
     "metadata": {},
     "output_type": "execute_result"
    }
   ],
   "source": [
    "model = keras.Sequential()\n",
    "model"
   ]
  },
  {
   "cell_type": "code",
   "execution_count": 49,
   "id": "3ceaf06d-be16-4da7-ac6a-2cffadac76f2",
   "metadata": {},
   "outputs": [],
   "source": [
    "# 입력 계층(Input Layer) 생성\n",
    "# - 차원 축소 계층으로 생성(전처리 계층) : flatten()\n",
    "model.add(\n",
    "    keras.layers.Flatten(\n",
    "        input_shape=(28,28),\n",
    "        name=\"Flatten_input_Layer\"\n",
    "    )\n",
    ")"
   ]
  },
  {
   "cell_type": "code",
   "execution_count": 50,
   "id": "f40d2dbf-f886-4c9b-8f62-a8d87f16827a",
   "metadata": {},
   "outputs": [],
   "source": [
    "# 은닉 계층(Hidden Layer) 생성\n",
    "model.add(\n",
    "    keras.layers.Dense(\n",
    "        units=100,\n",
    "        activation=\"relu\",\n",
    "        name=\"Hidden_Layer\"\n",
    "    )\n",
    ")"
   ]
  },
  {
   "cell_type": "code",
   "execution_count": 51,
   "id": "f8fdeabb-e897-4cf9-bf01-9e52e2d0b563",
   "metadata": {},
   "outputs": [],
   "source": [
    "# 출력 계층(Output Layer) 생성\n",
    "model.add(\n",
    "    keras.layers.Dense(\n",
    "        units=10,\n",
    "        activation=\"softmax\",\n",
    "        name=\"Output_Layer\"\n",
    "    )\n",
    ")"
   ]
  },
  {
   "cell_type": "code",
   "execution_count": 28,
   "id": "213869c8-be13-4516-9369-6e04e3b92beb",
   "metadata": {},
   "outputs": [
    {
     "name": "stdout",
     "output_type": "stream",
     "text": [
      "Model: \"sequential_2\"\n",
      "_________________________________________________________________\n",
      " Layer (type)                Output Shape              Param #   \n",
      "=================================================================\n",
      " Flatten_input_Layer (Flatte  (None, 784)              0         \n",
      " n)                                                              \n",
      "                                                                 \n",
      " Hidden_Layer (Dense)        (None, 100)               78500     \n",
      "                                                                 \n",
      " Output_Layer (Dense)        (None, 10)                1010      \n",
      "                                                                 \n",
      "=================================================================\n",
      "Total params: 79,510\n",
      "Trainable params: 79,510\n",
      "Non-trainable params: 0\n",
      "_________________________________________________________________\n"
     ]
    }
   ],
   "source": [
    "model.summary()"
   ]
  },
  {
   "cell_type": "code",
   "execution_count": 29,
   "id": "18a40ac3-45d6-424f-b579-8563bdaf9850",
   "metadata": {},
   "outputs": [],
   "source": [
    "model.compile(\n",
    "    loss=\"sparse_categorical_crossentropy\",\n",
    "    metrics=\"accuracy\"\n",
    ")"
   ]
  },
  {
   "cell_type": "code",
   "execution_count": 30,
   "id": "e55573dd-4147-4c6e-937c-ea446c608935",
   "metadata": {},
   "outputs": [],
   "source": [
    "(X_train, y_train), (X_test, y_test) = keras.datasets.fashion_mnist.load_data()"
   ]
  },
  {
   "cell_type": "code",
   "execution_count": 31,
   "id": "5e136f97-dba9-4c58-be8a-1eed37290619",
   "metadata": {},
   "outputs": [
    {
     "data": {
      "text/plain": [
       "((60000, 28, 28), (10000, 28, 28))"
      ]
     },
     "execution_count": 31,
     "metadata": {},
     "output_type": "execute_result"
    }
   ],
   "source": [
    "X_train_scaled = X_train / 255.0\n",
    "X_test_scaled = X_test / 255.0\n",
    "X_train_scaled.shape, X_test_scaled.shape"
   ]
  },
  {
   "cell_type": "code",
   "execution_count": 32,
   "id": "a61f619b-9ccc-4eb8-a8ae-2753d826f5e7",
   "metadata": {},
   "outputs": [],
   "source": [
    "X_train_scaled, X_val_scaled, y_train, y_val  = train_test_split(X_train_scaled, y_train, random_state=42, test_size=0.2)"
   ]
  },
  {
   "cell_type": "code",
   "execution_count": 33,
   "id": "462b503d-ecb0-45b9-a784-bdb309be0574",
   "metadata": {
    "scrolled": true
   },
   "outputs": [
    {
     "name": "stdout",
     "output_type": "stream",
     "text": [
      "Epoch 1/50\n",
      "1500/1500 [==============================] - 3s 2ms/step - loss: 0.5336 - accuracy: 0.8090\n",
      "Epoch 2/50\n",
      "1500/1500 [==============================] - 3s 2ms/step - loss: 0.3934 - accuracy: 0.8579\n",
      "Epoch 3/50\n",
      "1500/1500 [==============================] - 3s 2ms/step - loss: 0.3554 - accuracy: 0.8717\n",
      "Epoch 4/50\n",
      "1500/1500 [==============================] - 3s 2ms/step - loss: 0.3342 - accuracy: 0.8801\n",
      "Epoch 5/50\n",
      "1500/1500 [==============================] - 2s 2ms/step - loss: 0.3177 - accuracy: 0.8866\n",
      "Epoch 6/50\n",
      "1500/1500 [==============================] - 3s 2ms/step - loss: 0.3103 - accuracy: 0.8915\n",
      "Epoch 7/50\n",
      "1500/1500 [==============================] - 3s 2ms/step - loss: 0.2989 - accuracy: 0.8952\n",
      "Epoch 8/50\n",
      "1500/1500 [==============================] - 3s 2ms/step - loss: 0.2912 - accuracy: 0.8974\n",
      "Epoch 9/50\n",
      "1500/1500 [==============================] - 3s 2ms/step - loss: 0.2835 - accuracy: 0.9020\n",
      "Epoch 10/50\n",
      "1500/1500 [==============================] - 3s 2ms/step - loss: 0.2798 - accuracy: 0.9025\n",
      "Epoch 11/50\n",
      "1500/1500 [==============================] - 3s 2ms/step - loss: 0.2717 - accuracy: 0.9047\n",
      "Epoch 12/50\n",
      "1500/1500 [==============================] - 3s 2ms/step - loss: 0.2660 - accuracy: 0.9068\n",
      "Epoch 13/50\n",
      "1500/1500 [==============================] - 3s 2ms/step - loss: 0.2604 - accuracy: 0.9091\n",
      "Epoch 14/50\n",
      "1500/1500 [==============================] - 2s 2ms/step - loss: 0.2566 - accuracy: 0.9117\n",
      "Epoch 15/50\n",
      "1500/1500 [==============================] - 2s 2ms/step - loss: 0.2497 - accuracy: 0.9155\n",
      "Epoch 16/50\n",
      "1500/1500 [==============================] - 3s 2ms/step - loss: 0.2464 - accuracy: 0.9166\n",
      "Epoch 17/50\n",
      "1500/1500 [==============================] - 2s 2ms/step - loss: 0.2426 - accuracy: 0.9181\n",
      "Epoch 18/50\n",
      "1500/1500 [==============================] - 3s 2ms/step - loss: 0.2393 - accuracy: 0.9185\n",
      "Epoch 19/50\n",
      "1500/1500 [==============================] - 3s 2ms/step - loss: 0.2351 - accuracy: 0.9202\n",
      "Epoch 20/50\n",
      "1500/1500 [==============================] - 2s 2ms/step - loss: 0.2333 - accuracy: 0.9227\n",
      "Epoch 21/50\n",
      "1500/1500 [==============================] - 2s 2ms/step - loss: 0.2274 - accuracy: 0.9227\n",
      "Epoch 22/50\n",
      "1500/1500 [==============================] - 3s 2ms/step - loss: 0.2242 - accuracy: 0.9260\n",
      "Epoch 23/50\n",
      "1500/1500 [==============================] - 3s 2ms/step - loss: 0.2220 - accuracy: 0.9263\n",
      "Epoch 24/50\n",
      "1500/1500 [==============================] - 2s 2ms/step - loss: 0.2210 - accuracy: 0.9271\n",
      "Epoch 25/50\n",
      "1500/1500 [==============================] - 3s 2ms/step - loss: 0.2152 - accuracy: 0.9294\n",
      "Epoch 26/50\n",
      "1500/1500 [==============================] - 3s 2ms/step - loss: 0.2119 - accuracy: 0.9294\n",
      "Epoch 27/50\n",
      "1500/1500 [==============================] - 2s 2ms/step - loss: 0.2075 - accuracy: 0.9320\n",
      "Epoch 28/50\n",
      "1500/1500 [==============================] - 3s 2ms/step - loss: 0.2070 - accuracy: 0.9310\n",
      "Epoch 29/50\n",
      "1500/1500 [==============================] - 2s 2ms/step - loss: 0.2055 - accuracy: 0.9330\n",
      "Epoch 30/50\n",
      "1500/1500 [==============================] - 3s 2ms/step - loss: 0.2008 - accuracy: 0.9341\n",
      "Epoch 31/50\n",
      "1500/1500 [==============================] - 3s 2ms/step - loss: 0.1986 - accuracy: 0.9344\n",
      "Epoch 32/50\n",
      "1500/1500 [==============================] - 3s 2ms/step - loss: 0.1975 - accuracy: 0.9360\n",
      "Epoch 33/50\n",
      "1500/1500 [==============================] - 3s 2ms/step - loss: 0.1906 - accuracy: 0.9375\n",
      "Epoch 34/50\n",
      "1500/1500 [==============================] - 3s 2ms/step - loss: 0.1929 - accuracy: 0.9365\n",
      "Epoch 35/50\n",
      "1500/1500 [==============================] - 3s 2ms/step - loss: 0.1884 - accuracy: 0.9380\n",
      "Epoch 36/50\n",
      "1500/1500 [==============================] - 3s 2ms/step - loss: 0.1880 - accuracy: 0.9389\n",
      "Epoch 37/50\n",
      "1500/1500 [==============================] - 3s 2ms/step - loss: 0.1805 - accuracy: 0.9417\n",
      "Epoch 38/50\n",
      "1500/1500 [==============================] - 3s 2ms/step - loss: 0.1819 - accuracy: 0.9408\n",
      "Epoch 39/50\n",
      "1500/1500 [==============================] - 3s 2ms/step - loss: 0.1768 - accuracy: 0.9429\n",
      "Epoch 40/50\n",
      "1500/1500 [==============================] - 3s 2ms/step - loss: 0.1763 - accuracy: 0.9432\n",
      "Epoch 41/50\n",
      "1500/1500 [==============================] - 3s 2ms/step - loss: 0.1763 - accuracy: 0.9431\n",
      "Epoch 42/50\n",
      "1500/1500 [==============================] - 3s 2ms/step - loss: 0.1735 - accuracy: 0.9451\n",
      "Epoch 43/50\n",
      "1500/1500 [==============================] - 2s 2ms/step - loss: 0.1730 - accuracy: 0.9456\n",
      "Epoch 44/50\n",
      "1500/1500 [==============================] - 3s 2ms/step - loss: 0.1700 - accuracy: 0.9458\n",
      "Epoch 45/50\n",
      "1500/1500 [==============================] - 2s 2ms/step - loss: 0.1668 - accuracy: 0.9469\n",
      "Epoch 46/50\n",
      "1500/1500 [==============================] - 3s 2ms/step - loss: 0.1675 - accuracy: 0.9469\n",
      "Epoch 47/50\n",
      "1500/1500 [==============================] - 2s 2ms/step - loss: 0.1676 - accuracy: 0.9467\n",
      "Epoch 48/50\n",
      "1500/1500 [==============================] - 3s 2ms/step - loss: 0.1600 - accuracy: 0.9480\n",
      "Epoch 49/50\n",
      "1500/1500 [==============================] - 3s 2ms/step - loss: 0.1634 - accuracy: 0.9487\n",
      "Epoch 50/50\n",
      "1500/1500 [==============================] - 3s 2ms/step - loss: 0.1556 - accuracy: 0.9508\n"
     ]
    },
    {
     "data": {
      "text/plain": [
       "<keras.callbacks.History at 0x19968d72250>"
      ]
     },
     "execution_count": 33,
     "metadata": {},
     "output_type": "execute_result"
    }
   ],
   "source": [
    "model.fit(X_train_scaled, y_train, epochs=50)"
   ]
  },
  {
   "cell_type": "code",
   "execution_count": 34,
   "id": "d327f727-03cd-4a8a-8ebf-ca94518bef3e",
   "metadata": {},
   "outputs": [
    {
     "name": "stdout",
     "output_type": "stream",
     "text": [
      "1500/1500 [==============================] - 2s 1ms/step - loss: 0.1306 - accuracy: 0.9568\n"
     ]
    },
    {
     "data": {
      "text/plain": [
       "[0.13061928749084473, 0.9568125009536743]"
      ]
     },
     "execution_count": 34,
     "metadata": {},
     "output_type": "execute_result"
    }
   ],
   "source": [
    "model.evaluate(X_train_scaled, y_train)"
   ]
  },
  {
   "cell_type": "code",
   "execution_count": 35,
   "id": "5100d71d-738b-4014-8b96-ac9eb01209db",
   "metadata": {},
   "outputs": [
    {
     "name": "stdout",
     "output_type": "stream",
     "text": [
      "375/375 [==============================] - 1s 1ms/step - loss: 0.6739 - accuracy: 0.8809\n"
     ]
    },
    {
     "data": {
      "text/plain": [
       "[0.6738640666007996, 0.8809166550636292]"
      ]
     },
     "execution_count": 35,
     "metadata": {},
     "output_type": "execute_result"
    }
   ],
   "source": [
    "model.evaluate(X_val_scaled, y_val)"
   ]
  },
  {
   "cell_type": "code",
   "execution_count": 36,
   "id": "4ea9960a-d6bf-4f5d-9a9d-08aa85ca5c48",
   "metadata": {
    "scrolled": true
   },
   "outputs": [
    {
     "name": "stdout",
     "output_type": "stream",
     "text": [
      "313/313 [==============================] - 1s 2ms/step - loss: 0.7528 - accuracy: 0.8720\n"
     ]
    },
    {
     "data": {
      "text/plain": [
       "[0.7528171539306641, 0.871999979019165]"
      ]
     },
     "execution_count": 36,
     "metadata": {},
     "output_type": "execute_result"
    }
   ],
   "source": [
    "model.evaluate(X_test_scaled, y_test)"
   ]
  },
  {
   "cell_type": "markdown",
   "id": "5f6c3f9d-94b3-4379-850a-3040124e1d53",
   "metadata": {},
   "source": [
    "# 성능 향상하기 : 옵티마이저(Optimizer) 하이퍼파라미터 사용하기"
   ]
  },
  {
   "cell_type": "code",
   "execution_count": 37,
   "id": "ead06b3d-827f-426d-9cdd-218655740a91",
   "metadata": {},
   "outputs": [],
   "source": [
    "# - 옵티마이저는 모델 환경설정, 즉 컨파일(compile) 시에 설정한다."
   ]
  },
  {
   "cell_type": "code",
   "execution_count": 38,
   "id": "fdec7a05-20d7-4d14-8c76-dd385f442757",
   "metadata": {},
   "outputs": [
    {
     "data": {
      "text/plain": [
       "'\\n<옵티마이저(Optimizer, 최적화) 기법>\\n - 손실을 줄여나가기 위한 최적화(Optimizer) 방법을 의미함\\n - 손실을 줄여나가는 최적화 방법으로 \"경사하강법\" 이론이 적용됩니다.\\n - 특성들의 시작 위치에서 목적지(종속변수 위치)까지 도달하기 위한\\n   기울어진 방향을 찾기 위한 방법을 의미합니다.\\n - \"경사하강법\" 이론을 적용한 여러가지 방법들중 하나를 선택하여 정의\\n - 옵티마이저(최적화) 방법 \\n   : SGD(확률적경사하강법) < Adagrad < RMSProp < Adam, 이외 등등\\n - 옵티마이저 설정 위치 : model.compile(optimizer=\"옵티마이저(최적화) 방법중 1개\")\\n \\n<옵티마이저(최적화) 방법 정의>\\n * SGD(확률적 경사하강법)\\n  - 특성이 현재 위치에서 목적지까지 도달하는 과정 중에 보폭을 크게하여\\n    많은 길을 거치면서(극단적으로 방향을 바꿉니다.) 빠르게 탐색\\n  - 지그 재그 모양으로 탐색하면서 나아가는 방법\\n  - 아래 옵티마이저 방법들은 SGD를 근간으로 향상된 방법들 입니다.\\n  - 단점 : 보폭을 크게하면서 방향을 근단적으로 바꾸기 때문에 \\n           주변을 정밀하게 확인하기 어려움\\n         : 보폭을 크게하기 때문에, 목적지를 건너 띄는 경우도 발생함\\n                                 (종속변수를 잘 못 찾는 경우 발생)\\n   \\n * Adagrad\\n  - SGD의 큰 보폭에 대한 단점을 보완한 방법...\\n  - 학습률(보폭)을 적절하게 설정하기 위해 학습률 감소(보폭을 짧게)라는 기술 사용\\n  - 학습 진행 중에 학습률을 줄여가는 방법 사용\\n  - 처음에는 학습률(보폭)을 크게 학습하다가,\\n    점점 작게(보폭을 짧게) 학습한다는 개념을 적용\\n  - 이미 학습된 곳은 보폭을 크게하고, 학습이 완료되었던 곳은 보폭을 짧게 세밀하게 탐색\\n  - 손실이 더 이상 줄어들지 않으면(손실이 0이면) 종료\\n  - 단점, 목적지에 도달하지 않더라도 손실이 0이면 종료하는 단점이 있음\\n \\n * RMSProp\\n  - Adagrad는 학습량을 점점 작게 학습하기 때문에\\n    학습률(보폭)이 0이 되어 갱신되지 않는(학습되지 않는) 시점이 발생할 수 있는 \\n    단점이 있음.\\n  - Adagrad의 단점을 보완하여,\\n    과거(이전)의 기울기 값을 반영하는 방식을 적용함\\n  - 먼 과거의 기울기(경사) 값은 조금만 반영하고,\\n    최근 기울기(경사)를 많이 반영하는 방식으로 처리됨\\n  - 과거 데이터를 저장해 놓아야 하기 때문에, 다소 훈련 시간이 걸림\\n  - 옵티마이저의 기본값(default)으로 사용됨, 생략가능\\n  \\n * Adam\\n  - 공이 굴러가듯이 모멘텀(Momentum, 관성=방향담당)과 RMSProp을 융합한 방법\\n  - 방향(momentum)과 학습률(보폭)을 적절하게하여 탐색함\\n  - 자주 사용되는 기법으로, 좋은 결과를  얻을 수 있는 방법으로 유명함\\n  \\n * Momentum(모멘텀)\\n  - 관성과 가속도를 적용하여 이동하던 방향으로 좀 더 유연하게 작동함\\n  - 메모리 사용이 많은 단점이 있음\\n    (과거 데이터를 저장해 놓고, 다음 과정에서 방향성(관성)을 이어 받아서 사용하게 됨)\\n'"
      ]
     },
     "execution_count": 38,
     "metadata": {},
     "output_type": "execute_result"
    }
   ],
   "source": [
    "\"\"\"\n",
    "<옵티마이저(Optimizer, 최적화) 기법>\n",
    " - 손실을 줄여나가기 위한 최적화(Optimizer) 방법을 의미함\n",
    " - 손실을 줄여나가는 최적화 방법으로 \"경사하강법\" 이론이 적용됩니다.\n",
    " - 특성들의 시작 위치에서 목적지(종속변수 위치)까지 도달하기 위한\n",
    "   기울어진 방향을 찾기 위한 방법을 의미합니다.\n",
    " - \"경사하강법\" 이론을 적용한 여러가지 방법들중 하나를 선택하여 정의\n",
    " - 옵티마이저(최적화) 방법 \n",
    "   : SGD(확률적경사하강법) < Adagrad < RMSProp < Adam, 이외 등등\n",
    " - 옵티마이저 설정 위치 : model.compile(optimizer=\"옵티마이저(최적화) 방법중 1개\")\n",
    " \n",
    "<옵티마이저(최적화) 방법 정의>\n",
    " * SGD(확률적 경사하강법)\n",
    "  - 특성이 현재 위치에서 목적지까지 도달하는 과정 중에 보폭을 크게하여\n",
    "    많은 길을 거치면서(극단적으로 방향을 바꿉니다.) 빠르게 탐색\n",
    "  - 지그 재그 모양으로 탐색하면서 나아가는 방법\n",
    "  - 아래 옵티마이저 방법들은 SGD를 근간으로 향상된 방법들 입니다.\n",
    "  - 단점 : 보폭을 크게하면서 방향을 근단적으로 바꾸기 때문에 \n",
    "           주변을 정밀하게 확인하기 어려움\n",
    "         : 보폭을 크게하기 때문에, 목적지를 건너 띄는 경우도 발생함\n",
    "                                 (종속변수를 잘 못 찾는 경우 발생)\n",
    "   \n",
    " * Adagrad\n",
    "  - SGD의 큰 보폭에 대한 단점을 보완한 방법...\n",
    "  - 학습률(보폭)을 적절하게 설정하기 위해 학습률 감소(보폭을 짧게)라는 기술 사용\n",
    "  - 학습 진행 중에 학습률을 줄여가는 방법 사용\n",
    "  - 처음에는 학습률(보폭)을 크게 학습하다가,\n",
    "    점점 작게(보폭을 짧게) 학습한다는 개념을 적용\n",
    "  - 이미 학습된 곳은 보폭을 크게하고, 학습이 완료되었던 곳은 보폭을 짧게 세밀하게 탐색\n",
    "  - 손실이 더 이상 줄어들지 않으면(손실이 0이면) 종료\n",
    "  - 단점, 목적지에 도달하지 않더라도 손실이 0이면 종료하는 단점이 있음\n",
    " \n",
    " * RMSProp\n",
    "  - Adagrad는 학습량을 점점 작게 학습하기 때문에\n",
    "    학습률(보폭)이 0이 되어 갱신되지 않는(학습되지 않는) 시점이 발생할 수 있는 \n",
    "    단점이 있음.\n",
    "  - Adagrad의 단점을 보완하여,\n",
    "    과거(이전)의 기울기 값을 반영하는 방식을 적용함\n",
    "  - 먼 과거의 기울기(경사) 값은 조금만 반영하고,\n",
    "    최근 기울기(경사)를 많이 반영하는 방식으로 처리됨\n",
    "  - 과거 데이터를 저장해 놓아야 하기 때문에, 다소 훈련 시간이 걸림\n",
    "  - 옵티마이저의 기본값(default)으로 사용됨, 생략가능\n",
    "  \n",
    " * Adam\n",
    "  - 공이 굴러가듯이 모멘텀(Momentum, 관성=방향담당)과 RMSProp을 융합한 방법\n",
    "  - 방향(momentum)과 학습률(보폭)을 적절하게하여 탐색함\n",
    "  - 자주 사용되는 기법으로, 좋은 결과를  얻을 수 있는 방법으로 유명함\n",
    "  \n",
    " * Momentum(모멘텀)\n",
    "  - 관성과 가속도를 적용하여 이동하던 방향으로 좀 더 유연하게 작동함\n",
    "  - 메모리 사용이 많은 단점이 있음\n",
    "    (과거 데이터를 저장해 놓고, 다음 과정에서 방향성(관성)을 이어 받아서 사용하게 됨)\n",
    "\"\"\""
   ]
  },
  {
   "cell_type": "code",
   "execution_count": null,
   "id": "665985c4-ee36-4796-9134-a5a0132d426a",
   "metadata": {},
   "outputs": [],
   "source": [
    "model = keras.Sequential()\n",
    "\n",
    "# 입력 계층(Input Layer) 생성\n",
    "# - 차원 축소 계층으로 생성(전처리 계층) : flatten()\n",
    "model.add(\n",
    "    keras.layers.Flatten(\n",
    "        input_shape=(28,28),\n",
    "        name=\"Flatten_input_Layer\"\n",
    "    )\n",
    ")\n",
    "\n",
    "# 은닉 계층(Hidden Layer) 생성\n",
    "model.add(\n",
    "    keras.layers.Dense(\n",
    "        units=100,\n",
    "        activation=\"relu\",\n",
    "        name=\"Hidden_Layer\"\n",
    "    )\n",
    ")\n",
    "\n",
    "# 출력 계층(Output Layer) 생성\n",
    "model.add(\n",
    "    keras.layers.Dense(\n",
    "        units=10,\n",
    "        activation=\"softmax\",\n",
    "        name=\"Output_Layer\"\n",
    "    )\n",
    ")"
   ]
  },
  {
   "cell_type": "code",
   "execution_count": 52,
   "id": "f64720cc-b0ca-4da2-b6b4-5c7b4451ab5a",
   "metadata": {},
   "outputs": [],
   "source": [
    "# 모델 환경 설정 (compile)\n",
    "# - 기존 모델엣 설정값이 바뀔 경우에는 모델을 새로 생성하지 않고\n",
    "# 설정값만 변경하여, 훈현(fit) 시키면 됨\n",
    "model.compile(\n",
    "    optimizer=\"sgd\",\n",
    "    loss=\"sparse_categorical_crossentropy\",\n",
    "    metrics=\"accuracy\"\n",
    ")"
   ]
  },
  {
   "cell_type": "code",
   "execution_count": 53,
   "id": "5c083302-9d88-4c6c-ae7b-d2aad075abc9",
   "metadata": {
    "scrolled": true
   },
   "outputs": [
    {
     "name": "stdout",
     "output_type": "stream",
     "text": [
      "Epoch 1/15\n",
      "1500/1500 [==============================] - 3s 1ms/step - loss: 0.7983 - accuracy: 0.7397\n",
      "Epoch 2/15\n",
      "1500/1500 [==============================] - 2s 1ms/step - loss: 0.5354 - accuracy: 0.8190\n",
      "Epoch 3/15\n",
      "1500/1500 [==============================] - 2s 1ms/step - loss: 0.4857 - accuracy: 0.8333\n",
      "Epoch 4/15\n",
      "1500/1500 [==============================] - 2s 1ms/step - loss: 0.4567 - accuracy: 0.8422\n",
      "Epoch 5/15\n",
      "1500/1500 [==============================] - 2s 1ms/step - loss: 0.4375 - accuracy: 0.8491\n",
      "Epoch 6/15\n",
      "1500/1500 [==============================] - 2s 1ms/step - loss: 0.4243 - accuracy: 0.8530\n",
      "Epoch 7/15\n",
      "1500/1500 [==============================] - 2s 1ms/step - loss: 0.4112 - accuracy: 0.8569\n",
      "Epoch 8/15\n",
      "1500/1500 [==============================] - 2s 1ms/step - loss: 0.4016 - accuracy: 0.8605\n",
      "Epoch 9/15\n",
      "1500/1500 [==============================] - 2s 1ms/step - loss: 0.3910 - accuracy: 0.8645\n",
      "Epoch 10/15\n",
      "1500/1500 [==============================] - 2s 1ms/step - loss: 0.3839 - accuracy: 0.8670\n",
      "Epoch 11/15\n",
      "1500/1500 [==============================] - 2s 1ms/step - loss: 0.3766 - accuracy: 0.8693\n",
      "Epoch 12/15\n",
      "1500/1500 [==============================] - 2s 2ms/step - loss: 0.3699 - accuracy: 0.8714\n",
      "Epoch 13/15\n",
      "1500/1500 [==============================] - 2s 1ms/step - loss: 0.3635 - accuracy: 0.8726\n",
      "Epoch 14/15\n",
      "1500/1500 [==============================] - 2s 1ms/step - loss: 0.3580 - accuracy: 0.8750\n",
      "Epoch 15/15\n",
      "1500/1500 [==============================] - 2s 1ms/step - loss: 0.3530 - accuracy: 0.8771\n"
     ]
    },
    {
     "data": {
      "text/plain": [
       "<keras.callbacks.History at 0x19969320c70>"
      ]
     },
     "execution_count": 53,
     "metadata": {},
     "output_type": "execute_result"
    }
   ],
   "source": [
    "model.fit(X_train_scaled, y_train, epochs=15)"
   ]
  },
  {
   "cell_type": "code",
   "execution_count": 54,
   "id": "37c00a02-6b73-4e4f-a8f1-1935e2ec0083",
   "metadata": {},
   "outputs": [
    {
     "name": "stdout",
     "output_type": "stream",
     "text": [
      "375/375 [==============================] - 1s 1ms/step - loss: 0.3713 - accuracy: 0.8698\n"
     ]
    },
    {
     "data": {
      "text/plain": [
       "[0.37127143144607544, 0.8698333501815796]"
      ]
     },
     "execution_count": 54,
     "metadata": {},
     "output_type": "execute_result"
    }
   ],
   "source": [
    "model.evaluate(X_val_scaled, y_val)"
   ]
  },
  {
   "cell_type": "code",
   "execution_count": null,
   "id": "1fb9b782-6890-43f3-a830-a0b182bd78db",
   "metadata": {},
   "outputs": [],
   "source": [
    "\"\"\"\n",
    "<학습률(Learning Rate)>\n",
    " - 경사를 내려 올 때의 \"보폭\"이라고 이해\n",
    " - 옵티마이저 4개는 객체(클래스)로 되어 있습니다.\n",
    " - 클래스 생성 시에 학습률(learning_rate)을 정의 할 수 있습니다.\n",
    " - 학습률이 작을  수록 -> 보폭이 작음\n",
    "           높을 수록  -> 보폭이 큼\n",
    " - 가장 손실이 작은 위치를 찾아서 움직이도록 작동됩니다.\n",
    " - 이때 가장 손실이 작은 위치는 모델이 스스로 찾아주기에 사람이 관여하지 않습니다.\n",
    " - 학습률(learning_rate) 값의 범위 : 0.1~0.0001 (기본값은 0.01, 생략가능)\n",
    " - 학습률의 값에 따라서 -> 훈련 성능에 영향을 미치기에\n",
    "                           => 하이퍼파라메터 대상이 됩니다.\n",
    "\n",
    " - 과적합을 해소하기 위한 튜닝 방법으로 사용되기도 합니다.\n",
    "   * 과대적합이 발생한 경우 : 학습률을 크게(보폭을 크게) 합니다.\n",
    "   * 과소적합이 발생한 경우 : 학습률을 작게(보폭을 작게) 합니다.\n",
    "\"\"\""
   ]
  },
  {
   "cell_type": "code",
   "execution_count": 55,
   "id": "94a8601a-ee50-48a8-80a4-6fdbab97c728",
   "metadata": {},
   "outputs": [],
   "source": [
    "# 학습률 옵티마이저에 적용하기\n",
    "# - 학습률 0.1 사용\n",
    "sgd = keras.optimizers.SGD(learning_rate=0.1)\n",
    "\n",
    "model.compile(\n",
    "    optimizer=\"sgd\",\n",
    "    loss=\"sparse_categorical_crossentropy\",\n",
    "    metrics=\"accuracy\",\n",
    "    \n",
    ")"
   ]
  },
  {
   "cell_type": "code",
   "execution_count": 56,
   "id": "88706047-63c2-4d4e-a16f-6a3f009e3d2f",
   "metadata": {
    "scrolled": true
   },
   "outputs": [
    {
     "name": "stdout",
     "output_type": "stream",
     "text": [
      "Epoch 1/15\n",
      "1500/1500 [==============================] - 3s 1ms/step - loss: 0.3483 - accuracy: 0.8772\n",
      "Epoch 2/15\n",
      "1500/1500 [==============================] - 2s 2ms/step - loss: 0.3431 - accuracy: 0.8793\n",
      "Epoch 3/15\n",
      "1500/1500 [==============================] - 2s 1ms/step - loss: 0.3395 - accuracy: 0.8820\n",
      "Epoch 4/15\n",
      "1500/1500 [==============================] - 2s 1ms/step - loss: 0.3345 - accuracy: 0.8829\n",
      "Epoch 5/15\n",
      "1500/1500 [==============================] - 2s 1ms/step - loss: 0.3302 - accuracy: 0.8834\n",
      "Epoch 6/15\n",
      "1500/1500 [==============================] - 2s 1ms/step - loss: 0.3281 - accuracy: 0.8842\n",
      "Epoch 7/15\n",
      "1500/1500 [==============================] - 2s 1ms/step - loss: 0.3233 - accuracy: 0.8867\n",
      "Epoch 8/15\n",
      "1500/1500 [==============================] - 2s 1ms/step - loss: 0.3205 - accuracy: 0.8867\n",
      "Epoch 9/15\n",
      "1500/1500 [==============================] - 2s 2ms/step - loss: 0.3159 - accuracy: 0.8887\n",
      "Epoch 10/15\n",
      "1500/1500 [==============================] - 2s 1ms/step - loss: 0.3133 - accuracy: 0.8889\n",
      "Epoch 11/15\n",
      "1500/1500 [==============================] - 2s 1ms/step - loss: 0.3098 - accuracy: 0.8905\n",
      "Epoch 12/15\n",
      "1500/1500 [==============================] - 2s 1ms/step - loss: 0.3069 - accuracy: 0.8912\n",
      "Epoch 13/15\n",
      "1500/1500 [==============================] - 2s 1ms/step - loss: 0.3038 - accuracy: 0.8924\n",
      "Epoch 14/15\n",
      "1500/1500 [==============================] - 2s 1ms/step - loss: 0.3008 - accuracy: 0.8937\n",
      "Epoch 15/15\n",
      "1500/1500 [==============================] - 2s 1ms/step - loss: 0.2982 - accuracy: 0.8947\n"
     ]
    },
    {
     "data": {
      "text/plain": [
       "<keras.callbacks.History at 0x1996b34f280>"
      ]
     },
     "execution_count": 56,
     "metadata": {},
     "output_type": "execute_result"
    }
   ],
   "source": [
    "model.fit(X_train_scaled, y_train, epochs=15)"
   ]
  },
  {
   "cell_type": "code",
   "execution_count": 57,
   "id": "1d520d42-5fee-4f74-8627-3551995796e9",
   "metadata": {},
   "outputs": [
    {
     "data": {
      "text/plain": [
       "'\\n<모멘텀(momentum)>\\n - 과거에 학습된 방향(기울기)를 기억하고 있다가,\\n   다음의 학습 방향을 찾을 때 -> 관성을 적용시키는 방법\\n - 기본적으로 0.9 이상의 값을 사용합니다.\\n   (기본값 = 0)\\n - 보통 nesterov=True 속성과 함께 사용됩니다.\\n   * nesterov : 모멘텀 방향보다 조금더 앞서서 경사를 계산해 놓는 방식(미리 체크)\\n              : 미리 알고 있어야 방향에 관성을 적용하여 명확하게 탐색할 수 있음\\n - 모멘텀 속성을 사용할 수 있는 옵티마이저 : 주로 SGD 및 Adam\\n'"
      ]
     },
     "execution_count": 57,
     "metadata": {},
     "output_type": "execute_result"
    }
   ],
   "source": [
    "\"\"\"\n",
    "<모멘텀(momentum)>\n",
    " - 과거에 학습된 방향(기울기)를 기억하고 있다가,\n",
    "   다음의 학습 방향을 찾을 때 -> 관성을 적용시키는 방법\n",
    " - 기본적으로 0.9 이상의 값을 사용합니다.\n",
    "   (기본값 = 0)\n",
    " - 보통 nesterov=True 속성과 함께 사용됩니다.\n",
    "   * nesterov : 모멘텀 방향보다 조금더 앞서서 경사를 계산해 놓는 방식(미리 체크)\n",
    "              : 미리 알고 있어야 방향에 관성을 적용하여 명확하게 탐색할 수 있음\n",
    " - 모멘텀 속성을 사용할 수 있는 옵티마이저 : 주로 SGD 및 Adam\n",
    "\"\"\""
   ]
  },
  {
   "cell_type": "code",
   "execution_count": 58,
   "id": "bb47ae3e-df4f-4462-86ba-b71f8fd5d19b",
   "metadata": {},
   "outputs": [],
   "source": [
    "# 학습률 옵티마이저에 적용하기\n",
    "# - 학습률 0.1 사용\n",
    "sgd = keras.optimizers.SGD(\n",
    "    learning_rate=0.1,\n",
    "    nesterov=True,\n",
    "    momentum=0.9\n",
    ")\n",
    "\n",
    "model.compile(\n",
    "    optimizer=\"sgd\",\n",
    "    loss=\"sparse_categorical_crossentropy\",\n",
    "    metrics=\"accuracy\",\n",
    "    \n",
    ")"
   ]
  },
  {
   "cell_type": "code",
   "execution_count": 59,
   "id": "fda9da6c-f54e-4aa0-9af1-b52d885a8b21",
   "metadata": {
    "scrolled": true
   },
   "outputs": [
    {
     "name": "stdout",
     "output_type": "stream",
     "text": [
      "Epoch 1/15\n",
      "1500/1500 [==============================] - 3s 1ms/step - loss: 0.2955 - accuracy: 0.8950\n",
      "Epoch 2/15\n",
      "1500/1500 [==============================] - 2s 1ms/step - loss: 0.2925 - accuracy: 0.8960\n",
      "Epoch 3/15\n",
      "1500/1500 [==============================] - 2s 1ms/step - loss: 0.2907 - accuracy: 0.8964\n",
      "Epoch 4/15\n",
      "1500/1500 [==============================] - 2s 1ms/step - loss: 0.2873 - accuracy: 0.8995\n",
      "Epoch 5/15\n",
      "1500/1500 [==============================] - 2s 1ms/step - loss: 0.2849 - accuracy: 0.8993\n",
      "Epoch 6/15\n",
      "1500/1500 [==============================] - 2s 1ms/step - loss: 0.2839 - accuracy: 0.8992\n",
      "Epoch 7/15\n",
      "1500/1500 [==============================] - 2s 1ms/step - loss: 0.2806 - accuracy: 0.8999\n",
      "Epoch 8/15\n",
      "1500/1500 [==============================] - 2s 1ms/step - loss: 0.2789 - accuracy: 0.9005\n",
      "Epoch 9/15\n",
      "1500/1500 [==============================] - 2s 1ms/step - loss: 0.2754 - accuracy: 0.9025\n",
      "Epoch 10/15\n",
      "1500/1500 [==============================] - 2s 1ms/step - loss: 0.2742 - accuracy: 0.9030\n",
      "Epoch 11/15\n",
      "1500/1500 [==============================] - 2s 1ms/step - loss: 0.2716 - accuracy: 0.9034\n",
      "Epoch 12/15\n",
      "1500/1500 [==============================] - 2s 1ms/step - loss: 0.2697 - accuracy: 0.9048\n",
      "Epoch 13/15\n",
      "1500/1500 [==============================] - 2s 2ms/step - loss: 0.2675 - accuracy: 0.9053\n",
      "Epoch 14/15\n",
      "1500/1500 [==============================] - 2s 1ms/step - loss: 0.2657 - accuracy: 0.9060\n",
      "Epoch 15/15\n",
      "1500/1500 [==============================] - 2s 1ms/step - loss: 0.2637 - accuracy: 0.9060\n"
     ]
    },
    {
     "data": {
      "text/plain": [
       "<keras.callbacks.History at 0x1996b6dacd0>"
      ]
     },
     "execution_count": 59,
     "metadata": {},
     "output_type": "execute_result"
    }
   ],
   "source": [
    "model.fit(X_train_scaled, y_train, epochs=15)"
   ]
  },
  {
   "cell_type": "code",
   "execution_count": 60,
   "id": "2fee8a9a-5255-4a6e-974b-1967c36abce1",
   "metadata": {},
   "outputs": [
    {
     "name": "stdout",
     "output_type": "stream",
     "text": [
      "375/375 [==============================] - 1s 1ms/step - loss: 0.3242 - accuracy: 0.8832\n"
     ]
    },
    {
     "data": {
      "text/plain": [
       "[0.32422783970832825, 0.8831666707992554]"
      ]
     },
     "execution_count": 60,
     "metadata": {},
     "output_type": "execute_result"
    }
   ],
   "source": [
    "model.evaluate(X_val_scaled, y_val)"
   ]
  },
  {
   "cell_type": "code",
   "execution_count": 61,
   "id": "9149cb46-da0f-4e89-8f65-d8627846fda5",
   "metadata": {},
   "outputs": [
    {
     "data": {
      "text/plain": [
       "'\\n - 모델 신규로 생성 : model2\\n - 1차원 전처리 계츨을 입력계층으로 사용\\n - 은닉층 1개 사용 : 활성화함수는 relu 사용, 출력갯수는 100개\\n - 옵티마이저는 adam 사용, 학습률은 0.001 사용\\n - 훈련횟수는 100회\\n - 훈련 및 검증데이터로 성능 검증\\n'"
      ]
     },
     "execution_count": 61,
     "metadata": {},
     "output_type": "execute_result"
    }
   ],
   "source": [
    "\"\"\"\n",
    " - 모델 신규로 생성 : model2\n",
    " - 1차원 전처리 계츨을 입력계층으로 사용\n",
    " - 은닉층 1개 사용 : 활성화함수는 relu 사용, 출력갯수는 100개\n",
    " - 옵티마이저는 adam 사용, 학습률은 0.001 사용\n",
    " - 훈련횟수는 100회\n",
    " - 훈련 및 검증데이터로 성능 검증\n",
    "\"\"\""
   ]
  },
  {
   "cell_type": "code",
   "execution_count": 62,
   "id": "d914dd1d-aad1-44da-bd02-42aebd55431c",
   "metadata": {},
   "outputs": [],
   "source": [
    "model2 = keras.Sequential()\n",
    "\n",
    "model2.add(\n",
    "    keras.layers.Flatten(\n",
    "        input_shape=(28,28),\n",
    "        name=\"Flatten_input_Layer\"\n",
    "    )\n",
    ")\n",
    "\n",
    "model2.add(\n",
    "    keras.layers.Dense(\n",
    "        units=100,\n",
    "        activation=\"relu\",\n",
    "        name=\"Hidden_Layer\"\n",
    "    )\n",
    ")\n",
    "\n",
    "model2.add(\n",
    "    keras.layers.Dense(\n",
    "        units=10,\n",
    "        activation=\"softmax\",\n",
    "        name=\"Output_Layer\"\n",
    "    )\n",
    ")"
   ]
  },
  {
   "cell_type": "code",
   "execution_count": 64,
   "id": "b24830bd-05e2-4c37-bfb9-b7574cc00aeb",
   "metadata": {},
   "outputs": [],
   "source": [
    "adam = keras.optimizers.Adam(\n",
    "    learning_rate=0.001\n",
    ")\n",
    "\n",
    "model2.compile(\n",
    "    optimizer=adam,\n",
    "    loss=\"sparse_categorical_crossentropy\",\n",
    "    metrics=\"accuracy\",\n",
    "    \n",
    ")"
   ]
  },
  {
   "cell_type": "code",
   "execution_count": 65,
   "id": "4b7fe585-af68-4598-965c-54866591f091",
   "metadata": {
    "scrolled": true
   },
   "outputs": [
    {
     "name": "stdout",
     "output_type": "stream",
     "text": [
      "Epoch 1/100\n",
      "1500/1500 [==============================] - 3s 2ms/step - loss: 0.5212 - accuracy: 0.8176\n",
      "Epoch 2/100\n",
      "1500/1500 [==============================] - 2s 2ms/step - loss: 0.3927 - accuracy: 0.8586\n",
      "Epoch 3/100\n",
      "1500/1500 [==============================] - 2s 2ms/step - loss: 0.3538 - accuracy: 0.8714\n",
      "Epoch 4/100\n",
      "1500/1500 [==============================] - 2s 2ms/step - loss: 0.3289 - accuracy: 0.8800\n",
      "Epoch 5/100\n",
      "1500/1500 [==============================] - 2s 2ms/step - loss: 0.3091 - accuracy: 0.8854\n",
      "Epoch 6/100\n",
      "1500/1500 [==============================] - 2s 2ms/step - loss: 0.2927 - accuracy: 0.8929\n",
      "Epoch 7/100\n",
      "1500/1500 [==============================] - 2s 2ms/step - loss: 0.2807 - accuracy: 0.8970\n",
      "Epoch 8/100\n",
      "1500/1500 [==============================] - 2s 2ms/step - loss: 0.2673 - accuracy: 0.9006\n",
      "Epoch 9/100\n",
      "1500/1500 [==============================] - 2s 2ms/step - loss: 0.2590 - accuracy: 0.9030\n",
      "Epoch 10/100\n",
      "1500/1500 [==============================] - 2s 2ms/step - loss: 0.2499 - accuracy: 0.9082\n",
      "Epoch 11/100\n",
      "1500/1500 [==============================] - 3s 2ms/step - loss: 0.2410 - accuracy: 0.9103\n",
      "Epoch 12/100\n",
      "1500/1500 [==============================] - 3s 2ms/step - loss: 0.2358 - accuracy: 0.9126\n",
      "Epoch 13/100\n",
      "1500/1500 [==============================] - 2s 2ms/step - loss: 0.2280 - accuracy: 0.9150\n",
      "Epoch 14/100\n",
      "1500/1500 [==============================] - 2s 2ms/step - loss: 0.2199 - accuracy: 0.9181\n",
      "Epoch 15/100\n",
      "1500/1500 [==============================] - 2s 2ms/step - loss: 0.2148 - accuracy: 0.9194\n",
      "Epoch 16/100\n",
      "1500/1500 [==============================] - 2s 2ms/step - loss: 0.2104 - accuracy: 0.9226\n",
      "Epoch 17/100\n",
      "1500/1500 [==============================] - 2s 2ms/step - loss: 0.2040 - accuracy: 0.9250\n",
      "Epoch 18/100\n",
      "1500/1500 [==============================] - 2s 2ms/step - loss: 0.1985 - accuracy: 0.9255\n",
      "Epoch 19/100\n",
      "1500/1500 [==============================] - 2s 2ms/step - loss: 0.1946 - accuracy: 0.9280\n",
      "Epoch 20/100\n",
      "1500/1500 [==============================] - 2s 2ms/step - loss: 0.1893 - accuracy: 0.9310\n",
      "Epoch 21/100\n",
      "1500/1500 [==============================] - 2s 2ms/step - loss: 0.1830 - accuracy: 0.9324\n",
      "Epoch 22/100\n",
      "1500/1500 [==============================] - 2s 2ms/step - loss: 0.1795 - accuracy: 0.9331\n",
      "Epoch 23/100\n",
      "1500/1500 [==============================] - 2s 2ms/step - loss: 0.1733 - accuracy: 0.9353\n",
      "Epoch 24/100\n",
      "1500/1500 [==============================] - 3s 2ms/step - loss: 0.1713 - accuracy: 0.9356\n",
      "Epoch 25/100\n",
      "1500/1500 [==============================] - 2s 2ms/step - loss: 0.1692 - accuracy: 0.9371\n",
      "Epoch 26/100\n",
      "1500/1500 [==============================] - 2s 2ms/step - loss: 0.1629 - accuracy: 0.9398\n",
      "Epoch 27/100\n",
      "1500/1500 [==============================] - 2s 2ms/step - loss: 0.1601 - accuracy: 0.9407\n",
      "Epoch 28/100\n",
      "1500/1500 [==============================] - 2s 2ms/step - loss: 0.1565 - accuracy: 0.9416\n",
      "Epoch 29/100\n",
      "1500/1500 [==============================] - 2s 2ms/step - loss: 0.1536 - accuracy: 0.9428\n",
      "Epoch 30/100\n",
      "1500/1500 [==============================] - 2s 2ms/step - loss: 0.1509 - accuracy: 0.9436\n",
      "Epoch 31/100\n",
      "1500/1500 [==============================] - 2s 2ms/step - loss: 0.1466 - accuracy: 0.9457\n",
      "Epoch 32/100\n",
      "1500/1500 [==============================] - 2s 2ms/step - loss: 0.1470 - accuracy: 0.9448\n",
      "Epoch 33/100\n",
      "1500/1500 [==============================] - 2s 2ms/step - loss: 0.1410 - accuracy: 0.9466\n",
      "Epoch 34/100\n",
      "1500/1500 [==============================] - 2s 2ms/step - loss: 0.1399 - accuracy: 0.9479\n",
      "Epoch 35/100\n",
      "1500/1500 [==============================] - 2s 1ms/step - loss: 0.1373 - accuracy: 0.9489\n",
      "Epoch 36/100\n",
      "1500/1500 [==============================] - 2s 1ms/step - loss: 0.1352 - accuracy: 0.9485\n",
      "Epoch 37/100\n",
      "1500/1500 [==============================] - 2s 1ms/step - loss: 0.1303 - accuracy: 0.9518\n",
      "Epoch 38/100\n",
      "1500/1500 [==============================] - 2s 1ms/step - loss: 0.1303 - accuracy: 0.9516\n",
      "Epoch 39/100\n",
      "1500/1500 [==============================] - 2s 1ms/step - loss: 0.1270 - accuracy: 0.9525\n",
      "Epoch 40/100\n",
      "1500/1500 [==============================] - 2s 1ms/step - loss: 0.1234 - accuracy: 0.9538\n",
      "Epoch 41/100\n",
      "1500/1500 [==============================] - 2s 1ms/step - loss: 0.1233 - accuracy: 0.9537\n",
      "Epoch 42/100\n",
      "1500/1500 [==============================] - 2s 1ms/step - loss: 0.1213 - accuracy: 0.9544\n",
      "Epoch 43/100\n",
      "1500/1500 [==============================] - 2s 1ms/step - loss: 0.1170 - accuracy: 0.9569\n",
      "Epoch 44/100\n",
      "1500/1500 [==============================] - 2s 1ms/step - loss: 0.1152 - accuracy: 0.9566\n",
      "Epoch 45/100\n",
      "1500/1500 [==============================] - 2s 1ms/step - loss: 0.1145 - accuracy: 0.9569\n",
      "Epoch 46/100\n",
      "1500/1500 [==============================] - 2s 1ms/step - loss: 0.1112 - accuracy: 0.9592\n",
      "Epoch 47/100\n",
      "1500/1500 [==============================] - 2s 1ms/step - loss: 0.1112 - accuracy: 0.9589\n",
      "Epoch 48/100\n",
      "1500/1500 [==============================] - 2s 1ms/step - loss: 0.1074 - accuracy: 0.9607\n",
      "Epoch 49/100\n",
      "1500/1500 [==============================] - 2s 1ms/step - loss: 0.1068 - accuracy: 0.9607\n",
      "Epoch 50/100\n",
      "1500/1500 [==============================] - 2s 1ms/step - loss: 0.1040 - accuracy: 0.9609\n",
      "Epoch 51/100\n",
      "1500/1500 [==============================] - 2s 1ms/step - loss: 0.1030 - accuracy: 0.9608\n",
      "Epoch 52/100\n",
      "1500/1500 [==============================] - 2s 1ms/step - loss: 0.0995 - accuracy: 0.9619\n",
      "Epoch 53/100\n",
      "1500/1500 [==============================] - 2s 1ms/step - loss: 0.0991 - accuracy: 0.9635\n",
      "Epoch 54/100\n",
      "1500/1500 [==============================] - 2s 2ms/step - loss: 0.1010 - accuracy: 0.9627\n",
      "Epoch 55/100\n",
      "1500/1500 [==============================] - 2s 2ms/step - loss: 0.0986 - accuracy: 0.9629\n",
      "Epoch 56/100\n",
      "1500/1500 [==============================] - 2s 2ms/step - loss: 0.0958 - accuracy: 0.9642\n",
      "Epoch 57/100\n",
      "1500/1500 [==============================] - 2s 2ms/step - loss: 0.0932 - accuracy: 0.9653\n",
      "Epoch 58/100\n",
      "1500/1500 [==============================] - 2s 1ms/step - loss: 0.0951 - accuracy: 0.9644\n",
      "Epoch 59/100\n",
      "1500/1500 [==============================] - 2s 1ms/step - loss: 0.0905 - accuracy: 0.9664\n",
      "Epoch 60/100\n",
      "1500/1500 [==============================] - 2s 2ms/step - loss: 0.0898 - accuracy: 0.9658\n",
      "Epoch 61/100\n",
      "1500/1500 [==============================] - 2s 1ms/step - loss: 0.0888 - accuracy: 0.9671\n",
      "Epoch 62/100\n",
      "1500/1500 [==============================] - 2s 1ms/step - loss: 0.0883 - accuracy: 0.9675\n",
      "Epoch 63/100\n",
      "1500/1500 [==============================] - 2s 2ms/step - loss: 0.0842 - accuracy: 0.9688\n",
      "Epoch 64/100\n",
      "1500/1500 [==============================] - 2s 2ms/step - loss: 0.0854 - accuracy: 0.9687\n",
      "Epoch 65/100\n",
      "1500/1500 [==============================] - 2s 1ms/step - loss: 0.0844 - accuracy: 0.9682\n",
      "Epoch 66/100\n",
      "1500/1500 [==============================] - 2s 1ms/step - loss: 0.0831 - accuracy: 0.9686\n",
      "Epoch 67/100\n",
      "1500/1500 [==============================] - 2s 1ms/step - loss: 0.0844 - accuracy: 0.9687\n",
      "Epoch 68/100\n",
      "1500/1500 [==============================] - 2s 1ms/step - loss: 0.0796 - accuracy: 0.9707\n",
      "Epoch 69/100\n",
      "1500/1500 [==============================] - 2s 1ms/step - loss: 0.0785 - accuracy: 0.9707\n",
      "Epoch 70/100\n",
      "1500/1500 [==============================] - 2s 2ms/step - loss: 0.0786 - accuracy: 0.9708\n",
      "Epoch 71/100\n",
      "1500/1500 [==============================] - 2s 1ms/step - loss: 0.0776 - accuracy: 0.9710\n",
      "Epoch 72/100\n",
      "1500/1500 [==============================] - 2s 2ms/step - loss: 0.0771 - accuracy: 0.9715\n",
      "Epoch 73/100\n",
      "1500/1500 [==============================] - 2s 1ms/step - loss: 0.0745 - accuracy: 0.9720\n",
      "Epoch 74/100\n",
      "1500/1500 [==============================] - 3s 2ms/step - loss: 0.0747 - accuracy: 0.9718\n",
      "Epoch 75/100\n",
      "1500/1500 [==============================] - 3s 2ms/step - loss: 0.0741 - accuracy: 0.9718\n",
      "Epoch 76/100\n",
      "1500/1500 [==============================] - 2s 2ms/step - loss: 0.0692 - accuracy: 0.9745\n",
      "Epoch 77/100\n",
      "1500/1500 [==============================] - 2s 2ms/step - loss: 0.0702 - accuracy: 0.9737\n",
      "Epoch 78/100\n",
      "1500/1500 [==============================] - 3s 2ms/step - loss: 0.0704 - accuracy: 0.9734\n",
      "Epoch 79/100\n",
      "1500/1500 [==============================] - 2s 2ms/step - loss: 0.0705 - accuracy: 0.9735\n",
      "Epoch 80/100\n",
      "1500/1500 [==============================] - 2s 2ms/step - loss: 0.0694 - accuracy: 0.9745\n",
      "Epoch 81/100\n",
      "1500/1500 [==============================] - 3s 2ms/step - loss: 0.0680 - accuracy: 0.9756\n",
      "Epoch 82/100\n",
      "1500/1500 [==============================] - 2s 1ms/step - loss: 0.0685 - accuracy: 0.9744\n",
      "Epoch 83/100\n",
      "1500/1500 [==============================] - 2s 1ms/step - loss: 0.0649 - accuracy: 0.9756\n",
      "Epoch 84/100\n",
      "1500/1500 [==============================] - 2s 1ms/step - loss: 0.0672 - accuracy: 0.9746\n",
      "Epoch 85/100\n",
      "1500/1500 [==============================] - 2s 1ms/step - loss: 0.0671 - accuracy: 0.9753\n",
      "Epoch 86/100\n",
      "1500/1500 [==============================] - 2s 1ms/step - loss: 0.0626 - accuracy: 0.9765\n",
      "Epoch 87/100\n",
      "1500/1500 [==============================] - 2s 1ms/step - loss: 0.0650 - accuracy: 0.9756\n",
      "Epoch 88/100\n",
      "1500/1500 [==============================] - 2s 1ms/step - loss: 0.0615 - accuracy: 0.9771\n",
      "Epoch 89/100\n",
      "1500/1500 [==============================] - 2s 1ms/step - loss: 0.0619 - accuracy: 0.9768\n",
      "Epoch 90/100\n",
      "1500/1500 [==============================] - 2s 1ms/step - loss: 0.0627 - accuracy: 0.9764\n",
      "Epoch 91/100\n",
      "1500/1500 [==============================] - 2s 1ms/step - loss: 0.0605 - accuracy: 0.9772\n",
      "Epoch 92/100\n",
      "1500/1500 [==============================] - 2s 1ms/step - loss: 0.0608 - accuracy: 0.9775\n",
      "Epoch 93/100\n",
      "1500/1500 [==============================] - 2s 1ms/step - loss: 0.0598 - accuracy: 0.9773\n",
      "Epoch 94/100\n",
      "1500/1500 [==============================] - 2s 1ms/step - loss: 0.0563 - accuracy: 0.9790\n",
      "Epoch 95/100\n",
      "1500/1500 [==============================] - 2s 1ms/step - loss: 0.0595 - accuracy: 0.9781\n",
      "Epoch 96/100\n",
      "1500/1500 [==============================] - 2s 1ms/step - loss: 0.0554 - accuracy: 0.9797\n",
      "Epoch 97/100\n",
      "1500/1500 [==============================] - 2s 1ms/step - loss: 0.0549 - accuracy: 0.9796\n",
      "Epoch 98/100\n",
      "1500/1500 [==============================] - 2s 1ms/step - loss: 0.0582 - accuracy: 0.9789\n",
      "Epoch 99/100\n",
      "1500/1500 [==============================] - 2s 1ms/step - loss: 0.0547 - accuracy: 0.9802\n",
      "Epoch 100/100\n",
      "1500/1500 [==============================] - 2s 1ms/step - loss: 0.0521 - accuracy: 0.9803\n"
     ]
    },
    {
     "data": {
      "text/plain": [
       "<keras.callbacks.History at 0x1996cd97a60>"
      ]
     },
     "execution_count": 65,
     "metadata": {},
     "output_type": "execute_result"
    }
   ],
   "source": [
    "model2.fit(X_train_scaled, y_train, epochs=100)"
   ]
  },
  {
   "cell_type": "code",
   "execution_count": 68,
   "id": "a40c39eb-e3ff-4909-ae0f-d333fb68fcac",
   "metadata": {},
   "outputs": [
    {
     "name": "stdout",
     "output_type": "stream",
     "text": [
      "1500/1500 [==============================] - 2s 1ms/step - loss: 0.0467 - accuracy: 0.9826\n"
     ]
    }
   ],
   "source": [
    "score_list = model2.evaluate(X_train_scaled, y_train)"
   ]
  },
  {
   "cell_type": "code",
   "execution_count": 66,
   "id": "35144888-1467-499a-9c34-59814c5af740",
   "metadata": {},
   "outputs": [
    {
     "name": "stdout",
     "output_type": "stream",
     "text": [
      "375/375 [==============================] - 1s 1ms/step - loss: 0.7198 - accuracy: 0.8863\n"
     ]
    },
    {
     "data": {
      "text/plain": [
       "[0.7197918891906738, 0.8862500190734863]"
      ]
     },
     "execution_count": 66,
     "metadata": {},
     "output_type": "execute_result"
    }
   ],
   "source": [
    "model2.evaluate(X_val_scaled, y_val)"
   ]
  },
  {
   "cell_type": "code",
   "execution_count": 72,
   "id": "acda28f6-56b1-4ec2-9ce2-b0fc3872da71",
   "metadata": {},
   "outputs": [],
   "source": [
    "model2 = keras.Sequential()\n",
    "\n",
    "model2.add(\n",
    "    keras.layers.Flatten(\n",
    "        input_shape=(28,28),\n",
    "        name=\"Flatten_input_Layer\"\n",
    "    )\n",
    ")\n",
    "\n",
    "model2.add(\n",
    "    keras.layers.Dense(\n",
    "        units=100,\n",
    "        activation=\"relu\",\n",
    "        name=\"Hidden_Layer\"\n",
    "    )\n",
    ")\n",
    "\n",
    "model2.add(\n",
    "    keras.layers.Dense(\n",
    "        units=10,\n",
    "        activation=\"softmax\",\n",
    "        name=\"Output_Layer\"\n",
    "    )\n",
    ")"
   ]
  },
  {
   "cell_type": "code",
   "execution_count": 73,
   "id": "8641105d-6a05-4b66-8546-662fd009792f",
   "metadata": {},
   "outputs": [
    {
     "data": {
      "text/plain": [
       "'\\n - 모델 신규 생성\\n - 모든 옵티마이저(SGD, Adagrad, RMSprop, Adam) 각각 사용\\n - 훈련 50회씩\\n - 1차원 계층 적용\\n - 은닉 계층 : relu 사용, 100개 출력\\n\\n - 손실이 가장 작을 때의 옵티마이저 출력\\n - 정확도가 가장 높을 때의 옵티마이저 출력\\n\\n - 함수 생성해서 사용 : getEvalScore(매개변수는 자유롭게 정의) \\n - 반복문 사용 : 옵티마이저 별로 수행\\n'"
      ]
     },
     "execution_count": 73,
     "metadata": {},
     "output_type": "execute_result"
    }
   ],
   "source": [
    "\"\"\"\n",
    " - 모델 신규 생성\n",
    " - 모든 옵티마이저(SGD, Adagrad, RMSprop, Adam) 각각 사용\n",
    " - 훈련 50회씩\n",
    " - 1차원 계층 적용\n",
    " - 은닉 계층 : relu 사용, 100개 출력\n",
    "\n",
    " - 손실이 가장 작을 때의 옵티마이저 출력\n",
    " - 정확도가 가장 높을 때의 옵티마이저 출력\n",
    "\n",
    " - 함수 생성해서 사용 : getEvalScore(매개변수는 자유롭게 정의) \n",
    " - 반복문 사용 : 옵티마이저 별로 수행\n",
    "\"\"\""
   ]
  },
  {
   "cell_type": "code",
   "execution_count": 101,
   "id": "5bbc40b0-a7d7-4d01-b9ab-6cb599b1de3f",
   "metadata": {},
   "outputs": [],
   "source": [
    "def getEvalScore(optimizer):\n",
    "    model = keras.Sequential()\n",
    "    model.add(\n",
    "        keras.layers.Flatten(\n",
    "            input_shape=(28,28),\n",
    "            name=\"Flatten_input_Layer\"\n",
    "        )\n",
    "    )\n",
    "    model.add(\n",
    "        keras.layers.Dense(\n",
    "            units=100,\n",
    "            activation=\"relu\",\n",
    "            name=\"Hidden_Layer\"\n",
    "        )\n",
    "    )\n",
    "    model.add(\n",
    "        keras.layers.Dense(\n",
    "            units=10,\n",
    "            activation=\"softmax\",\n",
    "            name=\"Output_Layer\"\n",
    "        )\n",
    "    )\n",
    "    model.compile(\n",
    "        optimizer=optimizer,\n",
    "        loss=\"sparse_categorical_crossentropy\",\n",
    "        metrics=\"accuracy\",\n",
    "    )\n",
    "    model.fit(X_train_scaled, y_train, epochs=20)\n",
    "    train_score_list = model.evaluate(X_train_scaled, y_train)\n",
    "    val_score_list = model.evaluate(X_val_scaled, y_val)\n",
    "    return train_score_list[0], train_score_list[1], val_score_list[0], val_score_list[1]"
   ]
  },
  {
   "cell_type": "code",
   "execution_count": 102,
   "id": "c9273d94-33fe-457f-aa68-ddad1294892a",
   "metadata": {},
   "outputs": [],
   "source": [
    "# SGD, Adagrad, RMSprop, Adam\n",
    "sgd = keras.optimizers.SGD()\n",
    "adagrad = keras.optimizers.Adagrad()\n",
    "rms = keras.optimizers.RMSprop()\n",
    "adam = keras.optimizers.Adam()\n",
    "\n",
    "optimizer_list = [sgd, adagrad, rms, adam]"
   ]
  },
  {
   "cell_type": "code",
   "execution_count": 103,
   "id": "6b115b63-a86d-4bc8-a243-5c29374f142b",
   "metadata": {
    "scrolled": true
   },
   "outputs": [
    {
     "name": "stdout",
     "output_type": "stream",
     "text": [
      "Epoch 1/20\n",
      "1500/1500 [==============================] - 3s 1ms/step - loss: 0.7943 - accuracy: 0.7461\n",
      "Epoch 2/20\n",
      "1500/1500 [==============================] - 2s 2ms/step - loss: 0.5383 - accuracy: 0.8175\n",
      "Epoch 3/20\n",
      "1500/1500 [==============================] - 2s 2ms/step - loss: 0.4894 - accuracy: 0.8312\n",
      "Epoch 4/20\n",
      "1500/1500 [==============================] - 2s 1ms/step - loss: 0.4602 - accuracy: 0.8410\n",
      "Epoch 5/20\n",
      "1500/1500 [==============================] - 2s 1ms/step - loss: 0.4413 - accuracy: 0.8477\n",
      "Epoch 6/20\n",
      "1500/1500 [==============================] - 2s 1ms/step - loss: 0.4288 - accuracy: 0.8519\n",
      "Epoch 7/20\n",
      "1500/1500 [==============================] - 2s 2ms/step - loss: 0.4160 - accuracy: 0.8549\n",
      "Epoch 8/20\n",
      "1500/1500 [==============================] - 2s 1ms/step - loss: 0.4064 - accuracy: 0.8586\n",
      "Epoch 9/20\n",
      "1500/1500 [==============================] - 2s 2ms/step - loss: 0.3960 - accuracy: 0.8621\n",
      "Epoch 10/20\n",
      "1500/1500 [==============================] - 2s 2ms/step - loss: 0.3891 - accuracy: 0.8648\n",
      "Epoch 11/20\n",
      "1500/1500 [==============================] - 2s 2ms/step - loss: 0.3818 - accuracy: 0.8670\n",
      "Epoch 12/20\n",
      "1500/1500 [==============================] - 2s 2ms/step - loss: 0.3750 - accuracy: 0.8691\n",
      "Epoch 13/20\n",
      "1500/1500 [==============================] - 2s 2ms/step - loss: 0.3687 - accuracy: 0.8701\n",
      "Epoch 14/20\n",
      "1500/1500 [==============================] - 3s 2ms/step - loss: 0.3633 - accuracy: 0.8732\n",
      "Epoch 15/20\n",
      "1500/1500 [==============================] - 3s 2ms/step - loss: 0.3581 - accuracy: 0.8751\n",
      "Epoch 16/20\n",
      "1500/1500 [==============================] - 3s 2ms/step - loss: 0.3532 - accuracy: 0.8757\n",
      "Epoch 17/20\n",
      "1500/1500 [==============================] - 2s 2ms/step - loss: 0.3479 - accuracy: 0.8778\n",
      "Epoch 18/20\n",
      "1500/1500 [==============================] - 2s 2ms/step - loss: 0.3439 - accuracy: 0.8790\n",
      "Epoch 19/20\n",
      "1500/1500 [==============================] - 2s 1ms/step - loss: 0.3396 - accuracy: 0.8812\n",
      "Epoch 20/20\n",
      "1500/1500 [==============================] - 2s 1ms/step - loss: 0.3362 - accuracy: 0.8808\n",
      "1500/1500 [==============================] - 2s 1ms/step - loss: 0.3285 - accuracy: 0.8836\n",
      "375/375 [==============================] - 1s 1ms/step - loss: 0.3655 - accuracy: 0.8707\n",
      "SGD\n",
      "0.3284703493118286 0.8836458325386047 0.3654998242855072 0.8706666827201843\n",
      "===========================================\n",
      "Epoch 1/20\n",
      "1500/1500 [==============================] - 2s 1ms/step - loss: 1.2089 - accuracy: 0.6386\n",
      "Epoch 2/20\n",
      "1500/1500 [==============================] - 2s 1ms/step - loss: 0.8037 - accuracy: 0.7412\n",
      "Epoch 3/20\n",
      "1500/1500 [==============================] - 2s 1ms/step - loss: 0.7120 - accuracy: 0.7708\n",
      "Epoch 4/20\n",
      "1500/1500 [==============================] - 2s 1ms/step - loss: 0.6624 - accuracy: 0.7862\n",
      "Epoch 5/20\n",
      "1500/1500 [==============================] - 2s 1ms/step - loss: 0.6296 - accuracy: 0.7974\n",
      "Epoch 6/20\n",
      "1500/1500 [==============================] - 2s 1ms/step - loss: 0.6059 - accuracy: 0.8049\n",
      "Epoch 7/20\n",
      "1500/1500 [==============================] - 2s 1ms/step - loss: 0.5873 - accuracy: 0.8101\n",
      "Epoch 8/20\n",
      "1500/1500 [==============================] - 2s 1ms/step - loss: 0.5724 - accuracy: 0.8146\n",
      "Epoch 9/20\n",
      "1500/1500 [==============================] - 2s 2ms/step - loss: 0.5602 - accuracy: 0.8166\n",
      "Epoch 10/20\n",
      "1500/1500 [==============================] - 2s 2ms/step - loss: 0.5495 - accuracy: 0.8196\n",
      "Epoch 11/20\n",
      "1500/1500 [==============================] - 2s 1ms/step - loss: 0.5402 - accuracy: 0.8221\n",
      "Epoch 12/20\n",
      "1500/1500 [==============================] - 2s 1ms/step - loss: 0.5320 - accuracy: 0.8245\n",
      "Epoch 13/20\n",
      "1500/1500 [==============================] - 2s 1ms/step - loss: 0.5247 - accuracy: 0.8273\n",
      "Epoch 14/20\n",
      "1500/1500 [==============================] - 2s 1ms/step - loss: 0.5182 - accuracy: 0.8287\n",
      "Epoch 15/20\n",
      "1500/1500 [==============================] - 2s 1ms/step - loss: 0.5124 - accuracy: 0.8307\n",
      "Epoch 16/20\n",
      "1500/1500 [==============================] - 2s 1ms/step - loss: 0.5072 - accuracy: 0.8321\n",
      "Epoch 17/20\n",
      "1500/1500 [==============================] - 2s 1ms/step - loss: 0.5022 - accuracy: 0.8334\n",
      "Epoch 18/20\n",
      "1500/1500 [==============================] - 2s 1ms/step - loss: 0.4980 - accuracy: 0.8349\n",
      "Epoch 19/20\n",
      "1500/1500 [==============================] - 2s 2ms/step - loss: 0.4940 - accuracy: 0.8360\n",
      "Epoch 20/20\n",
      "1500/1500 [==============================] - 3s 2ms/step - loss: 0.4902 - accuracy: 0.8372\n",
      "1500/1500 [==============================] - 2s 1ms/step - loss: 0.4880 - accuracy: 0.8371\n",
      "375/375 [==============================] - 1s 1ms/step - loss: 0.5013 - accuracy: 0.8322\n",
      "Adagrad\n",
      "0.48802539706230164 0.8370833396911621 0.5013388395309448 0.8322499990463257\n",
      "===========================================\n",
      "Epoch 1/20\n",
      "1500/1500 [==============================] - 4s 2ms/step - loss: 0.5256 - accuracy: 0.8130\n",
      "Epoch 2/20\n",
      "1500/1500 [==============================] - 3s 2ms/step - loss: 0.3915 - accuracy: 0.8581\n",
      "Epoch 3/20\n",
      "1500/1500 [==============================] - 3s 2ms/step - loss: 0.3565 - accuracy: 0.8713\n",
      "Epoch 4/20\n",
      "1500/1500 [==============================] - 3s 2ms/step - loss: 0.3328 - accuracy: 0.8811\n",
      "Epoch 5/20\n",
      "1500/1500 [==============================] - 3s 2ms/step - loss: 0.3162 - accuracy: 0.8864\n",
      "Epoch 6/20\n",
      "1500/1500 [==============================] - 3s 2ms/step - loss: 0.3092 - accuracy: 0.8905\n",
      "Epoch 7/20\n",
      "1500/1500 [==============================] - 2s 2ms/step - loss: 0.2982 - accuracy: 0.8932\n",
      "Epoch 8/20\n",
      "1500/1500 [==============================] - 3s 2ms/step - loss: 0.2915 - accuracy: 0.8981\n",
      "Epoch 9/20\n",
      "1500/1500 [==============================] - 2s 2ms/step - loss: 0.2833 - accuracy: 0.9013\n",
      "Epoch 10/20\n",
      "1500/1500 [==============================] - 2s 2ms/step - loss: 0.2774 - accuracy: 0.9042\n",
      "Epoch 11/20\n",
      "1500/1500 [==============================] - 2s 2ms/step - loss: 0.2735 - accuracy: 0.9053\n",
      "Epoch 12/20\n",
      "1500/1500 [==============================] - 2s 2ms/step - loss: 0.2679 - accuracy: 0.9076\n",
      "Epoch 13/20\n",
      "1500/1500 [==============================] - 3s 2ms/step - loss: 0.2612 - accuracy: 0.9095\n",
      "Epoch 14/20\n",
      "1500/1500 [==============================] - 3s 2ms/step - loss: 0.2547 - accuracy: 0.9129\n",
      "Epoch 15/20\n",
      "1500/1500 [==============================] - 2s 2ms/step - loss: 0.2521 - accuracy: 0.9135\n",
      "Epoch 16/20\n",
      "1500/1500 [==============================] - 3s 2ms/step - loss: 0.2482 - accuracy: 0.9152\n",
      "Epoch 17/20\n",
      "1500/1500 [==============================] - 2s 2ms/step - loss: 0.2409 - accuracy: 0.9168\n",
      "Epoch 18/20\n",
      "1500/1500 [==============================] - 3s 2ms/step - loss: 0.2408 - accuracy: 0.9188\n",
      "Epoch 19/20\n",
      "1500/1500 [==============================] - 2s 2ms/step - loss: 0.2332 - accuracy: 0.9211\n",
      "Epoch 20/20\n",
      "1500/1500 [==============================] - 3s 2ms/step - loss: 0.2311 - accuracy: 0.9221\n",
      "1500/1500 [==============================] - 2s 1ms/step - loss: 0.1982 - accuracy: 0.9315\n",
      "375/375 [==============================] - 1s 1ms/step - loss: 0.4363 - accuracy: 0.8848\n",
      "RMSprop\n",
      "0.1981886327266693 0.9315208196640015 0.43633097410202026 0.8847500085830688\n",
      "===========================================\n",
      "Epoch 1/20\n",
      "1500/1500 [==============================] - 3s 2ms/step - loss: 0.5253 - accuracy: 0.8173\n",
      "Epoch 2/20\n",
      "1500/1500 [==============================] - 2s 2ms/step - loss: 0.3918 - accuracy: 0.8594\n",
      "Epoch 3/20\n",
      "1500/1500 [==============================] - 2s 2ms/step - loss: 0.3535 - accuracy: 0.8714\n",
      "Epoch 4/20\n",
      "1500/1500 [==============================] - 2s 2ms/step - loss: 0.3301 - accuracy: 0.8798\n",
      "Epoch 5/20\n",
      "1500/1500 [==============================] - 2s 2ms/step - loss: 0.3082 - accuracy: 0.8866\n",
      "Epoch 6/20\n",
      "1500/1500 [==============================] - 2s 2ms/step - loss: 0.2926 - accuracy: 0.8931\n",
      "Epoch 7/20\n",
      "1500/1500 [==============================] - 2s 2ms/step - loss: 0.2803 - accuracy: 0.8970\n",
      "Epoch 8/20\n",
      "1500/1500 [==============================] - 3s 2ms/step - loss: 0.2687 - accuracy: 0.8995\n",
      "Epoch 9/20\n",
      "1500/1500 [==============================] - 3s 2ms/step - loss: 0.2582 - accuracy: 0.9046\n",
      "Epoch 10/20\n",
      "1500/1500 [==============================] - 3s 2ms/step - loss: 0.2490 - accuracy: 0.9078\n",
      "Epoch 11/20\n",
      "1500/1500 [==============================] - 3s 2ms/step - loss: 0.2431 - accuracy: 0.9106\n",
      "Epoch 12/20\n",
      "1500/1500 [==============================] - 3s 2ms/step - loss: 0.2325 - accuracy: 0.9141\n",
      "Epoch 13/20\n",
      "1500/1500 [==============================] - 3s 2ms/step - loss: 0.2277 - accuracy: 0.9152\n",
      "Epoch 14/20\n",
      "1500/1500 [==============================] - 3s 2ms/step - loss: 0.2204 - accuracy: 0.9173\n",
      "Epoch 15/20\n",
      "1500/1500 [==============================] - 3s 2ms/step - loss: 0.2119 - accuracy: 0.9198\n",
      "Epoch 16/20\n",
      "1500/1500 [==============================] - 3s 2ms/step - loss: 0.2084 - accuracy: 0.9230\n",
      "Epoch 17/20\n",
      "1500/1500 [==============================] - 3s 2ms/step - loss: 0.2024 - accuracy: 0.9243\n",
      "Epoch 18/20\n",
      "1500/1500 [==============================] - 3s 2ms/step - loss: 0.1969 - accuracy: 0.9266\n",
      "Epoch 19/20\n",
      "1500/1500 [==============================] - 3s 2ms/step - loss: 0.1911 - accuracy: 0.9291\n",
      "Epoch 20/20\n",
      "1500/1500 [==============================] - 3s 2ms/step - loss: 0.1857 - accuracy: 0.9312\n",
      "1500/1500 [==============================] - 2s 1ms/step - loss: 0.1921 - accuracy: 0.9286\n",
      "375/375 [==============================] - 1s 1ms/step - loss: 0.3628 - accuracy: 0.8836\n",
      "Adam\n",
      "0.19207747280597687 0.9286458492279053 0.3628057539463043 0.8835833072662354\n",
      "===========================================\n"
     ]
    }
   ],
   "source": [
    "min_loss = 99999\n",
    "min_loss_model = None\n",
    "max_acc = 0\n",
    "max_acc_model = None\n",
    "\n",
    "for optimizer in optimizer_list:\n",
    "    train_loss, train_acc, val_loss, val_acc = getEvalScore(optimizer)\n",
    "    print(optimizer.__class__.__name__)\n",
    "    print(train_loss, train_acc, val_loss, val_acc)\n",
    "    print(\"===========================================\")\n",
    "    if (min_loss > val_loss):\n",
    "        min_loss = val_loss\n",
    "        min_loss_model = optimizer.__class__.__name__\n",
    "    if (max_acc < val_acc):\n",
    "        max_acc = val_acc\n",
    "        max_acc_model = optimizer.__class__.__name__\n",
    "        "
   ]
  },
  {
   "cell_type": "code",
   "execution_count": 104,
   "id": "48cfe222-4a56-431f-8e41-e7413b762903",
   "metadata": {},
   "outputs": [
    {
     "data": {
      "text/plain": [
       "'SGD'"
      ]
     },
     "execution_count": 104,
     "metadata": {},
     "output_type": "execute_result"
    }
   ],
   "source": [
    "optimizer_list[0].__class__.__name__"
   ]
  },
  {
   "cell_type": "code",
   "execution_count": 105,
   "id": "041e3025-7401-47c4-9326-43bee049f28a",
   "metadata": {},
   "outputs": [
    {
     "data": {
      "text/plain": [
       "('Adam', 'RMSprop')"
      ]
     },
     "execution_count": 105,
     "metadata": {},
     "output_type": "execute_result"
    }
   ],
   "source": [
    "min_loss_model, max_acc_model"
   ]
  },
  {
   "cell_type": "code",
   "execution_count": null,
   "id": "56b4f803-e6a6-43fe-9633-aeb55c888d47",
   "metadata": {},
   "outputs": [],
   "source": []
  },
  {
   "cell_type": "code",
   "execution_count": null,
   "id": "b6805e60-e199-415c-8752-3e1be31c9652",
   "metadata": {},
   "outputs": [],
   "source": []
  }
 ],
 "metadata": {
  "kernelspec": {
   "display_name": "dg_env_dl_kernel",
   "language": "python",
   "name": "dg_env_dl"
  },
  "language_info": {
   "codemirror_mode": {
    "name": "ipython",
    "version": 3
   },
   "file_extension": ".py",
   "mimetype": "text/x-python",
   "name": "python",
   "nbconvert_exporter": "python",
   "pygments_lexer": "ipython3",
   "version": "3.9.15"
  }
 },
 "nbformat": 4,
 "nbformat_minor": 5
}
