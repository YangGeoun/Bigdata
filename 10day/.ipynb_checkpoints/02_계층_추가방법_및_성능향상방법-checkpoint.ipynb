{
 "cells": [
  {
   "cell_type": "code",
   "execution_count": 1,
   "id": "70496c51-1522-45d6-a986-da521b42a91c",
   "metadata": {},
   "outputs": [],
   "source": [
    "# 텐서플로우 프레임워크\n",
    "import tensorflow as tf\n",
    "\n",
    "# 케라스(딥러닝 모델) 라이브러리\n",
    "from tensorflow import keras\n",
    "\n",
    "# 시각화 라이브러리\n",
    "import matplotlib.pyplot as plt\n",
    "\n",
    "# 넘파이\n",
    "import numpy as np\n",
    "\n",
    "# 데이터 분류 라이브러리\n",
    "from sklearn.model_selection import train_test_split\n",
    "\n",
    "# 딥러닝 랜덤규칙 정의(모든 사람이 정확하게 일치하지는 않음)\n",
    "tf.keras.utils.set_random_seed(42)\n",
    "tf.config.experimental.enable_op_determinism()"
   ]
  },
  {
   "cell_type": "code",
   "execution_count": 2,
   "id": "1f6951bb-f812-4be9-8f95-56a5e44de022",
   "metadata": {},
   "outputs": [],
   "source": [
    "# 데이터 불러오기 (X_train, y_train, X_test, y_test)\n",
    "(X_train, y_train), (X_test, y_test) = keras.datasets.fashion_mnist.load_data()"
   ]
  },
  {
   "cell_type": "code",
   "execution_count": 3,
   "id": "8a57c8b4-b047-4c8b-859b-b872872984aa",
   "metadata": {},
   "outputs": [
    {
     "data": {
      "text/plain": [
       "((60000, 28, 28), (10000, 28, 28))"
      ]
     },
     "execution_count": 3,
     "metadata": {},
     "output_type": "execute_result"
    }
   ],
   "source": [
    "X_train_scaled = X_train / 255.0\n",
    "X_test_scaled = X_test / 255.0\n",
    "X_train_scaled.shape, X_test_scaled.shape"
   ]
  },
  {
   "cell_type": "code",
   "execution_count": 4,
   "id": "848cd4c2-0ca1-4ded-95a2-e31496bde18a",
   "metadata": {},
   "outputs": [],
   "source": [
    "# - reshape() : 차원 변경 reshape(행, 열), -1은 행 전체를 의미\n",
    "X_train_scaled_2d = X_train_scaled.reshape(-1, 28*28)\n",
    "X_test_scaled_2d = X_test_scaled.reshape(-1, 28*28)"
   ]
  },
  {
   "cell_type": "code",
   "execution_count": 5,
   "id": "c4f334cd-3b76-42bb-a2da-871a86448f8c",
   "metadata": {},
   "outputs": [],
   "source": [
    "X_train_scaled_2d, X_val_scaled_2d, y_train, y_val  = train_test_split(X_train_scaled_2d, y_train, random_state=42, test_size=0.2)"
   ]
  },
  {
   "cell_type": "markdown",
   "id": "39bf756c-85fb-4144-a658-0a6ae5a0210b",
   "metadata": {},
   "source": [
    "# 계층 추가하는 3가지 방법"
   ]
  },
  {
   "cell_type": "markdown",
   "id": "41927eea-ebbf-406c-a55b-46c361a2367a",
   "metadata": {},
   "source": [
    "#### 1. 계층을 먼저 만들고, 신경망 모델 생성 시 추가하는 방법\n"
   ]
  },
  {
   "cell_type": "code",
   "execution_count": 6,
   "id": "bed7cd7d-ccd4-4576-9f4c-62de26063d87",
   "metadata": {},
   "outputs": [],
   "source": [
    "# 입력 계층 생성하기\n",
    "# - 출력갯수 : 100개\n",
    "# - 활성화함수 : sigmoid\n",
    "# - 입력갯수 : 784개\n",
    "# - 계층 변수명 : dense1"
   ]
  },
  {
   "cell_type": "code",
   "execution_count": 7,
   "id": "21bb2768-6f0c-4b89-82a8-8de3e121bfce",
   "metadata": {},
   "outputs": [],
   "source": [
    "dense1 = keras.layers.Dense(\n",
    "    units=100,\n",
    "    activation=\"sigmoid\",\n",
    "    input_shape=(784, )\n",
    ")"
   ]
  },
  {
   "cell_type": "code",
   "execution_count": 8,
   "id": "19f839c6-2800-457c-b7ba-32125ac097d0",
   "metadata": {},
   "outputs": [],
   "source": [
    "# 출력 계층 생성하기\n",
    "# - 출력갯수 : 10개\n",
    "# - 활성화함수 : softmax\n",
    "# - 입력갯수 : 100개\n",
    "# - 계층 변수명 : dense2"
   ]
  },
  {
   "cell_type": "code",
   "execution_count": 9,
   "id": "42b657cf-1949-453b-9e8e-b51ce4af504d",
   "metadata": {},
   "outputs": [],
   "source": [
    "dense2 = keras.layers.Dense(\n",
    "    units=10,\n",
    "    activation=\"softmax\"\n",
    ")"
   ]
  },
  {
   "cell_type": "code",
   "execution_count": 10,
   "id": "f08aa70f-3d3c-4097-96b0-4f34530c0807",
   "metadata": {},
   "outputs": [
    {
     "data": {
      "text/plain": [
       "<keras.engine.sequential.Sequential at 0x1f7ee2f2a30>"
      ]
     },
     "execution_count": 10,
     "metadata": {},
     "output_type": "execute_result"
    }
   ],
   "source": [
    "model = keras.Sequential([dense1, dense2])\n",
    "model"
   ]
  },
  {
   "cell_type": "code",
   "execution_count": 11,
   "id": "ffe9914a-7ccf-4e1a-b7e7-61ebdec2d1f4",
   "metadata": {},
   "outputs": [
    {
     "name": "stdout",
     "output_type": "stream",
     "text": [
      "Model: \"sequential\"\n",
      "_________________________________________________________________\n",
      " Layer (type)                Output Shape              Param #   \n",
      "=================================================================\n",
      " dense (Dense)               (None, 100)               78500     \n",
      "                                                                 \n",
      " dense_1 (Dense)             (None, 10)                1010      \n",
      "                                                                 \n",
      "=================================================================\n",
      "Total params: 79,510\n",
      "Trainable params: 79,510\n",
      "Non-trainable params: 0\n",
      "_________________________________________________________________\n"
     ]
    }
   ],
   "source": [
    "model.summary()"
   ]
  },
  {
   "cell_type": "markdown",
   "id": "b09c0efa-46c4-42aa-b72f-d303bac0f083",
   "metadata": {},
   "source": [
    "#### 2. 모델 생성과 동시에 계층 생성하는 방식"
   ]
  },
  {
   "cell_type": "code",
   "execution_count": 12,
   "id": "bc2cb4b6-02fc-49e8-b6c6-b490188708e5",
   "metadata": {},
   "outputs": [],
   "source": [
    "model2 = keras.Sequential([\n",
    "    # 입력계층 생성\n",
    "    keras.layers.Dense(\n",
    "        units=100,\n",
    "        activation=\"sigmoid\",\n",
    "        input_shape=(784, ),\n",
    "        name=\"Input_Layer\"   # 레이어 이름 정의\n",
    "    ),\n",
    "    \n",
    "    # 출력계층 생성\n",
    "    keras.layers.Dense(\n",
    "        units=10,\n",
    "        activation=\"softmax\",\n",
    "        name=\"Output_Layer\"\n",
    "    )\n",
    "], name=\"Model2\") # 모델 이름 정의"
   ]
  },
  {
   "cell_type": "code",
   "execution_count": 13,
   "id": "77e510bc-e486-473e-8f7b-e12c61e0f2d3",
   "metadata": {},
   "outputs": [
    {
     "name": "stdout",
     "output_type": "stream",
     "text": [
      "Model: \"Model2\"\n",
      "_________________________________________________________________\n",
      " Layer (type)                Output Shape              Param #   \n",
      "=================================================================\n",
      " Input_Layer (Dense)         (None, 100)               78500     \n",
      "                                                                 \n",
      " Output_Layer (Dense)        (None, 10)                1010      \n",
      "                                                                 \n",
      "=================================================================\n",
      "Total params: 79,510\n",
      "Trainable params: 79,510\n",
      "Non-trainable params: 0\n",
      "_________________________________________________________________\n"
     ]
    }
   ],
   "source": [
    "model2.summary()"
   ]
  },
  {
   "cell_type": "markdown",
   "id": "d1b771ea-5dbd-4c11-a8a6-a5909dfd09b4",
   "metadata": {},
   "source": [
    "#### 3. 모델 생성 후, 계층 추가(add)하는 방식(가장 많이 사용하는 방식)"
   ]
  },
  {
   "cell_type": "code",
   "execution_count": 14,
   "id": "716fe0de-9077-40f4-bc92-0f5d07ab7caf",
   "metadata": {},
   "outputs": [],
   "source": [
    "# 모델 생성\n",
    "model3 = keras.Sequential()"
   ]
  },
  {
   "cell_type": "code",
   "execution_count": 15,
   "id": "fea1c41e-87ed-484a-b1ba-ade629e8745d",
   "metadata": {},
   "outputs": [],
   "source": [
    "# 입력계층(Input layer) 추가\n",
    "model3.add(\n",
    "    keras.layers.Dense(\n",
    "        units=100,\n",
    "        activation=\"sigmoid\",\n",
    "        input_shape=(784, ),\n",
    "        name=\"Input_Layer\"\n",
    "    )\n",
    ")"
   ]
  },
  {
   "cell_type": "code",
   "execution_count": 16,
   "id": "00da8866-3baa-432f-ba32-f69a74b4cd01",
   "metadata": {},
   "outputs": [],
   "source": [
    "# 출력계층(output layer) 추가\n",
    "model3.add(\n",
    "    keras.layers.Dense(\n",
    "        units=10,\n",
    "        activation=\"softmax\",\n",
    "        name=\"Output_Layer\"\n",
    "    )\n",
    ")"
   ]
  },
  {
   "cell_type": "code",
   "execution_count": 17,
   "id": "aaa2761a-63c3-48ce-b9bf-e7f46167b6d4",
   "metadata": {},
   "outputs": [
    {
     "name": "stdout",
     "output_type": "stream",
     "text": [
      "Model: \"sequential_1\"\n",
      "_________________________________________________________________\n",
      " Layer (type)                Output Shape              Param #   \n",
      "=================================================================\n",
      " Input_Layer (Dense)         (None, 100)               78500     \n",
      "                                                                 \n",
      " Output_Layer (Dense)        (None, 10)                1010      \n",
      "                                                                 \n",
      "=================================================================\n",
      "Total params: 79,510\n",
      "Trainable params: 79,510\n",
      "Non-trainable params: 0\n",
      "_________________________________________________________________\n"
     ]
    }
   ],
   "source": [
    "model3.summary()"
   ]
  },
  {
   "cell_type": "code",
   "execution_count": 18,
   "id": "b99a1408-d6bd-4dd5-9547-872b2e4c4b79",
   "metadata": {},
   "outputs": [],
   "source": [
    "# 모델 환경 설정\n",
    "model.compile(\n",
    "    loss=\"sparse_categorical_crossentropy\",\n",
    "    metrics=\"accuracy\"\n",
    ")\n",
    "model2.compile(\n",
    "    loss=\"sparse_categorical_crossentropy\",\n",
    "    metrics=\"accuracy\"\n",
    ")\n",
    "model3.compile(\n",
    "    loss=\"sparse_categorical_crossentropy\",\n",
    "    metrics=\"accuracy\"\n",
    ")"
   ]
  },
  {
   "cell_type": "code",
   "execution_count": 19,
   "id": "84456e33-391c-4e9e-9ac3-920606b11de5",
   "metadata": {},
   "outputs": [
    {
     "name": "stdout",
     "output_type": "stream",
     "text": [
      "Epoch 1/50\n",
      "1500/1500 [==============================] - 3s 2ms/step - loss: 0.5628 - accuracy: 0.8073\n",
      "Epoch 2/50\n",
      "1500/1500 [==============================] - 3s 2ms/step - loss: 0.4075 - accuracy: 0.8522\n",
      "Epoch 3/50\n",
      "1500/1500 [==============================] - 3s 2ms/step - loss: 0.3741 - accuracy: 0.8652\n",
      "Epoch 4/50\n",
      "1500/1500 [==============================] - 2s 2ms/step - loss: 0.3509 - accuracy: 0.8732\n",
      "Epoch 5/50\n",
      "1500/1500 [==============================] - 3s 2ms/step - loss: 0.3335 - accuracy: 0.8784\n",
      "Epoch 6/50\n",
      "1500/1500 [==============================] - 2s 2ms/step - loss: 0.3219 - accuracy: 0.8846\n",
      "Epoch 7/50\n",
      "1500/1500 [==============================] - 2s 2ms/step - loss: 0.3095 - accuracy: 0.8870\n",
      "Epoch 8/50\n",
      "1500/1500 [==============================] - 2s 2ms/step - loss: 0.2994 - accuracy: 0.8901\n",
      "Epoch 9/50\n",
      "1500/1500 [==============================] - 3s 2ms/step - loss: 0.2888 - accuracy: 0.8949\n",
      "Epoch 10/50\n",
      "1500/1500 [==============================] - 2s 2ms/step - loss: 0.2810 - accuracy: 0.8988\n",
      "Epoch 11/50\n",
      "1500/1500 [==============================] - 2s 2ms/step - loss: 0.2742 - accuracy: 0.8995\n",
      "Epoch 12/50\n",
      "1500/1500 [==============================] - 2s 2ms/step - loss: 0.2670 - accuracy: 0.9028\n",
      "Epoch 13/50\n",
      "1500/1500 [==============================] - 2s 2ms/step - loss: 0.2608 - accuracy: 0.9048\n",
      "Epoch 14/50\n",
      "1500/1500 [==============================] - 2s 2ms/step - loss: 0.2543 - accuracy: 0.9075\n",
      "Epoch 15/50\n",
      "1500/1500 [==============================] - 2s 2ms/step - loss: 0.2485 - accuracy: 0.9097\n",
      "Epoch 16/50\n",
      "1500/1500 [==============================] - 2s 2ms/step - loss: 0.2439 - accuracy: 0.9114\n",
      "Epoch 17/50\n",
      "1500/1500 [==============================] - 2s 2ms/step - loss: 0.2381 - accuracy: 0.9135\n",
      "Epoch 18/50\n",
      "1500/1500 [==============================] - 2s 2ms/step - loss: 0.2348 - accuracy: 0.9165\n",
      "Epoch 19/50\n",
      "1500/1500 [==============================] - 2s 2ms/step - loss: 0.2298 - accuracy: 0.9175\n",
      "Epoch 20/50\n",
      "1500/1500 [==============================] - 2s 2ms/step - loss: 0.2260 - accuracy: 0.9179\n",
      "Epoch 21/50\n",
      "1500/1500 [==============================] - 2s 2ms/step - loss: 0.2214 - accuracy: 0.9196\n",
      "Epoch 22/50\n",
      "1500/1500 [==============================] - 2s 2ms/step - loss: 0.2164 - accuracy: 0.9215\n",
      "Epoch 23/50\n",
      "1500/1500 [==============================] - 2s 2ms/step - loss: 0.2129 - accuracy: 0.9229\n",
      "Epoch 24/50\n",
      "1500/1500 [==============================] - 2s 2ms/step - loss: 0.2099 - accuracy: 0.9238\n",
      "Epoch 25/50\n",
      "1500/1500 [==============================] - 2s 2ms/step - loss: 0.2064 - accuracy: 0.9254\n",
      "Epoch 26/50\n",
      "1500/1500 [==============================] - 2s 2ms/step - loss: 0.2026 - accuracy: 0.9269\n",
      "Epoch 27/50\n",
      "1500/1500 [==============================] - 2s 2ms/step - loss: 0.1995 - accuracy: 0.9279\n",
      "Epoch 28/50\n",
      "1500/1500 [==============================] - 2s 2ms/step - loss: 0.1961 - accuracy: 0.9296\n",
      "Epoch 29/50\n",
      "1500/1500 [==============================] - 2s 2ms/step - loss: 0.1931 - accuracy: 0.9319\n",
      "Epoch 30/50\n",
      "1500/1500 [==============================] - 2s 2ms/step - loss: 0.1892 - accuracy: 0.9324\n",
      "Epoch 31/50\n",
      "1500/1500 [==============================] - 2s 2ms/step - loss: 0.1858 - accuracy: 0.9336\n",
      "Epoch 32/50\n",
      "1500/1500 [==============================] - 2s 2ms/step - loss: 0.1832 - accuracy: 0.9339\n",
      "Epoch 33/50\n",
      "1500/1500 [==============================] - 2s 2ms/step - loss: 0.1792 - accuracy: 0.9365\n",
      "Epoch 34/50\n",
      "1500/1500 [==============================] - 2s 2ms/step - loss: 0.1776 - accuracy: 0.9361\n",
      "Epoch 35/50\n",
      "1500/1500 [==============================] - 2s 2ms/step - loss: 0.1750 - accuracy: 0.9370\n",
      "Epoch 36/50\n",
      "1500/1500 [==============================] - 2s 2ms/step - loss: 0.1714 - accuracy: 0.9385\n",
      "Epoch 37/50\n",
      "1500/1500 [==============================] - 2s 2ms/step - loss: 0.1684 - accuracy: 0.9401\n",
      "Epoch 38/50\n",
      "1500/1500 [==============================] - 2s 2ms/step - loss: 0.1667 - accuracy: 0.9403\n",
      "Epoch 39/50\n",
      "1500/1500 [==============================] - 2s 2ms/step - loss: 0.1636 - accuracy: 0.9423\n",
      "Epoch 40/50\n",
      "1500/1500 [==============================] - 2s 2ms/step - loss: 0.1617 - accuracy: 0.9419\n",
      "Epoch 41/50\n",
      "1500/1500 [==============================] - 3s 2ms/step - loss: 0.1592 - accuracy: 0.9436\n",
      "Epoch 42/50\n",
      "1500/1500 [==============================] - 3s 2ms/step - loss: 0.1562 - accuracy: 0.9444\n",
      "Epoch 43/50\n",
      "1500/1500 [==============================] - 2s 2ms/step - loss: 0.1550 - accuracy: 0.9456\n",
      "Epoch 44/50\n",
      "1500/1500 [==============================] - 3s 2ms/step - loss: 0.1519 - accuracy: 0.9454\n",
      "Epoch 45/50\n",
      "1500/1500 [==============================] - 2s 2ms/step - loss: 0.1501 - accuracy: 0.9465\n",
      "Epoch 46/50\n",
      "1500/1500 [==============================] - 3s 2ms/step - loss: 0.1476 - accuracy: 0.9486\n",
      "Epoch 47/50\n",
      "1500/1500 [==============================] - 2s 2ms/step - loss: 0.1461 - accuracy: 0.9484\n",
      "Epoch 48/50\n",
      "1500/1500 [==============================] - 3s 2ms/step - loss: 0.1424 - accuracy: 0.9502\n",
      "Epoch 49/50\n",
      "1500/1500 [==============================] - 2s 2ms/step - loss: 0.1419 - accuracy: 0.9496\n",
      "Epoch 50/50\n",
      "1500/1500 [==============================] - 3s 2ms/step - loss: 0.1384 - accuracy: 0.9511\n"
     ]
    },
    {
     "data": {
      "text/plain": [
       "<keras.callbacks.History at 0x1f7f7672e20>"
      ]
     },
     "execution_count": 19,
     "metadata": {},
     "output_type": "execute_result"
    }
   ],
   "source": [
    "model3.fit(X_train_scaled_2d, y_train, epochs=50)"
   ]
  },
  {
   "cell_type": "code",
   "execution_count": 20,
   "id": "5ce73a13-8f6e-4b7e-ad98-c8651b47eab4",
   "metadata": {},
   "outputs": [
    {
     "name": "stdout",
     "output_type": "stream",
     "text": [
      "1500/1500 [==============================] - 2s 1ms/step - loss: 0.1291 - accuracy: 0.9541\n"
     ]
    },
    {
     "data": {
      "text/plain": [
       "[0.12910765409469604, 0.9540625214576721]"
      ]
     },
     "execution_count": 20,
     "metadata": {},
     "output_type": "execute_result"
    }
   ],
   "source": [
    "model3.evaluate(X_train_scaled_2d, y_train)"
   ]
  },
  {
   "cell_type": "code",
   "execution_count": 21,
   "id": "0ca464f2-ad25-4553-ad30-05dffd334d3b",
   "metadata": {},
   "outputs": [
    {
     "name": "stdout",
     "output_type": "stream",
     "text": [
      "375/375 [==============================] - 1s 1ms/step - loss: 0.3884 - accuracy: 0.8894\n"
     ]
    },
    {
     "data": {
      "text/plain": [
       "[0.3884243071079254, 0.8894166946411133]"
      ]
     },
     "execution_count": 21,
     "metadata": {},
     "output_type": "execute_result"
    }
   ],
   "source": [
    "model3.evaluate(X_val_scaled_2d, y_val)"
   ]
  },
  {
   "cell_type": "code",
   "execution_count": 22,
   "id": "da1aa7c3-69c1-4075-8b13-a28e64e180d4",
   "metadata": {
    "scrolled": true
   },
   "outputs": [
    {
     "name": "stdout",
     "output_type": "stream",
     "text": [
      "313/313 [==============================] - 1s 2ms/step - loss: 0.4308 - accuracy: 0.8780\n"
     ]
    },
    {
     "data": {
      "text/plain": [
       "[0.4307788610458374, 0.878000020980835]"
      ]
     },
     "execution_count": 22,
     "metadata": {},
     "output_type": "execute_result"
    }
   ],
   "source": [
    "model3.evaluate(X_test_scaled_2d, y_test)"
   ]
  },
  {
   "cell_type": "markdown",
   "id": "8ddc5674-e1e9-421b-bf42-c55f1931f95e",
   "metadata": {},
   "source": [
    "# 성능 향상하기"
   ]
  },
  {
   "cell_type": "code",
   "execution_count": 23,
   "id": "19b4de59-c794-4cab-8dd6-f779d07577a1",
   "metadata": {},
   "outputs": [
    {
     "data": {
      "text/plain": [
       "'\\n<성능 향상 방버>\\n - 데이터 양 증가시키기\\n - 하이퍼파라미터 튜닝\\n - 레이러 계층 추가 또는 제거\\n'"
      ]
     },
     "execution_count": 23,
     "metadata": {},
     "output_type": "execute_result"
    }
   ],
   "source": [
    "\"\"\"\n",
    "<성능 향상 방버>\n",
    " - 데이터 양 증가시키기\n",
    " - 하이퍼파라미터 튜닝\n",
    " - 레이러 계층 추가 또는 제거\n",
    "\"\"\""
   ]
  },
  {
   "cell_type": "markdown",
   "id": "b938b123-d960-4ce8-8095-596578917d9c",
   "metadata": {},
   "source": [
    "# 성능향상을 위한 은닉계층 추가"
   ]
  },
  {
   "cell_type": "code",
   "execution_count": 24,
   "id": "2aaeb75d-594b-42b6-b686-8a16da735dc3",
   "metadata": {},
   "outputs": [
    {
     "data": {
      "text/plain": [
       "<keras.engine.sequential.Sequential at 0x1f7ee61bf40>"
      ]
     },
     "execution_count": 24,
     "metadata": {},
     "output_type": "execute_result"
    }
   ],
   "source": [
    "model = keras.Sequential()\n",
    "model"
   ]
  },
  {
   "cell_type": "code",
   "execution_count": 25,
   "id": "3ceaf06d-be16-4da7-ac6a-2cffadac76f2",
   "metadata": {},
   "outputs": [],
   "source": [
    "# 입력 계층(Input Layer) 생성\n",
    "# - 차원 축소 계층으로 생성(전처리 계층) : flatten()\n",
    "model.add(\n",
    "    keras.layers.Flatten(\n",
    "        input_shape=(28,28),\n",
    "        name=\"Flatten_input_Layer\"\n",
    "    )\n",
    ")"
   ]
  },
  {
   "cell_type": "code",
   "execution_count": 26,
   "id": "f40d2dbf-f886-4c9b-8f62-a8d87f16827a",
   "metadata": {},
   "outputs": [],
   "source": [
    "# 은닉 계층(Hidden Layer) 생성\n",
    "model.add(\n",
    "    keras.layers.Dense(\n",
    "        units=100,\n",
    "        activation=\"relu\",\n",
    "        name=\"Hidden_Layer\"\n",
    "    )\n",
    ")"
   ]
  },
  {
   "cell_type": "code",
   "execution_count": 27,
   "id": "f8fdeabb-e897-4cf9-bf01-9e52e2d0b563",
   "metadata": {},
   "outputs": [],
   "source": [
    "# 출력 계층(Output Layer) 생성\n",
    "model.add(\n",
    "    keras.layers.Dense(\n",
    "        units=10,\n",
    "        activation=\"softmax\",\n",
    "        name=\"Output_Layer\"\n",
    "    )\n",
    ")"
   ]
  },
  {
   "cell_type": "code",
   "execution_count": 28,
   "id": "213869c8-be13-4516-9369-6e04e3b92beb",
   "metadata": {},
   "outputs": [
    {
     "name": "stdout",
     "output_type": "stream",
     "text": [
      "Model: \"sequential_2\"\n",
      "_________________________________________________________________\n",
      " Layer (type)                Output Shape              Param #   \n",
      "=================================================================\n",
      " Flatten_input_Layer (Flatte  (None, 784)              0         \n",
      " n)                                                              \n",
      "                                                                 \n",
      " Hidden_Layer (Dense)        (None, 100)               78500     \n",
      "                                                                 \n",
      " Output_Layer (Dense)        (None, 10)                1010      \n",
      "                                                                 \n",
      "=================================================================\n",
      "Total params: 79,510\n",
      "Trainable params: 79,510\n",
      "Non-trainable params: 0\n",
      "_________________________________________________________________\n"
     ]
    }
   ],
   "source": [
    "model.summary()"
   ]
  },
  {
   "cell_type": "code",
   "execution_count": 29,
   "id": "18a40ac3-45d6-424f-b579-8563bdaf9850",
   "metadata": {},
   "outputs": [],
   "source": [
    "model.compile(\n",
    "    loss=\"sparse_categorical_crossentropy\",\n",
    "    metrics=\"accuracy\"\n",
    ")"
   ]
  },
  {
   "cell_type": "code",
   "execution_count": 30,
   "id": "e55573dd-4147-4c6e-937c-ea446c608935",
   "metadata": {},
   "outputs": [],
   "source": [
    "(X_train, y_train), (X_test, y_test) = keras.datasets.fashion_mnist.load_data()"
   ]
  },
  {
   "cell_type": "code",
   "execution_count": 31,
   "id": "5e136f97-dba9-4c58-be8a-1eed37290619",
   "metadata": {},
   "outputs": [
    {
     "data": {
      "text/plain": [
       "((60000, 28, 28), (10000, 28, 28))"
      ]
     },
     "execution_count": 31,
     "metadata": {},
     "output_type": "execute_result"
    }
   ],
   "source": [
    "X_train_scaled = X_train / 255.0\n",
    "X_test_scaled = X_test / 255.0\n",
    "X_train_scaled.shape, X_test_scaled.shape"
   ]
  },
  {
   "cell_type": "code",
   "execution_count": 32,
   "id": "a61f619b-9ccc-4eb8-a8ae-2753d826f5e7",
   "metadata": {},
   "outputs": [],
   "source": [
    "X_train_scaled, X_val_scaled, y_train, y_val  = train_test_split(X_train_scaled, y_train, random_state=42, test_size=0.2)"
   ]
  },
  {
   "cell_type": "code",
   "execution_count": 33,
   "id": "462b503d-ecb0-45b9-a784-bdb309be0574",
   "metadata": {},
   "outputs": [
    {
     "name": "stdout",
     "output_type": "stream",
     "text": [
      "Epoch 1/50\n",
      "1500/1500 [==============================] - 3s 2ms/step - loss: 0.5336 - accuracy: 0.8090\n",
      "Epoch 2/50\n",
      "1500/1500 [==============================] - 2s 2ms/step - loss: 0.3934 - accuracy: 0.8579\n",
      "Epoch 3/50\n",
      "1500/1500 [==============================] - 2s 2ms/step - loss: 0.3554 - accuracy: 0.8717\n",
      "Epoch 4/50\n",
      "1500/1500 [==============================] - 2s 2ms/step - loss: 0.3342 - accuracy: 0.8801\n",
      "Epoch 5/50\n",
      "1500/1500 [==============================] - 2s 2ms/step - loss: 0.3177 - accuracy: 0.8866\n",
      "Epoch 6/50\n",
      "1500/1500 [==============================] - 2s 2ms/step - loss: 0.3103 - accuracy: 0.8915\n",
      "Epoch 7/50\n",
      "1500/1500 [==============================] - 3s 2ms/step - loss: 0.2989 - accuracy: 0.8952\n",
      "Epoch 8/50\n",
      "1500/1500 [==============================] - 3s 2ms/step - loss: 0.2912 - accuracy: 0.8974\n",
      "Epoch 9/50\n",
      "1500/1500 [==============================] - 3s 2ms/step - loss: 0.2835 - accuracy: 0.9020\n",
      "Epoch 10/50\n",
      "1500/1500 [==============================] - 3s 2ms/step - loss: 0.2798 - accuracy: 0.9025\n",
      "Epoch 11/50\n",
      "1500/1500 [==============================] - 3s 2ms/step - loss: 0.2717 - accuracy: 0.9047\n",
      "Epoch 12/50\n",
      "1500/1500 [==============================] - 3s 2ms/step - loss: 0.2660 - accuracy: 0.9068\n",
      "Epoch 13/50\n",
      "1500/1500 [==============================] - 3s 2ms/step - loss: 0.2604 - accuracy: 0.9091\n",
      "Epoch 14/50\n",
      "1500/1500 [==============================] - 3s 2ms/step - loss: 0.2566 - accuracy: 0.9117\n",
      "Epoch 15/50\n",
      "1500/1500 [==============================] - 3s 2ms/step - loss: 0.2497 - accuracy: 0.9155\n",
      "Epoch 16/50\n",
      "1500/1500 [==============================] - 3s 2ms/step - loss: 0.2464 - accuracy: 0.9166\n",
      "Epoch 17/50\n",
      "1500/1500 [==============================] - 3s 2ms/step - loss: 0.2426 - accuracy: 0.9181\n",
      "Epoch 18/50\n",
      "1500/1500 [==============================] - 2s 2ms/step - loss: 0.2393 - accuracy: 0.9185\n",
      "Epoch 19/50\n",
      "1500/1500 [==============================] - 3s 2ms/step - loss: 0.2351 - accuracy: 0.9202\n",
      "Epoch 20/50\n",
      "1500/1500 [==============================] - 3s 2ms/step - loss: 0.2333 - accuracy: 0.9227\n",
      "Epoch 21/50\n",
      "1500/1500 [==============================] - 3s 2ms/step - loss: 0.2274 - accuracy: 0.9227\n",
      "Epoch 22/50\n",
      "1500/1500 [==============================] - 2s 2ms/step - loss: 0.2242 - accuracy: 0.9260\n",
      "Epoch 23/50\n",
      "1500/1500 [==============================] - 2s 2ms/step - loss: 0.2220 - accuracy: 0.9263\n",
      "Epoch 24/50\n",
      "1500/1500 [==============================] - 2s 2ms/step - loss: 0.2210 - accuracy: 0.9271\n",
      "Epoch 25/50\n",
      "1500/1500 [==============================] - 2s 2ms/step - loss: 0.2152 - accuracy: 0.9294\n",
      "Epoch 26/50\n",
      "1500/1500 [==============================] - 3s 2ms/step - loss: 0.2119 - accuracy: 0.9294\n",
      "Epoch 27/50\n",
      "1500/1500 [==============================] - 2s 2ms/step - loss: 0.2075 - accuracy: 0.9320\n",
      "Epoch 28/50\n",
      "1500/1500 [==============================] - 2s 2ms/step - loss: 0.2070 - accuracy: 0.9310\n",
      "Epoch 29/50\n",
      "1500/1500 [==============================] - 3s 2ms/step - loss: 0.2055 - accuracy: 0.9330\n",
      "Epoch 30/50\n",
      "1500/1500 [==============================] - 2s 2ms/step - loss: 0.2008 - accuracy: 0.9341\n",
      "Epoch 31/50\n",
      "1500/1500 [==============================] - 2s 2ms/step - loss: 0.1986 - accuracy: 0.9344\n",
      "Epoch 32/50\n",
      "1500/1500 [==============================] - 3s 2ms/step - loss: 0.1975 - accuracy: 0.9360\n",
      "Epoch 33/50\n",
      "1500/1500 [==============================] - 3s 2ms/step - loss: 0.1906 - accuracy: 0.9375\n",
      "Epoch 34/50\n",
      "1500/1500 [==============================] - 2s 2ms/step - loss: 0.1929 - accuracy: 0.9365\n",
      "Epoch 35/50\n",
      "1500/1500 [==============================] - 3s 2ms/step - loss: 0.1884 - accuracy: 0.9380\n",
      "Epoch 36/50\n",
      "1500/1500 [==============================] - 2s 2ms/step - loss: 0.1880 - accuracy: 0.9389\n",
      "Epoch 37/50\n",
      "1500/1500 [==============================] - 2s 2ms/step - loss: 0.1805 - accuracy: 0.9417\n",
      "Epoch 38/50\n",
      "1500/1500 [==============================] - 3s 2ms/step - loss: 0.1819 - accuracy: 0.9408\n",
      "Epoch 39/50\n",
      "1500/1500 [==============================] - 2s 2ms/step - loss: 0.1768 - accuracy: 0.9429\n",
      "Epoch 40/50\n",
      "1500/1500 [==============================] - 3s 2ms/step - loss: 0.1763 - accuracy: 0.9432\n",
      "Epoch 41/50\n",
      "1500/1500 [==============================] - 3s 2ms/step - loss: 0.1763 - accuracy: 0.9431\n",
      "Epoch 42/50\n",
      "1500/1500 [==============================] - 2s 2ms/step - loss: 0.1735 - accuracy: 0.9451\n",
      "Epoch 43/50\n",
      "1500/1500 [==============================] - 3s 2ms/step - loss: 0.1730 - accuracy: 0.9456\n",
      "Epoch 44/50\n",
      "1500/1500 [==============================] - 2s 2ms/step - loss: 0.1700 - accuracy: 0.9458\n",
      "Epoch 45/50\n",
      "1500/1500 [==============================] - 3s 2ms/step - loss: 0.1668 - accuracy: 0.9469\n",
      "Epoch 46/50\n",
      "1500/1500 [==============================] - 2s 2ms/step - loss: 0.1675 - accuracy: 0.9469\n",
      "Epoch 47/50\n",
      "1500/1500 [==============================] - 2s 2ms/step - loss: 0.1676 - accuracy: 0.9467\n",
      "Epoch 48/50\n",
      "1500/1500 [==============================] - 2s 2ms/step - loss: 0.1600 - accuracy: 0.9480\n",
      "Epoch 49/50\n",
      "1500/1500 [==============================] - 2s 2ms/step - loss: 0.1634 - accuracy: 0.9487\n",
      "Epoch 50/50\n",
      "1500/1500 [==============================] - 3s 2ms/step - loss: 0.1556 - accuracy: 0.9508\n"
     ]
    },
    {
     "data": {
      "text/plain": [
       "<keras.callbacks.History at 0x1f7d1439c70>"
      ]
     },
     "execution_count": 33,
     "metadata": {},
     "output_type": "execute_result"
    }
   ],
   "source": [
    "model.fit(X_train_scaled, y_train, epochs=50)"
   ]
  },
  {
   "cell_type": "code",
   "execution_count": 35,
   "id": "d327f727-03cd-4a8a-8ebf-ca94518bef3e",
   "metadata": {},
   "outputs": [
    {
     "name": "stdout",
     "output_type": "stream",
     "text": [
      "1500/1500 [==============================] - 3s 2ms/step - loss: 0.1306 - accuracy: 0.9568\n"
     ]
    },
    {
     "data": {
      "text/plain": [
       "[0.13061928749084473, 0.9568125009536743]"
      ]
     },
     "execution_count": 35,
     "metadata": {},
     "output_type": "execute_result"
    }
   ],
   "source": [
    "model.evaluate(X_train_scaled, y_train)"
   ]
  },
  {
   "cell_type": "code",
   "execution_count": 36,
   "id": "5100d71d-738b-4014-8b96-ac9eb01209db",
   "metadata": {},
   "outputs": [
    {
     "name": "stdout",
     "output_type": "stream",
     "text": [
      "375/375 [==============================] - 1s 2ms/step - loss: 0.6739 - accuracy: 0.8809\n"
     ]
    },
    {
     "data": {
      "text/plain": [
       "[0.6738640666007996, 0.8809166550636292]"
      ]
     },
     "execution_count": 36,
     "metadata": {},
     "output_type": "execute_result"
    }
   ],
   "source": [
    "model.evaluate(X_val_scaled, y_val)"
   ]
  },
  {
   "cell_type": "code",
   "execution_count": 37,
   "id": "4ea9960a-d6bf-4f5d-9a9d-08aa85ca5c48",
   "metadata": {
    "scrolled": true
   },
   "outputs": [
    {
     "name": "stdout",
     "output_type": "stream",
     "text": [
      "313/313 [==============================] - 1s 2ms/step - loss: 0.7528 - accuracy: 0.8720\n"
     ]
    },
    {
     "data": {
      "text/plain": [
       "[0.7528171539306641, 0.871999979019165]"
      ]
     },
     "execution_count": 37,
     "metadata": {},
     "output_type": "execute_result"
    }
   ],
   "source": [
    "model.evaluate(X_test_scaled, y_test)"
   ]
  },
  {
   "cell_type": "markdown",
   "id": "5f6c3f9d-94b3-4379-850a-3040124e1d53",
   "metadata": {},
   "source": [
    "# 성능 향상하기 : 옵티마이저(Optimizer) 하이퍼파라미터 사용하기"
   ]
  },
  {
   "cell_type": "code",
   "execution_count": null,
   "id": "ead06b3d-827f-426d-9cdd-218655740a91",
   "metadata": {},
   "outputs": [],
   "source": [
    "# - 옵티마이저는 모델 환경설정, 즉 컨파일(compile) 시에 설정한다."
   ]
  },
  {
   "cell_type": "code",
   "execution_count": null,
   "id": "fdec7a05-20d7-4d14-8c76-dd385f442757",
   "metadata": {},
   "outputs": [],
   "source": [
    "\"\"\"\n",
    "<옵티마이저(Optimizer, 최적화) 기법>\n",
    " - 손실을 줄여나가기 위한 최적화(Optimizer) 방법을 의미함\n",
    " - 손실을 줄여나가는 최적화 방법으로 \"경사하강법\" 이론이 적용됩니다.\n",
    " - 특성들의 시작 위치에서 목적지(종속변수 위치)까지 도달하기 위한\n",
    "   기울어진 방향을 찾기 위한 방법을 의미합니다.\n",
    " - \"경사하강법\" 이론을 적용한 여러가지 방법들중 하나를 선택하여 정의\n",
    " - 옵티마이저(최적화) 방법 \n",
    "   : SGD(확률적경사하강법) < Adagrad < RMSProp < Adam, 이외 등등\n",
    " - 옵티마이저 설정 위치 : model.compile(optimizer=\"옵티마이저(최적화) 방법중 1개\")\n",
    " \n",
    "<옵티마이저(최적화) 방법 정의>\n",
    " * SGD(확률적 경사하강법)\n",
    "  - 특성이 현재 위치에서 목적지까지 도달하는 과정 중에 보폭을 크게하여\n",
    "    많은 길을 거치면서(극단적으로 방향을 바꿉니다.) 빠르게 탐색\n",
    "  - 지그 재그 모양으로 탐색하면서 나아가는 방법\n",
    "  - 아래 옵티마이저 방법들은 SGD를 근간으로 향상된 방법들 입니다.\n",
    "  - 단점 : 보폭을 크게하면서 방향을 근단적으로 바꾸기 때문에 \n",
    "           주변을 정밀하게 확인하기 어려움\n",
    "         : 보폭을 크게하기 때문에, 목적지를 건너 띄는 경우도 발생함\n",
    "                                 (종속변수를 잘 못 찾는 경우 발생)\n",
    "   \n",
    " * Adagrad\n",
    "  - SGD의 큰 보폭에 대한 단점을 보완한 방법...\n",
    "  - 학습률(보폭)을 적절하게 설정하기 위해 학습률 감소(보폭을 짧게)라는 기술 사용\n",
    "  - 학습 진행 중에 학습률을 줄여가는 방법 사용\n",
    "  - 처음에는 학습률(보폭)을 크게 학습하다가,\n",
    "    점점 작게(보폭을 짧게) 학습한다는 개념을 적용\n",
    "  - 이미 학습된 곳은 보폭을 크게하고, 학습이 완료되었던 곳은 보폭을 짧게 세밀하게 탐색\n",
    "  - 손실이 더 이상 줄어들지 않으면(손실이 0이면) 종료\n",
    "  - 단점, 목적지에 도달하지 않더라도 손실이 0이면 종료하는 단점이 있음\n",
    " \n",
    " * RMSProp\n",
    "  - Adagrad는 학습량을 점점 작게 학습하기 때문에\n",
    "    학습률(보폭)이 0이 되어 갱신되지 않는(학습되지 않는) 시점이 발생할 수 있는 \n",
    "    단점이 있음.\n",
    "  - Adagrad의 단점을 보완하여,\n",
    "    과거(이전)의 기울기 값을 반영하는 방식을 적용함\n",
    "  - 먼 과거의 기울기(경사) 값은 조금만 반영하고,\n",
    "    최근 기울기(경사)를 많이 반영하는 방식으로 처리됨\n",
    "  - 과거 데이터를 저장해 놓아야 하기 때문에, 다소 훈련 시간이 걸림\n",
    "  - 옵티마이저의 기본값(default)으로 사용됨, 생략가능\n",
    "  \n",
    " * Adam\n",
    "  - 공이 굴러가듯이 모멘텀(Momentum, 관성=방향담당)과 RMSProp을 융합한 방법\n",
    "  - 방향(momentum)과 학습률(보폭)을 적절하게하여 탐색함\n",
    "  - 자주 사용되는 기법으로, 좋은 결과를  얻을 수 있는 방법으로 유명함\n",
    "  \n",
    " * Momentum(모멘텀)\n",
    "  - 관성과 가속도를 적용하여 이동하던 방향으로 좀 더 유연하게 작동함\n",
    "  - 메모리 사용이 많은 단점이 있음\n",
    "    (과거 데이터를 저장해 놓고, 다음 과정에서 방향성(관성)을 이어 받아서 사용하게 됨)\n",
    "\"\"\""
   ]
  }
 ],
 "metadata": {
  "kernelspec": {
   "display_name": "dg_env_dl_kernel",
   "language": "python",
   "name": "dg_env_dl"
  },
  "language_info": {
   "codemirror_mode": {
    "name": "ipython",
    "version": 3
   },
   "file_extension": ".py",
   "mimetype": "text/x-python",
   "name": "python",
   "nbconvert_exporter": "python",
   "pygments_lexer": "ipython3",
   "version": "3.9.15"
  }
 },
 "nbformat": 4,
 "nbformat_minor": 5
}
