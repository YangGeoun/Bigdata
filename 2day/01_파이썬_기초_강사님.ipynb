{
 "cells": [
  {
   "cell_type": "code",
   "execution_count": 20,
   "id": "8a470cdf-2710-4d8d-8b03-6d15a5460e6f",
   "metadata": {},
   "outputs": [
    {
     "name": "stdout",
     "output_type": "stream",
     "text": [
      "hello python....^^\n"
     ]
    }
   ],
   "source": [
    "### 화면에 출력해줘....컴퓨터에게 요청(명령)하기위한 언어로 작성\n",
    "print(\"hello python....^^\")\n",
    "\n",
    "# 샾을 주석이라고 합니다. (설명을 넣을 때 사용, 실행되지 않아요)\n",
    "# <실행방법 3가지>\n",
    "# - [Ctrl + Enter]\n",
    "# - [Alt + Enter]\n",
    "# - [Shift + Enter] : 가장 많이 사용하는 실행 단축키"
   ]
  },
  {
   "cell_type": "markdown",
   "id": "4d5f29b9-7de8-4d00-92b8-ad80f0e23d85",
   "metadata": {},
   "source": [
    "# 제목 넣기...."
   ]
  },
  {
   "cell_type": "markdown",
   "id": "2ec8e98c-9b27-424d-807b-d4c801c1aed2",
   "metadata": {},
   "source": [
    "## 샾2개 제목"
   ]
  },
  {
   "cell_type": "markdown",
   "id": "049d04fc-4b3e-41b7-9042-f26753fcdbf4",
   "metadata": {},
   "source": [
    "### 샵 3개...\n",
    "#### 샵 4개....\n",
    "##### 샵 5개.....\n",
    "- 샵의 갯에 따라서 글자 폰트의 사이즈가 변경 됩니다.\n",
    "- html을 알고계신 분들은 h1~h5 태그와 같다고 보시면 됩니다."
   ]
  },
  {
   "cell_type": "markdown",
   "id": "2492c928-6020-4269-acfd-8e6d9dc2eef8",
   "metadata": {},
   "source": [
    "### 변수 정의하기"
   ]
  },
  {
   "cell_type": "code",
   "execution_count": 21,
   "id": "2e329e6f-353e-4994-b7ac-60a331c876c8",
   "metadata": {},
   "outputs": [],
   "source": [
    "a = 32"
   ]
  },
  {
   "cell_type": "code",
   "execution_count": 22,
   "id": "3e2be2f0-25e9-4f93-9ec4-f35e44cdc226",
   "metadata": {},
   "outputs": [
    {
     "name": "stdout",
     "output_type": "stream",
     "text": [
      "32\n"
     ]
    }
   ],
   "source": [
    "print(a)"
   ]
  },
  {
   "cell_type": "code",
   "execution_count": 23,
   "id": "6a96691c-bf07-4a83-a10d-f72bf3cc85e4",
   "metadata": {},
   "outputs": [],
   "source": [
    "### 정수형 타입(int type)\n",
    "a = 40"
   ]
  },
  {
   "cell_type": "code",
   "execution_count": 24,
   "id": "5e4f0eab-e0f9-4360-859f-85a2d3393fd3",
   "metadata": {},
   "outputs": [
    {
     "name": "stdout",
     "output_type": "stream",
     "text": [
      "40\n"
     ]
    }
   ],
   "source": [
    "print(a)"
   ]
  },
  {
   "cell_type": "code",
   "execution_count": 25,
   "id": "6943ecc6-4074-4ef0-b41c-6b66a53c9c98",
   "metadata": {},
   "outputs": [
    {
     "data": {
      "text/plain": [
       "1.2"
      ]
     },
     "execution_count": 25,
     "metadata": {},
     "output_type": "execute_result"
    }
   ],
   "source": [
    "### 실수형 타입 (float type)\n",
    "a = 1.2\n",
    "a"
   ]
  },
  {
   "cell_type": "code",
   "execution_count": 26,
   "id": "d216ece3-cd3e-46bd-ba8b-420dfdef9be7",
   "metadata": {},
   "outputs": [
    {
     "data": {
      "text/plain": [
       "'문자열 타입 str 입니다'"
      ]
     },
     "execution_count": 26,
     "metadata": {},
     "output_type": "execute_result"
    }
   ],
   "source": [
    "### 문자열 타입(str type)\n",
    "a = \"문자열 타입 str 입니다\"\n",
    "a"
   ]
  },
  {
   "cell_type": "code",
   "execution_count": 27,
   "id": "9aa2d987-ed82-446f-8f06-ce993a59fdc1",
   "metadata": {},
   "outputs": [],
   "source": [
    "### bool 타입\n",
    "a = True\n",
    "a = False"
   ]
  },
  {
   "cell_type": "code",
   "execution_count": 28,
   "id": "a327607f-14f8-4170-b314-d84e79dfcb3f",
   "metadata": {},
   "outputs": [
    {
     "data": {
      "text/plain": [
       "([1, 2, 1.1, 2.22, '리스트 타입'], [2, 3, [1, 2, 1.1, 2.22, '리스트 타입']])"
      ]
     },
     "execution_count": 28,
     "metadata": {},
     "output_type": "execute_result"
    }
   ],
   "source": [
    "### 여러개의 값들을 관리하는 타입\n",
    "# - 리스트(List) 타입 : 다양한 타입들을 콤마로 구분해서 관리할 수 있음\n",
    "#    -- 대괄호로 묶어서 관리합니다. 묶음 자체를 메모리 주소로 관리합니다.\n",
    "#    -- 리스트 안에 리스트를 넣을수도 있습니다.(다양한 타입을 넣을 수 있기 때문에)\n",
    "a = [1, 2, 1.1, 2.22, \"리스트 타입\"]\n",
    "b = [2, 3, a]\n",
    "a, b"
   ]
  },
  {
   "cell_type": "code",
   "execution_count": 29,
   "id": "1b1a592c-15c4-432a-8a91-4d2100e6b23d",
   "metadata": {},
   "outputs": [
    {
     "data": {
      "text/plain": [
       "(1.1, 1, '리스트 타입')"
      ]
     },
     "execution_count": 29,
     "metadata": {},
     "output_type": "execute_result"
    }
   ],
   "source": [
    "a[2], a[0], a[4]"
   ]
  },
  {
   "cell_type": "code",
   "execution_count": 30,
   "id": "53f93ed2-d22c-4d49-8844-dbe638f79346",
   "metadata": {},
   "outputs": [
    {
     "data": {
      "text/plain": [
       "[5, 2, 1.1, 2.22, '리스트 타입']"
      ]
     },
     "execution_count": 30,
     "metadata": {},
     "output_type": "execute_result"
    }
   ],
   "source": [
    "a[0] = 5\n",
    "a"
   ]
  },
  {
   "cell_type": "code",
   "execution_count": 31,
   "id": "983e3084-8600-467e-ba69-0a520c543f3e",
   "metadata": {},
   "outputs": [
    {
     "data": {
      "text/plain": [
       "[2, 3, [5, 2, 1.1, 2.22, '리스트 타입']]"
      ]
     },
     "execution_count": 31,
     "metadata": {},
     "output_type": "execute_result"
    }
   ],
   "source": [
    "b"
   ]
  },
  {
   "cell_type": "code",
   "execution_count": 32,
   "id": "fc32027a-6b4d-4e87-a3ae-482835b5a674",
   "metadata": {},
   "outputs": [
    {
     "data": {
      "text/plain": [
       "([5, 2, 1.1, 2.22, '리스트 타입'], '리스트 타입')"
      ]
     },
     "execution_count": 32,
     "metadata": {},
     "output_type": "execute_result"
    }
   ],
   "source": [
    "b[2], b[2][4]"
   ]
  },
  {
   "cell_type": "code",
   "execution_count": 33,
   "id": "528199b5-9a0a-46c7-a2ed-f39580e1d1d4",
   "metadata": {},
   "outputs": [
    {
     "name": "stdout",
     "output_type": "stream",
     "text": [
      "1\n",
      "3\n",
      "5\n",
      "7\n",
      "9\n"
     ]
    }
   ],
   "source": [
    "### 반복문...여러번 반복하면서 수행해야 하는 경우에 사용\n",
    "# - 반복문 : for문 이라고 칭합니다.\n",
    "# - 작성 방법 : for 임의변수 in 반복범위(=반복패턴) :\n",
    "# - range() 범위를 만들어 내는 기능(함수)\n",
    "#   -- range(시작값, 끝값-1, 반복하면서 증가할 값)\n",
    "#      --- 0부터 1씩 증가하면서 9까지 반복 하겠다는 의미\n",
    "# - range(0, 10, 1)의 결과값은 --> [1, 2, 3, 4, 5, 6, 7, 8, 9]\n",
    "# - for문의 반복은 리스트 안에 있는 인덱스 번호의 공간 갯수 만큼 반복함\n",
    "# - 1번째 반복은 -> 리스트에서 0번째 인덱스의 값을 추출하여 -> i 변수에 넣어 줍니다.\n",
    "for i in range(1, 10, 2) :\n",
    "    print(i)"
   ]
  },
  {
   "cell_type": "code",
   "execution_count": 34,
   "id": "98cef0bf-5f87-43a1-8b5c-82a20079574a",
   "metadata": {},
   "outputs": [
    {
     "name": "stdout",
     "output_type": "stream",
     "text": [
      "5\n",
      "2\n",
      "1.1\n",
      "2.22\n",
      "리스트 타입\n",
      "[5, 2, 1.1, 2.22, '리스트 타입'] [2, 3, [5, 2, 1.1, 2.22, '리스트 타입']]\n"
     ]
    }
   ],
   "source": [
    "for i in a :\n",
    "    print(i)\n",
    "\n",
    "print(a, b)"
   ]
  },
  {
   "cell_type": "code",
   "execution_count": 35,
   "id": "8ac44724-1b66-41dd-a00a-768ba5e8d609",
   "metadata": {},
   "outputs": [
    {
     "data": {
      "text/plain": [
       "{'name': ['홍길동', '이순신', '김유신'],\n",
       " 'age': [30, 40, 50],\n",
       " 'addr': ['서울', '대전', '대구']}"
      ]
     },
     "execution_count": 35,
     "metadata": {},
     "output_type": "execute_result"
    }
   ],
   "source": [
    "name = [\"홍길동\", \"이순신\", \"김유신\"]\n",
    "age  = [30, 40, 50]\n",
    "addr = [\"서울\", \"대전\", \"대구\"]\n",
    "name, age, addr\n",
    "### key와 value로 관리하는 타입(여러개의 데이터를 저장할 수 있는 공간)\n",
    "# -> 딕셔너리(dict) 타입 : 중괄호로 메모리를 관리 {key : value, key1 : value1....}\n",
    "# -> 딕셔너리 안에 value 값으로 딕션너리 또는 일반변수 형태를 사용할 수 있음\n",
    "a_dict = {\"name\" : name, \"age\" : age, \"addr\" : addr}\n",
    "a_dict"
   ]
  },
  {
   "cell_type": "code",
   "execution_count": 36,
   "id": "1faf18ef-f42e-49da-9483-787c61efcc98",
   "metadata": {},
   "outputs": [
    {
     "data": {
      "text/plain": [
       "(['홍길동', '이순신', '김유신'], '김유신')"
      ]
     },
     "execution_count": 36,
     "metadata": {},
     "output_type": "execute_result"
    }
   ],
   "source": [
    "a_dict[\"name\"], a_dict[\"name\"][2]"
   ]
  },
  {
   "cell_type": "code",
   "execution_count": 37,
   "id": "68d981fc-d04b-41b9-8303-d5493cf05d41",
   "metadata": {},
   "outputs": [
    {
     "data": {
      "text/plain": [
       "(1,\n",
       " 2.2,\n",
       " 'abc',\n",
       " {'name': ['홍길동', '이순신', '김유신'],\n",
       "  'age': [30, 40, 50],\n",
       "  'addr': ['서울', '대전', '대구']})"
      ]
     },
     "execution_count": 37,
     "metadata": {},
     "output_type": "execute_result"
    }
   ],
   "source": [
    "### 튜플은 소괄호를 이용해서 값을 정의합니다.\n",
    "a = (1, 2.2, \"abc\", a_dict)\n",
    "a"
   ]
  },
  {
   "cell_type": "code",
   "execution_count": 40,
   "id": "2fec2287-009a-4802-9b83-499ad1fb6b6e",
   "metadata": {},
   "outputs": [
    {
     "ename": "TypeError",
     "evalue": "'tuple' object does not support item assignment",
     "output_type": "error",
     "traceback": [
      "\u001b[1;31m--------------------------------------------------------------\u001b[0m",
      "\u001b[1;31mTypeError\u001b[0m                    Traceback (most recent call last)",
      "Cell \u001b[1;32mIn[40], line 1\u001b[0m\n\u001b[1;32m----> 1\u001b[0m \u001b[43ma\u001b[49m\u001b[43m[\u001b[49m\u001b[38;5;241;43m2\u001b[39;49m\u001b[43m]\u001b[49m \u001b[38;5;241m=\u001b[39m \u001b[38;5;124m\"\u001b[39m\u001b[38;5;124mdfg\u001b[39m\u001b[38;5;124m\"\u001b[39m\n",
      "\u001b[1;31mTypeError\u001b[0m: 'tuple' object does not support item assignment"
     ]
    }
   ],
   "source": [
    "a[2] = \"dfg\""
   ]
  },
  {
   "cell_type": "code",
   "execution_count": 38,
   "id": "04fbd3ba-7633-4dfd-b6e3-e3ed10cda2a5",
   "metadata": {},
   "outputs": [
    {
     "data": {
      "text/plain": [
       "'\\n<변수 타입 정의>\\n 1. 하나의 값만 저장할 수 있는 일반변수\\n  * 정수 타입(소숫점이 없음) : int\\n  * 실수 타입(소숫점이 있음) : float\\n  * 문자열 타입 : str\\n  * 참(True or 1)/거짓(False or 0) 타입 : bool\\n\\n 2. 여러개의 값을 저장할 수 있는 변수\\n  * 리스트 타입 : 여러개의 값을 가지고 다님(타입은 무관)\\n               : 사용하는 기호는 -> 대괄호 [1, 1.4, \"a\", [], {}]\\n  * 딕셔너리 타입 : 여러개의 값을 가지고 다님(Key와 value 형태로 되어 있음)\\n                 : 사용하는 기호는 -> 중괄호 {\"k1\":\"v1\", \"k2\":[1, 2.2], \"k3\":{}}\\n  * 튜플 타입 : 여러개의 값을 가지고 다님(타입 무관) => 리스트와 동일\\n              : 단, 리스트와 차이점은 -> 값들 수정 불가\\n              : 사용하는 기호는 -> 소괄호 (1, 1.4, \"a\", [], {})\\n  \\n'"
      ]
     },
     "execution_count": 38,
     "metadata": {},
     "output_type": "execute_result"
    }
   ],
   "source": [
    "\"\"\"\n",
    "<변수 타입 정의>\n",
    " 1. 하나의 값만 저장할 수 있는 일반변수\n",
    "  * 정수 타입(소숫점이 없음) : int\n",
    "  * 실수 타입(소숫점이 있음) : float\n",
    "  * 문자열 타입 : str\n",
    "  * 참(True or 1)/거짓(False or 0) 타입 : bool\n",
    "\n",
    " 2. 여러개의 값을 저장할 수 있는 변수\n",
    "  * 리스트 타입 : 여러개의 값을 가지고 다님(타입은 무관)\n",
    "               : 사용하는 기호는 -> 대괄호 [1, 1.4, \"a\", [], {}]\n",
    "  * 딕셔너리 타입 : 여러개의 값을 가지고 다님(Key와 value 형태로 되어 있음)\n",
    "                 : 사용하는 기호는 -> 중괄호 {\"k1\":\"v1\", \"k2\":[1, 2.2], \"k3\":{}}\n",
    "  * 튜플 타입 : 여러개의 값을 가지고 다님(타입 무관) => 리스트와 동일\n",
    "              : 단, 리스트와 차이점은 -> 값들 수정 불가\n",
    "              : 사용하는 기호는 -> 소괄호 (1, 1.4, \"a\", [], {})\n",
    "  \n",
    "\"\"\""
   ]
  },
  {
   "cell_type": "code",
   "execution_count": 41,
   "id": "95f324c1-07c1-498b-a3df-fd5dda91d337",
   "metadata": {},
   "outputs": [
    {
     "data": {
      "text/plain": [
       "{'name': ['홍길동', '이순신', '김유신'],\n",
       " 'age': [30, 40, 50],\n",
       " 'addr': ['서울', '대전', '대구']}"
      ]
     },
     "execution_count": 41,
     "metadata": {},
     "output_type": "execute_result"
    }
   ],
   "source": [
    "a_dict"
   ]
  },
  {
   "cell_type": "code",
   "execution_count": 43,
   "id": "f6593818-fd9b-48a8-a42a-e76e037bd160",
   "metadata": {},
   "outputs": [
    {
     "data": {
      "text/plain": [
       "([30, 40, 50], ['홍길동', '이순신', '김유신'])"
      ]
     },
     "execution_count": 43,
     "metadata": {},
     "output_type": "execute_result"
    }
   ],
   "source": [
    "a_dict[\"age\"], a_dict[\"name\"]"
   ]
  },
  {
   "cell_type": "code",
   "execution_count": 46,
   "id": "0fc2e84d-8e14-4c7f-b2d5-9e2dbb08a220",
   "metadata": {},
   "outputs": [
    {
     "name": "stdout",
     "output_type": "stream",
     "text": [
      "name\n",
      "age\n",
      "addr\n"
     ]
    }
   ],
   "source": [
    "for i in a_dict :\n",
    "    print(i)"
   ]
  },
  {
   "cell_type": "code",
   "execution_count": 47,
   "id": "aca6dece-78c9-47aa-8e41-58be7b7fa6af",
   "metadata": {},
   "outputs": [
    {
     "data": {
      "text/plain": [
       "dict_keys(['name', 'age', 'addr'])"
      ]
     },
     "execution_count": 47,
     "metadata": {},
     "output_type": "execute_result"
    }
   ],
   "source": [
    "### 딕셔너리에서 key값만 추출하기 : 리스트 타입으로 반환해 줍니다.\n",
    "# keys() : 딕셔너리 내에서 key만 추출하는 기능을 수행함\n",
    "a_dict.keys()"
   ]
  },
  {
   "cell_type": "code",
   "execution_count": 50,
   "id": "d184d283-c578-484d-a426-0f18aa1e6a32",
   "metadata": {},
   "outputs": [
    {
     "name": "stdout",
     "output_type": "stream",
     "text": [
      "name ['홍길동', '이순신', '김유신']\n",
      "age [30, 40, 50]\n",
      "addr ['서울', '대전', '대구']\n"
     ]
    }
   ],
   "source": [
    "for i in a_dict.keys() :\n",
    "    print(i, a_dict[i])"
   ]
  },
  {
   "cell_type": "code",
   "execution_count": 51,
   "id": "a9bd1684-e6d2-4824-9c83-ddfb0fa05fcd",
   "metadata": {},
   "outputs": [
    {
     "data": {
      "text/plain": [
       "dict_values([['홍길동', '이순신', '김유신'], [30, 40, 50], ['서울', '대전', '대구']])"
      ]
     },
     "execution_count": 51,
     "metadata": {},
     "output_type": "execute_result"
    }
   ],
   "source": [
    "### values() : 딕셔너리 내에서 값들만 추출하는 기능을 수행\n",
    "a_dict.values()"
   ]
  },
  {
   "cell_type": "code",
   "execution_count": 52,
   "id": "538b092d-65aa-48ca-8a79-5eace5adc505",
   "metadata": {},
   "outputs": [
    {
     "data": {
      "text/plain": [
       "dict_items([('name', ['홍길동', '이순신', '김유신']), ('age', [30, 40, 50]), ('addr', ['서울', '대전', '대구'])])"
      ]
     },
     "execution_count": 52,
     "metadata": {},
     "output_type": "execute_result"
    }
   ],
   "source": [
    "a_dict.items()"
   ]
  },
  {
   "cell_type": "code",
   "execution_count": 55,
   "id": "08cb81fc-3774-41f7-bfd7-3ebb8e354a75",
   "metadata": {},
   "outputs": [
    {
     "name": "stdout",
     "output_type": "stream",
     "text": [
      "name  :  ['홍길동', '이순신', '김유신']\n",
      "age  :  [30, 40, 50]\n",
      "addr  :  ['서울', '대전', '대구']\n"
     ]
    }
   ],
   "source": [
    "for k, v in a_dict.items() :\n",
    "    print(k, \" : \" ,v)"
   ]
  },
  {
   "cell_type": "code",
   "execution_count": 68,
   "id": "0c4ee681-cb7c-4673-936e-9e35cf2b252e",
   "metadata": {},
   "outputs": [
    {
     "name": "stdout",
     "output_type": "stream",
     "text": [
      "105 126\n"
     ]
    }
   ],
   "source": [
    "### 조건 넣기 : if 사용\n",
    "# 작성 방법 : if 조건 :\n",
    "# \"조건\"으로 사용할 수 있는 방법 : 비교 연산자, 논리 연산자\n",
    "# 비교 연산자 : 크다, 작다, 크거나 같다, 작거나 같다, 같다, 같지않다\n",
    "#            :  >  ,  < ,     >=,      <=,         ==,   !=\n",
    "#            : 기준값 > 비교값\n",
    "# 논리 연산자 : 두개 이상의 조건을 모두 만족 해야할 경우 -> and\n",
    "#            : 둘중 하나만 만족하면 되는 경우 -> or\n",
    "#            : (기준값1 > 비교값1) and (기준값2 <= 비교값2)\n",
    "aa = 50\n",
    "bb = 60\n",
    "aa1 = 55\n",
    "bb1 = 66\n",
    "### 조건문(if)\n",
    "if aa > bb :\n",
    "    print(\"if의 시작은 무조건 참인 조건인 경우만 수행됩니다.\")\n",
    "elif bb > bb1 :\n",
    "    print(\"bb가 bb1보다 크네요.....\")\n",
    "elif (aa > bb) and (bb < bb1) :\n",
    "    print(aa + aa1, bb + bb1)\n",
    "elif (aa > bb) or (bb < bb1) :\n",
    "    print(aa + aa1, bb + bb1)\n",
    "else :\n",
    "    print(\"위에서 참인 조건이 없을 때 무조건 실행하는 영역\")"
   ]
  },
  {
   "cell_type": "code",
   "execution_count": 56,
   "id": "7a74cb98-8a2d-4600-b474-4ebbc57cd375",
   "metadata": {},
   "outputs": [
    {
     "name": "stdout",
     "output_type": "stream",
     "text": [
      "name  :  ['홍길동', '이순신', '김유신']\n",
      "age  :  [30, 40, 50]\n",
      "addr  :  ['서울', '대전', '대구']\n"
     ]
    }
   ],
   "source": [
    "for k, v in a_dict.items() :\n",
    "    print(k, \" : \" ,v)\n",
    "\n",
    "    ## 조건 넣기 : if 사용"
   ]
  },
  {
   "cell_type": "code",
   "execution_count": null,
   "id": "894e0775-6ced-4fbd-8261-888bb1cb7f7a",
   "metadata": {},
   "outputs": [],
   "source": [
    "### 함수 : 특정 기능을 만들어 놓은 것\n",
    "#        : 여러 곳에서 또는 너무 긴 연산처리 등이 수행될때 사용\n",
    "\n",
    "### 클래스 : 여러 변수와 함수들을 모아놓은 것\n",
    "#         : 특정 성격에 맞는 기능들을 보아서 하나로 관리할 때 사용"
   ]
  },
  {
   "cell_type": "code",
   "execution_count": 69,
   "id": "c5e4bbe1-a279-48cc-be15-3b24b4bdd735",
   "metadata": {},
   "outputs": [],
   "source": [
    "### 함수 정의하기\n",
    "# - 함수를 정희할 때는 def로 시작\n",
    "# def 함수이름(매개변수1, 매개변수2) :\n",
    "\n",
    "def views() :\n",
    "    ### 함수가 처리할 기능(프로그래) 수행 영역\n",
    "    print(\"함수가 호출되었습니다.\")"
   ]
  },
  {
   "cell_type": "code",
   "execution_count": 70,
   "id": "bd69478e-165c-4f50-bde2-d7e944931566",
   "metadata": {},
   "outputs": [
    {
     "name": "stdout",
     "output_type": "stream",
     "text": [
      "함수가 호출되었습니다.\n"
     ]
    }
   ],
   "source": [
    "### 함수 호출하기 : 정의된 함수(기다리는 함수)를 불러서 사용하기\n",
    "views()"
   ]
  },
  {
   "cell_type": "code",
   "execution_count": 71,
   "id": "23761b2f-24d6-485b-adb9-c2a4464ac365",
   "metadata": {},
   "outputs": [],
   "source": [
    "### 두개의 매개변수를 받아서 합한 값을 출력하는 기능을 수행하는 함수\n",
    "def plus(p_a, p_b) :\n",
    "    ### 함수가 처리할 기능(프로그래) 수행 영역\n",
    "    total = p_a + p_b\n",
    "    print(\"p_a + p_b = \", total)"
   ]
  },
  {
   "cell_type": "code",
   "execution_count": 72,
   "id": "d7de42e5-18c5-4503-8e10-145a170dc534",
   "metadata": {},
   "outputs": [
    {
     "name": "stdout",
     "output_type": "stream",
     "text": [
      "p_a + p_b =  99\n"
     ]
    }
   ],
   "source": [
    "### plus 함수 호출하기\n",
    "# plus()함수가 2개의 매개변수를 받게 되어 있기에\n",
    "#  --> 2개의 값을 넘겨 주면 됩니다. (이때 넘겨주는 값들을 인자값)\n",
    "plus(44, 55)"
   ]
  },
  {
   "cell_type": "code",
   "execution_count": 73,
   "id": "4bb80fa8-8733-42be-a7e9-3238d2620a0b",
   "metadata": {},
   "outputs": [],
   "source": [
    "### 두개의 매개변수를 받아서 합한 값을 반환하는 기능을 수행하는 함수\n",
    "def plus(p_a, p_b) :\n",
    "    ### 함수가 처리할 기능(프로그래) 수행 영역\n",
    "    total = p_a + p_b\n",
    "    ### 처리된 결과값을 반환(return)하기\n",
    "    # 함수를 호출한 쪽으로 반환\n",
    "    return total"
   ]
  },
  {
   "cell_type": "code",
   "execution_count": 75,
   "id": "9bd5b21d-4aa1-4984-8d3e-27109a19eef8",
   "metadata": {},
   "outputs": [],
   "source": [
    "t = plus(100, 50)"
   ]
  },
  {
   "cell_type": "code",
   "execution_count": 76,
   "id": "1418e4f7-0b6e-4f62-982a-89892bc58226",
   "metadata": {},
   "outputs": [
    {
     "data": {
      "text/plain": [
       "150"
      ]
     },
     "execution_count": 76,
     "metadata": {},
     "output_type": "execute_result"
    }
   ],
   "source": [
    "t"
   ]
  },
  {
   "cell_type": "code",
   "execution_count": 77,
   "id": "300b25ba-6b2f-485f-b024-93eea58d1792",
   "metadata": {},
   "outputs": [],
   "source": [
    "def view(p) :\n",
    "    print(\"값 출력하기 : \", p)"
   ]
  },
  {
   "cell_type": "code",
   "execution_count": 78,
   "id": "a43e9499-7e79-44d4-8be5-a98fde155fe9",
   "metadata": {},
   "outputs": [
    {
     "name": "stdout",
     "output_type": "stream",
     "text": [
      "값 출력하기 :  260\n"
     ]
    }
   ],
   "source": [
    "view(plus(200, 60))"
   ]
  },
  {
   "cell_type": "code",
   "execution_count": 81,
   "id": "dff5aa37-ac40-456c-bc6d-edfd31625700",
   "metadata": {},
   "outputs": [],
   "source": [
    "def view(p1, p2) :\n",
    "    tt = plus(p1, p2)\n",
    "    print(\"값 출력하기~~~~~~ : \", tt)"
   ]
  },
  {
   "cell_type": "code",
   "execution_count": 82,
   "id": "40a10e9b-f9ee-46d7-a44b-2309f97605ce",
   "metadata": {},
   "outputs": [
    {
     "name": "stdout",
     "output_type": "stream",
     "text": [
      "값 출력하기~~~~~~ :  1050\n"
     ]
    }
   ],
   "source": [
    "view(1000, 50)"
   ]
  },
  {
   "cell_type": "code",
   "execution_count": 83,
   "id": "e2fa3990-8ce6-4c3b-be80-bad277ccbe50",
   "metadata": {},
   "outputs": [],
   "source": [
    "### 기능들을 하나의 묶음으로 관리하고자 할때 -> 클래스 사용\n",
    "# - 클래스 정의하기 : 클래스 이름의 첫글자는 대문자로 합니다.\n",
    "# - 클래스 내부에서 함수 정의할 때는 매개변수 self를 필수로 사용\n",
    "# - self : 클래스 자체의 메모리 대표 주소를 의미함\n",
    "class Utils :\n",
    "    def view(self, p) :\n",
    "        print(\"값 출력하기 : \", p)\n",
    "\n",
    "    ### 두개의 매개변수를 받아서 합한 값을 반환하는 기능을 수행하는 함수\n",
    "    def plus(self, p_a, p_b) :\n",
    "        ### 함수가 처리할 기능(프로그래) 수행 영역\n",
    "        total = p_a + p_b\n",
    "        ### 처리된 결과값을 반환(return)하기\n",
    "        # 함수를 호출한 쪽으로 반환\n",
    "        return total\n",
    "\n",
    "    def view2(self, p1, p2) :\n",
    "        tt = plus(p1, p2)\n",
    "        print(\"값 출력하기~~~~~~ : \", tt)"
   ]
  },
  {
   "cell_type": "code",
   "execution_count": 89,
   "id": "96a8b885-1925-47ff-b97d-a67b415a8ede",
   "metadata": {},
   "outputs": [
    {
     "name": "stdout",
     "output_type": "stream",
     "text": [
      "값 출력하기 :  100\n",
      "70\n",
      "값 출력하기~~~~~~ :  70\n"
     ]
    }
   ],
   "source": [
    "### 클래스는 생성한다는 의미를 사용함 (호출의 개념이 아님)\n",
    "# - 클래스는 생성할 때 --> 메모리가 만들어 집니다.\n",
    "\n",
    "### 클래스 생성하기 : 이때 대표 클래스의 주소가 만들어짐\n",
    "u = Utils()\n",
    "u\n",
    "u.view(100)\n",
    "print(u.plus(20, 50))\n",
    "u.view2(20, 50)"
   ]
  },
  {
   "cell_type": "code",
   "execution_count": null,
   "id": "688cf716-71bd-4f87-990b-320058fc22d1",
   "metadata": {},
   "outputs": [],
   "source": []
  }
 ],
 "metadata": {
  "kernelspec": {
   "display_name": "dg_env_all_kernel",
   "language": "python",
   "name": "dg_env_all"
  },
  "language_info": {
   "codemirror_mode": {
    "name": "ipython",
    "version": 3
   },
   "file_extension": ".py",
   "mimetype": "text/x-python",
   "name": "python",
   "nbconvert_exporter": "python",
   "pygments_lexer": "ipython3",
   "version": "3.9.21"
  }
 },
 "nbformat": 4,
 "nbformat_minor": 5
}
