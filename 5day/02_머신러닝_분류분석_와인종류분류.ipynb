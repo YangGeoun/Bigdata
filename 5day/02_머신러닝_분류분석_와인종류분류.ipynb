{
 "cells": [
  {
   "cell_type": "code",
   "execution_count": 1,
   "id": "47d84b6a-e86e-4ef8-a309-f6d9b32bdec7",
   "metadata": {},
   "outputs": [
    {
     "data": {
      "text/plain": [
       "'\\n<분류 모델>\\n - 앙상블 모델들을 주로 사용\\n - 랜덤포레스트, 엑스트라트리, 그레디언트부스팅, 히스트그레디언트부스팅, XGBoosting, 이외 다수\\n - 앙상블 모델의 대표 모델은 랜덤포레스트 모델\\n - 훈련시 램덤포레스트 모델 훈련 후 나머지 모델 훈련...\\n - 훈련 후 -> 편가하여 비교 후 -> 최종 분류 모델 선정\\n - 평가 함수 : 정확도, 정밀도, 재현율, F1-Score \\n - 선정 우선순위 : F1-Score > 재현율 이중 정확도 확인하여 선정\\n'"
      ]
     },
     "execution_count": 1,
     "metadata": {},
     "output_type": "execute_result"
    }
   ],
   "source": [
    "\"\"\"\n",
    "<분류 모델>\n",
    " - 앙상블 모델들을 주로 사용\n",
    " - 랜덤포레스트, 엑스트라트리, 그레디언트부스팅, 히스트그레디언트부스팅, XGBoosting, 이외 다수\n",
    " - 앙상블 모델의 대표 모델은 랜덤포레스트 모델\n",
    " - 훈련시 램덤포레스트 모델 훈련 후 나머지 모델 훈련...\n",
    " - 훈련 후 -> 편가하여 비교 후 -> 최종 분류 모델 선정\n",
    " - 평가 함수 : 정확도, 정밀도, 재현율, F1-Score \n",
    " - 선정 우선순위 : F1-Score > 재현율 이중 정확도 확인하여 선정\n",
    "\"\"\""
   ]
  },
  {
   "cell_type": "code",
   "execution_count": 2,
   "id": "c978af8c-8acc-44fb-b523-5c66992ffcbf",
   "metadata": {},
   "outputs": [],
   "source": [
    "import pandas as pd"
   ]
  },
  {
   "cell_type": "code",
   "execution_count": 3,
   "id": "18eb9f9a-6146-46c0-870b-d3806825e38f",
   "metadata": {},
   "outputs": [
    {
     "name": "stdout",
     "output_type": "stream",
     "text": [
      "<class 'pandas.core.frame.DataFrame'>\n",
      "RangeIndex: 6497 entries, 0 to 6496\n",
      "Data columns (total 4 columns):\n",
      " #   Column   Non-Null Count  Dtype  \n",
      "---  ------   --------------  -----  \n",
      " 0   alcohol  6497 non-null   float64\n",
      " 1   sugar    6497 non-null   float64\n",
      " 2   pH       6497 non-null   float64\n",
      " 3   class    6497 non-null   float64\n",
      "dtypes: float64(4)\n",
      "memory usage: 203.2 KB\n"
     ]
    },
    {
     "data": {
      "text/html": [
       "<div>\n",
       "<style scoped>\n",
       "    .dataframe tbody tr th:only-of-type {\n",
       "        vertical-align: middle;\n",
       "    }\n",
       "\n",
       "    .dataframe tbody tr th {\n",
       "        vertical-align: top;\n",
       "    }\n",
       "\n",
       "    .dataframe thead th {\n",
       "        text-align: right;\n",
       "    }\n",
       "</style>\n",
       "<table border=\"1\" class=\"dataframe\">\n",
       "  <thead>\n",
       "    <tr style=\"text-align: right;\">\n",
       "      <th></th>\n",
       "      <th>alcohol</th>\n",
       "      <th>sugar</th>\n",
       "      <th>pH</th>\n",
       "      <th>class</th>\n",
       "    </tr>\n",
       "  </thead>\n",
       "  <tbody>\n",
       "    <tr>\n",
       "      <th>count</th>\n",
       "      <td>6497.000000</td>\n",
       "      <td>6497.000000</td>\n",
       "      <td>6497.000000</td>\n",
       "      <td>6497.000000</td>\n",
       "    </tr>\n",
       "    <tr>\n",
       "      <th>mean</th>\n",
       "      <td>10.491801</td>\n",
       "      <td>5.443235</td>\n",
       "      <td>3.218501</td>\n",
       "      <td>0.753886</td>\n",
       "    </tr>\n",
       "    <tr>\n",
       "      <th>std</th>\n",
       "      <td>1.192712</td>\n",
       "      <td>4.757804</td>\n",
       "      <td>0.160787</td>\n",
       "      <td>0.430779</td>\n",
       "    </tr>\n",
       "    <tr>\n",
       "      <th>min</th>\n",
       "      <td>8.000000</td>\n",
       "      <td>0.600000</td>\n",
       "      <td>2.720000</td>\n",
       "      <td>0.000000</td>\n",
       "    </tr>\n",
       "    <tr>\n",
       "      <th>25%</th>\n",
       "      <td>9.500000</td>\n",
       "      <td>1.800000</td>\n",
       "      <td>3.110000</td>\n",
       "      <td>1.000000</td>\n",
       "    </tr>\n",
       "    <tr>\n",
       "      <th>50%</th>\n",
       "      <td>10.300000</td>\n",
       "      <td>3.000000</td>\n",
       "      <td>3.210000</td>\n",
       "      <td>1.000000</td>\n",
       "    </tr>\n",
       "    <tr>\n",
       "      <th>75%</th>\n",
       "      <td>11.300000</td>\n",
       "      <td>8.100000</td>\n",
       "      <td>3.320000</td>\n",
       "      <td>1.000000</td>\n",
       "    </tr>\n",
       "    <tr>\n",
       "      <th>max</th>\n",
       "      <td>14.900000</td>\n",
       "      <td>65.800000</td>\n",
       "      <td>4.010000</td>\n",
       "      <td>1.000000</td>\n",
       "    </tr>\n",
       "  </tbody>\n",
       "</table>\n",
       "</div>"
      ],
      "text/plain": [
       "           alcohol        sugar           pH        class\n",
       "count  6497.000000  6497.000000  6497.000000  6497.000000\n",
       "mean     10.491801     5.443235     3.218501     0.753886\n",
       "std       1.192712     4.757804     0.160787     0.430779\n",
       "min       8.000000     0.600000     2.720000     0.000000\n",
       "25%       9.500000     1.800000     3.110000     1.000000\n",
       "50%      10.300000     3.000000     3.210000     1.000000\n",
       "75%      11.300000     8.100000     3.320000     1.000000\n",
       "max      14.900000    65.800000     4.010000     1.000000"
      ]
     },
     "execution_count": 3,
     "metadata": {},
     "output_type": "execute_result"
    }
   ],
   "source": [
    "wine = pd.read_csv(\"./data/08_wine.csv\")\n",
    "wine.info()\n",
    "wine.describe()"
   ]
  },
  {
   "cell_type": "code",
   "execution_count": 4,
   "id": "a7029e16-0d04-432b-bc8f-65bd164f3556",
   "metadata": {},
   "outputs": [],
   "source": [
    "import matplotlib.pyplot as plt"
   ]
  },
  {
   "cell_type": "code",
   "execution_count": 8,
   "id": "4cbb4321-4b34-4052-9a2b-32e8f17982de",
   "metadata": {},
   "outputs": [
    {
     "name": "stdout",
     "output_type": "stream",
     "text": [
      "(6497, 3) (6497,)\n"
     ]
    }
   ],
   "source": [
    "# data = wine.iloc[:, :3]\n",
    "data = wine[[\"alcohol\", \"sugar\", \"pH\"]].to_numpy()\n",
    "target = wine[\"class\"]\n",
    "print(data.shape, target.shape)"
   ]
  },
  {
   "cell_type": "code",
   "execution_count": 6,
   "id": "adb05173-1adf-4e85-b2f8-618015990e2f",
   "metadata": {},
   "outputs": [],
   "source": [
    "from scipy.stats import pearsonr"
   ]
  },
  {
   "cell_type": "code",
   "execution_count": 7,
   "id": "030040f1-bb37-4628-a20f-cc9c90873c00",
   "metadata": {},
   "outputs": [
    {
     "name": "stdout",
     "output_type": "stream",
     "text": [
      "alcohol\n",
      "상관계수 계수값 : 0.033\n",
      "      p-value : 0.008\n",
      "-------------------------\n",
      "sugar\n",
      "상관계수 계수값 : 0.349\n",
      "      p-value : 0.000\n",
      "-------------------------\n",
      "pH\n",
      "상관계수 계수값 : -0.329\n",
      "      p-value : 0.000\n",
      "-------------------------\n"
     ]
    }
   ],
   "source": [
    "for col_name in data.columns:\n",
    "    tmp = pearsonr(data[col_name], target)\n",
    "    print(col_name)\n",
    "    print(f\"상관계수 계수값 : {tmp[0]:.3f}\")\n",
    "    print(f\"      p-value : {tmp[1]:.3f}\")\n",
    "    print(\"-------------------------\")"
   ]
  },
  {
   "cell_type": "code",
   "execution_count": 10,
   "id": "b3747e2c-5856-44ea-bb60-79c1e6917db6",
   "metadata": {},
   "outputs": [],
   "source": [
    "from sklearn.model_selection import train_test_split"
   ]
  },
  {
   "cell_type": "code",
   "execution_count": 17,
   "id": "2696b15a-ad2d-4e8e-9677-442514858d0e",
   "metadata": {},
   "outputs": [],
   "source": [
    "train_input, test_input, train_target, test_target = train_test_split(data, target,  test_size=0.2, random_state=42)"
   ]
  },
  {
   "cell_type": "code",
   "execution_count": 18,
   "id": "f3ed1eb4-3cb4-4199-b25b-bdd549a2c0be",
   "metadata": {},
   "outputs": [
    {
     "name": "stdout",
     "output_type": "stream",
     "text": [
      "(5197, 3) (1300, 3) (5197,) (1300,)\n"
     ]
    }
   ],
   "source": [
    "print(train_input.shape, test_input.shape, train_target.shape, test_target.shape)"
   ]
  },
  {
   "cell_type": "code",
   "execution_count": null,
   "id": "f65c9321-0493-4458-ac55-73ac73009f19",
   "metadata": {},
   "outputs": [],
   "source": [
    "\"\"\"\n",
    "<데이터 스케일링>\n",
    " - 특성들간의 서로다른 단위를 일정한 수준으로 맞추는 작업\n",
    " - 수치형 변수들에 대해서만 적용이 됨\n",
    " - 스케일링 3가지 방법(일반적으로 정규화라는 이름으로 아래 3가지 사용하기도 함)\n",
    "  * 정규화 : StandardScaler(회귀 및 분류 모두 사용가능), RobustScaler(회귀 및 분류 모두 사용가능)\n",
    "  * 표준화 : MinMaxScaler (회귀에서 사용)\n",
    " - 훈련 시에 스케일링 방법에 따라 독립변수를 각각 구성하여 훈현에 적용 후 정확도 비교 하기도 함...\n",
    "\"\"\""
   ]
  },
  {
   "cell_type": "code",
   "execution_count": 37,
   "id": "100476c9-d30f-44dd-b736-9c5aa243bd87",
   "metadata": {},
   "outputs": [],
   "source": [
    "from sklearn.ensemble import RandomForestClassifier, ExtraTreesClassifier, GradientBoostingClassifier, HistGradientBoostingClassifier\n",
    "from xgboost import XGBClassifier\n",
    "from sklearn.preprocessing import StandardScaler, MinMaxScaler,RobustScaler"
   ]
  },
  {
   "cell_type": "code",
   "execution_count": 41,
   "id": "edb0fc97-3feb-4dd6-bed0-efa8a5213b09",
   "metadata": {},
   "outputs": [],
   "source": [
    "scaler = StandardScaler()\n",
    "scaler.fit(train_input)\n",
    "train_std_scaled = scaler.transform(train_input)\n",
    "test_std_scaled = scaler.transform(test_input)\n",
    "\n",
    "scaler = MinMaxScaler()\n",
    "scaler.fit(train_input)\n",
    "train_mm_scaled = scaler.transform(train_input)\n",
    "test_mm_scaled = scaler.transform(test_input)\n",
    "\n",
    "scaler = RobustScaler()\n",
    "scaler.fit(train_input)\n",
    "train_rs_scaled = scaler.transform(train_input)\n",
    "test_rs_scaled = scaler.transform(test_input)"
   ]
  },
  {
   "cell_type": "code",
   "execution_count": 47,
   "id": "1a9feaaa-6db0-452e-8d3d-6b43e21f7606",
   "metadata": {},
   "outputs": [
    {
     "data": {
      "text/plain": [
       "(0.996921300750433, 0.8892307692307693, 0.10769053151966368)"
      ]
     },
     "execution_count": 47,
     "metadata": {},
     "output_type": "execute_result"
    }
   ],
   "source": [
    "rm_cla = RandomForestClassifier(n_jobs=-1, random_state=42)\n",
    "rm_cla.fit(train_std_scaled, train_target)\n",
    "train_score = rm_cla.score(train_std_scaled, train_target)\n",
    "test_score = rm_cla.score(test_std_scaled, test_target)\n",
    "# 과대적합이 조금 발생하고 있음( train_score - test_score 의 값이 10% 이상이다 )\n",
    "train_score, test_score, train_score - test_score\n"
   ]
  },
  {
   "cell_type": "code",
   "execution_count": 49,
   "id": "3ed499cd-f389-45de-b1bd-4286d043e906",
   "metadata": {},
   "outputs": [
    {
     "data": {
      "text/plain": [
       "(0.996921300750433, 0.8876923076923077, 0.10922899305812528)"
      ]
     },
     "execution_count": 49,
     "metadata": {},
     "output_type": "execute_result"
    }
   ],
   "source": [
    "rm_cla = RandomForestClassifier(n_jobs=-1, random_state=42)\n",
    "rm_cla.fit(train__scaled, train_target)\n",
    "train_score = rm_cla.score(train_mm_scaled, train_target)\n",
    "test_score = rm_cla.score(test_mm_scaled, test_target)\n",
    "# 과대적합이 조금 발생하고 있음( train_score - test_score 의 값이 10% 이상이다 )\n",
    "train_score, test_score, train_score - test_score\n"
   ]
  },
  {
   "cell_type": "code",
   "execution_count": 71,
   "id": "40829ced-b1b9-415b-8cc1-30ca68940480",
   "metadata": {},
   "outputs": [
    {
     "data": {
      "text/plain": [
       "(0.996921300750433, 0.8876923076923077, 0.10922899305812528)"
      ]
     },
     "execution_count": 71,
     "metadata": {},
     "output_type": "execute_result"
    }
   ],
   "source": [
    "rf = RandomForestClassifier(n_jobs=-1, random_state=42)\n",
    "rf.fit(train_rs_scaled, train_target)\n",
    "train_score = rf.score(train_rs_scaled, train_target)\n",
    "test_score = rf.score(test_rs_scaled, test_target)\n",
    "# 과대적합이 조금 발생하고 있음( train_score - test_score 의 값이 10% 이상이다 )\n",
    "train_score, test_score, train_score - test_score\n"
   ]
  },
  {
   "cell_type": "code",
   "execution_count": 72,
   "id": "00530a08-2315-4601-a2c4-9a9c1d105888",
   "metadata": {},
   "outputs": [
    {
     "name": "stdout",
     "output_type": "stream",
     "text": [
      "[1. 1. 1. 1. 1. 1. 1. 1. 1. 1.]\n",
      "[1.0, 0.0, 1.0, 1.0, 1.0, 0.0, 1.0, 1.0, 0.0, 1.0]\n"
     ]
    }
   ],
   "source": [
    "test_pred = rf.predict(test_std_scaled[:10])\n",
    "print(test_pred)\n",
    "print(list(test_target[:10]))"
   ]
  },
  {
   "cell_type": "code",
   "execution_count": 64,
   "id": "02a506ed-b4d3-463a-9956-23b770db9ecc",
   "metadata": {},
   "outputs": [],
   "source": [
    "# 평가 시각화를 위해 사용하는 라이브러리\n",
    "import matplotlib.pyplot as plt\n",
    "import seaborn as sns\n",
    "import numpy as np\n",
    "from sklearn.metrics import confusion_matrix, ConfusionMatrixDisplay\n",
    "\n",
    "# 한글처리\n",
    "plt.rc(\"font\", family=\"Malgun Gothic\")\n",
    "# 마이너스 기호 표시\n",
    "plt.rcParams[\"axes.unicode_minus\"] = True\n",
    "\n",
    "# 평가 라이브러리            (정확도,         정밀도,           재현율,        f1_score)\n",
    "from sklearn.metrics import accuracy_score, precision_score, recall_score, f1_score "
   ]
  },
  {
   "cell_type": "code",
   "execution_count": 74,
   "id": "ece06285-7734-4a38-8dea-a7829fe0fbf0",
   "metadata": {},
   "outputs": [],
   "source": [
    "# 범주 확인하기\n",
    "# 오차행렬도 : 훈련이 잘 되었는지 확인하는 그래프\n",
    "# - 분류를 얼마나 잘했는지\n",
    "# - 분류 중 방생한 오차가 어떻게 나타났는지 확인 가능\n",
    "# - 오차행렬도를 그리기 위해서는 오차평가 매트릭스 표를 먼저 생성해야함\n",
    "cm = confusion_matrix(test_target[:10], test_pred, labels=rf.classes_)"
   ]
  },
  {
   "cell_type": "code",
   "execution_count": 76,
   "id": "04e93c49-d5c8-445a-b7da-1684f9a3a382",
   "metadata": {},
   "outputs": [
    {
     "data": {
      "text/plain": [
       "<sklearn.metrics._plot.confusion_matrix.ConfusionMatrixDisplay at 0x1b0abe29520>"
      ]
     },
     "execution_count": 76,
     "metadata": {},
     "output_type": "execute_result"
    },
    {
     "data": {
      "image/png": "[encoded data removed]",
      "text/plain": [
       "<Figure size 640x480 with 2 Axes>"
      ]
     },
     "metadata": {},
     "output_type": "display_data"
    }
   ],
   "source": [
    "# 오차 행렬도 그리기\n",
    "disp = ConfusionMatrixDisplay(confusion_matrix=cm, display_labels=rf.classes_)\n",
    "disp.plot()"
   ]
  },
  {
   "cell_type": "code",
   "execution_count": 77,
   "id": "05247ac1-4ca5-4f44-a6fb-74410f36a1e4",
   "metadata": {},
   "outputs": [
    {
     "data": {
      "text/plain": [
       "0.7"
      ]
     },
     "execution_count": 77,
     "metadata": {},
     "output_type": "execute_result"
    }
   ],
   "source": [
    "# 정확도 model.score() 와 동일\n",
    "accuracy_score(test_target[:10], test_pred)"
   ]
  },
  {
   "cell_type": "code",
   "execution_count": 78,
   "id": "b556a93e-e847-45ca-825e-c440c5e52794",
   "metadata": {},
   "outputs": [
    {
     "data": {
      "text/plain": [
       "0.7"
      ]
     },
     "execution_count": 78,
     "metadata": {},
     "output_type": "execute_result"
    }
   ],
   "source": [
    "# 정밀도 \n",
    "precision_score(test_target[:10], test_pred)"
   ]
  },
  {
   "cell_type": "code",
   "execution_count": 79,
   "id": "d2b6f8c9-3ed1-4b1b-8c12-0ed1284c1a1f",
   "metadata": {},
   "outputs": [
    {
     "data": {
      "text/plain": [
       "1.0"
      ]
     },
     "execution_count": 79,
     "metadata": {},
     "output_type": "execute_result"
    }
   ],
   "source": [
    "# 재현율\n",
    "recall_score(test_target[:10], test_pred)"
   ]
  },
  {
   "cell_type": "code",
   "execution_count": 80,
   "id": "5ae30346-b1fc-48fd-ac7b-d9b60f9cef31",
   "metadata": {},
   "outputs": [
    {
     "data": {
      "text/plain": [
       "0.8235294117647058"
      ]
     },
     "execution_count": 80,
     "metadata": {},
     "output_type": "execute_result"
    }
   ],
   "source": [
    "# f1_score\n",
    "f1_score(test_target[:10], test_pred)"
   ]
  },
  {
   "cell_type": "code",
   "execution_count": null,
   "id": "58c80ad1-5c17-4e85-b253-525ee092cfca",
   "metadata": {},
   "outputs": [],
   "source": [
    "\"\"\"\n",
    "<정확도(accuracy)>\n",
    " - 올바르게 예측된 데이터의 수를, 전체 데이터의 수로 나눈 값\n",
    " - 예측이 실제값과 얼마나 정확한가를 의미함\n",
    " - 산술식 : (TP + TN) / (TP + TN + FP + FN)\n",
    " \n",
    "<정밀도(precision)>\n",
    " - 모델이 True(1)로 예측한 데이터 중 실제로  True(1)로 맞춘 데이터\n",
    " - 산술식 : TP / (TP + FP)\n",
    " \n",
    "<재현율(recall)>\n",
    " - 실제로 True(1)로 데이터를 True(1)로 인식한 데이터\n",
    " - 위험한 오류(부정오류)로 인식한 데이터도 모두 포함\n",
    " - 산술식 : TP / (TP + FN)\n",
    " - 모델 선정에 깊은 관여를 함\n",
    "\n",
    "<f1_score>\n",
    " - 정밀도와 재현율을 조합하여 하나의 통계치로 반환한 값\n",
    " - 정밀도와 재현율의 조화 평균\n",
    " - 값이 높을수록, 성능이 높은 모델이라고 판단할 수 있음(최종 모델 선정 기준이 됨)\n",
    " - 산술식 : 2 * (정밀도 * 재현율) / (정밀도  + 재현율)\n",
    "\n",
    "[최종 모델 선정 방법]\n",
    " - 과소 및 과대적합 확인\n",
    " - 정확도,  정밀도, 재현율, f1_score 모두 1차 확인\n",
    " - f1_score가 가장 높은 모델 선정\n",
    "   (선정 시 재현율 다시한번 확인)\n",
    " - f1_score가 동일한 모델이면, 재현율이 높은 모델 순으로 선정\n",
    " - 재현율, f1_score 값이 가장 높은 모델 가장 BEST한 모델\n",
    "\"\"\""
   ]
  },
  {
   "cell_type": "code",
   "execution_count": 85,
   "id": "c062597a-140e-496a-80df-099dd46a33e7",
   "metadata": {},
   "outputs": [],
   "source": [
    "test_pred = rf.predict(test_std_scaled)"
   ]
  },
  {
   "cell_type": "code",
   "execution_count": 89,
   "id": "59705536-7453-435c-8b2a-d221ef2ee752",
   "metadata": {},
   "outputs": [
    {
     "data": {
      "text/plain": [
       "array([[ 10, 331],\n",
       "       [ 43, 916]])"
      ]
     },
     "execution_count": 89,
     "metadata": {},
     "output_type": "execute_result"
    }
   ],
   "source": [
    "cm = confusion_matrix(test_target, test_pred, labels=rf.classes_)\n",
    "cm"
   ]
  },
  {
   "cell_type": "code",
   "execution_count": 92,
   "id": "fc006d3b-0bce-4262-86ae-0765e01db428",
   "metadata": {},
   "outputs": [
    {
     "data": {
      "text/plain": [
       "<sklearn.metrics._plot.confusion_matrix.ConfusionMatrixDisplay at 0x1b0acbb0af0>"
      ]
     },
     "execution_count": 92,
     "metadata": {},
     "output_type": "execute_result"
    },
    {
     "data": {
      "image/png": "[encoded data removed]",
      "text/plain": [
       "<Figure size 640x480 with 2 Axes>"
      ]
     },
     "metadata": {},
     "output_type": "display_data"
    }
   ],
   "source": [
    "disp = ConfusionMatrixDisplay(cm, display_labels=rf.classes_)\n",
    "disp.plot()"
   ]
  },
  {
   "cell_type": "code",
   "execution_count": 94,
   "id": "8e448363-8025-43aa-b581-997a4c5f39f1",
   "metadata": {},
   "outputs": [
    {
     "name": "stdout",
     "output_type": "stream",
     "text": [
      "정확도 : 0.7123076923076923\n",
      "정밀도 : 0.7345629510825983\n",
      "재현율 : 0.9551616266944735\n",
      "f1_score : 0.8304623753399819\n"
     ]
    }
   ],
   "source": [
    "# 정확도 model.score() 와 동일\n",
    "acs = accuracy_score(test_target, test_pred)\n",
    "# 정밀도 \n",
    "ps = precision_score(test_target, test_pred)\n",
    "# 재현율\n",
    "rs = recall_score(test_target, test_pred)\n",
    "# f1_score\n",
    "f1s = f1_score(test_target, test_pred)\n",
    "\n",
    "print(f\"정확도 : {acs}\")\n",
    "print(f\"정밀도 : {ps}\")\n",
    "print(f\"재현율 : {rs}\")\n",
    "print(f\"f1_score : {f1s}\")"
   ]
  },
  {
   "cell_type": "code",
   "execution_count": null,
   "id": "20387cae-9a4a-4473-b66e-c3daf02d6429",
   "metadata": {},
   "outputs": [],
   "source": []
  },
  {
   "cell_type": "code",
   "execution_count": null,
   "id": "bab40358-a45c-4df1-a185-53155ffd44e1",
   "metadata": {},
   "outputs": [],
   "source": []
  },
  {
   "cell_type": "code",
   "execution_count": null,
   "id": "137d1f84-01bd-4d5e-8d0d-3d5686312694",
   "metadata": {},
   "outputs": [],
   "source": []
  },
  {
   "cell_type": "code",
   "execution_count": null,
   "id": "2c7a7650-c40d-4bc9-a598-1a66218e4631",
   "metadata": {},
   "outputs": [],
   "source": []
  }
 ],
 "metadata": {
  "kernelspec": {
   "display_name": "dg_env_all_kernel",
   "language": "python",
   "name": "dg_env_all"
  },
  "language_info": {
   "codemirror_mode": {
    "name": "ipython",
    "version": 3
   },
   "file_extension": ".py",
   "mimetype": "text/x-python",
   "name": "python",
   "nbconvert_exporter": "python",
   "pygments_lexer": "ipython3",
   "version": "3.9.21"
  }
 },
 "nbformat": 4,
 "nbformat_minor": 5
}
