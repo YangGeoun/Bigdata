{
 "cells": [
  {
   "cell_type": "markdown",
   "id": "abf8e185-db73-4d36-ad83-95efa6298d08",
   "metadata": {},
   "source": [
    "# 이번 분석의 최종 목표\n",
    " - 우리는 labeled 데이터로 학습한 모델을 만들고 이를 unlabeled_data에 적용하여 데이터를 추가할 것이다.\n",
    " - 이때 unlabeled_data와 labeled_data가 데이터의 결이 다르다면 labeled로 학습된 모델을 unlabeled에 적용할 수 없을것이다.\n",
    " - 그래서 unlabeled_data와 labeled_data를 분석해보면서 labeled로 학습된 모델을 적용할 수 있을지\n",
    " - 적용할 수 있다면 얼마나 적용할 수 있을 지 찾아볼 것이다."
   ]
  },
  {
   "cell_type": "markdown",
   "id": "4b60b230-b3d2-4059-ac67-5cd0e5148c58",
   "metadata": {},
   "source": [
    "# 데이터 불러들이기\n",
    "\n",
    " - \"labeled\"라는 변수명으로 labeled_data.csv 파일 데이터 읽어오기\n",
    " - \"unlabeled\"라는 변수명으로 unlabeled_data.csv 파일 데이터 읽어오기"
   ]
  },
  {
   "cell_type": "code",
   "execution_count": null,
   "id": "7d4e350d-94d2-4a39-a439-3b549d5f0050",
   "metadata": {},
   "outputs": [],
   "source": []
  },
  {
   "cell_type": "markdown",
   "id": "82eed7b9-59f5-4216-b6d3-fa8dfcaf01a7",
   "metadata": {},
   "source": [
    "# 데이터 컬럼 확인\n",
    "\n",
    "\"labeled\", \"unlabeled\" 각각 컬럼 확인\n"
   ]
  },
  {
   "cell_type": "code",
   "execution_count": null,
   "id": "c9d51659-4504-4c2f-8921-2c547c18b9aa",
   "metadata": {},
   "outputs": [],
   "source": []
  },
  {
   "cell_type": "code",
   "execution_count": null,
   "id": "b8ad3c62-19d1-4086-a2a3-6fad021e5a77",
   "metadata": {},
   "outputs": [],
   "source": []
  },
  {
   "cell_type": "markdown",
   "id": "0500223e-26e0-47eb-a642-40bd57232cf2",
   "metadata": {},
   "source": [
    "# 제품과 장비를 맞추기\n",
    "- \"labeled\", \"unlabeled\" 각각  \"PART_NAME\" 의 유니크한 값 뽑아보기\n",
    "- \"cn7\" 제품만 뽑아서 \"labeled_cn7\", \"unlabeled_cn7\" 만들기\n",
    "- \"labeled_cn7\", \"unlabeled_cn7\" 각각  \"\"EQUIP_NAME\"\" 의 유니크한 값 뽑아보기\n",
    "- \"labeled_cn7\", \"unlabeled_cn7\" 에서 장비가 같은 데이터만 남기기"
   ]
  },
  {
   "cell_type": "code",
   "execution_count": null,
   "id": "e6418f61-0465-4f3c-8f11-514e4008e46e",
   "metadata": {},
   "outputs": [],
   "source": []
  },
  {
   "cell_type": "code",
   "execution_count": null,
   "id": "f168fcf7-513d-48e6-99b4-c11830bcb5e9",
   "metadata": {},
   "outputs": [],
   "source": []
  },
  {
   "cell_type": "code",
   "execution_count": null,
   "id": "134ed1e7-6903-4836-8c3f-e98cbfe6c327",
   "metadata": {},
   "outputs": [],
   "source": []
  },
  {
   "cell_type": "code",
   "execution_count": null,
   "id": "54a3cffa-93b2-4b93-828f-5e19b60b1455",
   "metadata": {},
   "outputs": [],
   "source": []
  },
  {
   "cell_type": "code",
   "execution_count": null,
   "id": "2f9ac437-50f1-402e-b4a1-0f51ad7fef36",
   "metadata": {},
   "outputs": [],
   "source": []
  },
  {
   "cell_type": "code",
   "execution_count": null,
   "id": "d1df417c-9579-43f6-bcc0-c44c99ceb025",
   "metadata": {},
   "outputs": [],
   "source": []
  },
  {
   "cell_type": "markdown",
   "id": "bd3cefb3-13a5-4150-854d-5b9fbaec4f74",
   "metadata": {},
   "source": [
    "# 필요없는 컬럼 모두 삭제하기\n",
    "- head(), describe() 등을 활용해서 데이터를 보며 필요없는 컬럼 삭제\n",
    "- 기준 : object타입(object타입 중에 번부형 데이터는 분석에 필요하지만 제품, 장비별로 나눈 상태라서 필요없음)<br>\n",
    "            데이터가 없거나 전부 같은 경우 (학습에 사용할 수 없음)"
   ]
  },
  {
   "cell_type": "code",
   "execution_count": null,
   "id": "f43cabf6-d9b7-4867-8a0b-f70014502b80",
   "metadata": {},
   "outputs": [],
   "source": []
  },
  {
   "cell_type": "code",
   "execution_count": null,
   "id": "4053dbb7-067c-46f4-a9c5-beea1cecd4b6",
   "metadata": {},
   "outputs": [],
   "source": []
  },
  {
   "cell_type": "markdown",
   "id": "a527dd9c-e2f6-4877-871c-c761b5c15cbf",
   "metadata": {},
   "source": [
    "# 그래프 그려서 비교해보기\n",
    "- \"labeled_cn7\", \"unlabeled_cn7\" 각각 모든 컬럼에 대한 그래프를 그려 데이터가 비슷한지 다른지 확인"
   ]
  },
  {
   "cell_type": "code",
   "execution_count": null,
   "id": "25b6a94f-f67d-42a7-9c06-a42ede9e01bc",
   "metadata": {},
   "outputs": [],
   "source": []
  },
  {
   "cell_type": "code",
   "execution_count": null,
   "id": "3573c822-caa4-457a-816e-fda49be37fcc",
   "metadata": {},
   "outputs": [],
   "source": []
  },
  {
   "cell_type": "markdown",
   "id": "7cf49aba-b200-4748-a2a4-f0fd75a48ca9",
   "metadata": {},
   "source": [
    "# 데이터 나누기\n",
    "- \"labeled_cn7\", \"unlabeled_cn7\" 모두 \"Average_Screw_RPM\" 이 2가지로 나눈 것을 볼 수 있다.\n",
    "- 또한 \"unlabeled_cn7\"에서는 나머지 데이터에서도 크게 2 덩어리로 나눌 수 있을 것을 확인함\n",
    "- 그래서 Average_Screw_RPM를 기준으로 데이터를 나누었을때 \"unlabeled_cn7\"에서 나머지 데이터에서도 2로 잘 나누어진다면\n",
    "- 두 데이터에 맞게 따로 분석할 수 있을 것이다.\n",
    "  \n",
    "- \"labeled_cn7\", \"unlabeled_cn7\"를 \"Average_Screw_RPM\" 기준으로 나눈 각각 둘로\n",
    "-  \"labeled_cn7_u\", \"labeled_cn7_d\" ,\"unlabeled_cn7_u\", \"unlabeled_cn7_d\" 데이터를 생성\n",
    "-  "
   ]
  },
  {
   "cell_type": "code",
   "execution_count": null,
   "id": "5d0a9190-89a9-472b-a5a4-9b47e5ff91e7",
   "metadata": {},
   "outputs": [],
   "source": []
  },
  {
   "cell_type": "code",
   "execution_count": null,
   "id": "b57cb83f-26f1-4c80-90a5-eea18395120f",
   "metadata": {},
   "outputs": [],
   "source": []
  },
  {
   "cell_type": "markdown",
   "id": "bab7148e-fcfa-405b-8350-328f572fc0e2",
   "metadata": {},
   "source": [
    "# 그래프 그려서 다시 비교해보기\n",
    "- \"labeled_cn7_u\"와 \"unlabeled_cn7_u\" 의 데이터가 비슷한지 확인\n",
    "- \"labeled_cn7_d\"와 \"unlabeled_cn7_d\" 의 데이터가 비슷한지 확인"
   ]
  },
  {
   "cell_type": "code",
   "execution_count": null,
   "id": "981b8e62-fef3-4df8-a5c7-f11f0ada6d7a",
   "metadata": {},
   "outputs": [],
   "source": []
  },
  {
   "cell_type": "code",
   "execution_count": null,
   "id": "37f7341e-17f1-4dad-bdfa-79a3a06522b7",
   "metadata": {},
   "outputs": [],
   "source": []
  },
  {
   "cell_type": "markdown",
   "id": "4a658da9-2770-43ec-b6f2-edee93fc9370",
   "metadata": {},
   "source": [
    "# 이상치 처리\n",
    "- \"labeled_cn7_u\"와 \"unlabeled_cn7_u\" 는 데이터가 비슷하지만 \n",
    "- \"labeled_cn7_d\"와 \"unlabeled_cn7_d\" 는 다른 점이 많아서 활용하기 힘들것으로 판단\n",
    "- \"unlabeled_cn7_u\" 데이터만 쓰는게 좋을 거 같음\n",
    "- 하지만 \"unlabeled_cn7_u\" 데이터에 \"labeled_cn7_u\"에는 없는 이상치가 있어 이를 없애주어야 할 거 같음\n",
    "- \"unlabeled_cn7_u\"의 모든 컬럼에 대해서 \"labeled_cn7_u\"의 최솟값보다 작은 데이터, \"labeled_cn7_u\"의 최댓값보다 큰 데이터를 이상치로 판단하고 이를 제거"
   ]
  },
  {
   "cell_type": "code",
   "execution_count": null,
   "id": "08eca7ba-a892-4b07-9478-8a167f162e46",
   "metadata": {},
   "outputs": [],
   "source": []
  }
 ],
 "metadata": {
  "kernelspec": {
   "display_name": "dg_env_dl_kernel",
   "language": "python",
   "name": "dg_env_dl"
  },
  "language_info": {
   "codemirror_mode": {
    "name": "ipython",
    "version": 3
   },
   "file_extension": ".py",
   "mimetype": "text/x-python",
   "name": "python",
   "nbconvert_exporter": "python",
   "pygments_lexer": "ipython3",
   "version": "3.9.15"
  }
 },
 "nbformat": 4,
 "nbformat_minor": 5
}
