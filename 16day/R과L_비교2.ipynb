{
 "cells": [
  {
   "cell_type": "code",
   "execution_count": 21,
   "id": "7e03b5a9-f948-4155-95ba-bf87c1caefda",
   "metadata": {},
   "outputs": [],
   "source": [
    "import pandas as pd"
   ]
  },
  {
   "cell_type": "code",
   "execution_count": 22,
   "id": "89d0eb38-8109-4a5b-9536-6a737d040ddb",
   "metadata": {},
   "outputs": [],
   "source": [
    "moldset_labeled = pd.read_csv('./data/labeled_data.csv', index_col=False)"
   ]
  },
  {
   "cell_type": "code",
   "execution_count": 23,
   "id": "da98c106-c963-4f6a-a898-7aeac22302d2",
   "metadata": {},
   "outputs": [],
   "source": [
    "df = pd.read_csv('./data/labeled_data.csv', index_col=False)"
   ]
  },
  {
   "cell_type": "code",
   "execution_count": 29,
   "id": "8ca1f1eb-f56b-4200-8c7f-8f7c17970d0a",
   "metadata": {},
   "outputs": [
    {
     "data": {
      "text/plain": [
       "array([nan, '가스', '미성형', '초기허용불량'], dtype=object)"
      ]
     },
     "execution_count": 29,
     "metadata": {},
     "output_type": "execute_result"
    }
   ],
   "source": [
    "df['Reason'].unique()"
   ]
  },
  {
   "cell_type": "code",
   "execution_count": 25,
   "id": "9401d5c4-faa4-46d8-b543-af195fe02728",
   "metadata": {},
   "outputs": [],
   "source": [
    "moldset_labeled.drop(columns=['_id', 'TimeStamp', 'PART_FACT_PLAN_DATE',\n",
    "                             'PART_FACT_SERIAL', 'EQUIP_CD', 'EQUIP_NAME', 'Reason',\n",
    "                             'Mold_Temperature_1', 'Mold_Temperature_2','Barrel_Temperature_7','Switch_Over_Position',\n",
    "                             'Mold_Temperature_5', 'Mold_Temperature_6','Mold_Temperature_7', 'Mold_Temperature_8',\n",
    "                             'Mold_Temperature_9', 'Mold_Temperature_10', 'Mold_Temperature_11',\n",
    "                             'Mold_Temperature_12'], inplace=True)"
   ]
  },
  {
   "cell_type": "code",
   "execution_count": 26,
   "id": "6483c304-e51c-48a3-b051-47b41a814750",
   "metadata": {},
   "outputs": [
    {
     "name": "stdout",
     "output_type": "stream",
     "text": [
      "<class 'pandas.core.frame.DataFrame'>\n",
      "RangeIndex: 7996 entries, 0 to 7995\n",
      "Data columns (total 25 columns):\n",
      " #   Column                    Non-Null Count  Dtype  \n",
      "---  ------                    --------------  -----  \n",
      " 0   PassOrFail                7996 non-null   object \n",
      " 1   Injection_Time            7996 non-null   float64\n",
      " 2   Filling_Time              7996 non-null   float64\n",
      " 3   Plasticizing_Time         7996 non-null   float64\n",
      " 4   Cycle_Time                7996 non-null   float64\n",
      " 5   Clamp_Close_Time          7996 non-null   float64\n",
      " 6   Cushion_Position          7996 non-null   float64\n",
      " 7   Plasticizing_Position     7996 non-null   float64\n",
      " 8   Clamp_Open_Position       7996 non-null   float64\n",
      " 9   Max_Injection_Speed       7996 non-null   float64\n",
      " 10  Max_Screw_RPM             7996 non-null   float64\n",
      " 11  Average_Screw_RPM         7996 non-null   float64\n",
      " 12  Max_Injection_Pressure    7996 non-null   float64\n",
      " 13  Max_Switch_Over_Pressure  7996 non-null   float64\n",
      " 14  Max_Back_Pressure         7996 non-null   float64\n",
      " 15  Average_Back_Pressure     7996 non-null   float64\n",
      " 16  Barrel_Temperature_1      7996 non-null   float64\n",
      " 17  Barrel_Temperature_2      7996 non-null   float64\n",
      " 18  Barrel_Temperature_3      7996 non-null   float64\n",
      " 19  Barrel_Temperature_4      7996 non-null   float64\n",
      " 20  Barrel_Temperature_5      7996 non-null   float64\n",
      " 21  Barrel_Temperature_6      7996 non-null   float64\n",
      " 22  Hopper_Temperature        7996 non-null   float64\n",
      " 23  Mold_Temperature_3        7996 non-null   float64\n",
      " 24  Mold_Temperature_4        7996 non-null   float64\n",
      "dtypes: float64(24), object(1)\n",
      "memory usage: 1.5+ MB\n"
     ]
    }
   ],
   "source": [
    "moldset_labeled.info()"
   ]
  },
  {
   "cell_type": "code",
   "execution_count": 27,
   "id": "f9a70129-8f80-4482-991c-66f806838a77",
   "metadata": {},
   "outputs": [
    {
     "name": "stderr",
     "output_type": "stream",
     "text": [
      "C:\\Users\\Admin\\AppData\\Local\\Temp\\ipykernel_9320\\2662115890.py:1: FutureWarning: Downcasting behavior in `replace` is deprecated and will be removed in a future version. To retain the old behavior, explicitly call `result.infer_objects(copy=False)`. To opt-in to the future behavior, set `pd.set_option('future.no_silent_downcasting', True)`\n",
      "  moldset_labeled[\"PassOrFail\"] = moldset_labeled[\"PassOrFail\"].replace(to_replace=\"Y\",value=1).replace(to_replace=\"N\",value=0)\n"
     ]
    }
   ],
   "source": [
    "moldset_labeled[\"PassOrFail\"] = moldset_labeled[\"PassOrFail\"].replace(to_replace=\"Y\",value=1).replace(to_replace=\"N\",value=0)"
   ]
  },
  {
   "cell_type": "code",
   "execution_count": 28,
   "id": "82cf33cb-76a4-457f-a5f7-a26aa1148df1",
   "metadata": {},
   "outputs": [
    {
     "ename": "KeyError",
     "evalue": "'PART_NAME'",
     "output_type": "error",
     "traceback": [
      "\u001b[1;31m---------------------------------------------------------------------------\u001b[0m",
      "\u001b[1;31mKeyError\u001b[0m                                  Traceback (most recent call last)",
      "File \u001b[1;32m~\\anaconda3\\envs\\dg_env_dl\\lib\\site-packages\\pandas\\core\\indexes\\base.py:3805\u001b[0m, in \u001b[0;36mIndex.get_loc\u001b[1;34m(self, key)\u001b[0m\n\u001b[0;32m   3804\u001b[0m \u001b[38;5;28;01mtry\u001b[39;00m:\n\u001b[1;32m-> 3805\u001b[0m     \u001b[38;5;28;01mreturn\u001b[39;00m \u001b[38;5;28;43mself\u001b[39;49m\u001b[38;5;241;43m.\u001b[39;49m\u001b[43m_engine\u001b[49m\u001b[38;5;241;43m.\u001b[39;49m\u001b[43mget_loc\u001b[49m\u001b[43m(\u001b[49m\u001b[43mcasted_key\u001b[49m\u001b[43m)\u001b[49m\n\u001b[0;32m   3806\u001b[0m \u001b[38;5;28;01mexcept\u001b[39;00m \u001b[38;5;167;01mKeyError\u001b[39;00m \u001b[38;5;28;01mas\u001b[39;00m err:\n",
      "File \u001b[1;32mindex.pyx:167\u001b[0m, in \u001b[0;36mpandas._libs.index.IndexEngine.get_loc\u001b[1;34m()\u001b[0m\n",
      "File \u001b[1;32mindex.pyx:196\u001b[0m, in \u001b[0;36mpandas._libs.index.IndexEngine.get_loc\u001b[1;34m()\u001b[0m\n",
      "File \u001b[1;32mpandas\\\\_libs\\\\hashtable_class_helper.pxi:7081\u001b[0m, in \u001b[0;36mpandas._libs.hashtable.PyObjectHashTable.get_item\u001b[1;34m()\u001b[0m\n",
      "File \u001b[1;32mpandas\\\\_libs\\\\hashtable_class_helper.pxi:7089\u001b[0m, in \u001b[0;36mpandas._libs.hashtable.PyObjectHashTable.get_item\u001b[1;34m()\u001b[0m\n",
      "\u001b[1;31mKeyError\u001b[0m: 'PART_NAME'",
      "\nThe above exception was the direct cause of the following exception:\n",
      "\u001b[1;31mKeyError\u001b[0m                                  Traceback (most recent call last)",
      "Cell \u001b[1;32mIn[28], line 1\u001b[0m\n\u001b[1;32m----> 1\u001b[0m \u001b[43mmoldset_labeled\u001b[49m\u001b[43m[\u001b[49m\u001b[38;5;124;43m\"\u001b[39;49m\u001b[38;5;124;43mPART_NAME\u001b[39;49m\u001b[38;5;124;43m\"\u001b[39;49m\u001b[43m]\u001b[49m\u001b[38;5;241m.\u001b[39mvalue_counts()\n",
      "File \u001b[1;32m~\\anaconda3\\envs\\dg_env_dl\\lib\\site-packages\\pandas\\core\\frame.py:4102\u001b[0m, in \u001b[0;36mDataFrame.__getitem__\u001b[1;34m(self, key)\u001b[0m\n\u001b[0;32m   4100\u001b[0m \u001b[38;5;28;01mif\u001b[39;00m \u001b[38;5;28mself\u001b[39m\u001b[38;5;241m.\u001b[39mcolumns\u001b[38;5;241m.\u001b[39mnlevels \u001b[38;5;241m>\u001b[39m \u001b[38;5;241m1\u001b[39m:\n\u001b[0;32m   4101\u001b[0m     \u001b[38;5;28;01mreturn\u001b[39;00m \u001b[38;5;28mself\u001b[39m\u001b[38;5;241m.\u001b[39m_getitem_multilevel(key)\n\u001b[1;32m-> 4102\u001b[0m indexer \u001b[38;5;241m=\u001b[39m \u001b[38;5;28;43mself\u001b[39;49m\u001b[38;5;241;43m.\u001b[39;49m\u001b[43mcolumns\u001b[49m\u001b[38;5;241;43m.\u001b[39;49m\u001b[43mget_loc\u001b[49m\u001b[43m(\u001b[49m\u001b[43mkey\u001b[49m\u001b[43m)\u001b[49m\n\u001b[0;32m   4103\u001b[0m \u001b[38;5;28;01mif\u001b[39;00m is_integer(indexer):\n\u001b[0;32m   4104\u001b[0m     indexer \u001b[38;5;241m=\u001b[39m [indexer]\n",
      "File \u001b[1;32m~\\anaconda3\\envs\\dg_env_dl\\lib\\site-packages\\pandas\\core\\indexes\\base.py:3812\u001b[0m, in \u001b[0;36mIndex.get_loc\u001b[1;34m(self, key)\u001b[0m\n\u001b[0;32m   3807\u001b[0m     \u001b[38;5;28;01mif\u001b[39;00m \u001b[38;5;28misinstance\u001b[39m(casted_key, \u001b[38;5;28mslice\u001b[39m) \u001b[38;5;129;01mor\u001b[39;00m (\n\u001b[0;32m   3808\u001b[0m         \u001b[38;5;28misinstance\u001b[39m(casted_key, abc\u001b[38;5;241m.\u001b[39mIterable)\n\u001b[0;32m   3809\u001b[0m         \u001b[38;5;129;01mand\u001b[39;00m \u001b[38;5;28many\u001b[39m(\u001b[38;5;28misinstance\u001b[39m(x, \u001b[38;5;28mslice\u001b[39m) \u001b[38;5;28;01mfor\u001b[39;00m x \u001b[38;5;129;01min\u001b[39;00m casted_key)\n\u001b[0;32m   3810\u001b[0m     ):\n\u001b[0;32m   3811\u001b[0m         \u001b[38;5;28;01mraise\u001b[39;00m InvalidIndexError(key)\n\u001b[1;32m-> 3812\u001b[0m     \u001b[38;5;28;01mraise\u001b[39;00m \u001b[38;5;167;01mKeyError\u001b[39;00m(key) \u001b[38;5;28;01mfrom\u001b[39;00m \u001b[38;5;21;01merr\u001b[39;00m\n\u001b[0;32m   3813\u001b[0m \u001b[38;5;28;01mexcept\u001b[39;00m \u001b[38;5;167;01mTypeError\u001b[39;00m:\n\u001b[0;32m   3814\u001b[0m     \u001b[38;5;66;03m# If we have a listlike key, _check_indexing_error will raise\u001b[39;00m\n\u001b[0;32m   3815\u001b[0m     \u001b[38;5;66;03m#  InvalidIndexError. Otherwise we fall through and re-raise\u001b[39;00m\n\u001b[0;32m   3816\u001b[0m     \u001b[38;5;66;03m#  the TypeError.\u001b[39;00m\n\u001b[0;32m   3817\u001b[0m     \u001b[38;5;28mself\u001b[39m\u001b[38;5;241m.\u001b[39m_check_indexing_error(key)\n",
      "\u001b[1;31mKeyError\u001b[0m: 'PART_NAME'"
     ]
    }
   ],
   "source": [
    "moldset_labeled[\"PART_NAME\"].value_counts()"
   ]
  },
  {
   "cell_type": "code",
   "execution_count": null,
   "id": "3c5397d5-1e97-40e6-a1c8-92b196e3faf3",
   "metadata": {},
   "outputs": [],
   "source": [
    "\n",
    "rg3_r = moldset_labeled[moldset_labeled[\"PART_NAME\"] == \"RG3 MOLD'G W/SHLD, RH\"].copy()\n",
    "rg3_l = moldset_labeled[moldset_labeled[\"PART_NAME\"] == \"RG3 MOLD'G W/SHLD, LH\"].copy()\n",
    "rg3_r.drop(columns=['PART_NAME'], inplace=True)\n",
    "rg3_l.drop(columns=['PART_NAME'], inplace=True)"
   ]
  },
  {
   "cell_type": "code",
   "execution_count": null,
   "id": "83259442-c362-4f16-bdf8-48bde9d788c9",
   "metadata": {},
   "outputs": [],
   "source": [
    "\n",
    "cn7_r = moldset_labeled[moldset_labeled[\"PART_NAME\"] == \"CN7 W/S SIDE MLD'G RH\"].copy()\n",
    "cn7_l = moldset_labeled[moldset_labeled[\"PART_NAME\"] == \"CN7 W/S SIDE MLD'G LH\"].copy()\n",
    "cn7_r.drop(columns=['PART_NAME'], inplace=True)\n",
    "cn7_l.drop(columns=['PART_NAME'], inplace=True)"
   ]
  },
  {
   "cell_type": "code",
   "execution_count": null,
   "id": "593029e8-2113-438c-99c3-e5a1ec5d5c3f",
   "metadata": {},
   "outputs": [],
   "source": []
  },
  {
   "cell_type": "code",
   "execution_count": null,
   "id": "b3de41ab-e678-4c2f-b2a0-1b1027ebebf2",
   "metadata": {},
   "outputs": [],
   "source": [
    "y = cn7_r['PassOrFail'].copy()\n",
    "X = cn7_r.drop(columns=['PassOrFail']).copy()\n",
    "y_test = rg3_l['PassOrFail'].copy()\n",
    "X_test = rg3_l.drop(columns=['PassOrFail']).copy()\n",
    "X.shape, y.shape, X_test.shape, y_test.shape"
   ]
  },
  {
   "cell_type": "code",
   "execution_count": 10,
   "id": "13c3e4cb-c7c0-45e0-8e12-bdd3b1e2d5c4",
   "metadata": {},
   "outputs": [],
   "source": [
    "from sklearn.model_selection import train_test_split, GridSearchCV"
   ]
  },
  {
   "cell_type": "code",
   "execution_count": null,
   "id": "4709b586-d897-4d0c-bb0f-5dfb9d191a29",
   "metadata": {},
   "outputs": [],
   "source": []
  },
  {
   "cell_type": "code",
   "execution_count": null,
   "id": "c8a1cc56-923f-4341-8eaf-30f25787e513",
   "metadata": {},
   "outputs": [],
   "source": []
  },
  {
   "cell_type": "code",
   "execution_count": 11,
   "id": "6346923f-8ebe-4500-8136-d77030f5d6ab",
   "metadata": {},
   "outputs": [],
   "source": [
    "from sklearn.preprocessing import StandardScaler\n",
    "from sklearn.metrics import precision_score, accuracy_score, recall_score, f1_score"
   ]
  },
  {
   "cell_type": "code",
   "execution_count": 12,
   "id": "7b0a3dc3-9743-4a02-9616-fb7301a1764e",
   "metadata": {},
   "outputs": [],
   "source": [
    "ss = StandardScaler()\n",
    "ss.fit(X)\n",
    "X = ss.transform(X)\n",
    "X_test = ss.transform(X_test)"
   ]
  },
  {
   "cell_type": "code",
   "execution_count": 13,
   "id": "83236d17-ab6f-441b-84d3-37d6e33443f5",
   "metadata": {},
   "outputs": [],
   "source": [
    "# 모델 생성\n",
    "from sklearn.ensemble import RandomForestClassifier, ExtraTreesClassifier, HistGradientBoostingClassifier, GradientBoostingClassifier\n",
    "from xgboost import XGBClassifier\n",
    "\n",
    "rf = RandomForestClassifier(random_state=42)\n",
    "et = ExtraTreesClassifier(random_state=42)\n",
    "gb = GradientBoostingClassifier(random_state=42)\n",
    "hgb = HistGradientBoostingClassifier(random_state=42)\n",
    "xgb = XGBClassifier(random_state=42)\n",
    "\n",
    "model_list = [rf, et, gb, hgb, xgb]"
   ]
  },
  {
   "cell_type": "code",
   "execution_count": 14,
   "id": "64857f41-e2ea-4710-8f63-8ce251b579a1",
   "metadata": {},
   "outputs": [],
   "source": [
    "# grid_df = pd.DataFrame()\n",
    "# scores = ['accuracy', 'precision', 'recall', 'f1']\n",
    "# for score in scores:\n",
    "#     # GridSearchCV 이용해서 모든 모델 하이퍼파라미터 튜닝\n",
    "#     for model in model_list:\n",
    "#         model_name = model.__class__.__name__\n",
    "#         gridParams = dict()\n",
    "#         if model_name ==\"XGBClassifier\" :\n",
    "#             gridParams[\"n_estimators\"] = [20,50]\n",
    "#             gridParams[\"max_depth\"] = [10,20]\n",
    "#             gridParams[\"min_child_weight\"] = [1, 2,4]\n",
    "#         elif model_name == \"HistGradientBoostingClassifier\" :\n",
    "#             gridParams[\"max_iter\"] = [20, 50]\n",
    "#             gridParams[\"max_depth\"] = [10, 50]\n",
    "#             gridParams[\"min_samples_leaf\"] = [1,2,4]\n",
    "#         else :\n",
    "#             gridParams[\"n_estimators\"] = [20, 50]\n",
    "#             gridParams[\"max_depth\"] = [10,20]\n",
    "#             gridParams[\"min_samples_split\"] = [2,5,10]\n",
    "#             gridParams[\"min_samples_leaf\"] = [1,2,4]\n",
    "\n",
    "#         grid_search_model = GridSearchCV(model, gridParams, scoring=score, cv=5, n_jobs=-1)\n",
    "#         grid_search_model.fit(X, y)\n",
    "#         model = grid_search_model.best_estimator_\n",
    "#         pred = model.predict(X)\n",
    "#         acc = accuracy_score(y, pred)\n",
    "#         pre = precision_score(y, pred)\n",
    "#         rec = recall_score(y, pred)\n",
    "#         f1 = f1_score(y, pred)\n",
    "#         df_temp = pd.DataFrame([[model_name,  acc, pre, rec, f1, str(grid_search_model.best_params_)]],\n",
    "#                                  columns=[\"모델명\", \"정확도\", \n",
    "#                                           \"정밀도\", \"재현율\", \"f1-score\", \"파라미터\"])\n",
    "#         grid_df = pd.concat([grid_df, df_temp], ignore_index=True)"
   ]
  },
  {
   "cell_type": "code",
   "execution_count": 15,
   "id": "a1b2a731-5f6e-4c4b-b6c2-b5f33b76222d",
   "metadata": {
    "scrolled": true
   },
   "outputs": [],
   "source": [
    "# grid_df"
   ]
  },
  {
   "cell_type": "code",
   "execution_count": 16,
   "id": "8958aba5-cd7f-4e27-9e53-dc87f4bd51e8",
   "metadata": {},
   "outputs": [],
   "source": [
    "gridParams = dict()\n",
    "gridParams[\"n_estimators\"] = [20, 50]\n",
    "gridParams[\"max_depth\"] = [10,20]\n",
    "gridParams[\"min_samples_split\"] = [2,5,10]\n",
    "gridParams[\"min_samples_leaf\"] = [1,2,4]\n",
    "grid_search_model = GridSearchCV(RandomForestClassifier(), gridParams, cv=5, n_jobs=-1)\n",
    "grid_search_model.fit(X, y)\n",
    "model = grid_search_model.best_estimator_"
   ]
  },
  {
   "cell_type": "code",
   "execution_count": 17,
   "id": "8389c7a1-a2a2-47c5-9580-951d84dacd36",
   "metadata": {},
   "outputs": [
    {
     "data": {
      "text/plain": [
       "(0.9920382165605095, 0.9920382165605095, 1.0, 0.9960031974420464)"
      ]
     },
     "execution_count": 17,
     "metadata": {},
     "output_type": "execute_result"
    }
   ],
   "source": [
    "pred = model.predict(X_test)\n",
    "acc = accuracy_score(y_test, pred)\n",
    "pre = precision_score(y_test, pred)\n",
    "rec = recall_score(y_test, pred)\n",
    "f1 = f1_score(y_test, pred)\n",
    "acc, pre, rec, f1"
   ]
  },
  {
   "cell_type": "code",
   "execution_count": null,
   "id": "1805b643-8fcb-4ec3-9d22-6f2aacfaaf66",
   "metadata": {},
   "outputs": [],
   "source": []
  }
 ],
 "metadata": {
  "kernelspec": {
   "display_name": "dg_env_dl_kernel",
   "language": "python",
   "name": "dg_env_dl"
  },
  "language_info": {
   "codemirror_mode": {
    "name": "ipython",
    "version": 3
   },
   "file_extension": ".py",
   "mimetype": "text/x-python",
   "name": "python",
   "nbconvert_exporter": "python",
   "pygments_lexer": "ipython3",
   "version": "3.9.15"
  }
 },
 "nbformat": 4,
 "nbformat_minor": 5
}
