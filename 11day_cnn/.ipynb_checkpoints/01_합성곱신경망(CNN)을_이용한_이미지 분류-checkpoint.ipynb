{
 "cells": [
  {
   "cell_type": "code",
   "execution_count": 1,
   "id": "c14f25c3-69dc-4cb6-beed-5c7f7904f93b",
   "metadata": {},
   "outputs": [
    {
     "data": {
      "text/plain": [
       "'\\n<합성곱신경망(Convolutional Neural Network, CNN)>\\n - 이미지 분석에 주로 사용되는 대표적 계층\\n - 기존의 인공신경망에서의 이미지 분석시에는 높이와 너비를 1차원으로 사용하였다면,\\n   -> 합성곱신경망(CNN)은 원형 그대로의 높이와 너비 2차원을 사용\\n - 합성곱신경망(CNN)에서 사용하는 훈련에 사용하는 차원은 4차원을 사용합니다.\\n   --> 4차원 = (행의갯수, 높이, 너비, 채널)\\n   --> 채널 : 이미지의 색상(흑백 또는 컬러)을 의미합니다.\\n            : 흑백은 1의 값, 컬러는 RGB의 3의 값을 사용합니다.\\n - 우리가 사용하는 패션 이미지 데이터는 흑백 사진 픽셀 데이터 입니다.\\n \\n<합성곱신경망(CNN)을 사용하는 이유>\\n - 기존 이미지 분석 시 높이와 너비를 곱하여 사용하게되면,\\n  * 원형 그대로의 주변 이미지 공간 정보를 활용하지 못하는 단점이 발생\\n  * 이러한 이유로 특징 추출을 잘 못하여, 학습이 잘 이루어지지 않는 경우가 발생함\\n\\n - 기존 인공신경망 모델의 단점을 보완하여 만들어진 계층이 CNN 계층입니다.\\n  * 원본 형태의 이미지 정보를 그대로 유지한 상태로 학습 가능한 계층임\\n  * 이미지의 공간(\"격자\"라고 합니다.) 정보를 나누어서 특징을 추출합니다.\\n  * 인접 이미지의 특징을 포함하여 훈련됩니다.\\n  \\n<합성곱신경망(CNN) 계층구조>\\n 1. 입력계층 : 아래 2번, 3번, 5번은 입력계층으로 사용 가능\\n 2. 합성곱계층(CNN)\\n   - 이미지 특징을 추출하는 계층\\n 3. 활성화 함수 계층(은닉계층-Hidden Layer)\\n 4. 풀링계층(Pooling Layer)\\n  - 공간 크기를 줄이고 계산량을 감소시키기 위한 계층(중요 특징만 추출하는 계층)\\n  - 머신러닝에서 주성분분석(PCA)와 유사한 기능\\n  - 풀링방법 : 최대풀링(Max Pooling), 평균풀링(Average Pooling)\\n  - 주로 최대풀링(Max Pooling) 사용\\n 5. 완전 연결 계층(은니계층-Hidden Layer)\\n  - 추출된 특징을 이용해서 최종 예측 전 수행하는 계층\\n  - 이때는 기존의 방법과 동일하게 1차원(높이*너비)의 전처리 계층(Plattern)을\\n    사용하는 경우도 있음(인공신경망 구조와 동일하게 진행)\\n 6. 출력계층\\n \\n ** CNN계층에서는 2~4번 계층구조가 일반적으로 사용되며,\\n    나머지 계층은 기존 인공신경망 구조를 따름\\n     --> 2~4번 구조셋트가 여러개 포함 될 수 있음\\n  \\n'"
      ]
     },
     "execution_count": 1,
     "metadata": {},
     "output_type": "execute_result"
    }
   ],
   "source": [
    "\"\"\"\n",
    "<합성곱신경망(Convolutional Neural Network, CNN)>\n",
    " - 이미지 분석에 주로 사용되는 대표적 계층\n",
    " - 기존의 인공신경망에서의 이미지 분석시에는 높이와 너비를 1차원으로 사용하였다면,\n",
    "   -> 합성곱신경망(CNN)은 원형 그대로의 높이와 너비 2차원을 사용\n",
    " - 합성곱신경망(CNN)에서 사용하는 훈련에 사용하는 차원은 4차원을 사용합니다.\n",
    "   --> 4차원 = (행의갯수, 높이, 너비, 채널)\n",
    "   --> 채널 : 이미지의 색상(흑백 또는 컬러)을 의미합니다.\n",
    "            : 흑백은 1의 값, 컬러는 RGB의 3의 값을 사용합니다.\n",
    " - 우리가 사용하는 패션 이미지 데이터는 흑백 사진 픽셀 데이터 입니다.\n",
    " \n",
    "<합성곱신경망(CNN)을 사용하는 이유>\n",
    " - 기존 이미지 분석 시 높이와 너비를 곱하여 사용하게되면,\n",
    "  * 원형 그대로의 주변 이미지 공간 정보를 활용하지 못하는 단점이 발생\n",
    "  * 이러한 이유로 특징 추출을 잘 못하여, 학습이 잘 이루어지지 않는 경우가 발생함\n",
    "\n",
    " - 기존 인공신경망 모델의 단점을 보완하여 만들어진 계층이 CNN 계층입니다.\n",
    "  * 원본 형태의 이미지 정보를 그대로 유지한 상태로 학습 가능한 계층임\n",
    "  * 이미지의 공간(\"격자\"라고 합니다.) 정보를 나누어서 특징을 추출합니다.\n",
    "  * 인접 이미지의 특징을 포함하여 훈련됩니다.\n",
    "  \n",
    "<합성곱신경망(CNN) 계층구조>\n",
    " 1. 입력계층 : 아래 2번, 3번, 5번은 입력계층으로 사용 가능\n",
    " 2. 합성곱계층(CNN)\n",
    "   - 이미지 특징을 추출하는 계층\n",
    " 3. 활성화 함수 계층(은닉계층-Hidden Layer)\n",
    " 4. 풀링계층(Pooling Layer)\n",
    "  - 공간 크기를 줄이고 계산량을 감소시키기 위한 계층(중요 특징만 추출하는 계층)\n",
    "  - 머신러닝에서 주성분분석(PCA)와 유사한 기능\n",
    "  - 풀링방법 : 최대풀링(Max Pooling), 평균풀링(Average Pooling)\n",
    "  - 주로 최대풀링(Max Pooling) 사용\n",
    " 5. 완전 연결 계층(은니계층-Hidden Layer)\n",
    "  - 추출된 특징을 이용해서 최종 예측 전 수행하는 계층\n",
    "  - 이때는 기존의 방법과 동일하게 1차원(높이*너비)의 전처리 계층(Plattern)을\n",
    "    사용하는 경우도 있음(인공신경망 구조와 동일하게 진행)\n",
    " 6. 출력계층\n",
    " \n",
    " ** CNN계층에서는 2~4번 계층구조가 일반적으로 사용되며,\n",
    "    나머지 계층은 기존 인공신경망 구조를 따름\n",
    "     --> 2~4번 구조셋트가 여러개 포함 될 수 있음\n",
    "  \n",
    "\"\"\""
   ]
  },
  {
   "cell_type": "code",
   "execution_count": 2,
   "id": "6161a2dd-7556-453a-88a5-94d6066197ac",
   "metadata": {},
   "outputs": [],
   "source": [
    "# 텐서플로우 프레임워크\n",
    "import tensorflow as tf\n",
    "\n",
    "# 케라스(딥러닝 모델) 라이브러리\n",
    "from tensorflow import keras\n",
    "\n",
    "# 시각화 라이브러리\n",
    "import matplotlib.pyplot as plt\n",
    "\n",
    "# 넘파이\n",
    "import numpy as np\n",
    "\n",
    "# 데이터 분류 라이브러리\n",
    "from sklearn.model_selection import train_test_split\n",
    "\n",
    "# 딥러닝 랜덤규칙 정의(모든 사람이 정확하게 일치하지는 않음)\n",
    "tf.keras.utils.set_random_seed(42)\n",
    "tf.config.experimental.enable_op_determinism()"
   ]
  },
  {
   "cell_type": "code",
   "execution_count": 3,
   "id": "db061d58-0673-421f-a4d0-7d5d8d8b6e82",
   "metadata": {},
   "outputs": [],
   "source": [
    "(X_train, y_train), (X_test, y_test) = keras.datasets.fashion_mnist.load_data()"
   ]
  },
  {
   "cell_type": "code",
   "execution_count": 4,
   "id": "8902d87c-3f0d-43ef-80c9-32fbee6afa5a",
   "metadata": {},
   "outputs": [],
   "source": [
    "# 원본 3차원 = 행, 너비, 높이\n",
    "# cnn은 4차원 = 행, 너비, 높이, 채널(색상)\n",
    "# 채널(색상) 값 : 흑백은 1, 컬러는 3번 값으로 정함\n",
    "# 패션 MNINS 이미지 원본은 흑백\n",
    "# 4차원으로 변환 = 행, 너비, 높이, 채널(색상) = (60000, 28, 28, 1)\n",
    "# 차월을 변경하는 함수 : reshape() 사용\n",
    "\n",
    "# 훈련 독립변수(X_train) 3차원을 -> 4차원으로 변경\n",
    "X_train_4d = X_train.reshape(-1, 28, 28, 1)"
   ]
  },
  {
   "cell_type": "code",
   "execution_count": 5,
   "id": "6454a77b-37fb-4d75-9c0d-156ca9d7d2b4",
   "metadata": {},
   "outputs": [],
   "source": [
    "X_train_scaled = X_train_4d / 255.0\n",
    "X_test_scaled = X_test / 255.0\n",
    "\n",
    "X_train_scaled, X_val_scaled, y_train, y_val  = train_test_split(X_train_scaled, y_train, random_state=42, test_size=0.2)"
   ]
  },
  {
   "cell_type": "code",
   "execution_count": 6,
   "id": "911a8c1f-319e-4228-868f-999179967d5e",
   "metadata": {},
   "outputs": [],
   "source": [
    "model = keras.Sequential()"
   ]
  },
  {
   "cell_type": "code",
   "execution_count": null,
   "id": "3f782bd4-218e-4b94-ab39-6ab81e9092f8",
   "metadata": {},
   "outputs": [],
   "source": [
    "# 계층 추가\n",
    "# - cnn 모델은 입력계층으로도 사용가능\n",
    "model.add(\n",
    "    keras.layers.Conv2D(\n",
    "        kernel_size=3,\n",
    "        filters=32,\n",
    "        activation=\"relu\",\n",
    "        padding=\"same\",\n",
    "        strides=1,\n",
    "        input_shape(28, 28, 1)\n",
    "    )\n",
    ")"
   ]
  }
 ],
 "metadata": {
  "kernelspec": {
   "display_name": "dg_env_dl_kernel",
   "language": "python",
   "name": "dg_env_dl"
  },
  "language_info": {
   "codemirror_mode": {
    "name": "ipython",
    "version": 3
   },
   "file_extension": ".py",
   "mimetype": "text/x-python",
   "name": "python",
   "nbconvert_exporter": "python",
   "pygments_lexer": "ipython3",
   "version": "3.9.15"
  }
 },
 "nbformat": 4,
 "nbformat_minor": 5
}
