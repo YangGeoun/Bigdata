{
 "cells": [
  {
   "cell_type": "code",
   "execution_count": 2,
   "id": "b5f13b65-0a1b-4ef0-afad-4f30ff8eef7a",
   "metadata": {},
   "outputs": [],
   "source": [
    "# 텐서플로우 프레임워크\n",
    "import tensorflow as tf\n",
    "\n",
    "# 케라스(딥러닝 모델) 라이브러리\n",
    "from tensorflow import keras\n",
    "\n",
    "# 시각화 라이브러리\n",
    "import matplotlib.pyplot as plt\n",
    "\n",
    "# 넘파이\n",
    "import numpy as np\n",
    "\n",
    "# 데이터 분류 라이브러리\n",
    "from sklearn.model_selection import train_test_split\n",
    "\n",
    "# 딥러닝 랜덤규칙 정의(모든 사람이 정확하게 일치하지는 않음)\n",
    "tf.keras.utils.set_random_seed(42)\n",
    "tf.config.experimental.enable_op_determinism()"
   ]
  },
  {
   "cell_type": "markdown",
   "id": "f7c5b442-4718-4f8f-a470-c842309f50fd",
   "metadata": {},
   "source": [
    "# 데이터 가지고 오기(패션 이미지 데이터 사용 : fashon MNIST)"
   ]
  },
  {
   "cell_type": "code",
   "execution_count": 10,
   "id": "e1623f77-34ec-4481-b585-4ac1b1e1ce3e",
   "metadata": {},
   "outputs": [],
   "source": [
    "# 데이터 불러오기 (X_train, y_train, X_test, y_test)\n",
    "(X_train, y_train), (X_test, y_test) = keras.datasets.fashion_mnist.load_data()"
   ]
  },
  {
   "cell_type": "code",
   "execution_count": 12,
   "id": "7b8d7e35-d82a-4717-9d23-7ea6994a0de3",
   "metadata": {},
   "outputs": [
    {
     "data": {
      "text/plain": [
       "((60000, 28, 28), (60000,), (10000, 28, 28), (10000,))"
      ]
     },
     "execution_count": 12,
     "metadata": {},
     "output_type": "execute_result"
    }
   ],
   "source": [
    "X_train.shape, y_train.shape, X_test.shape, y_test.shape"
   ]
  },
  {
   "cell_type": "code",
   "execution_count": 29,
   "id": "15d7480d-a7ed-4fe6-931d-48940e3fbdcd",
   "metadata": {
    "scrolled": true
   },
   "outputs": [
    {
     "data": {
      "image/png": "[encoded data removed]",
      "text/plain": [
       "<Figure size 1000x1000 with 9 Axes>"
      ]
     },
     "metadata": {},
     "output_type": "display_data"
    }
   ],
   "source": [
    "fig, axs = plt.subplots(3, 3, figsize=(10,10))\n",
    "for i in range(3):\n",
    "    for j in range(3):\n",
    "        axs[i][j].imshow(X_train[3 * i + j], cmap=\"gray_r\")\n",
    "\n",
    "        axs[i][j].axis(\"off\")\n",
    "plt.show()"
   ]
  },
  {
   "cell_type": "code",
   "execution_count": 30,
   "id": "7b8cba1f-b683-4409-8d7d-df18053a0b41",
   "metadata": {},
   "outputs": [
    {
     "data": {
      "text/plain": [
       "array([9, 0, 0, 3, 0, 2, 7, 2, 5, 5], dtype=uint8)"
      ]
     },
     "execution_count": 30,
     "metadata": {},
     "output_type": "execute_result"
    }
   ],
   "source": [
    "y_train[:10]"
   ]
  },
  {
   "cell_type": "code",
   "execution_count": 36,
   "id": "dc1dbf82-d804-4d9f-8037-3ff0e84243c2",
   "metadata": {},
   "outputs": [
    {
     "data": {
      "text/plain": [
       "(array([0, 1, 2, 3, 4, 5, 6, 7, 8, 9], dtype=uint8),\n",
       " array([6000, 6000, 6000, 6000, 6000, 6000, 6000, 6000, 6000, 6000],\n",
       "       dtype=int64))"
      ]
     },
     "execution_count": 36,
     "metadata": {},
     "output_type": "execute_result"
    }
   ],
   "source": [
    "np.unique(y_train, return_counts=True)"
   ]
  },
  {
   "cell_type": "markdown",
   "id": "e8b003f4-b9bd-45bf-a236-c4b62b4eed1b",
   "metadata": {},
   "source": [
    "# 이미지 스케일링 처리하기"
   ]
  },
  {
   "cell_type": "code",
   "execution_count": 42,
   "id": "7c9952eb-f372-427e-a03f-748735a2c5a1",
   "metadata": {},
   "outputs": [
    {
     "data": {
      "text/plain": [
       "((60000, 28, 28), (10000, 28, 28))"
      ]
     },
     "execution_count": 42,
     "metadata": {},
     "output_type": "execute_result"
    }
   ],
   "source": [
    "X_train_scaled = X_train / 255.0\n",
    "X_test_scaled = X_test / 255.0\n",
    "X_train_scaled.shape, X_test_scaled.shape"
   ]
  },
  {
   "cell_type": "markdown",
   "id": "af0b89ae-95e9-488f-bdea-40375925f3bc",
   "metadata": {},
   "source": [
    "# 독립변수를 2차원으로 변환하기"
   ]
  },
  {
   "cell_type": "code",
   "execution_count": 46,
   "id": "9048d830-a722-4978-90b6-13e62821f5e8",
   "metadata": {},
   "outputs": [],
   "source": [
    "# - reshape() : 차원 변경 reshape(행, 열), -1은 행 전체를 의미\n",
    "X_train_scaled_2d = X_train_scaled.reshape(-1, 28*28)\n",
    "X_test_scaled_2d = X_test_scaled.reshape(-1, 28*28)"
   ]
  },
  {
   "cell_type": "code",
   "execution_count": 48,
   "id": "07fe432a-a600-4638-b927-67da7ff6aa09",
   "metadata": {},
   "outputs": [
    {
     "data": {
      "text/plain": [
       "((48000, 784), (12000, 784), (48000,), (12000,))"
      ]
     },
     "execution_count": 48,
     "metadata": {},
     "output_type": "execute_result"
    }
   ],
   "source": [
    "X_train_scaled_2d, X_val_scaled_2d, y_train, y_val  = train_test_split(X_train_scaled_2d, y_train, random_state=42, test_size=0.2)"
   ]
  },
  {
   "cell_type": "code",
   "execution_count": 49,
   "id": "37f2c051-293e-4f86-af9d-73d7943d0cfa",
   "metadata": {},
   "outputs": [
    {
     "data": {
      "text/plain": [
       "((48000, 784), (12000, 784), (10000, 784), (48000,), (12000,), (10000,))"
      ]
     },
     "execution_count": 49,
     "metadata": {},
     "output_type": "execute_result"
    }
   ],
   "source": [
    "X_train_scaled_2d.shape, X_val_scaled_2d.shape, X_test_scaled_2d.shape, y_train.shape, y_val.shape, y_test.shape"
   ]
  },
  {
   "cell_type": "markdown",
   "id": "eb5175c4-a445-42b8-aca3-45075f464421",
   "metadata": {},
   "source": [
    "# 인공신경망 모델 생성하기"
   ]
  },
  {
   "cell_type": "code",
   "execution_count": null,
   "id": "04dd2ff2-86e5-4bb2-902d-12c5cd52625a",
   "metadata": {},
   "outputs": [],
   "source": [
    "\"\"\"\n",
    "<훈련 순서>\n",
    " 1. 모델 생성(딥러닝에서의 모델은 껍데기일 뿐...)\n",
    " 2. 신경망 계층(Layer) 생성 (1번과 2번은 순서가 바뀔 수 있음)\n",
    " 3. 모델 환경 설정(손실을 줄이기 위한 방법 설정)\n",
    " 4. 모델 훈련시키기(fit)\n",
    " 5. 모델 성능 검증하기(평가)\n",
    "    --> 성능 검증 결과 : \"손실율\"과 \"정확도\" 두가지 값을 반환받아서 확인하게 됩니다.\n",
    "    *** 딥러닝에서는 정확도보다 손실율을 우선시 합니다.\n",
    "        --> 스스로 반복 훈련을 하는 이유는 손실이 작을 때까지를 찾기 위함입니다.\n",
    "        \n",
    "<성능 개선 방법>\n",
    " - 데이터 양을 늘리기\n",
    "   (딥러닝에서는 데이터의 양이 성능에 크게 좌우됩니다.)\n",
    " - 하이퍼파라메터 튜닝\n",
    " - 계층(Layer) 추가 또는 삭제\n",
    "\"\"\""
   ]
  },
  {
   "cell_type": "code",
   "execution_count": null,
   "id": "6f14d40f-6f4b-4574-b4b8-8d6d6bc44bca",
   "metadata": {},
   "outputs": [],
   "source": [
    "\"\"\"\n",
    "<신경망 종류>\n",
    " - 인공신경망, 심층신경망\n",
    "\n",
    "(인공신경망)\n",
    " - 계층을 1개 또는 2개를 사용함\n",
    " - 1개인 계층 : 입력(Input)과 출력(Output)을 동시에 담당하는 계층\n",
    " - 2개인 계층 : 입력계층(Input Layer)과, 출력계층(Output Layer) 2개 사용됨\n",
    " \n",
    "(심층 인공신경망)\n",
    " - 계층이 3개 이상 사용함\n",
    " - 첫번째 계층 : 입력계층(Input Layer)\n",
    " - 마지막 계층 : 출력계층(Output Layer)\n",
    " - 중간계층    : 은닉계층(Hidden Layer)\n",
    "                (히든 계층이라고도 칭함, 여러개 계층 존재 가능)\n",
    "\n",
    "<계층>\n",
    " - 계층은 여러 계층이 존재함\n",
    " - 훈련에 참여하는 계층과 훈련에 참여하지 않는 계층(전처리 계층)으로 구분합니다.\n",
    " - 훈련에 참여하는 계층은 주로 Dense()로 생성이 되며,\n",
    " - 훈련에 참여하지 않는 계층을 \"전처리 계층\" 이라고 합니다.\n",
    "\"\"\""
   ]
  },
  {
   "cell_type": "code",
   "execution_count": 108,
   "id": "20d2cd1a-b5f7-4bf0-b1ae-8ebf6d0acfd5",
   "metadata": {},
   "outputs": [],
   "source": [
    "# 모델 안에서 사용할 레이어\n",
    "# 성능에 영향을 미치는 Dense() 계층 추가\n",
    "# - 입력계층에 사용되는 input_shape()와, 출력계층에 사용되는 softmax 활성화 함수를\n",
    "#   동시에 사용하였기에, --> 해당 모델은 1개의 계층을 입력과 출력을 모두 담당하는 계층으로 해석됨\n",
    "dense = keras.layers.Dense(units=10,\n",
    "                           kernel_initializer=\"uniform\",\n",
    "                           activation=\"softmax\",\n",
    "                           input_shape=(784, ))"
   ]
  },
  {
   "cell_type": "code",
   "execution_count": 92,
   "id": "78058dcb-ed79-4704-b3f9-dd0a516b3dc8",
   "metadata": {},
   "outputs": [
    {
     "data": {
      "text/plain": [
       "<keras.engine.sequential.Sequential at 0x2900e7309d0>"
      ]
     },
     "execution_count": 92,
     "metadata": {},
     "output_type": "execute_result"
    }
   ],
   "source": [
    "# 모델 생성\n",
    "model = keras.Sequential(dense)\n",
    "model"
   ]
  },
  {
   "cell_type": "markdown",
   "id": "84b5f908-f89c-4cb9-b288-31e49d7fe4bd",
   "metadata": {},
   "source": [
    "# 계층 추가하기"
   ]
  },
  {
   "cell_type": "code",
   "execution_count": 93,
   "id": "516adb10-a7c9-4aeb-a979-2ffdaaa8ddc0",
   "metadata": {},
   "outputs": [
    {
     "data": {
      "text/plain": [
       "'\\n - Dense() : 딥러닝에서 사용되는 가장 기본적인 계층(클래스), \\n           : 훈련에 참여하는 계층(성능에 영향을 미침)\\n           \\n - units : 출력의 갯수를 정의함. 즉, 범주의 갯수를 의미함(범주 10개)\\n         : units 속성은 출력계층(Output Layer)에 정의됩니다.\\n         : units이라는 이름은 생략가능\\n           (단, 입력과 출력계층을 동시에 사용되는 경우에는 생략하면 안됨)\\n \\n - kernel_initializer : 성능을 높이기 위해 가중치를 초기화하는 방법 지정\\n   -- 가중치 : (경사하강법에 의한 손실)손실을 최소화 하기위해, 모델이 훈련을 반복하는 과정에서\\n              스스로 성능을 높이기 위해 조정하는 값을 의미함\\n   (가중치 초기화 방법)\\n    -- uniform : 균일 분포 방법(훈련 반복 시에 균일하게 가중치를 부여함)\\n    -- normal  : 가우시안 분포(정규분포) 방법\\n                (훈련 반복 시에 정규분포를 고려하여 가중치를 부여함)\\n    -- 초기화 방법은 사람이 정의하지만, 훈련 반복중에 사용되는 가중치 값은\\n       모델 스스로 사용하게 됨(사람이 관여하지 못함)\\n       \\n- activation : \"활성화 함수\"라고 칭합니다.\\n  -- 훈련 시 입력된 특성의 갯수를, 어떤 형태의 크기(범주의 갯수)로 변환할지를 \\n     결정하는 방법을 제시함(이 방법을 함수로 칭합니다.)\\n  \\n  -- 주로 출력계층(Output Layer)에 적용됩니다. \\n     (은닉계층이 있는 경우에는 은닉계층에도 적용됩니다.)\\n  -- 활성화 함수는 범주의 갯수(종속변수의 갯수)에 따라서 결정됩니다.\\n  (활성화 함수 분류 방법)\\n   * 회귀분석의 경우 : linear 사용 (디폴트 값으로 사용됨)\\n      - 출력계층에 주로 사용됨\\n      \\n   * 분류분석의 경우(이진분류) : sigmoid, relu, tanh, ReakyRelu 중에 사용\\n                             : (0과 1 둘중 하나 선택)\\n       - sigmoid : 출력 또는 은닉계층에 주로 사용됨(주로 출력)\\n       - relu : 출력 또는 은닉계층에 주로 사용됨(주로 은닉)\\n       - tanh : 은닉계층에 주로 사용됨\\n       - ReakyRelu : 출력 또는 은닉계층에 주로 사용됨(주로 은닉)\\n       \\n       \\n      (이진분류 활설화 함수)\\n       * sigmoid\\n         - 보통 출력계층(가장 마지막 계층)에 주로 사용됩니다.\\n         - 단점, 오른쪽과 왼쪽 끝으로 갈수록 그래프가 누워있기 때문에\\n                 올바른 출력을 만드는데 어려움이 있음\\n               , 이는 훈련을 거듭할 수록 누적되기에 성능이 좋아지지 않은 경향을 보임\\n       * relu\\n         - sigmoid의 50% 시점으로 분류하지 않고,\\n           0을 기준으로 0과 1로 분류함(단점을 보완)\\n         - 기울기가 급함(완만함을 보완하였음)\\n       * 나머지 : relu를 보완한 향상된 함수\\n       \\n   * 분류분석의 경우(다중분류) : softmax (여러 범주 중 하나 선택) \\n\\n- input_shape : 입력할 특성(뉴런, 컴럼, 퓨처)의 갯수를 정의함\\n              : 주로 입력계층(Input Layer)에 사용됨\\n'"
      ]
     },
     "execution_count": 93,
     "metadata": {},
     "output_type": "execute_result"
    }
   ],
   "source": [
    "\"\"\"\n",
    " - Dense() : 딥러닝에서 사용되는 가장 기본적인 계층(클래스), \n",
    "           : 훈련에 참여하는 계층(성능에 영향을 미침)\n",
    "           \n",
    " - units : 출력의 갯수를 정의함. 즉, 범주의 갯수를 의미함(범주 10개)\n",
    "         : units 속성은 출력계층(Output Layer)에 정의됩니다.\n",
    "         : units이라는 이름은 생략가능\n",
    "           (단, 입력과 출력계층을 동시에 사용되는 경우에는 생략하면 안됨)\n",
    " \n",
    " - kernel_initializer : 성능을 높이기 위해 가중치를 초기화하는 방법 지정\n",
    "   -- 가중치 : (경사하강법에 의한 손실)손실을 최소화 하기위해, 모델이 훈련을 반복하는 과정에서\n",
    "              스스로 성능을 높이기 위해 조정하는 값을 의미함\n",
    "   (가중치 초기화 방법)\n",
    "    -- uniform : 균일 분포 방법(훈련 반복 시에 균일하게 가중치를 부여함)\n",
    "    -- normal  : 가우시안 분포(정규분포) 방법\n",
    "                (훈련 반복 시에 정규분포를 고려하여 가중치를 부여함)\n",
    "    -- 초기화 방법은 사람이 정의하지만, 훈련 반복중에 사용되는 가중치 값은\n",
    "       모델 스스로 사용하게 됨(사람이 관여하지 못함)\n",
    "       \n",
    "- activation : \"활성화 함수\"라고 칭합니다.\n",
    "  -- 훈련 시 입력된 특성의 갯수를, 어떤 형태의 크기(범주의 갯수)로 변환할지를 \n",
    "     결정하는 방법을 제시함(이 방법을 함수로 칭합니다.)\n",
    "  \n",
    "  -- 주로 출력계층(Output Layer)에 적용됩니다. \n",
    "     (은닉계층이 있는 경우에는 은닉계층에도 적용됩니다.)\n",
    "  -- 활성화 함수는 범주의 갯수(종속변수의 갯수)에 따라서 결정됩니다.\n",
    "  (활성화 함수 분류 방법)\n",
    "   * 회귀분석의 경우 : linear 사용 (디폴트 값으로 사용됨)\n",
    "      - 출력계층에 주로 사용됨\n",
    "      \n",
    "   * 분류분석의 경우(이진분류) : sigmoid, relu, tanh, ReakyRelu 중에 사용\n",
    "                             : (0과 1 둘중 하나 선택)\n",
    "       - sigmoid : 출력 또는 은닉계층에 주로 사용됨(주로 출력)\n",
    "       - relu : 출력 또는 은닉계층에 주로 사용됨(주로 은닉)\n",
    "       - tanh : 은닉계층에 주로 사용됨\n",
    "       - ReakyRelu : 출력 또는 은닉계층에 주로 사용됨(주로 은닉)\n",
    "       \n",
    "       \n",
    "      (이진분류 활설화 함수)\n",
    "       * sigmoid\n",
    "         - 보통 출력계층(가장 마지막 계층)에 주로 사용됩니다.\n",
    "         - 단점, 오른쪽과 왼쪽 끝으로 갈수록 그래프가 누워있기 때문에\n",
    "                 올바른 출력을 만드는데 어려움이 있음\n",
    "               , 이는 훈련을 거듭할 수록 누적되기에 성능이 좋아지지 않은 경향을 보임\n",
    "       * relu\n",
    "         - sigmoid의 50% 시점으로 분류하지 않고,\n",
    "           0을 기준으로 0과 1로 분류함(단점을 보완)\n",
    "         - 기울기가 급함(완만함을 보완하였음)\n",
    "       * 나머지 : relu를 보완한 향상된 함수\n",
    "       \n",
    "   * 분류분석의 경우(다중분류) : softmax (여러 범주 중 하나 선택) \n",
    "\n",
    "- input_shape : 입력할 특성(뉴런, 컴럼, 퓨처)의 갯수를 정의함\n",
    "              : 주로 입력계층(Input Layer)에 사용됨\n",
    "\"\"\""
   ]
  },
  {
   "cell_type": "code",
   "execution_count": 94,
   "id": "5336153b-0879-4cd5-a5a2-c14bbf8ec5ef",
   "metadata": {},
   "outputs": [
    {
     "data": {
      "text/plain": [
       "'\\n - compile() : 손실을 줄이기 위한 방법을 설정하는 함수\\n - loss : 손실을 줄이기 위해 사용되는 함수 설정(손실함수라고 칭합니다.)\\n        : 손실함수에는 categorical_crossentropy, sparse_categorical_crossentropy,\\n          binary_crossentropy가 있습니다.\\n (손실함수)\\n  * categorical_crossentropy\\n   - 다중분류에 사용됨\\n   - 단, 종속변수 값의 형태가 원-핫인코딩된 데이터인 경우에 사용됩니다.\\n   - 원-핫인코딩 종속변수 형태 : [[0, 0, 1], [0, 1, 0], [1, 0, 0] ...]\\n  \\n  * sparse_categorical_crossentropy\\n   - 다중분류에 사용됨(주로 사용됨)\\n   - 종속변수 형태 : [0, 1, 2, 3, 4, 5, 6, 7, 8, 9, ...]\\n \\n  * binary_crossentropy\\n   - 이진분류에 사용됨\\n   - 종속변수 형태 : [0, 1, 1, 0, 0, 1...]\\n   \\n- metrics : 훈련시 출력할 값 -> 정확도 값 출력(손실률은 기본적으로 출력됨)\\n'"
      ]
     },
     "execution_count": 94,
     "metadata": {},
     "output_type": "execute_result"
    }
   ],
   "source": [
    "\"\"\"\n",
    " - compile() : 손실을 줄이기 위한 방법을 설정하는 함수\n",
    " - loss : 손실을 줄이기 위해 사용되는 함수 설정(손실함수라고 칭합니다.)\n",
    "        : 손실함수에는 categorical_crossentropy, sparse_categorical_crossentropy,\n",
    "          binary_crossentropy가 있습니다.\n",
    " (손실함수)\n",
    "  * categorical_crossentropy\n",
    "   - 다중분류에 사용됨\n",
    "   - 단, 종속변수 값의 형태가 원-핫인코딩된 데이터인 경우에 사용됩니다.\n",
    "   - 원-핫인코딩 종속변수 형태 : [[0, 0, 1], [0, 1, 0], [1, 0, 0] ...]\n",
    "  \n",
    "  * sparse_categorical_crossentropy\n",
    "   - 다중분류에 사용됨(주로 사용됨)\n",
    "   - 종속변수 형태 : [0, 1, 2, 3, 4, 5, 6, 7, 8, 9, ...]\n",
    " \n",
    "  * binary_crossentropy\n",
    "   - 이진분류에 사용됨\n",
    "   - 종속변수 형태 : [0, 1, 1, 0, 0, 1...]\n",
    "   \n",
    "- metrics : 훈련시 출력할 값 -> 정확도 값 출력(손실률은 기본적으로 출력됨)\n",
    "\"\"\""
   ]
  },
  {
   "cell_type": "code",
   "execution_count": 95,
   "id": "a167124d-0454-4c66-ab54-6bfb7693189a",
   "metadata": {},
   "outputs": [],
   "source": [
    "# 모델 환경 설정\n",
    "model.compile(\n",
    "    loss=\"sparse_categorical_crossentropy\",    # 손실함수 정의(종속변수의 형태에 따라 다름)\n",
    "    metrics=\"accuracy\"    # 훈련시 출력 내용\n",
    ")"
   ]
  },
  {
   "cell_type": "code",
   "execution_count": 96,
   "id": "17d07616-a325-4a29-a873-29cfd2ab5d67",
   "metadata": {
    "scrolled": true
   },
   "outputs": [
    {
     "name": "stdout",
     "output_type": "stream",
     "text": [
      "Epoch 1/5\n",
      "1500/1500 [==============================] - 2s 1ms/step - loss: 0.6037 - accuracy: 0.7976\n",
      "Epoch 2/5\n",
      "1500/1500 [==============================] - 2s 1ms/step - loss: 0.4769 - accuracy: 0.8394\n",
      "Epoch 3/5\n",
      "1500/1500 [==============================] - 2s 1ms/step - loss: 0.4552 - accuracy: 0.8477\n",
      "Epoch 4/5\n",
      "1500/1500 [==============================] - 2s 1ms/step - loss: 0.4425 - accuracy: 0.8538\n",
      "Epoch 5/5\n",
      "1500/1500 [==============================] - 2s 1ms/step - loss: 0.4348 - accuracy: 0.8554\n"
     ]
    },
    {
     "data": {
      "text/plain": [
       "<keras.callbacks.History at 0x2909361ef10>"
      ]
     },
     "execution_count": 96,
     "metadata": {},
     "output_type": "execute_result"
    }
   ],
   "source": [
    "# fit()은 한번만 수행..\n",
    "# 두번 이상 fit()을 수행하면 연속해서 훈현이 진행됨\n",
    "# - epochs : 훈련 반복 횟수 (스스로 설정된 값들을 기준으로 손실을 줄여 나가면서 반복)\n",
    "#          : 훈련 횟수의 많고 적음에 따라 모델 선능이 좌우\n",
    "# - epochs는 모델 성능에 영향을 미치기에 하이퍼파라미터 중 하나이다.\n",
    "model.fit(X_train_scaled_2d, y_train, epochs=5)"
   ]
  },
  {
   "cell_type": "markdown",
   "id": "fd92bf9d-ee67-493c-b23b-9c56f3bb91de",
   "metadata": {},
   "source": [
    "# 모델 성능 검증 (평가)"
   ]
  },
  {
   "cell_type": "code",
   "execution_count": 97,
   "id": "c6668622-a82c-4084-824e-617941ba6cda",
   "metadata": {},
   "outputs": [
    {
     "name": "stdout",
     "output_type": "stream",
     "text": [
      "375/375 [==============================] - 1s 1ms/step - loss: 0.4577 - accuracy: 0.8475\n"
     ]
    }
   ],
   "source": [
    "# ecaluate() : 검증데이터를 이용하여 손실 및 정확도를 확인\n",
    "# - 반환값 : 손실률, 정확도\n",
    "score_list = model.evaluate(X_val_scaled_2d, y_val)"
   ]
  },
  {
   "cell_type": "code",
   "execution_count": 98,
   "id": "3b642905-2ee2-4211-bcc1-97b16daa5418",
   "metadata": {},
   "outputs": [
    {
     "name": "stdout",
     "output_type": "stream",
     "text": [
      "손실율 : 0.45768600702285767, 정확도 : 0.8475000262260437\n"
     ]
    }
   ],
   "source": [
    "print(f\"손실율 : {score_list[0]}, 정확도 : {score_list[1]}\")"
   ]
  },
  {
   "cell_type": "code",
   "execution_count": 99,
   "id": "3f23408f-404f-416f-944c-9918daa35293",
   "metadata": {},
   "outputs": [
    {
     "name": "stdout",
     "output_type": "stream",
     "text": [
      "Model: \"sequential_7\"\n",
      "_________________________________________________________________\n",
      " Layer (type)                Output Shape              Param #   \n",
      "=================================================================\n",
      " dense_8 (Dense)             (None, 10)                7850      \n",
      "                                                                 \n",
      "=================================================================\n",
      "Total params: 7,850\n",
      "Trainable params: 7,850\n",
      "Non-trainable params: 0\n",
      "_________________________________________________________________\n"
     ]
    }
   ],
   "source": [
    "model.summary()\n",
    "\n",
    "# Model: \"sequential_4\" : 모델 이름(임의로 정해짐)\n",
    "# Layer (type): 계층 이름(클래스 이름이 그대로 사용됨)\n",
    "# Output Shape: 출력 크기(갯수)\n",
    "# Param: 훈련 중에 사용된 특성의 총 갯수\n",
    "# param 계산법 : 모델이 알아서 계산함\n",
    "#         공식 : (임력의 갯수 + 1) * 출력 갯수\n",
    "#         7850 = (784 + 1) * 10"
   ]
  },
  {
   "cell_type": "markdown",
   "id": "300e1296-87de-494c-a561-2f1513160587",
   "metadata": {},
   "source": [
    "# 은닉계층(hidden layer) 추가하기"
   ]
  },
  {
   "cell_type": "code",
   "execution_count": 100,
   "id": "1a9e09a9-0727-4dbd-a18e-140a0e4ddbc3",
   "metadata": {},
   "outputs": [],
   "source": [
    "# 이미 존재하는 모델에 계층을 추가할 때 add()를 통해 추가\n",
    "model.add(\n",
    "    keras.layers.Dense(\n",
    "        units=10,\n",
    "        kernel_initializer=\"uniform\",\n",
    "        activation=\"relu\",\n",
    "        input_shape=(784, ))\n",
    ")"
   ]
  },
  {
   "cell_type": "code",
   "execution_count": 101,
   "id": "727537ac-dff9-45ee-b5eb-51c899f31afc",
   "metadata": {},
   "outputs": [
    {
     "name": "stdout",
     "output_type": "stream",
     "text": [
      "Model: \"sequential_7\"\n",
      "_________________________________________________________________\n",
      " Layer (type)                Output Shape              Param #   \n",
      "=================================================================\n",
      " dense_8 (Dense)             (None, 10)                7850      \n",
      "                                                                 \n",
      " dense_9 (Dense)             (None, 10)                110       \n",
      "                                                                 \n",
      "=================================================================\n",
      "Total params: 7,960\n",
      "Trainable params: 7,960\n",
      "Non-trainable params: 0\n",
      "_________________________________________________________________\n"
     ]
    }
   ],
   "source": [
    "model.summary()"
   ]
  },
  {
   "cell_type": "code",
   "execution_count": 102,
   "id": "ad7e9827-d92f-46ab-b78a-0d40643337fe",
   "metadata": {
    "scrolled": true
   },
   "outputs": [
    {
     "name": "stdout",
     "output_type": "stream",
     "text": [
      "Epoch 1/5\n",
      "1500/1500 [==============================] - 2s 1ms/step - loss: 0.4306 - accuracy: 0.8563\n",
      "Epoch 2/5\n",
      "1500/1500 [==============================] - 2s 1ms/step - loss: 0.4266 - accuracy: 0.8585\n",
      "Epoch 3/5\n",
      "1500/1500 [==============================] - 2s 1ms/step - loss: 0.4241 - accuracy: 0.8595\n",
      "Epoch 4/5\n",
      "1500/1500 [==============================] - 2s 1ms/step - loss: 0.4203 - accuracy: 0.8623\n",
      "Epoch 5/5\n",
      "1500/1500 [==============================] - 2s 1ms/step - loss: 0.4181 - accuracy: 0.8625\n"
     ]
    },
    {
     "data": {
      "text/plain": [
       "<keras.callbacks.History at 0x2909fe34250>"
      ]
     },
     "execution_count": 102,
     "metadata": {},
     "output_type": "execute_result"
    }
   ],
   "source": [
    "model.fit(X_train_scaled_2d, y_train, epochs=5)"
   ]
  },
  {
   "cell_type": "code",
   "execution_count": 104,
   "id": "9940d31b-a8cc-44b1-98e1-e19a3bd9bc59",
   "metadata": {},
   "outputs": [
    {
     "name": "stdout",
     "output_type": "stream",
     "text": [
      "375/375 [==============================] - 0s 1ms/step - loss: 0.4549 - accuracy: 0.8499\n"
     ]
    },
    {
     "data": {
      "text/plain": [
       "[0.4548697769641876, 0.8499166369438171]"
      ]
     },
     "execution_count": 104,
     "metadata": {},
     "output_type": "execute_result"
    }
   ],
   "source": [
    "model.evaluate(X_val_scaled_2d, y_val)"
   ]
  },
  {
   "cell_type": "code",
   "execution_count": 105,
   "id": "6e0c62ed-e020-4e61-ad0b-ddd3fa8da96c",
   "metadata": {},
   "outputs": [
    {
     "name": "stdout",
     "output_type": "stream",
     "text": [
      "313/313 [==============================] - 1s 3ms/step - loss: 7.9036 - accuracy: 0.0949\n"
     ]
    },
    {
     "data": {
      "text/plain": [
       "[7.9036078453063965, 0.09489999711513519]"
      ]
     },
     "execution_count": 105,
     "metadata": {},
     "output_type": "execute_result"
    }
   ],
   "source": [
    "model.evaluate(X_test_scaled_2d, y_test)"
   ]
  },
  {
   "cell_type": "code",
   "execution_count": null,
   "id": "760836e3-82b4-4252-984a-5d9a1a8e5460",
   "metadata": {},
   "outputs": [],
   "source": []
  }
 ],
 "metadata": {
  "kernelspec": {
   "display_name": "dg_env_dl_kernel",
   "language": "python",
   "name": "dg_env_dl"
  },
  "language_info": {
   "codemirror_mode": {
    "name": "ipython",
    "version": 3
   },
   "file_extension": ".py",
   "mimetype": "text/x-python",
   "name": "python",
   "nbconvert_exporter": "python",
   "pygments_lexer": "ipython3",
   "version": "3.9.15"
  }
 },
 "nbformat": 4,
 "nbformat_minor": 5
}
